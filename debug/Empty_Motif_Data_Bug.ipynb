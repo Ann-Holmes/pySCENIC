{
 "cells": [
  {
   "cell_type": "markdown",
   "metadata": {},
   "source": [
    "# Empty Motif Data Bug"
   ]
  },
  {
   "cell_type": "code",
   "execution_count": 1,
   "metadata": {},
   "outputs": [
    {
     "name": "stdout",
     "output_type": "stream",
     "text": [
      "/ddn1/vol1/staging/leuven/stg_00002/lcb/dwmax/documents/aertslab/GitHub/pySCENIC/debug\n"
     ]
    }
   ],
   "source": [
    "!readlink -f ."
   ]
  },
  {
   "cell_type": "code",
   "execution_count": null,
   "metadata": {},
   "outputs": [],
   "source": [
    "from pyscenic.transc"
   ]
  },
  {
   "cell_type": "markdown",
   "metadata": {},
   "source": [
    "Code for debugging the empty motifData bug. See https://github.com/aertslab/pySCENIC/issues/70"
   ]
  },
  {
   "cell_type": "code",
   "execution_count": null,
   "metadata": {},
   "outputs": [],
   "source": [
    "import os\n",
    "import pandas as pd\n",
    "from pyscenic.transform import df2regulons as df2regs\n",
    "# from pyscenic.cli import pyscenic\n",
    "from typing import Type, Sequence, Optional\n",
    "from pyscenic.genesig import Regulon\n",
    "from functools import reduce\n",
    "import math\n",
    "COLUMN_NAME_NES = \"NES\"\n",
    "COLUMN_NAME_AUC = \"AUC\"\n",
    "COLUMN_NAME_CONTEXT = \"Context\"\n",
    "COLUMN_NAME_TARGET_GENES = \"TargetGenes\"\n",
    "COLUMN_NAME_RANK_AT_MAX = \"RankAtMax\"\n",
    "COLUMN_NAME_TYPE = \"Type\"\n",
    "COLUMN_NAME_TF = 'TF'\n",
    "COLUMN_NAME_ANNOTATION = 'Annotation'\n",
    "COLUMN_NAME_MOTIF_ID = 'MotifID'\n",
    "REPRESSING_MODULE = 'repressing'\n",
    "ACTIVATING_MODULE = 'activating'\n",
    "COLUMN_NAME_MOTIF_SIMILARITY_QVALUE = 'MotifSimilarityQvalue'\n",
    "COLUMN_NAME_ORTHOLOGOUS_IDENTITY = 'OrthologousIdentity'"
   ]
  },
  {
   "cell_type": "code",
   "execution_count": 3,
   "metadata": {},
   "outputs": [],
   "source": [
    "FILE_EXTENSION2SEPARATOR = {\n",
    "    '.tsv': '\\t',\n",
    "    '.csv': ','\n",
    "}"
   ]
  },
  {
   "cell_type": "code",
   "execution_count": 4,
   "metadata": {},
   "outputs": [],
   "source": [
    "def read_motifs_enriched_table(fname):\n",
    "    ext = os.path.splitext(fname,)[1]\n",
    "    df = pd.read_csv(fname, sep=FILE_EXTENSION2SEPARATOR[ext], index_col=[0,1], header=[0,1], skipinitialspace=True)\n",
    "    df[('Enrichment', 'Context')] = df[('Enrichment', 'Context')].apply(lambda s: eval(s))\n",
    "    df[('Enrichment', 'TargetGenes')] = df[('Enrichment', 'TargetGenes')].apply(lambda s: eval(s))\n",
    "    return df"
   ]
  },
  {
   "cell_type": "code",
   "execution_count": 5,
   "metadata": {},
   "outputs": [],
   "source": [
    "df = read_motifs_enriched_table(\"/ddn1/vol1/staging/leuven/stg_00002/lcb/dwmax/documents/aertslab/REW/10x/exp/ih/combined/20181123/fb.r6_16.xk/10x_REW/results/pySCENIC/Filtered_Raw_Matrix_MultiRuns/scenic/run_1/reg.csv\")"
   ]
  },
  {
   "cell_type": "code",
   "execution_count": 6,
   "metadata": {},
   "outputs": [
    {
     "data": {
      "text/html": [
       "<div>\n",
       "<style scoped>\n",
       "    .dataframe tbody tr th:only-of-type {\n",
       "        vertical-align: middle;\n",
       "    }\n",
       "\n",
       "    .dataframe tbody tr th {\n",
       "        vertical-align: top;\n",
       "    }\n",
       "\n",
       "    .dataframe thead tr th {\n",
       "        text-align: left;\n",
       "    }\n",
       "\n",
       "    .dataframe thead tr:last-of-type th {\n",
       "        text-align: right;\n",
       "    }\n",
       "</style>\n",
       "<table border=\"1\" class=\"dataframe\">\n",
       "  <thead>\n",
       "    <tr>\n",
       "      <th></th>\n",
       "      <th></th>\n",
       "      <th colspan=\"8\" halign=\"left\">Enrichment</th>\n",
       "    </tr>\n",
       "    <tr>\n",
       "      <th></th>\n",
       "      <th></th>\n",
       "      <th>AUC</th>\n",
       "      <th>Annotation</th>\n",
       "      <th>Context</th>\n",
       "      <th>MotifSimilarityQvalue</th>\n",
       "      <th>NES</th>\n",
       "      <th>OrthologousIdentity</th>\n",
       "      <th>RankAtMax</th>\n",
       "      <th>TargetGenes</th>\n",
       "    </tr>\n",
       "    <tr>\n",
       "      <th>TF</th>\n",
       "      <th>MotifID</th>\n",
       "      <th></th>\n",
       "      <th></th>\n",
       "      <th></th>\n",
       "      <th></th>\n",
       "      <th></th>\n",
       "      <th></th>\n",
       "      <th></th>\n",
       "      <th></th>\n",
       "    </tr>\n",
       "  </thead>\n",
       "  <tbody>\n",
       "    <tr>\n",
       "      <th rowspan=\"5\" valign=\"top\">Atf3</th>\n",
       "      <th>taipale__JDP2_full_NATGACGTCAYN</th>\n",
       "      <td>0.064482</td>\n",
       "      <td>gene is annotated for similar motif transfac_p...</td>\n",
       "      <td>(dm6-5kb-upstream-full-tx-11species, weight&gt;75...</td>\n",
       "      <td>0.000002</td>\n",
       "      <td>4.566469</td>\n",
       "      <td>1.0</td>\n",
       "      <td>3391</td>\n",
       "      <td>[(LamC, 0.4272245628726853), (CrebB, 3.0106320...</td>\n",
       "    </tr>\n",
       "    <tr>\n",
       "      <th>transfac_pro__M01186</th>\n",
       "      <td>0.060153</td>\n",
       "      <td>gene is annotated for similar motif transfac_p...</td>\n",
       "      <td>(dm6-5kb-upstream-full-tx-11species, weight&gt;75...</td>\n",
       "      <td>0.000101</td>\n",
       "      <td>3.739763</td>\n",
       "      <td>1.0</td>\n",
       "      <td>2119</td>\n",
       "      <td>[(Proc, 0.4272245628726853), (LamC, 3.01063207...</td>\n",
       "    </tr>\n",
       "    <tr>\n",
       "      <th>transfac_public__M00178</th>\n",
       "      <td>0.058939</td>\n",
       "      <td>gene is annotated for similar motif transfac_p...</td>\n",
       "      <td>(dm6-5kb-upstream-full-tx-11species, weight&gt;75...</td>\n",
       "      <td>0.000086</td>\n",
       "      <td>3.507823</td>\n",
       "      <td>1.0</td>\n",
       "      <td>2143</td>\n",
       "      <td>[(CG10960, 0.4272245628726853), (LamC, 3.01063...</td>\n",
       "    </tr>\n",
       "    <tr>\n",
       "      <th>elemento__TGACGTCA</th>\n",
       "      <td>0.059298</td>\n",
       "      <td>gene is annotated for similar motif transfac_p...</td>\n",
       "      <td>(dm6-5kb-upstream-full-tx-11species, weight&gt;75...</td>\n",
       "      <td>0.000136</td>\n",
       "      <td>3.576546</td>\n",
       "      <td>1.0</td>\n",
       "      <td>2186</td>\n",
       "      <td>[(Gprk2, 0.4272245628726853), (LamC, 3.0106320...</td>\n",
       "    </tr>\n",
       "    <tr>\n",
       "      <th>cisbp__M4307</th>\n",
       "      <td>0.060558</td>\n",
       "      <td>gene is annotated for similar motif transfac_p...</td>\n",
       "      <td>(dm6-5kb-upstream-full-tx-11species, weight&gt;75...</td>\n",
       "      <td>0.000577</td>\n",
       "      <td>3.817196</td>\n",
       "      <td>1.0</td>\n",
       "      <td>2139</td>\n",
       "      <td>[(cbt, 0.4272245628726853), (ush, 3.0106320782...</td>\n",
       "    </tr>\n",
       "  </tbody>\n",
       "</table>\n",
       "</div>"
      ],
      "text/plain": [
       "                                     Enrichment  \\\n",
       "                                            AUC   \n",
       "TF   MotifID                                      \n",
       "Atf3 taipale__JDP2_full_NATGACGTCAYN   0.064482   \n",
       "     transfac_pro__M01186              0.060153   \n",
       "     transfac_public__M00178           0.058939   \n",
       "     elemento__TGACGTCA                0.059298   \n",
       "     cisbp__M4307                      0.060558   \n",
       "\n",
       "                                                                                         \\\n",
       "                                                                             Annotation   \n",
       "TF   MotifID                                                                              \n",
       "Atf3 taipale__JDP2_full_NATGACGTCAYN  gene is annotated for similar motif transfac_p...   \n",
       "     transfac_pro__M01186             gene is annotated for similar motif transfac_p...   \n",
       "     transfac_public__M00178          gene is annotated for similar motif transfac_p...   \n",
       "     elemento__TGACGTCA               gene is annotated for similar motif transfac_p...   \n",
       "     cisbp__M4307                     gene is annotated for similar motif transfac_p...   \n",
       "\n",
       "                                                                                         \\\n",
       "                                                                                Context   \n",
       "TF   MotifID                                                                              \n",
       "Atf3 taipale__JDP2_full_NATGACGTCAYN  (dm6-5kb-upstream-full-tx-11species, weight>75...   \n",
       "     transfac_pro__M01186             (dm6-5kb-upstream-full-tx-11species, weight>75...   \n",
       "     transfac_public__M00178          (dm6-5kb-upstream-full-tx-11species, weight>75...   \n",
       "     elemento__TGACGTCA               (dm6-5kb-upstream-full-tx-11species, weight>75...   \n",
       "     cisbp__M4307                     (dm6-5kb-upstream-full-tx-11species, weight>75...   \n",
       "\n",
       "                                                                      \\\n",
       "                                     MotifSimilarityQvalue       NES   \n",
       "TF   MotifID                                                           \n",
       "Atf3 taipale__JDP2_full_NATGACGTCAYN              0.000002  4.566469   \n",
       "     transfac_pro__M01186                         0.000101  3.739763   \n",
       "     transfac_public__M00178                      0.000086  3.507823   \n",
       "     elemento__TGACGTCA                           0.000136  3.576546   \n",
       "     cisbp__M4307                                 0.000577  3.817196   \n",
       "\n",
       "                                                                    \\\n",
       "                                     OrthologousIdentity RankAtMax   \n",
       "TF   MotifID                                                         \n",
       "Atf3 taipale__JDP2_full_NATGACGTCAYN                 1.0      3391   \n",
       "     transfac_pro__M01186                            1.0      2119   \n",
       "     transfac_public__M00178                         1.0      2143   \n",
       "     elemento__TGACGTCA                              1.0      2186   \n",
       "     cisbp__M4307                                    1.0      2139   \n",
       "\n",
       "                                                                                         \n",
       "                                                                            TargetGenes  \n",
       "TF   MotifID                                                                             \n",
       "Atf3 taipale__JDP2_full_NATGACGTCAYN  [(LamC, 0.4272245628726853), (CrebB, 3.0106320...  \n",
       "     transfac_pro__M01186             [(Proc, 0.4272245628726853), (LamC, 3.01063207...  \n",
       "     transfac_public__M00178          [(CG10960, 0.4272245628726853), (LamC, 3.01063...  \n",
       "     elemento__TGACGTCA               [(Gprk2, 0.4272245628726853), (LamC, 3.0106320...  \n",
       "     cisbp__M4307                     [(cbt, 0.4272245628726853), (ush, 3.0106320782...  "
      ]
     },
     "execution_count": 6,
     "metadata": {},
     "output_type": "execute_result"
    }
   ],
   "source": [
    "df.head()"
   ]
  },
  {
   "cell_type": "code",
   "execution_count": 7,
   "metadata": {},
   "outputs": [
    {
     "data": {
      "text/plain": [
       "Enrichment  AUC                                                               0.280856\n",
       "            Annotation               motif similar to transfac_pro__M07666 ('I$ATF3...\n",
       "            Context                  (dm6-5kb-upstream-full-tx-11species, activatin...\n",
       "            MotifSimilarityQvalue                                              0.00093\n",
       "            NES                                                                6.92737\n",
       "            OrthologousIdentity                                                      1\n",
       "            RankAtMax                                                             4838\n",
       "            TargetGenes              [(ush, 0.4272245628726853), (cbt, 3.0106320782...\n",
       "dtype: object"
      ]
     },
     "execution_count": 7,
     "metadata": {},
     "output_type": "execute_result"
    }
   ],
   "source": [
    "# df.loc[df.index.levels[0][:2].values]\n",
    "# df.index.levels[0]\n",
    "df.loc['Atf3'].max()"
   ]
  },
  {
   "cell_type": "code",
   "execution_count": 8,
   "metadata": {},
   "outputs": [
    {
     "data": {
      "text/plain": [
       "MotifID\n",
       "transfac_pro__M07666    (dm6-5kb-upstream-full-tx-11species, weight>75...\n",
       "transfac_pro__M07666    (weight>90.0%, dm6-5kb-upstream-full-tx-11spec...\n",
       "transfac_pro__M07666    (dm6-5kb-upstream-full-tx-11species, top50, ac...\n",
       "transfac_pro__M07666    (dm6-5kb-upstream-full-tx-11species, top10perT...\n",
       "transfac_pro__M07666    (dm6-5kb-upstream-full-tx-11species, activatin...\n",
       "Name: (Enrichment, Context), dtype: object"
      ]
     },
     "execution_count": 8,
     "metadata": {},
     "output_type": "execute_result"
    }
   ],
   "source": [
    "df.loc['Atf3'].loc['transfac_pro__M07666'][('Enrichment','Context')]"
   ]
  },
  {
   "cell_type": "code",
   "execution_count": 145,
   "metadata": {},
   "outputs": [],
   "source": [
    "if df.columns.nlevels == 2:\n",
    "    df.columns = df.columns.droplevel(0)"
   ]
  },
  {
   "cell_type": "code",
   "execution_count": 191,
   "metadata": {},
   "outputs": [],
   "source": [
    "def _regulon4group(tf_name, context, df_group) -> Optional[Regulon]:\n",
    "    def score(nes, motif_similarity_qval, orthologuous_identity):\n",
    "        # The combined score starts from the NES score which is then corrected for less confidence in the TF annotation\n",
    "        # in two steps:\n",
    "        # 1. The orthologous identifity (a fraction between 0 and 1.0) is used directly to normalize the NES.\n",
    "        # 2. The motif similarity q-value is converted to a similar fraction: -log10(q-value)\n",
    "        # A motif that is directly annotated for the TF in the correct species is not penalized.\n",
    "\n",
    "        correction_fraction = 1.0\n",
    "        try:\n",
    "            max_value = 10  # A q-value smaller than 10**-10 is considered the same as a q-value of 0.0.\n",
    "            correction_fraction = min(-math.log(motif_similarity_qval, 10), max_value)/max_value if not math.isnan(motif_similarity_qval) else 1.0\n",
    "        except ValueError: # Math domain error\n",
    "            pass\n",
    "        score = nes * correction_fraction\n",
    "\n",
    "        # We assume that a non existing orthologous identity signifies a direct annotation.\n",
    "        return score if math.isnan(orthologuous_identity) else score * orthologuous_identity\n",
    "\n",
    "    def derive_interaction_type(ctx):\n",
    "        return \"(-)\" if REPRESSING_MODULE in ctx else \"(+)\"\n",
    "\n",
    "    def row2regulon(row):\n",
    "        # The target genes as well as their weights/importances are directly taken from the dataframe.\n",
    "        return Regulon(name=\"{}{}\".format(tf_name,derive_interaction_type(context)),\n",
    "                        score=score(row[COLUMN_NAME_NES],\n",
    "                                    row[COLUMN_NAME_MOTIF_SIMILARITY_QVALUE],\n",
    "                                    row[COLUMN_NAME_ORTHOLOGOUS_IDENTITY]),\n",
    "                        context=context,\n",
    "                        transcription_factor=tf_name,\n",
    "                        gene2weight=row[COLUMN_NAME_TARGET_GENES])\n",
    "\n",
    "    # Find most enriched directly annotated motif and add this to the context.\n",
    "    df_selected = df_group[((df_group[COLUMN_NAME_ANNOTATION] == 'gene is directly annotated')\n",
    "                            | (df_group[COLUMN_NAME_ANNOTATION].str.startswith('gene is orthologous to')\n",
    "                               & df_group[COLUMN_NAME_ANNOTATION].str.endswith('which is directly annotated for motif')))]\n",
    "    df_selected = df_selected.sort_values(by=COLUMN_NAME_NES, ascending=False)\n",
    "    if(len(df_selected)) == 0:\n",
    "        print(tf_name)\n",
    "    motif_logo = '{}.png'.format(df_selected.head(1).reset_index()[COLUMN_NAME_MOTIF_ID].values[0]) if len(df_selected) > 0 else \"\"\n",
    "\n",
    "    # First we create a regulon for each enriched and annotated feature and then we aggregate these regulons into a\n",
    "    # single one using the union operator. This operator combined all target genes into a single set of genes keeping\n",
    "    # the maximum weight associated with a gene. In addition, the maximum combined score is kept as the score of the\n",
    "    # entire regulon.\n",
    "    return reduce(Regulon.union, (row2regulon(row) for _, row in df_group.iterrows())).copy(context=frozenset(set(context).union({motif_logo})))"
   ]
  },
  {
   "cell_type": "code",
   "execution_count": 166,
   "metadata": {},
   "outputs": [],
   "source": [
    "def get_type(row):\n",
    "#     print(row[('Enrichment', 'Context')])\n",
    "    ctx = row[COLUMN_NAME_CONTEXT]\n",
    "#     print(ctx)\n",
    "    # Activating is the default!\n",
    "    return REPRESSING_MODULE if REPRESSING_MODULE in ctx else ACTIVATING_MODULE\n",
    "df[COLUMN_NAME_TYPE] = df.apply(get_type,axis=1)"
   ]
  },
  {
   "cell_type": "code",
   "execution_count": 160,
   "metadata": {},
   "outputs": [],
   "source": [
    "# [print(tf_name, frozenset([interaction_type])) for (tf_name, interaction_type), df_grp in df.groupby(by=['TF','Type'])]"
   ]
  },
  {
   "cell_type": "code",
   "execution_count": 192,
   "metadata": {},
   "outputs": [
    {
     "name": "stdout",
     "output_type": "stream",
     "text": [
      "Antp\n",
      "Atac3\n",
      "Blimp-1\n",
      "CG16779\n",
      "CG44247\n",
      "CG5245\n",
      "CG8209\n",
      "CG9727\n",
      "CHES-1-like\n",
      "Dif\n",
      "Doc3\n",
      "Dr\n",
      "E(spl)m3-HLH\n",
      "E(spl)m8-HLH\n",
      "E(spl)mbeta-HLH\n",
      "ERR\n",
      "Eip74EF\n",
      "Ets97D\n",
      "GATAd\n",
      "H2.0\n",
      "HDAC1\n",
      "Hnf4\n",
      "Hr4\n",
      "Max\n",
      "Nf-YA\n",
      "Poxn\n",
      "Psi\n",
      "Smox\n",
      "SoxN\n",
      "Spps\n",
      "Tet\n",
      "Trf2\n",
      "achi\n",
      "aop\n",
      "ap\n",
      "bowl\n",
      "crol\n",
      "crp\n",
      "da\n",
      "dar1\n",
      "disco-r\n",
      "drm\n",
      "ems\n",
      "en\n",
      "eyg\n",
      "ftz-f1\n",
      "grn\n",
      "gt\n",
      "inv\n",
      "l(3)neo38\n",
      "mor\n",
      "nej\n",
      "odd\n",
      "opa\n",
      "pan\n",
      "pdm2\n",
      "pdm3\n",
      "peng\n",
      "pho\n",
      "pnt\n",
      "rump\n",
      "sd\n",
      "sr\n",
      "toe\n",
      "usp\n",
      "vtd\n",
      "zfh2\n"
     ]
    }
   ],
   "source": [
    "# Group all rows per TF and type (+)/(-). Each group results in a single regulon.\n",
    "not_none = lambda r: r is not None\n",
    "tmp = list(filter(not_none, (_regulon4group(tf_name, frozenset([interaction_type]), df_grp)\n",
    "                       for (tf_name, interaction_type), df_grp in df.groupby(by=[COLUMN_NAME_TF,\n",
    "                                                                                 COLUMN_NAME_TYPE]))))"
   ]
  },
  {
   "cell_type": "code",
   "execution_count": 202,
   "metadata": {},
   "outputs": [
    {
     "data": {
      "text/plain": [
       "Regulon(name='Adf1(+)', gene2weight=<frozendict {'CG2556': 1.0, 'Mad': 1.072583681092771, 'CR45643': 3.456320045116416, 'crol': 1.9199835421000075, 'CG6118': 4.8500685006837285, 'HmgD': 0.637917649601581, 'CG14082': 1.434114686395855, 'CG10479': 1.6273701990966611, 'CG32365': 1.4336502922497167, 'Np': 1.7568945917972374, 'Bub1': 1.9187745121121376, 'sprt': 0.9817479735465064, 'spi': 1.2141215738524254, 'thw': 1.2508791487861441, 'CG31522': 1.6161862037250796, 'twi': 0.6674791002347131, 'CG43980': 0.7233327308768884, 'CG1910': 1.2747287361883866, 'CG12769': 1.221888842033957, 'Pex3': 0.1836240934846464, 'CR45361': 1.5996702616663483, 'Sema2b': 0.6337340663232829, 'CG32698': 0.5476029583179107}>, transcription_factor='Adf1', context=frozenset({'activating', 'flyfactorsurvey__Adf1_SANGER_5_FBgn0000054.png'}), score=3.767024527046528)"
      ]
     },
     "execution_count": 202,
     "metadata": {},
     "output_type": "execute_result"
    }
   ],
   "source": [
    "tmp[0]"
   ]
  },
  {
   "cell_type": "code",
   "execution_count": 199,
   "metadata": {},
   "outputs": [
    {
     "data": {
      "text/plain": [
       "[Regulon(name='zfh2(+)', gene2weight=<frozendict {'sog': 30.085751895312065, 'CadN': 8.885491375184518, 'Sema2b': 15.956563506958751, 'hth': 10.789997953351353, 'ds': 16.431737116073297, 'CG42747': 30.085751895312065, 'esg': 12.024845947063437, 'kek1': 26.642096833657888, 'CG34355': 19.774529592898627, 'cysu': 9.385556410858312, 'olf413': 10.8165172420487, 'fz': 21.472113848893628, 'Dr': 18.753824719076725, 'zfh2': 10.101429985297044, 'bi': 12.343094454045133, 'ImpE1': 13.938166902208788, 'CG13300': 14.037992089771173, 'Nost': 37.20130889807077, 'sns': 15.956563506958751, 'pgant2': 7.764321360904495, 'elB': 15.956563506958751, 'Rfx': 5.803710264844428, 'CG30377': 16.431737116073297, 'CG34347': 16.431737116073297}>, transcription_factor='zfh2', context=frozenset({'', 'activating'}), score=0.20293746666763052)]"
      ]
     },
     "execution_count": 199,
     "metadata": {},
     "output_type": "execute_result"
    }
   ],
   "source": [
    "list(filter(lambda x: x.name == \"zfh2(+)\", regulons_1))"
   ]
  },
  {
   "cell_type": "code",
   "execution_count": 200,
   "metadata": {},
   "outputs": [
    {
     "data": {
      "text/plain": [
       "'gene is orthologous to ENSG00000136367 in H. sapiens (identity = 15%) which is annotated for similar motif cisbp__M0893 (\\'ZFHX2[gene ID: \"ENSG00000136367\" species: \"Homo sapiens\" TF status: \"direct\" TF family: \"Homeodomain\" DBDs: \"Homeobox\"]\\'; q-value = 5.78e-05)'"
      ]
     },
     "execution_count": 200,
     "metadata": {},
     "output_type": "execute_result"
    }
   ],
   "source": [
    "df.loc['zfh2'].loc['transfac_pro__M01314']['Annotation']"
   ]
  },
  {
   "cell_type": "code",
   "execution_count": 201,
   "metadata": {},
   "outputs": [
    {
     "data": {
      "text/html": [
       "<div>\n",
       "<style scoped>\n",
       "    .dataframe tbody tr th:only-of-type {\n",
       "        vertical-align: middle;\n",
       "    }\n",
       "\n",
       "    .dataframe tbody tr th {\n",
       "        vertical-align: top;\n",
       "    }\n",
       "\n",
       "    .dataframe thead th {\n",
       "        text-align: right;\n",
       "    }\n",
       "</style>\n",
       "<table border=\"1\" class=\"dataframe\">\n",
       "  <thead>\n",
       "    <tr style=\"text-align: right;\">\n",
       "      <th></th>\n",
       "      <th>AUC</th>\n",
       "      <th>Annotation</th>\n",
       "      <th>Context</th>\n",
       "      <th>MotifSimilarityQvalue</th>\n",
       "      <th>NES</th>\n",
       "      <th>OrthologousIdentity</th>\n",
       "      <th>RankAtMax</th>\n",
       "      <th>TargetGenes</th>\n",
       "      <th>Type</th>\n",
       "    </tr>\n",
       "    <tr>\n",
       "      <th>MotifID</th>\n",
       "      <th></th>\n",
       "      <th></th>\n",
       "      <th></th>\n",
       "      <th></th>\n",
       "      <th></th>\n",
       "      <th></th>\n",
       "      <th></th>\n",
       "      <th></th>\n",
       "      <th></th>\n",
       "    </tr>\n",
       "  </thead>\n",
       "  <tbody>\n",
       "    <tr>\n",
       "      <th>transfac_pro__M01314</th>\n",
       "      <td>0.235290</td>\n",
       "      <td>gene is orthologous to ENSG00000136367 in H. s...</td>\n",
       "      <td>(activating, dm6-5kb-upstream-full-tx-11specie...</td>\n",
       "      <td>0.000058</td>\n",
       "      <td>3.075725</td>\n",
       "      <td>0.15574</td>\n",
       "      <td>624</td>\n",
       "      <td>[(sog, 30.085751895312065), (CadN, 8.885491375...</td>\n",
       "      <td>activating</td>\n",
       "    </tr>\n",
       "    <tr>\n",
       "      <th>cisbp__M6042</th>\n",
       "      <td>0.208494</td>\n",
       "      <td>gene is orthologous to ENSG00000136367 in H. s...</td>\n",
       "      <td>(activating, dm6-5kb-upstream-full-tx-11specie...</td>\n",
       "      <td>0.000779</td>\n",
       "      <td>3.414248</td>\n",
       "      <td>0.15574</td>\n",
       "      <td>210</td>\n",
       "      <td>[(CadN, 4.79749118333691), (CG42747, 30.085751...</td>\n",
       "      <td>activating</td>\n",
       "    </tr>\n",
       "    <tr>\n",
       "      <th>taipale__Lhx8_DBD_NTAATTANNNNTAATTAN</th>\n",
       "      <td>0.206088</td>\n",
       "      <td>gene is orthologous to ENSG00000136367 in H. s...</td>\n",
       "      <td>(activating, dm6-5kb-upstream-full-tx-11specie...</td>\n",
       "      <td>0.000779</td>\n",
       "      <td>3.332517</td>\n",
       "      <td>0.15574</td>\n",
       "      <td>294</td>\n",
       "      <td>[(CadN, 4.79749118333691), (CG42747, 30.085751...</td>\n",
       "      <td>activating</td>\n",
       "    </tr>\n",
       "    <tr>\n",
       "      <th>cisbp__M6042</th>\n",
       "      <td>0.149507</td>\n",
       "      <td>gene is orthologous to ENSG00000136367 in H. s...</td>\n",
       "      <td>(activating, top10perTarget, dm6-5kb-upstream-...</td>\n",
       "      <td>0.000779</td>\n",
       "      <td>3.049716</td>\n",
       "      <td>0.15574</td>\n",
       "      <td>210</td>\n",
       "      <td>[(CadN, 4.79749118333691), (CG42747, 30.085751...</td>\n",
       "      <td>activating</td>\n",
       "    </tr>\n",
       "  </tbody>\n",
       "</table>\n",
       "</div>"
      ],
      "text/plain": [
       "                                           AUC  \\\n",
       "MotifID                                          \n",
       "transfac_pro__M01314                  0.235290   \n",
       "cisbp__M6042                          0.208494   \n",
       "taipale__Lhx8_DBD_NTAATTANNNNTAATTAN  0.206088   \n",
       "cisbp__M6042                          0.149507   \n",
       "\n",
       "                                                                             Annotation  \\\n",
       "MotifID                                                                                   \n",
       "transfac_pro__M01314                  gene is orthologous to ENSG00000136367 in H. s...   \n",
       "cisbp__M6042                          gene is orthologous to ENSG00000136367 in H. s...   \n",
       "taipale__Lhx8_DBD_NTAATTANNNNTAATTAN  gene is orthologous to ENSG00000136367 in H. s...   \n",
       "cisbp__M6042                          gene is orthologous to ENSG00000136367 in H. s...   \n",
       "\n",
       "                                                                                Context  \\\n",
       "MotifID                                                                                   \n",
       "transfac_pro__M01314                  (activating, dm6-5kb-upstream-full-tx-11specie...   \n",
       "cisbp__M6042                          (activating, dm6-5kb-upstream-full-tx-11specie...   \n",
       "taipale__Lhx8_DBD_NTAATTANNNNTAATTAN  (activating, dm6-5kb-upstream-full-tx-11specie...   \n",
       "cisbp__M6042                          (activating, top10perTarget, dm6-5kb-upstream-...   \n",
       "\n",
       "                                      MotifSimilarityQvalue       NES  \\\n",
       "MotifID                                                                 \n",
       "transfac_pro__M01314                               0.000058  3.075725   \n",
       "cisbp__M6042                                       0.000779  3.414248   \n",
       "taipale__Lhx8_DBD_NTAATTANNNNTAATTAN               0.000779  3.332517   \n",
       "cisbp__M6042                                       0.000779  3.049716   \n",
       "\n",
       "                                      OrthologousIdentity  RankAtMax  \\\n",
       "MotifID                                                                \n",
       "transfac_pro__M01314                              0.15574        624   \n",
       "cisbp__M6042                                      0.15574        210   \n",
       "taipale__Lhx8_DBD_NTAATTANNNNTAATTAN              0.15574        294   \n",
       "cisbp__M6042                                      0.15574        210   \n",
       "\n",
       "                                                                            TargetGenes  \\\n",
       "MotifID                                                                                   \n",
       "transfac_pro__M01314                  [(sog, 30.085751895312065), (CadN, 8.885491375...   \n",
       "cisbp__M6042                          [(CadN, 4.79749118333691), (CG42747, 30.085751...   \n",
       "taipale__Lhx8_DBD_NTAATTANNNNTAATTAN  [(CadN, 4.79749118333691), (CG42747, 30.085751...   \n",
       "cisbp__M6042                          [(CadN, 4.79749118333691), (CG42747, 30.085751...   \n",
       "\n",
       "                                            Type  \n",
       "MotifID                                           \n",
       "transfac_pro__M01314                  activating  \n",
       "cisbp__M6042                          activating  \n",
       "taipale__Lhx8_DBD_NTAATTANNNNTAATTAN  activating  \n",
       "cisbp__M6042                          activating  "
      ]
     },
     "execution_count": 201,
     "metadata": {},
     "output_type": "execute_result"
    }
   ],
   "source": [
    "df.loc['zfh2']"
   ]
  },
  {
   "cell_type": "code",
   "execution_count": 73,
   "metadata": {},
   "outputs": [],
   "source": [
    "# list(filter(lambda x: x.name == \"Atf3(+)\", regulons_1))"
   ]
  }
 ],
 "metadata": {
  "kernelspec": {
   "display_name": "Python 3.7 - Aertslab GitHub - Dev",
   "language": "python",
   "name": "aertslab-gh"
  },
  "language_info": {
   "codemirror_mode": {
    "name": "ipython",
    "version": 3
   },
   "file_extension": ".py",
   "mimetype": "text/x-python",
   "name": "python",
   "nbconvert_exporter": "python",
   "pygments_lexer": "ipython3",
   "version": "3.7.3"
  }
 },
 "nbformat": 4,
 "nbformat_minor": 2
}
