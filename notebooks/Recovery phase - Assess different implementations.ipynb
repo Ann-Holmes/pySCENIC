{
 "cells": [
  {
   "cell_type": "markdown",
   "metadata": {},
   "source": [
    "__Author:__ Bram Van de Sande\n",
    "\n",
    "__Date:__ 7 FEB 2017\n",
    "\n",
    "__Outline:__ Assessment of correctness of different implementations of the recovery algorithms."
   ]
  },
  {
   "cell_type": "code",
   "execution_count": 16,
   "metadata": {},
   "outputs": [],
   "source": [
    "import os\n",
    "import glob\n",
    "import pickle\n",
    "import numpy as np\n",
    "import pandas as pd\n",
    "import matplotlib.pyplot as plt\n",
    "from pyscenic.recovery import aucs as calc_aucs, recovery, auc1d, weighted_auc1d\n",
    "from pyscenic.rnkdb import FeatherRankingDatabase as RankingDatabase\n",
    "from pyscenic.utils import load_motif_annotations\n",
    "from itertools import repeat\n",
    "%matplotlib inline"
   ]
  },
  {
   "cell_type": "code",
   "execution_count": 17,
   "metadata": {},
   "outputs": [],
   "source": [
    "DATA_FOLDER=\"/Users/bramvandesande/Projects/lcb/tmp\"\n",
    "RESOURCES_FOLDER=\"/Users/bramvandesande/Projects/lcb/resources\"\n",
    "DATABASE_FOLDER = \"/Users/bramvandesande/Projects/lcb/databases/\"\n",
    "\n",
    "SQLITE_GLOB = os.path.join(DATABASE_FOLDER, \"mm9-*.db\")\n",
    "FEATHER_GLOB = os.path.join(DATABASE_FOLDER, \"mm9-*.feather\")\n",
    "\n",
    "MOTIF_ANNOTATIONS_FNAME = os.path.join(RESOURCES_FOLDER, \"motifs-v9-nr.mgi-m0.001-o0.0.tbl\")\n",
    "\n",
    "NOMENCLATURE = \"MGI\""
   ]
  },
  {
   "cell_type": "markdown",
   "metadata": {},
   "source": [
    "### Load datasets"
   ]
  },
  {
   "cell_type": "code",
   "execution_count": 18,
   "metadata": {},
   "outputs": [],
   "source": [
    "with open(os.path.join(DATA_FOLDER,'modules.pickle'), 'rb') as f:\n",
    "    modules = pickle.load(f)"
   ]
  },
  {
   "cell_type": "code",
   "execution_count": 20,
   "metadata": {},
   "outputs": [],
   "source": [
    "def name(fname):\n",
    "    return os.path.basename(fname).split(\".\")[0]\n",
    "db_fnames = glob.glob(FEATHER_GLOB)\n",
    "dbs = [RankingDatabase(fname=fname, name=name(fname), nomenclature=\"MGI\") for fname in db_fnames]"
   ]
  },
  {
   "cell_type": "code",
   "execution_count": 6,
   "metadata": {},
   "outputs": [],
   "source": [
    "motif_annotations = load_motif_annotations(MOTIF_ANNOTATIONS_FNAME)"
   ]
  },
  {
   "cell_type": "markdown",
   "metadata": {},
   "source": [
    "### Assess correctness of core methods\n",
    "\n",
    "#### 1. Correctness of calculation of AUC of recovery curve\n",
    "\n",
    "For the following parameters the AUC of the recovery is known:"
   ]
  },
  {
   "cell_type": "code",
   "execution_count": 22,
   "metadata": {},
   "outputs": [],
   "source": [
    "total_genes = 100\n",
    "auc_rank_threshold = 8\n",
    "ranking = np.asarray([2, 4, 6])\n",
    "weights = np.ones(len(ranking))\n",
    "auc_max = 1.0 # Disable normalization.\n",
    "correct_auc = 12.0"
   ]
  },
  {
   "cell_type": "code",
   "execution_count": 24,
   "metadata": {},
   "outputs": [],
   "source": [
    "assert correct_auc == auc1d(ranking, auc_rank_threshold, auc_max)"
   ]
  },
  {
   "cell_type": "code",
   "execution_count": 25,
   "metadata": {},
   "outputs": [],
   "source": [
    "assert correct_auc == weighted_auc1d(ranking, weights, auc_rank_threshold, auc_max)"
   ]
  },
  {
   "cell_type": "code",
   "execution_count": 29,
   "metadata": {},
   "outputs": [],
   "source": [
    "def bincount_auc1d(ranking, total_genes, rank_threshold, auc_max):\n",
    "    ranking = np.append(ranking, np.full((1,), total_genes))\n",
    "    return np.cumsum(np.bincount(ranking)[:rank_threshold]).sum() / auc_max"
   ]
  },
  {
   "cell_type": "code",
   "execution_count": 31,
   "metadata": {},
   "outputs": [],
   "source": [
    "assert correct_auc == bincount_auc1d(ranking, total_genes, auc_rank_threshold, auc_max)"
   ]
  },
  {
   "cell_type": "code",
   "execution_count": 37,
   "metadata": {},
   "outputs": [],
   "source": [
    "def weighted_bincount_auc1d(ranking, weights, total_genes, rank_threshold, auc_max):\n",
    "    ranking = np.append(ranking, np.full((1,), total_genes))\n",
    "    weights = np.insert(weights, len(weights), 0.0)\n",
    "    return np.cumsum(np.bincount(ranking, weights=weights)[:rank_threshold]).sum() / auc_max"
   ]
  },
  {
   "cell_type": "code",
   "execution_count": 38,
   "metadata": {},
   "outputs": [],
   "source": [
    "assert correct_auc == weighted_bincount_auc1d(ranking, weights, total_genes, auc_rank_threshold, auc_max)"
   ]
  },
  {
   "cell_type": "markdown",
   "metadata": {},
   "source": [
    "#### 2. Compare AUC values and NES scores across implementations"
   ]
  },
  {
   "cell_type": "code",
   "execution_count": 39,
   "metadata": {},
   "outputs": [],
   "source": [
    "COLUMN_NAME_NES = \"NES\"\n",
    "COLUMN_NAME_AUC = \"AUC\""
   ]
  },
  {
   "cell_type": "code",
   "execution_count": 46,
   "metadata": {},
   "outputs": [],
   "source": [
    "def impl_bincount(db, module, weighted_recovery=False, rank_threshold=1500, auc_threshold=0.05, nes_threshold=3.0):\n",
    "    # Load rank of genes from database.\n",
    "    df = db.load(module)\n",
    "    features, genes, rankings = df.index.values, df.columns.values, df.values\n",
    "    weights = np.asarray([module[gene] for gene in genes]) if weighted_recovery else np.ones(len(genes))\n",
    "\n",
    "    # Calculate recovery curves, AUC and NES values.\n",
    "    rccs, aucs = recovery(df, db.total_genes, weights, rank_threshold, auc_threshold)\n",
    "    ness = (aucs - aucs.mean()) / aucs.std()\n",
    "\n",
    "    # Keep only features that are enriched, i.e. NES sufficiently high.\n",
    "    enriched_features_idx = ness >= nes_threshold\n",
    "    enriched_features = pd.DataFrame(index=pd.MultiIndex.from_tuples(list(zip(repeat(module.transcription_factor),\n",
    "                                                                              features[enriched_features_idx])),\n",
    "                                                                     names=[\"gene_name\", \"#motif_id\"]),\n",
    "                                     data={COLUMN_NAME_NES: ness[enriched_features_idx],\n",
    "                                           COLUMN_NAME_AUC: aucs[enriched_features_idx]})\n",
    "    return enriched_features"
   ]
  },
  {
   "cell_type": "code",
   "execution_count": 47,
   "metadata": {},
   "outputs": [],
   "source": [
    "def impl_numba(db, module, weighted_recovery=False, rank_threshold=1500, auc_threshold=0.05, nes_threshold=3.0):\n",
    "    # Load rank of genes from database.\n",
    "    df = db.load(module)\n",
    "    features, genes, rankings = df.index.values, df.columns.values, df.values\n",
    "    weights = np.asarray([module[gene] for gene in genes]) if weighted_recovery else np.ones(len(genes))\n",
    "\n",
    "    # Calculate recovery curves, AUC and NES values.\n",
    "    # For fast unweighted implementation so weights to None.\n",
    "    aucs = calc_aucs(df, db.total_genes, weights if weighted_recovery else None, rank_threshold, auc_threshold)\n",
    "    ness = (aucs - aucs.mean()) / aucs.std()\n",
    "\n",
    "    # Keep only features that are enriched, i.e. NES sufficiently high.\n",
    "    enriched_features_idx = ness >= nes_threshold\n",
    "    enriched_features = pd.DataFrame(index=pd.MultiIndex.from_tuples(list(zip(repeat(module.transcription_factor),\n",
    "                                                                              features[enriched_features_idx])),\n",
    "                                                                     names=[\"gene_name\", \"#motif_id\"]),\n",
    "                                     data={COLUMN_NAME_NES: ness[enriched_features_idx],\n",
    "                                           COLUMN_NAME_AUC: aucs[enriched_features_idx]})\n",
    "    return enriched_features"
   ]
  },
  {
   "cell_type": "code",
   "execution_count": 58,
   "metadata": {},
   "outputs": [],
   "source": [
    "df2 = impl_numba(dbs[0], modules[0]).sort_values(by=COLUMN_NAME_NES, ascending=False)\n",
    "df1 = impl_bincount(dbs[0], modules[0]).sort_values(by=COLUMN_NAME_NES, ascending=False)\n",
    "df = pd.merge(df1, df2, how='inner', left_index=True, right_index=True, suffixes=('_bincount', '_numba'))"
   ]
  },
  {
   "cell_type": "code",
   "execution_count": 59,
   "metadata": {},
   "outputs": [
    {
     "data": {
      "text/html": [
       "<div>\n",
       "<style scoped>\n",
       "    .dataframe tbody tr th:only-of-type {\n",
       "        vertical-align: middle;\n",
       "    }\n",
       "\n",
       "    .dataframe tbody tr th {\n",
       "        vertical-align: top;\n",
       "    }\n",
       "\n",
       "    .dataframe thead th {\n",
       "        text-align: right;\n",
       "    }\n",
       "</style>\n",
       "<table border=\"1\" class=\"dataframe\">\n",
       "  <thead>\n",
       "    <tr style=\"text-align: right;\">\n",
       "      <th></th>\n",
       "      <th></th>\n",
       "      <th>AUC_bincount</th>\n",
       "      <th>NES_bincount</th>\n",
       "      <th>AUC_numba</th>\n",
       "      <th>NES_numba</th>\n",
       "    </tr>\n",
       "    <tr>\n",
       "      <th>gene_name</th>\n",
       "      <th>#motif_id</th>\n",
       "      <th></th>\n",
       "      <th></th>\n",
       "      <th></th>\n",
       "      <th></th>\n",
       "    </tr>\n",
       "  </thead>\n",
       "  <tbody>\n",
       "    <tr>\n",
       "      <th rowspan=\"5\" valign=\"top\">Aatf</th>\n",
       "      <th>transfac_pro__M02058</th>\n",
       "      <td>0.053075</td>\n",
       "      <td>6.901148</td>\n",
       "      <td>0.053075</td>\n",
       "      <td>6.901148</td>\n",
       "    </tr>\n",
       "    <tr>\n",
       "      <th>hocomoco__ELK4_HUMAN.H11MO.0.A</th>\n",
       "      <td>0.052726</td>\n",
       "      <td>6.798673</td>\n",
       "      <td>0.052726</td>\n",
       "      <td>6.798673</td>\n",
       "    </tr>\n",
       "    <tr>\n",
       "      <th>taipale_cyt_meth__ELK3_NACCGGAAGTN_eDBD</th>\n",
       "      <td>0.052435</td>\n",
       "      <td>6.713303</td>\n",
       "      <td>0.052435</td>\n",
       "      <td>6.713303</td>\n",
       "    </tr>\n",
       "    <tr>\n",
       "      <th>taipale_cyt_meth__ELK3_ACCGGAAGTN_FL</th>\n",
       "      <td>0.051945</td>\n",
       "      <td>6.569319</td>\n",
       "      <td>0.051945</td>\n",
       "      <td>6.569319</td>\n",
       "    </tr>\n",
       "    <tr>\n",
       "      <th>homer__HACTTCCGGY_Elk1</th>\n",
       "      <td>0.051738</td>\n",
       "      <td>6.508430</td>\n",
       "      <td>0.051738</td>\n",
       "      <td>6.508430</td>\n",
       "    </tr>\n",
       "  </tbody>\n",
       "</table>\n",
       "</div>"
      ],
      "text/plain": [
       "                                                   AUC_bincount  NES_bincount  \\\n",
       "gene_name #motif_id                                                             \n",
       "Aatf      transfac_pro__M02058                         0.053075      6.901148   \n",
       "          hocomoco__ELK4_HUMAN.H11MO.0.A               0.052726      6.798673   \n",
       "          taipale_cyt_meth__ELK3_NACCGGAAGTN_eDBD      0.052435      6.713303   \n",
       "          taipale_cyt_meth__ELK3_ACCGGAAGTN_FL         0.051945      6.569319   \n",
       "          homer__HACTTCCGGY_Elk1                       0.051738      6.508430   \n",
       "\n",
       "                                                   AUC_numba  NES_numba  \n",
       "gene_name #motif_id                                                      \n",
       "Aatf      transfac_pro__M02058                      0.053075   6.901148  \n",
       "          hocomoco__ELK4_HUMAN.H11MO.0.A            0.052726   6.798673  \n",
       "          taipale_cyt_meth__ELK3_NACCGGAAGTN_eDBD   0.052435   6.713303  \n",
       "          taipale_cyt_meth__ELK3_ACCGGAAGTN_FL      0.051945   6.569319  \n",
       "          homer__HACTTCCGGY_Elk1                    0.051738   6.508430  "
      ]
     },
     "execution_count": 59,
     "metadata": {},
     "output_type": "execute_result"
    }
   ],
   "source": [
    "df.head()"
   ]
  },
  {
   "cell_type": "code",
   "execution_count": 60,
   "metadata": {},
   "outputs": [
    {
     "data": {
      "text/plain": [
       "<matplotlib.axes._subplots.AxesSubplot at 0x1101dc710>"
      ]
     },
     "execution_count": 60,
     "metadata": {},
     "output_type": "execute_result"
    },
    {
     "data": {
      "image/png": "[encoded data removed]",
      "text/plain": [
       "<matplotlib.figure.Figure at 0x111f70668>"
      ]
     },
     "metadata": {},
     "output_type": "display_data"
    }
   ],
   "source": [
    "df.plot.scatter(x='AUC_bincount', y='AUC_numba')"
   ]
  },
  {
   "cell_type": "code",
   "execution_count": 61,
   "metadata": {},
   "outputs": [
    {
     "data": {
      "text/plain": [
       "<matplotlib.axes._subplots.AxesSubplot at 0x10d597cc0>"
      ]
     },
     "execution_count": 61,
     "metadata": {},
     "output_type": "execute_result"
    },
    {
     "data": {
      "image/png": "[encoded data removed]",
      "text/plain": [
       "<matplotlib.figure.Figure at 0x1116d0f60>"
      ]
     },
     "metadata": {},
     "output_type": "display_data"
    }
   ],
   "source": [
    "df.plot.scatter(x='NES_bincount', y='NES_numba')"
   ]
  },
  {
   "cell_type": "code",
   "execution_count": 62,
   "metadata": {},
   "outputs": [],
   "source": [
    "df2 = impl_numba(dbs[0], modules[0]).sort_values(by=COLUMN_NAME_NES, ascending=True)\n",
    "df1 = impl_bincount(dbs[0], modules[0]).sort_values(by=COLUMN_NAME_NES, ascending=True)\n",
    "df = pd.merge(df1, df2, how='inner', left_index=True, right_index=True, suffixes=('_bincount', '_numba'))"
   ]
  },
  {
   "cell_type": "code",
   "execution_count": 63,
   "metadata": {},
   "outputs": [
    {
     "data": {
      "text/plain": [
       "<matplotlib.axes._subplots.AxesSubplot at 0x10eeeb588>"
      ]
     },
     "execution_count": 63,
     "metadata": {},
     "output_type": "execute_result"
    },
    {
     "data": {
      "image/png": "[encoded data removed]",
      "text/plain": [
       "<matplotlib.figure.Figure at 0x134bb9a20>"
      ]
     },
     "metadata": {},
     "output_type": "display_data"
    }
   ],
   "source": [
    "df.plot.scatter(x='AUC_bincount', y='AUC_numba')"
   ]
  },
  {
   "cell_type": "code",
   "execution_count": 64,
   "metadata": {},
   "outputs": [
    {
     "data": {
      "text/plain": [
       "<matplotlib.axes._subplots.AxesSubplot at 0x110274518>"
      ]
     },
     "execution_count": 64,
     "metadata": {},
     "output_type": "execute_result"
    },
    {
     "data": {
      "image/png": "[encoded data removed]",
      "text/plain": [
       "<matplotlib.figure.Figure at 0x10dea6a58>"
      ]
     },
     "metadata": {},
     "output_type": "display_data"
    }
   ],
   "source": [
    "df.plot.scatter(x='NES_bincount', y='NES_numba')"
   ]
  },
  {
   "cell_type": "markdown",
   "metadata": {},
   "source": [
    "#### 3. Compare regulomes"
   ]
  },
  {
   "cell_type": "code",
   "execution_count": null,
   "metadata": {},
   "outputs": [],
   "source": []
  },
  {
   "cell_type": "code",
   "execution_count": null,
   "metadata": {},
   "outputs": [],
   "source": []
  },
  {
   "cell_type": "markdown",
   "metadata": {},
   "source": []
  }
 ],
 "metadata": {
  "kernelspec": {
   "display_name": "Python 3.6.2 (pyscenic_dev)",
   "language": "python",
   "name": "pyscenic_dev"
  },
  "language_info": {
   "codemirror_mode": {
    "name": "ipython",
    "version": 3
   },
   "file_extension": ".py",
   "mimetype": "text/x-python",
   "name": "python",
   "nbconvert_exporter": "python",
   "pygments_lexer": "ipython3",
   "version": "3.6.2"
  }
 },
 "nbformat": 4,
 "nbformat_minor": 2
}
