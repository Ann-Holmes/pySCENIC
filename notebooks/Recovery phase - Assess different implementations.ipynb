{
 "cells": [
  {
   "cell_type": "code",
   "execution_count": 1,
   "metadata": {},
   "outputs": [],
   "source": [
    "import os\n",
    "import glob\n",
    "import pickle\n",
    "import numpy as np\n",
    "import pandas as pd\n",
    "import matplotlib.pyplot as plt\n",
    "from pyscenic.recovery import aucs as calc_aucs, recovery\n",
    "from pyscenic.rnkdb import FeatherRankingDatabase as RankingDatabase\n",
    "from pyscenic.utils import load_motif_annotations\n",
    "from itertools import repeat\n",
    "%matplotlib inline"
   ]
  },
  {
   "cell_type": "code",
   "execution_count": 2,
   "metadata": {},
   "outputs": [],
   "source": [
    "DATA_FOLDER=\"/Users/bramvandesande/Projects/lcb/tmp\"\n",
    "RESOURCES_FOLDER=\"/Users/bramvandesande/Projects/lcb/resources\"\n",
    "DATABASE_FOLDER = \"/Users/bramvandesande/Projects/lcb/databases/\"\n",
    "\n",
    "SQLITE_GLOB = os.path.join(DATABASE_FOLDER, \"mm9-*.db\")\n",
    "FEATHER_GLOB = os.path.join(DATABASE_FOLDER, \"mm9-*.feather\")\n",
    "\n",
    "MOTIF_ANNOTATIONS_FNAME = os.path.join(RESOURCES_FOLDER, \"motifs-v9-nr.mgi-m0.001-o0.0.tbl\")\n",
    "\n",
    "NOMENCLATURE = \"MGI\""
   ]
  },
  {
   "cell_type": "code",
   "execution_count": 3,
   "metadata": {},
   "outputs": [],
   "source": [
    "with open(os.path.join(DATA_FOLDER,'modules.pickle'), 'rb') as f:\n",
    "    modules = pickle.load(f)"
   ]
  },
  {
   "cell_type": "code",
   "execution_count": 4,
   "metadata": {},
   "outputs": [],
   "source": [
    "def name(fname):\n",
    "    return os.path.basename(fname).split(\".\")[0]"
   ]
  },
  {
   "cell_type": "code",
   "execution_count": 5,
   "metadata": {},
   "outputs": [],
   "source": [
    "db_fnames = glob.glob(FEATHER_GLOB)\n",
    "dbs = [RankingDatabase(fname=fname, name=name(fname), nomenclature=\"MGI\") for fname in db_fnames]"
   ]
  },
  {
   "cell_type": "code",
   "execution_count": 6,
   "metadata": {},
   "outputs": [],
   "source": [
    "motif_annotations = load_motif_annotations(MOTIF_ANNOTATIONS_FNAME)"
   ]
  },
  {
   "cell_type": "markdown",
   "metadata": {},
   "source": [
    "#### Assess core methods"
   ]
  },
  {
   "cell_type": "code",
   "execution_count": 7,
   "metadata": {},
   "outputs": [],
   "source": [
    "total_genes = 100\n",
    "rank_threshold = 8\n",
    "ranking = np.asarray([2, 4, 6])\n",
    "auc_max = 1.0"
   ]
  },
  {
   "cell_type": "markdown",
   "metadata": {},
   "source": [
    "Correct answer is 12!"
   ]
  },
  {
   "cell_type": "code",
   "execution_count": 8,
   "metadata": {},
   "outputs": [
    {
     "data": {
      "text/plain": [
       "12.0"
      ]
     },
     "execution_count": 8,
     "metadata": {},
     "output_type": "execute_result"
    }
   ],
   "source": [
    "auc1d(ranking, rank_threshold, auc_max)"
   ]
  },
  {
   "cell_type": "code",
   "execution_count": 9,
   "metadata": {},
   "outputs": [
    {
     "data": {
      "text/plain": [
       "12.0"
      ]
     },
     "execution_count": 9,
     "metadata": {},
     "output_type": "execute_result"
    }
   ],
   "source": [
    "np.cumsum(np.bincount(np.append(ranking, np.full((1,), total_genes)))[:rank_threshold]).sum() / auc_max"
   ]
  },
  {
   "cell_type": "markdown",
   "metadata": {},
   "source": [
    "#### Assess AUCs and NES"
   ]
  },
  {
   "cell_type": "code",
   "execution_count": 10,
   "metadata": {},
   "outputs": [],
   "source": [
    "COLUMN_NAME_NES = \"NES\"\n",
    "COLUMN_NAME_AUC = \"AUC\""
   ]
  },
  {
   "cell_type": "code",
   "execution_count": 11,
   "metadata": {},
   "outputs": [],
   "source": [
    "def impl1(db, module):\n",
    "    # Load rank of genes from database.\n",
    "    df = db.load(module)\n",
    "    features, genes, rankings = df.index.values, df.columns.values, df.values\n",
    "    \n",
    "    # Calculate recovery curves, AUC and NES values.\n",
    "    rccs, aucs = recovery(df, db.total_genes, np.full(len(genes), 1.0), rank_threshold=1500, auc_threshold=0.01)\n",
    "    ness = (aucs - aucs.mean()) / aucs.std()\n",
    "    \n",
    "    enriched_features_idx = ness >= 3.0\n",
    "    enriched_features = pd.DataFrame(index=pd.MultiIndex.from_tuples(list(zip(repeat(module.transcription_factor),\n",
    "                                                                              features[enriched_features_idx])),\n",
    "                                                                     names=[\"gene_name\", \"#motif_id\"]),\n",
    "                                     data={COLUMN_NAME_NES: ness[enriched_features_idx],\n",
    "                                           COLUMN_NAME_AUC: aucs[enriched_features_idx]})\n",
    "    \n",
    "    return enriched_features"
   ]
  },
  {
   "cell_type": "code",
   "execution_count": 12,
   "metadata": {},
   "outputs": [],
   "source": [
    "def impl2(db, module):\n",
    "    # Load rank of genes from database.\n",
    "    df = db.load(module)\n",
    "    features, genes, rankings = df.index.values, df.columns.values, df.values\n",
    "    \n",
    "    # Calculate recovery curves, AUC and NES values.\n",
    "    aucs = calc_aucs(df, db.total_genes, rank_threshold=1500, auc_threshold=0.01)\n",
    "    ness = (aucs - aucs.mean()) / aucs.std()\n",
    "    \n",
    "    enriched_features_idx = ness >= 3.0\n",
    "    enriched_features = pd.DataFrame(index=pd.MultiIndex.from_tuples(list(zip(repeat(module.transcription_factor),\n",
    "                                                                              features[enriched_features_idx])),\n",
    "                                                                     names=[\"gene_name\", \"#motif_id\"]),\n",
    "                                     data={COLUMN_NAME_NES: ness[enriched_features_idx],\n",
    "                                           COLUMN_NAME_AUC: aucs[enriched_features_idx]})\n",
    "    \n",
    "    return enriched_features"
   ]
  },
  {
   "cell_type": "code",
   "execution_count": 13,
   "metadata": {},
   "outputs": [],
   "source": [
    "df1 = impl1(dbs[0], modules[0]).sort_values(by=COLUMN_NAME_NES, ascending=False)"
   ]
  },
  {
   "cell_type": "code",
   "execution_count": 14,
   "metadata": {},
   "outputs": [],
   "source": [
    "df2 = impl2(dbs[0], modules[0]).sort_values(by=COLUMN_NAME_NES, ascending=False)"
   ]
  },
  {
   "cell_type": "code",
   "execution_count": 15,
   "metadata": {},
   "outputs": [
    {
     "data": {
      "text/html": [
       "<div>\n",
       "<style scoped>\n",
       "    .dataframe tbody tr th:only-of-type {\n",
       "        vertical-align: middle;\n",
       "    }\n",
       "\n",
       "    .dataframe tbody tr th {\n",
       "        vertical-align: top;\n",
       "    }\n",
       "\n",
       "    .dataframe thead th {\n",
       "        text-align: right;\n",
       "    }\n",
       "</style>\n",
       "<table border=\"1\" class=\"dataframe\">\n",
       "  <thead>\n",
       "    <tr style=\"text-align: right;\">\n",
       "      <th></th>\n",
       "      <th></th>\n",
       "      <th>AUC</th>\n",
       "      <th>NES</th>\n",
       "    </tr>\n",
       "    <tr>\n",
       "      <th>gene_name</th>\n",
       "      <th>#motif_id</th>\n",
       "      <th></th>\n",
       "      <th></th>\n",
       "    </tr>\n",
       "  </thead>\n",
       "  <tbody>\n",
       "    <tr>\n",
       "      <th rowspan=\"5\" valign=\"top\">Aatf</th>\n",
       "      <th>cisbp__M4554</th>\n",
       "      <td>0.013005</td>\n",
       "      <td>5.798997</td>\n",
       "    </tr>\n",
       "    <tr>\n",
       "      <th>transfac_pro__M02068</th>\n",
       "      <td>0.012537</td>\n",
       "      <td>5.407596</td>\n",
       "    </tr>\n",
       "    <tr>\n",
       "      <th>cisbp__M4700</th>\n",
       "      <td>0.012237</td>\n",
       "      <td>5.156698</td>\n",
       "    </tr>\n",
       "    <tr>\n",
       "      <th>transfac_pro__M02065</th>\n",
       "      <td>0.012218</td>\n",
       "      <td>5.141087</td>\n",
       "    </tr>\n",
       "    <tr>\n",
       "      <th>homer__HACTTCCGGY_Elk1</th>\n",
       "      <td>0.012209</td>\n",
       "      <td>5.133281</td>\n",
       "    </tr>\n",
       "  </tbody>\n",
       "</table>\n",
       "</div>"
      ],
      "text/plain": [
       "                                       AUC       NES\n",
       "gene_name #motif_id                                 \n",
       "Aatf      cisbp__M4554            0.013005  5.798997\n",
       "          transfac_pro__M02068    0.012537  5.407596\n",
       "          cisbp__M4700            0.012237  5.156698\n",
       "          transfac_pro__M02065    0.012218  5.141087\n",
       "          homer__HACTTCCGGY_Elk1  0.012209  5.133281"
      ]
     },
     "execution_count": 15,
     "metadata": {},
     "output_type": "execute_result"
    }
   ],
   "source": [
    "df1.head()"
   ]
  },
  {
   "cell_type": "code",
   "execution_count": 16,
   "metadata": {},
   "outputs": [
    {
     "data": {
      "text/html": [
       "<div>\n",
       "<style scoped>\n",
       "    .dataframe tbody tr th:only-of-type {\n",
       "        vertical-align: middle;\n",
       "    }\n",
       "\n",
       "    .dataframe tbody tr th {\n",
       "        vertical-align: top;\n",
       "    }\n",
       "\n",
       "    .dataframe thead th {\n",
       "        text-align: right;\n",
       "    }\n",
       "</style>\n",
       "<table border=\"1\" class=\"dataframe\">\n",
       "  <thead>\n",
       "    <tr style=\"text-align: right;\">\n",
       "      <th></th>\n",
       "      <th></th>\n",
       "      <th>AUC</th>\n",
       "      <th>NES</th>\n",
       "    </tr>\n",
       "    <tr>\n",
       "      <th>gene_name</th>\n",
       "      <th>#motif_id</th>\n",
       "      <th></th>\n",
       "      <th></th>\n",
       "    </tr>\n",
       "  </thead>\n",
       "  <tbody>\n",
       "    <tr>\n",
       "      <th rowspan=\"5\" valign=\"top\">Aatf</th>\n",
       "      <th>cisbp__M4554</th>\n",
       "      <td>0.013005</td>\n",
       "      <td>5.798997</td>\n",
       "    </tr>\n",
       "    <tr>\n",
       "      <th>transfac_pro__M02068</th>\n",
       "      <td>0.012537</td>\n",
       "      <td>5.407596</td>\n",
       "    </tr>\n",
       "    <tr>\n",
       "      <th>cisbp__M4700</th>\n",
       "      <td>0.012237</td>\n",
       "      <td>5.156698</td>\n",
       "    </tr>\n",
       "    <tr>\n",
       "      <th>transfac_pro__M02065</th>\n",
       "      <td>0.012218</td>\n",
       "      <td>5.141087</td>\n",
       "    </tr>\n",
       "    <tr>\n",
       "      <th>homer__HACTTCCGGY_Elk1</th>\n",
       "      <td>0.012209</td>\n",
       "      <td>5.133281</td>\n",
       "    </tr>\n",
       "  </tbody>\n",
       "</table>\n",
       "</div>"
      ],
      "text/plain": [
       "                                       AUC       NES\n",
       "gene_name #motif_id                                 \n",
       "Aatf      cisbp__M4554            0.013005  5.798997\n",
       "          transfac_pro__M02068    0.012537  5.407596\n",
       "          cisbp__M4700            0.012237  5.156698\n",
       "          transfac_pro__M02065    0.012218  5.141087\n",
       "          homer__HACTTCCGGY_Elk1  0.012209  5.133281"
      ]
     },
     "execution_count": 16,
     "metadata": {},
     "output_type": "execute_result"
    }
   ],
   "source": [
    "df2.head()"
   ]
  },
  {
   "cell_type": "code",
   "execution_count": 17,
   "metadata": {},
   "outputs": [],
   "source": [
    "df = pd.merge(df1, df2, how='inner', left_index=True, right_index=True)"
   ]
  },
  {
   "cell_type": "code",
   "execution_count": 18,
   "metadata": {},
   "outputs": [
    {
     "data": {
      "text/html": [
       "<div>\n",
       "<style scoped>\n",
       "    .dataframe tbody tr th:only-of-type {\n",
       "        vertical-align: middle;\n",
       "    }\n",
       "\n",
       "    .dataframe tbody tr th {\n",
       "        vertical-align: top;\n",
       "    }\n",
       "\n",
       "    .dataframe thead th {\n",
       "        text-align: right;\n",
       "    }\n",
       "</style>\n",
       "<table border=\"1\" class=\"dataframe\">\n",
       "  <thead>\n",
       "    <tr style=\"text-align: right;\">\n",
       "      <th></th>\n",
       "      <th></th>\n",
       "      <th>AUC_x</th>\n",
       "      <th>NES_x</th>\n",
       "      <th>AUC_y</th>\n",
       "      <th>NES_y</th>\n",
       "    </tr>\n",
       "    <tr>\n",
       "      <th>gene_name</th>\n",
       "      <th>#motif_id</th>\n",
       "      <th></th>\n",
       "      <th></th>\n",
       "      <th></th>\n",
       "      <th></th>\n",
       "    </tr>\n",
       "  </thead>\n",
       "  <tbody>\n",
       "    <tr>\n",
       "      <th rowspan=\"5\" valign=\"top\">Aatf</th>\n",
       "      <th>cisbp__M4554</th>\n",
       "      <td>0.013005</td>\n",
       "      <td>5.798997</td>\n",
       "      <td>0.013005</td>\n",
       "      <td>5.798997</td>\n",
       "    </tr>\n",
       "    <tr>\n",
       "      <th>transfac_pro__M02068</th>\n",
       "      <td>0.012537</td>\n",
       "      <td>5.407596</td>\n",
       "      <td>0.012537</td>\n",
       "      <td>5.407596</td>\n",
       "    </tr>\n",
       "    <tr>\n",
       "      <th>cisbp__M4700</th>\n",
       "      <td>0.012237</td>\n",
       "      <td>5.156698</td>\n",
       "      <td>0.012237</td>\n",
       "      <td>5.156698</td>\n",
       "    </tr>\n",
       "    <tr>\n",
       "      <th>transfac_pro__M02065</th>\n",
       "      <td>0.012218</td>\n",
       "      <td>5.141087</td>\n",
       "      <td>0.012218</td>\n",
       "      <td>5.141087</td>\n",
       "    </tr>\n",
       "    <tr>\n",
       "      <th>homer__HACTTCCGGY_Elk1</th>\n",
       "      <td>0.012209</td>\n",
       "      <td>5.133281</td>\n",
       "      <td>0.012209</td>\n",
       "      <td>5.133281</td>\n",
       "    </tr>\n",
       "  </tbody>\n",
       "</table>\n",
       "</div>"
      ],
      "text/plain": [
       "                                     AUC_x     NES_x     AUC_y     NES_y\n",
       "gene_name #motif_id                                                     \n",
       "Aatf      cisbp__M4554            0.013005  5.798997  0.013005  5.798997\n",
       "          transfac_pro__M02068    0.012537  5.407596  0.012537  5.407596\n",
       "          cisbp__M4700            0.012237  5.156698  0.012237  5.156698\n",
       "          transfac_pro__M02065    0.012218  5.141087  0.012218  5.141087\n",
       "          homer__HACTTCCGGY_Elk1  0.012209  5.133281  0.012209  5.133281"
      ]
     },
     "execution_count": 18,
     "metadata": {},
     "output_type": "execute_result"
    }
   ],
   "source": [
    "df.head()"
   ]
  },
  {
   "cell_type": "code",
   "execution_count": 19,
   "metadata": {},
   "outputs": [
    {
     "data": {
      "text/plain": [
       "<matplotlib.axes._subplots.AxesSubplot at 0x124035f60>"
      ]
     },
     "execution_count": 19,
     "metadata": {},
     "output_type": "execute_result"
    },
    {
     "data": {
      "image/png": "[encoded data removed]",
      "text/plain": [
       "<matplotlib.figure.Figure at 0x11def61d0>"
      ]
     },
     "metadata": {},
     "output_type": "display_data"
    }
   ],
   "source": [
    "df.plot.scatter(x='AUC_x', y='AUC_y')"
   ]
  },
  {
   "cell_type": "code",
   "execution_count": 20,
   "metadata": {},
   "outputs": [
    {
     "data": {
      "text/plain": [
       "<matplotlib.axes._subplots.AxesSubplot at 0x124035748>"
      ]
     },
     "execution_count": 20,
     "metadata": {},
     "output_type": "execute_result"
    },
    {
     "data": {
      "image/png": "[encoded data removed]",
      "text/plain": [
       "<matplotlib.figure.Figure at 0x11def6748>"
      ]
     },
     "metadata": {},
     "output_type": "display_data"
    }
   ],
   "source": [
    "df.plot.scatter(x='NES_x', y='NES_y')"
   ]
  },
  {
   "cell_type": "markdown",
   "metadata": {},
   "source": [
    "#### Assess regulomes"
   ]
  },
  {
   "cell_type": "code",
   "execution_count": null,
   "metadata": {},
   "outputs": [],
   "source": []
  },
  {
   "cell_type": "markdown",
   "metadata": {},
   "source": []
  }
 ],
 "metadata": {
  "kernelspec": {
   "display_name": "Python 3.6.2 (pyscenic_dev)",
   "language": "python",
   "name": "pyscenic_dev"
  },
  "language_info": {
   "codemirror_mode": {
    "name": "ipython",
    "version": 3
   },
   "file_extension": ".py",
   "mimetype": "text/x-python",
   "name": "python",
   "nbconvert_exporter": "python",
   "pygments_lexer": "ipython3",
   "version": "3.6.2"
  }
 },
 "nbformat": 4,
 "nbformat_minor": 2
}
