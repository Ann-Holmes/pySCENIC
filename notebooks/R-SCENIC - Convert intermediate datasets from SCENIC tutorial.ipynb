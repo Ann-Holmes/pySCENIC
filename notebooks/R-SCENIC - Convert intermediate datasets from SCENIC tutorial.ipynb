{
 "cells": [
  {
   "cell_type": "markdown",
   "metadata": {},
   "source": [
    "__Author:__ Bram Van de Sande\n",
    "\n",
    "__Date:__ 7 FEB 2018\n",
    "\n",
    "__Outline:__ This notebook converts RData files to text files that can loaded by python scripts."
   ]
  },
  {
   "cell_type": "code",
   "execution_count": 17,
   "metadata": {},
   "outputs": [],
   "source": [
    "load('/Users/bramvandesande/Projects/lcb/resources/rscenic/1.2_inputTFs.RData')\n",
    "write(inputTFs, '/Users/bramvandesande/Projects/lcb/resources/rscenic/1.2_inputTFs.txt', sep = \"\\t\")\n",
    "load('/Users/bramvandesande/Projects/lcb/resources/rscenic/1.5_GENIE3_linkList.RData')\n",
    "write.csv(linkList, '/Users/bramvandesande/Projects/lcb/resources/rscenic/1.5_GENIE3_linkList.txt')\n",
    "load('/Users/bramvandesande/Projects/lcb/resources/rscenic/1.6_tfModules.RData')\n",
    "write.csv(tfModules, '/Users/bramvandesande/Projects/lcb/resources/rscenic/1.6_tfModules.txt')\n",
    "load('/Users/bramvandesande/Projects/lcb/resources/rscenic/1.7_tfModules_withCorr.RData')\n",
    "write.csv(tfModules_withCorr, '/Users/bramvandesande/Projects/lcb/resources/rscenic/1.7_tfModules_withCorr.txt')\n",
    "load('/Users/bramvandesande/Projects/lcb/resources/rscenic/2.3_motifEnrichment.RData')\n",
    "load('/Users/bramvandesande/Projects/lcb/resources/rscenic/2.4_motifEnrichment_selfMotifs.RData')"
   ]
  },
  {
   "cell_type": "code",
   "execution_count": 18,
   "metadata": {},
   "outputs": [
    {
     "data": {
      "text/html": [
       "<ol class=list-inline>\n",
       "\t<li>'inputTFs'</li>\n",
       "\t<li>'linkList'</li>\n",
       "\t<li>'motifEnrichment'</li>\n",
       "\t<li>'motifEnrichment_selfMotifs'</li>\n",
       "\t<li>'tfModules'</li>\n",
       "\t<li>'tfModules_withCorr'</li>\n",
       "</ol>\n"
      ],
      "text/latex": [
       "\\begin{enumerate*}\n",
       "\\item 'inputTFs'\n",
       "\\item 'linkList'\n",
       "\\item 'motifEnrichment'\n",
       "\\item 'motifEnrichment\\_selfMotifs'\n",
       "\\item 'tfModules'\n",
       "\\item 'tfModules\\_withCorr'\n",
       "\\end{enumerate*}\n"
      ],
      "text/markdown": [
       "1. 'inputTFs'\n",
       "2. 'linkList'\n",
       "3. 'motifEnrichment'\n",
       "4. 'motifEnrichment_selfMotifs'\n",
       "5. 'tfModules'\n",
       "6. 'tfModules_withCorr'\n",
       "\n",
       "\n"
      ],
      "text/plain": [
       "[1] \"inputTFs\"                   \"linkList\"                  \n",
       "[3] \"motifEnrichment\"            \"motifEnrichment_selfMotifs\"\n",
       "[5] \"tfModules\"                  \"tfModules_withCorr\"        "
      ]
     },
     "metadata": {},
     "output_type": "display_data"
    }
   ],
   "source": [
    "ls()"
   ]
  },
  {
   "cell_type": "code",
   "execution_count": 19,
   "metadata": {},
   "outputs": [
    {
     "data": {
      "text/html": [
       "<table>\n",
       "<thead><tr><th scope=col>TF</th><th scope=col>Target</th><th scope=col>weight</th></tr></thead>\n",
       "<tbody>\n",
       "\t<tr><td>Dab2     </td><td>Pf4      </td><td>0.1739159</td></tr>\n",
       "\t<tr><td>Dab2     </td><td>Mrc1     </td><td>0.1672642</td></tr>\n",
       "\t<tr><td>Dab2     </td><td>Cbr2     </td><td>0.1465765</td></tr>\n",
       "\t<tr><td>Dab2     </td><td>Tyrobp   </td><td>0.1448535</td></tr>\n",
       "\t<tr><td>Dab2     </td><td>Stab1    </td><td>0.1423670</td></tr>\n",
       "\t<tr><td>Dab2     </td><td>Ms4a7    </td><td>0.1407845</td></tr>\n",
       "</tbody>\n",
       "</table>\n"
      ],
      "text/latex": [
       "\\begin{tabular}{r|lll}\n",
       " TF & Target & weight\\\\\n",
       "\\hline\n",
       "\t Dab2      & Pf4       & 0.1739159\\\\\n",
       "\t Dab2      & Mrc1      & 0.1672642\\\\\n",
       "\t Dab2      & Cbr2      & 0.1465765\\\\\n",
       "\t Dab2      & Tyrobp    & 0.1448535\\\\\n",
       "\t Dab2      & Stab1     & 0.1423670\\\\\n",
       "\t Dab2      & Ms4a7     & 0.1407845\\\\\n",
       "\\end{tabular}\n"
      ],
      "text/markdown": [
       "\n",
       "TF | Target | weight | \n",
       "|---|---|---|---|---|---|\n",
       "| Dab2      | Pf4       | 0.1739159 | \n",
       "| Dab2      | Mrc1      | 0.1672642 | \n",
       "| Dab2      | Cbr2      | 0.1465765 | \n",
       "| Dab2      | Tyrobp    | 0.1448535 | \n",
       "| Dab2      | Stab1     | 0.1423670 | \n",
       "| Dab2      | Ms4a7     | 0.1407845 | \n",
       "\n",
       "\n"
      ],
      "text/plain": [
       "  TF   Target weight   \n",
       "1 Dab2 Pf4    0.1739159\n",
       "2 Dab2 Mrc1   0.1672642\n",
       "3 Dab2 Cbr2   0.1465765\n",
       "4 Dab2 Tyrobp 0.1448535\n",
       "5 Dab2 Stab1  0.1423670\n",
       "6 Dab2 Ms4a7  0.1407845"
      ]
     },
     "metadata": {},
     "output_type": "display_data"
    }
   ],
   "source": [
    "head(linkList)"
   ]
  },
  {
   "cell_type": "code",
   "execution_count": 20,
   "metadata": {},
   "outputs": [
    {
     "data": {
      "text/html": [
       "<table>\n",
       "<thead><tr><th scope=col>Target</th><th scope=col>TF</th><th scope=col>method</th></tr></thead>\n",
       "<tbody>\n",
       "\t<tr><td>Slc27a3      </td><td>1810024B03Rik</td><td>w001         </td></tr>\n",
       "\t<tr><td>Ankrd39      </td><td>1810024B03Rik</td><td>w001         </td></tr>\n",
       "\t<tr><td>Tbc1d25      </td><td>1810024B03Rik</td><td>w001         </td></tr>\n",
       "\t<tr><td>Mak          </td><td>1810024B03Rik</td><td>w001         </td></tr>\n",
       "\t<tr><td>Tmem86b      </td><td>1810024B03Rik</td><td>w001         </td></tr>\n",
       "\t<tr><td>Amot         </td><td>1810024B03Rik</td><td>w001         </td></tr>\n",
       "</tbody>\n",
       "</table>\n"
      ],
      "text/latex": [
       "\\begin{tabular}{r|lll}\n",
       " Target & TF & method\\\\\n",
       "\\hline\n",
       "\t Slc27a3       & 1810024B03Rik & w001         \\\\\n",
       "\t Ankrd39       & 1810024B03Rik & w001         \\\\\n",
       "\t Tbc1d25       & 1810024B03Rik & w001         \\\\\n",
       "\t Mak           & 1810024B03Rik & w001         \\\\\n",
       "\t Tmem86b       & 1810024B03Rik & w001         \\\\\n",
       "\t Amot          & 1810024B03Rik & w001         \\\\\n",
       "\\end{tabular}\n"
      ],
      "text/markdown": [
       "\n",
       "Target | TF | method | \n",
       "|---|---|---|---|---|---|\n",
       "| Slc27a3       | 1810024B03Rik | w001          | \n",
       "| Ankrd39       | 1810024B03Rik | w001          | \n",
       "| Tbc1d25       | 1810024B03Rik | w001          | \n",
       "| Mak           | 1810024B03Rik | w001          | \n",
       "| Tmem86b       | 1810024B03Rik | w001          | \n",
       "| Amot          | 1810024B03Rik | w001          | \n",
       "\n",
       "\n"
      ],
      "text/plain": [
       "  Target  TF            method\n",
       "1 Slc27a3 1810024B03Rik w001  \n",
       "2 Ankrd39 1810024B03Rik w001  \n",
       "3 Tbc1d25 1810024B03Rik w001  \n",
       "4 Mak     1810024B03Rik w001  \n",
       "5 Tmem86b 1810024B03Rik w001  \n",
       "6 Amot    1810024B03Rik w001  "
      ]
     },
     "metadata": {},
     "output_type": "display_data"
    }
   ],
   "source": [
    "head(tfModules)"
   ]
  },
  {
   "cell_type": "code",
   "execution_count": 21,
   "metadata": {},
   "outputs": [
    {
     "data": {
      "text/html": [
       "4363616"
      ],
      "text/latex": [
       "4363616"
      ],
      "text/markdown": [
       "4363616"
      ],
      "text/plain": [
       "[1] 4363616"
      ]
     },
     "metadata": {},
     "output_type": "display_data"
    }
   ],
   "source": [
    "nrow(tfModules)"
   ]
  },
  {
   "cell_type": "code",
   "execution_count": 22,
   "metadata": {},
   "outputs": [
    {
     "data": {
      "text/html": [
       "<table>\n",
       "<thead><tr><th scope=col>Target</th><th scope=col>TF</th><th scope=col>method</th><th scope=col>corr</th></tr></thead>\n",
       "<tbody>\n",
       "\t<tr><td>Slc27a3      </td><td>1810024B03Rik</td><td>w001         </td><td>0            </td></tr>\n",
       "\t<tr><td>Ankrd39      </td><td>1810024B03Rik</td><td>w001         </td><td>1            </td></tr>\n",
       "\t<tr><td>Tbc1d25      </td><td>1810024B03Rik</td><td>w001         </td><td>0            </td></tr>\n",
       "\t<tr><td>Mak          </td><td>1810024B03Rik</td><td>w001         </td><td>1            </td></tr>\n",
       "\t<tr><td>Tmem86b      </td><td>1810024B03Rik</td><td>w001         </td><td>1            </td></tr>\n",
       "\t<tr><td>Amot         </td><td>1810024B03Rik</td><td>w001         </td><td>1            </td></tr>\n",
       "</tbody>\n",
       "</table>\n"
      ],
      "text/latex": [
       "\\begin{tabular}{r|llll}\n",
       " Target & TF & method & corr\\\\\n",
       "\\hline\n",
       "\t Slc27a3       & 1810024B03Rik & w001          & 0            \\\\\n",
       "\t Ankrd39       & 1810024B03Rik & w001          & 1            \\\\\n",
       "\t Tbc1d25       & 1810024B03Rik & w001          & 0            \\\\\n",
       "\t Mak           & 1810024B03Rik & w001          & 1            \\\\\n",
       "\t Tmem86b       & 1810024B03Rik & w001          & 1            \\\\\n",
       "\t Amot          & 1810024B03Rik & w001          & 1            \\\\\n",
       "\\end{tabular}\n"
      ],
      "text/markdown": [
       "\n",
       "Target | TF | method | corr | \n",
       "|---|---|---|---|---|---|\n",
       "| Slc27a3       | 1810024B03Rik | w001          | 0             | \n",
       "| Ankrd39       | 1810024B03Rik | w001          | 1             | \n",
       "| Tbc1d25       | 1810024B03Rik | w001          | 0             | \n",
       "| Mak           | 1810024B03Rik | w001          | 1             | \n",
       "| Tmem86b       | 1810024B03Rik | w001          | 1             | \n",
       "| Amot          | 1810024B03Rik | w001          | 1             | \n",
       "\n",
       "\n"
      ],
      "text/plain": [
       "  Target  TF            method corr\n",
       "1 Slc27a3 1810024B03Rik w001   0   \n",
       "2 Ankrd39 1810024B03Rik w001   1   \n",
       "3 Tbc1d25 1810024B03Rik w001   0   \n",
       "4 Mak     1810024B03Rik w001   1   \n",
       "5 Tmem86b 1810024B03Rik w001   1   \n",
       "6 Amot    1810024B03Rik w001   1   "
      ]
     },
     "metadata": {},
     "output_type": "display_data"
    }
   ],
   "source": [
    "head(tfModules_withCorr)"
   ]
  },
  {
   "cell_type": "code",
   "execution_count": 23,
   "metadata": {},
   "outputs": [
    {
     "data": {
      "text/html": [
       "4363616"
      ],
      "text/latex": [
       "4363616"
      ],
      "text/markdown": [
       "4363616"
      ],
      "text/plain": [
       "[1] 4363616"
      ]
     },
     "metadata": {},
     "output_type": "display_data"
    }
   ],
   "source": [
    "nrow(tfModules_withCorr)"
   ]
  },
  {
   "cell_type": "code",
   "execution_count": null,
   "metadata": {},
   "outputs": [],
   "source": []
  }
 ],
 "metadata": {
  "kernelspec": {
   "display_name": "R",
   "language": "R",
   "name": "ir"
  },
  "language_info": {
   "codemirror_mode": "r",
   "file_extension": ".r",
   "mimetype": "text/x-r-source",
   "name": "R",
   "pygments_lexer": "r",
   "version": "3.4.2"
  }
 },
 "nbformat": 4,
 "nbformat_minor": 2
}
