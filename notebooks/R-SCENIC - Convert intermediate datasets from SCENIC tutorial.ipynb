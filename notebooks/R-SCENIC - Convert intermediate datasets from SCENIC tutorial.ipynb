{
 "cells": [
  {
   "cell_type": "markdown",
   "metadata": {},
   "source": [
    "__Author:__ Bram Van de Sande\n",
    "\n",
    "__Date:__ 7 FEB 2018\n",
    "\n",
    "__Outline:__ This notebook converts RData files to text files that can loaded by python scripts."
   ]
  },
  {
   "cell_type": "code",
   "execution_count": 1,
   "metadata": {},
   "outputs": [],
   "source": [
    "load('/Users/bramvandesande/Projects/lcb/resources/rscenic/2.4_motifEnrichment_selfMotifs.RData')"
   ]
  },
  {
   "cell_type": "code",
   "execution_count": 2,
   "metadata": {},
   "outputs": [
    {
     "data": {
      "text/html": [
       "'motifEnrichment_selfMotifs'"
      ],
      "text/latex": [
       "'motifEnrichment\\_selfMotifs'"
      ],
      "text/markdown": [
       "'motifEnrichment_selfMotifs'"
      ],
      "text/plain": [
       "[1] \"motifEnrichment_selfMotifs\""
      ]
     },
     "metadata": {},
     "output_type": "display_data"
    }
   ],
   "source": [
    "ls()"
   ]
  },
  {
   "cell_type": "code",
   "execution_count": 5,
   "metadata": {},
   "outputs": [],
   "source": [
    "df <- as.data.frame(motifEnrichment_selfMotifs)"
   ]
  },
  {
   "cell_type": "code",
   "execution_count": 6,
   "metadata": {},
   "outputs": [
    {
     "data": {
      "text/html": [
       "<table>\n",
       "<thead><tr><th scope=col>motifDb</th><th scope=col>geneSet</th><th scope=col>motif</th><th scope=col>NES</th><th scope=col>AUC</th><th scope=col>highlightedTFs</th><th scope=col>TFinDB</th><th scope=col>TF_direct</th><th scope=col>TF_inferred</th></tr></thead>\n",
       "<tbody>\n",
       "\t<tr><td>500bp                                                                                  </td><td>Acaa1b_top50                                                                           </td><td>transfac_pro__M01543                                                                   </td><td>4.39                                                                                   </td><td>0.0749                                                                                 </td><td>Acaa1b                                                                                 </td><td>**                                                                                     </td><td>Acaa1a; Acaa1b; Foxf1; Foxf2; Foxg1; Foxh1; Foxk1; Foxk2; Foxq1; Gm43517; Gm5294; Hadhb</td><td>                                                                                       </td></tr>\n",
       "\t<tr><td>500bp                                                                                  </td><td>Acaa1b_top50                                                                           </td><td>transfac_pro__M04671                                                                   </td><td>4.28                                                                                   </td><td>0.0733                                                                                 </td><td>Acaa1b                                                                                 </td><td>**                                                                                     </td><td>Acaa1a; Acaa1b; Foxf1; Foxf2; Foxg1; Foxh1; Foxk1; Foxk2; Foxq1; Gm43517; Gm5294; Hadhb</td><td>                                                                                       </td></tr>\n",
       "\t<tr><td>500bp                                                                                  </td><td>Ahr_w001                                                                               </td><td>transfac_pro__M00778                                                                   </td><td>3.22                                                                                   </td><td>0.0131                                                                                 </td><td>Ahr                                                                                    </td><td>**                                                                                     </td><td>Ahr                                                                                    </td><td>                                                                                       </td></tr>\n",
       "\t<tr><td>500bp                                                                                  </td><td>Ahr_w001                                                                               </td><td>hocomoco__AHR_HUMAN.H10MO.B                                                            </td><td>3.12                                                                                   </td><td>0.0129                                                                                 </td><td>Ahr                                                                                    </td><td>**                                                                                     </td><td>Ahr                                                                                    </td><td>Arnt                                                                                   </td></tr>\n",
       "\t<tr><td>500bp                                                                                  </td><td>Ahr_w001                                                                               </td><td>cisbp__M6139                                                                           </td><td>3.08                                                                                   </td><td>0.0128                                                                                 </td><td>Ahr                                                                                    </td><td>**                                                                                     </td><td>Ahr                                                                                    </td><td>Arnt                                                                                   </td></tr>\n",
       "\t<tr><td>500bp                                                                                  </td><td>Ahr_w001                                                                               </td><td>transfac_pro__M00976                                                                   </td><td>3.03                                                                                   </td><td>0.0127                                                                                 </td><td>Ahr                                                                                    </td><td>**                                                                                     </td><td>Ahr; Ahrr; Arnt; Arnt2; Hif1a                                                          </td><td>                                                                                       </td></tr>\n",
       "</tbody>\n",
       "</table>\n"
      ],
      "text/latex": [
       "\\begin{tabular}{r|lllllllll}\n",
       " motifDb & geneSet & motif & NES & AUC & highlightedTFs & TFinDB & TF\\_direct & TF\\_inferred\\\\\n",
       "\\hline\n",
       "\t 500bp                                                                                   & Acaa1b\\_top50                                                                          & transfac\\_pro\\_\\_M01543                                                              & 4.39                                                                                    & 0.0749                                                                                  & Acaa1b                                                                                  & **                                                                                      & Acaa1a; Acaa1b; Foxf1; Foxf2; Foxg1; Foxh1; Foxk1; Foxk2; Foxq1; Gm43517; Gm5294; Hadhb &                                                                                        \\\\\n",
       "\t 500bp                                                                                   & Acaa1b\\_top50                                                                          & transfac\\_pro\\_\\_M04671                                                              & 4.28                                                                                    & 0.0733                                                                                  & Acaa1b                                                                                  & **                                                                                      & Acaa1a; Acaa1b; Foxf1; Foxf2; Foxg1; Foxh1; Foxk1; Foxk2; Foxq1; Gm43517; Gm5294; Hadhb &                                                                                        \\\\\n",
       "\t 500bp                                                                                   & Ahr\\_w001                                                                              & transfac\\_pro\\_\\_M00778                                                              & 3.22                                                                                    & 0.0131                                                                                  & Ahr                                                                                     & **                                                                                      & Ahr                                                                                     &                                                                                        \\\\\n",
       "\t 500bp                                                                                   & Ahr\\_w001                                                                              & hocomoco\\_\\_AHR\\_HUMAN.H10MO.B                                                       & 3.12                                                                                    & 0.0129                                                                                  & Ahr                                                                                     & **                                                                                      & Ahr                                                                                     & Arnt                                                                                   \\\\\n",
       "\t 500bp                                                                                   & Ahr\\_w001                                                                              & cisbp\\_\\_M6139                                                                        & 3.08                                                                                    & 0.0128                                                                                  & Ahr                                                                                     & **                                                                                      & Ahr                                                                                     & Arnt                                                                                   \\\\\n",
       "\t 500bp                                                                                   & Ahr\\_w001                                                                              & transfac\\_pro\\_\\_M00976                                                              & 3.03                                                                                    & 0.0127                                                                                  & Ahr                                                                                     & **                                                                                      & Ahr; Ahrr; Arnt; Arnt2; Hif1a                                                           &                                                                                        \\\\\n",
       "\\end{tabular}\n"
      ],
      "text/markdown": [
       "\n",
       "motifDb | geneSet | motif | NES | AUC | highlightedTFs | TFinDB | TF_direct | TF_inferred | \n",
       "|---|---|---|---|---|---|\n",
       "| 500bp                                                                                   | Acaa1b_top50                                                                            | transfac_pro__M01543                                                                    | 4.39                                                                                    | 0.0749                                                                                  | Acaa1b                                                                                  | **                                                                                      | Acaa1a; Acaa1b; Foxf1; Foxf2; Foxg1; Foxh1; Foxk1; Foxk2; Foxq1; Gm43517; Gm5294; Hadhb |                                                                                         | \n",
       "| 500bp                                                                                   | Acaa1b_top50                                                                            | transfac_pro__M04671                                                                    | 4.28                                                                                    | 0.0733                                                                                  | Acaa1b                                                                                  | **                                                                                      | Acaa1a; Acaa1b; Foxf1; Foxf2; Foxg1; Foxh1; Foxk1; Foxk2; Foxq1; Gm43517; Gm5294; Hadhb |                                                                                         | \n",
       "| 500bp                                                                                   | Ahr_w001                                                                                | transfac_pro__M00778                                                                    | 3.22                                                                                    | 0.0131                                                                                  | Ahr                                                                                     | **                                                                                      | Ahr                                                                                     |                                                                                         | \n",
       "| 500bp                                                                                   | Ahr_w001                                                                                | hocomoco__AHR_HUMAN.H10MO.B                                                             | 3.12                                                                                    | 0.0129                                                                                  | Ahr                                                                                     | **                                                                                      | Ahr                                                                                     | Arnt                                                                                    | \n",
       "| 500bp                                                                                   | Ahr_w001                                                                                | cisbp__M6139                                                                            | 3.08                                                                                    | 0.0128                                                                                  | Ahr                                                                                     | **                                                                                      | Ahr                                                                                     | Arnt                                                                                    | \n",
       "| 500bp                                                                                   | Ahr_w001                                                                                | transfac_pro__M00976                                                                    | 3.03                                                                                    | 0.0127                                                                                  | Ahr                                                                                     | **                                                                                      | Ahr; Ahrr; Arnt; Arnt2; Hif1a                                                           |                                                                                         | \n",
       "\n",
       "\n"
      ],
      "text/plain": [
       "  motifDb geneSet      motif                       NES  AUC    highlightedTFs\n",
       "1 500bp   Acaa1b_top50 transfac_pro__M01543        4.39 0.0749 Acaa1b        \n",
       "2 500bp   Acaa1b_top50 transfac_pro__M04671        4.28 0.0733 Acaa1b        \n",
       "3 500bp   Ahr_w001     transfac_pro__M00778        3.22 0.0131 Ahr           \n",
       "4 500bp   Ahr_w001     hocomoco__AHR_HUMAN.H10MO.B 3.12 0.0129 Ahr           \n",
       "5 500bp   Ahr_w001     cisbp__M6139                3.08 0.0128 Ahr           \n",
       "6 500bp   Ahr_w001     transfac_pro__M00976        3.03 0.0127 Ahr           \n",
       "  TFinDB\n",
       "1 **    \n",
       "2 **    \n",
       "3 **    \n",
       "4 **    \n",
       "5 **    \n",
       "6 **    \n",
       "  TF_direct                                                                              \n",
       "1 Acaa1a; Acaa1b; Foxf1; Foxf2; Foxg1; Foxh1; Foxk1; Foxk2; Foxq1; Gm43517; Gm5294; Hadhb\n",
       "2 Acaa1a; Acaa1b; Foxf1; Foxf2; Foxg1; Foxh1; Foxk1; Foxk2; Foxq1; Gm43517; Gm5294; Hadhb\n",
       "3 Ahr                                                                                    \n",
       "4 Ahr                                                                                    \n",
       "5 Ahr                                                                                    \n",
       "6 Ahr; Ahrr; Arnt; Arnt2; Hif1a                                                          \n",
       "  TF_inferred\n",
       "1            \n",
       "2            \n",
       "3            \n",
       "4 Arnt       \n",
       "5 Arnt       \n",
       "6            "
      ]
     },
     "metadata": {},
     "output_type": "display_data"
    }
   ],
   "source": [
    "head(df)"
   ]
  },
  {
   "cell_type": "code",
   "execution_count": 7,
   "metadata": {},
   "outputs": [],
   "source": [
    "write.csv(df, '/Users/bramvandesande/Projects/lcb/resources/rscenic/2.4_motifEnrichment_selfMotifs.txt')"
   ]
  },
  {
   "cell_type": "code",
   "execution_count": 2,
   "metadata": {},
   "outputs": [],
   "source": [
    "load('/Users/bramvandesande/Projects/lcb/resources/rscenic/1.2_inputTFs.RData')\n",
    "write(inputTFs, '/Users/bramvandesande/Projects/lcb/resources/rscenic/1.2_inputTFs.txt', sep = \"\\t\")\n",
    "load('/Users/bramvandesande/Projects/lcb/resources/rscenic/1.5_GENIE3_linkList.RData')\n",
    "write.csv(linkList, '/Users/bramvandesande/Projects/lcb/resources/rscenic/1.5_GENIE3_linkList.txt')\n",
    "load('/Users/bramvandesande/Projects/lcb/resources/rscenic/1.6_tfModules.RData')\n",
    "write.csv(tfModules, '/Users/bramvandesande/Projects/lcb/resources/rscenic/1.6_tfModules.txt')\n",
    "load('/Users/bramvandesande/Projects/lcb/resources/rscenic/1.7_tfModules_withCorr.RData')\n",
    "write.csv(tfModules_withCorr, '/Users/bramvandesande/Projects/lcb/resources/rscenic/1.7_tfModules_withCorr.txt')\n",
    "load('/Users/bramvandesande/Projects/lcb/resources/rscenic/2.3_motifEnrichment.RData')\n",
    "load('/Users/bramvandesande/Projects/lcb/resources/rscenic/2.4_motifEnrichment_selfMotifs.RData')\n",
    "write.csv(as.data.frame('motifEnrichment_selfMotifs'), '/Users/bramvandesande/Projects/lcb/resources/rscenic/2.4_motifEnrichment_selfMotifs.txt')"
   ]
  },
  {
   "cell_type": "code",
   "execution_count": 18,
   "metadata": {},
   "outputs": [
    {
     "data": {
      "text/html": [
       "<ol class=list-inline>\n",
       "\t<li>'inputTFs'</li>\n",
       "\t<li>'linkList'</li>\n",
       "\t<li>'motifEnrichment'</li>\n",
       "\t<li>'motifEnrichment_selfMotifs'</li>\n",
       "\t<li>'tfModules'</li>\n",
       "\t<li>'tfModules_withCorr'</li>\n",
       "</ol>\n"
      ],
      "text/latex": [
       "\\begin{enumerate*}\n",
       "\\item 'inputTFs'\n",
       "\\item 'linkList'\n",
       "\\item 'motifEnrichment'\n",
       "\\item 'motifEnrichment\\_selfMotifs'\n",
       "\\item 'tfModules'\n",
       "\\item 'tfModules\\_withCorr'\n",
       "\\end{enumerate*}\n"
      ],
      "text/markdown": [
       "1. 'inputTFs'\n",
       "2. 'linkList'\n",
       "3. 'motifEnrichment'\n",
       "4. 'motifEnrichment_selfMotifs'\n",
       "5. 'tfModules'\n",
       "6. 'tfModules_withCorr'\n",
       "\n",
       "\n"
      ],
      "text/plain": [
       "[1] \"inputTFs\"                   \"linkList\"                  \n",
       "[3] \"motifEnrichment\"            \"motifEnrichment_selfMotifs\"\n",
       "[5] \"tfModules\"                  \"tfModules_withCorr\"        "
      ]
     },
     "metadata": {},
     "output_type": "display_data"
    }
   ],
   "source": [
    "ls()"
   ]
  },
  {
   "cell_type": "code",
   "execution_count": 19,
   "metadata": {},
   "outputs": [
    {
     "data": {
      "text/html": [
       "<table>\n",
       "<thead><tr><th scope=col>TF</th><th scope=col>Target</th><th scope=col>weight</th></tr></thead>\n",
       "<tbody>\n",
       "\t<tr><td>Dab2     </td><td>Pf4      </td><td>0.1739159</td></tr>\n",
       "\t<tr><td>Dab2     </td><td>Mrc1     </td><td>0.1672642</td></tr>\n",
       "\t<tr><td>Dab2     </td><td>Cbr2     </td><td>0.1465765</td></tr>\n",
       "\t<tr><td>Dab2     </td><td>Tyrobp   </td><td>0.1448535</td></tr>\n",
       "\t<tr><td>Dab2     </td><td>Stab1    </td><td>0.1423670</td></tr>\n",
       "\t<tr><td>Dab2     </td><td>Ms4a7    </td><td>0.1407845</td></tr>\n",
       "</tbody>\n",
       "</table>\n"
      ],
      "text/latex": [
       "\\begin{tabular}{r|lll}\n",
       " TF & Target & weight\\\\\n",
       "\\hline\n",
       "\t Dab2      & Pf4       & 0.1739159\\\\\n",
       "\t Dab2      & Mrc1      & 0.1672642\\\\\n",
       "\t Dab2      & Cbr2      & 0.1465765\\\\\n",
       "\t Dab2      & Tyrobp    & 0.1448535\\\\\n",
       "\t Dab2      & Stab1     & 0.1423670\\\\\n",
       "\t Dab2      & Ms4a7     & 0.1407845\\\\\n",
       "\\end{tabular}\n"
      ],
      "text/markdown": [
       "\n",
       "TF | Target | weight | \n",
       "|---|---|---|---|---|---|\n",
       "| Dab2      | Pf4       | 0.1739159 | \n",
       "| Dab2      | Mrc1      | 0.1672642 | \n",
       "| Dab2      | Cbr2      | 0.1465765 | \n",
       "| Dab2      | Tyrobp    | 0.1448535 | \n",
       "| Dab2      | Stab1     | 0.1423670 | \n",
       "| Dab2      | Ms4a7     | 0.1407845 | \n",
       "\n",
       "\n"
      ],
      "text/plain": [
       "  TF   Target weight   \n",
       "1 Dab2 Pf4    0.1739159\n",
       "2 Dab2 Mrc1   0.1672642\n",
       "3 Dab2 Cbr2   0.1465765\n",
       "4 Dab2 Tyrobp 0.1448535\n",
       "5 Dab2 Stab1  0.1423670\n",
       "6 Dab2 Ms4a7  0.1407845"
      ]
     },
     "metadata": {},
     "output_type": "display_data"
    }
   ],
   "source": [
    "head(linkList)"
   ]
  },
  {
   "cell_type": "code",
   "execution_count": 20,
   "metadata": {},
   "outputs": [
    {
     "data": {
      "text/html": [
       "<table>\n",
       "<thead><tr><th scope=col>Target</th><th scope=col>TF</th><th scope=col>method</th></tr></thead>\n",
       "<tbody>\n",
       "\t<tr><td>Slc27a3      </td><td>1810024B03Rik</td><td>w001         </td></tr>\n",
       "\t<tr><td>Ankrd39      </td><td>1810024B03Rik</td><td>w001         </td></tr>\n",
       "\t<tr><td>Tbc1d25      </td><td>1810024B03Rik</td><td>w001         </td></tr>\n",
       "\t<tr><td>Mak          </td><td>1810024B03Rik</td><td>w001         </td></tr>\n",
       "\t<tr><td>Tmem86b      </td><td>1810024B03Rik</td><td>w001         </td></tr>\n",
       "\t<tr><td>Amot         </td><td>1810024B03Rik</td><td>w001         </td></tr>\n",
       "</tbody>\n",
       "</table>\n"
      ],
      "text/latex": [
       "\\begin{tabular}{r|lll}\n",
       " Target & TF & method\\\\\n",
       "\\hline\n",
       "\t Slc27a3       & 1810024B03Rik & w001         \\\\\n",
       "\t Ankrd39       & 1810024B03Rik & w001         \\\\\n",
       "\t Tbc1d25       & 1810024B03Rik & w001         \\\\\n",
       "\t Mak           & 1810024B03Rik & w001         \\\\\n",
       "\t Tmem86b       & 1810024B03Rik & w001         \\\\\n",
       "\t Amot          & 1810024B03Rik & w001         \\\\\n",
       "\\end{tabular}\n"
      ],
      "text/markdown": [
       "\n",
       "Target | TF | method | \n",
       "|---|---|---|---|---|---|\n",
       "| Slc27a3       | 1810024B03Rik | w001          | \n",
       "| Ankrd39       | 1810024B03Rik | w001          | \n",
       "| Tbc1d25       | 1810024B03Rik | w001          | \n",
       "| Mak           | 1810024B03Rik | w001          | \n",
       "| Tmem86b       | 1810024B03Rik | w001          | \n",
       "| Amot          | 1810024B03Rik | w001          | \n",
       "\n",
       "\n"
      ],
      "text/plain": [
       "  Target  TF            method\n",
       "1 Slc27a3 1810024B03Rik w001  \n",
       "2 Ankrd39 1810024B03Rik w001  \n",
       "3 Tbc1d25 1810024B03Rik w001  \n",
       "4 Mak     1810024B03Rik w001  \n",
       "5 Tmem86b 1810024B03Rik w001  \n",
       "6 Amot    1810024B03Rik w001  "
      ]
     },
     "metadata": {},
     "output_type": "display_data"
    }
   ],
   "source": [
    "head(tfModules)"
   ]
  },
  {
   "cell_type": "code",
   "execution_count": 21,
   "metadata": {},
   "outputs": [
    {
     "data": {
      "text/html": [
       "4363616"
      ],
      "text/latex": [
       "4363616"
      ],
      "text/markdown": [
       "4363616"
      ],
      "text/plain": [
       "[1] 4363616"
      ]
     },
     "metadata": {},
     "output_type": "display_data"
    }
   ],
   "source": [
    "nrow(tfModules)"
   ]
  },
  {
   "cell_type": "code",
   "execution_count": 22,
   "metadata": {},
   "outputs": [
    {
     "data": {
      "text/html": [
       "<table>\n",
       "<thead><tr><th scope=col>Target</th><th scope=col>TF</th><th scope=col>method</th><th scope=col>corr</th></tr></thead>\n",
       "<tbody>\n",
       "\t<tr><td>Slc27a3      </td><td>1810024B03Rik</td><td>w001         </td><td>0            </td></tr>\n",
       "\t<tr><td>Ankrd39      </td><td>1810024B03Rik</td><td>w001         </td><td>1            </td></tr>\n",
       "\t<tr><td>Tbc1d25      </td><td>1810024B03Rik</td><td>w001         </td><td>0            </td></tr>\n",
       "\t<tr><td>Mak          </td><td>1810024B03Rik</td><td>w001         </td><td>1            </td></tr>\n",
       "\t<tr><td>Tmem86b      </td><td>1810024B03Rik</td><td>w001         </td><td>1            </td></tr>\n",
       "\t<tr><td>Amot         </td><td>1810024B03Rik</td><td>w001         </td><td>1            </td></tr>\n",
       "</tbody>\n",
       "</table>\n"
      ],
      "text/latex": [
       "\\begin{tabular}{r|llll}\n",
       " Target & TF & method & corr\\\\\n",
       "\\hline\n",
       "\t Slc27a3       & 1810024B03Rik & w001          & 0            \\\\\n",
       "\t Ankrd39       & 1810024B03Rik & w001          & 1            \\\\\n",
       "\t Tbc1d25       & 1810024B03Rik & w001          & 0            \\\\\n",
       "\t Mak           & 1810024B03Rik & w001          & 1            \\\\\n",
       "\t Tmem86b       & 1810024B03Rik & w001          & 1            \\\\\n",
       "\t Amot          & 1810024B03Rik & w001          & 1            \\\\\n",
       "\\end{tabular}\n"
      ],
      "text/markdown": [
       "\n",
       "Target | TF | method | corr | \n",
       "|---|---|---|---|---|---|\n",
       "| Slc27a3       | 1810024B03Rik | w001          | 0             | \n",
       "| Ankrd39       | 1810024B03Rik | w001          | 1             | \n",
       "| Tbc1d25       | 1810024B03Rik | w001          | 0             | \n",
       "| Mak           | 1810024B03Rik | w001          | 1             | \n",
       "| Tmem86b       | 1810024B03Rik | w001          | 1             | \n",
       "| Amot          | 1810024B03Rik | w001          | 1             | \n",
       "\n",
       "\n"
      ],
      "text/plain": [
       "  Target  TF            method corr\n",
       "1 Slc27a3 1810024B03Rik w001   0   \n",
       "2 Ankrd39 1810024B03Rik w001   1   \n",
       "3 Tbc1d25 1810024B03Rik w001   0   \n",
       "4 Mak     1810024B03Rik w001   1   \n",
       "5 Tmem86b 1810024B03Rik w001   1   \n",
       "6 Amot    1810024B03Rik w001   1   "
      ]
     },
     "metadata": {},
     "output_type": "display_data"
    }
   ],
   "source": [
    "head(tfModules_withCorr)"
   ]
  },
  {
   "cell_type": "code",
   "execution_count": 23,
   "metadata": {},
   "outputs": [
    {
     "data": {
      "text/html": [
       "4363616"
      ],
      "text/latex": [
       "4363616"
      ],
      "text/markdown": [
       "4363616"
      ],
      "text/plain": [
       "[1] 4363616"
      ]
     },
     "metadata": {},
     "output_type": "display_data"
    }
   ],
   "source": [
    "nrow(tfModules_withCorr)"
   ]
  },
  {
   "cell_type": "code",
   "execution_count": 24,
   "metadata": {},
   "outputs": [
    {
     "data": {
      "text/plain": [
       "   motifDb            geneSet             motif                NES        \n",
       " Length:11558       Length:11558       Length:11558       Min.   : 3.000  \n",
       " Class :character   Class :character   Class :character   1st Qu.: 3.300  \n",
       " Mode  :character   Mode  :character   Mode  :character   Median : 3.690  \n",
       "                                                          Mean   : 3.999  \n",
       "                                                          3rd Qu.: 4.360  \n",
       "                                                          Max.   :10.300  \n",
       "      AUC          highlightedTFs        TFinDB           TF_direct        \n",
       " Min.   :0.00815   Length:11558       Length:11558       Length:11558      \n",
       " 1st Qu.:0.01970   Class :character   Class :character   Class :character  \n",
       " Median :0.03370   Mode  :character   Mode  :character   Mode  :character  \n",
       " Mean   :0.03776                                                           \n",
       " 3rd Qu.:0.05160                                                           \n",
       " Max.   :0.12600                                                           \n",
       " TF_inferred       \n",
       " Length:11558      \n",
       " Class :character  \n",
       " Mode  :character  \n",
       "                   \n",
       "                   \n",
       "                   "
      ]
     },
     "metadata": {},
     "output_type": "display_data"
    }
   ],
   "source": [
    "summary(motifEnrichment_selfMotifs)"
   ]
  },
  {
   "cell_type": "code",
   "execution_count": 1,
   "metadata": {},
   "outputs": [
    {
     "ename": "ERROR",
     "evalue": "Error in as.data.frame(motifEnrichment_selfMotifs): object 'motifEnrichment_selfMotifs' not found\n",
     "output_type": "error",
     "traceback": [
      "Error in as.data.frame(motifEnrichment_selfMotifs): object 'motifEnrichment_selfMotifs' not found\nTraceback:\n",
      "1. as.data.frame(motifEnrichment_selfMotifs)"
     ]
    }
   ],
   "source": [
    "as.data.frame(motifEnrichment_selfMotifs)"
   ]
  },
  {
   "cell_type": "code",
   "execution_count": null,
   "metadata": {},
   "outputs": [],
   "source": []
  }
 ],
 "metadata": {
  "kernelspec": {
   "display_name": "R",
   "language": "R",
   "name": "ir"
  },
  "language_info": {
   "codemirror_mode": "r",
   "file_extension": ".r",
   "mimetype": "text/x-r-source",
   "name": "R",
   "pygments_lexer": "r",
   "version": "3.4.2"
  }
 },
 "nbformat": 4,
 "nbformat_minor": 2
}
