{
 "cells": [
  {
   "cell_type": "markdown",
   "metadata": {},
   "source": [
    "__Author:__ Bram Van de Sande\n",
    "\n",
    "__Date:__ 6 FEB 2018\n",
    "\n",
    "__Outline:__ This notebook clarifies the process by which the co-expression modules derived from GENIE3 can be refined into true regulomes (i.e. excluding indirect targets of transcription factors). Aka \"RcisTarget\"."
   ]
  },
  {
   "cell_type": "code",
   "execution_count": 1,
   "metadata": {},
   "outputs": [
    {
     "data": {
      "text/html": [
       "\n",
       "    <div class=\"bk-root\">\n",
       "        <a href=\"https://bokeh.pydata.org\" target=\"_blank\" class=\"bk-logo bk-logo-small bk-logo-notebook\"></a>\n",
       "        <span id=\"4b88206a-a2a3-451c-8dcf-9e605780c934\">Loading BokehJS ...</span>\n",
       "    </div>"
      ]
     },
     "metadata": {},
     "output_type": "display_data"
    },
    {
     "data": {
      "application/javascript": [
       "\n",
       "(function(root) {\n",
       "  function now() {\n",
       "    return new Date();\n",
       "  }\n",
       "\n",
       "  var force = true;\n",
       "\n",
       "  if (typeof (root._bokeh_onload_callbacks) === \"undefined\" || force === true) {\n",
       "    root._bokeh_onload_callbacks = [];\n",
       "    root._bokeh_is_loading = undefined;\n",
       "  }\n",
       "\n",
       "  var JS_MIME_TYPE = 'application/javascript';\n",
       "  var HTML_MIME_TYPE = 'text/html';\n",
       "  var EXEC_MIME_TYPE = 'application/vnd.bokehjs_exec.v0+json';\n",
       "  var CLASS_NAME = 'output_bokeh rendered_html';\n",
       "\n",
       "  /**\n",
       "   * Render data to the DOM node\n",
       "   */\n",
       "  function render(props, node) {\n",
       "    var script = document.createElement(\"script\");\n",
       "    node.appendChild(script);\n",
       "  }\n",
       "\n",
       "  /**\n",
       "   * Handle when an output is cleared or removed\n",
       "   */\n",
       "  function handleClearOutput(event, handle) {\n",
       "    var cell = handle.cell;\n",
       "\n",
       "    var id = cell.output_area._bokeh_element_id;\n",
       "    var server_id = cell.output_area._bokeh_server_id;\n",
       "    // Clean up Bokeh references\n",
       "    if (id !== undefined) {\n",
       "      Bokeh.index[id].model.document.clear();\n",
       "      delete Bokeh.index[id];\n",
       "    }\n",
       "\n",
       "    if (server_id !== undefined) {\n",
       "      // Clean up Bokeh references\n",
       "      var cmd = \"from bokeh.io.state import curstate; print(curstate().uuid_to_server['\" + server_id + \"'].get_sessions()[0].document.roots[0]._id)\";\n",
       "      cell.notebook.kernel.execute(cmd, {\n",
       "        iopub: {\n",
       "          output: function(msg) {\n",
       "            var element_id = msg.content.text.trim();\n",
       "            Bokeh.index[element_id].model.document.clear();\n",
       "            delete Bokeh.index[element_id];\n",
       "          }\n",
       "        }\n",
       "      });\n",
       "      // Destroy server and session\n",
       "      var cmd = \"import bokeh.io.notebook as ion; ion.destroy_server('\" + server_id + \"')\";\n",
       "      cell.notebook.kernel.execute(cmd);\n",
       "    }\n",
       "  }\n",
       "\n",
       "  /**\n",
       "   * Handle when a new output is added\n",
       "   */\n",
       "  function handleAddOutput(event, handle) {\n",
       "    var output_area = handle.output_area;\n",
       "    var output = handle.output;\n",
       "\n",
       "    // limit handleAddOutput to display_data with EXEC_MIME_TYPE content only\n",
       "    if ((output.output_type != \"display_data\") || (!output.data.hasOwnProperty(EXEC_MIME_TYPE))) {\n",
       "      return\n",
       "    }\n",
       "\n",
       "    var toinsert = output_area.element.find(\".\" + CLASS_NAME.split(' ')[0]);\n",
       "\n",
       "    if (output.metadata[EXEC_MIME_TYPE][\"id\"] !== undefined) {\n",
       "      toinsert[0].firstChild.textContent = output.data[JS_MIME_TYPE];\n",
       "      // store reference to embed id on output_area\n",
       "      output_area._bokeh_element_id = output.metadata[EXEC_MIME_TYPE][\"id\"];\n",
       "    }\n",
       "    if (output.metadata[EXEC_MIME_TYPE][\"server_id\"] !== undefined) {\n",
       "      var bk_div = document.createElement(\"div\");\n",
       "      bk_div.innerHTML = output.data[HTML_MIME_TYPE];\n",
       "      var script_attrs = bk_div.children[0].attributes;\n",
       "      for (var i = 0; i < script_attrs.length; i++) {\n",
       "        toinsert[0].firstChild.setAttribute(script_attrs[i].name, script_attrs[i].value);\n",
       "      }\n",
       "      // store reference to server id on output_area\n",
       "      output_area._bokeh_server_id = output.metadata[EXEC_MIME_TYPE][\"server_id\"];\n",
       "    }\n",
       "  }\n",
       "\n",
       "  function register_renderer(events, OutputArea) {\n",
       "\n",
       "    function append_mime(data, metadata, element) {\n",
       "      // create a DOM node to render to\n",
       "      var toinsert = this.create_output_subarea(\n",
       "        metadata,\n",
       "        CLASS_NAME,\n",
       "        EXEC_MIME_TYPE\n",
       "      );\n",
       "      this.keyboard_manager.register_events(toinsert);\n",
       "      // Render to node\n",
       "      var props = {data: data, metadata: metadata[EXEC_MIME_TYPE]};\n",
       "      render(props, toinsert[0]);\n",
       "      element.append(toinsert);\n",
       "      return toinsert\n",
       "    }\n",
       "\n",
       "    /* Handle when an output is cleared or removed */\n",
       "    events.on('clear_output.CodeCell', handleClearOutput);\n",
       "    events.on('delete.Cell', handleClearOutput);\n",
       "\n",
       "    /* Handle when a new output is added */\n",
       "    events.on('output_added.OutputArea', handleAddOutput);\n",
       "\n",
       "    /**\n",
       "     * Register the mime type and append_mime function with output_area\n",
       "     */\n",
       "    OutputArea.prototype.register_mime_type(EXEC_MIME_TYPE, append_mime, {\n",
       "      /* Is output safe? */\n",
       "      safe: true,\n",
       "      /* Index of renderer in `output_area.display_order` */\n",
       "      index: 0\n",
       "    });\n",
       "  }\n",
       "\n",
       "  // register the mime type if in Jupyter Notebook environment and previously unregistered\n",
       "  if (root.Jupyter !== undefined) {\n",
       "    var events = require('base/js/events');\n",
       "    var OutputArea = require('notebook/js/outputarea').OutputArea;\n",
       "\n",
       "    if (OutputArea.prototype.mime_types().indexOf(EXEC_MIME_TYPE) == -1) {\n",
       "      register_renderer(events, OutputArea);\n",
       "    }\n",
       "  }\n",
       "\n",
       "  \n",
       "  if (typeof (root._bokeh_timeout) === \"undefined\" || force === true) {\n",
       "    root._bokeh_timeout = Date.now() + 5000;\n",
       "    root._bokeh_failed_load = false;\n",
       "  }\n",
       "\n",
       "  var NB_LOAD_WARNING = {'data': {'text/html':\n",
       "     \"<div style='background-color: #fdd'>\\n\"+\n",
       "     \"<p>\\n\"+\n",
       "     \"BokehJS does not appear to have successfully loaded. If loading BokehJS from CDN, this \\n\"+\n",
       "     \"may be due to a slow or bad network connection. Possible fixes:\\n\"+\n",
       "     \"</p>\\n\"+\n",
       "     \"<ul>\\n\"+\n",
       "     \"<li>re-rerun `output_notebook()` to attempt to load from CDN again, or</li>\\n\"+\n",
       "     \"<li>use INLINE resources instead, as so:</li>\\n\"+\n",
       "     \"</ul>\\n\"+\n",
       "     \"<code>\\n\"+\n",
       "     \"from bokeh.resources import INLINE\\n\"+\n",
       "     \"output_notebook(resources=INLINE)\\n\"+\n",
       "     \"</code>\\n\"+\n",
       "     \"</div>\"}};\n",
       "\n",
       "  function display_loaded() {\n",
       "    var el = document.getElementById(\"4b88206a-a2a3-451c-8dcf-9e605780c934\");\n",
       "    if (el != null) {\n",
       "      el.textContent = \"BokehJS is loading...\";\n",
       "    }\n",
       "    if (root.Bokeh !== undefined) {\n",
       "      if (el != null) {\n",
       "        el.textContent = \"BokehJS \" + root.Bokeh.version + \" successfully loaded.\";\n",
       "      }\n",
       "    } else if (Date.now() < root._bokeh_timeout) {\n",
       "      setTimeout(display_loaded, 100)\n",
       "    }\n",
       "  }\n",
       "\n",
       "\n",
       "  function run_callbacks() {\n",
       "    try {\n",
       "      root._bokeh_onload_callbacks.forEach(function(callback) { callback() });\n",
       "    }\n",
       "    finally {\n",
       "      delete root._bokeh_onload_callbacks\n",
       "    }\n",
       "    console.info(\"Bokeh: all callbacks have finished\");\n",
       "  }\n",
       "\n",
       "  function load_libs(js_urls, callback) {\n",
       "    root._bokeh_onload_callbacks.push(callback);\n",
       "    if (root._bokeh_is_loading > 0) {\n",
       "      console.log(\"Bokeh: BokehJS is being loaded, scheduling callback at\", now());\n",
       "      return null;\n",
       "    }\n",
       "    if (js_urls == null || js_urls.length === 0) {\n",
       "      run_callbacks();\n",
       "      return null;\n",
       "    }\n",
       "    console.log(\"Bokeh: BokehJS not loaded, scheduling load and callback at\", now());\n",
       "    root._bokeh_is_loading = js_urls.length;\n",
       "    for (var i = 0; i < js_urls.length; i++) {\n",
       "      var url = js_urls[i];\n",
       "      var s = document.createElement('script');\n",
       "      s.src = url;\n",
       "      s.async = false;\n",
       "      s.onreadystatechange = s.onload = function() {\n",
       "        root._bokeh_is_loading--;\n",
       "        if (root._bokeh_is_loading === 0) {\n",
       "          console.log(\"Bokeh: all BokehJS libraries loaded\");\n",
       "          run_callbacks()\n",
       "        }\n",
       "      };\n",
       "      s.onerror = function() {\n",
       "        console.warn(\"failed to load library \" + url);\n",
       "      };\n",
       "      console.log(\"Bokeh: injecting script tag for BokehJS library: \", url);\n",
       "      document.getElementsByTagName(\"head\")[0].appendChild(s);\n",
       "    }\n",
       "  };var element = document.getElementById(\"4b88206a-a2a3-451c-8dcf-9e605780c934\");\n",
       "  if (element == null) {\n",
       "    console.log(\"Bokeh: ERROR: autoload.js configured with elementid '4b88206a-a2a3-451c-8dcf-9e605780c934' but no matching script tag was found. \")\n",
       "    return false;\n",
       "  }\n",
       "\n",
       "  var js_urls = [\"https://cdn.pydata.org/bokeh/release/bokeh-0.12.13.min.js\", \"https://cdn.pydata.org/bokeh/release/bokeh-widgets-0.12.13.min.js\", \"https://cdn.pydata.org/bokeh/release/bokeh-tables-0.12.13.min.js\", \"https://cdn.pydata.org/bokeh/release/bokeh-gl-0.12.13.min.js\"];\n",
       "\n",
       "  var inline_js = [\n",
       "    function(Bokeh) {\n",
       "      Bokeh.set_log_level(\"info\");\n",
       "    },\n",
       "    \n",
       "    function(Bokeh) {\n",
       "      \n",
       "    },\n",
       "    function(Bokeh) {\n",
       "      console.log(\"Bokeh: injecting CSS: https://cdn.pydata.org/bokeh/release/bokeh-0.12.13.min.css\");\n",
       "      Bokeh.embed.inject_css(\"https://cdn.pydata.org/bokeh/release/bokeh-0.12.13.min.css\");\n",
       "      console.log(\"Bokeh: injecting CSS: https://cdn.pydata.org/bokeh/release/bokeh-widgets-0.12.13.min.css\");\n",
       "      Bokeh.embed.inject_css(\"https://cdn.pydata.org/bokeh/release/bokeh-widgets-0.12.13.min.css\");\n",
       "      console.log(\"Bokeh: injecting CSS: https://cdn.pydata.org/bokeh/release/bokeh-tables-0.12.13.min.css\");\n",
       "      Bokeh.embed.inject_css(\"https://cdn.pydata.org/bokeh/release/bokeh-tables-0.12.13.min.css\");\n",
       "    }\n",
       "  ];\n",
       "\n",
       "  function run_inline_js() {\n",
       "    \n",
       "    if ((root.Bokeh !== undefined) || (force === true)) {\n",
       "      for (var i = 0; i < inline_js.length; i++) {\n",
       "        inline_js[i].call(root, root.Bokeh);\n",
       "      }if (force === true) {\n",
       "        display_loaded();\n",
       "      }} else if (Date.now() < root._bokeh_timeout) {\n",
       "      setTimeout(run_inline_js, 100);\n",
       "    } else if (!root._bokeh_failed_load) {\n",
       "      console.log(\"Bokeh: BokehJS failed to load within specified timeout.\");\n",
       "      root._bokeh_failed_load = true;\n",
       "    } else if (force !== true) {\n",
       "      var cell = $(document.getElementById(\"4b88206a-a2a3-451c-8dcf-9e605780c934\")).parents('.cell').data().cell;\n",
       "      cell.output_area.append_execute_result(NB_LOAD_WARNING)\n",
       "    }\n",
       "\n",
       "  }\n",
       "\n",
       "  if (root._bokeh_is_loading === 0) {\n",
       "    console.log(\"Bokeh: BokehJS loaded, going straight to plotting\");\n",
       "    run_inline_js();\n",
       "  } else {\n",
       "    load_libs(js_urls, function() {\n",
       "      console.log(\"Bokeh: BokehJS plotting callback run at\", now());\n",
       "      run_inline_js();\n",
       "    });\n",
       "  }\n",
       "}(window));"
      ],
      "application/vnd.bokehjs_load.v0+json": "\n(function(root) {\n  function now() {\n    return new Date();\n  }\n\n  var force = true;\n\n  if (typeof (root._bokeh_onload_callbacks) === \"undefined\" || force === true) {\n    root._bokeh_onload_callbacks = [];\n    root._bokeh_is_loading = undefined;\n  }\n\n  \n\n  \n  if (typeof (root._bokeh_timeout) === \"undefined\" || force === true) {\n    root._bokeh_timeout = Date.now() + 5000;\n    root._bokeh_failed_load = false;\n  }\n\n  var NB_LOAD_WARNING = {'data': {'text/html':\n     \"<div style='background-color: #fdd'>\\n\"+\n     \"<p>\\n\"+\n     \"BokehJS does not appear to have successfully loaded. If loading BokehJS from CDN, this \\n\"+\n     \"may be due to a slow or bad network connection. Possible fixes:\\n\"+\n     \"</p>\\n\"+\n     \"<ul>\\n\"+\n     \"<li>re-rerun `output_notebook()` to attempt to load from CDN again, or</li>\\n\"+\n     \"<li>use INLINE resources instead, as so:</li>\\n\"+\n     \"</ul>\\n\"+\n     \"<code>\\n\"+\n     \"from bokeh.resources import INLINE\\n\"+\n     \"output_notebook(resources=INLINE)\\n\"+\n     \"</code>\\n\"+\n     \"</div>\"}};\n\n  function display_loaded() {\n    var el = document.getElementById(\"4b88206a-a2a3-451c-8dcf-9e605780c934\");\n    if (el != null) {\n      el.textContent = \"BokehJS is loading...\";\n    }\n    if (root.Bokeh !== undefined) {\n      if (el != null) {\n        el.textContent = \"BokehJS \" + root.Bokeh.version + \" successfully loaded.\";\n      }\n    } else if (Date.now() < root._bokeh_timeout) {\n      setTimeout(display_loaded, 100)\n    }\n  }\n\n\n  function run_callbacks() {\n    try {\n      root._bokeh_onload_callbacks.forEach(function(callback) { callback() });\n    }\n    finally {\n      delete root._bokeh_onload_callbacks\n    }\n    console.info(\"Bokeh: all callbacks have finished\");\n  }\n\n  function load_libs(js_urls, callback) {\n    root._bokeh_onload_callbacks.push(callback);\n    if (root._bokeh_is_loading > 0) {\n      console.log(\"Bokeh: BokehJS is being loaded, scheduling callback at\", now());\n      return null;\n    }\n    if (js_urls == null || js_urls.length === 0) {\n      run_callbacks();\n      return null;\n    }\n    console.log(\"Bokeh: BokehJS not loaded, scheduling load and callback at\", now());\n    root._bokeh_is_loading = js_urls.length;\n    for (var i = 0; i < js_urls.length; i++) {\n      var url = js_urls[i];\n      var s = document.createElement('script');\n      s.src = url;\n      s.async = false;\n      s.onreadystatechange = s.onload = function() {\n        root._bokeh_is_loading--;\n        if (root._bokeh_is_loading === 0) {\n          console.log(\"Bokeh: all BokehJS libraries loaded\");\n          run_callbacks()\n        }\n      };\n      s.onerror = function() {\n        console.warn(\"failed to load library \" + url);\n      };\n      console.log(\"Bokeh: injecting script tag for BokehJS library: \", url);\n      document.getElementsByTagName(\"head\")[0].appendChild(s);\n    }\n  };var element = document.getElementById(\"4b88206a-a2a3-451c-8dcf-9e605780c934\");\n  if (element == null) {\n    console.log(\"Bokeh: ERROR: autoload.js configured with elementid '4b88206a-a2a3-451c-8dcf-9e605780c934' but no matching script tag was found. \")\n    return false;\n  }\n\n  var js_urls = [\"https://cdn.pydata.org/bokeh/release/bokeh-0.12.13.min.js\", \"https://cdn.pydata.org/bokeh/release/bokeh-widgets-0.12.13.min.js\", \"https://cdn.pydata.org/bokeh/release/bokeh-tables-0.12.13.min.js\", \"https://cdn.pydata.org/bokeh/release/bokeh-gl-0.12.13.min.js\"];\n\n  var inline_js = [\n    function(Bokeh) {\n      Bokeh.set_log_level(\"info\");\n    },\n    \n    function(Bokeh) {\n      \n    },\n    function(Bokeh) {\n      console.log(\"Bokeh: injecting CSS: https://cdn.pydata.org/bokeh/release/bokeh-0.12.13.min.css\");\n      Bokeh.embed.inject_css(\"https://cdn.pydata.org/bokeh/release/bokeh-0.12.13.min.css\");\n      console.log(\"Bokeh: injecting CSS: https://cdn.pydata.org/bokeh/release/bokeh-widgets-0.12.13.min.css\");\n      Bokeh.embed.inject_css(\"https://cdn.pydata.org/bokeh/release/bokeh-widgets-0.12.13.min.css\");\n      console.log(\"Bokeh: injecting CSS: https://cdn.pydata.org/bokeh/release/bokeh-tables-0.12.13.min.css\");\n      Bokeh.embed.inject_css(\"https://cdn.pydata.org/bokeh/release/bokeh-tables-0.12.13.min.css\");\n    }\n  ];\n\n  function run_inline_js() {\n    \n    if ((root.Bokeh !== undefined) || (force === true)) {\n      for (var i = 0; i < inline_js.length; i++) {\n        inline_js[i].call(root, root.Bokeh);\n      }if (force === true) {\n        display_loaded();\n      }} else if (Date.now() < root._bokeh_timeout) {\n      setTimeout(run_inline_js, 100);\n    } else if (!root._bokeh_failed_load) {\n      console.log(\"Bokeh: BokehJS failed to load within specified timeout.\");\n      root._bokeh_failed_load = true;\n    } else if (force !== true) {\n      var cell = $(document.getElementById(\"4b88206a-a2a3-451c-8dcf-9e605780c934\")).parents('.cell').data().cell;\n      cell.output_area.append_execute_result(NB_LOAD_WARNING)\n    }\n\n  }\n\n  if (root._bokeh_is_loading === 0) {\n    console.log(\"Bokeh: BokehJS loaded, going straight to plotting\");\n    run_inline_js();\n  } else {\n    load_libs(js_urls, function() {\n      console.log(\"Bokeh: BokehJS plotting callback run at\", now());\n      run_inline_js();\n    });\n  }\n}(window));"
     },
     "metadata": {},
     "output_type": "display_data"
    }
   ],
   "source": [
    "import os\n",
    "import glob\n",
    "import pickle\n",
    "import numpy as np\n",
    "import pandas as pd\n",
    "import matplotlib.pyplot as plt\n",
    "\n",
    "from pyscenic.rnkdb import FeatherRankingDatabase as RankingDatabase, SQLiteRankingDatabase, MemoryDecorator\n",
    "from pyscenic.genesig import GeneSignature, Regulome\n",
    "from pyscenic.regulome import module2regulome_bincount_impl, derive_regulomes, module2regulome_numba_impl\n",
    "from pyscenic.utils import load_motif_annotations\n",
    "\n",
    "from dask import delayed\n",
    "from dask.dot import dot_graph\n",
    "from dask.multiprocessing import get\n",
    "from dask.diagnostics import Profiler, ResourceProfiler, CacheProfiler\n",
    "from dask.diagnostics import ProgressBar\n",
    "from distributed import LocalCluster, Client\n",
    "from bokeh.io import output_notebook, push_notebook, show\n",
    "output_notebook()\n",
    "from dask.diagnostics import visualize"
   ]
  },
  {
   "cell_type": "code",
   "execution_count": 2,
   "metadata": {},
   "outputs": [],
   "source": [
    "%load_ext snakeviz\n",
    "%load_ext line_profiler"
   ]
  },
  {
   "cell_type": "code",
   "execution_count": 3,
   "metadata": {},
   "outputs": [],
   "source": [
    "DATA_FOLDER=\"/Users/bramvandesande/Projects/lcb/tmp\"\n",
    "RESOURCES_FOLDER=\"/Users/bramvandesande/Projects/lcb/resources\"\n",
    "DATABASE_FOLDER = \"/Users/bramvandesande/Projects/lcb/databases/\"\n",
    "\n",
    "SQLITE_GLOB = os.path.join(DATABASE_FOLDER, \"mm9-*.db\")\n",
    "FEATHER_GLOB = os.path.join(DATABASE_FOLDER, \"mm9-*.feather\")\n",
    "\n",
    "MOTIF_ANNOTATIONS_FNAME = os.path.join(RESOURCES_FOLDER, \"motifs-v9-nr.mgi-m0.001-o0.0.tbl\")\n",
    "\n",
    "NOMENCLATURE = \"MGI\""
   ]
  },
  {
   "cell_type": "markdown",
   "metadata": {},
   "source": [
    "Make databases in feather format are available."
   ]
  },
  {
   "cell_type": "code",
   "execution_count": 4,
   "metadata": {},
   "outputs": [],
   "source": [
    "if False:\n",
    "    def derive_db_name(fname):\n",
    "        return os.path.basename(fname).split(\".\")[0]\n",
    "\n",
    "    from pyscenic.rnkdb import convert2feather\n",
    "    \n",
    "    for fname in glob.glob(SQLITE_GLOB):\n",
    "        convert2feather(fname, DATABASE_FOLDER, derive_db_name(fname), NOMENCLATURE)"
   ]
  },
  {
   "cell_type": "markdown",
   "metadata": {},
   "source": [
    "### Load resources"
   ]
  },
  {
   "cell_type": "markdown",
   "metadata": {},
   "source": [
    "Co-expression modules were derived from GENIE3 output."
   ]
  },
  {
   "cell_type": "code",
   "execution_count": 5,
   "metadata": {},
   "outputs": [],
   "source": [
    "with open(os.path.join(DATA_FOLDER,'modules.pickle'), 'rb') as f:\n",
    "    modules = pickle.load(f)"
   ]
  },
  {
   "cell_type": "code",
   "execution_count": 6,
   "metadata": {},
   "outputs": [
    {
     "data": {
      "text/plain": [
       "5106"
      ]
     },
     "execution_count": 6,
     "metadata": {},
     "output_type": "execute_result"
    }
   ],
   "source": [
    "len(modules)"
   ]
  },
  {
   "cell_type": "markdown",
   "metadata": {},
   "source": [
    "### Load whole genome ranking databases\n",
    "\n",
    "All implementations of the database are loaded for performance testing."
   ]
  },
  {
   "cell_type": "code",
   "execution_count": 7,
   "metadata": {},
   "outputs": [],
   "source": [
    "def name(fname):\n",
    "    return os.path.basename(fname).split(\".\")[0]"
   ]
  },
  {
   "cell_type": "code",
   "execution_count": 8,
   "metadata": {},
   "outputs": [],
   "source": [
    "db_fnames = glob.glob(FEATHER_GLOB)\n",
    "dbs = [RankingDatabase(fname=fname, name=name(fname), nomenclature=\"MGI\") for fname in db_fnames]"
   ]
  },
  {
   "cell_type": "code",
   "execution_count": 9,
   "metadata": {},
   "outputs": [
    {
     "data": {
      "text/plain": [
       "6"
      ]
     },
     "execution_count": 9,
     "metadata": {},
     "output_type": "execute_result"
    }
   ],
   "source": [
    "len(dbs)"
   ]
  },
  {
   "cell_type": "code",
   "execution_count": 10,
   "metadata": {},
   "outputs": [],
   "source": [
    "sqldb_fnames = glob.glob(SQLITE_GLOB)\n",
    "sqldbs = [SQLiteRankingDatabase(fname=fname, name=name(fname), nomenclature=\"MGI\") for fname in sqldb_fnames]"
   ]
  },
  {
   "cell_type": "code",
   "execution_count": 11,
   "metadata": {},
   "outputs": [
    {
     "data": {
      "text/plain": [
       "6"
      ]
     },
     "execution_count": 11,
     "metadata": {},
     "output_type": "execute_result"
    }
   ],
   "source": [
    "len(sqldbs)"
   ]
  },
  {
   "cell_type": "code",
   "execution_count": 12,
   "metadata": {},
   "outputs": [],
   "source": [
    "memdb = MemoryDecorator(dbs[0])"
   ]
  },
  {
   "cell_type": "markdown",
   "metadata": {},
   "source": [
    "### Load motif annotations"
   ]
  },
  {
   "cell_type": "code",
   "execution_count": 13,
   "metadata": {},
   "outputs": [],
   "source": [
    "motif_annotations = load_motif_annotations(MOTIF_ANNOTATIONS_FNAME)"
   ]
  },
  {
   "cell_type": "code",
   "execution_count": 14,
   "metadata": {},
   "outputs": [
    {
     "data": {
      "text/html": [
       "<div>\n",
       "<style scoped>\n",
       "    .dataframe tbody tr th:only-of-type {\n",
       "        vertical-align: middle;\n",
       "    }\n",
       "\n",
       "    .dataframe tbody tr th {\n",
       "        vertical-align: top;\n",
       "    }\n",
       "\n",
       "    .dataframe thead th {\n",
       "        text-align: right;\n",
       "    }\n",
       "</style>\n",
       "<table border=\"1\" class=\"dataframe\">\n",
       "  <thead>\n",
       "    <tr style=\"text-align: right;\">\n",
       "      <th></th>\n",
       "      <th></th>\n",
       "      <th>motif_similarity_qvalue</th>\n",
       "      <th>orthologous_identity</th>\n",
       "      <th>description</th>\n",
       "    </tr>\n",
       "    <tr>\n",
       "      <th>gene_name</th>\n",
       "      <th>#motif_id</th>\n",
       "      <th></th>\n",
       "      <th></th>\n",
       "      <th></th>\n",
       "    </tr>\n",
       "  </thead>\n",
       "  <tbody>\n",
       "    <tr>\n",
       "      <th>Hoxa9</th>\n",
       "      <th>bergman__Abd-B</th>\n",
       "      <td>0.0006</td>\n",
       "      <td>1.000000</td>\n",
       "      <td>gene is annotated for similar motif cisbp__M10...</td>\n",
       "    </tr>\n",
       "    <tr>\n",
       "      <th>Zfp128</th>\n",
       "      <th>bergman__Aef1</th>\n",
       "      <td>0.0000</td>\n",
       "      <td>0.220264</td>\n",
       "      <td>motif is annotated for orthologous gene FBgn00...</td>\n",
       "    </tr>\n",
       "    <tr>\n",
       "      <th>Zfp853</th>\n",
       "      <th>bergman__Cf2</th>\n",
       "      <td>0.0000</td>\n",
       "      <td>0.166667</td>\n",
       "      <td>motif is annotated for orthologous gene FBgn00...</td>\n",
       "    </tr>\n",
       "    <tr>\n",
       "      <th>Nr1h2</th>\n",
       "      <th>bergman__EcR_usp</th>\n",
       "      <td>0.0000</td>\n",
       "      <td>0.378924</td>\n",
       "      <td>gene is orthologous to FBgn0000546 in D. melan...</td>\n",
       "    </tr>\n",
       "    <tr>\n",
       "      <th>Nr1h3</th>\n",
       "      <th>bergman__EcR_usp</th>\n",
       "      <td>0.0000</td>\n",
       "      <td>0.408989</td>\n",
       "      <td>gene is orthologous to FBgn0000546 in D. melan...</td>\n",
       "    </tr>\n",
       "  </tbody>\n",
       "</table>\n",
       "</div>"
      ],
      "text/plain": [
       "                            motif_similarity_qvalue  orthologous_identity  \\\n",
       "gene_name #motif_id                                                         \n",
       "Hoxa9     bergman__Abd-B                     0.0006              1.000000   \n",
       "Zfp128    bergman__Aef1                      0.0000              0.220264   \n",
       "Zfp853    bergman__Cf2                       0.0000              0.166667   \n",
       "Nr1h2     bergman__EcR_usp                   0.0000              0.378924   \n",
       "Nr1h3     bergman__EcR_usp                   0.0000              0.408989   \n",
       "\n",
       "                                                                  description  \n",
       "gene_name #motif_id                                                            \n",
       "Hoxa9     bergman__Abd-B    gene is annotated for similar motif cisbp__M10...  \n",
       "Zfp128    bergman__Aef1     motif is annotated for orthologous gene FBgn00...  \n",
       "Zfp853    bergman__Cf2      motif is annotated for orthologous gene FBgn00...  \n",
       "Nr1h2     bergman__EcR_usp  gene is orthologous to FBgn0000546 in D. melan...  \n",
       "Nr1h3     bergman__EcR_usp  gene is orthologous to FBgn0000546 in D. melan...  "
      ]
     },
     "execution_count": 14,
     "metadata": {},
     "output_type": "execute_result"
    }
   ],
   "source": [
    "motif_annotations.head()"
   ]
  },
  {
   "cell_type": "markdown",
   "metadata": {},
   "source": [
    "### Single-thread pipeline\n",
    "\n",
    "Before scaling it via dask to work on the full combinatorial space of databases x modules."
   ]
  },
  {
   "cell_type": "code",
   "execution_count": 15,
   "metadata": {},
   "outputs": [],
   "source": [
    "module2regulome = module2regulome_bincount_impl"
   ]
  },
  {
   "cell_type": "markdown",
   "metadata": {},
   "source": [
    "#### Feather-based storage implementation"
   ]
  },
  {
   "cell_type": "code",
   "execution_count": 20,
   "metadata": {},
   "outputs": [],
   "source": [
    "%lprun -f module2regulome list((idx, module2regulome(dbs[0], module, motif_annotations)) for idx, module in enumerate(modules[0:25]))"
   ]
  },
  {
   "cell_type": "code",
   "execution_count": 17,
   "metadata": {},
   "outputs": [
    {
     "name": "stdout",
     "output_type": "stream",
     "text": [
      " \n",
      "*** Profile stats marshalled to file '/var/folders/cj/xhw0rd3s7hg5k4p78t4s3hph0000gn/T/tmp7lh2ty5d'. \n"
     ]
    }
   ],
   "source": [
    "%%snakeviz\n",
    "regulomes = list((idx, module2regulome(dbs[0], module, motif_annotations)) for idx, module in enumerate(modules[0:25]))"
   ]
  },
  {
   "cell_type": "markdown",
   "metadata": {},
   "source": [
    "1. General performance is 78s for executing `module2regulome` 25 times.\n",
    "1. 79% of time is spent at `recovery` and 18% at `db.load`."
   ]
  },
  {
   "cell_type": "markdown",
   "metadata": {},
   "source": [
    "#### SQLite-based storage implementation"
   ]
  },
  {
   "cell_type": "code",
   "execution_count": 23,
   "metadata": {},
   "outputs": [],
   "source": [
    "%lprun -f module2regulome list((idx, module2regulome(sqldbs[0], module, motif_annotations)) for idx, module in enumerate(modules[0:25]))"
   ]
  },
  {
   "cell_type": "code",
   "execution_count": 24,
   "metadata": {},
   "outputs": [
    {
     "name": "stdout",
     "output_type": "stream",
     "text": [
      " \n",
      "*** Profile stats marshalled to file '/var/folders/cj/xhw0rd3s7hg5k4p78t4s3hph0000gn/T/tmpl6qd4z5u'. \n"
     ]
    }
   ],
   "source": [
    "%%snakeviz\n",
    "regulomes = list((idx, module2regulome(sqldbs[0], module, motif_annotations)) for idx, module in enumerate(modules[0:25]))"
   ]
  },
  {
   "cell_type": "markdown",
   "metadata": {},
   "source": [
    "1. General performance is 83s for executing `module2regulome` 25 times.\n",
    "1. 42% of time is spent at `recovery` and 56% at `db.load`."
   ]
  },
  {
   "cell_type": "markdown",
   "metadata": {},
   "source": [
    "#### In-memory based implementation"
   ]
  },
  {
   "cell_type": "code",
   "execution_count": 26,
   "metadata": {},
   "outputs": [],
   "source": [
    "%lprun -f module2regulome list((idx, module2regulome(memdbs[0], module, motif_annotations)) for idx, module in enumerate(modules[0:25]))"
   ]
  },
  {
   "cell_type": "code",
   "execution_count": 23,
   "metadata": {},
   "outputs": [
    {
     "name": "stdout",
     "output_type": "stream",
     "text": [
      " \n",
      "*** Profile stats marshalled to file '/var/folders/cj/xhw0rd3s7hg5k4p78t4s3hph0000gn/T/tmpfwp_6eat'. \n"
     ]
    }
   ],
   "source": [
    "%%snakeviz\n",
    "regulomes = list((idx, module2regulome(memdbs[0], module, motif_annotations)) for idx, module in enumerate(modules[0:25]))"
   ]
  },
  {
   "cell_type": "markdown",
   "metadata": {},
   "source": [
    "1. General performance is 78s for executing `module2regulome` 25 times.\n",
    "1. 89% of time is spent at `recovery` and 8.5% at `db.load`."
   ]
  },
  {
   "cell_type": "markdown",
   "metadata": {},
   "source": [
    "#### In-memory based implementation, assess effect of reducing rank_threshold parameter"
   ]
  },
  {
   "cell_type": "code",
   "execution_count": 22,
   "metadata": {},
   "outputs": [],
   "source": [
    "%lprun -f module2regulome list((idx, module2regulome(memdbs[0], module, motif_annotations, auc_threshold=0.01, rank_threshold=750)) for idx, module in enumerate(modules[0:25]))"
   ]
  },
  {
   "cell_type": "markdown",
   "metadata": {},
   "source": [
    "1. General performance is 69s for executing `module2regulome` 25 times.\n",
    "1. 93% of time is spent at `recovery` and 4.4% at `db.load`."
   ]
  },
  {
   "cell_type": "markdown",
   "metadata": {},
   "source": [
    "#### Feather based implementation using R similar approach"
   ]
  },
  {
   "cell_type": "code",
   "execution_count": 20,
   "metadata": {},
   "outputs": [
    {
     "name": "stdout",
     "output_type": "stream",
     "text": [
      " \n",
      "*** Profile stats marshalled to file '/var/folders/cj/xhw0rd3s7hg5k4p78t4s3hph0000gn/T/tmpvme3jr1l'. \n"
     ]
    }
   ],
   "source": [
    "%%snakeviz\n",
    "regulomes = list((idx, module2regulome_numba_impl(dbs[0], module, motif_annotations)) for idx, module in enumerate(modules[0:25]))"
   ]
  },
  {
   "cell_type": "markdown",
   "metadata": {},
   "source": [
    "1. General performance is 49s for executing `module2regulome` 25 times.\n",
    "1. 47% of time is spent at `recovery` and 24% at `db.load`."
   ]
  },
  {
   "cell_type": "markdown",
   "metadata": {},
   "source": [
    "#### Approach combining all potential improvements (in-memory database, auc-only calculation to assess enriched features and numba JIT implementation)."
   ]
  },
  {
   "cell_type": "code",
   "execution_count": 19,
   "metadata": {},
   "outputs": [
    {
     "name": "stdout",
     "output_type": "stream",
     "text": [
      " \n",
      "*** Profile stats marshalled to file '/var/folders/cj/xhw0rd3s7hg5k4p78t4s3hph0000gn/T/tmphxcv1yj4'. \n"
     ]
    }
   ],
   "source": [
    "%%snakeviz\n",
    "regulomes = list((idx, module2regulome_numba_impl(memdb, module, motif_annotations)) for idx, module in enumerate(modules[0:25]))"
   ]
  },
  {
   "cell_type": "markdown",
   "metadata": {},
   "source": [
    "1. General performance is 42s for executing `module2regulome` 25 times.\n",
    "1. 81% of time is spent at `recovery`"
   ]
  },
  {
   "cell_type": "markdown",
   "metadata": {},
   "source": [
    "### Parallelized pipeline"
   ]
  },
  {
   "cell_type": "markdown",
   "metadata": {},
   "source": [
    "#### Python multiprocessing implementation (db-dedicated workers using in memory copy + numba implementation of auc calculation)."
   ]
  },
  {
   "cell_type": "markdown",
   "metadata": {},
   "source": [
    "Loading the database is also part of the overall timing. This will however dwarf when the number of modules increases."
   ]
  },
  {
   "cell_type": "code",
   "execution_count": 17,
   "metadata": {},
   "outputs": [
    {
     "name": "stdout",
     "output_type": "stream",
     "text": [
      "Worker for mm9-tss-centered-5kb-7species: database loaded in memory.\n",
      "Worker for mm9-500bp-upstream-7species: database loaded in memory.\n",
      "Worker for mm9-500bp-upstream-10species: database loaded in memory.\n",
      "Worker for mm9-tss-centered-10kb-10species: database loaded in memory.\n",
      "Worker for mm9-tss-centered-10kb-7species: database loaded in memory.\n",
      "Worker for mm9-tss-centered-5kb-10species: database loaded in memory.\n",
      "Worker for mm9-tss-centered-5kb-7species: motif annotations loaded in memory.\n",
      "Worker for mm9-tss-centered-10kb-10species: motif annotations loaded in memory.\n",
      "Worker for mm9-tss-centered-10kb-7species: motif annotations loaded in memory.\n",
      "Worker for mm9-tss-centered-5kb-10species: motif annotations loaded in memory.\n",
      "Worker for mm9-500bp-upstream-10species: motif annotations loaded in memory.\n",
      "Worker for mm9-500bp-upstream-7species: motif annotations loaded in memory.\n",
      "Worker for mm9-500bp-upstream-10species: 4 regulomes created.\n",
      "Worker for mm9-500bp-upstream-7species: 3 regulomes created.\n",
      "Worker for mm9-tss-centered-10kb-10species: 12 regulomes created.\n",
      "Worker for mm9-tss-centered-10kb-10species: Done.\n",
      "Worker for mm9-500bp-upstream-7species: Done.\n",
      "Worker for mm9-500bp-upstream-10species: Done.\n",
      "Worker for mm9-tss-centered-5kb-7species: 10 regulomes created.\n",
      "Worker for mm9-tss-centered-10kb-7species: 11 regulomes created.\n",
      "Worker for mm9-tss-centered-5kb-10species: 12 regulomes created.\n",
      "Worker for mm9-tss-centered-5kb-10species: Done.\n",
      "Worker for mm9-tss-centered-10kb-7species: Done.\n",
      "Worker for mm9-tss-centered-5kb-7species: Done.\n",
      "52\n"
     ]
    },
    {
     "data": {
      "text/plain": [
       "<TimeitResult : 4min 35s ± 0 ns per loop (mean ± std. dev. of 1 run, 1 loop each)>"
      ]
     },
     "execution_count": 17,
     "metadata": {},
     "output_type": "execute_result"
    }
   ],
   "source": [
    "%%timeit -n1 -r1 -o -q\n",
    "regulomes = derive_regulomes(dbs[0:6], modules[0:50], MOTIF_ANNOTATIONS_FNAME)\n",
    "print(len(regulomes))"
   ]
  },
  {
   "cell_type": "markdown",
   "metadata": {},
   "source": [
    "#### Dask framework"
   ]
  },
  {
   "cell_type": "code",
   "execution_count": 17,
   "metadata": {},
   "outputs": [
    {
     "name": "stdout",
     "output_type": "stream",
     "text": [
      "[########################################] | 100% Completed |  2min 33.5s\n"
     ]
    }
   ],
   "source": [
    "with ProgressBar():\n",
    "    with Profiler() as prof, ResourceProfiler(dt=0.25) as rprof, CacheProfiler() as cprof:\n",
    "        regulomes = derive_regulomes(dbs[0:2], modules[0:50], MOTIF_ANNOTATIONS_FNAME,\n",
    "                                     client_or_address=\"local\")"
   ]
  },
  {
   "cell_type": "code",
   "execution_count": 18,
   "metadata": {},
   "outputs": [
    {
     "data": {
      "text/plain": [
       "18"
      ]
     },
     "execution_count": 18,
     "metadata": {},
     "output_type": "execute_result"
    }
   ],
   "source": [
    "len(regulomes)"
   ]
  },
  {
   "cell_type": "code",
   "execution_count": 19,
   "metadata": {},
   "outputs": [
    {
     "data": {
      "text/html": [
       "\n",
       "<div class=\"bk-root\">\n",
       "    <div class=\"bk-plotdiv\" id=\"4f92d05b-9463-44c2-9e21-4fac3ef35239\"></div>\n",
       "</div>"
      ]
     },
     "metadata": {},
     "output_type": "display_data"
    },
    {
     "data": {
      "application/javascript": [
       "(function(root) {\n",
       "  function embed_document(root) {\n",
       "    \n",
       "  var docs_json = {\"53868aba-3807-4e2d-9699-a05f0026688a\":{\"roots\":{\"references\":[{\"attributes\":{},\"id\":\"07313bb2-f5a0-4cd1-9135-e3855c71d0b2\",\"type\":\"LinearScale\"},{\"attributes\":{\"label\":{\"value\":\"% CPU\"},\"renderers\":[{\"id\":\"e12722e0-587b-491b-a09e-3765beed2cb1\",\"type\":\"GlyphRenderer\"}]},\"id\":\"573aa8d1-913d-4fd5-9b0e-25fd184c152d\",\"type\":\"LegendItem\"},{\"attributes\":{},\"id\":\"1ae1dc26-8ea3-46b1-b436-590f93cfd258\",\"type\":\"ResetTool\"},{\"attributes\":{},\"id\":\"06f68ef9-573b-4bb6-b868-08edc1699892\",\"type\":\"BasicTicker\"},{\"attributes\":{},\"id\":\"647b6733-475a-4a47-9aaf-f32ef35a4886\",\"type\":\"WheelZoomTool\"},{\"attributes\":{\"grid_line_color\":{\"value\":null},\"plot\":{\"id\":\"b7619e93-cb14-47e4-99bd-b58bc1ab8bbe\",\"subtype\":\"Figure\",\"type\":\"Plot\"},\"ticker\":{\"id\":\"06f68ef9-573b-4bb6-b868-08edc1699892\",\"type\":\"BasicTicker\"}},\"id\":\"3452f618-6af9-4eaf-9300-57e2173adb66\",\"type\":\"Grid\"},{\"attributes\":{\"dimensions\":\"width\"},\"id\":\"6af930b6-a741-48b6-8b00-0ed7fff4a334\",\"type\":\"PanTool\"},{\"attributes\":{\"axis_label\":\"Worker ID\",\"axis_line_color\":{\"value\":null},\"formatter\":{\"id\":\"7237e7fc-5d1f-4519-b802-630346f58ea6\",\"type\":\"CategoricalTickFormatter\"},\"major_tick_line_color\":{\"value\":null},\"plot\":{\"id\":\"b7619e93-cb14-47e4-99bd-b58bc1ab8bbe\",\"subtype\":\"Figure\",\"type\":\"Plot\"},\"ticker\":{\"id\":\"1ca30ffa-28a0-4e0c-be6d-fce72fcec9e0\",\"type\":\"CategoricalTicker\"}},\"id\":\"b51858c3-8a6b-4b70-88cd-8a92e051350e\",\"type\":\"CategoricalAxis\"},{\"attributes\":{},\"id\":\"1ca30ffa-28a0-4e0c-be6d-fce72fcec9e0\",\"type\":\"CategoricalTicker\"},{\"attributes\":{\"dimension\":1,\"grid_line_color\":{\"value\":null},\"plot\":{\"id\":\"b7619e93-cb14-47e4-99bd-b58bc1ab8bbe\",\"subtype\":\"Figure\",\"type\":\"Plot\"},\"ticker\":{\"id\":\"1ca30ffa-28a0-4e0c-be6d-fce72fcec9e0\",\"type\":\"CategoricalTicker\"}},\"id\":\"f4a97124-2740-4878-8b3d-d4a1487ce0ef\",\"type\":\"Grid\"},{\"attributes\":{\"below\":[{\"id\":\"ba04bd23-a5f7-4542-b3fa-4c07722c90d6\",\"type\":\"LinearAxis\"}],\"left\":[{\"id\":\"b74d9223-25d0-4d99-aed3-1c2b5284f1ed\",\"type\":\"LinearAxis\"}],\"min_border_left\":75,\"min_border_right\":75,\"min_border_top\":20,\"plot_height\":270,\"plot_width\":800,\"renderers\":[{\"id\":\"ba04bd23-a5f7-4542-b3fa-4c07722c90d6\",\"type\":\"LinearAxis\"},{\"id\":\"f0546537-c365-4294-8eff-193686cd0ff0\",\"type\":\"Grid\"},{\"id\":\"b74d9223-25d0-4d99-aed3-1c2b5284f1ed\",\"type\":\"LinearAxis\"},{\"id\":\"f5867439-c47c-4d77-b920-0ca24d856add\",\"type\":\"Grid\"},{\"id\":\"20de8e53-fc78-4196-8ef4-62e94d3136f0\",\"type\":\"GlyphRenderer\"},{\"id\":\"9316069a-7f17-4f56-b1d2-cbaa8d367476\",\"type\":\"GlyphRenderer\"}],\"title\":null,\"toolbar\":{\"id\":\"e723ba9b-98bd-4a67-abda-4b0828694902\",\"type\":\"Toolbar\"},\"toolbar_location\":null,\"x_range\":{\"id\":\"a9347f11-ed52-4f9f-8f8c-c7fe0a0a3a0e\",\"type\":\"Range1d\"},\"x_scale\":{\"id\":\"6ab06d30-c60e-4aed-ac94-fa0829df8190\",\"type\":\"LinearScale\"},\"y_range\":{\"id\":\"25947577-ad9f-4661-acfe-6e10783520d7\",\"type\":\"DataRange1d\"},\"y_scale\":{\"id\":\"07313bb2-f5a0-4cd1-9135-e3855c71d0b2\",\"type\":\"LinearScale\"}},\"id\":\"fd099a8c-97fc-4dc0-af5f-80df2e55ae7a\",\"subtype\":\"Figure\",\"type\":\"Plot\"},{\"attributes\":{\"active_drag\":\"auto\",\"active_inspect\":\"auto\",\"active_scroll\":\"auto\",\"active_tap\":\"auto\",\"tools\":[{\"id\":\"f835e828-ee3c-4e38-a9d4-216d8a62a9ea\",\"type\":\"HoverTool\"},{\"id\":\"04427a81-d85f-4f33-b77a-7fb277ae79f1\",\"type\":\"SaveTool\"},{\"id\":\"1ae1dc26-8ea3-46b1-b436-590f93cfd258\",\"type\":\"ResetTool\"},{\"id\":\"647b6733-475a-4a47-9aaf-f32ef35a4886\",\"type\":\"WheelZoomTool\"},{\"id\":\"6af930b6-a741-48b6-8b00-0ed7fff4a334\",\"type\":\"PanTool\"}]},\"id\":\"e723ba9b-98bd-4a67-abda-4b0828694902\",\"type\":\"Toolbar\"},{\"attributes\":{\"children\":[{\"id\":\"b7619e93-cb14-47e4-99bd-b58bc1ab8bbe\",\"subtype\":\"Figure\",\"type\":\"Plot\"}]},\"id\":\"2b726125-d1f1-4091-8077-424ecc5c72af\",\"type\":\"Row\"},{\"attributes\":{\"callback\":null,\"point_policy\":\"follow_mouse\",\"tooltips\":\"\\n    <div>\\n        <span style=\\\"font-size: 14px; font-weight: bold;\\\">Key:</span>&nbsp;\\n        <span style=\\\"font-size: 10px; font-family: Monaco, monospace;\\\">@key</span>\\n    </div>\\n    <div>\\n        <span style=\\\"font-size: 14px; font-weight: bold;\\\">Task:</span>&nbsp;\\n        <span style=\\\"font-size: 10px; font-family: Monaco, monospace;\\\">@function</span>\\n    </div>\\n    \"},\"id\":\"f4703f54-e5f4-4aa2-9137-feebfc9aa09e\",\"type\":\"HoverTool\"},{\"attributes\":{\"callback\":null},\"id\":\"25947577-ad9f-4661-acfe-6e10783520d7\",\"type\":\"DataRange1d\"},{\"attributes\":{},\"id\":\"54151620-3d30-4d55-bc1d-dec51b0bfdce\",\"type\":\"SaveTool\"},{\"attributes\":{},\"id\":\"1cd1993f-d7b9-4226-a7f2-840e9aa6904e\",\"type\":\"ResetTool\"},{\"attributes\":{\"dimensions\":\"width\"},\"id\":\"a97f0efd-34a1-406c-bf25-2ea9dc12cef7\",\"type\":\"WheelZoomTool\"},{\"attributes\":{\"dimensions\":\"width\"},\"id\":\"be82d9df-6f0b-4525-867b-62421a018476\",\"type\":\"PanTool\"},{\"attributes\":{\"children\":[{\"id\":\"2b726125-d1f1-4091-8077-424ecc5c72af\",\"type\":\"Row\"},{\"id\":\"d1b4b5eb-adcd-4dca-9f2a-165510f437ba\",\"type\":\"Row\"},{\"id\":\"0e8f4daa-3ce3-4c07-8f66-618551950c5e\",\"type\":\"Row\"}]},\"id\":\"01080fe9-cd3f-4278-9571-021d989ac45c\",\"type\":\"Column\"},{\"attributes\":{},\"id\":\"6ab06d30-c60e-4aed-ac94-fa0829df8190\",\"type\":\"LinearScale\"},{\"attributes\":{\"plot\":{\"id\":\"fd099a8c-97fc-4dc0-af5f-80df2e55ae7a\",\"subtype\":\"Figure\",\"type\":\"Plot\"},\"ticker\":{\"id\":\"ec5b1e33-1f48-4512-b214-ed2a416850a0\",\"type\":\"BasicTicker\"}},\"id\":\"f0546537-c365-4294-8eff-193686cd0ff0\",\"type\":\"Grid\"},{\"attributes\":{\"axis_label\":\"Time (s)\",\"formatter\":{\"id\":\"20f2b7af-cd5b-4d5d-921c-39595eea8250\",\"type\":\"BasicTickFormatter\"},\"plot\":{\"id\":\"fd099a8c-97fc-4dc0-af5f-80df2e55ae7a\",\"subtype\":\"Figure\",\"type\":\"Plot\"},\"ticker\":{\"id\":\"ec5b1e33-1f48-4512-b214-ed2a416850a0\",\"type\":\"BasicTicker\"}},\"id\":\"ba04bd23-a5f7-4542-b3fa-4c07722c90d6\",\"type\":\"LinearAxis\"},{\"attributes\":{},\"id\":\"ec5b1e33-1f48-4512-b214-ed2a416850a0\",\"type\":\"BasicTicker\"},{\"attributes\":{\"axis_label\":\"Cache Size (count)\",\"formatter\":{\"id\":\"81026bf8-ace7-448b-871d-e74c07af2841\",\"type\":\"BasicTickFormatter\"},\"plot\":{\"id\":\"fd099a8c-97fc-4dc0-af5f-80df2e55ae7a\",\"subtype\":\"Figure\",\"type\":\"Plot\"},\"ticker\":{\"id\":\"37fbd867-0c16-4da5-b781-e5c748079159\",\"type\":\"BasicTicker\"}},\"id\":\"b74d9223-25d0-4d99-aed3-1c2b5284f1ed\",\"type\":\"LinearAxis\"},{\"attributes\":{\"line_color\":\"#440154\",\"line_width\":3,\"x\":{\"field\":\"x\"},\"y\":{\"field\":\"y\"}},\"id\":\"9f9532a4-48b0-4830-ae92-a84e6fc055e3\",\"type\":\"Line\"},{\"attributes\":{\"toolbar\":{\"id\":\"ed6c0399-7667-4314-9ffd-6b5efdeed98e\",\"type\":\"ProxyToolbar\"},\"toolbar_location\":\"above\"},\"id\":\"e2a5d7e6-31a6-438e-b1c2-a113b414511f\",\"type\":\"ToolbarBox\"},{\"attributes\":{\"data_source\":{\"id\":\"00eabeb6-4ac2-4a6f-af56-7e5812bc5e4f\",\"type\":\"ColumnDataSource\"},\"glyph\":{\"id\":\"9f9532a4-48b0-4830-ae92-a84e6fc055e3\",\"type\":\"Line\"},\"hover_glyph\":null,\"muted_glyph\":null,\"nonselection_glyph\":{\"id\":\"0903a81f-19b7-4bc3-9122-2fe03d4cd0ee\",\"type\":\"Line\"},\"selection_glyph\":null,\"view\":{\"id\":\"6a2a8427-cfdc-4ca1-9995-6cc2b536c90b\",\"type\":\"CDSView\"}},\"id\":\"20de8e53-fc78-4196-8ef4-62e94d3136f0\",\"type\":\"GlyphRenderer\"},{\"attributes\":{\"children\":[{\"id\":\"fd099a8c-97fc-4dc0-af5f-80df2e55ae7a\",\"subtype\":\"Figure\",\"type\":\"Plot\"}]},\"id\":\"0e8f4daa-3ce3-4c07-8f66-618551950c5e\",\"type\":\"Row\"},{\"attributes\":{\"dimensions\":\"width\"},\"id\":\"f7280162-4ed9-4c29-8855-e286edc0cdf3\",\"type\":\"PanTool\"},{\"attributes\":{\"dimensions\":\"width\"},\"id\":\"1f3625c9-29ac-4678-b895-b51cf6aba47c\",\"type\":\"WheelZoomTool\"},{\"attributes\":{},\"id\":\"41cb0acd-2ee1-4e06-859c-348ab22d0268\",\"type\":\"ResetTool\"},{\"attributes\":{},\"id\":\"37fbd867-0c16-4da5-b781-e5c748079159\",\"type\":\"BasicTicker\"},{\"attributes\":{\"tools\":[{\"id\":\"f4703f54-e5f4-4aa2-9137-feebfc9aa09e\",\"type\":\"HoverTool\"},{\"id\":\"54151620-3d30-4d55-bc1d-dec51b0bfdce\",\"type\":\"SaveTool\"},{\"id\":\"1cd1993f-d7b9-4226-a7f2-840e9aa6904e\",\"type\":\"ResetTool\"},{\"id\":\"a97f0efd-34a1-406c-bf25-2ea9dc12cef7\",\"type\":\"WheelZoomTool\"},{\"id\":\"be82d9df-6f0b-4525-867b-62421a018476\",\"type\":\"PanTool\"},{\"id\":\"6af6d3a5-5912-4c27-a6c8-9af4e08a15b0\",\"type\":\"SaveTool\"},{\"id\":\"41cb0acd-2ee1-4e06-859c-348ab22d0268\",\"type\":\"ResetTool\"},{\"id\":\"1f3625c9-29ac-4678-b895-b51cf6aba47c\",\"type\":\"WheelZoomTool\"},{\"id\":\"f7280162-4ed9-4c29-8855-e286edc0cdf3\",\"type\":\"PanTool\"},{\"id\":\"f835e828-ee3c-4e38-a9d4-216d8a62a9ea\",\"type\":\"HoverTool\"},{\"id\":\"04427a81-d85f-4f33-b77a-7fb277ae79f1\",\"type\":\"SaveTool\"},{\"id\":\"1ae1dc26-8ea3-46b1-b436-590f93cfd258\",\"type\":\"ResetTool\"},{\"id\":\"647b6733-475a-4a47-9aaf-f32ef35a4886\",\"type\":\"WheelZoomTool\"},{\"id\":\"6af930b6-a741-48b6-8b00-0ed7fff4a334\",\"type\":\"PanTool\"}]},\"id\":\"ed6c0399-7667-4314-9ffd-6b5efdeed98e\",\"type\":\"ProxyToolbar\"},{\"attributes\":{},\"id\":\"6af6d3a5-5912-4c27-a6c8-9af4e08a15b0\",\"type\":\"SaveTool\"},{\"attributes\":{\"children\":[{\"id\":\"f823512b-cccf-4247-9981-7598b3514da5\",\"subtype\":\"Figure\",\"type\":\"Plot\"}]},\"id\":\"d1b4b5eb-adcd-4dca-9f2a-165510f437ba\",\"type\":\"Row\"},{\"attributes\":{\"dimension\":1,\"plot\":{\"id\":\"fd099a8c-97fc-4dc0-af5f-80df2e55ae7a\",\"subtype\":\"Figure\",\"type\":\"Plot\"},\"ticker\":{\"id\":\"37fbd867-0c16-4da5-b781-e5c748079159\",\"type\":\"BasicTicker\"}},\"id\":\"f5867439-c47c-4d77-b920-0ca24d856add\",\"type\":\"Grid\"},{\"attributes\":{},\"id\":\"ba43917a-0bda-48ae-a314-0a160e10e634\",\"type\":\"BasicTickFormatter\"},{\"attributes\":{},\"id\":\"04427a81-d85f-4f33-b77a-7fb277ae79f1\",\"type\":\"SaveTool\"},{\"attributes\":{},\"id\":\"bb40407a-fb5c-4a78-97fd-ad981197401f\",\"type\":\"BasicTicker\"},{\"attributes\":{\"callback\":null,\"column_names\":[\"x\",\"y\",\"label\"],\"data\":{\"label\":[\"module2regulome(...)\",\"module2regulome(...)\",\"module2regulome(...)\",\"module2regulome(...)\",\"module2regulome(...)\",\"module2regulome(...)\",\"module2regulome(...)\",\"module2regulome(...)\",\"module2regulome(...)\",\"module2regulome(...)\",\"module2regulome(...)\",\"module2regulome(...)\",\"module2regulome(...)\",\"module2regulome(...)\",\"module2regulome(...)\",\"module2regulome(...)\",\"module2regulome(...)\",\"module2regulome(...)\",\"module2regulome(...)\",\"module2regulome(...)\",\"module2regulome(...)\",\"module2regulome(...)\",\"module2regulome(...)\",\"module2regulome(...)\",\"module2regulome(...)\",\"module2regulome(...)\",\"module2regulome(...)\",\"module2regulome(...)\",\"module2regulome(...)\",\"module2regulome(...)\",\"module2regulome(...)\",\"module2regulome(...)\",\"module2regulome(...)\",\"module2regulome(...)\",\"module2regulome(...)\",\"module2regulome(...)\",\"module2regulome(...)\",\"module2regulome(...)\",\"module2regulome(...)\",\"module2regulome(...)\",\"module2regulome(...)\",\"module2regulome(...)\",\"module2regulome(...)\",\"module2regulome(...)\",\"module2regulome(...)\",\"module2regulome(...)\",\"module2regulome(...)\",\"module2regulome(...)\",\"module2regulome(...)\",\"module2regulome(...)\",\"module2regulome(...)\",\"module2regulome(...)\",\"module2regulome(...)\",\"module2regulome(...)\",\"module2regulome(...)\",\"module2regulome(...)\",\"module2regulome(...)\",\"module2regulome(...)\",\"module2regulome(...)\",\"module2regulome(...)\",\"module2regulome(...)\",\"module2regulome(...)\",\"module2regulome(...)\",\"module2regulome(...)\",\"module2regulome(...)\",\"module2regulome(...)\",\"module2regulome(...)\",\"module2regulome(...)\",\"module2regulome(...)\",\"module2regulome(...)\",\"module2regulome(...)\",\"module2regulome(...)\",\"module2regulome(...)\",\"module2regulome(...)\",\"module2regulome(...)\",\"module2regulome(...)\",\"module2regulome(...)\",\"module2regulome(...)\",\"module2regulome(...)\",\"module2regulome(...)\",\"module2regulome(...)\",\"module2regulome(...)\",\"module2regulome(...)\",\"module2regulome(...)\",\"module2regulome(...)\",\"module2regulome(...)\",\"module2regulome(...)\",\"module2regulome(...)\",\"module2regulome(...)\",\"module2regulome(...)\",\"module2regulome(...)\",\"module2regulome(...)\",\"module2regulome(...)\",\"module2regulome(...)\",\"module2regulome(...)\",\"module2regulome(...)\",\"module2regulome(...)\",\"module2regulome(...)\",\"module2regulome(...)\",\"module2regulome(...)\",\"module2regulome(...)\",\"module2regulome(...)\",\"module2regulome(...)\"],\"x\":[0,7.770860114999778,8.827568763000272,9.865288676000091,10.918542112999603,11.92023842100025,13.064936116999888,14.066730069999721,15.152487156999996,16.05040759900021,17.102719823999905,18.043481767999765,19.02799828299976,20.54752944000029,22.048768214999654,23.556351670999902,25.101271437999458,26.356479533999845,27.765248914999574,29.338674614999945,30.67555955500029,31.917907582000225,33.06890065799962,34.327632886000174,35.953348531999836,37.76613172099951,38.92108959599955,40.125200560999474,41.25712084299994,42.686921585000164,43.89937369400013,45.0065040519994,46.11162964799951,47.02409672799968,48.004165542999544,49.01952894700025,49.83210887599944,50.785358768999686,51.710503137999694,52.70701629599989,53.8750717289995,54.93660544700015,56.56137846999991,57.87707104199944,59.29027784800019,60.80873695900027,62.25582615900021,63.8075166159997,65.61680277300002,67.5619500140001,69.19240593799987,70.78408481099996,72.01626427300016,73.52280337499997,74.92040038899995,76.25118169100006,77.4627040989999,78.65603732599993,79.68114808700011,80.88699412499955,83.39123332599956,85.14438279000024,86.81276438799978,94.031067807,97.0107208620002,99.94046872099989,102.54707828600021,104.87148402799994,106.44447118799962,108.02257599399945,109.67040489099963,111.31963550199998,112.8107318679995,114.09578772799978,115.52299352999944,117.54488546799985,119.8961468259995,122.0643461489999,123.68070890099989,124.89797244900001,126.37136342299982,127.615548322,129.21107041199957,130.5176420130001,131.76059364199955,133.29300496799988,134.59247606499957,136.0088274109994,137.79671650699947,140.0802435129999,142.54025736599942,144.17290276699987,145.401999015,146.4556751299997,146.45569586799957,146.45570942699942,146.45572096999967,148.6794762519994,150.3879944979999,151.9572632089994,153.12616784500005,153.39068940699963,153.46079744300005],\"y\":[0,1,2,3,4,5,6,7,8,9,10,11,12,13,14,15,16,17,18,19,20,21,22,23,24,25,26,27,28,29,30,31,32,33,34,35,36,37,38,39,40,41,42,43,44,45,46,47,48,49,50,51,52,53,54,55,56,57,58,59,60,61,62,63,64,65,66,67,68,69,70,71,72,73,74,75,76,77,78,79,80,81,82,83,84,85,86,87,88,89,90,91,92,93,94,95,96,97,98,99,100,0,0]}},\"id\":\"00eabeb6-4ac2-4a6f-af56-7e5812bc5e4f\",\"type\":\"ColumnDataSource\"},{\"attributes\":{\"line_color\":\"#208F8C\",\"line_width\":3,\"x\":{\"field\":\"x\"},\"y\":{\"field\":\"y\"}},\"id\":\"771503d8-8b03-48f7-b212-4ceb1863e742\",\"type\":\"Line\"},{\"attributes\":{\"dimension\":1,\"plot\":{\"id\":\"f823512b-cccf-4247-9981-7598b3514da5\",\"subtype\":\"Figure\",\"type\":\"Plot\"},\"ticker\":{\"id\":\"0047f3ff-937d-4dad-8815-b96469000050\",\"type\":\"BasicTicker\"}},\"id\":\"47c1ac5f-3e44-462a-8d7a-a0c67deaf89f\",\"type\":\"Grid\"},{\"attributes\":{\"callback\":null,\"column_names\":[\"x\",\"y\",\"label\"],\"data\":{\"label\":[\"list([_, _, _, ...])\",\"list([_, _, _, ...])\",\"list([_, _, _, ...])\",\"list([_, _, _, ...])\",\"list([_, _, _, ...])\",\"list([_, _, _, ...])\",\"list([_, _, _, ...])\",\"list([_, _, _, ...])\",\"list([_, _, _, ...])\",\"list([_, _, _, ...])\",\"list([_, _, _, ...])\",\"list([_, _, _, ...])\",\"list([_, _, _, ...])\",\"list([_, _, _, ...])\",\"list([_, _, _, ...])\",\"list([_, _, _, ...])\",\"list([_, _, _, ...])\",\"list([_, _, _, ...])\",\"list([_, _, _, ...])\",\"list([_, _, _, ...])\",\"list([_, _, _, ...])\",\"list([_, _, _, ...])\",\"list([_, _, _, ...])\",\"list([_, _, _, ...])\",\"list([_, _, _, ...])\",\"list([_, _, _, ...])\",\"list([_, _, _, ...])\",\"list([_, _, _, ...])\",\"list([_, _, _, ...])\",\"list([_, _, _, ...])\",\"list([_, _, _, ...])\",\"list([_, _, _, ...])\",\"list([_, _, _, ...])\",\"list([_, _, _, ...])\",\"list([_, _, _, ...])\",\"list([_, _, _, ...])\",\"list([_, _, _, ...])\",\"list([_, _, _, ...])\",\"list([_, _, _, ...])\",\"list([_, _, _, ...])\",\"list([_, _, _, ...])\",\"list([_, _, _, ...])\",\"list([_, _, _, ...])\",\"list([_, _, _, ...])\",\"list([_, _, _, ...])\",\"list([_, _, _, ...])\",\"list([_, _, _, ...])\",\"list([_, _, _, ...])\",\"list([_, _, _, ...])\",\"list([_, _, _, ...])\",\"list([_, _, _, ...])\",\"list([_, _, _, ...])\",\"list([_, _, _, ...])\",\"list([_, _, _, ...])\",\"list([_, _, _, ...])\",\"list([_, _, _, ...])\",\"list([_, _, _, ...])\",\"list([_, _, _, ...])\",\"list([_, _, _, ...])\",\"list([_, _, _, ...])\",\"list([_, _, _, ...])\",\"list([_, _, _, ...])\",\"list([_, _, _, ...])\",\"list([_, _, _, ...])\",\"list([_, _, _, ...])\",\"list([_, _, _, ...])\",\"list([_, _, _, ...])\",\"list([_, _, _, ...])\",\"list([_, _, _, ...])\",\"list([_, _, _, ...])\",\"list([_, _, _, ...])\",\"list([_, _, _, ...])\",\"list([_, _, _, ...])\",\"list([_, _, _, ...])\",\"list([_, _, _, ...])\",\"list([_, _, _, ...])\",\"list([_, _, _, ...])\",\"list([_, _, _, ...])\",\"list([_, _, _, ...])\",\"list([_, _, _, ...])\",\"list([_, _, _, ...])\",\"list([_, _, _, ...])\",\"list([_, _, _, ...])\",\"list([_, _, _, ...])\",\"list([_, _, _, ...])\",\"list([_, _, _, ...])\",\"list([_, _, _, ...])\",\"list([_, _, _, ...])\",\"list([_, _, _, ...])\",\"list([_, _, _, ...])\",\"list([_, _, _, ...])\",\"list([_, _, _, ...])\",\"list([_, _, _, ...])\",\"list([_, _, _, ...])\",\"list([_, _, _, ...])\",\"list([_, _, _, ...])\",\"list([_, _, _, ...])\",\"list([_, _, _, ...])\",\"list([_, _, _, ...])\",\"list([_, _, _, ...])\",\"list([_, _, _, ...])\",\"list([_, _, _, ...])\",\"list([_, _, _, ...])\"],\"x\":[0,7.770860114999778,8.827568763000272,9.865288676000091,10.918542112999603,11.92023842100025,13.064936116999888,14.066730069999721,15.152487156999996,16.05040759900021,17.102719823999905,18.043481767999765,19.02799828299976,20.54752944000029,22.048768214999654,23.556351670999902,25.101271437999458,26.356479533999845,27.765248914999574,29.338674614999945,30.67555955500029,31.917907582000225,33.06890065799962,34.327632886000174,35.953348531999836,37.76613172099951,38.92108959599955,40.125200560999474,41.25712084299994,42.686921585000164,43.89937369400013,45.0065040519994,46.11162964799951,47.02409672799968,48.004165542999544,49.01952894700025,49.83210887599944,50.785358768999686,51.710503137999694,52.70701629599989,53.8750717289995,54.93660544700015,56.56137846999991,57.87707104199944,59.29027784800019,60.80873695900027,62.25582615900021,63.8075166159997,65.61680277300002,67.5619500140001,69.19240593799987,70.78408481099996,72.01626427300016,73.52280337499997,74.92040038899995,76.25118169100006,77.4627040989999,78.65603732599993,79.68114808700011,80.88699412499955,83.39123332599956,85.14438279000024,86.81276438799978,94.031067807,97.0107208620002,99.94046872099989,102.54707828600021,104.87148402799994,106.44447118799962,108.02257599399945,109.67040489099963,111.31963550199998,112.8107318679995,114.09578772799978,115.52299352999944,117.54488546799985,119.8961468259995,122.0643461489999,123.68070890099989,124.89797244900001,126.37136342299982,127.615548322,129.21107041199957,130.5176420130001,131.76059364199955,133.29300496799988,134.59247606499957,136.0088274109994,137.79671650699947,140.0802435129999,142.54025736599942,144.17290276699987,145.401999015,146.4556751299997,146.45569586799957,146.45570942699942,146.45572096999967,148.6794762519994,150.3879944979999,151.9572632089994,153.12616784500005,153.39068940699963,153.46079744300005],\"y\":[0,0,0,0,0,0,0,0,0,0,0,0,0,0,0,0,0,0,0,0,0,0,0,0,0,0,0,0,0,0,0,0,0,0,0,0,0,0,0,0,0,0,0,0,0,0,0,0,0,0,0,0,0,0,0,0,0,0,0,0,0,0,0,0,0,0,0,0,0,0,0,0,0,0,0,0,0,0,0,0,0,0,0,0,0,0,0,0,0,0,0,0,0,0,0,0,0,0,0,0,0,1,0]}},\"id\":\"769d9522-5180-4b8b-b458-ab187c628827\",\"type\":\"ColumnDataSource\"},{\"attributes\":{},\"id\":\"0047f3ff-937d-4dad-8815-b96469000050\",\"type\":\"BasicTicker\"},{\"attributes\":{\"data_source\":{\"id\":\"769d9522-5180-4b8b-b458-ab187c628827\",\"type\":\"ColumnDataSource\"},\"glyph\":{\"id\":\"771503d8-8b03-48f7-b212-4ceb1863e742\",\"type\":\"Line\"},\"hover_glyph\":null,\"muted_glyph\":null,\"nonselection_glyph\":{\"id\":\"6c0aac5a-a291-4fca-893b-6c23f70d8bf9\",\"type\":\"Line\"},\"selection_glyph\":null,\"view\":{\"id\":\"95539b92-a2b5-42c3-abfb-4d62d1edd7d4\",\"type\":\"CDSView\"}},\"id\":\"9316069a-7f17-4f56-b1d2-cbaa8d367476\",\"type\":\"GlyphRenderer\"},{\"attributes\":{\"axis_label\":\"% CPU\",\"formatter\":{\"id\":\"eea5b22e-8a15-4be8-941d-dc9aee142f2e\",\"type\":\"BasicTickFormatter\"},\"plot\":{\"id\":\"f823512b-cccf-4247-9981-7598b3514da5\",\"subtype\":\"Figure\",\"type\":\"Plot\"},\"ticker\":{\"id\":\"0047f3ff-937d-4dad-8815-b96469000050\",\"type\":\"BasicTicker\"}},\"id\":\"1dc411d7-b682-49b1-8cc8-9567eb0c3148\",\"type\":\"LinearAxis\"},{\"attributes\":{\"line_alpha\":0.1,\"line_color\":\"#1f77b4\",\"line_width\":3,\"x\":{\"field\":\"x\"},\"y\":{\"field\":\"y\"}},\"id\":\"6c0aac5a-a291-4fca-893b-6c23f70d8bf9\",\"type\":\"Line\"},{\"attributes\":{},\"id\":\"c8763593-a538-414c-916b-ecc3f41974e6\",\"type\":\"BasicTicker\"},{\"attributes\":{\"children\":[{\"id\":\"e2a5d7e6-31a6-438e-b1c2-a113b414511f\",\"type\":\"ToolbarBox\"},{\"id\":\"01080fe9-cd3f-4278-9571-021d989ac45c\",\"type\":\"Column\"}]},\"id\":\"5ddbcf14-b467-4c46-9c7e-2a29d90c5565\",\"type\":\"Column\"},{\"attributes\":{\"axis_label\":null,\"formatter\":{\"id\":\"b6bb7745-197a-4360-8a22-660561b550c6\",\"type\":\"BasicTickFormatter\"},\"plot\":{\"id\":\"f823512b-cccf-4247-9981-7598b3514da5\",\"subtype\":\"Figure\",\"type\":\"Plot\"},\"ticker\":{\"id\":\"c8763593-a538-414c-916b-ecc3f41974e6\",\"type\":\"BasicTicker\"}},\"id\":\"a57d8038-adca-4f46-a476-62b282f4aba9\",\"type\":\"LinearAxis\"},{\"attributes\":{\"source\":{\"id\":\"769d9522-5180-4b8b-b458-ab187c628827\",\"type\":\"ColumnDataSource\"}},\"id\":\"95539b92-a2b5-42c3-abfb-4d62d1edd7d4\",\"type\":\"CDSView\"},{\"attributes\":{\"plot\":{\"id\":\"f823512b-cccf-4247-9981-7598b3514da5\",\"subtype\":\"Figure\",\"type\":\"Plot\"},\"ticker\":{\"id\":\"c8763593-a538-414c-916b-ecc3f41974e6\",\"type\":\"BasicTicker\"}},\"id\":\"3d33aec8-0ec6-4bfd-b816-5168940661e5\",\"type\":\"Grid\"},{\"attributes\":{},\"id\":\"20f2b7af-cd5b-4d5d-921c-39595eea8250\",\"type\":\"BasicTickFormatter\"},{\"attributes\":{},\"id\":\"d3db25df-08ea-4dd2-84af-a6666060d23d\",\"type\":\"LinearScale\"},{\"attributes\":{},\"id\":\"81026bf8-ace7-448b-871d-e74c07af2841\",\"type\":\"BasicTickFormatter\"},{\"attributes\":{\"callback\":null,\"end\":759.4000000000001},\"id\":\"e2295658-347d-4b27-bddf-76d2280cd4c4\",\"type\":\"Range1d\"},{\"attributes\":{\"source\":{\"id\":\"00eabeb6-4ac2-4a6f-af56-7e5812bc5e4f\",\"type\":\"ColumnDataSource\"}},\"id\":\"6a2a8427-cfdc-4ca1-9995-6cc2b536c90b\",\"type\":\"CDSView\"},{\"attributes\":{\"active_drag\":\"auto\",\"active_inspect\":\"auto\",\"active_scroll\":\"auto\",\"active_tap\":\"auto\",\"tools\":[{\"id\":\"6af6d3a5-5912-4c27-a6c8-9af4e08a15b0\",\"type\":\"SaveTool\"},{\"id\":\"41cb0acd-2ee1-4e06-859c-348ab22d0268\",\"type\":\"ResetTool\"},{\"id\":\"1f3625c9-29ac-4678-b895-b51cf6aba47c\",\"type\":\"WheelZoomTool\"},{\"id\":\"f7280162-4ed9-4c29-8855-e286edc0cdf3\",\"type\":\"PanTool\"}]},\"id\":\"49322b11-c972-4296-842f-63c6d377c8b1\",\"type\":\"Toolbar\"},{\"attributes\":{\"line_alpha\":0.1,\"line_color\":\"#1f77b4\",\"line_width\":3,\"x\":{\"field\":\"x\"},\"y\":{\"field\":\"y\"}},\"id\":\"0903a81f-19b7-4bc3-9122-2fe03d4cd0ee\",\"type\":\"Line\"},{\"attributes\":{\"callback\":null,\"tooltips\":\"\\n    <div>\\n        <span style=\\\"font-size: 14px; font-weight: bold;\\\">Task:</span>&nbsp;\\n        <span style=\\\"font-size: 10px; font-family: Monaco, monospace;\\\">@label</span>\\n    </div>\\n    \"},\"id\":\"f835e828-ee3c-4e38-a9d4-216d8a62a9ea\",\"type\":\"HoverTool\"},{\"attributes\":{\"below\":[{\"id\":\"a57d8038-adca-4f46-a476-62b282f4aba9\",\"type\":\"LinearAxis\"}],\"extra_y_ranges\":{\"memory\":{\"id\":\"5a619ec0-a8be-45d1-b3dc-7c0dbaa25713\",\"type\":\"Range1d\"}},\"left\":[{\"id\":\"1dc411d7-b682-49b1-8cc8-9567eb0c3148\",\"type\":\"LinearAxis\"}],\"min_border_bottom\":20,\"min_border_left\":75,\"min_border_right\":75,\"min_border_top\":20,\"plot_height\":240,\"plot_width\":800,\"renderers\":[{\"id\":\"a57d8038-adca-4f46-a476-62b282f4aba9\",\"type\":\"LinearAxis\"},{\"id\":\"3d33aec8-0ec6-4bfd-b816-5168940661e5\",\"type\":\"Grid\"},{\"id\":\"1dc411d7-b682-49b1-8cc8-9567eb0c3148\",\"type\":\"LinearAxis\"},{\"id\":\"47c1ac5f-3e44-462a-8d7a-a0c67deaf89f\",\"type\":\"Grid\"},{\"id\":\"8a0de992-10d2-48a0-b11f-e0728dab0569\",\"type\":\"Legend\"},{\"id\":\"e12722e0-587b-491b-a09e-3765beed2cb1\",\"type\":\"GlyphRenderer\"},{\"id\":\"760619e2-7880-419b-971b-dee250f8eeaf\",\"type\":\"GlyphRenderer\"},{\"id\":\"1db3a43e-81c8-4894-b604-4383d66eea32\",\"type\":\"LinearAxis\"}],\"right\":[{\"id\":\"1db3a43e-81c8-4894-b604-4383d66eea32\",\"type\":\"LinearAxis\"}],\"title\":null,\"toolbar\":{\"id\":\"49322b11-c972-4296-842f-63c6d377c8b1\",\"type\":\"Toolbar\"},\"toolbar_location\":null,\"x_range\":{\"id\":\"a9347f11-ed52-4f9f-8f8c-c7fe0a0a3a0e\",\"type\":\"Range1d\"},\"x_scale\":{\"id\":\"1320adc8-497e-4be1-a7d1-bb207c581228\",\"type\":\"LinearScale\"},\"y_range\":{\"id\":\"e2295658-347d-4b27-bddf-76d2280cd4c4\",\"type\":\"Range1d\"},\"y_scale\":{\"id\":\"d3db25df-08ea-4dd2-84af-a6666060d23d\",\"type\":\"LinearScale\"}},\"id\":\"f823512b-cccf-4247-9981-7598b3514da5\",\"subtype\":\"Figure\",\"type\":\"Plot\"},{\"attributes\":{},\"id\":\"1320adc8-497e-4be1-a7d1-bb207c581228\",\"type\":\"LinearScale\"},{\"attributes\":{},\"id\":\"0b36dc60-4aa9-496d-87a8-7882a0070669\",\"type\":\"BasicTickFormatter\"},{\"attributes\":{\"source\":{\"id\":\"e55af99d-7235-48dd-8556-949ac15dbb60\",\"type\":\"ColumnDataSource\"}},\"id\":\"d9069beb-b28b-4d80-bce2-72ea44d3c45b\",\"type\":\"CDSView\"},{\"attributes\":{\"data_source\":{\"id\":\"e55af99d-7235-48dd-8556-949ac15dbb60\",\"type\":\"ColumnDataSource\"},\"glyph\":{\"id\":\"e789dc06-a344-48e5-95a9-127eabfee9a4\",\"type\":\"Rect\"},\"hover_glyph\":null,\"muted_glyph\":null,\"nonselection_glyph\":{\"id\":\"a3e0512a-f0b5-4640-bb29-10a2261325b1\",\"type\":\"Rect\"},\"selection_glyph\":null,\"view\":{\"id\":\"d9069beb-b28b-4d80-bce2-72ea44d3c45b\",\"type\":\"CDSView\"}},\"id\":\"f70c77b1-c14b-46be-b629-e86954309fec\",\"type\":\"GlyphRenderer\"},{\"attributes\":{\"callback\":null,\"factors\":[\"0\",\"1\",\"2\",\"3\",\"4\",\"5\",\"6\",\"7\"]},\"id\":\"b8a88809-5766-48e6-a5fa-ca98dc5c1896\",\"type\":\"FactorRange\"},{\"attributes\":{},\"id\":\"7237e7fc-5d1f-4519-b802-630346f58ea6\",\"type\":\"CategoricalTickFormatter\"},{\"attributes\":{\"fill_alpha\":{\"value\":0.1},\"fill_color\":{\"value\":\"#1f77b4\"},\"height\":{\"units\":\"data\",\"value\":1},\"line_alpha\":{\"value\":0.1},\"line_color\":{\"value\":\"#1f77b4\"},\"width\":{\"field\":\"width\",\"units\":\"data\"},\"x\":{\"field\":\"x\"},\"y\":{\"field\":\"y\"}},\"id\":\"a3e0512a-f0b5-4640-bb29-10a2261325b1\",\"type\":\"Rect\"},{\"attributes\":{\"fill_color\":{\"field\":\"color\"},\"height\":{\"units\":\"data\",\"value\":1},\"line_color\":{\"value\":\"gray\"},\"width\":{\"field\":\"width\",\"units\":\"data\"},\"x\":{\"field\":\"x\"},\"y\":{\"field\":\"y\"}},\"id\":\"e789dc06-a344-48e5-95a9-127eabfee9a4\",\"type\":\"Rect\"},{\"attributes\":{\"callback\":null,\"column_names\":[\"x\",\"y\"],\"data\":{\"x\":[0.0,0.2516561760003242,0.502348856000026,0.7538353910003934,1.0044610210006795,1.2561011970001346,1.5065329690005456,1.7612257670007239,2.0127974610004458,2.2636254000008194,2.5144701390008777,2.7651774970008773,3.0158992610004134,3.2665597020004498,3.5174577780007894,3.7680404340007954,4.018770614999994,4.26958312700026,4.5204129790008665,4.771294043000125,5.022468676000244,5.273447657000361,5.524403339000855,5.775966106000851,6.027623872000731,6.279032010000265,6.530207961000087,6.781349008000689,7.032741268000791,7.28359668900066,7.5349797180006135,7.7863352560007115,8.037380063000455,8.288895089000107,8.54093389800073,8.792257395000888,9.04431670700069,9.296690858000147,9.548570706000646,9.800468820000788,10.052341057000376,10.303123210000194,10.553853455000535,10.805645707000622,11.057909185000426,11.30964362800023,11.561095671000658,11.812666710000485,12.064438416000485,12.315787808000096,12.567715081000642,12.818945792000704,13.070642982000209,13.32187242100008,13.573053869000432,13.82475889700072,14.076293517000522,14.327708157000416,14.579233040000872,14.831040198000665,15.082660197000223,15.334558941000068,15.586621683000885,15.838674498000728,16.090240408000682,16.341562698000416,16.59343233600066,16.844762492000882,17.096176516000014,17.347641269000633,17.59984311000062,17.851745749000656,18.103294359000756,18.354990260000704,18.605757557000288,18.85771332600052,19.108480220000274,19.35961856100039,19.61213871900054,19.864352587000212,20.115102750000005,20.366021461000855,20.61718120200021,20.868812615000024,21.1195208070003,21.37152896200041,21.622585207000157,21.87431001800087,22.125808123000752,22.378244603000894,22.629554278000796,22.880905974000598,23.132420614000694,23.38548300400089,23.636837715000183,23.88839455500056,24.141984521000268,24.39286330499999,24.644404554000175,24.896024177000072,25.14769612500004,25.399523132000468,25.652994199000204,25.906044018000102,26.157769806000033,26.40927648900015,26.661417163000806,26.913477355000396,27.16581713300002,27.417210012000396,27.66927983000005,27.921142520000103,28.172521581000183,28.424280099000498,28.67549194900039,28.92761988300026,29.17965753000044,29.432005387000572,29.68414877000032,29.936348719000307,30.187812890000714,30.43935946900001,30.691283476000535,30.942793842000356,31.19404404300076,31.445901495000726,31.697904376000224,31.950302750000446,32.20181114800016,32.45406807800009,32.70530998900085,32.958062135000546,33.20922939600041,33.46111548800036,33.71320881400061,33.9649995030004,34.21707192200029,34.468936976000805,34.72095090300081,34.97333390200038,35.22549888700087,35.47759444000076,35.72932722400037,35.982367252000586,36.23442112400062,36.48542969200025,36.73745772800066,36.988839955,37.24064293200081,37.492719431000296,37.744788698000775,37.996253277000505,38.247705633000805,38.49891242100057,38.75070047000008,39.0024503500008,39.25430870400032,39.50616935900052,39.756965449000745,40.009194108000884,40.2603559070003,40.511809388000074,40.763405514000624,41.014412081000046,41.26576164400012,41.51690040300036,41.768039289000626,42.02030810400083,42.27156719800041,42.523499580000134,42.7744635450008,43.02620934600054,43.27802700800021,43.53009226500035,43.78095144300005,44.03194818100019,44.28376514200045,44.53513229100008,44.78699441000026,45.03810613600035,45.290223357000286,45.541998281000815,45.794216107000466,46.04661726100039,46.2977157560008,46.54895731400029,46.80003596500046,47.051976816000206,47.30384326800049,47.55617204400005,47.80795001000024,48.05884733900075,48.31083614400086,48.562256920000436,48.81422658500014,49.06526580700029,49.31634425300035,49.568090278000454,49.819863944000645,50.07175660200028,50.324141240000245,50.57591531000071,50.82676973100024,51.078416755000035,51.32930736200069,51.58117614600087,51.83300621900071,52.08433545000025,52.335414993000086,52.58638780600086,52.83737994800049,53.0883420400005,53.33946276300048,53.59137088600073,53.84253785200053,54.094219399000394,54.34591828400062,54.59706437500063,54.84807290800018,55.09954313800063,55.35088983500009,55.60252294700058,55.854200177000166,56.10530885600019,56.35683496500042,56.607896133000395,56.858869294000215,57.109515396999996,57.360784164000506,57.611808740000015,57.86480665200088,58.11833698800001,58.36944827900061,58.620817244000136,58.871780538000166,59.123326330000054,59.374293487000614,59.62538299900007,59.877228982000815,60.1283132260005,60.38011800000004,60.63167334500031,60.8836621140008,61.13568321500043,61.38775962600084,61.63973661700038,61.89142628500031,62.142371594,62.393915560000096,62.64598711100007,62.89780666600018,63.150209676000486,63.40149994500007,63.6544713330004,63.90655083300044,64.15809455400085,64.40989877200082,64.66094321700075,64.9133442100001,65.16629687300065,65.41836156100089,65.67113118400084,65.9230967400008,66.17579873700015,66.42885922500045,66.68073453300076,66.93287360500017,67.18510394000077,67.44025462800073,67.69309153100039,67.94505414300056,68.1980513260005,68.45080610700006,68.70292113900086,68.95379422000042,69.20484902000044,69.4564055410001,69.70837412700075,69.96016314700046,70.21299097600058,70.46580285800064,70.71766119600034,70.96925202500006,71.22132161200079,71.4735318360008,71.72609846100022,71.97826694500054,72.23000413000045,72.48140543200043,72.73254499500035,72.98440975500034,73.23583990100087,73.48827167800027,73.74012069400032,73.99184285400042,74.24460408900086,74.49667715900068,74.74811282300016,74.99990623400026,75.25199888800034,75.50335450200055,75.75524635400052,76.00667613600035,76.25851772900023,76.51003350800056,76.76216629600003,77.01432730500073,77.26648241300063,77.51843010100038,77.76956273600081,78.02154565900037,78.27253231500072,78.52429034500074,78.77634204100013,79.02821523300008,79.27969907600072,79.53097813500062,79.78192251200016,80.03315826900052,80.28483140900062,80.53604806700059,80.78813511000044,81.04045499400036,81.29278511600023,81.54475024300064,81.79694998700052,82.04914989600002,82.3002801950006,82.55228448300022,82.80341176000002,83.0555858760008,83.3093769090001,83.563163627,83.81689613800063,84.07224314500036,84.32433012100046,84.57843713500006,84.83013649000077,85.08194515600007,85.33363630800068,85.58568059000027,85.8371591210007,86.08997699400061,86.34305651900013,86.59530050000012,86.84740401600084,87.09923637000065,87.35070005600028,87.60282096500032,87.85502848800024,88.10742655600006,88.35925903300085,88.61055961000056,88.86255425000036,89.11510054200062,89.36761755000043,89.61997346600037,89.873246612,90.12596564200066,90.37853793500017,90.6314919890001,90.88527154700023,91.13683666500037,91.38949246300035,91.64152620300047,91.8937129520009,92.14601867100009,92.39775996200024,92.64924056400014,92.90071857600014,93.15195175700046,93.40372507900065,93.65556369300066,93.90742752200003,94.15969356400001,94.41125653000017,94.66372089300057,94.91558192600041,95.16788690300018,95.41943415200058,95.67101477200049,95.9223242550006,96.17338472200026,96.42466390900063,96.67604955800016,96.92838083700008,97.17990462000034,97.43120266200003,97.68235928600006,97.9337501760001,98.18564304200027,98.43708402300035,98.68831962000058,98.93978899800004,99.19198170300024,99.44498361100068,99.69720780400075,99.94933932600088,100.2015553780002,100.4541486070002,100.70645841300029,100.95918862900089,101.21073231700029,101.46332446300039,101.71546172300077,101.96739532000083,102.21992134300035,102.47234087200013,102.72389902000032,102.97588978000022,103.22785971200028,103.47943415400005,103.73145903100067,103.98289149100037,104.23440331500024,104.48646765800004,104.73980700200082,104.99212233000071,105.24425799800065,105.4960803110007,105.74858673100061,106.0008341290004,106.25219431400001,106.50395572300022,106.75672951400065,107.00807787200029,107.25943317100064,107.51172227300049,107.76322513500054,108.01460329300062,108.26614107600017,108.51751518400033,108.7688425160004,109.0197806240003,109.27121838700077,109.52237554700059,109.7745974820009,110.02684145100011,110.27797427000041,110.5302729970008,110.78270348200022,111.03424956800063,111.28614527100035,111.53830560900042,111.78953948300023,112.04077190600037,112.29284499700043,112.54414022000037,112.79625035900062,113.04742705800072,113.29980391300069,113.55195404000006,113.80396115000076,114.0550345950005,114.30701127000066,114.5583723210002,114.81009913400067,115.06121698100014,115.31302539400076,115.56500559000051,115.81613161500081,116.06786254100007,116.31912725200073,116.57226621900008,116.82479088400032,117.07625858500069,117.32815963700068,117.58008557300036,117.83263050500045,118.08493437500056,118.33653274600056,118.58835680600077,118.84085878300084,119.09238200500022,119.34522373100026,119.59804805300064,119.85050413300087,120.1021653150001,120.35293206900042,120.60513807400002,120.85686877900025,121.10955185700004,121.36134972400032,121.61288358300044,121.86448010100048,122.11713000600048,122.37287130300047,122.62507339000058,122.87765857400063,123.12988364800003,123.382113269,123.6344762610006,123.88617499400061,124.13796952800021,124.38958052700036,124.6409659410001,124.89340607600025,125.14586599700033,125.3982848960004,125.65048478800054,125.9025971480005,126.15494436300014,126.40706005100037,126.65856982600053,126.91077221600062,127.1621672250003,127.41444065500036,127.66667317200063,127.919062768,128.17103026900077,128.4230205870008,128.67378921900035,128.9253961000004,129.17716777400074,129.42835583300075,129.68061698300062,129.9318813760001,130.18422135100082,130.4362955510005,130.68775893300062,130.9399020840001,131.191437683,131.4432643480004,131.69508823100023,131.947058148,132.19838718100073,132.45065308800076,132.7019730710008,132.9539928460008,133.20611457200084,133.45821003700075,133.71032254700003,133.96237334600028,134.21450559300047,134.4666527700001,134.71803330700004,134.96884786200008,135.2208527770008,135.472523894,135.72466180100037,135.97709416900034,136.22922877600013,136.48170758200013,136.73377854400042,136.98584292000032,137.23802584500027,137.49023504400066,137.7421208400001,137.99437743700037,138.2464270320006,138.50004460500077,138.75360364300013,139.00616945000002,139.25852282100004,139.51104731600026,139.76309610300086,140.01580600000034,140.2678858900008,140.5190680500009,140.7707267730002,141.02251916000023,141.2744097450004,141.52688824100005,141.77898304500013,142.03141228100048,142.28382886100007,142.5369258970004,142.7893517320008,143.0416026870007,143.29473702000087,143.54670187900047,143.7992384930003,144.0514921490003,144.3039880990009,144.55629664000026,144.80875080700025,145.060751256,145.3128887160001,145.5651074360003,145.8164633590004,146.06784887600043,146.32004029100062,146.57112279000012,146.8221292750004,147.07463510400066,147.3266012640006,147.57854633700026,147.83047827200062,148.08213191600044,148.33343996400072,148.5857996070008,148.8382424570009,149.09010948700052,149.34192575000088,149.59336400100074,149.844705083,150.0966037950002,150.3486873260008,150.60083924800074,150.85288275900075,151.10516327200003,151.3563934470003,151.6082465920008,151.86001809000027,152.111878445,152.3627645050001,152.61435768900083,152.86606179900082,153.1177426940003,153.36945248100074,153.6212011000007,153.87301731200023,154.12377497300076,154.3755145390005,154.62672011800078,154.8782766840004],\"y\":[0.0,93.0,88.5,70.8,86.9,78.60000000000001,82.0,87.7,95.60000000000001,93.3,98.7,174.89999999999998,159.1,128.2,205.49999999999997,158.4,164.40000000000003,255.70000000000002,206.5,335.00000000000006,397.00000000000006,420.2,383.9,444.5999999999999,432.80000000000007,508.2,550.4,444.6,463.59999999999997,585.0,538.6999999999999,493.2,571.2,619.9999999999999,667.5999999999999,649.4,626.3000000000001,614.2,541.0,600.4999999999999,539.5,459.7,519.0,595.4,596.4999999999999,508.80000000000007,460.09999999999997,472.50000000000006,472.29999999999995,492.4,497.79999999999995,552.1999999999999,472.8,494.1,458.59999999999997,450.9,449.70000000000005,450.4,453.79999999999995,521.4,572.9,549.6,497.5,498.79999999999995,554.1,463.59999999999997,463.79999999999995,490.4,567.0999999999999,490.9,495.4,496.0,546.5999999999999,571.7,519.1999999999999,472.2,490.40000000000003,535.6999999999999,581.9,495.0,496.40000000000003,554.0,575.6999999999999,568.1,371.4,466.70000000000005,566.4,492.6,542.0,590.8000000000001,535.3,498.3999999999999,490.2,490.2,535.8,563.8000000000001,584.1999999999999,554.6999999999999,494.0,498.5,586.4000000000001,582.8,589.2,585.9,588.8000000000001,590.9,573.1999999999999,583.4,549.1,488.3,496.29999999999995,566.5,451.4,486.0,493.5,518.7,559.5999999999999,557.8,575.4999999999999,568.9,436.09999999999997,421.79999999999995,491.5,496.90000000000003,498.69999999999993,498.8,568.0,547.2,573.5999999999999,583.1,512.4,518.6999999999999,506.9,486.1,485.79999999999995,474.1,410.59999999999997,448.2,498.9,501.90000000000003,499.6,522.1,579.9,591.6,565.0999999999999,570.5,548.6999999999999,417.90000000000003,577.4,584.1,582.0,586.4,441.90000000000003,536.3,576.9000000000001,584.3000000000001,586.5999999999999,590.6999999999999,544.3,511.7,582.9,519.5,475.5,497.5,480.9,426.59999999999997,487.4,495.7,498.69999999999993,411.09999999999997,447.0999999999999,497.3,498.79999999999995,483.4,488.59999999999997,561.9000000000001,575.6999999999999,506.00000000000006,497.3,494.9,459.4,469.5,497.2,501.1,499.59999999999997,433.2,374.3999999999999,390.4,389.2,394.29999999999995,391.2,365.4,393.19999999999993,396.29999999999995,392.6,398.1,445.4,398.3,397.70000000000005,396.30000000000007,397.9,435.1,464.7,492.7,467.59999999999997,324.0,341.9,435.2,487.1,490.79999999999995,499.29999999999995,542.8,482.6,489.5,401.6,441.00000000000006,496.29999999999995,493.4,498.09999999999997,541.4,576.0999999999999,525.8000000000001,496.3,500.6,582.4999999999999,593.8,591.9,471.0,216.6,533.0999999999999,592.1,624.4,562.0,527.0,480.6,499.5,551.7,495.7,491.59999999999997,500.40000000000003,497.4,462.7,483.9,496.5,498.90000000000003,498.20000000000005,500.79999999999995,588.7,596.4,594.8,594.3000000000001,596.3000000000001,593.2,619.3000000000001,585.6,585.3,576.9,580.3,554.5999999999999,560.1,552.4000000000001,477.49999999999994,414.2,421.50000000000006,484.30000000000007,490.0,481.79999999999995,490.4,476.80000000000007,491.1,545.5,539.9,555.2,568.0,567.2,579.6,591.0000000000001,612.6,625.8000000000001,577.9,570.0,594.5,566.1999999999999,518.6,523.9,589.9,588.0,488.1,493.0,499.6,493.9,548.6,588.8,592.6999999999999,600.7,568.5999999999999,561.0999999999999,608.5999999999999,575.4,594.1999999999999,538.6,498.5,499.3999999999999,548.3,591.5,594.6999999999999,598.4,551.8,401.0,470.59999999999997,500.09999999999997,406.0,398.4,399.2,474.8,486.19999999999993,460.8,398.29999999999995,396.09999999999997,386.8,379.9,398.8,399.90000000000003,430.49999999999994,489.9,497.0,499.1,498.79999999999995,497.7,542.6,588.8,574.0,555.3000000000001,565.1000000000001,588.1999999999999,580.0,571.5,549.3,556.4,574.9,502.29999999999995,491.70000000000005,518.1999999999999,539.8000000000001,570.9000000000001,591.3,597.0,499.2,499.6,560.6999999999999,573.4,572.8,586.9,588.1,587.7,448.5,470.6,480.59999999999997,572.6000000000001,570.8,569.4999999999999,639.9000000000001,640.0999999999999,576.7,600.7,545.7,554.7,380.90000000000003,391.29999999999995,293.5,361.40000000000003,362.20000000000005,405.8,432.2,444.2,421.8,505.40000000000003,547.2,677.0000000000001,668.5,686.4,558.8,457.09999999999997,335.40000000000003,375.4,627.3,457.20000000000005,435.00000000000006,410.7,665.7000000000002,599.6999999999999,636.2,653.2,565.5,576.0,602.3000000000001,592.8000000000001,602.4000000000001,564.8000000000001,544.8,527.4000000000001,549.4,488.00000000000006,550.7,545.6,598.5,557.9,613.8000000000001,631.6999999999999,639.2000000000002,637.4,615.0000000000001,573.8000000000001,575.9,583.6,629.3,555.9999999999999,582.5,639.0,636.1,622.3000000000001,620.5,663.7,591.0000000000001,647.3000000000001,604.8,584.0999999999999,529.7,493.2,487.6,497.0,578.5,552.8000000000001,495.09999999999997,500.0,499.29999999999995,497.59999999999997,572.6,580.5999999999999,525.0,498.49999999999994,499.00000000000006,498.59999999999997,499.99999999999994,535.6,594.5,596.0,594.0,597.1,515.9,554.2,591.1999999999999,592.8000000000001,551.3,500.0,487.0,446.4,495.5999999999999,496.9,498.49999999999994,498.70000000000005,507.2,596.0999999999999,592.1,593.5,595.1999999999999,594.8,608.3999999999999,683.8,668.5000000000001,638.8000000000001,663.4,660.5999999999999,671.4,668.8999999999999,686.1,694.4,183.70000000000002,207.10000000000002,619.3000000000001,712.2,669.7,614.7,690.0,734.0000000000001,749.3,752.0000000000001,749.2,701.4,691.1000000000001,684.1,689.4000000000001,741.9,756.3,686.9999999999999,694.9,682.7,646.4000000000001,545.0999999999999,503.59999999999997,497.9,498.2,500.8,533.2,593.7,593.5,552.3000000000001,495.09999999999997,491.59999999999997,419.79999999999995,485.5,480.70000000000005,494.3,500.29999999999995,563.0,593.3,595.4000000000001,598.4,599.1999999999999,601.1,598.1,602.7,489.40000000000003,500.30000000000007,498.9,500.79999999999995,568.4,492.5,496.79999999999995,499.3,519.8000000000001,592.1,595.6999999999999,599.9999999999999,598.4,572.3,583.5,516.6999999999999,494.79999999999995,500.6,501.09999999999997,498.40000000000003,587.5,596.3000000000001,598.8,600.0,601.0,620.7,681.6,681.3,687.0,691.0,675.1,684.0999999999999,689.3000000000001,759.4000000000001,752.1,527.5,92.5,468.3999999999999,628.8,757.7,727.6,652.8,621.4,579.0999999999999,567.6,566.8000000000001,562.2,563.0,566.9000000000001,560.9,568.0,527.5,560.3,387.69999999999993,385.8,387.2,316.4,299.09999999999997,390.09999999999997,395.79999999999995,398.2,398.79999999999995,412.79999999999995,496.3999999999999,499.1,499.20000000000005,429.19999999999993,394.29999999999995,397.5,399.5,397.69999999999993,403.5,397.29999999999995,399.29999999999995,394.8,383.79999999999995,300.59999999999997,301.29999999999995,300.4,300.8,300.59999999999997,300.3,259.6,200.10000000000002,202.10000000000002,200.8,201.3,200.8,183.90000000000003,101.3,101.19999999999999,102.0,101.6,99.8]}},\"id\":\"9baa74da-132f-406e-a8c2-681952fcfa9e\",\"type\":\"ColumnDataSource\"},{\"attributes\":{},\"id\":\"49ec0101-5bae-4fcd-b081-fd7c907b5c99\",\"type\":\"CategoricalScale\"},{\"attributes\":{\"label\":{\"value\":\"Memory\"},\"renderers\":[{\"id\":\"760619e2-7880-419b-971b-dee250f8eeaf\",\"type\":\"GlyphRenderer\"}]},\"id\":\"b4aa29ad-f308-4357-b8e1-6870ae431caa\",\"type\":\"LegendItem\"},{\"attributes\":{\"below\":[{\"id\":\"aa7efd2e-3806-49aa-9b85-4f5d8338d10c\",\"type\":\"LinearAxis\"}],\"left\":[{\"id\":\"b51858c3-8a6b-4b70-88cd-8a92e051350e\",\"type\":\"CategoricalAxis\"}],\"min_border_bottom\":20,\"min_border_left\":75,\"min_border_right\":75,\"plot_height\":270,\"plot_width\":800,\"renderers\":[{\"id\":\"aa7efd2e-3806-49aa-9b85-4f5d8338d10c\",\"type\":\"LinearAxis\"},{\"id\":\"3452f618-6af9-4eaf-9300-57e2173adb66\",\"type\":\"Grid\"},{\"id\":\"b51858c3-8a6b-4b70-88cd-8a92e051350e\",\"type\":\"CategoricalAxis\"},{\"id\":\"f4a97124-2740-4878-8b3d-d4a1487ce0ef\",\"type\":\"Grid\"},{\"id\":\"f70c77b1-c14b-46be-b629-e86954309fec\",\"type\":\"GlyphRenderer\"}],\"title\":{\"id\":\"9a42b2f1-ff9b-401c-bc48-8d5f4d3a0a40\",\"type\":\"Title\"},\"toolbar\":{\"id\":\"f23de5e5-30c9-4d69-b33f-2b48bda348bb\",\"type\":\"Toolbar\"},\"toolbar_location\":null,\"x_range\":{\"id\":\"a9347f11-ed52-4f9f-8f8c-c7fe0a0a3a0e\",\"type\":\"Range1d\"},\"x_scale\":{\"id\":\"befb682b-e37e-4e57-bea8-5dc8fc8ce5f4\",\"type\":\"LinearScale\"},\"y_range\":{\"id\":\"b8a88809-5766-48e6-a5fa-ca98dc5c1896\",\"type\":\"FactorRange\"},\"y_scale\":{\"id\":\"49ec0101-5bae-4fcd-b081-fd7c907b5c99\",\"type\":\"CategoricalScale\"}},\"id\":\"b7619e93-cb14-47e4-99bd-b58bc1ab8bbe\",\"subtype\":\"Figure\",\"type\":\"Plot\"},{\"attributes\":{\"source\":{\"id\":\"71f071ab-8e1a-4a02-8758-a3d1bb5217b5\",\"type\":\"ColumnDataSource\"}},\"id\":\"1e986d05-d3aa-4f68-8f81-c004791b57e0\",\"type\":\"CDSView\"},{\"attributes\":{\"data_source\":{\"id\":\"71f071ab-8e1a-4a02-8758-a3d1bb5217b5\",\"type\":\"ColumnDataSource\"},\"glyph\":{\"id\":\"ca16e6a3-f731-465e-bf68-3c8570f7326d\",\"type\":\"Line\"},\"hover_glyph\":null,\"muted_glyph\":null,\"nonselection_glyph\":{\"id\":\"a915f174-580f-401b-89b6-c53b98a39595\",\"type\":\"Line\"},\"selection_glyph\":null,\"view\":{\"id\":\"1e986d05-d3aa-4f68-8f81-c004791b57e0\",\"type\":\"CDSView\"},\"y_range_name\":\"memory\"},\"id\":\"760619e2-7880-419b-971b-dee250f8eeaf\",\"type\":\"GlyphRenderer\"},{\"attributes\":{\"callback\":null,\"end\":10801.758208,\"start\":461.328384},\"id\":\"5a619ec0-a8be-45d1-b3dc-7c0dbaa25713\",\"type\":\"Range1d\"},{\"attributes\":{\"axis_label\":\"Memory (MB)\",\"formatter\":{\"id\":\"ba43917a-0bda-48ae-a314-0a160e10e634\",\"type\":\"BasicTickFormatter\"},\"plot\":{\"id\":\"f823512b-cccf-4247-9981-7598b3514da5\",\"subtype\":\"Figure\",\"type\":\"Plot\"},\"ticker\":{\"id\":\"bb40407a-fb5c-4a78-97fd-ad981197401f\",\"type\":\"BasicTicker\"},\"y_range_name\":\"memory\"},\"id\":\"1db3a43e-81c8-4894-b604-4383d66eea32\",\"type\":\"LinearAxis\"},{\"attributes\":{\"line_color\":\"#29788E\",\"line_width\":4,\"x\":{\"field\":\"x\"},\"y\":{\"field\":\"y\"}},\"id\":\"ca16e6a3-f731-465e-bf68-3c8570f7326d\",\"type\":\"Line\"},{\"attributes\":{\"items\":[{\"id\":\"573aa8d1-913d-4fd5-9b0e-25fd184c152d\",\"type\":\"LegendItem\"},{\"id\":\"b4aa29ad-f308-4357-b8e1-6870ae431caa\",\"type\":\"LegendItem\"}],\"plot\":{\"id\":\"f823512b-cccf-4247-9981-7598b3514da5\",\"subtype\":\"Figure\",\"type\":\"Plot\"}},\"id\":\"8a0de992-10d2-48a0-b11f-e0728dab0569\",\"type\":\"Legend\"},{\"attributes\":{\"line_alpha\":0.1,\"line_color\":\"#1f77b4\",\"line_width\":4,\"x\":{\"field\":\"x\"},\"y\":{\"field\":\"y\"}},\"id\":\"a915f174-580f-401b-89b6-c53b98a39595\",\"type\":\"Line\"},{\"attributes\":{\"active_drag\":\"auto\",\"active_inspect\":\"auto\",\"active_scroll\":\"auto\",\"active_tap\":\"auto\",\"tools\":[{\"id\":\"f4703f54-e5f4-4aa2-9137-feebfc9aa09e\",\"type\":\"HoverTool\"},{\"id\":\"54151620-3d30-4d55-bc1d-dec51b0bfdce\",\"type\":\"SaveTool\"},{\"id\":\"1cd1993f-d7b9-4226-a7f2-840e9aa6904e\",\"type\":\"ResetTool\"},{\"id\":\"a97f0efd-34a1-406c-bf25-2ea9dc12cef7\",\"type\":\"WheelZoomTool\"},{\"id\":\"be82d9df-6f0b-4525-867b-62421a018476\",\"type\":\"PanTool\"}]},\"id\":\"f23de5e5-30c9-4d69-b33f-2b48bda348bb\",\"type\":\"Toolbar\"},{\"attributes\":{},\"id\":\"b6bb7745-197a-4360-8a22-660561b550c6\",\"type\":\"BasicTickFormatter\"},{\"attributes\":{\"callback\":null,\"column_names\":[\"width\",\"x\",\"y\",\"function\",\"color\",\"key\"],\"data\":{\"color\":[\"#440154\",\"#440154\",\"#440154\",\"#440154\",\"#440154\",\"#440154\",\"#440154\",\"#440154\",\"#440154\",\"#440154\",\"#440154\",\"#440154\",\"#440154\",\"#440154\",\"#440154\",\"#440154\",\"#440154\",\"#440154\",\"#440154\",\"#440154\",\"#440154\",\"#440154\",\"#440154\",\"#440154\",\"#440154\",\"#440154\",\"#440154\",\"#440154\",\"#440154\",\"#440154\",\"#440154\",\"#440154\",\"#440154\",\"#440154\",\"#440154\",\"#440154\",\"#440154\",\"#440154\",\"#440154\",\"#440154\",\"#440154\",\"#440154\",\"#440154\",\"#440154\",\"#440154\",\"#440154\",\"#440154\",\"#440154\",\"#440154\",\"#440154\",\"#440154\",\"#440154\",\"#440154\",\"#440154\",\"#440154\",\"#440154\",\"#440154\",\"#440154\",\"#440154\",\"#440154\",\"#440154\",\"#440154\",\"#440154\",\"#440154\",\"#440154\",\"#440154\",\"#440154\",\"#440154\",\"#440154\",\"#440154\",\"#440154\",\"#440154\",\"#440154\",\"#440154\",\"#440154\",\"#440154\",\"#440154\",\"#440154\",\"#440154\",\"#440154\",\"#440154\",\"#440154\",\"#440154\",\"#440154\",\"#440154\",\"#440154\",\"#440154\",\"#440154\",\"#440154\",\"#440154\",\"#440154\",\"#440154\",\"#440154\",\"#440154\",\"#440154\",\"#440154\",\"#440154\",\"#440154\",\"#440154\",\"#440154\",\"#208F8C\"],\"function\":[\"module2regulome(...)\",\"module2regulome(...)\",\"module2regulome(...)\",\"module2regulome(...)\",\"module2regulome(...)\",\"module2regulome(...)\",\"module2regulome(...)\",\"module2regulome(...)\",\"module2regulome(...)\",\"module2regulome(...)\",\"module2regulome(...)\",\"module2regulome(...)\",\"module2regulome(...)\",\"module2regulome(...)\",\"module2regulome(...)\",\"module2regulome(...)\",\"module2regulome(...)\",\"module2regulome(...)\",\"module2regulome(...)\",\"module2regulome(...)\",\"module2regulome(...)\",\"module2regulome(...)\",\"module2regulome(...)\",\"module2regulome(...)\",\"module2regulome(...)\",\"module2regulome(...)\",\"module2regulome(...)\",\"module2regulome(...)\",\"module2regulome(...)\",\"module2regulome(...)\",\"module2regulome(...)\",\"module2regulome(...)\",\"module2regulome(...)\",\"module2regulome(...)\",\"module2regulome(...)\",\"module2regulome(...)\",\"module2regulome(...)\",\"module2regulome(...)\",\"module2regulome(...)\",\"module2regulome(...)\",\"module2regulome(...)\",\"module2regulome(...)\",\"module2regulome(...)\",\"module2regulome(...)\",\"module2regulome(...)\",\"module2regulome(...)\",\"module2regulome(...)\",\"module2regulome(...)\",\"module2regulome(...)\",\"module2regulome(...)\",\"module2regulome(...)\",\"module2regulome(...)\",\"module2regulome(...)\",\"module2regulome(...)\",\"module2regulome(...)\",\"module2regulome(...)\",\"module2regulome(...)\",\"module2regulome(...)\",\"module2regulome(...)\",\"module2regulome(...)\",\"module2regulome(...)\",\"module2regulome(...)\",\"module2regulome(...)\",\"module2regulome(...)\",\"module2regulome(...)\",\"module2regulome(...)\",\"module2regulome(...)\",\"module2regulome(...)\",\"module2regulome(...)\",\"module2regulome(...)\",\"module2regulome(...)\",\"module2regulome(...)\",\"module2regulome(...)\",\"module2regulome(...)\",\"module2regulome(...)\",\"module2regulome(...)\",\"module2regulome(...)\",\"module2regulome(...)\",\"module2regulome(...)\",\"module2regulome(...)\",\"module2regulome(...)\",\"module2regulome(...)\",\"module2regulome(...)\",\"module2regulome(...)\",\"module2regulome(...)\",\"module2regulome(...)\",\"module2regulome(...)\",\"module2regulome(...)\",\"module2regulome(...)\",\"module2regulome(...)\",\"module2regulome(...)\",\"module2regulome(...)\",\"module2regulome(...)\",\"module2regulome(...)\",\"module2regulome(...)\",\"module2regulome(...)\",\"module2regulome(...)\",\"module2regulome(...)\",\"module2regulome(...)\",\"module2regulome(...)\",\"list([_, _, _, ...])\"],\"key\":[\"module2regulome-06197da0-eb2f-4f58-aef9-0e49a1824929\",\"module2regulome-0832837d-9eec-47b3-997e-388e54b43e6f\",\"module2regulome-089af5a8-1635-4dfa-8e4f-d212c4f6905b\",\"module2regulome-0c1758b4-a8a2-47d8-8552-43050fd15e7a\",\"module2regulome-0da56d69-e767-4cfd-8c1e-e446a6ce7389\",\"module2regulome-146389cf-b205-4066-9070-978556137e61\",\"module2regulome-174d7599-be9c-43ac-9900-d6de11b6ba7e\",\"module2regulome-17ea6f29-5573-40ec-8ef5-3ba0aab936ac\",\"module2regulome-1a96bd49-6825-4edd-b876-82f91d0e06a4\",\"module2regulome-24add88c-deb0-4371-85b5-e849d06cc2de\",\"module2regulome-25fd8114-b07f-45a2-9679-affdb1982447\",\"module2regulome-261b1eaa-946b-44fb-96db-49b41a6c60e4\",\"module2regulome-264e53ec-96d9-4017-9fb9-73f1515364cf\",\"module2regulome-2ac70c94-1f8b-46de-99c8-b078207d85fa\",\"module2regulome-2baacdb8-525f-4139-a96d-2ab129dc7c1e\",\"module2regulome-2e93a993-0ee5-43ad-be9d-18c0915d9843\",\"module2regulome-2f069dd7-7805-42c1-a0de-9507b2675026\",\"module2regulome-3087e5f4-7b6e-48b6-9d3a-f48c6c3d3ee2\",\"module2regulome-30b54b57-fb16-4eb1-a271-e46d3def34fc\",\"module2regulome-31aa6557-d080-45af-b2d9-0d78dc37110f\",\"module2regulome-37e208fe-bd05-4044-aa6f-aae57c1b8fb0\",\"module2regulome-37faba2f-22bd-4051-9c7a-b642839240b7\",\"module2regulome-3ce8bc3b-72a8-421e-8f45-74e5181f449f\",\"module2regulome-3e5a8dd1-ba25-4a48-90c1-4b46cb523c47\",\"module2regulome-41a5d0d3-7c11-475e-b434-7098cb1b67f5\",\"module2regulome-4e89e71e-44f0-460c-8c85-e82ace7e33b6\",\"module2regulome-510dca4e-e634-4592-8a04-af488c863181\",\"module2regulome-526e6d2e-9442-4b5d-a149-0e7b15553a61\",\"module2regulome-53e2f062-bf0c-489e-a188-e413765c9970\",\"module2regulome-5670aff0-1558-48ec-8aa2-d04237a24990\",\"module2regulome-58507306-f73b-40a0-82b6-5c6d6eeb8c16\",\"module2regulome-59829175-40a8-4797-8339-80dabc217ecb\",\"module2regulome-5fb27fea-5504-401f-a594-e9ef9345d08d\",\"module2regulome-617daee4-d4cb-439c-8af9-1980446b1833\",\"module2regulome-62ec8f96-5d99-4699-b24f-470d3acee88b\",\"module2regulome-6d46ee3a-456e-4e42-93f3-79a9ff6739e0\",\"module2regulome-6e0b4a82-be50-4807-8882-a7e71748bda3\",\"module2regulome-747168c8-a8fe-4060-8a20-a3fbcf4e29a6\",\"module2regulome-76449337-9295-4bb2-90eb-0bb788059f91\",\"module2regulome-78344bdd-d95b-45b0-9ab0-4a5e30c7df32\",\"module2regulome-7937c9f9-3701-4901-80dc-1a2331d59e62\",\"module2regulome-7f09a467-1360-469b-b224-5878923bf282\",\"module2regulome-803478b9-9d88-48dc-9a0d-7e245cc2de21\",\"module2regulome-81c4c2c6-5fcd-40ac-89d2-6cfdc5c55a28\",\"module2regulome-87f1ced6-8588-4483-be2e-f8ce367d48aa\",\"module2regulome-8a1db154-1d38-4f97-98f1-96473c891721\",\"module2regulome-8b1c7541-6f82-4c5c-a824-6da10a1b2734\",\"module2regulome-8c3ee674-744d-4a89-a9d8-c297b60f3b98\",\"module2regulome-8df234ff-aaad-472a-bdc7-5573d9e3b3f9\",\"module2regulome-8e2b7249-d955-4a74-a39e-5fa098b01238\",\"module2regulome-8f50c7b7-12e1-411f-a79c-2165b89fd88e\",\"module2regulome-8fd84e9a-75f2-40a1-bc43-da68d9a24ca9\",\"module2regulome-9766c6fe-085a-4376-8523-7233791bc27f\",\"module2regulome-9ac10b59-91d3-4ccb-b70a-64bb736139df\",\"module2regulome-9b7a99b9-22d7-4935-a9ed-911cca6891e4\",\"module2regulome-9c7de4b2-3890-49dc-9f4c-c69ee16d003a\",\"module2regulome-9e511308-2450-42eb-b6f8-790297b3f7a4\",\"module2regulome-a0c1a360-bc92-41f8-845c-3f793e7c87c2\",\"module2regulome-a4e60d4b-b438-4bfd-8225-2219fbb86191\",\"module2regulome-a7503aed-4426-4241-aaa5-e14a8322250c\",\"module2regulome-a9684def-9b0e-4748-9e7e-51e5abc92292\",\"module2regulome-aa300155-f39e-4ca8-bd71-7b9284d8a74d\",\"module2regulome-ab202cbf-889d-46ee-a879-8fb5fcbb625a\",\"module2regulome-af051e3d-96df-4e5d-98c4-acafc3253a0a\",\"module2regulome-b02cb617-cf7d-430e-99c7-7f1518ea9924\",\"module2regulome-b06affea-72da-4521-b039-0e904a8c4227\",\"module2regulome-b08dd043-c4bb-4f9d-bcab-fc0b63f0a62f\",\"module2regulome-b692819f-03c2-4aeb-9424-2a0455751e02\",\"module2regulome-b9af0b48-23ca-428b-96aa-474111bda3c0\",\"module2regulome-bac9c290-d287-4000-aa85-21ecb5da7fb8\",\"module2regulome-be51a688-4f5c-4901-9692-8f8b1d8b9c60\",\"module2regulome-beb6fa24-3d71-4361-b10f-d51690c48c6f\",\"module2regulome-c1c336cd-04fd-42d1-8aac-c47732f8084d\",\"module2regulome-c261c650-19ab-457a-b682-141a6927cfb0\",\"module2regulome-c6ae177b-4901-471d-a664-88e3b4f974cf\",\"module2regulome-cafd463d-9323-4e7c-8df7-94a05ac50765\",\"module2regulome-ce0a9b1a-79fa-4112-8801-a68205a2fc05\",\"module2regulome-d2083414-5b33-409a-8076-02d5555da174\",\"module2regulome-d8a48c5e-0e4f-43b4-b2b3-0107bd525908\",\"module2regulome-da41cc02-1aec-456d-a554-1876044e5b3e\",\"module2regulome-de1a4b32-2b02-44e7-b698-8057aa890003\",\"module2regulome-df229bf8-0092-486d-a610-2cda9acb8231\",\"module2regulome-df68c042-099e-473d-81eb-9ed55275333d\",\"module2regulome-dfaeff4a-dc21-4fea-aa19-0ff879a32c19\",\"module2regulome-e05740a1-5b04-493b-a2c5-41549012e4a2\",\"module2regulome-e15746b5-ec78-4596-b72e-8dfddd9f76b7\",\"module2regulome-ead579fa-b012-49fa-aca2-f19870eb56f7\",\"module2regulome-ee6f4e3b-9a8c-4f12-97e7-8548c1369459\",\"module2regulome-ee8ac9fd-0b9e-40ce-a92a-8db9e07eae46\",\"module2regulome-ee9a32cf-fb2f-4a02-81e3-03fa5e497c0f\",\"module2regulome-f3456ae9-9419-4fa1-a6d9-5af58130bf3b\",\"module2regulome-f4ac8c17-a4a0-4f33-a415-e1daf28602a4\",\"module2regulome-f5233627-2712-499b-a162-8f6c01fbf7f0\",\"module2regulome-f5d07d74-9484-4059-b27b-a0b843f47322\",\"module2regulome-f7314e44-680d-4e5d-a634-a23fe8afd529\",\"module2regulome-f824bb31-01ae-463c-aa5c-3b9bc20b421a\",\"module2regulome-f8309a4e-ad86-441f-81de-e81a22118a4a\",\"module2regulome-fb3bb331-a018-400a-9050-807d83e24055\",\"module2regulome-fc4de197-4e3a-478f-a4d5-4e3d1d734a2f\",\"module2regulome-fd61a521-507b-477b-9644-d22f8b419e25\",\"list_of_filter-f18f35aa-be37-4561-af28-7a0994ffb002\"],\"width\":[8.82369527100036,12.16647948299942,6.088401601000442,8.539466993000133,11.926433888000247,5.4745411720004995,6.455338511999798,7.523267839999789,8.279511091000131,8.275133129000096,9.16269671900045,7.124928704000013,11.636100032000286,7.482578559000103,13.698504961999788,6.896268138999403,10.306058748000396,7.998536073999276,11.295176057999925,12.889891031000843,10.128012376000697,11.020114392000323,12.396979752999869,9.22634287800065,13.76870462900024,14.92165674700027,8.427439744999901,8.245516908999889,11.981450508000307,8.188204614000824,12.69644347799931,10.158265956999458,7.240358043000015,10.098427152000113,7.8789487450003435,9.52822197200021,7.145168000000012,7.811109315999602,8.868555072000163,6.595371788000193,10.852961503000188,11.28609813300045,5.917063550999956,10.976611326000238,5.7760056349998194,12.09699788800026,12.909768690999954,13.686866023999755,7.319204583000101,14.222687393999877,17.043311929999618,14.232507405999968,8.383645925000565,9.760415679000289,13.655165365000357,13.039215625999532,8.689214238999739,11.694569321000017,8.897047854000448,11.374952333999317,11.621563616000458,11.892341063000458,26.295877153999754,19.54799374599952,15.37501215500015,20.259300659000473,23.9844734039998,24.631324842999675,24.5260045670002,19.631686327999887,17.288539096000022,15.799988449999546,14.15528885599997,14.997784643999694,10.651485454000067,13.45165351200012,16.875375293000616,12.393913942999461,12.361056069999904,14.80479893699976,12.275552717999744,14.994621302000269,11.666157839000334,13.396830694000528,9.696227565999834,10.911747801999809,12.898723828000584,9.63743617900036,12.464661517999957,14.961810005999723,12.022596605000217,13.641386508000323,13.162672715999179,11.863172635999945,10.446856788999867,8.658982165999987,11.876996889999646,6.139188213000125,8.953247596000438,4.985977856000318,0.26450154300073336],\"x\":[4.411847635500635,6.9778233565002665,4.722785361500428,6.64493699850118,9.185397786000067,7.12414538900066,8.688696568000523,10.301223551000476,11.90677947650056,12.961279486500644,14.442776787500406,14.477144884001063,17.734428191000006,16.802366631500263,20.912123226000404,18.596760148499925,21.19957692099979,21.098129257000437,23.687212474000262,25.469088831500812,25.607680308000454,27.55497092600035,29.75098485950093,29.710586332000275,33.236974355500024,35.222219052499895,33.54853861349966,34.794459034500505,37.90477442700012,37.15914518699992,40.672002940999846,41.02862387250025,41.38245238650052,43.966443280999556,44.06081904450093,46.017375485999764,46.25565187099983,47.80107671499991,49.4369223370004,49.40545774800012,52.44671708450005,53.64335532250061,51.974200968500554,55.316556533999574,53.66950155750055,57.75514241400015,59.15804307450071,60.714643811000315,58.592348621500605,63.66886841500036,66.39486996800042,66.40267685500021,64.99670893450002,67.13218254550065,70.63124708850046,72.13255700399986,71.90270098150086,75.03583685850026,75.22875116799969,77.69988424100029,79.32972801699998,80.86271906549973,89.39526469200064,87.23284764599975,86.33968574350001,89.8069413154999,92.87537298000007,95.70303836750008,97.40352729050028,96.62475388000075,102.67149266600063,104.90686418099995,107.01426957900003,110.04211825600032,110.19337539500066,113.16644429600001,116.45641217350021,115.8635149544998,117.49630681200051,120.20927533449958,120.22971254500044,123.0164585600005,123.3741155305006,126.59071636800036,126.90860616100053,129.13272776800022,131.34347837400037,131.18623346250024,133.84403765700063,136.6881248970003,136.52508377650065,138.57743327700064,139.87048943399986,140.5202161920006,141.22841080050057,142.12235992800015,146.01489273800053,145.60600654249993,148.64567116800026,147.89113258500038,153.2545623445003],\"y\":[3,1,7,4,2,8,6,5,7,3,8,4,6,1,5,2,7,3,4,8,1,2,6,3,7,5,4,1,8,2,3,6,4,1,7,2,5,8,4,6,3,7,1,5,2,8,6,4,1,2,3,7,5,1,8,6,4,5,2,1,7,3,4,8,6,2,5,1,7,3,6,8,2,4,5,3,1,7,6,8,2,5,4,3,7,6,1,2,8,4,5,7,3,6,2,1,8,5,4,7,6]}},\"id\":\"e55af99d-7235-48dd-8556-949ac15dbb60\",\"type\":\"ColumnDataSource\"},{\"attributes\":{},\"id\":\"eea5b22e-8a15-4be8-941d-dc9aee142f2e\",\"type\":\"BasicTickFormatter\"},{\"attributes\":{\"plot\":null,\"text\":\"Profile Results\"},\"id\":\"9a42b2f1-ff9b-401c-bc48-8d5f4d3a0a40\",\"type\":\"Title\"},{\"attributes\":{\"source\":{\"id\":\"9baa74da-132f-406e-a8c2-681952fcfa9e\",\"type\":\"ColumnDataSource\"}},\"id\":\"42eefc32-2329-4e44-805c-aeb970bc2cf7\",\"type\":\"CDSView\"},{\"attributes\":{\"callback\":null,\"end\":153.38681311600067},\"id\":\"a9347f11-ed52-4f9f-8f8c-c7fe0a0a3a0e\",\"type\":\"Range1d\"},{\"attributes\":{\"data_source\":{\"id\":\"9baa74da-132f-406e-a8c2-681952fcfa9e\",\"type\":\"ColumnDataSource\"},\"glyph\":{\"id\":\"a007697c-6c05-4ac2-b56a-27fe0d654442\",\"type\":\"Line\"},\"hover_glyph\":null,\"muted_glyph\":null,\"nonselection_glyph\":{\"id\":\"711a8be0-ac64-480b-8058-704728d718e2\",\"type\":\"Line\"},\"selection_glyph\":null,\"view\":{\"id\":\"42eefc32-2329-4e44-805c-aeb970bc2cf7\",\"type\":\"CDSView\"}},\"id\":\"e12722e0-587b-491b-a09e-3765beed2cb1\",\"type\":\"GlyphRenderer\"},{\"attributes\":{\"axis_label\":null,\"axis_line_color\":{\"value\":null},\"formatter\":{\"id\":\"0b36dc60-4aa9-496d-87a8-7882a0070669\",\"type\":\"BasicTickFormatter\"},\"major_tick_line_color\":{\"value\":null},\"plot\":{\"id\":\"b7619e93-cb14-47e4-99bd-b58bc1ab8bbe\",\"subtype\":\"Figure\",\"type\":\"Plot\"},\"ticker\":{\"id\":\"06f68ef9-573b-4bb6-b868-08edc1699892\",\"type\":\"BasicTicker\"}},\"id\":\"aa7efd2e-3806-49aa-9b85-4f5d8338d10c\",\"type\":\"LinearAxis\"},{\"attributes\":{\"line_alpha\":0.1,\"line_color\":\"#1f77b4\",\"line_width\":4,\"x\":{\"field\":\"x\"},\"y\":{\"field\":\"y\"}},\"id\":\"711a8be0-ac64-480b-8058-704728d718e2\",\"type\":\"Line\"},{\"attributes\":{},\"id\":\"befb682b-e37e-4e57-bea8-5dc8fc8ce5f4\",\"type\":\"LinearScale\"},{\"attributes\":{\"line_color\":\"#440154\",\"line_width\":4,\"x\":{\"field\":\"x\"},\"y\":{\"field\":\"y\"}},\"id\":\"a007697c-6c05-4ac2-b56a-27fe0d654442\",\"type\":\"Line\"},{\"attributes\":{\"callback\":null,\"column_names\":[\"x\",\"y\"],\"data\":{\"x\":[0.0,0.2516561760003242,0.502348856000026,0.7538353910003934,1.0044610210006795,1.2561011970001346,1.5065329690005456,1.7612257670007239,2.0127974610004458,2.2636254000008194,2.5144701390008777,2.7651774970008773,3.0158992610004134,3.2665597020004498,3.5174577780007894,3.7680404340007954,4.018770614999994,4.26958312700026,4.5204129790008665,4.771294043000125,5.022468676000244,5.273447657000361,5.524403339000855,5.775966106000851,6.027623872000731,6.279032010000265,6.530207961000087,6.781349008000689,7.032741268000791,7.28359668900066,7.5349797180006135,7.7863352560007115,8.037380063000455,8.288895089000107,8.54093389800073,8.792257395000888,9.04431670700069,9.296690858000147,9.548570706000646,9.800468820000788,10.052341057000376,10.303123210000194,10.553853455000535,10.805645707000622,11.057909185000426,11.30964362800023,11.561095671000658,11.812666710000485,12.064438416000485,12.315787808000096,12.567715081000642,12.818945792000704,13.070642982000209,13.32187242100008,13.573053869000432,13.82475889700072,14.076293517000522,14.327708157000416,14.579233040000872,14.831040198000665,15.082660197000223,15.334558941000068,15.586621683000885,15.838674498000728,16.090240408000682,16.341562698000416,16.59343233600066,16.844762492000882,17.096176516000014,17.347641269000633,17.59984311000062,17.851745749000656,18.103294359000756,18.354990260000704,18.605757557000288,18.85771332600052,19.108480220000274,19.35961856100039,19.61213871900054,19.864352587000212,20.115102750000005,20.366021461000855,20.61718120200021,20.868812615000024,21.1195208070003,21.37152896200041,21.622585207000157,21.87431001800087,22.125808123000752,22.378244603000894,22.629554278000796,22.880905974000598,23.132420614000694,23.38548300400089,23.636837715000183,23.88839455500056,24.141984521000268,24.39286330499999,24.644404554000175,24.896024177000072,25.14769612500004,25.399523132000468,25.652994199000204,25.906044018000102,26.157769806000033,26.40927648900015,26.661417163000806,26.913477355000396,27.16581713300002,27.417210012000396,27.66927983000005,27.921142520000103,28.172521581000183,28.424280099000498,28.67549194900039,28.92761988300026,29.17965753000044,29.432005387000572,29.68414877000032,29.936348719000307,30.187812890000714,30.43935946900001,30.691283476000535,30.942793842000356,31.19404404300076,31.445901495000726,31.697904376000224,31.950302750000446,32.20181114800016,32.45406807800009,32.70530998900085,32.958062135000546,33.20922939600041,33.46111548800036,33.71320881400061,33.9649995030004,34.21707192200029,34.468936976000805,34.72095090300081,34.97333390200038,35.22549888700087,35.47759444000076,35.72932722400037,35.982367252000586,36.23442112400062,36.48542969200025,36.73745772800066,36.988839955,37.24064293200081,37.492719431000296,37.744788698000775,37.996253277000505,38.247705633000805,38.49891242100057,38.75070047000008,39.0024503500008,39.25430870400032,39.50616935900052,39.756965449000745,40.009194108000884,40.2603559070003,40.511809388000074,40.763405514000624,41.014412081000046,41.26576164400012,41.51690040300036,41.768039289000626,42.02030810400083,42.27156719800041,42.523499580000134,42.7744635450008,43.02620934600054,43.27802700800021,43.53009226500035,43.78095144300005,44.03194818100019,44.28376514200045,44.53513229100008,44.78699441000026,45.03810613600035,45.290223357000286,45.541998281000815,45.794216107000466,46.04661726100039,46.2977157560008,46.54895731400029,46.80003596500046,47.051976816000206,47.30384326800049,47.55617204400005,47.80795001000024,48.05884733900075,48.31083614400086,48.562256920000436,48.81422658500014,49.06526580700029,49.31634425300035,49.568090278000454,49.819863944000645,50.07175660200028,50.324141240000245,50.57591531000071,50.82676973100024,51.078416755000035,51.32930736200069,51.58117614600087,51.83300621900071,52.08433545000025,52.335414993000086,52.58638780600086,52.83737994800049,53.0883420400005,53.33946276300048,53.59137088600073,53.84253785200053,54.094219399000394,54.34591828400062,54.59706437500063,54.84807290800018,55.09954313800063,55.35088983500009,55.60252294700058,55.854200177000166,56.10530885600019,56.35683496500042,56.607896133000395,56.858869294000215,57.109515396999996,57.360784164000506,57.611808740000015,57.86480665200088,58.11833698800001,58.36944827900061,58.620817244000136,58.871780538000166,59.123326330000054,59.374293487000614,59.62538299900007,59.877228982000815,60.1283132260005,60.38011800000004,60.63167334500031,60.8836621140008,61.13568321500043,61.38775962600084,61.63973661700038,61.89142628500031,62.142371594,62.393915560000096,62.64598711100007,62.89780666600018,63.150209676000486,63.40149994500007,63.6544713330004,63.90655083300044,64.15809455400085,64.40989877200082,64.66094321700075,64.9133442100001,65.16629687300065,65.41836156100089,65.67113118400084,65.9230967400008,66.17579873700015,66.42885922500045,66.68073453300076,66.93287360500017,67.18510394000077,67.44025462800073,67.69309153100039,67.94505414300056,68.1980513260005,68.45080610700006,68.70292113900086,68.95379422000042,69.20484902000044,69.4564055410001,69.70837412700075,69.96016314700046,70.21299097600058,70.46580285800064,70.71766119600034,70.96925202500006,71.22132161200079,71.4735318360008,71.72609846100022,71.97826694500054,72.23000413000045,72.48140543200043,72.73254499500035,72.98440975500034,73.23583990100087,73.48827167800027,73.74012069400032,73.99184285400042,74.24460408900086,74.49667715900068,74.74811282300016,74.99990623400026,75.25199888800034,75.50335450200055,75.75524635400052,76.00667613600035,76.25851772900023,76.51003350800056,76.76216629600003,77.01432730500073,77.26648241300063,77.51843010100038,77.76956273600081,78.02154565900037,78.27253231500072,78.52429034500074,78.77634204100013,79.02821523300008,79.27969907600072,79.53097813500062,79.78192251200016,80.03315826900052,80.28483140900062,80.53604806700059,80.78813511000044,81.04045499400036,81.29278511600023,81.54475024300064,81.79694998700052,82.04914989600002,82.3002801950006,82.55228448300022,82.80341176000002,83.0555858760008,83.3093769090001,83.563163627,83.81689613800063,84.07224314500036,84.32433012100046,84.57843713500006,84.83013649000077,85.08194515600007,85.33363630800068,85.58568059000027,85.8371591210007,86.08997699400061,86.34305651900013,86.59530050000012,86.84740401600084,87.09923637000065,87.35070005600028,87.60282096500032,87.85502848800024,88.10742655600006,88.35925903300085,88.61055961000056,88.86255425000036,89.11510054200062,89.36761755000043,89.61997346600037,89.873246612,90.12596564200066,90.37853793500017,90.6314919890001,90.88527154700023,91.13683666500037,91.38949246300035,91.64152620300047,91.8937129520009,92.14601867100009,92.39775996200024,92.64924056400014,92.90071857600014,93.15195175700046,93.40372507900065,93.65556369300066,93.90742752200003,94.15969356400001,94.41125653000017,94.66372089300057,94.91558192600041,95.16788690300018,95.41943415200058,95.67101477200049,95.9223242550006,96.17338472200026,96.42466390900063,96.67604955800016,96.92838083700008,97.17990462000034,97.43120266200003,97.68235928600006,97.9337501760001,98.18564304200027,98.43708402300035,98.68831962000058,98.93978899800004,99.19198170300024,99.44498361100068,99.69720780400075,99.94933932600088,100.2015553780002,100.4541486070002,100.70645841300029,100.95918862900089,101.21073231700029,101.46332446300039,101.71546172300077,101.96739532000083,102.21992134300035,102.47234087200013,102.72389902000032,102.97588978000022,103.22785971200028,103.47943415400005,103.73145903100067,103.98289149100037,104.23440331500024,104.48646765800004,104.73980700200082,104.99212233000071,105.24425799800065,105.4960803110007,105.74858673100061,106.0008341290004,106.25219431400001,106.50395572300022,106.75672951400065,107.00807787200029,107.25943317100064,107.51172227300049,107.76322513500054,108.01460329300062,108.26614107600017,108.51751518400033,108.7688425160004,109.0197806240003,109.27121838700077,109.52237554700059,109.7745974820009,110.02684145100011,110.27797427000041,110.5302729970008,110.78270348200022,111.03424956800063,111.28614527100035,111.53830560900042,111.78953948300023,112.04077190600037,112.29284499700043,112.54414022000037,112.79625035900062,113.04742705800072,113.29980391300069,113.55195404000006,113.80396115000076,114.0550345950005,114.30701127000066,114.5583723210002,114.81009913400067,115.06121698100014,115.31302539400076,115.56500559000051,115.81613161500081,116.06786254100007,116.31912725200073,116.57226621900008,116.82479088400032,117.07625858500069,117.32815963700068,117.58008557300036,117.83263050500045,118.08493437500056,118.33653274600056,118.58835680600077,118.84085878300084,119.09238200500022,119.34522373100026,119.59804805300064,119.85050413300087,120.1021653150001,120.35293206900042,120.60513807400002,120.85686877900025,121.10955185700004,121.36134972400032,121.61288358300044,121.86448010100048,122.11713000600048,122.37287130300047,122.62507339000058,122.87765857400063,123.12988364800003,123.382113269,123.6344762610006,123.88617499400061,124.13796952800021,124.38958052700036,124.6409659410001,124.89340607600025,125.14586599700033,125.3982848960004,125.65048478800054,125.9025971480005,126.15494436300014,126.40706005100037,126.65856982600053,126.91077221600062,127.1621672250003,127.41444065500036,127.66667317200063,127.919062768,128.17103026900077,128.4230205870008,128.67378921900035,128.9253961000004,129.17716777400074,129.42835583300075,129.68061698300062,129.9318813760001,130.18422135100082,130.4362955510005,130.68775893300062,130.9399020840001,131.191437683,131.4432643480004,131.69508823100023,131.947058148,132.19838718100073,132.45065308800076,132.7019730710008,132.9539928460008,133.20611457200084,133.45821003700075,133.71032254700003,133.96237334600028,134.21450559300047,134.4666527700001,134.71803330700004,134.96884786200008,135.2208527770008,135.472523894,135.72466180100037,135.97709416900034,136.22922877600013,136.48170758200013,136.73377854400042,136.98584292000032,137.23802584500027,137.49023504400066,137.7421208400001,137.99437743700037,138.2464270320006,138.50004460500077,138.75360364300013,139.00616945000002,139.25852282100004,139.51104731600026,139.76309610300086,140.01580600000034,140.2678858900008,140.5190680500009,140.7707267730002,141.02251916000023,141.2744097450004,141.52688824100005,141.77898304500013,142.03141228100048,142.28382886100007,142.5369258970004,142.7893517320008,143.0416026870007,143.29473702000087,143.54670187900047,143.7992384930003,144.0514921490003,144.3039880990009,144.55629664000026,144.80875080700025,145.060751256,145.3128887160001,145.5651074360003,145.8164633590004,146.06784887600043,146.32004029100062,146.57112279000012,146.8221292750004,147.07463510400066,147.3266012640006,147.57854633700026,147.83047827200062,148.08213191600044,148.33343996400072,148.5857996070008,148.8382424570009,149.09010948700052,149.34192575000088,149.59336400100074,149.844705083,150.0966037950002,150.3486873260008,150.60083924800074,150.85288275900075,151.10516327200003,151.3563934470003,151.6082465920008,151.86001809000027,152.111878445,152.3627645050001,152.61435768900083,152.86606179900082,153.1177426940003,153.36945248100074,153.6212011000007,153.87301731200023,154.12377497300076,154.3755145390005,154.62672011800078,154.8782766840004],\"y\":[461.328384,492.535808,538.845184,550.281216,558.841856,571.57632,525.963264,571.691008,591.527936,597.03296,615.563264,729.088,821.600256,915.611648,1085.00992,1233.83808,1372.71296,1647.505408,1691.09504,2118.8608,2774.749184,3446.337536,3764.61312,3740.16,3616.817152,3886.32576,4793.901056,5643.567104,6121.45152,5961.777152,6181.617664,6479.233024,6403.411968,6828.199936,6304.333824,6412.132352,6840.315904,6655.930368,6261.78048,6458.269696,6167.445504,6499.2256,6717.976576,7248.683008,5640.593408,5571.997696,4963.446784,5195.702272,5308.49792,5506.363392,5556.736,5556.002816,4348.022784,4583.313408,4346.703872,4540.956672,4756.996096,5003.681792,5241.143296,5221.82656,4971.962368,5305.151488,5659.901952,5021.548544,4751.29856,5084.745728,5429.854208,4972.179456,4765.401088,5384.646656,6174.048256,6631.292928,6777.647104,6179.926016,5938.192384,6280.728576,6190.252032,5604.057088,5748.092928,6180.655104,6720.32768,7067.500544,7386.537984,7434.543104,7729.713152,7766.306816,7389.765632,7666.778112,6642.569216,6842.167296,6329.597952,6426.17344,6496.555008,6551.547904,6705.156096,6972.051456,6897.463296,6652.166144,7018.471424,7226.40896,7391.199232,7685.115904,7323.815936,5419.84768,5357.744128,5783.228416,5790.43328,6053.384192,5645.471744,5732.9664,5166.628864,4800.884736,5036.797952,5100.773376,5240.037376,5573.81632,6136.037376,6468.153344,5537.275904,4914.782208,4835.557376,5110.8864,5304.918016,5539.336192,5633.744896,5754.220544,5936.61952,6257.307648,6033.846272,5261.344768,5289.49248,4935.96672,5381.718016,5984.608256,5739.057152,5322.952704,5322.1376,5720.686592,6212.93568,6630.0928,6919.753728,7071.940608,7226.14272,7522.127872,7621.382144,7680.462848,7916.97408,8048.304128,7474.25792,7727.050752,7773.458432,7908.225024,8168.50944,8097.923072,8265.568256,8212.3776,7752.92928,6853.517312,6322.151424,6327.668736,6529.421312,6467.137536,6759.91552,5304.795136,4641.501184,5016.715264,5676.232704,5624.049664,5174.992896,5222.432768,5265.678336,5421.2608,5537.189888,5656.539136,5759.123456,5863.1168,5821.632512,5800.456192,5945.274368,5724.389376,5435.92448,5515.01824,5626.118144,5759.361024,4696.04352,4202.606592,3935.608832,4163.19488,4257.656832,4193.124352,4008.562688,3847.307264,4071.845888,4165.062656,4289.245184,4405.014528,4212.65408,4594.085888,4753.719296,4836.061184,4951.498752,4199.07584,4642.87744,4449.5872,4007.40352,3742.86336,3931.17696,4131.274752,4613.885952,5071.74912,5149.458432,4688.572416,5166.1824,5111.209984,5073.334272,5471.215616,6022.893568,6437.163008,6716.47744,6781.247488,7134.973952,6808.150016,6907.215872,7301.152768,7804.616704,7972.069376,8117.858304,8230.252544,8238.010368,8345.300992,8396.468224,6928.367616,7078.326272,6734.97088,6690.045952,5430.816768,5171.294208,5811.605504,6116.704256,5322.616832,5089.890304,5492.310016,5850.087424,5989.23264,6357.471232,6609.993728,6690.369536,6817.337344,6947.090432,7070.12608,7188.41856,7325.298688,7366.230016,7110.520832,7404.404736,6572.924928,5916.24192,5187.678208,4749.869056,5333.925888,4864.331776,5172.46976,4700.659712,4907.802624,4797.435904,5451.206656,5904.236544,6019.444736,6355.10784,6451.26144,6742.605824,6949.720064,7236.440064,7590.289408,7912.906752,8056.270848,8145.575936,8175.931392,7950.176256,8056.578048,8141.86496,8197.71392,8292.282368,8361.435136,7371.350016,7378.75968,6582.718464,6898.102272,6931.247104,6977.908736,7323.754496,7613.27616,8140.689408,8179.662848,8192.04096,7597.510656,6058.696704,5859.278848,6310.076416,6151.770112,5590.515712,5706.305536,5802.995712,5915.213824,6083.842048,6173.990912,5612.552192,4863.381504,5076.09088,4696.90368,4030.73024,4138.012672,4265.218048,4336.201728,4413.083648,4955.365376,4395.208704,4452.417536,4137.28768,4139.716608,4415.1808,4606.926848,4967.665664,5192.552448,5536.428032,5640.54016,5784.63744,6161.317888,6338.90816,6397.325312,6612.52096,6900.342784,7070.18752,7250.419712,6460.121088,5661.343744,5396.635648,5567.983616,5719.015424,5730.168832,5902.66368,6199.066624,6492.40576,6854.381568,7156.047872,6744.457216,6701.797376,7014.711296,7191.506944,7369.326592,7459.827712,7504.289792,7820.099584,8101.543936,8300.9536,8323.7888,8391.467008,8404.668416,8436.637696,8577.847296,8727.38816,8967.991296,8934.211584,8965.75488,9082.4704,9235.070976,9347.653632,9267.351552,9201.803264,9010.241536,8954.339328,8922.390528,8910.487552,8835.366912,8578.686976,8592.601088,8462.80704,8500.273152,8580.05504,8968.204288,9105.068032,9440.964608,9194.385408,9011.396608,9021.464576,9073.864704,9242.320896,9228.238848,8922.628096,8302.596096,8640.364544,8906.170368,8880.099328,8986.095616,8409.276416,8709.513216,8963.85024,9236.037632,8871.60832,9003.134976,9155.534848,8972.283904,8488.218624,8673.492992,8986.09152,9226.555392,9442.045952,9716.785152,9690.464256,8947.830784,9005.518848,8552.558592,8544.833536,8693.32992,8983.085056,8931.651584,9083.133952,8996.204544,9157.492736,9403.502592,9343.041536,9504.067584,8904.445952,8008.491008,8038.998016,6463.234048,6784.851968,6546.14528,6889.701376,7174.905856,6623.997952,6169.677824,5922.709504,6261.90336,6270.980096,5518.778368,5863.358464,6478.430208,6621.765632,6423.404544,6694.486016,6725.210112,6795.231232,6837.346304,6947.872768,7177.613312,7511.785472,7054.942208,6155.665408,5348.900864,5624.471552,6265.294848,6770.868224,6973.329408,5941.20704,5240.68864,5581.684736,6215.282688,6615.90016,6985.674752,7378.317312,7680.704512,8129.667072,8481.333248,8486.363136,8484.450304,8790.892544,9020.403712,9388.609536,9766.486016,9961.467904,9937.436672,9858.142208,10100.056064,10331.582464,10540.486656,10784.792576,10801.758208,10792.644608,9679.691776,9721.110528,9118.015488,9380.08576,9641.3696,9736.101888,9999.68768,9414.623232,9238.114304,8846.475264,8908.787712,9302.859776,9860.780032,8278.327296,7496.704,7837.425664,8202.100736,7681.056768,6072.004608,5176.557568,5533.585408,5553.487872,5568.36864,5930.9056,6472.638464,6818.361344,6449.54112,6372.5568,5714.690048,5089.796096,5106.085888,5396.303872,5504.688128,5650.202624,6032.072704,6301.212672,6646.923264,6950.600704,6997.180416,6394.621952,6909.60384,6014.533632,5325.422592,5506.21184,5848.989696,6092.005376,5418.463232,5038.239744,5409.542144,5828.612096,5696.438272,5641.166848,6294.26176,6530.752512,6807.2448,7336.8576,6466.56,6589.382656,6573.838336,6564.663296,6935.666688,7336.206336,7606.505472,7933.382656,7959.814144,7981.993984,8318.287872,8633.049088,8993.226752,9277.698048,9326.391296,9382.883328,9681.813504,9949.26592,10051.858432,10170.92096,10288.2304,10475.569152,10633.326592,10602.397696,10762.334208,9777.422336,9071.857664,7871.954944,6510.8992,6222.483456,6255.648768,6346.887168,6417.268736,6495.543296,6580.350976,6343.376896,5856.948224,4798.394368,4654.534656,3848.200192,4132.9664,4135.268352,3954.81088,3824.72192,3827.65056,4008.7552,4363.788288,4283.940864,4512.526336,4696.395776,5262.123008,5814.64064,5918.773248,5496.438784,5734.457344,6146.957312,6091.829248,6207.197184,6377.500672,6908.755968,7609.696256,7667.081216,7384.731648,7463.612416,7544.262656,7622.967296,7702.695936,7782.715392,6752.059392,5696.319488,5996.163072,5732.6592,5752.99584,5773.582336,5793.71008,5170.188288,5190.131712,4840.98048,3756.367872,4049.805312,3098.120192]}},\"id\":\"71f071ab-8e1a-4a02-8758-a3d1bb5217b5\",\"type\":\"ColumnDataSource\"}],\"root_ids\":[\"5ddbcf14-b467-4c46-9c7e-2a29d90c5565\"]},\"title\":\"Bokeh Application\",\"version\":\"0.12.13\"}};\n",
       "  var render_items = [{\"docid\":\"53868aba-3807-4e2d-9699-a05f0026688a\",\"elementid\":\"4f92d05b-9463-44c2-9e21-4fac3ef35239\",\"modelid\":\"5ddbcf14-b467-4c46-9c7e-2a29d90c5565\"}];\n",
       "  root.Bokeh.embed.embed_items_notebook(docs_json, render_items);\n",
       "\n",
       "  }\n",
       "  if (root.Bokeh !== undefined) {\n",
       "    embed_document(root);\n",
       "  } else {\n",
       "    var attempts = 0;\n",
       "    var timer = setInterval(function(root) {\n",
       "      if (root.Bokeh !== undefined) {\n",
       "        embed_document(root);\n",
       "        clearInterval(timer);\n",
       "      }\n",
       "      attempts++;\n",
       "      if (attempts > 100) {\n",
       "        console.log(\"Bokeh: ERROR: Unable to run BokehJS code because BokehJS library is missing\")\n",
       "        clearInterval(timer);\n",
       "      }\n",
       "    }, 10, root)\n",
       "  }\n",
       "})(window);"
      ],
      "application/vnd.bokehjs_exec.v0+json": ""
     },
     "metadata": {
      "application/vnd.bokehjs_exec.v0+json": {
       "id": "5ddbcf14-b467-4c46-9c7e-2a29d90c5565"
      }
     },
     "output_type": "display_data"
    },
    {
     "data": {
      "text/html": [
       "<div style=\"display: table;\"><div style=\"display: table-row;\"><div style=\"display: table-cell;\"><b title=\"bokeh.models.layouts.Column\">Column</b>(</div><div style=\"display: table-cell;\">id&nbsp;=&nbsp;'5ddbcf14-b467-4c46-9c7e-2a29d90c5565', <span id=\"fc18e559-9d0f-4a56-b877-288fca6a8d16\" style=\"cursor: pointer;\">&hellip;)</span></div></div><div class=\"8ab4d4d2-7c0b-49ed-9c63-4b1ac491ad1b\" style=\"display: none;\"><div style=\"display: table-cell;\"></div><div style=\"display: table-cell;\">children&nbsp;=&nbsp;[ToolbarBox(id='e2a5d7e6-31a6-438e-b1c2-a113b414511f', ...), Column(id='01080fe9-cd3f-4278-9571-021d989ac45c', ...)],</div></div><div class=\"8ab4d4d2-7c0b-49ed-9c63-4b1ac491ad1b\" style=\"display: none;\"><div style=\"display: table-cell;\"></div><div style=\"display: table-cell;\">css_classes&nbsp;=&nbsp;[],</div></div><div class=\"8ab4d4d2-7c0b-49ed-9c63-4b1ac491ad1b\" style=\"display: none;\"><div style=\"display: table-cell;\"></div><div style=\"display: table-cell;\">disabled&nbsp;=&nbsp;False,</div></div><div class=\"8ab4d4d2-7c0b-49ed-9c63-4b1ac491ad1b\" style=\"display: none;\"><div style=\"display: table-cell;\"></div><div style=\"display: table-cell;\">height&nbsp;=&nbsp;None,</div></div><div class=\"8ab4d4d2-7c0b-49ed-9c63-4b1ac491ad1b\" style=\"display: none;\"><div style=\"display: table-cell;\"></div><div style=\"display: table-cell;\">js_event_callbacks&nbsp;=&nbsp;{},</div></div><div class=\"8ab4d4d2-7c0b-49ed-9c63-4b1ac491ad1b\" style=\"display: none;\"><div style=\"display: table-cell;\"></div><div style=\"display: table-cell;\">js_property_callbacks&nbsp;=&nbsp;{},</div></div><div class=\"8ab4d4d2-7c0b-49ed-9c63-4b1ac491ad1b\" style=\"display: none;\"><div style=\"display: table-cell;\"></div><div style=\"display: table-cell;\">name&nbsp;=&nbsp;None,</div></div><div class=\"8ab4d4d2-7c0b-49ed-9c63-4b1ac491ad1b\" style=\"display: none;\"><div style=\"display: table-cell;\"></div><div style=\"display: table-cell;\">sizing_mode&nbsp;=&nbsp;'fixed',</div></div><div class=\"8ab4d4d2-7c0b-49ed-9c63-4b1ac491ad1b\" style=\"display: none;\"><div style=\"display: table-cell;\"></div><div style=\"display: table-cell;\">subscribed_events&nbsp;=&nbsp;[],</div></div><div class=\"8ab4d4d2-7c0b-49ed-9c63-4b1ac491ad1b\" style=\"display: none;\"><div style=\"display: table-cell;\"></div><div style=\"display: table-cell;\">tags&nbsp;=&nbsp;[],</div></div><div class=\"8ab4d4d2-7c0b-49ed-9c63-4b1ac491ad1b\" style=\"display: none;\"><div style=\"display: table-cell;\"></div><div style=\"display: table-cell;\">width&nbsp;=&nbsp;None)</div></div></div>\n",
       "<script>\n",
       "(function() {\n",
       "  var expanded = false;\n",
       "  var ellipsis = document.getElementById(\"fc18e559-9d0f-4a56-b877-288fca6a8d16\");\n",
       "  ellipsis.addEventListener(\"click\", function() {\n",
       "    var rows = document.getElementsByClassName(\"8ab4d4d2-7c0b-49ed-9c63-4b1ac491ad1b\");\n",
       "    for (var i = 0; i < rows.length; i++) {\n",
       "      var el = rows[i];\n",
       "      el.style.display = expanded ? \"none\" : \"table-row\";\n",
       "    }\n",
       "    ellipsis.innerHTML = expanded ? \"&hellip;)\" : \"&lsaquo;&lsaquo;&lsaquo;\";\n",
       "    expanded = !expanded;\n",
       "  });\n",
       "})();\n",
       "</script>\n"
      ],
      "text/plain": [
       "Column(id='5ddbcf14-b467-4c46-9c7e-2a29d90c5565', ...)"
      ]
     },
     "execution_count": 19,
     "metadata": {},
     "output_type": "execute_result"
    }
   ],
   "source": [
    "visualize([prof, rprof, cprof])"
   ]
  },
  {
   "cell_type": "markdown",
   "metadata": {},
   "source": [
    "#### Dask with custom client\n",
    "\n",
    "BUG: The workers seem to be dying."
   ]
  },
  {
   "cell_type": "code",
   "execution_count": 26,
   "metadata": {},
   "outputs": [],
   "source": [
    "local_cluster = LocalCluster(n_workers=6, \n",
    "                             threads_per_worker=1)\n",
    "\n",
    "custom_client = Client(local_cluster)"
   ]
  },
  {
   "cell_type": "code",
   "execution_count": 27,
   "metadata": {},
   "outputs": [
    {
     "data": {
      "text/html": [
       "<table style=\"border: 2px solid white;\">\n",
       "<tr>\n",
       "<td style=\"vertical-align: top; border: 0px solid white\">\n",
       "<h3>Client</h3>\n",
       "<ul>\n",
       "  <li><b>Scheduler: </b>tcp://127.0.0.1:52900\n",
       "  <li><b>Dashboard: </b><a href='http://127.0.0.1:52901' target='_blank'>http://127.0.0.1:52901</a>\n",
       "</ul>\n",
       "</td>\n",
       "<td style=\"vertical-align: top; border: 0px solid white\">\n",
       "<h3>Cluster</h3>\n",
       "<ul>\n",
       "  <li><b>Workers: </b>6</li>\n",
       "  <li><b>Cores: </b>6</li>\n",
       "  <li><b>Memory: </b>12.88 GB</li>\n",
       "</ul>\n",
       "</td>\n",
       "</tr>\n",
       "</table>"
      ],
      "text/plain": [
       "<Client: scheduler='tcp://127.0.0.1:52900' processes=6 cores=6>"
      ]
     },
     "execution_count": 27,
     "metadata": {},
     "output_type": "execute_result"
    }
   ],
   "source": [
    "custom_client"
   ]
  },
  {
   "cell_type": "code",
   "execution_count": 28,
   "metadata": {},
   "outputs": [],
   "source": [
    "regulomes = derive_regulomes(dbs[0:2],\n",
    "                             modules[0:50],\n",
    "                             MOTIF_ANNOTATIONS_FNAME,\n",
    "                             client_or_address=custom_client)"
   ]
  },
  {
   "cell_type": "code",
   "execution_count": 29,
   "metadata": {},
   "outputs": [
    {
     "data": {
      "text/html": [
       "<b>Future: list_of_filter</b> <font color=\"gray\">status: </font><font color=\"black\">pending</font>, <font color=\"gray\">key: </font>list_of_filter-eed1ba02-754b-4e7d-ac52-ecc116540e2e"
      ],
      "text/plain": [
       "<Future: status: pending, key: list_of_filter-eed1ba02-754b-4e7d-ac52-ecc116540e2e>"
      ]
     },
     "execution_count": 29,
     "metadata": {},
     "output_type": "execute_result"
    },
    {
     "name": "stderr",
     "output_type": "stream",
     "text": [
      "tornado.application - ERROR - Exception in callback <bound method Nanny.memory_monitor of <Nanny: tcp://127.0.0.1:52913, threads: 1>>\n",
      "Traceback (most recent call last):\n",
      "  File \"/Users/bramvandesande/miniconda3/envs/pyscenic_dev/lib/python3.6/site-packages/psutil/_psosx.py\", line 348, in catch_zombie\n",
      "    yield\n",
      "  File \"/Users/bramvandesande/miniconda3/envs/pyscenic_dev/lib/python3.6/site-packages/psutil/_psosx.py\", line 387, in _get_pidtaskinfo\n",
      "    ret = cext.proc_pidtaskinfo_oneshot(self.pid)\n",
      "ProcessLookupError: [Errno 3] No such process\n",
      "\n",
      "During handling of the above exception, another exception occurred:\n",
      "\n",
      "Traceback (most recent call last):\n",
      "  File \"/Users/bramvandesande/miniconda3/envs/pyscenic_dev/lib/python3.6/site-packages/tornado/ioloop.py\", line 1026, in _run\n",
      "    return self.callback()\n",
      "  File \"/Users/bramvandesande/miniconda3/envs/pyscenic_dev/lib/python3.6/site-packages/distributed/nanny.py\", line 245, in memory_monitor\n",
      "    memory = psutil.Process(self.process.pid).memory_info().rss\n",
      "  File \"/Users/bramvandesande/miniconda3/envs/pyscenic_dev/lib/python3.6/site-packages/psutil/_common.py\", line 337, in wrapper\n",
      "    return fun(self)\n",
      "  File \"/Users/bramvandesande/miniconda3/envs/pyscenic_dev/lib/python3.6/site-packages/psutil/__init__.py\", line 1049, in memory_info\n",
      "    return self._proc.memory_info()\n",
      "  File \"/Users/bramvandesande/miniconda3/envs/pyscenic_dev/lib/python3.6/site-packages/psutil/_psosx.py\", line 330, in wrapper\n",
      "    return fun(self, *args, **kwargs)\n",
      "  File \"/Users/bramvandesande/miniconda3/envs/pyscenic_dev/lib/python3.6/site-packages/psutil/_psosx.py\", line 456, in memory_info\n",
      "    rawtuple = self._get_pidtaskinfo()\n",
      "  File \"/Users/bramvandesande/miniconda3/envs/pyscenic_dev/lib/python3.6/site-packages/psutil/_common.py\", line 337, in wrapper\n",
      "    return fun(self)\n",
      "  File \"/Users/bramvandesande/miniconda3/envs/pyscenic_dev/lib/python3.6/site-packages/psutil/_psosx.py\", line 387, in _get_pidtaskinfo\n",
      "    ret = cext.proc_pidtaskinfo_oneshot(self.pid)\n",
      "  File \"/Users/bramvandesande/miniconda3/envs/pyscenic_dev/lib/python3.6/contextlib.py\", line 99, in __exit__\n",
      "    self.gen.throw(type, value, traceback)\n",
      "  File \"/Users/bramvandesande/miniconda3/envs/pyscenic_dev/lib/python3.6/site-packages/psutil/_psosx.py\", line 361, in catch_zombie\n",
      "    raise AccessDenied(proc.pid, proc._name)\n",
      "psutil._exceptions.AccessDenied: psutil.AccessDenied (pid=7683)\n",
      "tornado.application - ERROR - Exception in callback <bound method Nanny.memory_monitor of <Nanny: tcp://127.0.0.1:52913, threads: 1>>\n",
      "Traceback (most recent call last):\n",
      "  File \"/Users/bramvandesande/miniconda3/envs/pyscenic_dev/lib/python3.6/site-packages/psutil/_psosx.py\", line 348, in catch_zombie\n",
      "    yield\n",
      "  File \"/Users/bramvandesande/miniconda3/envs/pyscenic_dev/lib/python3.6/site-packages/psutil/_psosx.py\", line 387, in _get_pidtaskinfo\n",
      "    ret = cext.proc_pidtaskinfo_oneshot(self.pid)\n",
      "ProcessLookupError: [Errno 3] No such process\n",
      "\n",
      "During handling of the above exception, another exception occurred:\n",
      "\n",
      "Traceback (most recent call last):\n",
      "  File \"/Users/bramvandesande/miniconda3/envs/pyscenic_dev/lib/python3.6/site-packages/tornado/ioloop.py\", line 1026, in _run\n",
      "    return self.callback()\n",
      "  File \"/Users/bramvandesande/miniconda3/envs/pyscenic_dev/lib/python3.6/site-packages/distributed/nanny.py\", line 245, in memory_monitor\n",
      "    memory = psutil.Process(self.process.pid).memory_info().rss\n",
      "  File \"/Users/bramvandesande/miniconda3/envs/pyscenic_dev/lib/python3.6/site-packages/psutil/_common.py\", line 337, in wrapper\n",
      "    return fun(self)\n",
      "  File \"/Users/bramvandesande/miniconda3/envs/pyscenic_dev/lib/python3.6/site-packages/psutil/__init__.py\", line 1049, in memory_info\n",
      "    return self._proc.memory_info()\n",
      "  File \"/Users/bramvandesande/miniconda3/envs/pyscenic_dev/lib/python3.6/site-packages/psutil/_psosx.py\", line 330, in wrapper\n",
      "    return fun(self, *args, **kwargs)\n",
      "  File \"/Users/bramvandesande/miniconda3/envs/pyscenic_dev/lib/python3.6/site-packages/psutil/_psosx.py\", line 456, in memory_info\n",
      "    rawtuple = self._get_pidtaskinfo()\n",
      "  File \"/Users/bramvandesande/miniconda3/envs/pyscenic_dev/lib/python3.6/site-packages/psutil/_common.py\", line 337, in wrapper\n",
      "    return fun(self)\n",
      "  File \"/Users/bramvandesande/miniconda3/envs/pyscenic_dev/lib/python3.6/site-packages/psutil/_psosx.py\", line 387, in _get_pidtaskinfo\n",
      "    ret = cext.proc_pidtaskinfo_oneshot(self.pid)\n",
      "  File \"/Users/bramvandesande/miniconda3/envs/pyscenic_dev/lib/python3.6/contextlib.py\", line 99, in __exit__\n",
      "    self.gen.throw(type, value, traceback)\n",
      "  File \"/Users/bramvandesande/miniconda3/envs/pyscenic_dev/lib/python3.6/site-packages/psutil/_psosx.py\", line 361, in catch_zombie\n",
      "    raise AccessDenied(proc.pid, proc._name)\n",
      "psutil._exceptions.AccessDenied: psutil.AccessDenied (pid=7683)\n",
      "tornado.application - ERROR - Exception in callback <bound method Nanny.memory_monitor of <Nanny: tcp://127.0.0.1:52913, threads: 1>>\n",
      "Traceback (most recent call last):\n",
      "  File \"/Users/bramvandesande/miniconda3/envs/pyscenic_dev/lib/python3.6/site-packages/psutil/_psosx.py\", line 348, in catch_zombie\n",
      "    yield\n",
      "  File \"/Users/bramvandesande/miniconda3/envs/pyscenic_dev/lib/python3.6/site-packages/psutil/_psosx.py\", line 387, in _get_pidtaskinfo\n",
      "    ret = cext.proc_pidtaskinfo_oneshot(self.pid)\n",
      "ProcessLookupError: [Errno 3] No such process\n",
      "\n",
      "During handling of the above exception, another exception occurred:\n",
      "\n",
      "Traceback (most recent call last):\n",
      "  File \"/Users/bramvandesande/miniconda3/envs/pyscenic_dev/lib/python3.6/site-packages/tornado/ioloop.py\", line 1026, in _run\n",
      "    return self.callback()\n",
      "  File \"/Users/bramvandesande/miniconda3/envs/pyscenic_dev/lib/python3.6/site-packages/distributed/nanny.py\", line 245, in memory_monitor\n",
      "    memory = psutil.Process(self.process.pid).memory_info().rss\n",
      "  File \"/Users/bramvandesande/miniconda3/envs/pyscenic_dev/lib/python3.6/site-packages/psutil/_common.py\", line 337, in wrapper\n",
      "    return fun(self)\n",
      "  File \"/Users/bramvandesande/miniconda3/envs/pyscenic_dev/lib/python3.6/site-packages/psutil/__init__.py\", line 1049, in memory_info\n",
      "    return self._proc.memory_info()\n",
      "  File \"/Users/bramvandesande/miniconda3/envs/pyscenic_dev/lib/python3.6/site-packages/psutil/_psosx.py\", line 330, in wrapper\n",
      "    return fun(self, *args, **kwargs)\n",
      "  File \"/Users/bramvandesande/miniconda3/envs/pyscenic_dev/lib/python3.6/site-packages/psutil/_psosx.py\", line 456, in memory_info\n",
      "    rawtuple = self._get_pidtaskinfo()\n",
      "  File \"/Users/bramvandesande/miniconda3/envs/pyscenic_dev/lib/python3.6/site-packages/psutil/_common.py\", line 337, in wrapper\n",
      "    return fun(self)\n",
      "  File \"/Users/bramvandesande/miniconda3/envs/pyscenic_dev/lib/python3.6/site-packages/psutil/_psosx.py\", line 387, in _get_pidtaskinfo\n",
      "    ret = cext.proc_pidtaskinfo_oneshot(self.pid)\n",
      "  File \"/Users/bramvandesande/miniconda3/envs/pyscenic_dev/lib/python3.6/contextlib.py\", line 99, in __exit__\n",
      "    self.gen.throw(type, value, traceback)\n",
      "  File \"/Users/bramvandesande/miniconda3/envs/pyscenic_dev/lib/python3.6/site-packages/psutil/_psosx.py\", line 361, in catch_zombie\n",
      "    raise AccessDenied(proc.pid, proc._name)\n",
      "psutil._exceptions.AccessDenied: psutil.AccessDenied (pid=7683)\n",
      "tornado.application - ERROR - Exception in callback <bound method Nanny.memory_monitor of <Nanny: tcp://127.0.0.1:52913, threads: 1>>\n",
      "Traceback (most recent call last):\n",
      "  File \"/Users/bramvandesande/miniconda3/envs/pyscenic_dev/lib/python3.6/site-packages/psutil/_psosx.py\", line 348, in catch_zombie\n",
      "    yield\n",
      "  File \"/Users/bramvandesande/miniconda3/envs/pyscenic_dev/lib/python3.6/site-packages/psutil/_psosx.py\", line 387, in _get_pidtaskinfo\n",
      "    ret = cext.proc_pidtaskinfo_oneshot(self.pid)\n",
      "ProcessLookupError: [Errno 3] No such process\n",
      "\n",
      "During handling of the above exception, another exception occurred:\n",
      "\n",
      "Traceback (most recent call last):\n",
      "  File \"/Users/bramvandesande/miniconda3/envs/pyscenic_dev/lib/python3.6/site-packages/tornado/ioloop.py\", line 1026, in _run\n",
      "    return self.callback()\n",
      "  File \"/Users/bramvandesande/miniconda3/envs/pyscenic_dev/lib/python3.6/site-packages/distributed/nanny.py\", line 245, in memory_monitor\n",
      "    memory = psutil.Process(self.process.pid).memory_info().rss\n",
      "  File \"/Users/bramvandesande/miniconda3/envs/pyscenic_dev/lib/python3.6/site-packages/psutil/_common.py\", line 337, in wrapper\n",
      "    return fun(self)\n",
      "  File \"/Users/bramvandesande/miniconda3/envs/pyscenic_dev/lib/python3.6/site-packages/psutil/__init__.py\", line 1049, in memory_info\n",
      "    return self._proc.memory_info()\n",
      "  File \"/Users/bramvandesande/miniconda3/envs/pyscenic_dev/lib/python3.6/site-packages/psutil/_psosx.py\", line 330, in wrapper\n",
      "    return fun(self, *args, **kwargs)\n",
      "  File \"/Users/bramvandesande/miniconda3/envs/pyscenic_dev/lib/python3.6/site-packages/psutil/_psosx.py\", line 456, in memory_info\n",
      "    rawtuple = self._get_pidtaskinfo()\n",
      "  File \"/Users/bramvandesande/miniconda3/envs/pyscenic_dev/lib/python3.6/site-packages/psutil/_common.py\", line 337, in wrapper\n",
      "    return fun(self)\n",
      "  File \"/Users/bramvandesande/miniconda3/envs/pyscenic_dev/lib/python3.6/site-packages/psutil/_psosx.py\", line 387, in _get_pidtaskinfo\n",
      "    ret = cext.proc_pidtaskinfo_oneshot(self.pid)\n",
      "  File \"/Users/bramvandesande/miniconda3/envs/pyscenic_dev/lib/python3.6/contextlib.py\", line 99, in __exit__\n",
      "    self.gen.throw(type, value, traceback)\n",
      "  File \"/Users/bramvandesande/miniconda3/envs/pyscenic_dev/lib/python3.6/site-packages/psutil/_psosx.py\", line 361, in catch_zombie\n",
      "    raise AccessDenied(proc.pid, proc._name)\n",
      "psutil._exceptions.AccessDenied: psutil.AccessDenied (pid=7683)\n"
     ]
    },
    {
     "name": "stderr",
     "output_type": "stream",
     "text": [
      "tornado.application - ERROR - Exception in callback <bound method Nanny.memory_monitor of <Nanny: tcp://127.0.0.1:52913, threads: 1>>\n",
      "Traceback (most recent call last):\n",
      "  File \"/Users/bramvandesande/miniconda3/envs/pyscenic_dev/lib/python3.6/site-packages/psutil/_psosx.py\", line 348, in catch_zombie\n",
      "    yield\n",
      "  File \"/Users/bramvandesande/miniconda3/envs/pyscenic_dev/lib/python3.6/site-packages/psutil/_psosx.py\", line 387, in _get_pidtaskinfo\n",
      "    ret = cext.proc_pidtaskinfo_oneshot(self.pid)\n",
      "ProcessLookupError: [Errno 3] No such process\n",
      "\n",
      "During handling of the above exception, another exception occurred:\n",
      "\n",
      "Traceback (most recent call last):\n",
      "  File \"/Users/bramvandesande/miniconda3/envs/pyscenic_dev/lib/python3.6/site-packages/tornado/ioloop.py\", line 1026, in _run\n",
      "    return self.callback()\n",
      "  File \"/Users/bramvandesande/miniconda3/envs/pyscenic_dev/lib/python3.6/site-packages/distributed/nanny.py\", line 245, in memory_monitor\n",
      "    memory = psutil.Process(self.process.pid).memory_info().rss\n",
      "  File \"/Users/bramvandesande/miniconda3/envs/pyscenic_dev/lib/python3.6/site-packages/psutil/_common.py\", line 337, in wrapper\n",
      "    return fun(self)\n",
      "  File \"/Users/bramvandesande/miniconda3/envs/pyscenic_dev/lib/python3.6/site-packages/psutil/__init__.py\", line 1049, in memory_info\n",
      "    return self._proc.memory_info()\n",
      "  File \"/Users/bramvandesande/miniconda3/envs/pyscenic_dev/lib/python3.6/site-packages/psutil/_psosx.py\", line 330, in wrapper\n",
      "    return fun(self, *args, **kwargs)\n",
      "  File \"/Users/bramvandesande/miniconda3/envs/pyscenic_dev/lib/python3.6/site-packages/psutil/_psosx.py\", line 456, in memory_info\n",
      "    rawtuple = self._get_pidtaskinfo()\n",
      "  File \"/Users/bramvandesande/miniconda3/envs/pyscenic_dev/lib/python3.6/site-packages/psutil/_common.py\", line 337, in wrapper\n",
      "    return fun(self)\n",
      "  File \"/Users/bramvandesande/miniconda3/envs/pyscenic_dev/lib/python3.6/site-packages/psutil/_psosx.py\", line 387, in _get_pidtaskinfo\n",
      "    ret = cext.proc_pidtaskinfo_oneshot(self.pid)\n",
      "  File \"/Users/bramvandesande/miniconda3/envs/pyscenic_dev/lib/python3.6/contextlib.py\", line 99, in __exit__\n",
      "    self.gen.throw(type, value, traceback)\n",
      "  File \"/Users/bramvandesande/miniconda3/envs/pyscenic_dev/lib/python3.6/site-packages/psutil/_psosx.py\", line 361, in catch_zombie\n",
      "    raise AccessDenied(proc.pid, proc._name)\n",
      "psutil._exceptions.AccessDenied: psutil.AccessDenied (pid=7683)\n",
      "tornado.application - ERROR - Exception in callback <bound method Nanny.memory_monitor of <Nanny: tcp://127.0.0.1:52913, threads: 1>>\n",
      "Traceback (most recent call last):\n",
      "  File \"/Users/bramvandesande/miniconda3/envs/pyscenic_dev/lib/python3.6/site-packages/psutil/_psosx.py\", line 348, in catch_zombie\n",
      "    yield\n",
      "  File \"/Users/bramvandesande/miniconda3/envs/pyscenic_dev/lib/python3.6/site-packages/psutil/_psosx.py\", line 387, in _get_pidtaskinfo\n",
      "    ret = cext.proc_pidtaskinfo_oneshot(self.pid)\n",
      "ProcessLookupError: [Errno 3] No such process\n",
      "\n",
      "During handling of the above exception, another exception occurred:\n",
      "\n",
      "Traceback (most recent call last):\n",
      "  File \"/Users/bramvandesande/miniconda3/envs/pyscenic_dev/lib/python3.6/site-packages/tornado/ioloop.py\", line 1026, in _run\n",
      "    return self.callback()\n",
      "  File \"/Users/bramvandesande/miniconda3/envs/pyscenic_dev/lib/python3.6/site-packages/distributed/nanny.py\", line 245, in memory_monitor\n",
      "    memory = psutil.Process(self.process.pid).memory_info().rss\n",
      "  File \"/Users/bramvandesande/miniconda3/envs/pyscenic_dev/lib/python3.6/site-packages/psutil/_common.py\", line 337, in wrapper\n",
      "    return fun(self)\n",
      "  File \"/Users/bramvandesande/miniconda3/envs/pyscenic_dev/lib/python3.6/site-packages/psutil/__init__.py\", line 1049, in memory_info\n",
      "    return self._proc.memory_info()\n",
      "  File \"/Users/bramvandesande/miniconda3/envs/pyscenic_dev/lib/python3.6/site-packages/psutil/_psosx.py\", line 330, in wrapper\n",
      "    return fun(self, *args, **kwargs)\n",
      "  File \"/Users/bramvandesande/miniconda3/envs/pyscenic_dev/lib/python3.6/site-packages/psutil/_psosx.py\", line 456, in memory_info\n",
      "    rawtuple = self._get_pidtaskinfo()\n",
      "  File \"/Users/bramvandesande/miniconda3/envs/pyscenic_dev/lib/python3.6/site-packages/psutil/_common.py\", line 337, in wrapper\n",
      "    return fun(self)\n",
      "  File \"/Users/bramvandesande/miniconda3/envs/pyscenic_dev/lib/python3.6/site-packages/psutil/_psosx.py\", line 387, in _get_pidtaskinfo\n",
      "    ret = cext.proc_pidtaskinfo_oneshot(self.pid)\n",
      "  File \"/Users/bramvandesande/miniconda3/envs/pyscenic_dev/lib/python3.6/contextlib.py\", line 99, in __exit__\n",
      "    self.gen.throw(type, value, traceback)\n",
      "  File \"/Users/bramvandesande/miniconda3/envs/pyscenic_dev/lib/python3.6/site-packages/psutil/_psosx.py\", line 361, in catch_zombie\n",
      "    raise AccessDenied(proc.pid, proc._name)\n",
      "psutil._exceptions.AccessDenied: psutil.AccessDenied (pid=7683)\n",
      "tornado.application - ERROR - Exception in callback <bound method Nanny.memory_monitor of <Nanny: tcp://127.0.0.1:52996, threads: 1>>\n",
      "Traceback (most recent call last):\n",
      "  File \"/Users/bramvandesande/miniconda3/envs/pyscenic_dev/lib/python3.6/site-packages/psutil/_psosx.py\", line 348, in catch_zombie\n",
      "    yield\n",
      "  File \"/Users/bramvandesande/miniconda3/envs/pyscenic_dev/lib/python3.6/site-packages/psutil/_psosx.py\", line 387, in _get_pidtaskinfo\n",
      "    ret = cext.proc_pidtaskinfo_oneshot(self.pid)\n",
      "ProcessLookupError: [Errno 3] No such process\n",
      "\n",
      "During handling of the above exception, another exception occurred:\n",
      "\n",
      "Traceback (most recent call last):\n",
      "  File \"/Users/bramvandesande/miniconda3/envs/pyscenic_dev/lib/python3.6/site-packages/tornado/ioloop.py\", line 1026, in _run\n",
      "    return self.callback()\n",
      "  File \"/Users/bramvandesande/miniconda3/envs/pyscenic_dev/lib/python3.6/site-packages/distributed/nanny.py\", line 245, in memory_monitor\n",
      "    memory = psutil.Process(self.process.pid).memory_info().rss\n",
      "  File \"/Users/bramvandesande/miniconda3/envs/pyscenic_dev/lib/python3.6/site-packages/psutil/_common.py\", line 337, in wrapper\n",
      "    return fun(self)\n",
      "  File \"/Users/bramvandesande/miniconda3/envs/pyscenic_dev/lib/python3.6/site-packages/psutil/__init__.py\", line 1049, in memory_info\n",
      "    return self._proc.memory_info()\n",
      "  File \"/Users/bramvandesande/miniconda3/envs/pyscenic_dev/lib/python3.6/site-packages/psutil/_psosx.py\", line 330, in wrapper\n",
      "    return fun(self, *args, **kwargs)\n",
      "  File \"/Users/bramvandesande/miniconda3/envs/pyscenic_dev/lib/python3.6/site-packages/psutil/_psosx.py\", line 456, in memory_info\n",
      "    rawtuple = self._get_pidtaskinfo()\n",
      "  File \"/Users/bramvandesande/miniconda3/envs/pyscenic_dev/lib/python3.6/site-packages/psutil/_common.py\", line 337, in wrapper\n",
      "    return fun(self)\n",
      "  File \"/Users/bramvandesande/miniconda3/envs/pyscenic_dev/lib/python3.6/site-packages/psutil/_psosx.py\", line 387, in _get_pidtaskinfo\n",
      "    ret = cext.proc_pidtaskinfo_oneshot(self.pid)\n",
      "  File \"/Users/bramvandesande/miniconda3/envs/pyscenic_dev/lib/python3.6/contextlib.py\", line 99, in __exit__\n",
      "    self.gen.throw(type, value, traceback)\n",
      "  File \"/Users/bramvandesande/miniconda3/envs/pyscenic_dev/lib/python3.6/site-packages/psutil/_psosx.py\", line 361, in catch_zombie\n",
      "    raise AccessDenied(proc.pid, proc._name)\n",
      "psutil._exceptions.AccessDenied: psutil.AccessDenied (pid=7751)\n",
      "tornado.application - ERROR - Exception in callback <bound method Nanny.memory_monitor of <Nanny: tcp://127.0.0.1:52996, threads: 1>>\n",
      "Traceback (most recent call last):\n",
      "  File \"/Users/bramvandesande/miniconda3/envs/pyscenic_dev/lib/python3.6/site-packages/psutil/_psosx.py\", line 348, in catch_zombie\n",
      "    yield\n",
      "  File \"/Users/bramvandesande/miniconda3/envs/pyscenic_dev/lib/python3.6/site-packages/psutil/_psosx.py\", line 387, in _get_pidtaskinfo\n",
      "    ret = cext.proc_pidtaskinfo_oneshot(self.pid)\n",
      "ProcessLookupError: [Errno 3] No such process\n",
      "\n",
      "During handling of the above exception, another exception occurred:\n",
      "\n",
      "Traceback (most recent call last):\n",
      "  File \"/Users/bramvandesande/miniconda3/envs/pyscenic_dev/lib/python3.6/site-packages/tornado/ioloop.py\", line 1026, in _run\n",
      "    return self.callback()\n",
      "  File \"/Users/bramvandesande/miniconda3/envs/pyscenic_dev/lib/python3.6/site-packages/distributed/nanny.py\", line 245, in memory_monitor\n",
      "    memory = psutil.Process(self.process.pid).memory_info().rss\n",
      "  File \"/Users/bramvandesande/miniconda3/envs/pyscenic_dev/lib/python3.6/site-packages/psutil/_common.py\", line 337, in wrapper\n",
      "    return fun(self)\n",
      "  File \"/Users/bramvandesande/miniconda3/envs/pyscenic_dev/lib/python3.6/site-packages/psutil/__init__.py\", line 1049, in memory_info\n",
      "    return self._proc.memory_info()\n",
      "  File \"/Users/bramvandesande/miniconda3/envs/pyscenic_dev/lib/python3.6/site-packages/psutil/_psosx.py\", line 330, in wrapper\n",
      "    return fun(self, *args, **kwargs)\n",
      "  File \"/Users/bramvandesande/miniconda3/envs/pyscenic_dev/lib/python3.6/site-packages/psutil/_psosx.py\", line 456, in memory_info\n",
      "    rawtuple = self._get_pidtaskinfo()\n",
      "  File \"/Users/bramvandesande/miniconda3/envs/pyscenic_dev/lib/python3.6/site-packages/psutil/_common.py\", line 337, in wrapper\n",
      "    return fun(self)\n",
      "  File \"/Users/bramvandesande/miniconda3/envs/pyscenic_dev/lib/python3.6/site-packages/psutil/_psosx.py\", line 387, in _get_pidtaskinfo\n",
      "    ret = cext.proc_pidtaskinfo_oneshot(self.pid)\n",
      "  File \"/Users/bramvandesande/miniconda3/envs/pyscenic_dev/lib/python3.6/contextlib.py\", line 99, in __exit__\n",
      "    self.gen.throw(type, value, traceback)\n",
      "  File \"/Users/bramvandesande/miniconda3/envs/pyscenic_dev/lib/python3.6/site-packages/psutil/_psosx.py\", line 361, in catch_zombie\n",
      "    raise AccessDenied(proc.pid, proc._name)\n",
      "psutil._exceptions.AccessDenied: psutil.AccessDenied (pid=7751)\n"
     ]
    },
    {
     "name": "stderr",
     "output_type": "stream",
     "text": [
      "tornado.application - ERROR - Exception in callback <bound method Nanny.memory_monitor of <Nanny: tcp://127.0.0.1:52996, threads: 1>>\n",
      "Traceback (most recent call last):\n",
      "  File \"/Users/bramvandesande/miniconda3/envs/pyscenic_dev/lib/python3.6/site-packages/psutil/_psosx.py\", line 348, in catch_zombie\n",
      "    yield\n",
      "  File \"/Users/bramvandesande/miniconda3/envs/pyscenic_dev/lib/python3.6/site-packages/psutil/_psosx.py\", line 387, in _get_pidtaskinfo\n",
      "    ret = cext.proc_pidtaskinfo_oneshot(self.pid)\n",
      "ProcessLookupError: [Errno 3] No such process\n",
      "\n",
      "During handling of the above exception, another exception occurred:\n",
      "\n",
      "Traceback (most recent call last):\n",
      "  File \"/Users/bramvandesande/miniconda3/envs/pyscenic_dev/lib/python3.6/site-packages/tornado/ioloop.py\", line 1026, in _run\n",
      "    return self.callback()\n",
      "  File \"/Users/bramvandesande/miniconda3/envs/pyscenic_dev/lib/python3.6/site-packages/distributed/nanny.py\", line 245, in memory_monitor\n",
      "    memory = psutil.Process(self.process.pid).memory_info().rss\n",
      "  File \"/Users/bramvandesande/miniconda3/envs/pyscenic_dev/lib/python3.6/site-packages/psutil/_common.py\", line 337, in wrapper\n",
      "    return fun(self)\n",
      "  File \"/Users/bramvandesande/miniconda3/envs/pyscenic_dev/lib/python3.6/site-packages/psutil/__init__.py\", line 1049, in memory_info\n",
      "    return self._proc.memory_info()\n",
      "  File \"/Users/bramvandesande/miniconda3/envs/pyscenic_dev/lib/python3.6/site-packages/psutil/_psosx.py\", line 330, in wrapper\n",
      "    return fun(self, *args, **kwargs)\n",
      "  File \"/Users/bramvandesande/miniconda3/envs/pyscenic_dev/lib/python3.6/site-packages/psutil/_psosx.py\", line 456, in memory_info\n",
      "    rawtuple = self._get_pidtaskinfo()\n",
      "  File \"/Users/bramvandesande/miniconda3/envs/pyscenic_dev/lib/python3.6/site-packages/psutil/_common.py\", line 337, in wrapper\n",
      "    return fun(self)\n",
      "  File \"/Users/bramvandesande/miniconda3/envs/pyscenic_dev/lib/python3.6/site-packages/psutil/_psosx.py\", line 387, in _get_pidtaskinfo\n",
      "    ret = cext.proc_pidtaskinfo_oneshot(self.pid)\n",
      "  File \"/Users/bramvandesande/miniconda3/envs/pyscenic_dev/lib/python3.6/contextlib.py\", line 99, in __exit__\n",
      "    self.gen.throw(type, value, traceback)\n",
      "  File \"/Users/bramvandesande/miniconda3/envs/pyscenic_dev/lib/python3.6/site-packages/psutil/_psosx.py\", line 361, in catch_zombie\n",
      "    raise AccessDenied(proc.pid, proc._name)\n",
      "psutil._exceptions.AccessDenied: psutil.AccessDenied (pid=7751)\n",
      "tornado.application - ERROR - Exception in callback <bound method Nanny.memory_monitor of <Nanny: tcp://127.0.0.1:52996, threads: 1>>\n",
      "Traceback (most recent call last):\n",
      "  File \"/Users/bramvandesande/miniconda3/envs/pyscenic_dev/lib/python3.6/site-packages/psutil/_psosx.py\", line 348, in catch_zombie\n",
      "    yield\n",
      "  File \"/Users/bramvandesande/miniconda3/envs/pyscenic_dev/lib/python3.6/site-packages/psutil/_psosx.py\", line 387, in _get_pidtaskinfo\n",
      "    ret = cext.proc_pidtaskinfo_oneshot(self.pid)\n",
      "ProcessLookupError: [Errno 3] No such process\n",
      "\n",
      "During handling of the above exception, another exception occurred:\n",
      "\n",
      "Traceback (most recent call last):\n",
      "  File \"/Users/bramvandesande/miniconda3/envs/pyscenic_dev/lib/python3.6/site-packages/tornado/ioloop.py\", line 1026, in _run\n",
      "    return self.callback()\n",
      "  File \"/Users/bramvandesande/miniconda3/envs/pyscenic_dev/lib/python3.6/site-packages/distributed/nanny.py\", line 245, in memory_monitor\n",
      "    memory = psutil.Process(self.process.pid).memory_info().rss\n",
      "  File \"/Users/bramvandesande/miniconda3/envs/pyscenic_dev/lib/python3.6/site-packages/psutil/_common.py\", line 337, in wrapper\n",
      "    return fun(self)\n",
      "  File \"/Users/bramvandesande/miniconda3/envs/pyscenic_dev/lib/python3.6/site-packages/psutil/__init__.py\", line 1049, in memory_info\n",
      "    return self._proc.memory_info()\n",
      "  File \"/Users/bramvandesande/miniconda3/envs/pyscenic_dev/lib/python3.6/site-packages/psutil/_psosx.py\", line 330, in wrapper\n",
      "    return fun(self, *args, **kwargs)\n",
      "  File \"/Users/bramvandesande/miniconda3/envs/pyscenic_dev/lib/python3.6/site-packages/psutil/_psosx.py\", line 456, in memory_info\n",
      "    rawtuple = self._get_pidtaskinfo()\n",
      "  File \"/Users/bramvandesande/miniconda3/envs/pyscenic_dev/lib/python3.6/site-packages/psutil/_common.py\", line 337, in wrapper\n",
      "    return fun(self)\n",
      "  File \"/Users/bramvandesande/miniconda3/envs/pyscenic_dev/lib/python3.6/site-packages/psutil/_psosx.py\", line 387, in _get_pidtaskinfo\n",
      "    ret = cext.proc_pidtaskinfo_oneshot(self.pid)\n",
      "  File \"/Users/bramvandesande/miniconda3/envs/pyscenic_dev/lib/python3.6/contextlib.py\", line 99, in __exit__\n",
      "    self.gen.throw(type, value, traceback)\n",
      "  File \"/Users/bramvandesande/miniconda3/envs/pyscenic_dev/lib/python3.6/site-packages/psutil/_psosx.py\", line 361, in catch_zombie\n",
      "    raise AccessDenied(proc.pid, proc._name)\n",
      "psutil._exceptions.AccessDenied: psutil.AccessDenied (pid=7751)\n",
      "tornado.application - ERROR - Exception in callback <bound method Nanny.memory_monitor of <Nanny: tcp://127.0.0.1:52996, threads: 1>>\n",
      "Traceback (most recent call last):\n",
      "  File \"/Users/bramvandesande/miniconda3/envs/pyscenic_dev/lib/python3.6/site-packages/psutil/_psosx.py\", line 348, in catch_zombie\n",
      "    yield\n",
      "  File \"/Users/bramvandesande/miniconda3/envs/pyscenic_dev/lib/python3.6/site-packages/psutil/_psosx.py\", line 387, in _get_pidtaskinfo\n",
      "    ret = cext.proc_pidtaskinfo_oneshot(self.pid)\n",
      "ProcessLookupError: [Errno 3] No such process\n",
      "\n",
      "During handling of the above exception, another exception occurred:\n",
      "\n",
      "Traceback (most recent call last):\n",
      "  File \"/Users/bramvandesande/miniconda3/envs/pyscenic_dev/lib/python3.6/site-packages/tornado/ioloop.py\", line 1026, in _run\n",
      "    return self.callback()\n",
      "  File \"/Users/bramvandesande/miniconda3/envs/pyscenic_dev/lib/python3.6/site-packages/distributed/nanny.py\", line 245, in memory_monitor\n",
      "    memory = psutil.Process(self.process.pid).memory_info().rss\n",
      "  File \"/Users/bramvandesande/miniconda3/envs/pyscenic_dev/lib/python3.6/site-packages/psutil/_common.py\", line 337, in wrapper\n",
      "    return fun(self)\n",
      "  File \"/Users/bramvandesande/miniconda3/envs/pyscenic_dev/lib/python3.6/site-packages/psutil/__init__.py\", line 1049, in memory_info\n",
      "    return self._proc.memory_info()\n",
      "  File \"/Users/bramvandesande/miniconda3/envs/pyscenic_dev/lib/python3.6/site-packages/psutil/_psosx.py\", line 330, in wrapper\n",
      "    return fun(self, *args, **kwargs)\n",
      "  File \"/Users/bramvandesande/miniconda3/envs/pyscenic_dev/lib/python3.6/site-packages/psutil/_psosx.py\", line 456, in memory_info\n",
      "    rawtuple = self._get_pidtaskinfo()\n",
      "  File \"/Users/bramvandesande/miniconda3/envs/pyscenic_dev/lib/python3.6/site-packages/psutil/_common.py\", line 337, in wrapper\n",
      "    return fun(self)\n",
      "  File \"/Users/bramvandesande/miniconda3/envs/pyscenic_dev/lib/python3.6/site-packages/psutil/_psosx.py\", line 387, in _get_pidtaskinfo\n",
      "    ret = cext.proc_pidtaskinfo_oneshot(self.pid)\n",
      "  File \"/Users/bramvandesande/miniconda3/envs/pyscenic_dev/lib/python3.6/contextlib.py\", line 99, in __exit__\n",
      "    self.gen.throw(type, value, traceback)\n",
      "  File \"/Users/bramvandesande/miniconda3/envs/pyscenic_dev/lib/python3.6/site-packages/psutil/_psosx.py\", line 361, in catch_zombie\n",
      "    raise AccessDenied(proc.pid, proc._name)\n",
      "psutil._exceptions.AccessDenied: psutil.AccessDenied (pid=7751)\n",
      "tornado.application - ERROR - Exception in callback <bound method Nanny.memory_monitor of <Nanny: tcp://127.0.0.1:52996, threads: 1>>\n",
      "Traceback (most recent call last):\n",
      "  File \"/Users/bramvandesande/miniconda3/envs/pyscenic_dev/lib/python3.6/site-packages/psutil/_psosx.py\", line 348, in catch_zombie\n",
      "    yield\n",
      "  File \"/Users/bramvandesande/miniconda3/envs/pyscenic_dev/lib/python3.6/site-packages/psutil/_psosx.py\", line 387, in _get_pidtaskinfo\n",
      "    ret = cext.proc_pidtaskinfo_oneshot(self.pid)\n",
      "ProcessLookupError: [Errno 3] No such process\n",
      "\n",
      "During handling of the above exception, another exception occurred:\n",
      "\n",
      "Traceback (most recent call last):\n",
      "  File \"/Users/bramvandesande/miniconda3/envs/pyscenic_dev/lib/python3.6/site-packages/tornado/ioloop.py\", line 1026, in _run\n",
      "    return self.callback()\n",
      "  File \"/Users/bramvandesande/miniconda3/envs/pyscenic_dev/lib/python3.6/site-packages/distributed/nanny.py\", line 245, in memory_monitor\n",
      "    memory = psutil.Process(self.process.pid).memory_info().rss\n",
      "  File \"/Users/bramvandesande/miniconda3/envs/pyscenic_dev/lib/python3.6/site-packages/psutil/_common.py\", line 337, in wrapper\n",
      "    return fun(self)\n",
      "  File \"/Users/bramvandesande/miniconda3/envs/pyscenic_dev/lib/python3.6/site-packages/psutil/__init__.py\", line 1049, in memory_info\n",
      "    return self._proc.memory_info()\n",
      "  File \"/Users/bramvandesande/miniconda3/envs/pyscenic_dev/lib/python3.6/site-packages/psutil/_psosx.py\", line 330, in wrapper\n",
      "    return fun(self, *args, **kwargs)\n",
      "  File \"/Users/bramvandesande/miniconda3/envs/pyscenic_dev/lib/python3.6/site-packages/psutil/_psosx.py\", line 456, in memory_info\n",
      "    rawtuple = self._get_pidtaskinfo()\n",
      "  File \"/Users/bramvandesande/miniconda3/envs/pyscenic_dev/lib/python3.6/site-packages/psutil/_common.py\", line 337, in wrapper\n",
      "    return fun(self)\n",
      "  File \"/Users/bramvandesande/miniconda3/envs/pyscenic_dev/lib/python3.6/site-packages/psutil/_psosx.py\", line 387, in _get_pidtaskinfo\n",
      "    ret = cext.proc_pidtaskinfo_oneshot(self.pid)\n",
      "  File \"/Users/bramvandesande/miniconda3/envs/pyscenic_dev/lib/python3.6/contextlib.py\", line 99, in __exit__\n",
      "    self.gen.throw(type, value, traceback)\n",
      "  File \"/Users/bramvandesande/miniconda3/envs/pyscenic_dev/lib/python3.6/site-packages/psutil/_psosx.py\", line 361, in catch_zombie\n",
      "    raise AccessDenied(proc.pid, proc._name)\n",
      "psutil._exceptions.AccessDenied: psutil.AccessDenied (pid=7751)\n"
     ]
    },
    {
     "name": "stderr",
     "output_type": "stream",
     "text": [
      "tornado.application - ERROR - Exception in callback <bound method Nanny.memory_monitor of <Nanny: tcp://127.0.0.1:52996, threads: 1>>\n",
      "Traceback (most recent call last):\n",
      "  File \"/Users/bramvandesande/miniconda3/envs/pyscenic_dev/lib/python3.6/site-packages/psutil/_psosx.py\", line 348, in catch_zombie\n",
      "    yield\n",
      "  File \"/Users/bramvandesande/miniconda3/envs/pyscenic_dev/lib/python3.6/site-packages/psutil/_psosx.py\", line 387, in _get_pidtaskinfo\n",
      "    ret = cext.proc_pidtaskinfo_oneshot(self.pid)\n",
      "ProcessLookupError: [Errno 3] No such process\n",
      "\n",
      "During handling of the above exception, another exception occurred:\n",
      "\n",
      "Traceback (most recent call last):\n",
      "  File \"/Users/bramvandesande/miniconda3/envs/pyscenic_dev/lib/python3.6/site-packages/tornado/ioloop.py\", line 1026, in _run\n",
      "    return self.callback()\n",
      "  File \"/Users/bramvandesande/miniconda3/envs/pyscenic_dev/lib/python3.6/site-packages/distributed/nanny.py\", line 245, in memory_monitor\n",
      "    memory = psutil.Process(self.process.pid).memory_info().rss\n",
      "  File \"/Users/bramvandesande/miniconda3/envs/pyscenic_dev/lib/python3.6/site-packages/psutil/_common.py\", line 337, in wrapper\n",
      "    return fun(self)\n",
      "  File \"/Users/bramvandesande/miniconda3/envs/pyscenic_dev/lib/python3.6/site-packages/psutil/__init__.py\", line 1049, in memory_info\n",
      "    return self._proc.memory_info()\n",
      "  File \"/Users/bramvandesande/miniconda3/envs/pyscenic_dev/lib/python3.6/site-packages/psutil/_psosx.py\", line 330, in wrapper\n",
      "    return fun(self, *args, **kwargs)\n",
      "  File \"/Users/bramvandesande/miniconda3/envs/pyscenic_dev/lib/python3.6/site-packages/psutil/_psosx.py\", line 456, in memory_info\n",
      "    rawtuple = self._get_pidtaskinfo()\n",
      "  File \"/Users/bramvandesande/miniconda3/envs/pyscenic_dev/lib/python3.6/site-packages/psutil/_common.py\", line 337, in wrapper\n",
      "    return fun(self)\n",
      "  File \"/Users/bramvandesande/miniconda3/envs/pyscenic_dev/lib/python3.6/site-packages/psutil/_psosx.py\", line 387, in _get_pidtaskinfo\n",
      "    ret = cext.proc_pidtaskinfo_oneshot(self.pid)\n",
      "  File \"/Users/bramvandesande/miniconda3/envs/pyscenic_dev/lib/python3.6/contextlib.py\", line 99, in __exit__\n",
      "    self.gen.throw(type, value, traceback)\n",
      "  File \"/Users/bramvandesande/miniconda3/envs/pyscenic_dev/lib/python3.6/site-packages/psutil/_psosx.py\", line 361, in catch_zombie\n",
      "    raise AccessDenied(proc.pid, proc._name)\n",
      "psutil._exceptions.AccessDenied: psutil.AccessDenied (pid=7751)\n",
      "tornado.application - ERROR - Exception in callback <bound method Nanny.memory_monitor of <Nanny: tcp://127.0.0.1:52996, threads: 1>>\n",
      "Traceback (most recent call last):\n",
      "  File \"/Users/bramvandesande/miniconda3/envs/pyscenic_dev/lib/python3.6/site-packages/psutil/_psosx.py\", line 348, in catch_zombie\n",
      "    yield\n",
      "  File \"/Users/bramvandesande/miniconda3/envs/pyscenic_dev/lib/python3.6/site-packages/psutil/_psosx.py\", line 387, in _get_pidtaskinfo\n",
      "    ret = cext.proc_pidtaskinfo_oneshot(self.pid)\n",
      "ProcessLookupError: [Errno 3] No such process\n",
      "\n",
      "During handling of the above exception, another exception occurred:\n",
      "\n",
      "Traceback (most recent call last):\n",
      "  File \"/Users/bramvandesande/miniconda3/envs/pyscenic_dev/lib/python3.6/site-packages/tornado/ioloop.py\", line 1026, in _run\n",
      "    return self.callback()\n",
      "  File \"/Users/bramvandesande/miniconda3/envs/pyscenic_dev/lib/python3.6/site-packages/distributed/nanny.py\", line 245, in memory_monitor\n",
      "    memory = psutil.Process(self.process.pid).memory_info().rss\n",
      "  File \"/Users/bramvandesande/miniconda3/envs/pyscenic_dev/lib/python3.6/site-packages/psutil/_common.py\", line 337, in wrapper\n",
      "    return fun(self)\n",
      "  File \"/Users/bramvandesande/miniconda3/envs/pyscenic_dev/lib/python3.6/site-packages/psutil/__init__.py\", line 1049, in memory_info\n",
      "    return self._proc.memory_info()\n",
      "  File \"/Users/bramvandesande/miniconda3/envs/pyscenic_dev/lib/python3.6/site-packages/psutil/_psosx.py\", line 330, in wrapper\n",
      "    return fun(self, *args, **kwargs)\n",
      "  File \"/Users/bramvandesande/miniconda3/envs/pyscenic_dev/lib/python3.6/site-packages/psutil/_psosx.py\", line 456, in memory_info\n",
      "    rawtuple = self._get_pidtaskinfo()\n",
      "  File \"/Users/bramvandesande/miniconda3/envs/pyscenic_dev/lib/python3.6/site-packages/psutil/_common.py\", line 337, in wrapper\n",
      "    return fun(self)\n",
      "  File \"/Users/bramvandesande/miniconda3/envs/pyscenic_dev/lib/python3.6/site-packages/psutil/_psosx.py\", line 387, in _get_pidtaskinfo\n",
      "    ret = cext.proc_pidtaskinfo_oneshot(self.pid)\n",
      "  File \"/Users/bramvandesande/miniconda3/envs/pyscenic_dev/lib/python3.6/contextlib.py\", line 99, in __exit__\n",
      "    self.gen.throw(type, value, traceback)\n",
      "  File \"/Users/bramvandesande/miniconda3/envs/pyscenic_dev/lib/python3.6/site-packages/psutil/_psosx.py\", line 361, in catch_zombie\n",
      "    raise AccessDenied(proc.pid, proc._name)\n",
      "psutil._exceptions.AccessDenied: psutil.AccessDenied (pid=7751)\n",
      "tornado.application - ERROR - Exception in callback <bound method Nanny.memory_monitor of <Nanny: tcp://127.0.0.1:52909, threads: 1>>\n",
      "Traceback (most recent call last):\n",
      "  File \"/Users/bramvandesande/miniconda3/envs/pyscenic_dev/lib/python3.6/site-packages/psutil/_psosx.py\", line 348, in catch_zombie\n",
      "    yield\n",
      "  File \"/Users/bramvandesande/miniconda3/envs/pyscenic_dev/lib/python3.6/site-packages/psutil/_psosx.py\", line 387, in _get_pidtaskinfo\n",
      "    ret = cext.proc_pidtaskinfo_oneshot(self.pid)\n",
      "ProcessLookupError: [Errno 3] No such process\n",
      "\n",
      "During handling of the above exception, another exception occurred:\n",
      "\n",
      "Traceback (most recent call last):\n",
      "  File \"/Users/bramvandesande/miniconda3/envs/pyscenic_dev/lib/python3.6/site-packages/tornado/ioloop.py\", line 1026, in _run\n",
      "    return self.callback()\n",
      "  File \"/Users/bramvandesande/miniconda3/envs/pyscenic_dev/lib/python3.6/site-packages/distributed/nanny.py\", line 245, in memory_monitor\n",
      "    memory = psutil.Process(self.process.pid).memory_info().rss\n",
      "  File \"/Users/bramvandesande/miniconda3/envs/pyscenic_dev/lib/python3.6/site-packages/psutil/_common.py\", line 337, in wrapper\n",
      "    return fun(self)\n",
      "  File \"/Users/bramvandesande/miniconda3/envs/pyscenic_dev/lib/python3.6/site-packages/psutil/__init__.py\", line 1049, in memory_info\n",
      "    return self._proc.memory_info()\n",
      "  File \"/Users/bramvandesande/miniconda3/envs/pyscenic_dev/lib/python3.6/site-packages/psutil/_psosx.py\", line 330, in wrapper\n",
      "    return fun(self, *args, **kwargs)\n",
      "  File \"/Users/bramvandesande/miniconda3/envs/pyscenic_dev/lib/python3.6/site-packages/psutil/_psosx.py\", line 456, in memory_info\n",
      "    rawtuple = self._get_pidtaskinfo()\n",
      "  File \"/Users/bramvandesande/miniconda3/envs/pyscenic_dev/lib/python3.6/site-packages/psutil/_common.py\", line 337, in wrapper\n",
      "    return fun(self)\n",
      "  File \"/Users/bramvandesande/miniconda3/envs/pyscenic_dev/lib/python3.6/site-packages/psutil/_psosx.py\", line 387, in _get_pidtaskinfo\n",
      "    ret = cext.proc_pidtaskinfo_oneshot(self.pid)\n",
      "  File \"/Users/bramvandesande/miniconda3/envs/pyscenic_dev/lib/python3.6/contextlib.py\", line 99, in __exit__\n",
      "    self.gen.throw(type, value, traceback)\n",
      "  File \"/Users/bramvandesande/miniconda3/envs/pyscenic_dev/lib/python3.6/site-packages/psutil/_psosx.py\", line 361, in catch_zombie\n",
      "    raise AccessDenied(proc.pid, proc._name)\n",
      "psutil._exceptions.AccessDenied: psutil.AccessDenied (pid=7680)\n",
      "tornado.application - ERROR - Exception in callback <bound method Nanny.memory_monitor of <Nanny: tcp://127.0.0.1:52909, threads: 1>>\n",
      "Traceback (most recent call last):\n",
      "  File \"/Users/bramvandesande/miniconda3/envs/pyscenic_dev/lib/python3.6/site-packages/psutil/_psosx.py\", line 348, in catch_zombie\n",
      "    yield\n",
      "  File \"/Users/bramvandesande/miniconda3/envs/pyscenic_dev/lib/python3.6/site-packages/psutil/_psosx.py\", line 387, in _get_pidtaskinfo\n",
      "    ret = cext.proc_pidtaskinfo_oneshot(self.pid)\n",
      "ProcessLookupError: [Errno 3] No such process\n",
      "\n",
      "During handling of the above exception, another exception occurred:\n",
      "\n",
      "Traceback (most recent call last):\n",
      "  File \"/Users/bramvandesande/miniconda3/envs/pyscenic_dev/lib/python3.6/site-packages/tornado/ioloop.py\", line 1026, in _run\n",
      "    return self.callback()\n",
      "  File \"/Users/bramvandesande/miniconda3/envs/pyscenic_dev/lib/python3.6/site-packages/distributed/nanny.py\", line 245, in memory_monitor\n",
      "    memory = psutil.Process(self.process.pid).memory_info().rss\n",
      "  File \"/Users/bramvandesande/miniconda3/envs/pyscenic_dev/lib/python3.6/site-packages/psutil/_common.py\", line 337, in wrapper\n",
      "    return fun(self)\n",
      "  File \"/Users/bramvandesande/miniconda3/envs/pyscenic_dev/lib/python3.6/site-packages/psutil/__init__.py\", line 1049, in memory_info\n",
      "    return self._proc.memory_info()\n",
      "  File \"/Users/bramvandesande/miniconda3/envs/pyscenic_dev/lib/python3.6/site-packages/psutil/_psosx.py\", line 330, in wrapper\n",
      "    return fun(self, *args, **kwargs)\n",
      "  File \"/Users/bramvandesande/miniconda3/envs/pyscenic_dev/lib/python3.6/site-packages/psutil/_psosx.py\", line 456, in memory_info\n",
      "    rawtuple = self._get_pidtaskinfo()\n",
      "  File \"/Users/bramvandesande/miniconda3/envs/pyscenic_dev/lib/python3.6/site-packages/psutil/_common.py\", line 337, in wrapper\n",
      "    return fun(self)\n",
      "  File \"/Users/bramvandesande/miniconda3/envs/pyscenic_dev/lib/python3.6/site-packages/psutil/_psosx.py\", line 387, in _get_pidtaskinfo\n",
      "    ret = cext.proc_pidtaskinfo_oneshot(self.pid)\n",
      "  File \"/Users/bramvandesande/miniconda3/envs/pyscenic_dev/lib/python3.6/contextlib.py\", line 99, in __exit__\n",
      "    self.gen.throw(type, value, traceback)\n",
      "  File \"/Users/bramvandesande/miniconda3/envs/pyscenic_dev/lib/python3.6/site-packages/psutil/_psosx.py\", line 361, in catch_zombie\n",
      "    raise AccessDenied(proc.pid, proc._name)\n",
      "psutil._exceptions.AccessDenied: psutil.AccessDenied (pid=7680)\n"
     ]
    },
    {
     "name": "stderr",
     "output_type": "stream",
     "text": [
      "tornado.application - ERROR - Exception in callback <bound method Nanny.memory_monitor of <Nanny: tcp://127.0.0.1:52909, threads: 1>>\n",
      "Traceback (most recent call last):\n",
      "  File \"/Users/bramvandesande/miniconda3/envs/pyscenic_dev/lib/python3.6/site-packages/psutil/_psosx.py\", line 348, in catch_zombie\n",
      "    yield\n",
      "  File \"/Users/bramvandesande/miniconda3/envs/pyscenic_dev/lib/python3.6/site-packages/psutil/_psosx.py\", line 387, in _get_pidtaskinfo\n",
      "    ret = cext.proc_pidtaskinfo_oneshot(self.pid)\n",
      "ProcessLookupError: [Errno 3] No such process\n",
      "\n",
      "During handling of the above exception, another exception occurred:\n",
      "\n",
      "Traceback (most recent call last):\n",
      "  File \"/Users/bramvandesande/miniconda3/envs/pyscenic_dev/lib/python3.6/site-packages/tornado/ioloop.py\", line 1026, in _run\n",
      "    return self.callback()\n",
      "  File \"/Users/bramvandesande/miniconda3/envs/pyscenic_dev/lib/python3.6/site-packages/distributed/nanny.py\", line 245, in memory_monitor\n",
      "    memory = psutil.Process(self.process.pid).memory_info().rss\n",
      "  File \"/Users/bramvandesande/miniconda3/envs/pyscenic_dev/lib/python3.6/site-packages/psutil/_common.py\", line 337, in wrapper\n",
      "    return fun(self)\n",
      "  File \"/Users/bramvandesande/miniconda3/envs/pyscenic_dev/lib/python3.6/site-packages/psutil/__init__.py\", line 1049, in memory_info\n",
      "    return self._proc.memory_info()\n",
      "  File \"/Users/bramvandesande/miniconda3/envs/pyscenic_dev/lib/python3.6/site-packages/psutil/_psosx.py\", line 330, in wrapper\n",
      "    return fun(self, *args, **kwargs)\n",
      "  File \"/Users/bramvandesande/miniconda3/envs/pyscenic_dev/lib/python3.6/site-packages/psutil/_psosx.py\", line 456, in memory_info\n",
      "    rawtuple = self._get_pidtaskinfo()\n",
      "  File \"/Users/bramvandesande/miniconda3/envs/pyscenic_dev/lib/python3.6/site-packages/psutil/_common.py\", line 337, in wrapper\n",
      "    return fun(self)\n",
      "  File \"/Users/bramvandesande/miniconda3/envs/pyscenic_dev/lib/python3.6/site-packages/psutil/_psosx.py\", line 387, in _get_pidtaskinfo\n",
      "    ret = cext.proc_pidtaskinfo_oneshot(self.pid)\n",
      "  File \"/Users/bramvandesande/miniconda3/envs/pyscenic_dev/lib/python3.6/contextlib.py\", line 99, in __exit__\n",
      "    self.gen.throw(type, value, traceback)\n",
      "  File \"/Users/bramvandesande/miniconda3/envs/pyscenic_dev/lib/python3.6/site-packages/psutil/_psosx.py\", line 361, in catch_zombie\n",
      "    raise AccessDenied(proc.pid, proc._name)\n",
      "psutil._exceptions.AccessDenied: psutil.AccessDenied (pid=7680)\n",
      "tornado.application - ERROR - Exception in callback <bound method Nanny.memory_monitor of <Nanny: tcp://127.0.0.1:52909, threads: 1>>\n",
      "Traceback (most recent call last):\n",
      "  File \"/Users/bramvandesande/miniconda3/envs/pyscenic_dev/lib/python3.6/site-packages/psutil/_psosx.py\", line 348, in catch_zombie\n",
      "    yield\n",
      "  File \"/Users/bramvandesande/miniconda3/envs/pyscenic_dev/lib/python3.6/site-packages/psutil/_psosx.py\", line 387, in _get_pidtaskinfo\n",
      "    ret = cext.proc_pidtaskinfo_oneshot(self.pid)\n",
      "ProcessLookupError: [Errno 3] No such process\n",
      "\n",
      "During handling of the above exception, another exception occurred:\n",
      "\n",
      "Traceback (most recent call last):\n",
      "  File \"/Users/bramvandesande/miniconda3/envs/pyscenic_dev/lib/python3.6/site-packages/tornado/ioloop.py\", line 1026, in _run\n",
      "    return self.callback()\n",
      "  File \"/Users/bramvandesande/miniconda3/envs/pyscenic_dev/lib/python3.6/site-packages/distributed/nanny.py\", line 245, in memory_monitor\n",
      "    memory = psutil.Process(self.process.pid).memory_info().rss\n",
      "  File \"/Users/bramvandesande/miniconda3/envs/pyscenic_dev/lib/python3.6/site-packages/psutil/_common.py\", line 337, in wrapper\n",
      "    return fun(self)\n",
      "  File \"/Users/bramvandesande/miniconda3/envs/pyscenic_dev/lib/python3.6/site-packages/psutil/__init__.py\", line 1049, in memory_info\n",
      "    return self._proc.memory_info()\n",
      "  File \"/Users/bramvandesande/miniconda3/envs/pyscenic_dev/lib/python3.6/site-packages/psutil/_psosx.py\", line 330, in wrapper\n",
      "    return fun(self, *args, **kwargs)\n",
      "  File \"/Users/bramvandesande/miniconda3/envs/pyscenic_dev/lib/python3.6/site-packages/psutil/_psosx.py\", line 456, in memory_info\n",
      "    rawtuple = self._get_pidtaskinfo()\n",
      "  File \"/Users/bramvandesande/miniconda3/envs/pyscenic_dev/lib/python3.6/site-packages/psutil/_common.py\", line 337, in wrapper\n",
      "    return fun(self)\n",
      "  File \"/Users/bramvandesande/miniconda3/envs/pyscenic_dev/lib/python3.6/site-packages/psutil/_psosx.py\", line 387, in _get_pidtaskinfo\n",
      "    ret = cext.proc_pidtaskinfo_oneshot(self.pid)\n",
      "  File \"/Users/bramvandesande/miniconda3/envs/pyscenic_dev/lib/python3.6/contextlib.py\", line 99, in __exit__\n",
      "    self.gen.throw(type, value, traceback)\n",
      "  File \"/Users/bramvandesande/miniconda3/envs/pyscenic_dev/lib/python3.6/site-packages/psutil/_psosx.py\", line 361, in catch_zombie\n",
      "    raise AccessDenied(proc.pid, proc._name)\n",
      "psutil._exceptions.AccessDenied: psutil.AccessDenied (pid=7680)\n",
      "tornado.application - ERROR - Exception in callback <bound method Nanny.memory_monitor of <Nanny: tcp://127.0.0.1:52909, threads: 1>>\n",
      "Traceback (most recent call last):\n",
      "  File \"/Users/bramvandesande/miniconda3/envs/pyscenic_dev/lib/python3.6/site-packages/psutil/_psosx.py\", line 348, in catch_zombie\n",
      "    yield\n",
      "  File \"/Users/bramvandesande/miniconda3/envs/pyscenic_dev/lib/python3.6/site-packages/psutil/_psosx.py\", line 387, in _get_pidtaskinfo\n",
      "    ret = cext.proc_pidtaskinfo_oneshot(self.pid)\n",
      "ProcessLookupError: [Errno 3] No such process\n",
      "\n",
      "During handling of the above exception, another exception occurred:\n",
      "\n",
      "Traceback (most recent call last):\n",
      "  File \"/Users/bramvandesande/miniconda3/envs/pyscenic_dev/lib/python3.6/site-packages/tornado/ioloop.py\", line 1026, in _run\n",
      "    return self.callback()\n",
      "  File \"/Users/bramvandesande/miniconda3/envs/pyscenic_dev/lib/python3.6/site-packages/distributed/nanny.py\", line 245, in memory_monitor\n",
      "    memory = psutil.Process(self.process.pid).memory_info().rss\n",
      "  File \"/Users/bramvandesande/miniconda3/envs/pyscenic_dev/lib/python3.6/site-packages/psutil/_common.py\", line 337, in wrapper\n",
      "    return fun(self)\n",
      "  File \"/Users/bramvandesande/miniconda3/envs/pyscenic_dev/lib/python3.6/site-packages/psutil/__init__.py\", line 1049, in memory_info\n",
      "    return self._proc.memory_info()\n",
      "  File \"/Users/bramvandesande/miniconda3/envs/pyscenic_dev/lib/python3.6/site-packages/psutil/_psosx.py\", line 330, in wrapper\n",
      "    return fun(self, *args, **kwargs)\n",
      "  File \"/Users/bramvandesande/miniconda3/envs/pyscenic_dev/lib/python3.6/site-packages/psutil/_psosx.py\", line 456, in memory_info\n",
      "    rawtuple = self._get_pidtaskinfo()\n",
      "  File \"/Users/bramvandesande/miniconda3/envs/pyscenic_dev/lib/python3.6/site-packages/psutil/_common.py\", line 337, in wrapper\n",
      "    return fun(self)\n",
      "  File \"/Users/bramvandesande/miniconda3/envs/pyscenic_dev/lib/python3.6/site-packages/psutil/_psosx.py\", line 387, in _get_pidtaskinfo\n",
      "    ret = cext.proc_pidtaskinfo_oneshot(self.pid)\n",
      "  File \"/Users/bramvandesande/miniconda3/envs/pyscenic_dev/lib/python3.6/contextlib.py\", line 99, in __exit__\n",
      "    self.gen.throw(type, value, traceback)\n",
      "  File \"/Users/bramvandesande/miniconda3/envs/pyscenic_dev/lib/python3.6/site-packages/psutil/_psosx.py\", line 361, in catch_zombie\n",
      "    raise AccessDenied(proc.pid, proc._name)\n",
      "psutil._exceptions.AccessDenied: psutil.AccessDenied (pid=7680)\n",
      "tornado.application - ERROR - Exception in callback <bound method Nanny.memory_monitor of <Nanny: tcp://127.0.0.1:52909, threads: 1>>\n",
      "Traceback (most recent call last):\n",
      "  File \"/Users/bramvandesande/miniconda3/envs/pyscenic_dev/lib/python3.6/site-packages/psutil/_psosx.py\", line 348, in catch_zombie\n",
      "    yield\n",
      "  File \"/Users/bramvandesande/miniconda3/envs/pyscenic_dev/lib/python3.6/site-packages/psutil/_psosx.py\", line 387, in _get_pidtaskinfo\n",
      "    ret = cext.proc_pidtaskinfo_oneshot(self.pid)\n",
      "ProcessLookupError: [Errno 3] No such process\n",
      "\n",
      "During handling of the above exception, another exception occurred:\n",
      "\n",
      "Traceback (most recent call last):\n",
      "  File \"/Users/bramvandesande/miniconda3/envs/pyscenic_dev/lib/python3.6/site-packages/tornado/ioloop.py\", line 1026, in _run\n",
      "    return self.callback()\n",
      "  File \"/Users/bramvandesande/miniconda3/envs/pyscenic_dev/lib/python3.6/site-packages/distributed/nanny.py\", line 245, in memory_monitor\n",
      "    memory = psutil.Process(self.process.pid).memory_info().rss\n",
      "  File \"/Users/bramvandesande/miniconda3/envs/pyscenic_dev/lib/python3.6/site-packages/psutil/_common.py\", line 337, in wrapper\n",
      "    return fun(self)\n",
      "  File \"/Users/bramvandesande/miniconda3/envs/pyscenic_dev/lib/python3.6/site-packages/psutil/__init__.py\", line 1049, in memory_info\n",
      "    return self._proc.memory_info()\n",
      "  File \"/Users/bramvandesande/miniconda3/envs/pyscenic_dev/lib/python3.6/site-packages/psutil/_psosx.py\", line 330, in wrapper\n",
      "    return fun(self, *args, **kwargs)\n",
      "  File \"/Users/bramvandesande/miniconda3/envs/pyscenic_dev/lib/python3.6/site-packages/psutil/_psosx.py\", line 456, in memory_info\n",
      "    rawtuple = self._get_pidtaskinfo()\n",
      "  File \"/Users/bramvandesande/miniconda3/envs/pyscenic_dev/lib/python3.6/site-packages/psutil/_common.py\", line 337, in wrapper\n",
      "    return fun(self)\n",
      "  File \"/Users/bramvandesande/miniconda3/envs/pyscenic_dev/lib/python3.6/site-packages/psutil/_psosx.py\", line 387, in _get_pidtaskinfo\n",
      "    ret = cext.proc_pidtaskinfo_oneshot(self.pid)\n",
      "  File \"/Users/bramvandesande/miniconda3/envs/pyscenic_dev/lib/python3.6/contextlib.py\", line 99, in __exit__\n",
      "    self.gen.throw(type, value, traceback)\n",
      "  File \"/Users/bramvandesande/miniconda3/envs/pyscenic_dev/lib/python3.6/site-packages/psutil/_psosx.py\", line 361, in catch_zombie\n",
      "    raise AccessDenied(proc.pid, proc._name)\n",
      "psutil._exceptions.AccessDenied: psutil.AccessDenied (pid=7680)\n"
     ]
    },
    {
     "name": "stderr",
     "output_type": "stream",
     "text": [
      "tornado.application - ERROR - Exception in callback <bound method Nanny.memory_monitor of <Nanny: tcp://127.0.0.1:52909, threads: 1>>\n",
      "Traceback (most recent call last):\n",
      "  File \"/Users/bramvandesande/miniconda3/envs/pyscenic_dev/lib/python3.6/site-packages/psutil/_psosx.py\", line 348, in catch_zombie\n",
      "    yield\n",
      "  File \"/Users/bramvandesande/miniconda3/envs/pyscenic_dev/lib/python3.6/site-packages/psutil/_psosx.py\", line 387, in _get_pidtaskinfo\n",
      "    ret = cext.proc_pidtaskinfo_oneshot(self.pid)\n",
      "ProcessLookupError: [Errno 3] No such process\n",
      "\n",
      "During handling of the above exception, another exception occurred:\n",
      "\n",
      "Traceback (most recent call last):\n",
      "  File \"/Users/bramvandesande/miniconda3/envs/pyscenic_dev/lib/python3.6/site-packages/tornado/ioloop.py\", line 1026, in _run\n",
      "    return self.callback()\n",
      "  File \"/Users/bramvandesande/miniconda3/envs/pyscenic_dev/lib/python3.6/site-packages/distributed/nanny.py\", line 245, in memory_monitor\n",
      "    memory = psutil.Process(self.process.pid).memory_info().rss\n",
      "  File \"/Users/bramvandesande/miniconda3/envs/pyscenic_dev/lib/python3.6/site-packages/psutil/_common.py\", line 337, in wrapper\n",
      "    return fun(self)\n",
      "  File \"/Users/bramvandesande/miniconda3/envs/pyscenic_dev/lib/python3.6/site-packages/psutil/__init__.py\", line 1049, in memory_info\n",
      "    return self._proc.memory_info()\n",
      "  File \"/Users/bramvandesande/miniconda3/envs/pyscenic_dev/lib/python3.6/site-packages/psutil/_psosx.py\", line 330, in wrapper\n",
      "    return fun(self, *args, **kwargs)\n",
      "  File \"/Users/bramvandesande/miniconda3/envs/pyscenic_dev/lib/python3.6/site-packages/psutil/_psosx.py\", line 456, in memory_info\n",
      "    rawtuple = self._get_pidtaskinfo()\n",
      "  File \"/Users/bramvandesande/miniconda3/envs/pyscenic_dev/lib/python3.6/site-packages/psutil/_common.py\", line 337, in wrapper\n",
      "    return fun(self)\n",
      "  File \"/Users/bramvandesande/miniconda3/envs/pyscenic_dev/lib/python3.6/site-packages/psutil/_psosx.py\", line 387, in _get_pidtaskinfo\n",
      "    ret = cext.proc_pidtaskinfo_oneshot(self.pid)\n",
      "  File \"/Users/bramvandesande/miniconda3/envs/pyscenic_dev/lib/python3.6/contextlib.py\", line 99, in __exit__\n",
      "    self.gen.throw(type, value, traceback)\n",
      "  File \"/Users/bramvandesande/miniconda3/envs/pyscenic_dev/lib/python3.6/site-packages/psutil/_psosx.py\", line 361, in catch_zombie\n",
      "    raise AccessDenied(proc.pid, proc._name)\n",
      "psutil._exceptions.AccessDenied: psutil.AccessDenied (pid=7680)\n"
     ]
    }
   ],
   "source": [
    "regulomes"
   ]
  },
  {
   "cell_type": "code",
   "execution_count": 15,
   "metadata": {},
   "outputs": [],
   "source": [
    "custom_client.close()\n",
    "local_cluster.close()"
   ]
  },
  {
   "cell_type": "code",
   "execution_count": null,
   "metadata": {},
   "outputs": [],
   "source": []
  }
 ],
 "metadata": {
  "kernelspec": {
   "display_name": "Python 3.6.2 (pyscenic_dev)",
   "language": "python",
   "name": "pyscenic_dev"
  },
  "language_info": {
   "codemirror_mode": {
    "name": "ipython",
    "version": 3
   },
   "file_extension": ".py",
   "mimetype": "text/x-python",
   "name": "python",
   "nbconvert_exporter": "python",
   "pygments_lexer": "ipython3",
   "version": "3.6.2"
  }
 },
 "nbformat": 4,
 "nbformat_minor": 2
}
