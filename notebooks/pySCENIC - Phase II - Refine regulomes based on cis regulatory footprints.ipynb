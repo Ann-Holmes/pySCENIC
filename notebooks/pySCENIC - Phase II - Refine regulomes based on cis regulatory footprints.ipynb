{
 "cells": [
  {
   "cell_type": "markdown",
   "metadata": {},
   "source": [
    "__Author:__ Bram Van de Sande\n",
    "\n",
    "__Date:__ 7 FEB 2018\n",
    "\n",
    "__Outline:__ This notebook clarifies the process by which the co-expression modules derived from GENIE3 can be refined into true regulomes (i.e. excluding indirect targets of transcription factors). Aka \"RcisTarget\"."
   ]
  },
  {
   "cell_type": "code",
   "execution_count": 1,
   "metadata": {},
   "outputs": [
    {
     "data": {
      "text/html": [
       "\n",
       "    <div class=\"bk-root\">\n",
       "        <a href=\"https://bokeh.pydata.org\" target=\"_blank\" class=\"bk-logo bk-logo-small bk-logo-notebook\"></a>\n",
       "        <span id=\"7a5765aa-cf3c-4bcf-a65d-b7e9b8a8938d\">Loading BokehJS ...</span>\n",
       "    </div>"
      ]
     },
     "metadata": {},
     "output_type": "display_data"
    },
    {
     "data": {
      "application/javascript": [
       "\n",
       "(function(root) {\n",
       "  function now() {\n",
       "    return new Date();\n",
       "  }\n",
       "\n",
       "  var force = true;\n",
       "\n",
       "  if (typeof (root._bokeh_onload_callbacks) === \"undefined\" || force === true) {\n",
       "    root._bokeh_onload_callbacks = [];\n",
       "    root._bokeh_is_loading = undefined;\n",
       "  }\n",
       "\n",
       "  var JS_MIME_TYPE = 'application/javascript';\n",
       "  var HTML_MIME_TYPE = 'text/html';\n",
       "  var EXEC_MIME_TYPE = 'application/vnd.bokehjs_exec.v0+json';\n",
       "  var CLASS_NAME = 'output_bokeh rendered_html';\n",
       "\n",
       "  /**\n",
       "   * Render data to the DOM node\n",
       "   */\n",
       "  function render(props, node) {\n",
       "    var script = document.createElement(\"script\");\n",
       "    node.appendChild(script);\n",
       "  }\n",
       "\n",
       "  /**\n",
       "   * Handle when an output is cleared or removed\n",
       "   */\n",
       "  function handleClearOutput(event, handle) {\n",
       "    var cell = handle.cell;\n",
       "\n",
       "    var id = cell.output_area._bokeh_element_id;\n",
       "    var server_id = cell.output_area._bokeh_server_id;\n",
       "    // Clean up Bokeh references\n",
       "    if (id !== undefined) {\n",
       "      Bokeh.index[id].model.document.clear();\n",
       "      delete Bokeh.index[id];\n",
       "    }\n",
       "\n",
       "    if (server_id !== undefined) {\n",
       "      // Clean up Bokeh references\n",
       "      var cmd = \"from bokeh.io.state import curstate; print(curstate().uuid_to_server['\" + server_id + \"'].get_sessions()[0].document.roots[0]._id)\";\n",
       "      cell.notebook.kernel.execute(cmd, {\n",
       "        iopub: {\n",
       "          output: function(msg) {\n",
       "            var element_id = msg.content.text.trim();\n",
       "            Bokeh.index[element_id].model.document.clear();\n",
       "            delete Bokeh.index[element_id];\n",
       "          }\n",
       "        }\n",
       "      });\n",
       "      // Destroy server and session\n",
       "      var cmd = \"import bokeh.io.notebook as ion; ion.destroy_server('\" + server_id + \"')\";\n",
       "      cell.notebook.kernel.execute(cmd);\n",
       "    }\n",
       "  }\n",
       "\n",
       "  /**\n",
       "   * Handle when a new output is added\n",
       "   */\n",
       "  function handleAddOutput(event, handle) {\n",
       "    var output_area = handle.output_area;\n",
       "    var output = handle.output;\n",
       "\n",
       "    // limit handleAddOutput to display_data with EXEC_MIME_TYPE content only\n",
       "    if ((output.output_type != \"display_data\") || (!output.data.hasOwnProperty(EXEC_MIME_TYPE))) {\n",
       "      return\n",
       "    }\n",
       "\n",
       "    var toinsert = output_area.element.find(\".\" + CLASS_NAME.split(' ')[0]);\n",
       "\n",
       "    if (output.metadata[EXEC_MIME_TYPE][\"id\"] !== undefined) {\n",
       "      toinsert[0].firstChild.textContent = output.data[JS_MIME_TYPE];\n",
       "      // store reference to embed id on output_area\n",
       "      output_area._bokeh_element_id = output.metadata[EXEC_MIME_TYPE][\"id\"];\n",
       "    }\n",
       "    if (output.metadata[EXEC_MIME_TYPE][\"server_id\"] !== undefined) {\n",
       "      var bk_div = document.createElement(\"div\");\n",
       "      bk_div.innerHTML = output.data[HTML_MIME_TYPE];\n",
       "      var script_attrs = bk_div.children[0].attributes;\n",
       "      for (var i = 0; i < script_attrs.length; i++) {\n",
       "        toinsert[0].firstChild.setAttribute(script_attrs[i].name, script_attrs[i].value);\n",
       "      }\n",
       "      // store reference to server id on output_area\n",
       "      output_area._bokeh_server_id = output.metadata[EXEC_MIME_TYPE][\"server_id\"];\n",
       "    }\n",
       "  }\n",
       "\n",
       "  function register_renderer(events, OutputArea) {\n",
       "\n",
       "    function append_mime(data, metadata, element) {\n",
       "      // create a DOM node to render to\n",
       "      var toinsert = this.create_output_subarea(\n",
       "        metadata,\n",
       "        CLASS_NAME,\n",
       "        EXEC_MIME_TYPE\n",
       "      );\n",
       "      this.keyboard_manager.register_events(toinsert);\n",
       "      // Render to node\n",
       "      var props = {data: data, metadata: metadata[EXEC_MIME_TYPE]};\n",
       "      render(props, toinsert[0]);\n",
       "      element.append(toinsert);\n",
       "      return toinsert\n",
       "    }\n",
       "\n",
       "    /* Handle when an output is cleared or removed */\n",
       "    events.on('clear_output.CodeCell', handleClearOutput);\n",
       "    events.on('delete.Cell', handleClearOutput);\n",
       "\n",
       "    /* Handle when a new output is added */\n",
       "    events.on('output_added.OutputArea', handleAddOutput);\n",
       "\n",
       "    /**\n",
       "     * Register the mime type and append_mime function with output_area\n",
       "     */\n",
       "    OutputArea.prototype.register_mime_type(EXEC_MIME_TYPE, append_mime, {\n",
       "      /* Is output safe? */\n",
       "      safe: true,\n",
       "      /* Index of renderer in `output_area.display_order` */\n",
       "      index: 0\n",
       "    });\n",
       "  }\n",
       "\n",
       "  // register the mime type if in Jupyter Notebook environment and previously unregistered\n",
       "  if (root.Jupyter !== undefined) {\n",
       "    var events = require('base/js/events');\n",
       "    var OutputArea = require('notebook/js/outputarea').OutputArea;\n",
       "\n",
       "    if (OutputArea.prototype.mime_types().indexOf(EXEC_MIME_TYPE) == -1) {\n",
       "      register_renderer(events, OutputArea);\n",
       "    }\n",
       "  }\n",
       "\n",
       "  \n",
       "  if (typeof (root._bokeh_timeout) === \"undefined\" || force === true) {\n",
       "    root._bokeh_timeout = Date.now() + 5000;\n",
       "    root._bokeh_failed_load = false;\n",
       "  }\n",
       "\n",
       "  var NB_LOAD_WARNING = {'data': {'text/html':\n",
       "     \"<div style='background-color: #fdd'>\\n\"+\n",
       "     \"<p>\\n\"+\n",
       "     \"BokehJS does not appear to have successfully loaded. If loading BokehJS from CDN, this \\n\"+\n",
       "     \"may be due to a slow or bad network connection. Possible fixes:\\n\"+\n",
       "     \"</p>\\n\"+\n",
       "     \"<ul>\\n\"+\n",
       "     \"<li>re-rerun `output_notebook()` to attempt to load from CDN again, or</li>\\n\"+\n",
       "     \"<li>use INLINE resources instead, as so:</li>\\n\"+\n",
       "     \"</ul>\\n\"+\n",
       "     \"<code>\\n\"+\n",
       "     \"from bokeh.resources import INLINE\\n\"+\n",
       "     \"output_notebook(resources=INLINE)\\n\"+\n",
       "     \"</code>\\n\"+\n",
       "     \"</div>\"}};\n",
       "\n",
       "  function display_loaded() {\n",
       "    var el = document.getElementById(\"7a5765aa-cf3c-4bcf-a65d-b7e9b8a8938d\");\n",
       "    if (el != null) {\n",
       "      el.textContent = \"BokehJS is loading...\";\n",
       "    }\n",
       "    if (root.Bokeh !== undefined) {\n",
       "      if (el != null) {\n",
       "        el.textContent = \"BokehJS \" + root.Bokeh.version + \" successfully loaded.\";\n",
       "      }\n",
       "    } else if (Date.now() < root._bokeh_timeout) {\n",
       "      setTimeout(display_loaded, 100)\n",
       "    }\n",
       "  }\n",
       "\n",
       "\n",
       "  function run_callbacks() {\n",
       "    try {\n",
       "      root._bokeh_onload_callbacks.forEach(function(callback) { callback() });\n",
       "    }\n",
       "    finally {\n",
       "      delete root._bokeh_onload_callbacks\n",
       "    }\n",
       "    console.info(\"Bokeh: all callbacks have finished\");\n",
       "  }\n",
       "\n",
       "  function load_libs(js_urls, callback) {\n",
       "    root._bokeh_onload_callbacks.push(callback);\n",
       "    if (root._bokeh_is_loading > 0) {\n",
       "      console.log(\"Bokeh: BokehJS is being loaded, scheduling callback at\", now());\n",
       "      return null;\n",
       "    }\n",
       "    if (js_urls == null || js_urls.length === 0) {\n",
       "      run_callbacks();\n",
       "      return null;\n",
       "    }\n",
       "    console.log(\"Bokeh: BokehJS not loaded, scheduling load and callback at\", now());\n",
       "    root._bokeh_is_loading = js_urls.length;\n",
       "    for (var i = 0; i < js_urls.length; i++) {\n",
       "      var url = js_urls[i];\n",
       "      var s = document.createElement('script');\n",
       "      s.src = url;\n",
       "      s.async = false;\n",
       "      s.onreadystatechange = s.onload = function() {\n",
       "        root._bokeh_is_loading--;\n",
       "        if (root._bokeh_is_loading === 0) {\n",
       "          console.log(\"Bokeh: all BokehJS libraries loaded\");\n",
       "          run_callbacks()\n",
       "        }\n",
       "      };\n",
       "      s.onerror = function() {\n",
       "        console.warn(\"failed to load library \" + url);\n",
       "      };\n",
       "      console.log(\"Bokeh: injecting script tag for BokehJS library: \", url);\n",
       "      document.getElementsByTagName(\"head\")[0].appendChild(s);\n",
       "    }\n",
       "  };var element = document.getElementById(\"7a5765aa-cf3c-4bcf-a65d-b7e9b8a8938d\");\n",
       "  if (element == null) {\n",
       "    console.log(\"Bokeh: ERROR: autoload.js configured with elementid '7a5765aa-cf3c-4bcf-a65d-b7e9b8a8938d' but no matching script tag was found. \")\n",
       "    return false;\n",
       "  }\n",
       "\n",
       "  var js_urls = [\"https://cdn.pydata.org/bokeh/release/bokeh-0.12.13.min.js\", \"https://cdn.pydata.org/bokeh/release/bokeh-widgets-0.12.13.min.js\", \"https://cdn.pydata.org/bokeh/release/bokeh-tables-0.12.13.min.js\", \"https://cdn.pydata.org/bokeh/release/bokeh-gl-0.12.13.min.js\"];\n",
       "\n",
       "  var inline_js = [\n",
       "    function(Bokeh) {\n",
       "      Bokeh.set_log_level(\"info\");\n",
       "    },\n",
       "    \n",
       "    function(Bokeh) {\n",
       "      \n",
       "    },\n",
       "    function(Bokeh) {\n",
       "      console.log(\"Bokeh: injecting CSS: https://cdn.pydata.org/bokeh/release/bokeh-0.12.13.min.css\");\n",
       "      Bokeh.embed.inject_css(\"https://cdn.pydata.org/bokeh/release/bokeh-0.12.13.min.css\");\n",
       "      console.log(\"Bokeh: injecting CSS: https://cdn.pydata.org/bokeh/release/bokeh-widgets-0.12.13.min.css\");\n",
       "      Bokeh.embed.inject_css(\"https://cdn.pydata.org/bokeh/release/bokeh-widgets-0.12.13.min.css\");\n",
       "      console.log(\"Bokeh: injecting CSS: https://cdn.pydata.org/bokeh/release/bokeh-tables-0.12.13.min.css\");\n",
       "      Bokeh.embed.inject_css(\"https://cdn.pydata.org/bokeh/release/bokeh-tables-0.12.13.min.css\");\n",
       "    }\n",
       "  ];\n",
       "\n",
       "  function run_inline_js() {\n",
       "    \n",
       "    if ((root.Bokeh !== undefined) || (force === true)) {\n",
       "      for (var i = 0; i < inline_js.length; i++) {\n",
       "        inline_js[i].call(root, root.Bokeh);\n",
       "      }if (force === true) {\n",
       "        display_loaded();\n",
       "      }} else if (Date.now() < root._bokeh_timeout) {\n",
       "      setTimeout(run_inline_js, 100);\n",
       "    } else if (!root._bokeh_failed_load) {\n",
       "      console.log(\"Bokeh: BokehJS failed to load within specified timeout.\");\n",
       "      root._bokeh_failed_load = true;\n",
       "    } else if (force !== true) {\n",
       "      var cell = $(document.getElementById(\"7a5765aa-cf3c-4bcf-a65d-b7e9b8a8938d\")).parents('.cell').data().cell;\n",
       "      cell.output_area.append_execute_result(NB_LOAD_WARNING)\n",
       "    }\n",
       "\n",
       "  }\n",
       "\n",
       "  if (root._bokeh_is_loading === 0) {\n",
       "    console.log(\"Bokeh: BokehJS loaded, going straight to plotting\");\n",
       "    run_inline_js();\n",
       "  } else {\n",
       "    load_libs(js_urls, function() {\n",
       "      console.log(\"Bokeh: BokehJS plotting callback run at\", now());\n",
       "      run_inline_js();\n",
       "    });\n",
       "  }\n",
       "}(window));"
      ],
      "application/vnd.bokehjs_load.v0+json": "\n(function(root) {\n  function now() {\n    return new Date();\n  }\n\n  var force = true;\n\n  if (typeof (root._bokeh_onload_callbacks) === \"undefined\" || force === true) {\n    root._bokeh_onload_callbacks = [];\n    root._bokeh_is_loading = undefined;\n  }\n\n  \n\n  \n  if (typeof (root._bokeh_timeout) === \"undefined\" || force === true) {\n    root._bokeh_timeout = Date.now() + 5000;\n    root._bokeh_failed_load = false;\n  }\n\n  var NB_LOAD_WARNING = {'data': {'text/html':\n     \"<div style='background-color: #fdd'>\\n\"+\n     \"<p>\\n\"+\n     \"BokehJS does not appear to have successfully loaded. If loading BokehJS from CDN, this \\n\"+\n     \"may be due to a slow or bad network connection. Possible fixes:\\n\"+\n     \"</p>\\n\"+\n     \"<ul>\\n\"+\n     \"<li>re-rerun `output_notebook()` to attempt to load from CDN again, or</li>\\n\"+\n     \"<li>use INLINE resources instead, as so:</li>\\n\"+\n     \"</ul>\\n\"+\n     \"<code>\\n\"+\n     \"from bokeh.resources import INLINE\\n\"+\n     \"output_notebook(resources=INLINE)\\n\"+\n     \"</code>\\n\"+\n     \"</div>\"}};\n\n  function display_loaded() {\n    var el = document.getElementById(\"7a5765aa-cf3c-4bcf-a65d-b7e9b8a8938d\");\n    if (el != null) {\n      el.textContent = \"BokehJS is loading...\";\n    }\n    if (root.Bokeh !== undefined) {\n      if (el != null) {\n        el.textContent = \"BokehJS \" + root.Bokeh.version + \" successfully loaded.\";\n      }\n    } else if (Date.now() < root._bokeh_timeout) {\n      setTimeout(display_loaded, 100)\n    }\n  }\n\n\n  function run_callbacks() {\n    try {\n      root._bokeh_onload_callbacks.forEach(function(callback) { callback() });\n    }\n    finally {\n      delete root._bokeh_onload_callbacks\n    }\n    console.info(\"Bokeh: all callbacks have finished\");\n  }\n\n  function load_libs(js_urls, callback) {\n    root._bokeh_onload_callbacks.push(callback);\n    if (root._bokeh_is_loading > 0) {\n      console.log(\"Bokeh: BokehJS is being loaded, scheduling callback at\", now());\n      return null;\n    }\n    if (js_urls == null || js_urls.length === 0) {\n      run_callbacks();\n      return null;\n    }\n    console.log(\"Bokeh: BokehJS not loaded, scheduling load and callback at\", now());\n    root._bokeh_is_loading = js_urls.length;\n    for (var i = 0; i < js_urls.length; i++) {\n      var url = js_urls[i];\n      var s = document.createElement('script');\n      s.src = url;\n      s.async = false;\n      s.onreadystatechange = s.onload = function() {\n        root._bokeh_is_loading--;\n        if (root._bokeh_is_loading === 0) {\n          console.log(\"Bokeh: all BokehJS libraries loaded\");\n          run_callbacks()\n        }\n      };\n      s.onerror = function() {\n        console.warn(\"failed to load library \" + url);\n      };\n      console.log(\"Bokeh: injecting script tag for BokehJS library: \", url);\n      document.getElementsByTagName(\"head\")[0].appendChild(s);\n    }\n  };var element = document.getElementById(\"7a5765aa-cf3c-4bcf-a65d-b7e9b8a8938d\");\n  if (element == null) {\n    console.log(\"Bokeh: ERROR: autoload.js configured with elementid '7a5765aa-cf3c-4bcf-a65d-b7e9b8a8938d' but no matching script tag was found. \")\n    return false;\n  }\n\n  var js_urls = [\"https://cdn.pydata.org/bokeh/release/bokeh-0.12.13.min.js\", \"https://cdn.pydata.org/bokeh/release/bokeh-widgets-0.12.13.min.js\", \"https://cdn.pydata.org/bokeh/release/bokeh-tables-0.12.13.min.js\", \"https://cdn.pydata.org/bokeh/release/bokeh-gl-0.12.13.min.js\"];\n\n  var inline_js = [\n    function(Bokeh) {\n      Bokeh.set_log_level(\"info\");\n    },\n    \n    function(Bokeh) {\n      \n    },\n    function(Bokeh) {\n      console.log(\"Bokeh: injecting CSS: https://cdn.pydata.org/bokeh/release/bokeh-0.12.13.min.css\");\n      Bokeh.embed.inject_css(\"https://cdn.pydata.org/bokeh/release/bokeh-0.12.13.min.css\");\n      console.log(\"Bokeh: injecting CSS: https://cdn.pydata.org/bokeh/release/bokeh-widgets-0.12.13.min.css\");\n      Bokeh.embed.inject_css(\"https://cdn.pydata.org/bokeh/release/bokeh-widgets-0.12.13.min.css\");\n      console.log(\"Bokeh: injecting CSS: https://cdn.pydata.org/bokeh/release/bokeh-tables-0.12.13.min.css\");\n      Bokeh.embed.inject_css(\"https://cdn.pydata.org/bokeh/release/bokeh-tables-0.12.13.min.css\");\n    }\n  ];\n\n  function run_inline_js() {\n    \n    if ((root.Bokeh !== undefined) || (force === true)) {\n      for (var i = 0; i < inline_js.length; i++) {\n        inline_js[i].call(root, root.Bokeh);\n      }if (force === true) {\n        display_loaded();\n      }} else if (Date.now() < root._bokeh_timeout) {\n      setTimeout(run_inline_js, 100);\n    } else if (!root._bokeh_failed_load) {\n      console.log(\"Bokeh: BokehJS failed to load within specified timeout.\");\n      root._bokeh_failed_load = true;\n    } else if (force !== true) {\n      var cell = $(document.getElementById(\"7a5765aa-cf3c-4bcf-a65d-b7e9b8a8938d\")).parents('.cell').data().cell;\n      cell.output_area.append_execute_result(NB_LOAD_WARNING)\n    }\n\n  }\n\n  if (root._bokeh_is_loading === 0) {\n    console.log(\"Bokeh: BokehJS loaded, going straight to plotting\");\n    run_inline_js();\n  } else {\n    load_libs(js_urls, function() {\n      console.log(\"Bokeh: BokehJS plotting callback run at\", now());\n      run_inline_js();\n    });\n  }\n}(window));"
     },
     "metadata": {},
     "output_type": "display_data"
    }
   ],
   "source": [
    "import os\n",
    "import glob\n",
    "import pickle\n",
    "import numpy as np\n",
    "import pandas as pd\n",
    "import matplotlib.pyplot as plt\n",
    "\n",
    "from pyscenic.rnkdb import FeatherRankingDatabase as RankingDatabase, SQLiteRankingDatabase, MemoryDecorator\n",
    "from pyscenic.genesig import GeneSignature, Regulome\n",
    "from pyscenic.regulome import module2regulome_bincount_impl, derive_regulomes, module2regulome_numba_impl\n",
    "from pyscenic.utils import load_motif_annotations\n",
    "\n",
    "from dask import delayed\n",
    "from dask.dot import dot_graph\n",
    "from dask.multiprocessing import get\n",
    "from dask.diagnostics import Profiler, ResourceProfiler, CacheProfiler\n",
    "from dask.diagnostics import ProgressBar\n",
    "from distributed import LocalCluster, Client\n",
    "from bokeh.io import output_notebook, push_notebook, show\n",
    "output_notebook()\n",
    "from dask.diagnostics import visualize"
   ]
  },
  {
   "cell_type": "code",
   "execution_count": 2,
   "metadata": {},
   "outputs": [],
   "source": [
    "%load_ext snakeviz\n",
    "%load_ext line_profiler"
   ]
  },
  {
   "cell_type": "code",
   "execution_count": 3,
   "metadata": {},
   "outputs": [],
   "source": [
    "DATA_FOLDER=\"/Users/bramvandesande/Projects/lcb/tmp\"\n",
    "RESOURCES_FOLDER=\"/Users/bramvandesande/Projects/lcb/resources\"\n",
    "DATABASE_FOLDER = \"/Users/bramvandesande/Projects/lcb/databases/\"\n",
    "\n",
    "SQLITE_GLOB = os.path.join(DATABASE_FOLDER, \"mm9-*.db\")\n",
    "FEATHER_GLOB = os.path.join(DATABASE_FOLDER, \"mm9-*.feather\")\n",
    "\n",
    "MOTIF_ANNOTATIONS_FNAME = os.path.join(RESOURCES_FOLDER, \"motifs-v9-nr.mgi-m0.001-o0.0.tbl\")\n",
    "\n",
    "NOMENCLATURE = \"MGI\""
   ]
  },
  {
   "cell_type": "markdown",
   "metadata": {},
   "source": [
    "Make databases in feather format are available."
   ]
  },
  {
   "cell_type": "code",
   "execution_count": 4,
   "metadata": {},
   "outputs": [],
   "source": [
    "if False:\n",
    "    def derive_db_name(fname):\n",
    "        return os.path.basename(fname).split(\".\")[0]\n",
    "\n",
    "    from pyscenic.rnkdb import convert2feather\n",
    "    \n",
    "    for fname in glob.glob(SQLITE_GLOB):\n",
    "        convert2feather(fname, DATABASE_FOLDER, derive_db_name(fname), NOMENCLATURE)"
   ]
  },
  {
   "cell_type": "markdown",
   "metadata": {},
   "source": [
    "### Load resources"
   ]
  },
  {
   "cell_type": "markdown",
   "metadata": {},
   "source": [
    "Co-expression modules were derived from GENIE3 output."
   ]
  },
  {
   "cell_type": "code",
   "execution_count": 5,
   "metadata": {},
   "outputs": [],
   "source": [
    "with open(os.path.join(DATA_FOLDER,'modules.pickle'), 'rb') as f:\n",
    "    modules = pickle.load(f)"
   ]
  },
  {
   "cell_type": "code",
   "execution_count": 6,
   "metadata": {},
   "outputs": [
    {
     "data": {
      "text/plain": [
       "5106"
      ]
     },
     "execution_count": 6,
     "metadata": {},
     "output_type": "execute_result"
    }
   ],
   "source": [
    "len(modules)"
   ]
  },
  {
   "cell_type": "markdown",
   "metadata": {},
   "source": [
    "### Load whole genome ranking databases\n",
    "\n",
    "All implementations of the database are loaded for performance testing."
   ]
  },
  {
   "cell_type": "code",
   "execution_count": 7,
   "metadata": {},
   "outputs": [],
   "source": [
    "def name(fname):\n",
    "    return os.path.basename(fname).split(\".\")[0]"
   ]
  },
  {
   "cell_type": "code",
   "execution_count": 8,
   "metadata": {},
   "outputs": [],
   "source": [
    "db_fnames = glob.glob(FEATHER_GLOB)\n",
    "dbs = [RankingDatabase(fname=fname, name=name(fname), nomenclature=\"MGI\") for fname in db_fnames]"
   ]
  },
  {
   "cell_type": "code",
   "execution_count": 9,
   "metadata": {},
   "outputs": [
    {
     "data": {
      "text/plain": [
       "6"
      ]
     },
     "execution_count": 9,
     "metadata": {},
     "output_type": "execute_result"
    }
   ],
   "source": [
    "len(dbs)"
   ]
  },
  {
   "cell_type": "code",
   "execution_count": 10,
   "metadata": {},
   "outputs": [],
   "source": [
    "sqldb_fnames = glob.glob(SQLITE_GLOB)\n",
    "sqldbs = [SQLiteRankingDatabase(fname=fname, name=name(fname), nomenclature=\"MGI\") for fname in sqldb_fnames]"
   ]
  },
  {
   "cell_type": "code",
   "execution_count": 11,
   "metadata": {},
   "outputs": [
    {
     "data": {
      "text/plain": [
       "6"
      ]
     },
     "execution_count": 11,
     "metadata": {},
     "output_type": "execute_result"
    }
   ],
   "source": [
    "len(sqldbs)"
   ]
  },
  {
   "cell_type": "code",
   "execution_count": 12,
   "metadata": {},
   "outputs": [],
   "source": [
    "memdb = MemoryDecorator(dbs[0])"
   ]
  },
  {
   "cell_type": "markdown",
   "metadata": {},
   "source": [
    "### Load motif annotations"
   ]
  },
  {
   "cell_type": "code",
   "execution_count": 13,
   "metadata": {},
   "outputs": [],
   "source": [
    "motif_annotations = load_motif_annotations(MOTIF_ANNOTATIONS_FNAME)"
   ]
  },
  {
   "cell_type": "code",
   "execution_count": 14,
   "metadata": {},
   "outputs": [
    {
     "data": {
      "text/html": [
       "<div>\n",
       "<style scoped>\n",
       "    .dataframe tbody tr th:only-of-type {\n",
       "        vertical-align: middle;\n",
       "    }\n",
       "\n",
       "    .dataframe tbody tr th {\n",
       "        vertical-align: top;\n",
       "    }\n",
       "\n",
       "    .dataframe thead th {\n",
       "        text-align: right;\n",
       "    }\n",
       "</style>\n",
       "<table border=\"1\" class=\"dataframe\">\n",
       "  <thead>\n",
       "    <tr style=\"text-align: right;\">\n",
       "      <th></th>\n",
       "      <th></th>\n",
       "      <th>motif_similarity_qvalue</th>\n",
       "      <th>orthologous_identity</th>\n",
       "      <th>description</th>\n",
       "    </tr>\n",
       "    <tr>\n",
       "      <th>gene_name</th>\n",
       "      <th>#motif_id</th>\n",
       "      <th></th>\n",
       "      <th></th>\n",
       "      <th></th>\n",
       "    </tr>\n",
       "  </thead>\n",
       "  <tbody>\n",
       "    <tr>\n",
       "      <th>Hoxa9</th>\n",
       "      <th>bergman__Abd-B</th>\n",
       "      <td>0.0006</td>\n",
       "      <td>1.000000</td>\n",
       "      <td>gene is annotated for similar motif cisbp__M10...</td>\n",
       "    </tr>\n",
       "    <tr>\n",
       "      <th>Zfp128</th>\n",
       "      <th>bergman__Aef1</th>\n",
       "      <td>0.0000</td>\n",
       "      <td>0.220264</td>\n",
       "      <td>motif is annotated for orthologous gene FBgn00...</td>\n",
       "    </tr>\n",
       "    <tr>\n",
       "      <th>Zfp853</th>\n",
       "      <th>bergman__Cf2</th>\n",
       "      <td>0.0000</td>\n",
       "      <td>0.166667</td>\n",
       "      <td>motif is annotated for orthologous gene FBgn00...</td>\n",
       "    </tr>\n",
       "    <tr>\n",
       "      <th>Nr1h2</th>\n",
       "      <th>bergman__EcR_usp</th>\n",
       "      <td>0.0000</td>\n",
       "      <td>0.378924</td>\n",
       "      <td>gene is orthologous to FBgn0000546 in D. melan...</td>\n",
       "    </tr>\n",
       "    <tr>\n",
       "      <th>Nr1h3</th>\n",
       "      <th>bergman__EcR_usp</th>\n",
       "      <td>0.0000</td>\n",
       "      <td>0.408989</td>\n",
       "      <td>gene is orthologous to FBgn0000546 in D. melan...</td>\n",
       "    </tr>\n",
       "  </tbody>\n",
       "</table>\n",
       "</div>"
      ],
      "text/plain": [
       "                            motif_similarity_qvalue  orthologous_identity  \\\n",
       "gene_name #motif_id                                                         \n",
       "Hoxa9     bergman__Abd-B                     0.0006              1.000000   \n",
       "Zfp128    bergman__Aef1                      0.0000              0.220264   \n",
       "Zfp853    bergman__Cf2                       0.0000              0.166667   \n",
       "Nr1h2     bergman__EcR_usp                   0.0000              0.378924   \n",
       "Nr1h3     bergman__EcR_usp                   0.0000              0.408989   \n",
       "\n",
       "                                                                  description  \n",
       "gene_name #motif_id                                                            \n",
       "Hoxa9     bergman__Abd-B    gene is annotated for similar motif cisbp__M10...  \n",
       "Zfp128    bergman__Aef1     motif is annotated for orthologous gene FBgn00...  \n",
       "Zfp853    bergman__Cf2      motif is annotated for orthologous gene FBgn00...  \n",
       "Nr1h2     bergman__EcR_usp  gene is orthologous to FBgn0000546 in D. melan...  \n",
       "Nr1h3     bergman__EcR_usp  gene is orthologous to FBgn0000546 in D. melan...  "
      ]
     },
     "execution_count": 14,
     "metadata": {},
     "output_type": "execute_result"
    }
   ],
   "source": [
    "motif_annotations.head()"
   ]
  },
  {
   "cell_type": "markdown",
   "metadata": {},
   "source": [
    "### Single-thread pipeline\n",
    "\n",
    "Before scaling it via dask to work on the full combinatorial space of databases x modules."
   ]
  },
  {
   "cell_type": "code",
   "execution_count": 15,
   "metadata": {},
   "outputs": [],
   "source": [
    "module2regulome = module2regulome_bincount_impl"
   ]
  },
  {
   "cell_type": "markdown",
   "metadata": {},
   "source": [
    "#### Feather-based storage + bincount implementation"
   ]
  },
  {
   "cell_type": "code",
   "execution_count": 16,
   "metadata": {},
   "outputs": [],
   "source": [
    "%lprun -f module2regulome list((idx, module2regulome(dbs[0], module, motif_annotations)) for idx, module in enumerate(modules[0:25]))"
   ]
  },
  {
   "cell_type": "code",
   "execution_count": 17,
   "metadata": {},
   "outputs": [
    {
     "name": "stdout",
     "output_type": "stream",
     "text": [
      " \n",
      "*** Profile stats marshalled to file '/var/folders/cj/xhw0rd3s7hg5k4p78t4s3hph0000gn/T/tmpyziub1gk'. \n"
     ]
    }
   ],
   "source": [
    "%%snakeviz\n",
    "regulomes = list((idx, module2regulome(dbs[0], module, motif_annotations)) for idx, module in enumerate(modules[0:25]))"
   ]
  },
  {
   "cell_type": "markdown",
   "metadata": {},
   "source": [
    "1. General performance is 78s for executing `module2regulome` 25 times.\n",
    "1. 79% of time is spent at `recovery` and 18% at `db.load`."
   ]
  },
  {
   "cell_type": "markdown",
   "metadata": {},
   "source": [
    "#### SQLite-based storage + bincount implementation"
   ]
  },
  {
   "cell_type": "code",
   "execution_count": 18,
   "metadata": {},
   "outputs": [],
   "source": [
    "%lprun -f module2regulome list((idx, module2regulome(sqldbs[0], module, motif_annotations)) for idx, module in enumerate(modules[0:25]))"
   ]
  },
  {
   "cell_type": "code",
   "execution_count": 19,
   "metadata": {},
   "outputs": [
    {
     "name": "stdout",
     "output_type": "stream",
     "text": [
      " \n",
      "*** Profile stats marshalled to file '/var/folders/cj/xhw0rd3s7hg5k4p78t4s3hph0000gn/T/tmpzsg2nvjf'. \n"
     ]
    }
   ],
   "source": [
    "%%snakeviz\n",
    "regulomes = list((idx, module2regulome(sqldbs[0], module, motif_annotations)) for idx, module in enumerate(modules[0:25]))"
   ]
  },
  {
   "cell_type": "markdown",
   "metadata": {},
   "source": [
    "1. General performance is 83s for executing `module2regulome` 25 times.\n",
    "1. 42% of time is spent at `recovery` and 56% at `db.load`."
   ]
  },
  {
   "cell_type": "markdown",
   "metadata": {},
   "source": [
    "#### In-memory database + bincount implementation"
   ]
  },
  {
   "cell_type": "code",
   "execution_count": 20,
   "metadata": {},
   "outputs": [],
   "source": [
    "%lprun -f module2regulome list((idx, module2regulome(memdb, module, motif_annotations)) for idx, module in enumerate(modules[0:25]))"
   ]
  },
  {
   "cell_type": "code",
   "execution_count": 23,
   "metadata": {},
   "outputs": [
    {
     "name": "stdout",
     "output_type": "stream",
     "text": [
      " \n",
      "*** Profile stats marshalled to file '/var/folders/cj/xhw0rd3s7hg5k4p78t4s3hph0000gn/T/tmpfwp_6eat'. \n"
     ]
    }
   ],
   "source": [
    "%%snakeviz\n",
    "regulomes = list((idx, module2regulome(memdb, module, motif_annotations)) for idx, module in enumerate(modules[0:25]))"
   ]
  },
  {
   "cell_type": "markdown",
   "metadata": {},
   "source": [
    "1. General performance is 78s for executing `module2regulome` 25 times.\n",
    "1. 89% of time is spent at `recovery` and 8.5% at `db.load`."
   ]
  },
  {
   "cell_type": "markdown",
   "metadata": {},
   "source": [
    "#### In-memory database + bincount implementation: assess effect of reducing rank_threshold parameter"
   ]
  },
  {
   "cell_type": "code",
   "execution_count": 21,
   "metadata": {},
   "outputs": [],
   "source": [
    "%lprun -f module2regulome list((idx, module2regulome(memdb, module, motif_annotations, auc_threshold=0.01, rank_threshold=750)) for idx, module in enumerate(modules[0:25]))"
   ]
  },
  {
   "cell_type": "markdown",
   "metadata": {},
   "source": [
    "1. General performance is 69s for executing `module2regulome` 25 times.\n",
    "1. 93% of time is spent at `recovery` and 4.4% at `db.load`."
   ]
  },
  {
   "cell_type": "markdown",
   "metadata": {},
   "source": [
    "#### Feather-based storage + numba implementation"
   ]
  },
  {
   "cell_type": "code",
   "execution_count": 15,
   "metadata": {},
   "outputs": [
    {
     "name": "stdout",
     "output_type": "stream",
     "text": [
      " \n",
      "*** Profile stats marshalled to file '/var/folders/cj/xhw0rd3s7hg5k4p78t4s3hph0000gn/T/tmppk10rqe2'. \n"
     ]
    }
   ],
   "source": [
    "%%snakeviz\n",
    "regulomes = list((idx, module2regulome_numba_impl(dbs[0], module, motif_annotations)) for idx, module in enumerate(modules[0:25]))"
   ]
  },
  {
   "cell_type": "markdown",
   "metadata": {},
   "source": [
    "1. General performance is 49s for executing `module2regulome` 25 times.\n",
    "1. 47% of time is spent at `recovery` and 24% at `db.load`."
   ]
  },
  {
   "cell_type": "markdown",
   "metadata": {},
   "source": [
    "#### Approach combining all potential improvements (in-memory database, auc-only calculation to assess enriched features and numba JIT implementation)."
   ]
  },
  {
   "cell_type": "code",
   "execution_count": 16,
   "metadata": {},
   "outputs": [
    {
     "name": "stdout",
     "output_type": "stream",
     "text": [
      " \n",
      "*** Profile stats marshalled to file '/var/folders/cj/xhw0rd3s7hg5k4p78t4s3hph0000gn/T/tmpqoyeb21k'. \n"
     ]
    }
   ],
   "source": [
    "%%snakeviz\n",
    "regulomes = list((idx, module2regulome_numba_impl(memdb, module, motif_annotations)) for idx, module in enumerate(modules[0:25]))"
   ]
  },
  {
   "cell_type": "markdown",
   "metadata": {},
   "source": [
    "1. General performance is 39s for executing `module2regulome` 25 times.\n",
    "1. 81% of time is spent at `recovery`"
   ]
  },
  {
   "cell_type": "markdown",
   "metadata": {},
   "source": [
    "### Parallelized pipeline"
   ]
  },
  {
   "cell_type": "markdown",
   "metadata": {},
   "source": [
    "#### Python multiprocessing implementation (db-dedicated workers using in memory copy + numba implementation of auc calculation)."
   ]
  },
  {
   "cell_type": "markdown",
   "metadata": {},
   "source": [
    "Loading the database is also part of the overall timing. This will however dwarf when the number of modules increases."
   ]
  },
  {
   "cell_type": "code",
   "execution_count": 17,
   "metadata": {},
   "outputs": [
    {
     "name": "stdout",
     "output_type": "stream",
     "text": [
      "Using 2 workers.\n",
      "Worker for mm9-500bp-upstream-7species: database loaded in memory.\n",
      "Worker for mm9-500bp-upstream-7species: motif annotations loaded in memory.\n",
      "Worker for mm9-tss-centered-10kb-10species: database loaded in memory.\n",
      "Worker for mm9-tss-centered-10kb-10species: motif annotations loaded in memory.\n",
      "Worker for mm9-500bp-upstream-7species: 4 regulomes created.\n",
      "Worker for mm9-tss-centered-10kb-10species: 12 regulomes created.\n",
      "Worker for mm9-tss-centered-10kb-10species: Done.\n",
      "Worker for mm9-500bp-upstream-7species: Done.\n",
      "16\n"
     ]
    },
    {
     "data": {
      "text/plain": [
       "<TimeitResult : 1min 45s ± 0 ns per loop (mean ± std. dev. of 1 run, 1 loop each)>"
      ]
     },
     "execution_count": 17,
     "metadata": {},
     "output_type": "execute_result"
    }
   ],
   "source": [
    "%%timeit -n1 -r1 -o -q\n",
    "regulomes = derive_regulomes(dbs[0:2], modules[0:50], MOTIF_ANNOTATIONS_FNAME)\n",
    "print(len(regulomes))"
   ]
  },
  {
   "cell_type": "markdown",
   "metadata": {},
   "source": [
    "#### Dask framework using multiprocessing"
   ]
  },
  {
   "cell_type": "code",
   "execution_count": 15,
   "metadata": {},
   "outputs": [
    {
     "name": "stdout",
     "output_type": "stream",
     "text": [
      "[########################################] | 100% Completed |  1min 54.9s\n"
     ]
    }
   ],
   "source": [
    "with ProgressBar():\n",
    "    with Profiler() as prof, ResourceProfiler(dt=0.25) as rprof, CacheProfiler() as cprof:\n",
    "        regulomes = derive_regulomes(dbs[0:2], modules[0:50], MOTIF_ANNOTATIONS_FNAME,\n",
    "                                     client_or_address=\"dask_multiprocessing\")"
   ]
  },
  {
   "cell_type": "code",
   "execution_count": 16,
   "metadata": {},
   "outputs": [
    {
     "data": {
      "text/plain": [
       "16"
      ]
     },
     "execution_count": 16,
     "metadata": {},
     "output_type": "execute_result"
    }
   ],
   "source": [
    "len(regulomes)"
   ]
  },
  {
   "cell_type": "code",
   "execution_count": 17,
   "metadata": {},
   "outputs": [
    {
     "data": {
      "text/html": [
       "\n",
       "<div class=\"bk-root\">\n",
       "    <div class=\"bk-plotdiv\" id=\"3f08c10f-37a6-4aaf-b0a6-c9d620d83425\"></div>\n",
       "</div>"
      ]
     },
     "metadata": {},
     "output_type": "display_data"
    },
    {
     "data": {
      "application/javascript": [
       "(function(root) {\n",
       "  function embed_document(root) {\n",
       "    \n",
       "  var docs_json = {\"fc6e68c9-1304-420f-9a5a-7fe0e07da7d9\":{\"roots\":{\"references\":[{\"attributes\":{},\"id\":\"713aa120-c841-43e9-afc0-23f917e55a25\",\"type\":\"CategoricalTickFormatter\"},{\"attributes\":{\"toolbar\":{\"id\":\"9fd51035-084e-4a00-9c52-b0263b992bb2\",\"type\":\"ProxyToolbar\"},\"toolbar_location\":\"above\"},\"id\":\"55bcd052-7767-4b1b-b169-e1274890ebeb\",\"type\":\"ToolbarBox\"},{\"attributes\":{\"children\":[{\"id\":\"55bcd052-7767-4b1b-b169-e1274890ebeb\",\"type\":\"ToolbarBox\"},{\"id\":\"cbccb2cd-c467-4f27-8770-fc4d51966efe\",\"type\":\"Column\"}]},\"id\":\"189f6205-db89-4a74-9593-a7613f2b0f48\",\"type\":\"Column\"},{\"attributes\":{\"below\":[{\"id\":\"87e0147a-d3cb-4bea-9461-1bc17eaf51b3\",\"type\":\"LinearAxis\"}],\"extra_y_ranges\":{\"memory\":{\"id\":\"a4252924-459d-4263-8bba-10e1bc1c7d3d\",\"type\":\"Range1d\"}},\"left\":[{\"id\":\"de4c565c-85f0-47ef-b955-3a152d8d6e26\",\"type\":\"LinearAxis\"}],\"min_border_bottom\":20,\"min_border_left\":75,\"min_border_right\":75,\"min_border_top\":20,\"plot_height\":240,\"plot_width\":800,\"renderers\":[{\"id\":\"87e0147a-d3cb-4bea-9461-1bc17eaf51b3\",\"type\":\"LinearAxis\"},{\"id\":\"dbe92618-0f01-48e9-b885-062e794f9752\",\"type\":\"Grid\"},{\"id\":\"de4c565c-85f0-47ef-b955-3a152d8d6e26\",\"type\":\"LinearAxis\"},{\"id\":\"56a2b8d0-a68f-45e6-87aa-a8615d517b16\",\"type\":\"Grid\"},{\"id\":\"62d14226-1081-42bd-9170-43a8e9ccba86\",\"type\":\"Legend\"},{\"id\":\"5dd68210-9a20-4627-bcc4-f41174def9ce\",\"type\":\"GlyphRenderer\"},{\"id\":\"abc0882e-7489-4a6a-ab6f-cd13804f3157\",\"type\":\"GlyphRenderer\"},{\"id\":\"c548acb8-df7c-4da2-8781-e3c3eafbe8e2\",\"type\":\"LinearAxis\"}],\"right\":[{\"id\":\"c548acb8-df7c-4da2-8781-e3c3eafbe8e2\",\"type\":\"LinearAxis\"}],\"title\":null,\"toolbar\":{\"id\":\"49f073a3-7966-4ffd-bb5f-92b753b0c2b7\",\"type\":\"Toolbar\"},\"toolbar_location\":null,\"x_range\":{\"id\":\"4da065f2-bddd-4abc-bd8b-ff124f438704\",\"type\":\"Range1d\"},\"x_scale\":{\"id\":\"40c7e32d-5c5e-45f4-9213-120cdaeded86\",\"type\":\"LinearScale\"},\"y_range\":{\"id\":\"47d5ad4e-8df6-4114-8add-6c30b4987f65\",\"type\":\"Range1d\"},\"y_scale\":{\"id\":\"78ac2e7f-0854-46fa-9870-c5cdfa538edf\",\"type\":\"LinearScale\"}},\"id\":\"d7fc79b9-86ba-452b-bc52-c002daa90576\",\"subtype\":\"Figure\",\"type\":\"Plot\"},{\"attributes\":{\"dimensions\":\"width\"},\"id\":\"229b59b6-6b55-4899-8980-83bc59c81557\",\"type\":\"PanTool\"},{\"attributes\":{},\"id\":\"556aa0de-9077-4ca8-bd84-f2f6c88eadda\",\"type\":\"ResetTool\"},{\"attributes\":{},\"id\":\"40c7e32d-5c5e-45f4-9213-120cdaeded86\",\"type\":\"LinearScale\"},{\"attributes\":{\"active_drag\":\"auto\",\"active_inspect\":\"auto\",\"active_scroll\":\"auto\",\"active_tap\":\"auto\",\"tools\":[{\"id\":\"54abde92-ab45-40ee-923f-b4de57cd4da4\",\"type\":\"SaveTool\"},{\"id\":\"0f22d6d7-61d9-4390-8962-04397fdf37c0\",\"type\":\"ResetTool\"},{\"id\":\"caf85479-3e36-4f21-8986-9427027e23a9\",\"type\":\"WheelZoomTool\"},{\"id\":\"459df026-a76a-43d9-8a5b-54c32bb593b6\",\"type\":\"PanTool\"}]},\"id\":\"49f073a3-7966-4ffd-bb5f-92b753b0c2b7\",\"type\":\"Toolbar\"},{\"attributes\":{\"callback\":null,\"end\":676.1000000000001},\"id\":\"47d5ad4e-8df6-4114-8add-6c30b4987f65\",\"type\":\"Range1d\"},{\"attributes\":{\"children\":[{\"id\":\"cbf05487-cd2c-4b25-b16b-235c0ab17b37\",\"type\":\"Row\"},{\"id\":\"294c411f-504a-4347-b9f5-78704bbd5107\",\"type\":\"Row\"},{\"id\":\"ddb2ed27-21d9-4974-8901-6e70ffaf4328\",\"type\":\"Row\"}]},\"id\":\"cbccb2cd-c467-4f27-8770-fc4d51966efe\",\"type\":\"Column\"},{\"attributes\":{},\"id\":\"78ac2e7f-0854-46fa-9870-c5cdfa538edf\",\"type\":\"LinearScale\"},{\"attributes\":{\"plot\":{\"id\":\"d7fc79b9-86ba-452b-bc52-c002daa90576\",\"subtype\":\"Figure\",\"type\":\"Plot\"},\"ticker\":{\"id\":\"b0d712e8-58a6-49ce-968d-6a8a5786a234\",\"type\":\"BasicTicker\"}},\"id\":\"dbe92618-0f01-48e9-b885-062e794f9752\",\"type\":\"Grid\"},{\"attributes\":{\"axis_label\":null,\"formatter\":{\"id\":\"587b4d35-a1ba-46ce-90cc-f472078f9600\",\"type\":\"BasicTickFormatter\"},\"plot\":{\"id\":\"d7fc79b9-86ba-452b-bc52-c002daa90576\",\"subtype\":\"Figure\",\"type\":\"Plot\"},\"ticker\":{\"id\":\"b0d712e8-58a6-49ce-968d-6a8a5786a234\",\"type\":\"BasicTicker\"}},\"id\":\"87e0147a-d3cb-4bea-9461-1bc17eaf51b3\",\"type\":\"LinearAxis\"},{\"attributes\":{},\"id\":\"b0d712e8-58a6-49ce-968d-6a8a5786a234\",\"type\":\"BasicTicker\"},{\"attributes\":{\"axis_label\":\"% CPU\",\"formatter\":{\"id\":\"130ad209-3a91-462a-ba5d-5a79ba5b2b06\",\"type\":\"BasicTickFormatter\"},\"plot\":{\"id\":\"d7fc79b9-86ba-452b-bc52-c002daa90576\",\"subtype\":\"Figure\",\"type\":\"Plot\"},\"ticker\":{\"id\":\"21fbdcaf-7107-4e13-8234-a09b67d037ef\",\"type\":\"BasicTicker\"}},\"id\":\"de4c565c-85f0-47ef-b955-3a152d8d6e26\",\"type\":\"LinearAxis\"},{\"attributes\":{},\"id\":\"21fbdcaf-7107-4e13-8234-a09b67d037ef\",\"type\":\"BasicTicker\"},{\"attributes\":{\"dimension\":1,\"plot\":{\"id\":\"d7fc79b9-86ba-452b-bc52-c002daa90576\",\"subtype\":\"Figure\",\"type\":\"Plot\"},\"ticker\":{\"id\":\"21fbdcaf-7107-4e13-8234-a09b67d037ef\",\"type\":\"BasicTicker\"}},\"id\":\"56a2b8d0-a68f-45e6-87aa-a8615d517b16\",\"type\":\"Grid\"},{\"attributes\":{},\"id\":\"2082d48b-ce68-4c24-aa9a-e8821892c8e8\",\"type\":\"WheelZoomTool\"},{\"attributes\":{\"line_alpha\":0.1,\"line_color\":\"#1f77b4\",\"line_width\":3,\"x\":{\"field\":\"x\"},\"y\":{\"field\":\"y\"}},\"id\":\"183178f5-585d-4065-901b-393fac79f647\",\"type\":\"Line\"},{\"attributes\":{\"callback\":null,\"tooltips\":\"\\n    <div>\\n        <span style=\\\"font-size: 14px; font-weight: bold;\\\">Task:</span>&nbsp;\\n        <span style=\\\"font-size: 10px; font-family: Monaco, monospace;\\\">@label</span>\\n    </div>\\n    \"},\"id\":\"adceaf86-e0d1-4493-9255-530e88306fef\",\"type\":\"HoverTool\"},{\"attributes\":{},\"id\":\"54abde92-ab45-40ee-923f-b4de57cd4da4\",\"type\":\"SaveTool\"},{\"attributes\":{\"line_color\":\"#208F8C\",\"line_width\":3,\"x\":{\"field\":\"x\"},\"y\":{\"field\":\"y\"}},\"id\":\"ab5469f2-bb82-48fd-b05e-c0c35b01f069\",\"type\":\"Line\"},{\"attributes\":{},\"id\":\"0f22d6d7-61d9-4390-8962-04397fdf37c0\",\"type\":\"ResetTool\"},{\"attributes\":{\"dimensions\":\"width\"},\"id\":\"caf85479-3e36-4f21-8986-9427027e23a9\",\"type\":\"WheelZoomTool\"},{\"attributes\":{\"dimensions\":\"width\"},\"id\":\"459df026-a76a-43d9-8a5b-54c32bb593b6\",\"type\":\"PanTool\"},{\"attributes\":{},\"id\":\"738e49d6-7d67-493c-a70f-9b928f0c9cb4\",\"type\":\"SaveTool\"},{\"attributes\":{\"tools\":[{\"id\":\"a1fcb630-b143-4a70-a75f-aaf6bb2d5ed3\",\"type\":\"HoverTool\"},{\"id\":\"77ae53f2-3007-4c7f-876e-a2d2613139d1\",\"type\":\"SaveTool\"},{\"id\":\"067682fb-159a-421c-be96-c47218cfd944\",\"type\":\"ResetTool\"},{\"id\":\"64f74a9a-5b0c-4c17-9613-bd1324f62ced\",\"type\":\"WheelZoomTool\"},{\"id\":\"8c62678e-2a4b-447e-89e5-7dd5bb60400f\",\"type\":\"PanTool\"},{\"id\":\"54abde92-ab45-40ee-923f-b4de57cd4da4\",\"type\":\"SaveTool\"},{\"id\":\"0f22d6d7-61d9-4390-8962-04397fdf37c0\",\"type\":\"ResetTool\"},{\"id\":\"caf85479-3e36-4f21-8986-9427027e23a9\",\"type\":\"WheelZoomTool\"},{\"id\":\"459df026-a76a-43d9-8a5b-54c32bb593b6\",\"type\":\"PanTool\"},{\"id\":\"adceaf86-e0d1-4493-9255-530e88306fef\",\"type\":\"HoverTool\"},{\"id\":\"738e49d6-7d67-493c-a70f-9b928f0c9cb4\",\"type\":\"SaveTool\"},{\"id\":\"556aa0de-9077-4ca8-bd84-f2f6c88eadda\",\"type\":\"ResetTool\"},{\"id\":\"2082d48b-ce68-4c24-aa9a-e8821892c8e8\",\"type\":\"WheelZoomTool\"},{\"id\":\"229b59b6-6b55-4899-8980-83bc59c81557\",\"type\":\"PanTool\"}]},\"id\":\"9fd51035-084e-4a00-9c52-b0263b992bb2\",\"type\":\"ProxyToolbar\"},{\"attributes\":{},\"id\":\"232a5280-b50b-4253-8959-bf72c3541173\",\"type\":\"BasicTickFormatter\"},{\"attributes\":{},\"id\":\"3a6c97d5-1d37-41ba-81aa-8ec30d5c1a75\",\"type\":\"BasicTickFormatter\"},{\"attributes\":{},\"id\":\"ffa137a4-8415-4ea1-a388-ee1ff25ecaeb\",\"type\":\"BasicTicker\"},{\"attributes\":{\"dimension\":1,\"plot\":{\"id\":\"1c95654c-f2d2-4c75-90f0-84b62277bfc7\",\"subtype\":\"Figure\",\"type\":\"Plot\"},\"ticker\":{\"id\":\"6c2928d7-2d9a-4254-aa37-abb139eab0e7\",\"type\":\"BasicTicker\"}},\"id\":\"79354bc9-577b-4add-be86-d5475d72b968\",\"type\":\"Grid\"},{\"attributes\":{},\"id\":\"6c2928d7-2d9a-4254-aa37-abb139eab0e7\",\"type\":\"BasicTicker\"},{\"attributes\":{\"axis_label\":\"Cache Size (count)\",\"formatter\":{\"id\":\"3a6c97d5-1d37-41ba-81aa-8ec30d5c1a75\",\"type\":\"BasicTickFormatter\"},\"plot\":{\"id\":\"1c95654c-f2d2-4c75-90f0-84b62277bfc7\",\"subtype\":\"Figure\",\"type\":\"Plot\"},\"ticker\":{\"id\":\"6c2928d7-2d9a-4254-aa37-abb139eab0e7\",\"type\":\"BasicTicker\"}},\"id\":\"36f0c484-00ca-4ead-9c0f-44a7efd6471d\",\"type\":\"LinearAxis\"},{\"attributes\":{},\"id\":\"c064e242-d8a0-4f9d-b2bc-e7563321ae6a\",\"type\":\"BasicTicker\"},{\"attributes\":{\"axis_label\":\"Time (s)\",\"formatter\":{\"id\":\"73e01d44-77c9-4f7c-93f1-293c75fd5a6b\",\"type\":\"BasicTickFormatter\"},\"plot\":{\"id\":\"1c95654c-f2d2-4c75-90f0-84b62277bfc7\",\"subtype\":\"Figure\",\"type\":\"Plot\"},\"ticker\":{\"id\":\"c064e242-d8a0-4f9d-b2bc-e7563321ae6a\",\"type\":\"BasicTicker\"}},\"id\":\"c619dc13-eb54-4aa9-99ee-fa1d555c9eb1\",\"type\":\"LinearAxis\"},{\"attributes\":{\"callback\":null,\"column_names\":[\"x\",\"y\",\"label\"],\"data\":{\"label\":[\"module2regulome_numba_impl(...)\",\"module2regulome_numba_impl(...)\",\"module2regulome_numba_impl(...)\",\"module2regulome_numba_impl(...)\",\"module2regulome_numba_impl(...)\",\"module2regulome_numba_impl(...)\",\"module2regulome_numba_impl(...)\",\"module2regulome_numba_impl(...)\",\"module2regulome_numba_impl(...)\",\"module2regulome_numba_impl(...)\",\"module2regulome_numba_impl(...)\",\"module2regulome_numba_impl(...)\",\"module2regulome_numba_impl(...)\",\"module2regulome_numba_impl(...)\",\"module2regulome_numba_impl(...)\",\"module2regulome_numba_impl(...)\",\"module2regulome_numba_impl(...)\",\"module2regulome_numba_impl(...)\",\"module2regulome_numba_impl(...)\",\"module2regulome_numba_impl(...)\",\"module2regulome_numba_impl(...)\",\"module2regulome_numba_impl(...)\",\"module2regulome_numba_impl(...)\",\"module2regulome_numba_impl(...)\",\"module2regulome_numba_impl(...)\",\"module2regulome_numba_impl(...)\",\"module2regulome_numba_impl(...)\",\"module2regulome_numba_impl(...)\",\"module2regulome_numba_impl(...)\",\"module2regulome_numba_impl(...)\",\"module2regulome_numba_impl(...)\",\"module2regulome_numba_impl(...)\",\"module2regulome_numba_impl(...)\",\"module2regulome_numba_impl(...)\",\"module2regulome_numba_impl(...)\",\"module2regulome_numba_impl(...)\",\"module2regulome_numba_impl(...)\",\"module2regulome_numba_impl(...)\",\"module2regulome_numba_impl(...)\",\"module2regulome_numba_impl(...)\",\"module2regulome_numba_impl(...)\",\"module2regulome_numba_impl(...)\",\"module2regulome_numba_impl(...)\",\"module2regulome_numba_impl(...)\",\"module2regulome_numba_impl(...)\",\"module2regulome_numba_impl(...)\",\"module2regulome_numba_impl(...)\",\"module2regulome_numba_impl(...)\",\"module2regulome_numba_impl(...)\",\"module2regulome_numba_impl(...)\",\"module2regulome_numba_impl(...)\",\"module2regulome_numba_impl(...)\",\"module2regulome_numba_impl(...)\",\"module2regulome_numba_impl(...)\",\"module2regulome_numba_impl(...)\",\"module2regulome_numba_impl(...)\",\"module2regulome_numba_impl(...)\",\"module2regulome_numba_impl(...)\",\"module2regulome_numba_impl(...)\",\"module2regulome_numba_impl(...)\",\"module2regulome_numba_impl(...)\",\"module2regulome_numba_impl(...)\",\"module2regulome_numba_impl(...)\",\"module2regulome_numba_impl(...)\",\"module2regulome_numba_impl(...)\",\"module2regulome_numba_impl(...)\",\"module2regulome_numba_impl(...)\",\"module2regulome_numba_impl(...)\",\"module2regulome_numba_impl(...)\",\"module2regulome_numba_impl(...)\",\"module2regulome_numba_impl(...)\",\"module2regulome_numba_impl(...)\",\"module2regulome_numba_impl(...)\",\"module2regulome_numba_impl(...)\",\"module2regulome_numba_impl(...)\",\"module2regulome_numba_impl(...)\",\"module2regulome_numba_impl(...)\",\"module2regulome_numba_impl(...)\",\"module2regulome_numba_impl(...)\",\"module2regulome_numba_impl(...)\",\"module2regulome_numba_impl(...)\",\"module2regulome_numba_impl(...)\",\"module2regulome_numba_impl(...)\",\"module2regulome_numba_impl(...)\",\"module2regulome_numba_impl(...)\",\"module2regulome_numba_impl(...)\",\"module2regulome_numba_impl(...)\",\"module2regulome_numba_impl(...)\",\"module2regulome_numba_impl(...)\",\"module2regulome_numba_impl(...)\",\"module2regulome_numba_impl(...)\",\"module2regulome_numba_impl(...)\",\"module2regulome_numba_impl(...)\",\"module2regulome_numba_impl(...)\",\"module2regulome_numba_impl(...)\",\"module2regulome_numba_impl(...)\",\"module2regulome_numba_impl(...)\",\"module2regulome_numba_impl(...)\",\"module2regulome_numba_impl(...)\",\"module2regulome_numba_impl(...)\",\"module2regulome_numba_impl(...)\",\"module2regulome_numba_impl(...)\",\"module2regulome_numba_impl(...)\"],\"x\":[0,7.786647556999924,9.021404844000244,10.119169904000046,11.066950702000213,12.321435492000091,13.81863162100035,15.05957484299961,16.127951503000077,17.408552418,18.355836554000234,19.28948022700024,20.306649739999557,21.298648895999577,22.452917304999573,23.335822105999796,24.50839051999992,25.5375855530001,26.598974178999924,27.826180162999663,28.828854632999537,29.784823994000362,31.19616779700027,32.36808947699956,33.60559030599961,34.79398306799976,35.54929298299976,36.33944693899957,37.96573013200032,39.36672073699992,40.784612198000104,41.882777679000355,43.07660923000003,44.24813095100035,45.67777139000009,46.656798928999706,47.975218526999925,49.812818557000355,50.96983322699998,52.18881962700016,53.2163639649998,54.349734237999655,55.37462708699968,56.247898351,57.33770286500021,58.33808966000015,59.33606809899993,60.157689529999516,60.93884390600033,62.205370112999844,63.262080206000064,64.22112292299971,65.1889354089999,66.03418508300001,66.84982571,68.05098975799956,69.2671419799999,70.25208630500038,71.05986971899983,72.04690819899952,73.05010032700011,74.00881067800037,74.92075604399997,75.89561621200028,76.75529536500017,77.80304041700037,78.64624435299993,79.76120895999975,80.87015949200031,82.43517693000013,83.91325399800007,84.93915214499975,85.8501178309998,86.94934436200037,87.80843019300028,88.5297049009996,89.21980304699991,90.16363312900012,91.18782235100025,92.38308148299984,93.32154073499987,94.1794063139996,95.64518536800006,97.22907175,98.34788657399986,99.59013669399974,101.34929451599965,102.42181064400029,103.27875960799975,104.47672360900015,105.51269482299995,106.59742163600004,107.75378165199982,109.29563676900034,109.29568808099975,109.29587058499965,109.29591574400001,110.40321952999966,110.905899546,111.32694407599956,114.60444324299988,114.83381730099973,114.88754140200035],\"y\":[0,1,2,3,4,5,6,7,8,9,10,11,12,13,14,15,16,17,18,19,20,21,22,23,24,25,26,27,28,29,30,31,32,33,34,35,36,37,38,39,40,41,42,43,44,45,46,47,48,49,50,51,52,53,54,55,56,57,58,59,60,61,62,63,64,65,66,67,68,69,70,71,72,73,74,75,76,77,78,79,80,81,82,83,84,85,86,87,88,89,90,91,92,93,94,95,96,97,98,99,100,0,0]}},\"id\":\"46326b8b-2f9a-4307-988c-f540bfe07d30\",\"type\":\"ColumnDataSource\"},{\"attributes\":{\"plot\":{\"id\":\"1c95654c-f2d2-4c75-90f0-84b62277bfc7\",\"subtype\":\"Figure\",\"type\":\"Plot\"},\"ticker\":{\"id\":\"c064e242-d8a0-4f9d-b2bc-e7563321ae6a\",\"type\":\"BasicTicker\"}},\"id\":\"da9d056a-eaf9-472b-bd04-502d756749bc\",\"type\":\"Grid\"},{\"attributes\":{},\"id\":\"eb731ea5-5d95-4d96-9f76-01a5b11bc476\",\"type\":\"LinearScale\"},{\"attributes\":{\"callback\":null},\"id\":\"934a29ee-607d-4d2f-af74-2a094b12b72d\",\"type\":\"DataRange1d\"},{\"attributes\":{},\"id\":\"fdbf862a-d805-492c-9c5a-8069150b3732\",\"type\":\"LinearScale\"},{\"attributes\":{\"active_drag\":\"auto\",\"active_inspect\":\"auto\",\"active_scroll\":\"auto\",\"active_tap\":\"auto\",\"tools\":[{\"id\":\"adceaf86-e0d1-4493-9255-530e88306fef\",\"type\":\"HoverTool\"},{\"id\":\"738e49d6-7d67-493c-a70f-9b928f0c9cb4\",\"type\":\"SaveTool\"},{\"id\":\"556aa0de-9077-4ca8-bd84-f2f6c88eadda\",\"type\":\"ResetTool\"},{\"id\":\"2082d48b-ce68-4c24-aa9a-e8821892c8e8\",\"type\":\"WheelZoomTool\"},{\"id\":\"229b59b6-6b55-4899-8980-83bc59c81557\",\"type\":\"PanTool\"}]},\"id\":\"fc5d1c12-7a05-40cd-bd49-573fb2de7732\",\"type\":\"Toolbar\"},{\"attributes\":{\"below\":[{\"id\":\"eb4602f9-0a4e-4c7d-aab7-22ec6781177a\",\"type\":\"LinearAxis\"}],\"left\":[{\"id\":\"b309a92a-34a0-4221-bf2b-0b5fc31359fb\",\"type\":\"CategoricalAxis\"}],\"min_border_bottom\":20,\"min_border_left\":75,\"min_border_right\":75,\"plot_height\":270,\"plot_width\":800,\"renderers\":[{\"id\":\"eb4602f9-0a4e-4c7d-aab7-22ec6781177a\",\"type\":\"LinearAxis\"},{\"id\":\"d87ee2e6-dde4-4f0a-967f-3c89f0dc5678\",\"type\":\"Grid\"},{\"id\":\"b309a92a-34a0-4221-bf2b-0b5fc31359fb\",\"type\":\"CategoricalAxis\"},{\"id\":\"9cb05013-30cd-4fc4-8c9d-2eb0e670d8c1\",\"type\":\"Grid\"},{\"id\":\"42d1eae0-7d66-4870-8d5b-15e687f19d4d\",\"type\":\"GlyphRenderer\"}],\"title\":{\"id\":\"f92c7979-b0fa-4a67-a48d-29729d9edae0\",\"type\":\"Title\"},\"toolbar\":{\"id\":\"80b8f6e3-b9d4-4dab-87a3-1a7a0bab2b7f\",\"type\":\"Toolbar\"},\"toolbar_location\":null,\"x_range\":{\"id\":\"4da065f2-bddd-4abc-bd8b-ff124f438704\",\"type\":\"Range1d\"},\"x_scale\":{\"id\":\"68a61599-8bd7-4041-81e3-c1df3851980e\",\"type\":\"LinearScale\"},\"y_range\":{\"id\":\"9ae33c1f-3015-49ec-a072-5ebe9852b52d\",\"type\":\"FactorRange\"},\"y_scale\":{\"id\":\"d13de721-4609-40bb-a1bc-16e30877ce88\",\"type\":\"CategoricalScale\"}},\"id\":\"33b5e4db-6c84-48e5-9c3f-4ad4b6209b90\",\"subtype\":\"Figure\",\"type\":\"Plot\"},{\"attributes\":{\"below\":[{\"id\":\"c619dc13-eb54-4aa9-99ee-fa1d555c9eb1\",\"type\":\"LinearAxis\"}],\"left\":[{\"id\":\"36f0c484-00ca-4ead-9c0f-44a7efd6471d\",\"type\":\"LinearAxis\"}],\"min_border_left\":75,\"min_border_right\":75,\"min_border_top\":20,\"plot_height\":270,\"plot_width\":800,\"renderers\":[{\"id\":\"c619dc13-eb54-4aa9-99ee-fa1d555c9eb1\",\"type\":\"LinearAxis\"},{\"id\":\"da9d056a-eaf9-472b-bd04-502d756749bc\",\"type\":\"Grid\"},{\"id\":\"36f0c484-00ca-4ead-9c0f-44a7efd6471d\",\"type\":\"LinearAxis\"},{\"id\":\"79354bc9-577b-4add-be86-d5475d72b968\",\"type\":\"Grid\"},{\"id\":\"d009266c-bf2f-4488-b1c7-a9ea1c18aaf2\",\"type\":\"GlyphRenderer\"},{\"id\":\"586ea00c-81ae-47eb-9e79-fe098c6d909b\",\"type\":\"GlyphRenderer\"}],\"title\":null,\"toolbar\":{\"id\":\"fc5d1c12-7a05-40cd-bd49-573fb2de7732\",\"type\":\"Toolbar\"},\"toolbar_location\":null,\"x_range\":{\"id\":\"4da065f2-bddd-4abc-bd8b-ff124f438704\",\"type\":\"Range1d\"},\"x_scale\":{\"id\":\"fdbf862a-d805-492c-9c5a-8069150b3732\",\"type\":\"LinearScale\"},\"y_range\":{\"id\":\"934a29ee-607d-4d2f-af74-2a094b12b72d\",\"type\":\"DataRange1d\"},\"y_scale\":{\"id\":\"eb731ea5-5d95-4d96-9f76-01a5b11bc476\",\"type\":\"LinearScale\"}},\"id\":\"1c95654c-f2d2-4c75-90f0-84b62277bfc7\",\"subtype\":\"Figure\",\"type\":\"Plot\"},{\"attributes\":{\"children\":[{\"id\":\"1c95654c-f2d2-4c75-90f0-84b62277bfc7\",\"subtype\":\"Figure\",\"type\":\"Plot\"}]},\"id\":\"ddb2ed27-21d9-4974-8901-6e70ffaf4328\",\"type\":\"Row\"},{\"attributes\":{\"data_source\":{\"id\":\"4f41e7a0-8174-418b-96e2-31335a3bee64\",\"type\":\"ColumnDataSource\"},\"glyph\":{\"id\":\"ab5469f2-bb82-48fd-b05e-c0c35b01f069\",\"type\":\"Line\"},\"hover_glyph\":null,\"muted_glyph\":null,\"nonselection_glyph\":{\"id\":\"183178f5-585d-4065-901b-393fac79f647\",\"type\":\"Line\"},\"selection_glyph\":null,\"view\":{\"id\":\"521b7b89-381d-47f8-8eab-e2f3a98810e7\",\"type\":\"CDSView\"}},\"id\":\"586ea00c-81ae-47eb-9e79-fe098c6d909b\",\"type\":\"GlyphRenderer\"},{\"attributes\":{\"label\":{\"value\":\"Memory\"},\"renderers\":[{\"id\":\"abc0882e-7489-4a6a-ab6f-cd13804f3157\",\"type\":\"GlyphRenderer\"}]},\"id\":\"13c4e71c-2756-4d64-97fe-4247f26fab27\",\"type\":\"LegendItem\"},{\"attributes\":{\"data_source\":{\"id\":\"2b1a9ec5-ee73-46cd-9d38-772ae00a2a49\",\"type\":\"ColumnDataSource\"},\"glyph\":{\"id\":\"b30b1dde-5936-42c6-af56-dc203dd89517\",\"type\":\"Line\"},\"hover_glyph\":null,\"muted_glyph\":null,\"nonselection_glyph\":{\"id\":\"130256fa-fdfc-4c40-a5be-69db299f6864\",\"type\":\"Line\"},\"selection_glyph\":null,\"view\":{\"id\":\"bb629296-5c7f-4325-8cf6-0c543639cf26\",\"type\":\"CDSView\"},\"y_range_name\":\"memory\"},\"id\":\"abc0882e-7489-4a6a-ab6f-cd13804f3157\",\"type\":\"GlyphRenderer\"},{\"attributes\":{\"source\":{\"id\":\"2b1a9ec5-ee73-46cd-9d38-772ae00a2a49\",\"type\":\"ColumnDataSource\"}},\"id\":\"bb629296-5c7f-4325-8cf6-0c543639cf26\",\"type\":\"CDSView\"},{\"attributes\":{\"line_color\":\"#29788E\",\"line_width\":4,\"x\":{\"field\":\"x\"},\"y\":{\"field\":\"y\"}},\"id\":\"b30b1dde-5936-42c6-af56-dc203dd89517\",\"type\":\"Line\"},{\"attributes\":{\"active_drag\":\"auto\",\"active_inspect\":\"auto\",\"active_scroll\":\"auto\",\"active_tap\":\"auto\",\"tools\":[{\"id\":\"a1fcb630-b143-4a70-a75f-aaf6bb2d5ed3\",\"type\":\"HoverTool\"},{\"id\":\"77ae53f2-3007-4c7f-876e-a2d2613139d1\",\"type\":\"SaveTool\"},{\"id\":\"067682fb-159a-421c-be96-c47218cfd944\",\"type\":\"ResetTool\"},{\"id\":\"64f74a9a-5b0c-4c17-9613-bd1324f62ced\",\"type\":\"WheelZoomTool\"},{\"id\":\"8c62678e-2a4b-447e-89e5-7dd5bb60400f\",\"type\":\"PanTool\"}]},\"id\":\"80b8f6e3-b9d4-4dab-87a3-1a7a0bab2b7f\",\"type\":\"Toolbar\"},{\"attributes\":{\"line_alpha\":0.1,\"line_color\":\"#1f77b4\",\"line_width\":4,\"x\":{\"field\":\"x\"},\"y\":{\"field\":\"y\"}},\"id\":\"130256fa-fdfc-4c40-a5be-69db299f6864\",\"type\":\"Line\"},{\"attributes\":{\"children\":[{\"id\":\"33b5e4db-6c84-48e5-9c3f-4ad4b6209b90\",\"subtype\":\"Figure\",\"type\":\"Plot\"}]},\"id\":\"cbf05487-cd2c-4b25-b16b-235c0ab17b37\",\"type\":\"Row\"},{\"attributes\":{\"callback\":null,\"end\":8695.332864,\"start\":2578.264064},\"id\":\"a4252924-459d-4263-8bba-10e1bc1c7d3d\",\"type\":\"Range1d\"},{\"attributes\":{\"plot\":null,\"text\":\"Profile Results\"},\"id\":\"f92c7979-b0fa-4a67-a48d-29729d9edae0\",\"type\":\"Title\"},{\"attributes\":{\"callback\":null,\"column_names\":[\"x\",\"y\"],\"data\":{\"x\":[0.0,0.25164467100057664,0.5025665330003903,0.7529188030002842,1.0035409510001045,1.2585021400000187,1.5099093569997422,1.7613455020000401,2.012119439000344,2.262807867000447,2.5142448030001106,2.7654180110002926,3.0168971700004477,3.2683999060000133,3.5198791789998722,3.770792729999812,4.021432874000311,4.272912668000572,4.524469804000546,4.776001965000432,5.026559597999949,5.277096951000203,5.528821271999732,5.780018901000403,6.0317328640003325,6.282858501999726,6.534471205000045,6.786674097999821,7.037383845000477,7.290351329000259,7.542177381000329,7.793886567999834,8.044892969000102,8.297255790000236,8.548855774000003,8.800532184000076,9.052017064999745,9.303612613000041,9.555282051000177,9.806281279000359,10.057665723000355,10.309073978000015,10.56065473200033,10.812157010999726,11.062941211999714,11.314513518999775,11.565337312000338,11.816984664999836,12.067887717999838,12.318622859999778,12.57040102100018,12.821243397000217,13.072780421000061,13.32433029799995,13.576037994999751,13.82766630200058,14.079437143000177,14.3310455740002,14.581835830999808,14.832861455000057,15.084628951000013,15.335610656999961,15.586600266999994,15.838475563999964,16.090172045000145,16.341835019000428,16.593316749999758,16.844955309000397,17.09640538700023,17.348093169000094,17.599876936999863,17.851517287000206,18.102464309000425,18.353444872999717,18.60464115800005,18.856269486999736,19.10792042200046,19.359581020000405,19.611202251000577,19.861785864000012,20.113862387000154,20.364433450000433,20.616115060000084,20.867313210000248,21.118223018000208,21.370045921000383,21.62108262499987,21.87194952400023,22.123789248999856,22.375412104000134,22.627080283000396,22.87875247000011,23.130236726000476,23.381554770000548,23.63290871299978,23.88377399000001,24.135290031000295,24.386679238999932,24.63774773700061,24.889630562000093,25.14072367600056,25.39261475800049,25.64332542000011,25.894821941999908,26.146484546000465,26.398088052000276,26.649024459999964,26.899771999000222,27.151292898000065,27.402926225000556,27.654647966000084,27.905591882000408,28.157087651000438,28.40814495199993,28.659102268000424,28.909887669000454,29.16122950600038,29.41338967699994,29.66528312199989,29.91646595400016,30.16808695800046,30.41892878100043,30.670512311000493,30.92174629300007,31.17274547299985,31.424277699999948,31.675424392999957,31.926584937999905,32.178331175000494,32.43001606400048,32.68148082100015,32.933227733999956,33.18509747600001,33.43690484800027,33.68819051900027,33.939439226000104,34.19112772100016,34.4420727630004,34.69386218300042,34.94558302899986,35.19626991899986,35.4478204750003,35.69870686700051,35.950837995000256,36.20239939299972,36.45361992300059,36.70477111299988,36.95562057200004,37.20705085999998,37.45771227499972,37.70942154000022,37.96079327900043,38.21216174900019,38.46413429800032,38.715357363000294,38.966850169999816,39.218603839000025,39.47175115400023,39.72246721800002,39.974717328000224,40.226120764999905,40.47783202000028,40.728824145000544,40.98040880100052,41.23228197499975,41.48315517300034,41.73498285700043,41.98580106100053,42.23751310300031,42.48914025300019,42.740767152000444,42.992401649000385,43.24313718099984,43.49394828000004,43.74550292599997,43.997262161000435,44.24913380900034,44.50090168800034,44.752761208000265,45.00363320300039,45.255271660999824,45.50596008699995,45.75749429500047,46.008443802999864,46.26038500100003,46.51260476900006,46.76325780600018,47.015106969000044,47.265745400000014,47.51638404000005,47.767201816000124,48.01794125500055,48.26943978899999,48.52000199000031,48.77132224900015,49.02293996200024,49.27514751600029,49.528461972000514,49.77977379100048,50.03109386899996,50.28256332000001,50.534409050999784,50.78522351100037,51.036896026999784,51.288629038999716,51.540053898000224,51.79171226300059,52.04282581900043,52.29459400700034,52.545562971000436,52.79722993999985,53.048893160999796,53.30050122500052,53.552298247999715,53.80384832799973,54.055621246000555,54.30638424800054,54.55847679100043,54.80954823800039,55.06123503100025,55.3121909850006,55.56276425899978,55.81381096200039,56.064631197999915,56.31612746600058,56.56730721399981,56.81896952999978,57.07060746099978,57.321338356000524,57.57308951699997,57.824366949999785,58.07629768900006,58.32810705199972,58.57976167900051,58.831765601999905,59.08362381400002,59.33449700500023,59.58522401200025,59.83684738500051,60.08849151400045,60.340103763000116,60.59164552200036,60.84280276299978,61.09422437600006,61.34512684299989,61.59659740799998,61.84749339600057,62.09904033800012,62.35078181500012,62.6020046929998,62.85440941399975,63.10548154499975,63.35788901199976,63.609115743000075,63.860831080000025,64.11239675399975,64.36301887399986,64.61461252200024,64.86542986800032,65.1167806780004,65.36790523499985,65.61953024800005,65.87043892400015,66.12215792700044,66.37361301400051,66.62410257600004,66.87528184999974,67.12679567099985,67.37819884500004,67.629803283,67.88022667400037,68.13068530200053,68.38167213500037,68.63320147800005,68.88423784400038,69.13509286499993,69.38591604700014,69.63708012200004,69.88859383100043,70.13945853299992,70.3908840969998,70.64251425400016,70.8939131420002,71.14536182600023,71.39604747399972,71.64765904900014,71.8988991440001,72.149677763,72.40113164700051,72.65221847800058,72.90317191899976,73.15499536400057,73.4061455430001,73.6570851940005,73.9077552990002,74.15946613800043,74.41040153799986,74.66199839700039,74.91290936899986,75.16451422099999,75.41605313299988,75.666852845,75.91786720999971,76.16898575800042,76.42060761599987,76.67233317099999,76.92375456399986,77.17519234300016,77.42603338400022,77.67717073699987,77.92883241900017,78.18054679200031,78.43229566599985,78.68363548399975,78.93531950000033,79.18576295100047,79.43730878000042,79.68887739599995,79.94030280700008,80.19199139100056,80.44356099300057,80.69517958400047,80.94577530300012,81.19756442700054,81.44918936700014,81.7009376470005,81.95209194200015,82.20373368899982,82.45525567799996,82.70708157300032,82.95887470100024,83.2106927220002,83.46146528700046,83.71301489800044,83.9642148820003,84.21600196899999,84.46776555500037,84.71882853100033,84.96944966800038,85.22065732300052,85.4716339860006,85.72308681899995,85.97487397799978,86.22570925899981,86.4771416399999,86.72791802899974,86.97958203800044,87.23058114300056,87.48212174699984,87.73309468499974,87.98379292800018,88.23529743000017,88.48612642599983,88.73774704300013,88.98919691500032,89.24028043999988,89.49175848899995,89.74224920000051,89.99286051499985,90.2438957660006,90.49476646800031,90.74638536400016,90.99732043200038,91.24879646600039,91.50016432899974,91.75183780899988,92.0027107269998,92.253938586,92.50581934799993,92.75732513700041,93.00849382700017,93.25942347,93.51023880499997,93.76106426600018,94.01194770599977,94.26255699100057,94.51360595700044,94.7652909590006,95.01666918200044,95.26742534599998,95.51877198500006,95.76992472500024,96.02162450000014,96.27377717899981,96.52534649500012,96.78039364200049,97.03204468400054,97.28377906400056,97.53572799300036,97.78793911600042,98.0385213489999,98.29025181199995,98.54106634599975,98.7926801450003,99.0438366620001,99.29458393000004,99.54647027400006,99.79757591700036,100.04835479600024,100.3000389710005,100.55084595900007,100.80325893000008,101.05501900699983,101.30689662700024,101.55769556799987,101.80959021099989,102.06101777399999,102.31291564100047,102.56411616600053,102.81505583600028,103.06658863699977,103.31746902800023,103.56876345700039,103.81972554000004,104.0713397720001,104.32279894000021,104.57440137200047,104.82606513500014,105.07730894900033,105.32898717999979,105.5812365769998,105.83262348400058,106.08378622600048,106.33560229600062,106.58726779600056,106.83796237699971,107.08963230800055,107.34049037499972,107.59168600199973,107.843574128,108.09441902300023,108.34660817300028,108.59822438799984,108.84889169400049,109.10135581000031,109.3531980530006,109.60457218400006,109.85620534900045,110.10811058099989,110.36050021400024,110.61229493800056,110.8631251830002,111.11483556500025,111.36623619800048,111.61701219800034,111.86805558200012,112.11949105999975,112.37115977699978,112.62165536900011,112.87316543700035,113.12381048499992,113.37485463200028,113.62627316999988,113.87704174800001,114.12850751400038,114.37901185700048,114.62963785300053,114.88117306100048,115.13193655000032,115.38332993499989,115.63402784000027,115.88554339700022],\"y\":[2578.264064,2612.809728,2657.558528,2664.710144,2597.72416,2635.952128,2645.446656,2651.660288,2666.082304,2773.221376,3024.683008,3551.391744,3593.306112,3533.1072,3556.192256,3747.61472,4047.908864,4224.462848,4157.239296,4262.711296,4672.253952,4486.848512,4654.075904,4676.816896,4711.497728,4893.749248,5282.353152,5271.093248,4970.631168,5140.013056,5226.831872,5248.479232,4999.901184,5048.68864,5337.243648,5269.180416,5201.137664,5272.461312,5544.542208,5669.96992,5344.505856,5474.36544,5492.461568,5498.249216,5448.634368,5689.683968,5808.201728,5708.496896,5626.658816,5568.606208,5662.199808,6038.335488,5998.321664,5769.15456,5841.354752,5831.655424,5954.895872,6313.967616,6643.273728,6636.638208,6843.998208,6843.723776,6759.530496,7063.031808,6772.338688,6426.112,6779.367424,6806.810624,6800.658432,6543.003648,6392.672256,6233.747456,6235.353088,5769.203712,5812.256768,5720.65792,5722.882048,5379.047424,5511.929856,6141.079552,6369.169408,6646.943744,6628.74112,6660.481024,6697.295872,6732.296192,6611.68128,6675.247104,6859.534336,6906.376192,6934.110208,6968.037376,6997.254144,6250.233856,5911.875584,6285.484032,5830.0416,5726.150656,5621.669888,5815.144448,6079.852544,6006.386688,5974.728704,5925.638144,5955.72736,5964.644352,5971.693568,5938.532352,6123.270144,6289.580032,6141.149184,6125.428736,6412.423168,6530.572288,6922.52672,7321.051136,7270.084608,7278.26432,7513.849856,7402.246144,7418.458112,7406.874624,7560.249344,7722.96704,7645.691904,7737.737216,8098.021376,8321.531904,8457.478144,8515.878912,8311.128064,8465.338368,8566.902784,8695.332864,7329.615872,7611.12576,7496.003584,6926.958592,7242.211328,6055.026688,5904.695296,5767.999488,5577.793536,5613.658112,5604.560896,5619.167232,5545.119744,5921.415168,5784.018944,5730.496512,5926.375424,6152.626176,6134.657024,5973.983232,5982.101504,6154.391552,6378.135552,6625.878016,6902.378496,6968.315904,7131.181056,6956.150784,7033.73312,7099.891712,7109.451776,7112.998912,7169.150976,7435.927552,7421.943808,7369.416704,7429.574656,7584.198656,7690.498048,7633.391616,7661.457408,7766.044672,8066.453504,7819.276288,6343.122944,6556.708864,5923.975168,6021.89824,5747.355648,5762.850816,5778.894848,5788.368896,5741.658112,5720.203264,5880.569856,5970.784256,5713.956864,6043.537408,6300.401664,6604.980224,6860.681216,7071.485952,7450.189824,7661.789184,7536.86528,7423.066112,7199.133696,7241.097216,7219.949568,7608.909824,7945.404416,7508.017152,7322.750976,7316.021248,7349.301248,7445.34016,7831.711744,6726.897664,6370.889728,5877.526528,5894.262784,6074.294272,6161.047552,5859.610624,6219.85792,6187.8272,6098.591744,6371.098624,5860.663296,5880.287232,5910.28224,5436.956672,5688.692736,6101.52448,6425.88672,6427.81184,6485.807104,6517.608448,6559.674368,6363.406336,6639.419392,6627.483648,6679.552,6730.40384,6207.54944,6076.346368,5529.800704,5588.426752,5695.782912,5688.557568,5578.481664,5790.404608,5704.933376,5657.423872,6079.053824,6014.816256,5871.419392,5853.810688,5854.879744,5488.381952,5709.316096,5626.63424,5588.402176,5875.617792,5534.67904,5562.191872,5695.524864,5877.547008,5495.615488,5376.602112,5532.545024,6006.76352,6012.358656,5506.695168,5794.893824,6241.603584,5955.977216,5967.425536,6341.57056,6108.327936,6117.7856,6197.141504,6308.483072,6281.383936,5866.713088,6197.1456,6239.801344,6080.38912,5640.630272,5487.050752,5453.418496,5804.351488,5867.139072,5776.474112,5935.017984,6321.803264,6064.013312,5721.841664,6032.121856,6124.883968,5966.39744,5929.795584,6191.501312,6002.54464,5862.518784,5560.385536,5792.657408,5583.376384,5615.67744,5601.943552,5634.985984,5633.9456,5870.46912,6189.883392,6224.01536,6292.656128,6321.491968,6729.732096,6211.1744,6423.740416,5756.772352,6025.883648,5981.802496,5948.276736,6215.712768,6629.158912,6561.153024,6307.713024,6353.297408,6645.686272,6802.137088,7228.403712,7261.671424,7415.799808,7748.063232,8067.989504,7930.138624,7737.50784,7745.273856,7943.593984,7717.584896,7605.747712,7643.787264,7375.642624,7562.58816,7011.463168,7195.32032,6389.506048,6165.2992,6173.478912,6193.238016,6026.50624,6012.43648,6214.053888,6209.028096,6231.740416,6248.42752,6452.195328,5909.540864,5590.777856,5587.72224,6056.493056,5961.826304,5729.107968,5927.112704,5955.280896,5933.572096,5934.190592,5824.950272,5804.826624,5888.442368,5629.239296,5850.68544,5861.072896,6151.266304,6343.561216,6126.61248,6383.77984,5761.245184,6007.115776,6109.392896,6035.509248,6019.854336,6093.688832,6196.903936,5985.460224,6029.471744,6281.863168,6146.818048,6158.21312,6179.426304,5924.298752,6031.27808,6030.209024,6035.914752,6053.277696,6228.942848,6449.4592,6626.85696,6917.705728,7259.79136,7721.2672,7778.906112,8124.60032,8184.590336,8201.650176,8231.559168,8134.680576,7917.756416,8160.321536,7882.985472,7333.281792,7355.772928,7334.703104,7596.965888,7434.780672,7222.882304,7264.223232,6194.450432,6539.948032,6272.7168,6011.408384,5792.93184,5887.578112,5879.963648,5890.879488,5842.993152,5955.694592,5959.213056,5984.997376,6061.154304,6658.875392,6740.410368,6793.650176,5851.447296,5978.025984,6292.041728,6216.114176,6229.58592,6239.604736,6201.008128,6331.531264,6406.12352,6420.873216,6147.46112,6104.53504,6136.324096,6353.842176,6306.69312,6259.933184,6236.286976,6243.053568,5794.316288,5802.5984,5592.313856,5595.328512,5717.311488,6207.553536,6264.455168,6300.020736,6338.31424,6376.402944,6415.151104,6453.256192,6491.373568,5899.128832,6192.570368,5421.371392]}},\"id\":\"2b1a9ec5-ee73-46cd-9d38-772ae00a2a49\",\"type\":\"ColumnDataSource\"},{\"attributes\":{\"callback\":null,\"end\":114.82802894899942},\"id\":\"4da065f2-bddd-4abc-bd8b-ff124f438704\",\"type\":\"Range1d\"},{\"attributes\":{\"label\":{\"value\":\"% CPU\"},\"renderers\":[{\"id\":\"5dd68210-9a20-4627-bcc4-f41174def9ce\",\"type\":\"GlyphRenderer\"}]},\"id\":\"f7b89c46-f066-4a82-9e90-8b9ae25c8cf4\",\"type\":\"LegendItem\"},{\"attributes\":{},\"id\":\"41db7aab-0d8c-4887-a660-bd10c3f0ef85\",\"type\":\"BasicTickFormatter\"},{\"attributes\":{\"line_color\":\"#440154\",\"line_width\":3,\"x\":{\"field\":\"x\"},\"y\":{\"field\":\"y\"}},\"id\":\"417a72fe-578c-4092-9543-34377ae3f07a\",\"type\":\"Line\"},{\"attributes\":{},\"id\":\"68a61599-8bd7-4041-81e3-c1df3851980e\",\"type\":\"LinearScale\"},{\"attributes\":{\"axis_label\":\"Memory (MB)\",\"formatter\":{\"id\":\"232a5280-b50b-4253-8959-bf72c3541173\",\"type\":\"BasicTickFormatter\"},\"plot\":{\"id\":\"d7fc79b9-86ba-452b-bc52-c002daa90576\",\"subtype\":\"Figure\",\"type\":\"Plot\"},\"ticker\":{\"id\":\"ffa137a4-8415-4ea1-a388-ee1ff25ecaeb\",\"type\":\"BasicTicker\"},\"y_range_name\":\"memory\"},\"id\":\"c548acb8-df7c-4da2-8781-e3c3eafbe8e2\",\"type\":\"LinearAxis\"},{\"attributes\":{\"callback\":null,\"factors\":[\"0\",\"1\",\"2\",\"3\",\"4\",\"5\",\"6\",\"7\"]},\"id\":\"9ae33c1f-3015-49ec-a072-5ebe9852b52d\",\"type\":\"FactorRange\"},{\"attributes\":{},\"id\":\"587b4d35-a1ba-46ce-90cc-f472078f9600\",\"type\":\"BasicTickFormatter\"},{\"attributes\":{},\"id\":\"d13de721-4609-40bb-a1bc-16e30877ce88\",\"type\":\"CategoricalScale\"},{\"attributes\":{\"items\":[{\"id\":\"f7b89c46-f066-4a82-9e90-8b9ae25c8cf4\",\"type\":\"LegendItem\"},{\"id\":\"13c4e71c-2756-4d64-97fe-4247f26fab27\",\"type\":\"LegendItem\"}],\"plot\":{\"id\":\"d7fc79b9-86ba-452b-bc52-c002daa90576\",\"subtype\":\"Figure\",\"type\":\"Plot\"}},\"id\":\"62d14226-1081-42bd-9170-43a8e9ccba86\",\"type\":\"Legend\"},{\"attributes\":{\"callback\":null,\"column_names\":[\"width\",\"x\",\"y\",\"function\",\"color\",\"key\"],\"data\":{\"color\":[\"#440154\",\"#440154\",\"#440154\",\"#440154\",\"#440154\",\"#440154\",\"#440154\",\"#440154\",\"#440154\",\"#440154\",\"#440154\",\"#440154\",\"#440154\",\"#440154\",\"#440154\",\"#440154\",\"#440154\",\"#440154\",\"#440154\",\"#440154\",\"#440154\",\"#440154\",\"#440154\",\"#440154\",\"#440154\",\"#440154\",\"#440154\",\"#440154\",\"#440154\",\"#440154\",\"#440154\",\"#440154\",\"#440154\",\"#440154\",\"#440154\",\"#440154\",\"#440154\",\"#440154\",\"#440154\",\"#440154\",\"#440154\",\"#440154\",\"#440154\",\"#440154\",\"#440154\",\"#440154\",\"#440154\",\"#440154\",\"#440154\",\"#440154\",\"#440154\",\"#440154\",\"#440154\",\"#440154\",\"#440154\",\"#440154\",\"#440154\",\"#440154\",\"#440154\",\"#440154\",\"#440154\",\"#440154\",\"#440154\",\"#440154\",\"#440154\",\"#440154\",\"#440154\",\"#440154\",\"#440154\",\"#440154\",\"#440154\",\"#440154\",\"#440154\",\"#440154\",\"#440154\",\"#440154\",\"#440154\",\"#440154\",\"#440154\",\"#440154\",\"#440154\",\"#440154\",\"#440154\",\"#440154\",\"#440154\",\"#440154\",\"#440154\",\"#440154\",\"#440154\",\"#440154\",\"#440154\",\"#440154\",\"#440154\",\"#440154\",\"#440154\",\"#440154\",\"#440154\",\"#440154\",\"#440154\",\"#440154\",\"#208F8C\"],\"function\":[\"module2regulome_numba_impl(...)\",\"module2regulome_numba_impl(...)\",\"module2regulome_numba_impl(...)\",\"module2regulome_numba_impl(...)\",\"module2regulome_numba_impl(...)\",\"module2regulome_numba_impl(...)\",\"module2regulome_numba_impl(...)\",\"module2regulome_numba_impl(...)\",\"module2regulome_numba_impl(...)\",\"module2regulome_numba_impl(...)\",\"module2regulome_numba_impl(...)\",\"module2regulome_numba_impl(...)\",\"module2regulome_numba_impl(...)\",\"module2regulome_numba_impl(...)\",\"module2regulome_numba_impl(...)\",\"module2regulome_numba_impl(...)\",\"module2regulome_numba_impl(...)\",\"module2regulome_numba_impl(...)\",\"module2regulome_numba_impl(...)\",\"module2regulome_numba_impl(...)\",\"module2regulome_numba_impl(...)\",\"module2regulome_numba_impl(...)\",\"module2regulome_numba_impl(...)\",\"module2regulome_numba_impl(...)\",\"module2regulome_numba_impl(...)\",\"module2regulome_numba_impl(...)\",\"module2regulome_numba_impl(...)\",\"module2regulome_numba_impl(...)\",\"module2regulome_numba_impl(...)\",\"module2regulome_numba_impl(...)\",\"module2regulome_numba_impl(...)\",\"module2regulome_numba_impl(...)\",\"module2regulome_numba_impl(...)\",\"module2regulome_numba_impl(...)\",\"module2regulome_numba_impl(...)\",\"module2regulome_numba_impl(...)\",\"module2regulome_numba_impl(...)\",\"module2regulome_numba_impl(...)\",\"module2regulome_numba_impl(...)\",\"module2regulome_numba_impl(...)\",\"module2regulome_numba_impl(...)\",\"module2regulome_numba_impl(...)\",\"module2regulome_numba_impl(...)\",\"module2regulome_numba_impl(...)\",\"module2regulome_numba_impl(...)\",\"module2regulome_numba_impl(...)\",\"module2regulome_numba_impl(...)\",\"module2regulome_numba_impl(...)\",\"module2regulome_numba_impl(...)\",\"module2regulome_numba_impl(...)\",\"module2regulome_numba_impl(...)\",\"module2regulome_numba_impl(...)\",\"module2regulome_numba_impl(...)\",\"module2regulome_numba_impl(...)\",\"module2regulome_numba_impl(...)\",\"module2regulome_numba_impl(...)\",\"module2regulome_numba_impl(...)\",\"module2regulome_numba_impl(...)\",\"module2regulome_numba_impl(...)\",\"module2regulome_numba_impl(...)\",\"module2regulome_numba_impl(...)\",\"module2regulome_numba_impl(...)\",\"module2regulome_numba_impl(...)\",\"module2regulome_numba_impl(...)\",\"module2regulome_numba_impl(...)\",\"module2regulome_numba_impl(...)\",\"module2regulome_numba_impl(...)\",\"module2regulome_numba_impl(...)\",\"module2regulome_numba_impl(...)\",\"module2regulome_numba_impl(...)\",\"module2regulome_numba_impl(...)\",\"module2regulome_numba_impl(...)\",\"module2regulome_numba_impl(...)\",\"module2regulome_numba_impl(...)\",\"module2regulome_numba_impl(...)\",\"module2regulome_numba_impl(...)\",\"module2regulome_numba_impl(...)\",\"module2regulome_numba_impl(...)\",\"module2regulome_numba_impl(...)\",\"module2regulome_numba_impl(...)\",\"module2regulome_numba_impl(...)\",\"module2regulome_numba_impl(...)\",\"module2regulome_numba_impl(...)\",\"module2regulome_numba_impl(...)\",\"module2regulome_numba_impl(...)\",\"module2regulome_numba_impl(...)\",\"module2regulome_numba_impl(...)\",\"module2regulome_numba_impl(...)\",\"module2regulome_numba_impl(...)\",\"module2regulome_numba_impl(...)\",\"module2regulome_numba_impl(...)\",\"module2regulome_numba_impl(...)\",\"module2regulome_numba_impl(...)\",\"module2regulome_numba_impl(...)\",\"module2regulome_numba_impl(...)\",\"module2regulome_numba_impl(...)\",\"module2regulome_numba_impl(...)\",\"module2regulome_numba_impl(...)\",\"module2regulome_numba_impl(...)\",\"module2regulome_numba_impl(...)\",\"list([_, _, _, ...])\"],\"key\":[\"module2regulome_numba_impl-06ba17d2-dbbf-4485-aaff-aec06236379b\",\"module2regulome_numba_impl-0711b055-5659-42d7-8f38-520b43f4cb9d\",\"module2regulome_numba_impl-07ff0f66-c192-4db1-858a-eaaafa7de171\",\"module2regulome_numba_impl-08cb217f-fc50-4d09-9821-2c59fd812693\",\"module2regulome_numba_impl-0a325b96-8b72-438b-806d-71ff89f0c0cd\",\"module2regulome_numba_impl-0e7e49ae-0c21-4c51-8344-4135df5039ff\",\"module2regulome_numba_impl-141d8d62-cbb8-4f6b-a348-bf787ed9949b\",\"module2regulome_numba_impl-174db9ff-6fa9-4064-8177-7c7074ddc15f\",\"module2regulome_numba_impl-1750b718-5b58-4c61-a8a2-0c007881d764\",\"module2regulome_numba_impl-17f576a8-1978-4145-8d47-fb68859e7f81\",\"module2regulome_numba_impl-19953fad-f8ac-4980-ac3c-88d6257859f8\",\"module2regulome_numba_impl-199e09a4-b727-403d-8850-81c7eaa8d268\",\"module2regulome_numba_impl-215a0b9d-6b38-4192-be67-0b206d63f8fe\",\"module2regulome_numba_impl-232e41c1-7bdc-45e6-88a0-1beb3e4f3295\",\"module2regulome_numba_impl-238b2531-754d-448a-8c5a-5559fb86594e\",\"module2regulome_numba_impl-2582c2a4-a174-4e66-9ce4-e0bfaa362bc1\",\"module2regulome_numba_impl-25f0f176-7372-4608-8854-10e7e28338e7\",\"module2regulome_numba_impl-282f4c7e-a9c7-4f48-892b-7d0b5000aa87\",\"module2regulome_numba_impl-2b4972d8-6c47-4748-97a9-e337c3d7c04e\",\"module2regulome_numba_impl-2d07e33c-b452-4f17-9dc8-89e037f003b1\",\"module2regulome_numba_impl-2f5122db-ddf9-432b-aabc-8b5a9b30bd9e\",\"module2regulome_numba_impl-39b1ec32-1a5c-48f9-a25a-0c5e47582003\",\"module2regulome_numba_impl-3ad5faa2-d931-4a28-9e31-f3e6b498bfaf\",\"module2regulome_numba_impl-3f7107d8-4857-4970-a2bf-908bd25d2171\",\"module2regulome_numba_impl-45d35897-84bd-4ff1-8b1d-5c9931c7732e\",\"module2regulome_numba_impl-4856bdf6-1333-4cf9-920c-3252122a46e9\",\"module2regulome_numba_impl-494968d4-dc4f-4f49-8010-5501b1807bd6\",\"module2regulome_numba_impl-495b1d5c-d0e8-4258-a729-36bf6cf1ce6b\",\"module2regulome_numba_impl-4b353d40-7e93-4beb-91d0-c5abace41c51\",\"module2regulome_numba_impl-4d5290ec-3b52-4835-a8d1-2ba542e9f656\",\"module2regulome_numba_impl-51942ab8-484c-478b-9211-f7b58438e9e5\",\"module2regulome_numba_impl-5374e734-a35d-4014-893b-24faa50dd260\",\"module2regulome_numba_impl-587a3343-46af-4b8c-956c-7d8866b69e12\",\"module2regulome_numba_impl-58df07b6-1b36-4c18-b4ab-a79f70aedfaa\",\"module2regulome_numba_impl-5d53d49f-1300-4087-a1f8-00d041c98c67\",\"module2regulome_numba_impl-5eb2962f-0bfa-4981-a52c-d5cb869126fb\",\"module2regulome_numba_impl-656fadc5-470c-4baf-a975-171054d484f8\",\"module2regulome_numba_impl-67f69653-45e4-4d38-b417-e0abb0867153\",\"module2regulome_numba_impl-7205fcc2-c3a5-4199-ae14-d91d0ed27f5b\",\"module2regulome_numba_impl-7599eb5e-b577-40d1-bf20-ad300727dadf\",\"module2regulome_numba_impl-75c08b41-a115-405a-8df7-4ef64f6823a4\",\"module2regulome_numba_impl-75cb8420-530f-4b99-90f5-55fecbd0fbab\",\"module2regulome_numba_impl-7658acdd-0545-4228-aff7-341c6bfd5e35\",\"module2regulome_numba_impl-772b50d7-c865-4ad2-9257-f5324530123f\",\"module2regulome_numba_impl-79e2f009-c781-45d6-bb23-b7146fd78da0\",\"module2regulome_numba_impl-7bd78f77-1c82-40dd-82b3-082c31f3b130\",\"module2regulome_numba_impl-7cf26988-3875-45c9-b83f-2f8805447a10\",\"module2regulome_numba_impl-7de1f257-a16b-462e-a2f3-b6e26f08b44f\",\"module2regulome_numba_impl-7e937e06-9c6f-4dd1-9a61-5bd465f98a36\",\"module2regulome_numba_impl-8153f881-41e8-49dc-aa23-a7b444198a27\",\"module2regulome_numba_impl-85ea24cf-c651-469d-84ad-ede405c78ed2\",\"module2regulome_numba_impl-88040906-d8f1-48be-a0aa-45761c0e47e6\",\"module2regulome_numba_impl-8a3c3393-0463-4a45-a4e2-ea7b3d652e83\",\"module2regulome_numba_impl-8d5d50e7-5102-4fbe-8262-faeb304f4de4\",\"module2regulome_numba_impl-8dbb5a2b-bc1a-4267-ae57-85a40ed0ae53\",\"module2regulome_numba_impl-8f38123f-12c1-4753-ae35-7e06d97d6df0\",\"module2regulome_numba_impl-926fb9ad-db63-443e-8216-8aafa8c25016\",\"module2regulome_numba_impl-928fabec-55c8-4f7c-a6f6-2f4e1dbb028b\",\"module2regulome_numba_impl-9358c5e5-1dd8-4a18-ac88-1be6fcca12a0\",\"module2regulome_numba_impl-95a3a857-ab11-4657-955b-db3304bdee7d\",\"module2regulome_numba_impl-97ebacec-4704-4a36-a254-6bbd18188a0f\",\"module2regulome_numba_impl-9a1e5fbc-627d-4c46-9655-8995a8dcbf2c\",\"module2regulome_numba_impl-9c707304-be71-4ddd-9571-09e56e3f0315\",\"module2regulome_numba_impl-9ff36cec-2f62-442c-9fea-2c5fcfda7853\",\"module2regulome_numba_impl-a4a0022f-7b18-47d2-9914-359770448807\",\"module2regulome_numba_impl-a54432a3-39c2-4b8a-916d-71a68c63d987\",\"module2regulome_numba_impl-a72e0fac-3722-4c9e-ab51-10099aa2d7ab\",\"module2regulome_numba_impl-a7cb7d06-d66f-49b0-b147-37b09b74d96c\",\"module2regulome_numba_impl-a7ebeaa3-5054-4191-bf07-e14434034996\",\"module2regulome_numba_impl-a85928b1-b2f0-429d-92b0-01c68ff03b7f\",\"module2regulome_numba_impl-af4ef658-7e48-4a18-b392-927b2405c930\",\"module2regulome_numba_impl-b485df09-9227-41d4-af60-6f3c27c13e9e\",\"module2regulome_numba_impl-b8e447a0-a50e-4585-88e2-4c0c4b34d75b\",\"module2regulome_numba_impl-baed34db-0c57-4a42-8f06-7013d53c3bd1\",\"module2regulome_numba_impl-bb2e90d2-5643-413f-bbf9-4421394403e3\",\"module2regulome_numba_impl-bdc8a9db-d25d-425f-b570-cf44ec438506\",\"module2regulome_numba_impl-bf55e81f-6f13-4d3b-a603-4e3c1aca1546\",\"module2regulome_numba_impl-bfc2eb4d-0f2f-4ca7-91b6-f63c52ed290d\",\"module2regulome_numba_impl-c77c0a57-6f69-4523-b164-0453b6730e67\",\"module2regulome_numba_impl-c87956dd-eae2-4bab-be48-55012aa599eb\",\"module2regulome_numba_impl-c9223d9b-c76c-4870-a93d-3dbce5ebe418\",\"module2regulome_numba_impl-ccf536da-8aee-4984-8170-320960af439b\",\"module2regulome_numba_impl-cd8a2254-20ef-4866-ae3e-6f9d6497ec22\",\"module2regulome_numba_impl-cf2d15dc-af9e-40de-9969-972d5746827b\",\"module2regulome_numba_impl-d1bc6df3-92d9-4ff1-b85c-1f6087201f91\",\"module2regulome_numba_impl-d200a536-6b00-42c7-8852-52572c941c79\",\"module2regulome_numba_impl-d916e5e0-87c3-4b05-8e79-a0866d77e263\",\"module2regulome_numba_impl-d9a8d809-0352-4ce3-8c35-089bb4fc8113\",\"module2regulome_numba_impl-dbf61bac-0bf3-4667-8b30-bda79b150e78\",\"module2regulome_numba_impl-dc347745-7539-4198-a487-81f39310c5b2\",\"module2regulome_numba_impl-dc8804e0-ba24-40ca-a5a2-6ecf74a9432e\",\"module2regulome_numba_impl-e211fc54-3714-460a-8b4b-7b3f9402b075\",\"module2regulome_numba_impl-e6c92cea-e77b-4e92-93bc-36d341e5b899\",\"module2regulome_numba_impl-e84b9f8f-7b05-4294-ab75-70e03ce5f33f\",\"module2regulome_numba_impl-eaf2be5c-9513-460a-af4b-8ebd465024d5\",\"module2regulome_numba_impl-ec30a294-2573-4a6b-9f00-771cce987534\",\"module2regulome_numba_impl-eef2adb0-e8eb-4404-952a-1e35712fda17\",\"module2regulome_numba_impl-efcee5c3-98e5-4b56-a937-91d734bd99da\",\"module2regulome_numba_impl-f09aebef-dee2-4461-9f0c-b4d60c77f0cd\",\"module2regulome_numba_impl-f19da30f-725f-4490-a33d-00fea770799c\",\"list_of_filter-0ee51410-a799-4c23-824e-30821516bafc\"],\"width\":[9.015514144999543,6.874985986999491,8.522201431000212,8.656153749000623,10.584453378000035,8.071799342999839,9.674537020999196,12.610536553000202,9.54745097400064,9.290241222000077,5.970160945999851,11.34116892900056,15.451560321000215,6.45722291400034,6.1888145639995855,8.371978133000084,5.883169302000169,8.217567376999796,6.247490018999997,17.658091665999564,8.485545543000626,6.325785037999594,7.859903396999471,7.859415828999772,10.801635437999721,7.006308687000455,7.722823091999999,5.9647849200000564,18.190003216999685,8.170048127999507,8.41621402599958,9.470530245999726,7.088557018000756,8.698370277999857,9.337372638000488,8.690384685000026,11.602420451000398,14.588929079000081,7.929405976999988,9.111515641999176,8.967893945000469,8.630449154000416,9.567058511000141,10.313759501000277,7.480702656999711,11.189693231999627,7.097531211999922,7.721858466000413,5.7760008690002,7.887145988999691,7.972253904999889,8.647186002000126,6.827542782000819,7.487896202999764,7.870742002999577,8.303900396000245,7.996800490000169,7.770967121000467,8.804729884000153,6.836012390000178,7.9465583049995985,8.044540140999743,7.815810158000204,7.452854367000327,7.52686691100007,7.562061194999842,10.364804241999991,6.68400143100007,6.832252420999794,8.967536271999961,11.028652208000494,8.159513828000854,8.024486586000421,9.85813212999983,8.023487886000112,9.262801748000129,8.721466134000366,5.278547107000122,7.415694082999835,9.769392594999772,7.2012251759997525,5.488220016000014,8.674146456000017,9.102999576000002,9.393452702000104,15.377100448999954,10.864606527999968,8.001665327999945,8.192045458999928,9.822297491999961,7.2072857080001995,9.376477204999901,9.671907105999708,7.92012697500013,6.849778818000232,6.016429035000328,6.390400606000185,4.854329863999737,4.697364000999187,6.850131947999216,0.2292248939993442],\"x\":[4.507757072499771,4.343278399499468,5.852180527499513,6.732982263500162,8.52051678099997,8.279646615499587,10.216417178499796,12.978321354499712,12.6289348600003,13.704824516998997,13.136982624999291,16.776446347499586,20.094510634499784,17.07214881499931,18.19834978399922,20.31651167849941,20.388346116999855,22.484299431499494,22.407948996500636,29.130801412000437,25.536162600499665,25.660070216999884,27.260329289500078,28.43249145649952,30.932737621999877,30.096547385499434,31.681993594000232,31.80569940100031,38.87432638449991,35.275805609999225,36.57061685999997,38.335455071999604,38.33260803799931,39.89305480099938,41.00319326600038,42.305717214499964,45.1627347854992,48.07427167449987,45.84222713749932,47.627172626000174,48.72652880949954,50.028622547999476,51.458479257499675,53.17531875249915,53.59146108549976,56.60464711199984,55.781411926000146,57.072023234999506,57.26379746849943,59.31261595249998,60.229106941499595,61.70470161400044,61.76927361399976,63.09998724249999,64.10972730749927,65.10930414599989,66.24779540799955,67.1684948434995,68.64184403099898,68.62301070499961,70.02964265650007,70.89259548149948,71.98182035100035,73.02297742149949,74.0337165234996,74.85932444149967,77.24689036100062,76.41331983549935,77.44814332549959,79.42359579299955,81.42913003499962,80.85350678899977,81.83198411899957,83.59474920499997,83.79079560599894,85.52634429199952,86.82120694599962,86.5746395494998,88.6693465444996,90.75460421349999,90.57290821700008,90.57154030399943,92.88610946799963,93.79049849399962,94.88753250300033,98.90300215349998,97.84056684499956,97.34257484299997,98.31989729450015,100.59565534799913,100.86719072899996,103.05965670549995,104.45384220399956,105.32969904650054,105.8650947240003,106.2818070354997,107.70480981699984,107.97016743399945,108.97237644750021,111.17348853200019,114.71341650199975],\"y\":[4,8,6,5,2,7,3,1,8,4,6,5,7,2,3,6,8,4,1,2,3,5,8,6,1,4,7,5,3,8,6,4,5,7,1,2,8,6,5,4,7,1,2,3,5,8,4,7,1,6,2,5,3,4,1,7,8,6,2,3,5,4,1,7,8,6,3,2,5,4,1,7,8,6,2,5,3,4,7,8,1,2,6,4,5,3,7,2,1,8,6,4,5,2,1,7,6,8,3,4,2]}},\"id\":\"cf9c199e-5896-4538-8c10-47a743aee84d\",\"type\":\"ColumnDataSource\"},{\"attributes\":{\"source\":{\"id\":\"10bf697a-cabd-4f53-95e6-5011dd3d9ae8\",\"type\":\"ColumnDataSource\"}},\"id\":\"30be7cc6-6669-4893-b193-6494afafbe05\",\"type\":\"CDSView\"},{\"attributes\":{\"axis_label\":null,\"axis_line_color\":{\"value\":null},\"formatter\":{\"id\":\"41db7aab-0d8c-4887-a660-bd10c3f0ef85\",\"type\":\"BasicTickFormatter\"},\"major_tick_line_color\":{\"value\":null},\"plot\":{\"id\":\"33b5e4db-6c84-48e5-9c3f-4ad4b6209b90\",\"subtype\":\"Figure\",\"type\":\"Plot\"},\"ticker\":{\"id\":\"727c024d-f7bb-41ba-9921-cc7d51b4e6c2\",\"type\":\"BasicTicker\"}},\"id\":\"eb4602f9-0a4e-4c7d-aab7-22ec6781177a\",\"type\":\"LinearAxis\"},{\"attributes\":{\"data_source\":{\"id\":\"10bf697a-cabd-4f53-95e6-5011dd3d9ae8\",\"type\":\"ColumnDataSource\"},\"glyph\":{\"id\":\"be150ae1-e961-425a-aa2f-4ffb21132d4a\",\"type\":\"Line\"},\"hover_glyph\":null,\"muted_glyph\":null,\"nonselection_glyph\":{\"id\":\"7cc3646e-57bc-4c4e-9388-30ce2ae01593\",\"type\":\"Line\"},\"selection_glyph\":null,\"view\":{\"id\":\"30be7cc6-6669-4893-b193-6494afafbe05\",\"type\":\"CDSView\"}},\"id\":\"5dd68210-9a20-4627-bcc4-f41174def9ce\",\"type\":\"GlyphRenderer\"},{\"attributes\":{},\"id\":\"727c024d-f7bb-41ba-9921-cc7d51b4e6c2\",\"type\":\"BasicTicker\"},{\"attributes\":{\"line_alpha\":0.1,\"line_color\":\"#1f77b4\",\"line_width\":4,\"x\":{\"field\":\"x\"},\"y\":{\"field\":\"y\"}},\"id\":\"7cc3646e-57bc-4c4e-9388-30ce2ae01593\",\"type\":\"Line\"},{\"attributes\":{\"grid_line_color\":{\"value\":null},\"plot\":{\"id\":\"33b5e4db-6c84-48e5-9c3f-4ad4b6209b90\",\"subtype\":\"Figure\",\"type\":\"Plot\"},\"ticker\":{\"id\":\"727c024d-f7bb-41ba-9921-cc7d51b4e6c2\",\"type\":\"BasicTicker\"}},\"id\":\"d87ee2e6-dde4-4f0a-967f-3c89f0dc5678\",\"type\":\"Grid\"},{\"attributes\":{\"line_color\":\"#440154\",\"line_width\":4,\"x\":{\"field\":\"x\"},\"y\":{\"field\":\"y\"}},\"id\":\"be150ae1-e961-425a-aa2f-4ffb21132d4a\",\"type\":\"Line\"},{\"attributes\":{\"axis_label\":\"Worker ID\",\"axis_line_color\":{\"value\":null},\"formatter\":{\"id\":\"713aa120-c841-43e9-afc0-23f917e55a25\",\"type\":\"CategoricalTickFormatter\"},\"major_tick_line_color\":{\"value\":null},\"plot\":{\"id\":\"33b5e4db-6c84-48e5-9c3f-4ad4b6209b90\",\"subtype\":\"Figure\",\"type\":\"Plot\"},\"ticker\":{\"id\":\"8c5293e7-2539-4680-ae8c-5f5d99c245fe\",\"type\":\"CategoricalTicker\"}},\"id\":\"b309a92a-34a0-4221-bf2b-0b5fc31359fb\",\"type\":\"CategoricalAxis\"},{\"attributes\":{},\"id\":\"130ad209-3a91-462a-ba5d-5a79ba5b2b06\",\"type\":\"BasicTickFormatter\"},{\"attributes\":{},\"id\":\"8c5293e7-2539-4680-ae8c-5f5d99c245fe\",\"type\":\"CategoricalTicker\"},{\"attributes\":{\"callback\":null,\"column_names\":[\"x\",\"y\"],\"data\":{\"x\":[0.0,0.25164467100057664,0.5025665330003903,0.7529188030002842,1.0035409510001045,1.2585021400000187,1.5099093569997422,1.7613455020000401,2.012119439000344,2.262807867000447,2.5142448030001106,2.7654180110002926,3.0168971700004477,3.2683999060000133,3.5198791789998722,3.770792729999812,4.021432874000311,4.272912668000572,4.524469804000546,4.776001965000432,5.026559597999949,5.277096951000203,5.528821271999732,5.780018901000403,6.0317328640003325,6.282858501999726,6.534471205000045,6.786674097999821,7.037383845000477,7.290351329000259,7.542177381000329,7.793886567999834,8.044892969000102,8.297255790000236,8.548855774000003,8.800532184000076,9.052017064999745,9.303612613000041,9.555282051000177,9.806281279000359,10.057665723000355,10.309073978000015,10.56065473200033,10.812157010999726,11.062941211999714,11.314513518999775,11.565337312000338,11.816984664999836,12.067887717999838,12.318622859999778,12.57040102100018,12.821243397000217,13.072780421000061,13.32433029799995,13.576037994999751,13.82766630200058,14.079437143000177,14.3310455740002,14.581835830999808,14.832861455000057,15.084628951000013,15.335610656999961,15.586600266999994,15.838475563999964,16.090172045000145,16.341835019000428,16.593316749999758,16.844955309000397,17.09640538700023,17.348093169000094,17.599876936999863,17.851517287000206,18.102464309000425,18.353444872999717,18.60464115800005,18.856269486999736,19.10792042200046,19.359581020000405,19.611202251000577,19.861785864000012,20.113862387000154,20.364433450000433,20.616115060000084,20.867313210000248,21.118223018000208,21.370045921000383,21.62108262499987,21.87194952400023,22.123789248999856,22.375412104000134,22.627080283000396,22.87875247000011,23.130236726000476,23.381554770000548,23.63290871299978,23.88377399000001,24.135290031000295,24.386679238999932,24.63774773700061,24.889630562000093,25.14072367600056,25.39261475800049,25.64332542000011,25.894821941999908,26.146484546000465,26.398088052000276,26.649024459999964,26.899771999000222,27.151292898000065,27.402926225000556,27.654647966000084,27.905591882000408,28.157087651000438,28.40814495199993,28.659102268000424,28.909887669000454,29.16122950600038,29.41338967699994,29.66528312199989,29.91646595400016,30.16808695800046,30.41892878100043,30.670512311000493,30.92174629300007,31.17274547299985,31.424277699999948,31.675424392999957,31.926584937999905,32.178331175000494,32.43001606400048,32.68148082100015,32.933227733999956,33.18509747600001,33.43690484800027,33.68819051900027,33.939439226000104,34.19112772100016,34.4420727630004,34.69386218300042,34.94558302899986,35.19626991899986,35.4478204750003,35.69870686700051,35.950837995000256,36.20239939299972,36.45361992300059,36.70477111299988,36.95562057200004,37.20705085999998,37.45771227499972,37.70942154000022,37.96079327900043,38.21216174900019,38.46413429800032,38.715357363000294,38.966850169999816,39.218603839000025,39.47175115400023,39.72246721800002,39.974717328000224,40.226120764999905,40.47783202000028,40.728824145000544,40.98040880100052,41.23228197499975,41.48315517300034,41.73498285700043,41.98580106100053,42.23751310300031,42.48914025300019,42.740767152000444,42.992401649000385,43.24313718099984,43.49394828000004,43.74550292599997,43.997262161000435,44.24913380900034,44.50090168800034,44.752761208000265,45.00363320300039,45.255271660999824,45.50596008699995,45.75749429500047,46.008443802999864,46.26038500100003,46.51260476900006,46.76325780600018,47.015106969000044,47.265745400000014,47.51638404000005,47.767201816000124,48.01794125500055,48.26943978899999,48.52000199000031,48.77132224900015,49.02293996200024,49.27514751600029,49.528461972000514,49.77977379100048,50.03109386899996,50.28256332000001,50.534409050999784,50.78522351100037,51.036896026999784,51.288629038999716,51.540053898000224,51.79171226300059,52.04282581900043,52.29459400700034,52.545562971000436,52.79722993999985,53.048893160999796,53.30050122500052,53.552298247999715,53.80384832799973,54.055621246000555,54.30638424800054,54.55847679100043,54.80954823800039,55.06123503100025,55.3121909850006,55.56276425899978,55.81381096200039,56.064631197999915,56.31612746600058,56.56730721399981,56.81896952999978,57.07060746099978,57.321338356000524,57.57308951699997,57.824366949999785,58.07629768900006,58.32810705199972,58.57976167900051,58.831765601999905,59.08362381400002,59.33449700500023,59.58522401200025,59.83684738500051,60.08849151400045,60.340103763000116,60.59164552200036,60.84280276299978,61.09422437600006,61.34512684299989,61.59659740799998,61.84749339600057,62.09904033800012,62.35078181500012,62.6020046929998,62.85440941399975,63.10548154499975,63.35788901199976,63.609115743000075,63.860831080000025,64.11239675399975,64.36301887399986,64.61461252200024,64.86542986800032,65.1167806780004,65.36790523499985,65.61953024800005,65.87043892400015,66.12215792700044,66.37361301400051,66.62410257600004,66.87528184999974,67.12679567099985,67.37819884500004,67.629803283,67.88022667400037,68.13068530200053,68.38167213500037,68.63320147800005,68.88423784400038,69.13509286499993,69.38591604700014,69.63708012200004,69.88859383100043,70.13945853299992,70.3908840969998,70.64251425400016,70.8939131420002,71.14536182600023,71.39604747399972,71.64765904900014,71.8988991440001,72.149677763,72.40113164700051,72.65221847800058,72.90317191899976,73.15499536400057,73.4061455430001,73.6570851940005,73.9077552990002,74.15946613800043,74.41040153799986,74.66199839700039,74.91290936899986,75.16451422099999,75.41605313299988,75.666852845,75.91786720999971,76.16898575800042,76.42060761599987,76.67233317099999,76.92375456399986,77.17519234300016,77.42603338400022,77.67717073699987,77.92883241900017,78.18054679200031,78.43229566599985,78.68363548399975,78.93531950000033,79.18576295100047,79.43730878000042,79.68887739599995,79.94030280700008,80.19199139100056,80.44356099300057,80.69517958400047,80.94577530300012,81.19756442700054,81.44918936700014,81.7009376470005,81.95209194200015,82.20373368899982,82.45525567799996,82.70708157300032,82.95887470100024,83.2106927220002,83.46146528700046,83.71301489800044,83.9642148820003,84.21600196899999,84.46776555500037,84.71882853100033,84.96944966800038,85.22065732300052,85.4716339860006,85.72308681899995,85.97487397799978,86.22570925899981,86.4771416399999,86.72791802899974,86.97958203800044,87.23058114300056,87.48212174699984,87.73309468499974,87.98379292800018,88.23529743000017,88.48612642599983,88.73774704300013,88.98919691500032,89.24028043999988,89.49175848899995,89.74224920000051,89.99286051499985,90.2438957660006,90.49476646800031,90.74638536400016,90.99732043200038,91.24879646600039,91.50016432899974,91.75183780899988,92.0027107269998,92.253938586,92.50581934799993,92.75732513700041,93.00849382700017,93.25942347,93.51023880499997,93.76106426600018,94.01194770599977,94.26255699100057,94.51360595700044,94.7652909590006,95.01666918200044,95.26742534599998,95.51877198500006,95.76992472500024,96.02162450000014,96.27377717899981,96.52534649500012,96.78039364200049,97.03204468400054,97.28377906400056,97.53572799300036,97.78793911600042,98.0385213489999,98.29025181199995,98.54106634599975,98.7926801450003,99.0438366620001,99.29458393000004,99.54647027400006,99.79757591700036,100.04835479600024,100.3000389710005,100.55084595900007,100.80325893000008,101.05501900699983,101.30689662700024,101.55769556799987,101.80959021099989,102.06101777399999,102.31291564100047,102.56411616600053,102.81505583600028,103.06658863699977,103.31746902800023,103.56876345700039,103.81972554000004,104.0713397720001,104.32279894000021,104.57440137200047,104.82606513500014,105.07730894900033,105.32898717999979,105.5812365769998,105.83262348400058,106.08378622600048,106.33560229600062,106.58726779600056,106.83796237699971,107.08963230800055,107.34049037499972,107.59168600199973,107.843574128,108.09441902300023,108.34660817300028,108.59822438799984,108.84889169400049,109.10135581000031,109.3531980530006,109.60457218400006,109.85620534900045,110.10811058099989,110.36050021400024,110.61229493800056,110.8631251830002,111.11483556500025,111.36623619800048,111.61701219800034,111.86805558200012,112.11949105999975,112.37115977699978,112.62165536900011,112.87316543700035,113.12381048499992,113.37485463200028,113.62627316999988,113.87704174800001,114.12850751400038,114.37901185700048,114.62963785300053,114.88117306100048,115.13193655000032,115.38332993499989,115.63402784000027,115.88554339700022],\"y\":[0.0,100.0,99.6,99.89999999999999,99.8,99.7,100.3,100.2,100.10000000000001,171.6,200.09999999999997,199.79999999999998,299.3,298.8,300.1,376.0,399.09999999999997,397.8,446.2,501.29999999999995,499.2,493.20000000000005,528.4,588.6,581.1,593.5,585.3,676.1000000000001,672.5,589.5999999999999,598.0,594.3,667.4,594.8000000000001,600.4,596.3,556.7,601.9,596.3,596.1,576.9000000000001,510.5,499.59999999999997,497.7,501.4,497.90000000000003,552.1999999999999,498.99999999999994,499.4,509.80000000000007,583.8999999999999,502.3,499.29999999999995,498.2,512.9000000000001,591.3,499.7,499.5,493.7,505.2,524.4999999999999,523.4999999999999,498.90000000000003,494.7,480.2,521.3000000000001,506.2,500.90000000000003,499.20000000000005,498.3,581.5999999999999,594.1999999999999,600.0999999999999,536.5999999999999,499.50000000000006,573.1999999999999,485.6000000000001,322.90000000000003,319.8,395.9,398.09999999999997,399.09999999999997,402.0999999999999,491.09999999999997,500.29999999999995,409.3,381.99999999999994,358.0,399.59999999999997,400.20000000000005,407.1,499.79999999999995,462.2,308.6,297.3,382.40000000000003,379.7,297.8,321.2,383.0,394.0,398.4,398.0,439.69999999999993,495.50000000000006,485.4,398.59999999999997,403.9,498.3,498.59999999999997,498.0,491.59999999999997,540.3,544.1999999999999,497.59999999999997,497.7,456.7,409.49999999999994,430.49999999999994,400.0,399.0,399.4,480.8,497.7,484.2,501.3,491.6,497.9,595.0,600.4,590.4,499.50000000000006,524.9999999999999,595.6999999999999,597.0999999999999,551.9,499.49999999999994,498.40000000000003,551.0999999999999,538.6,341.49999999999994,297.9,299.69999999999993,360.09999999999997,396.49999999999994,299.2,331.8,394.2,395.09999999999997,403.90000000000003,477.29999999999995,487.5,499.7,495.3,499.0,501.8,534.2,562.6999999999999,596.9,524.5999999999999,408.09999999999997,406.2,396.7,386.2,392.8,395.80000000000007,430.8,499.3,463.8,400.2,401.0,489.6,499.7,498.40000000000003,511.40000000000003,598.4,600.9999999999999,592.0999999999999,499.3,581.0,578.1,400.5,427.8,500.7,485.80000000000007,476.3,395.3,443.99999999999994,413.4,398.49999999999994,398.2,466.2,498.29999999999995,496.7,489.4,501.5,518.5,574.5,578.1,582.8000000000001,581.9,499.50000000000006,502.8,499.00000000000006,598.6999999999999,591.8,499.7,498.09999999999997,546.1999999999999,596.5999999999999,496.8,500.1,499.3,495.9,503.40000000000003,499.7,499.5,489.79999999999995,496.99999999999994,499.3,494.7,500.5,576.2,500.19999999999993,496.00000000000006,394.2,377.3,398.90000000000003,398.50000000000006,413.49999999999994,496.09999999999997,495.40000000000003,454.1,355.0,399.20000000000005,399.00000000000006,399.0,422.6000000000001,498.5,498.5,425.00000000000006,418.40000000000003,401.59999999999997,397.6,344.59999999999997,394.9,399.3,397.2,487.69999999999993,493.3,497.9,497.5,493.6,506.3,399.09999999999997,397.50000000000006,397.70000000000005,459.8,447.5999999999999,396.6000000000001,402.09999999999997,479.59999999999997,485.40000000000003,330.59999999999997,298.09999999999997,398.8,395.9,359.59999999999997,360.79999999999995,399.09999999999997,400.29999999999995,426.2,499.9,495.6000000000001,502.40000000000003,499.7,549.0,595.5000000000001,521.5,501.4,497.8,545.3,457.8,377.0,303.8,371.19999999999993,400.90000000000003,399.59999999999997,450.4,501.6000000000001,498.90000000000003,438.3,459.59999999999997,497.8,501.40000000000003,496.3,556.6000000000001,527.5000000000001,500.1,457.09999999999997,482.2,454.40000000000003,399.29999999999995,411.69999999999993,496.4,333.5,300.59999999999997,333.2,398.99999999999994,399.8,396.30000000000007,490.00000000000006,487.49999999999994,399.09999999999997,389.40000000000003,376.0,396.70000000000005,398.3,439.3,499.09999999999997,500.2,499.5,467.50000000000006,496.09999999999997,499.29999999999995,500.7,499.7,553.6,593.9,602.4999999999999,597.3,590.3,593.9,613.5,658.4,595.0999999999999,579.0999999999999,534.0,500.5,535.1999999999999,597.9,593.4,428.59999999999997,437.4,497.80000000000007,402.3,399.20000000000005,476.29999999999995,497.59999999999997,495.8,506.1,531.6,529.4999999999999,351.3,299.59999999999997,392.3,374.6,306.7,400.2,400.7,430.9,498.40000000000003,425.5,299.3,351.6,349.90000000000003,299.3,299.00000000000006,343.79999999999995,399.50000000000006,398.79999999999995,397.8,394.9,368.1,396.7,399.99999999999994,399.0,451.40000000000003,399.4,399.2,441.1000000000001,496.80000000000007,496.7,494.6000000000001,497.7,445.2,463.50000000000006,497.0,498.79999999999995,496.3999999999999,496.5,465.79999999999995,434.90000000000003,497.99999999999994,418.59999999999997,399.59999999999997,398.4,499.4,499.1,497.3,496.00000000000006,497.9,575.0,562.7,560.5999999999999,533.1999999999999,480.4,496.09999999999997,498.8,514.9000000000001,498.0,403.2,395.20000000000005,482.7,441.29999999999995,382.90000000000003,312.8,393.99999999999994,400.09999999999997,395.40000000000003,401.59999999999997,451.3,506.50000000000006,478.40000000000003,401.0,447.50000000000006,498.3,502.90000000000003,427.6,305.3,396.50000000000006,398.8999999999999,398.0,397.1,422.59999999999997,495.49999999999994,499.09999999999997,496.1000000000001,478.70000000000005,392.3,399.6,399.99999999999994,397.5,404.4,382.70000000000005,297.29999999999995,284.3,200.1,151.89999999999998,101.0,100.7,101.30000000000001,101.0,101.0,101.4,100.9,101.10000000000001,101.2,101.2,100.10000000000001,100.7,103.3]}},\"id\":\"10bf697a-cabd-4f53-95e6-5011dd3d9ae8\",\"type\":\"ColumnDataSource\"},{\"attributes\":{\"dimension\":1,\"grid_line_color\":{\"value\":null},\"plot\":{\"id\":\"33b5e4db-6c84-48e5-9c3f-4ad4b6209b90\",\"subtype\":\"Figure\",\"type\":\"Plot\"},\"ticker\":{\"id\":\"8c5293e7-2539-4680-ae8c-5f5d99c245fe\",\"type\":\"CategoricalTicker\"}},\"id\":\"9cb05013-30cd-4fc4-8c9d-2eb0e670d8c1\",\"type\":\"Grid\"},{\"attributes\":{\"callback\":null,\"column_names\":[\"x\",\"y\",\"label\"],\"data\":{\"label\":[\"list([_, _, _, ...])\",\"list([_, _, _, ...])\",\"list([_, _, _, ...])\",\"list([_, _, _, ...])\",\"list([_, _, _, ...])\",\"list([_, _, _, ...])\",\"list([_, _, _, ...])\",\"list([_, _, _, ...])\",\"list([_, _, _, ...])\",\"list([_, _, _, ...])\",\"list([_, _, _, ...])\",\"list([_, _, _, ...])\",\"list([_, _, _, ...])\",\"list([_, _, _, ...])\",\"list([_, _, _, ...])\",\"list([_, _, _, ...])\",\"list([_, _, _, ...])\",\"list([_, _, _, ...])\",\"list([_, _, _, ...])\",\"list([_, _, _, ...])\",\"list([_, _, _, ...])\",\"list([_, _, _, ...])\",\"list([_, _, _, ...])\",\"list([_, _, _, ...])\",\"list([_, _, _, ...])\",\"list([_, _, _, ...])\",\"list([_, _, _, ...])\",\"list([_, _, _, ...])\",\"list([_, _, _, ...])\",\"list([_, _, _, ...])\",\"list([_, _, _, ...])\",\"list([_, _, _, ...])\",\"list([_, _, _, ...])\",\"list([_, _, _, ...])\",\"list([_, _, _, ...])\",\"list([_, _, _, ...])\",\"list([_, _, _, ...])\",\"list([_, _, _, ...])\",\"list([_, _, _, ...])\",\"list([_, _, _, ...])\",\"list([_, _, _, ...])\",\"list([_, _, _, ...])\",\"list([_, _, _, ...])\",\"list([_, _, _, ...])\",\"list([_, _, _, ...])\",\"list([_, _, _, ...])\",\"list([_, _, _, ...])\",\"list([_, _, _, ...])\",\"list([_, _, _, ...])\",\"list([_, _, _, ...])\",\"list([_, _, _, ...])\",\"list([_, _, _, ...])\",\"list([_, _, _, ...])\",\"list([_, _, _, ...])\",\"list([_, _, _, ...])\",\"list([_, _, _, ...])\",\"list([_, _, _, ...])\",\"list([_, _, _, ...])\",\"list([_, _, _, ...])\",\"list([_, _, _, ...])\",\"list([_, _, _, ...])\",\"list([_, _, _, ...])\",\"list([_, _, _, ...])\",\"list([_, _, _, ...])\",\"list([_, _, _, ...])\",\"list([_, _, _, ...])\",\"list([_, _, _, ...])\",\"list([_, _, _, ...])\",\"list([_, _, _, ...])\",\"list([_, _, _, ...])\",\"list([_, _, _, ...])\",\"list([_, _, _, ...])\",\"list([_, _, _, ...])\",\"list([_, _, _, ...])\",\"list([_, _, _, ...])\",\"list([_, _, _, ...])\",\"list([_, _, _, ...])\",\"list([_, _, _, ...])\",\"list([_, _, _, ...])\",\"list([_, _, _, ...])\",\"list([_, _, _, ...])\",\"list([_, _, _, ...])\",\"list([_, _, _, ...])\",\"list([_, _, _, ...])\",\"list([_, _, _, ...])\",\"list([_, _, _, ...])\",\"list([_, _, _, ...])\",\"list([_, _, _, ...])\",\"list([_, _, _, ...])\",\"list([_, _, _, ...])\",\"list([_, _, _, ...])\",\"list([_, _, _, ...])\",\"list([_, _, _, ...])\",\"list([_, _, _, ...])\",\"list([_, _, _, ...])\",\"list([_, _, _, ...])\",\"list([_, _, _, ...])\",\"list([_, _, _, ...])\",\"list([_, _, _, ...])\",\"list([_, _, _, ...])\",\"list([_, _, _, ...])\",\"list([_, _, _, ...])\",\"list([_, _, _, ...])\"],\"x\":[0,7.786647556999924,9.021404844000244,10.119169904000046,11.066950702000213,12.321435492000091,13.81863162100035,15.05957484299961,16.127951503000077,17.408552418,18.355836554000234,19.28948022700024,20.306649739999557,21.298648895999577,22.452917304999573,23.335822105999796,24.50839051999992,25.5375855530001,26.598974178999924,27.826180162999663,28.828854632999537,29.784823994000362,31.19616779700027,32.36808947699956,33.60559030599961,34.79398306799976,35.54929298299976,36.33944693899957,37.96573013200032,39.36672073699992,40.784612198000104,41.882777679000355,43.07660923000003,44.24813095100035,45.67777139000009,46.656798928999706,47.975218526999925,49.812818557000355,50.96983322699998,52.18881962700016,53.2163639649998,54.349734237999655,55.37462708699968,56.247898351,57.33770286500021,58.33808966000015,59.33606809899993,60.157689529999516,60.93884390600033,62.205370112999844,63.262080206000064,64.22112292299971,65.1889354089999,66.03418508300001,66.84982571,68.05098975799956,69.2671419799999,70.25208630500038,71.05986971899983,72.04690819899952,73.05010032700011,74.00881067800037,74.92075604399997,75.89561621200028,76.75529536500017,77.80304041700037,78.64624435299993,79.76120895999975,80.87015949200031,82.43517693000013,83.91325399800007,84.93915214499975,85.8501178309998,86.94934436200037,87.80843019300028,88.5297049009996,89.21980304699991,90.16363312900012,91.18782235100025,92.38308148299984,93.32154073499987,94.1794063139996,95.64518536800006,97.22907175,98.34788657399986,99.59013669399974,101.34929451599965,102.42181064400029,103.27875960799975,104.47672360900015,105.51269482299995,106.59742163600004,107.75378165199982,109.29563676900034,109.29568808099975,109.29587058499965,109.29591574400001,110.40321952999966,110.905899546,111.32694407599956,114.60444324299988,114.83381730099973,114.88754140200035],\"y\":[0,0,0,0,0,0,0,0,0,0,0,0,0,0,0,0,0,0,0,0,0,0,0,0,0,0,0,0,0,0,0,0,0,0,0,0,0,0,0,0,0,0,0,0,0,0,0,0,0,0,0,0,0,0,0,0,0,0,0,0,0,0,0,0,0,0,0,0,0,0,0,0,0,0,0,0,0,0,0,0,0,0,0,0,0,0,0,0,0,0,0,0,0,0,0,0,0,0,0,0,0,1,0]}},\"id\":\"4f41e7a0-8174-418b-96e2-31335a3bee64\",\"type\":\"ColumnDataSource\"},{\"attributes\":{\"fill_color\":{\"field\":\"color\"},\"height\":{\"units\":\"data\",\"value\":1},\"line_color\":{\"value\":\"gray\"},\"width\":{\"field\":\"width\",\"units\":\"data\"},\"x\":{\"field\":\"x\"},\"y\":{\"field\":\"y\"}},\"id\":\"622a5372-a5a4-43cb-819e-cbf936d4c26e\",\"type\":\"Rect\"},{\"attributes\":{\"source\":{\"id\":\"4f41e7a0-8174-418b-96e2-31335a3bee64\",\"type\":\"ColumnDataSource\"}},\"id\":\"521b7b89-381d-47f8-8eab-e2f3a98810e7\",\"type\":\"CDSView\"},{\"attributes\":{\"fill_alpha\":{\"value\":0.1},\"fill_color\":{\"value\":\"#1f77b4\"},\"height\":{\"units\":\"data\",\"value\":1},\"line_alpha\":{\"value\":0.1},\"line_color\":{\"value\":\"#1f77b4\"},\"width\":{\"field\":\"width\",\"units\":\"data\"},\"x\":{\"field\":\"x\"},\"y\":{\"field\":\"y\"}},\"id\":\"e4d58b86-fbc3-4418-878d-497ddf50b4a7\",\"type\":\"Rect\"},{\"attributes\":{},\"id\":\"73e01d44-77c9-4f7c-93f1-293c75fd5a6b\",\"type\":\"BasicTickFormatter\"},{\"attributes\":{\"children\":[{\"id\":\"d7fc79b9-86ba-452b-bc52-c002daa90576\",\"subtype\":\"Figure\",\"type\":\"Plot\"}]},\"id\":\"294c411f-504a-4347-b9f5-78704bbd5107\",\"type\":\"Row\"},{\"attributes\":{\"source\":{\"id\":\"cf9c199e-5896-4538-8c10-47a743aee84d\",\"type\":\"ColumnDataSource\"}},\"id\":\"9779d431-c2bd-4f07-946b-5cbbf77cd42b\",\"type\":\"CDSView\"},{\"attributes\":{\"data_source\":{\"id\":\"cf9c199e-5896-4538-8c10-47a743aee84d\",\"type\":\"ColumnDataSource\"},\"glyph\":{\"id\":\"622a5372-a5a4-43cb-819e-cbf936d4c26e\",\"type\":\"Rect\"},\"hover_glyph\":null,\"muted_glyph\":null,\"nonselection_glyph\":{\"id\":\"e4d58b86-fbc3-4418-878d-497ddf50b4a7\",\"type\":\"Rect\"},\"selection_glyph\":null,\"view\":{\"id\":\"9779d431-c2bd-4f07-946b-5cbbf77cd42b\",\"type\":\"CDSView\"}},\"id\":\"42d1eae0-7d66-4870-8d5b-15e687f19d4d\",\"type\":\"GlyphRenderer\"},{\"attributes\":{\"source\":{\"id\":\"46326b8b-2f9a-4307-988c-f540bfe07d30\",\"type\":\"ColumnDataSource\"}},\"id\":\"d6307545-7cf0-4aff-8804-b34d5833dd77\",\"type\":\"CDSView\"},{\"attributes\":{\"callback\":null,\"point_policy\":\"follow_mouse\",\"tooltips\":\"\\n    <div>\\n        <span style=\\\"font-size: 14px; font-weight: bold;\\\">Key:</span>&nbsp;\\n        <span style=\\\"font-size: 10px; font-family: Monaco, monospace;\\\">@key</span>\\n    </div>\\n    <div>\\n        <span style=\\\"font-size: 14px; font-weight: bold;\\\">Task:</span>&nbsp;\\n        <span style=\\\"font-size: 10px; font-family: Monaco, monospace;\\\">@function</span>\\n    </div>\\n    \"},\"id\":\"a1fcb630-b143-4a70-a75f-aaf6bb2d5ed3\",\"type\":\"HoverTool\"},{\"attributes\":{\"data_source\":{\"id\":\"46326b8b-2f9a-4307-988c-f540bfe07d30\",\"type\":\"ColumnDataSource\"},\"glyph\":{\"id\":\"417a72fe-578c-4092-9543-34377ae3f07a\",\"type\":\"Line\"},\"hover_glyph\":null,\"muted_glyph\":null,\"nonselection_glyph\":{\"id\":\"0198e4c8-6f5f-4975-9743-248ba977d8a7\",\"type\":\"Line\"},\"selection_glyph\":null,\"view\":{\"id\":\"d6307545-7cf0-4aff-8804-b34d5833dd77\",\"type\":\"CDSView\"}},\"id\":\"d009266c-bf2f-4488-b1c7-a9ea1c18aaf2\",\"type\":\"GlyphRenderer\"},{\"attributes\":{\"dimensions\":\"width\"},\"id\":\"8c62678e-2a4b-447e-89e5-7dd5bb60400f\",\"type\":\"PanTool\"},{\"attributes\":{\"line_alpha\":0.1,\"line_color\":\"#1f77b4\",\"line_width\":3,\"x\":{\"field\":\"x\"},\"y\":{\"field\":\"y\"}},\"id\":\"0198e4c8-6f5f-4975-9743-248ba977d8a7\",\"type\":\"Line\"},{\"attributes\":{},\"id\":\"77ae53f2-3007-4c7f-876e-a2d2613139d1\",\"type\":\"SaveTool\"},{\"attributes\":{},\"id\":\"067682fb-159a-421c-be96-c47218cfd944\",\"type\":\"ResetTool\"},{\"attributes\":{\"dimensions\":\"width\"},\"id\":\"64f74a9a-5b0c-4c17-9613-bd1324f62ced\",\"type\":\"WheelZoomTool\"}],\"root_ids\":[\"189f6205-db89-4a74-9593-a7613f2b0f48\"]},\"title\":\"Bokeh Application\",\"version\":\"0.12.13\"}};\n",
       "  var render_items = [{\"docid\":\"fc6e68c9-1304-420f-9a5a-7fe0e07da7d9\",\"elementid\":\"3f08c10f-37a6-4aaf-b0a6-c9d620d83425\",\"modelid\":\"189f6205-db89-4a74-9593-a7613f2b0f48\"}];\n",
       "  root.Bokeh.embed.embed_items_notebook(docs_json, render_items);\n",
       "\n",
       "  }\n",
       "  if (root.Bokeh !== undefined) {\n",
       "    embed_document(root);\n",
       "  } else {\n",
       "    var attempts = 0;\n",
       "    var timer = setInterval(function(root) {\n",
       "      if (root.Bokeh !== undefined) {\n",
       "        embed_document(root);\n",
       "        clearInterval(timer);\n",
       "      }\n",
       "      attempts++;\n",
       "      if (attempts > 100) {\n",
       "        console.log(\"Bokeh: ERROR: Unable to run BokehJS code because BokehJS library is missing\")\n",
       "        clearInterval(timer);\n",
       "      }\n",
       "    }, 10, root)\n",
       "  }\n",
       "})(window);"
      ],
      "application/vnd.bokehjs_exec.v0+json": ""
     },
     "metadata": {
      "application/vnd.bokehjs_exec.v0+json": {
       "id": "189f6205-db89-4a74-9593-a7613f2b0f48"
      }
     },
     "output_type": "display_data"
    },
    {
     "data": {
      "text/html": [
       "<div style=\"display: table;\"><div style=\"display: table-row;\"><div style=\"display: table-cell;\"><b title=\"bokeh.models.layouts.Column\">Column</b>(</div><div style=\"display: table-cell;\">id&nbsp;=&nbsp;'189f6205-db89-4a74-9593-a7613f2b0f48', <span id=\"e22cb9f4-65d4-4cec-a84c-5689fc96e8fc\" style=\"cursor: pointer;\">&hellip;)</span></div></div><div class=\"b3a0c7cf-4e5e-4b0b-a7d0-774dba01ee76\" style=\"display: none;\"><div style=\"display: table-cell;\"></div><div style=\"display: table-cell;\">children&nbsp;=&nbsp;[ToolbarBox(id='55bcd052-7767-4b1b-b169-e1274890ebeb', ...), Column(id='cbccb2cd-c467-4f27-8770-fc4d51966efe', ...)],</div></div><div class=\"b3a0c7cf-4e5e-4b0b-a7d0-774dba01ee76\" style=\"display: none;\"><div style=\"display: table-cell;\"></div><div style=\"display: table-cell;\">css_classes&nbsp;=&nbsp;[],</div></div><div class=\"b3a0c7cf-4e5e-4b0b-a7d0-774dba01ee76\" style=\"display: none;\"><div style=\"display: table-cell;\"></div><div style=\"display: table-cell;\">disabled&nbsp;=&nbsp;False,</div></div><div class=\"b3a0c7cf-4e5e-4b0b-a7d0-774dba01ee76\" style=\"display: none;\"><div style=\"display: table-cell;\"></div><div style=\"display: table-cell;\">height&nbsp;=&nbsp;None,</div></div><div class=\"b3a0c7cf-4e5e-4b0b-a7d0-774dba01ee76\" style=\"display: none;\"><div style=\"display: table-cell;\"></div><div style=\"display: table-cell;\">js_event_callbacks&nbsp;=&nbsp;{},</div></div><div class=\"b3a0c7cf-4e5e-4b0b-a7d0-774dba01ee76\" style=\"display: none;\"><div style=\"display: table-cell;\"></div><div style=\"display: table-cell;\">js_property_callbacks&nbsp;=&nbsp;{},</div></div><div class=\"b3a0c7cf-4e5e-4b0b-a7d0-774dba01ee76\" style=\"display: none;\"><div style=\"display: table-cell;\"></div><div style=\"display: table-cell;\">name&nbsp;=&nbsp;None,</div></div><div class=\"b3a0c7cf-4e5e-4b0b-a7d0-774dba01ee76\" style=\"display: none;\"><div style=\"display: table-cell;\"></div><div style=\"display: table-cell;\">sizing_mode&nbsp;=&nbsp;'fixed',</div></div><div class=\"b3a0c7cf-4e5e-4b0b-a7d0-774dba01ee76\" style=\"display: none;\"><div style=\"display: table-cell;\"></div><div style=\"display: table-cell;\">subscribed_events&nbsp;=&nbsp;[],</div></div><div class=\"b3a0c7cf-4e5e-4b0b-a7d0-774dba01ee76\" style=\"display: none;\"><div style=\"display: table-cell;\"></div><div style=\"display: table-cell;\">tags&nbsp;=&nbsp;[],</div></div><div class=\"b3a0c7cf-4e5e-4b0b-a7d0-774dba01ee76\" style=\"display: none;\"><div style=\"display: table-cell;\"></div><div style=\"display: table-cell;\">width&nbsp;=&nbsp;None)</div></div></div>\n",
       "<script>\n",
       "(function() {\n",
       "  var expanded = false;\n",
       "  var ellipsis = document.getElementById(\"e22cb9f4-65d4-4cec-a84c-5689fc96e8fc\");\n",
       "  ellipsis.addEventListener(\"click\", function() {\n",
       "    var rows = document.getElementsByClassName(\"b3a0c7cf-4e5e-4b0b-a7d0-774dba01ee76\");\n",
       "    for (var i = 0; i < rows.length; i++) {\n",
       "      var el = rows[i];\n",
       "      el.style.display = expanded ? \"none\" : \"table-row\";\n",
       "    }\n",
       "    ellipsis.innerHTML = expanded ? \"&hellip;)\" : \"&lsaquo;&lsaquo;&lsaquo;\";\n",
       "    expanded = !expanded;\n",
       "  });\n",
       "})();\n",
       "</script>\n"
      ],
      "text/plain": [
       "Column(id='189f6205-db89-4a74-9593-a7613f2b0f48', ...)"
      ]
     },
     "execution_count": 17,
     "metadata": {},
     "output_type": "execute_result"
    }
   ],
   "source": [
    "visualize([prof, rprof, cprof])"
   ]
  },
  {
   "cell_type": "markdown",
   "metadata": {},
   "source": [
    "#### Dask framework with custom client\n",
    "\n",
    "BUG: The workers seem to be dying."
   ]
  },
  {
   "cell_type": "code",
   "execution_count": 26,
   "metadata": {},
   "outputs": [],
   "source": [
    "local_cluster = LocalCluster(n_workers=6, \n",
    "                             threads_per_worker=1)\n",
    "\n",
    "custom_client = Client(local_cluster)"
   ]
  },
  {
   "cell_type": "code",
   "execution_count": 27,
   "metadata": {},
   "outputs": [
    {
     "data": {
      "text/html": [
       "<table style=\"border: 2px solid white;\">\n",
       "<tr>\n",
       "<td style=\"vertical-align: top; border: 0px solid white\">\n",
       "<h3>Client</h3>\n",
       "<ul>\n",
       "  <li><b>Scheduler: </b>tcp://127.0.0.1:52900\n",
       "  <li><b>Dashboard: </b><a href='http://127.0.0.1:52901' target='_blank'>http://127.0.0.1:52901</a>\n",
       "</ul>\n",
       "</td>\n",
       "<td style=\"vertical-align: top; border: 0px solid white\">\n",
       "<h3>Cluster</h3>\n",
       "<ul>\n",
       "  <li><b>Workers: </b>6</li>\n",
       "  <li><b>Cores: </b>6</li>\n",
       "  <li><b>Memory: </b>12.88 GB</li>\n",
       "</ul>\n",
       "</td>\n",
       "</tr>\n",
       "</table>"
      ],
      "text/plain": [
       "<Client: scheduler='tcp://127.0.0.1:52900' processes=6 cores=6>"
      ]
     },
     "execution_count": 27,
     "metadata": {},
     "output_type": "execute_result"
    }
   ],
   "source": [
    "custom_client"
   ]
  },
  {
   "cell_type": "code",
   "execution_count": 28,
   "metadata": {},
   "outputs": [],
   "source": [
    "regulomes = derive_regulomes(dbs[0:2],\n",
    "                             modules[0:50],\n",
    "                             MOTIF_ANNOTATIONS_FNAME,\n",
    "                             client_or_address=custom_client)"
   ]
  },
  {
   "cell_type": "code",
   "execution_count": 29,
   "metadata": {},
   "outputs": [
    {
     "data": {
      "text/html": [
       "<b>Future: list_of_filter</b> <font color=\"gray\">status: </font><font color=\"black\">pending</font>, <font color=\"gray\">key: </font>list_of_filter-eed1ba02-754b-4e7d-ac52-ecc116540e2e"
      ],
      "text/plain": [
       "<Future: status: pending, key: list_of_filter-eed1ba02-754b-4e7d-ac52-ecc116540e2e>"
      ]
     },
     "execution_count": 29,
     "metadata": {},
     "output_type": "execute_result"
    },
    {
     "name": "stderr",
     "output_type": "stream",
     "text": [
      "tornado.application - ERROR - Exception in callback <bound method Nanny.memory_monitor of <Nanny: tcp://127.0.0.1:52913, threads: 1>>\n",
      "Traceback (most recent call last):\n",
      "  File \"/Users/bramvandesande/miniconda3/envs/pyscenic_dev/lib/python3.6/site-packages/psutil/_psosx.py\", line 348, in catch_zombie\n",
      "    yield\n",
      "  File \"/Users/bramvandesande/miniconda3/envs/pyscenic_dev/lib/python3.6/site-packages/psutil/_psosx.py\", line 387, in _get_pidtaskinfo\n",
      "    ret = cext.proc_pidtaskinfo_oneshot(self.pid)\n",
      "ProcessLookupError: [Errno 3] No such process\n",
      "\n",
      "During handling of the above exception, another exception occurred:\n",
      "\n",
      "Traceback (most recent call last):\n",
      "  File \"/Users/bramvandesande/miniconda3/envs/pyscenic_dev/lib/python3.6/site-packages/tornado/ioloop.py\", line 1026, in _run\n",
      "    return self.callback()\n",
      "  File \"/Users/bramvandesande/miniconda3/envs/pyscenic_dev/lib/python3.6/site-packages/distributed/nanny.py\", line 245, in memory_monitor\n",
      "    memory = psutil.Process(self.process.pid).memory_info().rss\n",
      "  File \"/Users/bramvandesande/miniconda3/envs/pyscenic_dev/lib/python3.6/site-packages/psutil/_common.py\", line 337, in wrapper\n",
      "    return fun(self)\n",
      "  File \"/Users/bramvandesande/miniconda3/envs/pyscenic_dev/lib/python3.6/site-packages/psutil/__init__.py\", line 1049, in memory_info\n",
      "    return self._proc.memory_info()\n",
      "  File \"/Users/bramvandesande/miniconda3/envs/pyscenic_dev/lib/python3.6/site-packages/psutil/_psosx.py\", line 330, in wrapper\n",
      "    return fun(self, *args, **kwargs)\n",
      "  File \"/Users/bramvandesande/miniconda3/envs/pyscenic_dev/lib/python3.6/site-packages/psutil/_psosx.py\", line 456, in memory_info\n",
      "    rawtuple = self._get_pidtaskinfo()\n",
      "  File \"/Users/bramvandesande/miniconda3/envs/pyscenic_dev/lib/python3.6/site-packages/psutil/_common.py\", line 337, in wrapper\n",
      "    return fun(self)\n",
      "  File \"/Users/bramvandesande/miniconda3/envs/pyscenic_dev/lib/python3.6/site-packages/psutil/_psosx.py\", line 387, in _get_pidtaskinfo\n",
      "    ret = cext.proc_pidtaskinfo_oneshot(self.pid)\n",
      "  File \"/Users/bramvandesande/miniconda3/envs/pyscenic_dev/lib/python3.6/contextlib.py\", line 99, in __exit__\n",
      "    self.gen.throw(type, value, traceback)\n",
      "  File \"/Users/bramvandesande/miniconda3/envs/pyscenic_dev/lib/python3.6/site-packages/psutil/_psosx.py\", line 361, in catch_zombie\n",
      "    raise AccessDenied(proc.pid, proc._name)\n",
      "psutil._exceptions.AccessDenied: psutil.AccessDenied (pid=7683)\n",
      "tornado.application - ERROR - Exception in callback <bound method Nanny.memory_monitor of <Nanny: tcp://127.0.0.1:52913, threads: 1>>\n",
      "Traceback (most recent call last):\n",
      "  File \"/Users/bramvandesande/miniconda3/envs/pyscenic_dev/lib/python3.6/site-packages/psutil/_psosx.py\", line 348, in catch_zombie\n",
      "    yield\n",
      "  File \"/Users/bramvandesande/miniconda3/envs/pyscenic_dev/lib/python3.6/site-packages/psutil/_psosx.py\", line 387, in _get_pidtaskinfo\n",
      "    ret = cext.proc_pidtaskinfo_oneshot(self.pid)\n",
      "ProcessLookupError: [Errno 3] No such process\n",
      "\n",
      "During handling of the above exception, another exception occurred:\n",
      "\n",
      "Traceback (most recent call last):\n",
      "  File \"/Users/bramvandesande/miniconda3/envs/pyscenic_dev/lib/python3.6/site-packages/tornado/ioloop.py\", line 1026, in _run\n",
      "    return self.callback()\n",
      "  File \"/Users/bramvandesande/miniconda3/envs/pyscenic_dev/lib/python3.6/site-packages/distributed/nanny.py\", line 245, in memory_monitor\n",
      "    memory = psutil.Process(self.process.pid).memory_info().rss\n",
      "  File \"/Users/bramvandesande/miniconda3/envs/pyscenic_dev/lib/python3.6/site-packages/psutil/_common.py\", line 337, in wrapper\n",
      "    return fun(self)\n",
      "  File \"/Users/bramvandesande/miniconda3/envs/pyscenic_dev/lib/python3.6/site-packages/psutil/__init__.py\", line 1049, in memory_info\n",
      "    return self._proc.memory_info()\n",
      "  File \"/Users/bramvandesande/miniconda3/envs/pyscenic_dev/lib/python3.6/site-packages/psutil/_psosx.py\", line 330, in wrapper\n",
      "    return fun(self, *args, **kwargs)\n",
      "  File \"/Users/bramvandesande/miniconda3/envs/pyscenic_dev/lib/python3.6/site-packages/psutil/_psosx.py\", line 456, in memory_info\n",
      "    rawtuple = self._get_pidtaskinfo()\n",
      "  File \"/Users/bramvandesande/miniconda3/envs/pyscenic_dev/lib/python3.6/site-packages/psutil/_common.py\", line 337, in wrapper\n",
      "    return fun(self)\n",
      "  File \"/Users/bramvandesande/miniconda3/envs/pyscenic_dev/lib/python3.6/site-packages/psutil/_psosx.py\", line 387, in _get_pidtaskinfo\n",
      "    ret = cext.proc_pidtaskinfo_oneshot(self.pid)\n",
      "  File \"/Users/bramvandesande/miniconda3/envs/pyscenic_dev/lib/python3.6/contextlib.py\", line 99, in __exit__\n",
      "    self.gen.throw(type, value, traceback)\n",
      "  File \"/Users/bramvandesande/miniconda3/envs/pyscenic_dev/lib/python3.6/site-packages/psutil/_psosx.py\", line 361, in catch_zombie\n",
      "    raise AccessDenied(proc.pid, proc._name)\n",
      "psutil._exceptions.AccessDenied: psutil.AccessDenied (pid=7683)\n",
      "tornado.application - ERROR - Exception in callback <bound method Nanny.memory_monitor of <Nanny: tcp://127.0.0.1:52913, threads: 1>>\n",
      "Traceback (most recent call last):\n",
      "  File \"/Users/bramvandesande/miniconda3/envs/pyscenic_dev/lib/python3.6/site-packages/psutil/_psosx.py\", line 348, in catch_zombie\n",
      "    yield\n",
      "  File \"/Users/bramvandesande/miniconda3/envs/pyscenic_dev/lib/python3.6/site-packages/psutil/_psosx.py\", line 387, in _get_pidtaskinfo\n",
      "    ret = cext.proc_pidtaskinfo_oneshot(self.pid)\n",
      "ProcessLookupError: [Errno 3] No such process\n",
      "\n",
      "During handling of the above exception, another exception occurred:\n",
      "\n",
      "Traceback (most recent call last):\n",
      "  File \"/Users/bramvandesande/miniconda3/envs/pyscenic_dev/lib/python3.6/site-packages/tornado/ioloop.py\", line 1026, in _run\n",
      "    return self.callback()\n",
      "  File \"/Users/bramvandesande/miniconda3/envs/pyscenic_dev/lib/python3.6/site-packages/distributed/nanny.py\", line 245, in memory_monitor\n",
      "    memory = psutil.Process(self.process.pid).memory_info().rss\n",
      "  File \"/Users/bramvandesande/miniconda3/envs/pyscenic_dev/lib/python3.6/site-packages/psutil/_common.py\", line 337, in wrapper\n",
      "    return fun(self)\n",
      "  File \"/Users/bramvandesande/miniconda3/envs/pyscenic_dev/lib/python3.6/site-packages/psutil/__init__.py\", line 1049, in memory_info\n",
      "    return self._proc.memory_info()\n",
      "  File \"/Users/bramvandesande/miniconda3/envs/pyscenic_dev/lib/python3.6/site-packages/psutil/_psosx.py\", line 330, in wrapper\n",
      "    return fun(self, *args, **kwargs)\n",
      "  File \"/Users/bramvandesande/miniconda3/envs/pyscenic_dev/lib/python3.6/site-packages/psutil/_psosx.py\", line 456, in memory_info\n",
      "    rawtuple = self._get_pidtaskinfo()\n",
      "  File \"/Users/bramvandesande/miniconda3/envs/pyscenic_dev/lib/python3.6/site-packages/psutil/_common.py\", line 337, in wrapper\n",
      "    return fun(self)\n",
      "  File \"/Users/bramvandesande/miniconda3/envs/pyscenic_dev/lib/python3.6/site-packages/psutil/_psosx.py\", line 387, in _get_pidtaskinfo\n",
      "    ret = cext.proc_pidtaskinfo_oneshot(self.pid)\n",
      "  File \"/Users/bramvandesande/miniconda3/envs/pyscenic_dev/lib/python3.6/contextlib.py\", line 99, in __exit__\n",
      "    self.gen.throw(type, value, traceback)\n",
      "  File \"/Users/bramvandesande/miniconda3/envs/pyscenic_dev/lib/python3.6/site-packages/psutil/_psosx.py\", line 361, in catch_zombie\n",
      "    raise AccessDenied(proc.pid, proc._name)\n",
      "psutil._exceptions.AccessDenied: psutil.AccessDenied (pid=7683)\n",
      "tornado.application - ERROR - Exception in callback <bound method Nanny.memory_monitor of <Nanny: tcp://127.0.0.1:52913, threads: 1>>\n",
      "Traceback (most recent call last):\n",
      "  File \"/Users/bramvandesande/miniconda3/envs/pyscenic_dev/lib/python3.6/site-packages/psutil/_psosx.py\", line 348, in catch_zombie\n",
      "    yield\n",
      "  File \"/Users/bramvandesande/miniconda3/envs/pyscenic_dev/lib/python3.6/site-packages/psutil/_psosx.py\", line 387, in _get_pidtaskinfo\n",
      "    ret = cext.proc_pidtaskinfo_oneshot(self.pid)\n",
      "ProcessLookupError: [Errno 3] No such process\n",
      "\n",
      "During handling of the above exception, another exception occurred:\n",
      "\n",
      "Traceback (most recent call last):\n",
      "  File \"/Users/bramvandesande/miniconda3/envs/pyscenic_dev/lib/python3.6/site-packages/tornado/ioloop.py\", line 1026, in _run\n",
      "    return self.callback()\n",
      "  File \"/Users/bramvandesande/miniconda3/envs/pyscenic_dev/lib/python3.6/site-packages/distributed/nanny.py\", line 245, in memory_monitor\n",
      "    memory = psutil.Process(self.process.pid).memory_info().rss\n",
      "  File \"/Users/bramvandesande/miniconda3/envs/pyscenic_dev/lib/python3.6/site-packages/psutil/_common.py\", line 337, in wrapper\n",
      "    return fun(self)\n",
      "  File \"/Users/bramvandesande/miniconda3/envs/pyscenic_dev/lib/python3.6/site-packages/psutil/__init__.py\", line 1049, in memory_info\n",
      "    return self._proc.memory_info()\n",
      "  File \"/Users/bramvandesande/miniconda3/envs/pyscenic_dev/lib/python3.6/site-packages/psutil/_psosx.py\", line 330, in wrapper\n",
      "    return fun(self, *args, **kwargs)\n",
      "  File \"/Users/bramvandesande/miniconda3/envs/pyscenic_dev/lib/python3.6/site-packages/psutil/_psosx.py\", line 456, in memory_info\n",
      "    rawtuple = self._get_pidtaskinfo()\n",
      "  File \"/Users/bramvandesande/miniconda3/envs/pyscenic_dev/lib/python3.6/site-packages/psutil/_common.py\", line 337, in wrapper\n",
      "    return fun(self)\n",
      "  File \"/Users/bramvandesande/miniconda3/envs/pyscenic_dev/lib/python3.6/site-packages/psutil/_psosx.py\", line 387, in _get_pidtaskinfo\n",
      "    ret = cext.proc_pidtaskinfo_oneshot(self.pid)\n",
      "  File \"/Users/bramvandesande/miniconda3/envs/pyscenic_dev/lib/python3.6/contextlib.py\", line 99, in __exit__\n",
      "    self.gen.throw(type, value, traceback)\n",
      "  File \"/Users/bramvandesande/miniconda3/envs/pyscenic_dev/lib/python3.6/site-packages/psutil/_psosx.py\", line 361, in catch_zombie\n",
      "    raise AccessDenied(proc.pid, proc._name)\n",
      "psutil._exceptions.AccessDenied: psutil.AccessDenied (pid=7683)\n"
     ]
    },
    {
     "name": "stderr",
     "output_type": "stream",
     "text": [
      "tornado.application - ERROR - Exception in callback <bound method Nanny.memory_monitor of <Nanny: tcp://127.0.0.1:52913, threads: 1>>\n",
      "Traceback (most recent call last):\n",
      "  File \"/Users/bramvandesande/miniconda3/envs/pyscenic_dev/lib/python3.6/site-packages/psutil/_psosx.py\", line 348, in catch_zombie\n",
      "    yield\n",
      "  File \"/Users/bramvandesande/miniconda3/envs/pyscenic_dev/lib/python3.6/site-packages/psutil/_psosx.py\", line 387, in _get_pidtaskinfo\n",
      "    ret = cext.proc_pidtaskinfo_oneshot(self.pid)\n",
      "ProcessLookupError: [Errno 3] No such process\n",
      "\n",
      "During handling of the above exception, another exception occurred:\n",
      "\n",
      "Traceback (most recent call last):\n",
      "  File \"/Users/bramvandesande/miniconda3/envs/pyscenic_dev/lib/python3.6/site-packages/tornado/ioloop.py\", line 1026, in _run\n",
      "    return self.callback()\n",
      "  File \"/Users/bramvandesande/miniconda3/envs/pyscenic_dev/lib/python3.6/site-packages/distributed/nanny.py\", line 245, in memory_monitor\n",
      "    memory = psutil.Process(self.process.pid).memory_info().rss\n",
      "  File \"/Users/bramvandesande/miniconda3/envs/pyscenic_dev/lib/python3.6/site-packages/psutil/_common.py\", line 337, in wrapper\n",
      "    return fun(self)\n",
      "  File \"/Users/bramvandesande/miniconda3/envs/pyscenic_dev/lib/python3.6/site-packages/psutil/__init__.py\", line 1049, in memory_info\n",
      "    return self._proc.memory_info()\n",
      "  File \"/Users/bramvandesande/miniconda3/envs/pyscenic_dev/lib/python3.6/site-packages/psutil/_psosx.py\", line 330, in wrapper\n",
      "    return fun(self, *args, **kwargs)\n",
      "  File \"/Users/bramvandesande/miniconda3/envs/pyscenic_dev/lib/python3.6/site-packages/psutil/_psosx.py\", line 456, in memory_info\n",
      "    rawtuple = self._get_pidtaskinfo()\n",
      "  File \"/Users/bramvandesande/miniconda3/envs/pyscenic_dev/lib/python3.6/site-packages/psutil/_common.py\", line 337, in wrapper\n",
      "    return fun(self)\n",
      "  File \"/Users/bramvandesande/miniconda3/envs/pyscenic_dev/lib/python3.6/site-packages/psutil/_psosx.py\", line 387, in _get_pidtaskinfo\n",
      "    ret = cext.proc_pidtaskinfo_oneshot(self.pid)\n",
      "  File \"/Users/bramvandesande/miniconda3/envs/pyscenic_dev/lib/python3.6/contextlib.py\", line 99, in __exit__\n",
      "    self.gen.throw(type, value, traceback)\n",
      "  File \"/Users/bramvandesande/miniconda3/envs/pyscenic_dev/lib/python3.6/site-packages/psutil/_psosx.py\", line 361, in catch_zombie\n",
      "    raise AccessDenied(proc.pid, proc._name)\n",
      "psutil._exceptions.AccessDenied: psutil.AccessDenied (pid=7683)\n",
      "tornado.application - ERROR - Exception in callback <bound method Nanny.memory_monitor of <Nanny: tcp://127.0.0.1:52913, threads: 1>>\n",
      "Traceback (most recent call last):\n",
      "  File \"/Users/bramvandesande/miniconda3/envs/pyscenic_dev/lib/python3.6/site-packages/psutil/_psosx.py\", line 348, in catch_zombie\n",
      "    yield\n",
      "  File \"/Users/bramvandesande/miniconda3/envs/pyscenic_dev/lib/python3.6/site-packages/psutil/_psosx.py\", line 387, in _get_pidtaskinfo\n",
      "    ret = cext.proc_pidtaskinfo_oneshot(self.pid)\n",
      "ProcessLookupError: [Errno 3] No such process\n",
      "\n",
      "During handling of the above exception, another exception occurred:\n",
      "\n",
      "Traceback (most recent call last):\n",
      "  File \"/Users/bramvandesande/miniconda3/envs/pyscenic_dev/lib/python3.6/site-packages/tornado/ioloop.py\", line 1026, in _run\n",
      "    return self.callback()\n",
      "  File \"/Users/bramvandesande/miniconda3/envs/pyscenic_dev/lib/python3.6/site-packages/distributed/nanny.py\", line 245, in memory_monitor\n",
      "    memory = psutil.Process(self.process.pid).memory_info().rss\n",
      "  File \"/Users/bramvandesande/miniconda3/envs/pyscenic_dev/lib/python3.6/site-packages/psutil/_common.py\", line 337, in wrapper\n",
      "    return fun(self)\n",
      "  File \"/Users/bramvandesande/miniconda3/envs/pyscenic_dev/lib/python3.6/site-packages/psutil/__init__.py\", line 1049, in memory_info\n",
      "    return self._proc.memory_info()\n",
      "  File \"/Users/bramvandesande/miniconda3/envs/pyscenic_dev/lib/python3.6/site-packages/psutil/_psosx.py\", line 330, in wrapper\n",
      "    return fun(self, *args, **kwargs)\n",
      "  File \"/Users/bramvandesande/miniconda3/envs/pyscenic_dev/lib/python3.6/site-packages/psutil/_psosx.py\", line 456, in memory_info\n",
      "    rawtuple = self._get_pidtaskinfo()\n",
      "  File \"/Users/bramvandesande/miniconda3/envs/pyscenic_dev/lib/python3.6/site-packages/psutil/_common.py\", line 337, in wrapper\n",
      "    return fun(self)\n",
      "  File \"/Users/bramvandesande/miniconda3/envs/pyscenic_dev/lib/python3.6/site-packages/psutil/_psosx.py\", line 387, in _get_pidtaskinfo\n",
      "    ret = cext.proc_pidtaskinfo_oneshot(self.pid)\n",
      "  File \"/Users/bramvandesande/miniconda3/envs/pyscenic_dev/lib/python3.6/contextlib.py\", line 99, in __exit__\n",
      "    self.gen.throw(type, value, traceback)\n",
      "  File \"/Users/bramvandesande/miniconda3/envs/pyscenic_dev/lib/python3.6/site-packages/psutil/_psosx.py\", line 361, in catch_zombie\n",
      "    raise AccessDenied(proc.pid, proc._name)\n",
      "psutil._exceptions.AccessDenied: psutil.AccessDenied (pid=7683)\n",
      "tornado.application - ERROR - Exception in callback <bound method Nanny.memory_monitor of <Nanny: tcp://127.0.0.1:52996, threads: 1>>\n",
      "Traceback (most recent call last):\n",
      "  File \"/Users/bramvandesande/miniconda3/envs/pyscenic_dev/lib/python3.6/site-packages/psutil/_psosx.py\", line 348, in catch_zombie\n",
      "    yield\n",
      "  File \"/Users/bramvandesande/miniconda3/envs/pyscenic_dev/lib/python3.6/site-packages/psutil/_psosx.py\", line 387, in _get_pidtaskinfo\n",
      "    ret = cext.proc_pidtaskinfo_oneshot(self.pid)\n",
      "ProcessLookupError: [Errno 3] No such process\n",
      "\n",
      "During handling of the above exception, another exception occurred:\n",
      "\n",
      "Traceback (most recent call last):\n",
      "  File \"/Users/bramvandesande/miniconda3/envs/pyscenic_dev/lib/python3.6/site-packages/tornado/ioloop.py\", line 1026, in _run\n",
      "    return self.callback()\n",
      "  File \"/Users/bramvandesande/miniconda3/envs/pyscenic_dev/lib/python3.6/site-packages/distributed/nanny.py\", line 245, in memory_monitor\n",
      "    memory = psutil.Process(self.process.pid).memory_info().rss\n",
      "  File \"/Users/bramvandesande/miniconda3/envs/pyscenic_dev/lib/python3.6/site-packages/psutil/_common.py\", line 337, in wrapper\n",
      "    return fun(self)\n",
      "  File \"/Users/bramvandesande/miniconda3/envs/pyscenic_dev/lib/python3.6/site-packages/psutil/__init__.py\", line 1049, in memory_info\n",
      "    return self._proc.memory_info()\n",
      "  File \"/Users/bramvandesande/miniconda3/envs/pyscenic_dev/lib/python3.6/site-packages/psutil/_psosx.py\", line 330, in wrapper\n",
      "    return fun(self, *args, **kwargs)\n",
      "  File \"/Users/bramvandesande/miniconda3/envs/pyscenic_dev/lib/python3.6/site-packages/psutil/_psosx.py\", line 456, in memory_info\n",
      "    rawtuple = self._get_pidtaskinfo()\n",
      "  File \"/Users/bramvandesande/miniconda3/envs/pyscenic_dev/lib/python3.6/site-packages/psutil/_common.py\", line 337, in wrapper\n",
      "    return fun(self)\n",
      "  File \"/Users/bramvandesande/miniconda3/envs/pyscenic_dev/lib/python3.6/site-packages/psutil/_psosx.py\", line 387, in _get_pidtaskinfo\n",
      "    ret = cext.proc_pidtaskinfo_oneshot(self.pid)\n",
      "  File \"/Users/bramvandesande/miniconda3/envs/pyscenic_dev/lib/python3.6/contextlib.py\", line 99, in __exit__\n",
      "    self.gen.throw(type, value, traceback)\n",
      "  File \"/Users/bramvandesande/miniconda3/envs/pyscenic_dev/lib/python3.6/site-packages/psutil/_psosx.py\", line 361, in catch_zombie\n",
      "    raise AccessDenied(proc.pid, proc._name)\n",
      "psutil._exceptions.AccessDenied: psutil.AccessDenied (pid=7751)\n",
      "tornado.application - ERROR - Exception in callback <bound method Nanny.memory_monitor of <Nanny: tcp://127.0.0.1:52996, threads: 1>>\n",
      "Traceback (most recent call last):\n",
      "  File \"/Users/bramvandesande/miniconda3/envs/pyscenic_dev/lib/python3.6/site-packages/psutil/_psosx.py\", line 348, in catch_zombie\n",
      "    yield\n",
      "  File \"/Users/bramvandesande/miniconda3/envs/pyscenic_dev/lib/python3.6/site-packages/psutil/_psosx.py\", line 387, in _get_pidtaskinfo\n",
      "    ret = cext.proc_pidtaskinfo_oneshot(self.pid)\n",
      "ProcessLookupError: [Errno 3] No such process\n",
      "\n",
      "During handling of the above exception, another exception occurred:\n",
      "\n",
      "Traceback (most recent call last):\n",
      "  File \"/Users/bramvandesande/miniconda3/envs/pyscenic_dev/lib/python3.6/site-packages/tornado/ioloop.py\", line 1026, in _run\n",
      "    return self.callback()\n",
      "  File \"/Users/bramvandesande/miniconda3/envs/pyscenic_dev/lib/python3.6/site-packages/distributed/nanny.py\", line 245, in memory_monitor\n",
      "    memory = psutil.Process(self.process.pid).memory_info().rss\n",
      "  File \"/Users/bramvandesande/miniconda3/envs/pyscenic_dev/lib/python3.6/site-packages/psutil/_common.py\", line 337, in wrapper\n",
      "    return fun(self)\n",
      "  File \"/Users/bramvandesande/miniconda3/envs/pyscenic_dev/lib/python3.6/site-packages/psutil/__init__.py\", line 1049, in memory_info\n",
      "    return self._proc.memory_info()\n",
      "  File \"/Users/bramvandesande/miniconda3/envs/pyscenic_dev/lib/python3.6/site-packages/psutil/_psosx.py\", line 330, in wrapper\n",
      "    return fun(self, *args, **kwargs)\n",
      "  File \"/Users/bramvandesande/miniconda3/envs/pyscenic_dev/lib/python3.6/site-packages/psutil/_psosx.py\", line 456, in memory_info\n",
      "    rawtuple = self._get_pidtaskinfo()\n",
      "  File \"/Users/bramvandesande/miniconda3/envs/pyscenic_dev/lib/python3.6/site-packages/psutil/_common.py\", line 337, in wrapper\n",
      "    return fun(self)\n",
      "  File \"/Users/bramvandesande/miniconda3/envs/pyscenic_dev/lib/python3.6/site-packages/psutil/_psosx.py\", line 387, in _get_pidtaskinfo\n",
      "    ret = cext.proc_pidtaskinfo_oneshot(self.pid)\n",
      "  File \"/Users/bramvandesande/miniconda3/envs/pyscenic_dev/lib/python3.6/contextlib.py\", line 99, in __exit__\n",
      "    self.gen.throw(type, value, traceback)\n",
      "  File \"/Users/bramvandesande/miniconda3/envs/pyscenic_dev/lib/python3.6/site-packages/psutil/_psosx.py\", line 361, in catch_zombie\n",
      "    raise AccessDenied(proc.pid, proc._name)\n",
      "psutil._exceptions.AccessDenied: psutil.AccessDenied (pid=7751)\n"
     ]
    },
    {
     "name": "stderr",
     "output_type": "stream",
     "text": [
      "tornado.application - ERROR - Exception in callback <bound method Nanny.memory_monitor of <Nanny: tcp://127.0.0.1:52996, threads: 1>>\n",
      "Traceback (most recent call last):\n",
      "  File \"/Users/bramvandesande/miniconda3/envs/pyscenic_dev/lib/python3.6/site-packages/psutil/_psosx.py\", line 348, in catch_zombie\n",
      "    yield\n",
      "  File \"/Users/bramvandesande/miniconda3/envs/pyscenic_dev/lib/python3.6/site-packages/psutil/_psosx.py\", line 387, in _get_pidtaskinfo\n",
      "    ret = cext.proc_pidtaskinfo_oneshot(self.pid)\n",
      "ProcessLookupError: [Errno 3] No such process\n",
      "\n",
      "During handling of the above exception, another exception occurred:\n",
      "\n",
      "Traceback (most recent call last):\n",
      "  File \"/Users/bramvandesande/miniconda3/envs/pyscenic_dev/lib/python3.6/site-packages/tornado/ioloop.py\", line 1026, in _run\n",
      "    return self.callback()\n",
      "  File \"/Users/bramvandesande/miniconda3/envs/pyscenic_dev/lib/python3.6/site-packages/distributed/nanny.py\", line 245, in memory_monitor\n",
      "    memory = psutil.Process(self.process.pid).memory_info().rss\n",
      "  File \"/Users/bramvandesande/miniconda3/envs/pyscenic_dev/lib/python3.6/site-packages/psutil/_common.py\", line 337, in wrapper\n",
      "    return fun(self)\n",
      "  File \"/Users/bramvandesande/miniconda3/envs/pyscenic_dev/lib/python3.6/site-packages/psutil/__init__.py\", line 1049, in memory_info\n",
      "    return self._proc.memory_info()\n",
      "  File \"/Users/bramvandesande/miniconda3/envs/pyscenic_dev/lib/python3.6/site-packages/psutil/_psosx.py\", line 330, in wrapper\n",
      "    return fun(self, *args, **kwargs)\n",
      "  File \"/Users/bramvandesande/miniconda3/envs/pyscenic_dev/lib/python3.6/site-packages/psutil/_psosx.py\", line 456, in memory_info\n",
      "    rawtuple = self._get_pidtaskinfo()\n",
      "  File \"/Users/bramvandesande/miniconda3/envs/pyscenic_dev/lib/python3.6/site-packages/psutil/_common.py\", line 337, in wrapper\n",
      "    return fun(self)\n",
      "  File \"/Users/bramvandesande/miniconda3/envs/pyscenic_dev/lib/python3.6/site-packages/psutil/_psosx.py\", line 387, in _get_pidtaskinfo\n",
      "    ret = cext.proc_pidtaskinfo_oneshot(self.pid)\n",
      "  File \"/Users/bramvandesande/miniconda3/envs/pyscenic_dev/lib/python3.6/contextlib.py\", line 99, in __exit__\n",
      "    self.gen.throw(type, value, traceback)\n",
      "  File \"/Users/bramvandesande/miniconda3/envs/pyscenic_dev/lib/python3.6/site-packages/psutil/_psosx.py\", line 361, in catch_zombie\n",
      "    raise AccessDenied(proc.pid, proc._name)\n",
      "psutil._exceptions.AccessDenied: psutil.AccessDenied (pid=7751)\n",
      "tornado.application - ERROR - Exception in callback <bound method Nanny.memory_monitor of <Nanny: tcp://127.0.0.1:52996, threads: 1>>\n",
      "Traceback (most recent call last):\n",
      "  File \"/Users/bramvandesande/miniconda3/envs/pyscenic_dev/lib/python3.6/site-packages/psutil/_psosx.py\", line 348, in catch_zombie\n",
      "    yield\n",
      "  File \"/Users/bramvandesande/miniconda3/envs/pyscenic_dev/lib/python3.6/site-packages/psutil/_psosx.py\", line 387, in _get_pidtaskinfo\n",
      "    ret = cext.proc_pidtaskinfo_oneshot(self.pid)\n",
      "ProcessLookupError: [Errno 3] No such process\n",
      "\n",
      "During handling of the above exception, another exception occurred:\n",
      "\n",
      "Traceback (most recent call last):\n",
      "  File \"/Users/bramvandesande/miniconda3/envs/pyscenic_dev/lib/python3.6/site-packages/tornado/ioloop.py\", line 1026, in _run\n",
      "    return self.callback()\n",
      "  File \"/Users/bramvandesande/miniconda3/envs/pyscenic_dev/lib/python3.6/site-packages/distributed/nanny.py\", line 245, in memory_monitor\n",
      "    memory = psutil.Process(self.process.pid).memory_info().rss\n",
      "  File \"/Users/bramvandesande/miniconda3/envs/pyscenic_dev/lib/python3.6/site-packages/psutil/_common.py\", line 337, in wrapper\n",
      "    return fun(self)\n",
      "  File \"/Users/bramvandesande/miniconda3/envs/pyscenic_dev/lib/python3.6/site-packages/psutil/__init__.py\", line 1049, in memory_info\n",
      "    return self._proc.memory_info()\n",
      "  File \"/Users/bramvandesande/miniconda3/envs/pyscenic_dev/lib/python3.6/site-packages/psutil/_psosx.py\", line 330, in wrapper\n",
      "    return fun(self, *args, **kwargs)\n",
      "  File \"/Users/bramvandesande/miniconda3/envs/pyscenic_dev/lib/python3.6/site-packages/psutil/_psosx.py\", line 456, in memory_info\n",
      "    rawtuple = self._get_pidtaskinfo()\n",
      "  File \"/Users/bramvandesande/miniconda3/envs/pyscenic_dev/lib/python3.6/site-packages/psutil/_common.py\", line 337, in wrapper\n",
      "    return fun(self)\n",
      "  File \"/Users/bramvandesande/miniconda3/envs/pyscenic_dev/lib/python3.6/site-packages/psutil/_psosx.py\", line 387, in _get_pidtaskinfo\n",
      "    ret = cext.proc_pidtaskinfo_oneshot(self.pid)\n",
      "  File \"/Users/bramvandesande/miniconda3/envs/pyscenic_dev/lib/python3.6/contextlib.py\", line 99, in __exit__\n",
      "    self.gen.throw(type, value, traceback)\n",
      "  File \"/Users/bramvandesande/miniconda3/envs/pyscenic_dev/lib/python3.6/site-packages/psutil/_psosx.py\", line 361, in catch_zombie\n",
      "    raise AccessDenied(proc.pid, proc._name)\n",
      "psutil._exceptions.AccessDenied: psutil.AccessDenied (pid=7751)\n",
      "tornado.application - ERROR - Exception in callback <bound method Nanny.memory_monitor of <Nanny: tcp://127.0.0.1:52996, threads: 1>>\n",
      "Traceback (most recent call last):\n",
      "  File \"/Users/bramvandesande/miniconda3/envs/pyscenic_dev/lib/python3.6/site-packages/psutil/_psosx.py\", line 348, in catch_zombie\n",
      "    yield\n",
      "  File \"/Users/bramvandesande/miniconda3/envs/pyscenic_dev/lib/python3.6/site-packages/psutil/_psosx.py\", line 387, in _get_pidtaskinfo\n",
      "    ret = cext.proc_pidtaskinfo_oneshot(self.pid)\n",
      "ProcessLookupError: [Errno 3] No such process\n",
      "\n",
      "During handling of the above exception, another exception occurred:\n",
      "\n",
      "Traceback (most recent call last):\n",
      "  File \"/Users/bramvandesande/miniconda3/envs/pyscenic_dev/lib/python3.6/site-packages/tornado/ioloop.py\", line 1026, in _run\n",
      "    return self.callback()\n",
      "  File \"/Users/bramvandesande/miniconda3/envs/pyscenic_dev/lib/python3.6/site-packages/distributed/nanny.py\", line 245, in memory_monitor\n",
      "    memory = psutil.Process(self.process.pid).memory_info().rss\n",
      "  File \"/Users/bramvandesande/miniconda3/envs/pyscenic_dev/lib/python3.6/site-packages/psutil/_common.py\", line 337, in wrapper\n",
      "    return fun(self)\n",
      "  File \"/Users/bramvandesande/miniconda3/envs/pyscenic_dev/lib/python3.6/site-packages/psutil/__init__.py\", line 1049, in memory_info\n",
      "    return self._proc.memory_info()\n",
      "  File \"/Users/bramvandesande/miniconda3/envs/pyscenic_dev/lib/python3.6/site-packages/psutil/_psosx.py\", line 330, in wrapper\n",
      "    return fun(self, *args, **kwargs)\n",
      "  File \"/Users/bramvandesande/miniconda3/envs/pyscenic_dev/lib/python3.6/site-packages/psutil/_psosx.py\", line 456, in memory_info\n",
      "    rawtuple = self._get_pidtaskinfo()\n",
      "  File \"/Users/bramvandesande/miniconda3/envs/pyscenic_dev/lib/python3.6/site-packages/psutil/_common.py\", line 337, in wrapper\n",
      "    return fun(self)\n",
      "  File \"/Users/bramvandesande/miniconda3/envs/pyscenic_dev/lib/python3.6/site-packages/psutil/_psosx.py\", line 387, in _get_pidtaskinfo\n",
      "    ret = cext.proc_pidtaskinfo_oneshot(self.pid)\n",
      "  File \"/Users/bramvandesande/miniconda3/envs/pyscenic_dev/lib/python3.6/contextlib.py\", line 99, in __exit__\n",
      "    self.gen.throw(type, value, traceback)\n",
      "  File \"/Users/bramvandesande/miniconda3/envs/pyscenic_dev/lib/python3.6/site-packages/psutil/_psosx.py\", line 361, in catch_zombie\n",
      "    raise AccessDenied(proc.pid, proc._name)\n",
      "psutil._exceptions.AccessDenied: psutil.AccessDenied (pid=7751)\n",
      "tornado.application - ERROR - Exception in callback <bound method Nanny.memory_monitor of <Nanny: tcp://127.0.0.1:52996, threads: 1>>\n",
      "Traceback (most recent call last):\n",
      "  File \"/Users/bramvandesande/miniconda3/envs/pyscenic_dev/lib/python3.6/site-packages/psutil/_psosx.py\", line 348, in catch_zombie\n",
      "    yield\n",
      "  File \"/Users/bramvandesande/miniconda3/envs/pyscenic_dev/lib/python3.6/site-packages/psutil/_psosx.py\", line 387, in _get_pidtaskinfo\n",
      "    ret = cext.proc_pidtaskinfo_oneshot(self.pid)\n",
      "ProcessLookupError: [Errno 3] No such process\n",
      "\n",
      "During handling of the above exception, another exception occurred:\n",
      "\n",
      "Traceback (most recent call last):\n",
      "  File \"/Users/bramvandesande/miniconda3/envs/pyscenic_dev/lib/python3.6/site-packages/tornado/ioloop.py\", line 1026, in _run\n",
      "    return self.callback()\n",
      "  File \"/Users/bramvandesande/miniconda3/envs/pyscenic_dev/lib/python3.6/site-packages/distributed/nanny.py\", line 245, in memory_monitor\n",
      "    memory = psutil.Process(self.process.pid).memory_info().rss\n",
      "  File \"/Users/bramvandesande/miniconda3/envs/pyscenic_dev/lib/python3.6/site-packages/psutil/_common.py\", line 337, in wrapper\n",
      "    return fun(self)\n",
      "  File \"/Users/bramvandesande/miniconda3/envs/pyscenic_dev/lib/python3.6/site-packages/psutil/__init__.py\", line 1049, in memory_info\n",
      "    return self._proc.memory_info()\n",
      "  File \"/Users/bramvandesande/miniconda3/envs/pyscenic_dev/lib/python3.6/site-packages/psutil/_psosx.py\", line 330, in wrapper\n",
      "    return fun(self, *args, **kwargs)\n",
      "  File \"/Users/bramvandesande/miniconda3/envs/pyscenic_dev/lib/python3.6/site-packages/psutil/_psosx.py\", line 456, in memory_info\n",
      "    rawtuple = self._get_pidtaskinfo()\n",
      "  File \"/Users/bramvandesande/miniconda3/envs/pyscenic_dev/lib/python3.6/site-packages/psutil/_common.py\", line 337, in wrapper\n",
      "    return fun(self)\n",
      "  File \"/Users/bramvandesande/miniconda3/envs/pyscenic_dev/lib/python3.6/site-packages/psutil/_psosx.py\", line 387, in _get_pidtaskinfo\n",
      "    ret = cext.proc_pidtaskinfo_oneshot(self.pid)\n",
      "  File \"/Users/bramvandesande/miniconda3/envs/pyscenic_dev/lib/python3.6/contextlib.py\", line 99, in __exit__\n",
      "    self.gen.throw(type, value, traceback)\n",
      "  File \"/Users/bramvandesande/miniconda3/envs/pyscenic_dev/lib/python3.6/site-packages/psutil/_psosx.py\", line 361, in catch_zombie\n",
      "    raise AccessDenied(proc.pid, proc._name)\n",
      "psutil._exceptions.AccessDenied: psutil.AccessDenied (pid=7751)\n"
     ]
    },
    {
     "name": "stderr",
     "output_type": "stream",
     "text": [
      "tornado.application - ERROR - Exception in callback <bound method Nanny.memory_monitor of <Nanny: tcp://127.0.0.1:52996, threads: 1>>\n",
      "Traceback (most recent call last):\n",
      "  File \"/Users/bramvandesande/miniconda3/envs/pyscenic_dev/lib/python3.6/site-packages/psutil/_psosx.py\", line 348, in catch_zombie\n",
      "    yield\n",
      "  File \"/Users/bramvandesande/miniconda3/envs/pyscenic_dev/lib/python3.6/site-packages/psutil/_psosx.py\", line 387, in _get_pidtaskinfo\n",
      "    ret = cext.proc_pidtaskinfo_oneshot(self.pid)\n",
      "ProcessLookupError: [Errno 3] No such process\n",
      "\n",
      "During handling of the above exception, another exception occurred:\n",
      "\n",
      "Traceback (most recent call last):\n",
      "  File \"/Users/bramvandesande/miniconda3/envs/pyscenic_dev/lib/python3.6/site-packages/tornado/ioloop.py\", line 1026, in _run\n",
      "    return self.callback()\n",
      "  File \"/Users/bramvandesande/miniconda3/envs/pyscenic_dev/lib/python3.6/site-packages/distributed/nanny.py\", line 245, in memory_monitor\n",
      "    memory = psutil.Process(self.process.pid).memory_info().rss\n",
      "  File \"/Users/bramvandesande/miniconda3/envs/pyscenic_dev/lib/python3.6/site-packages/psutil/_common.py\", line 337, in wrapper\n",
      "    return fun(self)\n",
      "  File \"/Users/bramvandesande/miniconda3/envs/pyscenic_dev/lib/python3.6/site-packages/psutil/__init__.py\", line 1049, in memory_info\n",
      "    return self._proc.memory_info()\n",
      "  File \"/Users/bramvandesande/miniconda3/envs/pyscenic_dev/lib/python3.6/site-packages/psutil/_psosx.py\", line 330, in wrapper\n",
      "    return fun(self, *args, **kwargs)\n",
      "  File \"/Users/bramvandesande/miniconda3/envs/pyscenic_dev/lib/python3.6/site-packages/psutil/_psosx.py\", line 456, in memory_info\n",
      "    rawtuple = self._get_pidtaskinfo()\n",
      "  File \"/Users/bramvandesande/miniconda3/envs/pyscenic_dev/lib/python3.6/site-packages/psutil/_common.py\", line 337, in wrapper\n",
      "    return fun(self)\n",
      "  File \"/Users/bramvandesande/miniconda3/envs/pyscenic_dev/lib/python3.6/site-packages/psutil/_psosx.py\", line 387, in _get_pidtaskinfo\n",
      "    ret = cext.proc_pidtaskinfo_oneshot(self.pid)\n",
      "  File \"/Users/bramvandesande/miniconda3/envs/pyscenic_dev/lib/python3.6/contextlib.py\", line 99, in __exit__\n",
      "    self.gen.throw(type, value, traceback)\n",
      "  File \"/Users/bramvandesande/miniconda3/envs/pyscenic_dev/lib/python3.6/site-packages/psutil/_psosx.py\", line 361, in catch_zombie\n",
      "    raise AccessDenied(proc.pid, proc._name)\n",
      "psutil._exceptions.AccessDenied: psutil.AccessDenied (pid=7751)\n",
      "tornado.application - ERROR - Exception in callback <bound method Nanny.memory_monitor of <Nanny: tcp://127.0.0.1:52996, threads: 1>>\n",
      "Traceback (most recent call last):\n",
      "  File \"/Users/bramvandesande/miniconda3/envs/pyscenic_dev/lib/python3.6/site-packages/psutil/_psosx.py\", line 348, in catch_zombie\n",
      "    yield\n",
      "  File \"/Users/bramvandesande/miniconda3/envs/pyscenic_dev/lib/python3.6/site-packages/psutil/_psosx.py\", line 387, in _get_pidtaskinfo\n",
      "    ret = cext.proc_pidtaskinfo_oneshot(self.pid)\n",
      "ProcessLookupError: [Errno 3] No such process\n",
      "\n",
      "During handling of the above exception, another exception occurred:\n",
      "\n",
      "Traceback (most recent call last):\n",
      "  File \"/Users/bramvandesande/miniconda3/envs/pyscenic_dev/lib/python3.6/site-packages/tornado/ioloop.py\", line 1026, in _run\n",
      "    return self.callback()\n",
      "  File \"/Users/bramvandesande/miniconda3/envs/pyscenic_dev/lib/python3.6/site-packages/distributed/nanny.py\", line 245, in memory_monitor\n",
      "    memory = psutil.Process(self.process.pid).memory_info().rss\n",
      "  File \"/Users/bramvandesande/miniconda3/envs/pyscenic_dev/lib/python3.6/site-packages/psutil/_common.py\", line 337, in wrapper\n",
      "    return fun(self)\n",
      "  File \"/Users/bramvandesande/miniconda3/envs/pyscenic_dev/lib/python3.6/site-packages/psutil/__init__.py\", line 1049, in memory_info\n",
      "    return self._proc.memory_info()\n",
      "  File \"/Users/bramvandesande/miniconda3/envs/pyscenic_dev/lib/python3.6/site-packages/psutil/_psosx.py\", line 330, in wrapper\n",
      "    return fun(self, *args, **kwargs)\n",
      "  File \"/Users/bramvandesande/miniconda3/envs/pyscenic_dev/lib/python3.6/site-packages/psutil/_psosx.py\", line 456, in memory_info\n",
      "    rawtuple = self._get_pidtaskinfo()\n",
      "  File \"/Users/bramvandesande/miniconda3/envs/pyscenic_dev/lib/python3.6/site-packages/psutil/_common.py\", line 337, in wrapper\n",
      "    return fun(self)\n",
      "  File \"/Users/bramvandesande/miniconda3/envs/pyscenic_dev/lib/python3.6/site-packages/psutil/_psosx.py\", line 387, in _get_pidtaskinfo\n",
      "    ret = cext.proc_pidtaskinfo_oneshot(self.pid)\n",
      "  File \"/Users/bramvandesande/miniconda3/envs/pyscenic_dev/lib/python3.6/contextlib.py\", line 99, in __exit__\n",
      "    self.gen.throw(type, value, traceback)\n",
      "  File \"/Users/bramvandesande/miniconda3/envs/pyscenic_dev/lib/python3.6/site-packages/psutil/_psosx.py\", line 361, in catch_zombie\n",
      "    raise AccessDenied(proc.pid, proc._name)\n",
      "psutil._exceptions.AccessDenied: psutil.AccessDenied (pid=7751)\n",
      "tornado.application - ERROR - Exception in callback <bound method Nanny.memory_monitor of <Nanny: tcp://127.0.0.1:52909, threads: 1>>\n",
      "Traceback (most recent call last):\n",
      "  File \"/Users/bramvandesande/miniconda3/envs/pyscenic_dev/lib/python3.6/site-packages/psutil/_psosx.py\", line 348, in catch_zombie\n",
      "    yield\n",
      "  File \"/Users/bramvandesande/miniconda3/envs/pyscenic_dev/lib/python3.6/site-packages/psutil/_psosx.py\", line 387, in _get_pidtaskinfo\n",
      "    ret = cext.proc_pidtaskinfo_oneshot(self.pid)\n",
      "ProcessLookupError: [Errno 3] No such process\n",
      "\n",
      "During handling of the above exception, another exception occurred:\n",
      "\n",
      "Traceback (most recent call last):\n",
      "  File \"/Users/bramvandesande/miniconda3/envs/pyscenic_dev/lib/python3.6/site-packages/tornado/ioloop.py\", line 1026, in _run\n",
      "    return self.callback()\n",
      "  File \"/Users/bramvandesande/miniconda3/envs/pyscenic_dev/lib/python3.6/site-packages/distributed/nanny.py\", line 245, in memory_monitor\n",
      "    memory = psutil.Process(self.process.pid).memory_info().rss\n",
      "  File \"/Users/bramvandesande/miniconda3/envs/pyscenic_dev/lib/python3.6/site-packages/psutil/_common.py\", line 337, in wrapper\n",
      "    return fun(self)\n",
      "  File \"/Users/bramvandesande/miniconda3/envs/pyscenic_dev/lib/python3.6/site-packages/psutil/__init__.py\", line 1049, in memory_info\n",
      "    return self._proc.memory_info()\n",
      "  File \"/Users/bramvandesande/miniconda3/envs/pyscenic_dev/lib/python3.6/site-packages/psutil/_psosx.py\", line 330, in wrapper\n",
      "    return fun(self, *args, **kwargs)\n",
      "  File \"/Users/bramvandesande/miniconda3/envs/pyscenic_dev/lib/python3.6/site-packages/psutil/_psosx.py\", line 456, in memory_info\n",
      "    rawtuple = self._get_pidtaskinfo()\n",
      "  File \"/Users/bramvandesande/miniconda3/envs/pyscenic_dev/lib/python3.6/site-packages/psutil/_common.py\", line 337, in wrapper\n",
      "    return fun(self)\n",
      "  File \"/Users/bramvandesande/miniconda3/envs/pyscenic_dev/lib/python3.6/site-packages/psutil/_psosx.py\", line 387, in _get_pidtaskinfo\n",
      "    ret = cext.proc_pidtaskinfo_oneshot(self.pid)\n",
      "  File \"/Users/bramvandesande/miniconda3/envs/pyscenic_dev/lib/python3.6/contextlib.py\", line 99, in __exit__\n",
      "    self.gen.throw(type, value, traceback)\n",
      "  File \"/Users/bramvandesande/miniconda3/envs/pyscenic_dev/lib/python3.6/site-packages/psutil/_psosx.py\", line 361, in catch_zombie\n",
      "    raise AccessDenied(proc.pid, proc._name)\n",
      "psutil._exceptions.AccessDenied: psutil.AccessDenied (pid=7680)\n",
      "tornado.application - ERROR - Exception in callback <bound method Nanny.memory_monitor of <Nanny: tcp://127.0.0.1:52909, threads: 1>>\n",
      "Traceback (most recent call last):\n",
      "  File \"/Users/bramvandesande/miniconda3/envs/pyscenic_dev/lib/python3.6/site-packages/psutil/_psosx.py\", line 348, in catch_zombie\n",
      "    yield\n",
      "  File \"/Users/bramvandesande/miniconda3/envs/pyscenic_dev/lib/python3.6/site-packages/psutil/_psosx.py\", line 387, in _get_pidtaskinfo\n",
      "    ret = cext.proc_pidtaskinfo_oneshot(self.pid)\n",
      "ProcessLookupError: [Errno 3] No such process\n",
      "\n",
      "During handling of the above exception, another exception occurred:\n",
      "\n",
      "Traceback (most recent call last):\n",
      "  File \"/Users/bramvandesande/miniconda3/envs/pyscenic_dev/lib/python3.6/site-packages/tornado/ioloop.py\", line 1026, in _run\n",
      "    return self.callback()\n",
      "  File \"/Users/bramvandesande/miniconda3/envs/pyscenic_dev/lib/python3.6/site-packages/distributed/nanny.py\", line 245, in memory_monitor\n",
      "    memory = psutil.Process(self.process.pid).memory_info().rss\n",
      "  File \"/Users/bramvandesande/miniconda3/envs/pyscenic_dev/lib/python3.6/site-packages/psutil/_common.py\", line 337, in wrapper\n",
      "    return fun(self)\n",
      "  File \"/Users/bramvandesande/miniconda3/envs/pyscenic_dev/lib/python3.6/site-packages/psutil/__init__.py\", line 1049, in memory_info\n",
      "    return self._proc.memory_info()\n",
      "  File \"/Users/bramvandesande/miniconda3/envs/pyscenic_dev/lib/python3.6/site-packages/psutil/_psosx.py\", line 330, in wrapper\n",
      "    return fun(self, *args, **kwargs)\n",
      "  File \"/Users/bramvandesande/miniconda3/envs/pyscenic_dev/lib/python3.6/site-packages/psutil/_psosx.py\", line 456, in memory_info\n",
      "    rawtuple = self._get_pidtaskinfo()\n",
      "  File \"/Users/bramvandesande/miniconda3/envs/pyscenic_dev/lib/python3.6/site-packages/psutil/_common.py\", line 337, in wrapper\n",
      "    return fun(self)\n",
      "  File \"/Users/bramvandesande/miniconda3/envs/pyscenic_dev/lib/python3.6/site-packages/psutil/_psosx.py\", line 387, in _get_pidtaskinfo\n",
      "    ret = cext.proc_pidtaskinfo_oneshot(self.pid)\n",
      "  File \"/Users/bramvandesande/miniconda3/envs/pyscenic_dev/lib/python3.6/contextlib.py\", line 99, in __exit__\n",
      "    self.gen.throw(type, value, traceback)\n",
      "  File \"/Users/bramvandesande/miniconda3/envs/pyscenic_dev/lib/python3.6/site-packages/psutil/_psosx.py\", line 361, in catch_zombie\n",
      "    raise AccessDenied(proc.pid, proc._name)\n",
      "psutil._exceptions.AccessDenied: psutil.AccessDenied (pid=7680)\n"
     ]
    },
    {
     "name": "stderr",
     "output_type": "stream",
     "text": [
      "tornado.application - ERROR - Exception in callback <bound method Nanny.memory_monitor of <Nanny: tcp://127.0.0.1:52909, threads: 1>>\n",
      "Traceback (most recent call last):\n",
      "  File \"/Users/bramvandesande/miniconda3/envs/pyscenic_dev/lib/python3.6/site-packages/psutil/_psosx.py\", line 348, in catch_zombie\n",
      "    yield\n",
      "  File \"/Users/bramvandesande/miniconda3/envs/pyscenic_dev/lib/python3.6/site-packages/psutil/_psosx.py\", line 387, in _get_pidtaskinfo\n",
      "    ret = cext.proc_pidtaskinfo_oneshot(self.pid)\n",
      "ProcessLookupError: [Errno 3] No such process\n",
      "\n",
      "During handling of the above exception, another exception occurred:\n",
      "\n",
      "Traceback (most recent call last):\n",
      "  File \"/Users/bramvandesande/miniconda3/envs/pyscenic_dev/lib/python3.6/site-packages/tornado/ioloop.py\", line 1026, in _run\n",
      "    return self.callback()\n",
      "  File \"/Users/bramvandesande/miniconda3/envs/pyscenic_dev/lib/python3.6/site-packages/distributed/nanny.py\", line 245, in memory_monitor\n",
      "    memory = psutil.Process(self.process.pid).memory_info().rss\n",
      "  File \"/Users/bramvandesande/miniconda3/envs/pyscenic_dev/lib/python3.6/site-packages/psutil/_common.py\", line 337, in wrapper\n",
      "    return fun(self)\n",
      "  File \"/Users/bramvandesande/miniconda3/envs/pyscenic_dev/lib/python3.6/site-packages/psutil/__init__.py\", line 1049, in memory_info\n",
      "    return self._proc.memory_info()\n",
      "  File \"/Users/bramvandesande/miniconda3/envs/pyscenic_dev/lib/python3.6/site-packages/psutil/_psosx.py\", line 330, in wrapper\n",
      "    return fun(self, *args, **kwargs)\n",
      "  File \"/Users/bramvandesande/miniconda3/envs/pyscenic_dev/lib/python3.6/site-packages/psutil/_psosx.py\", line 456, in memory_info\n",
      "    rawtuple = self._get_pidtaskinfo()\n",
      "  File \"/Users/bramvandesande/miniconda3/envs/pyscenic_dev/lib/python3.6/site-packages/psutil/_common.py\", line 337, in wrapper\n",
      "    return fun(self)\n",
      "  File \"/Users/bramvandesande/miniconda3/envs/pyscenic_dev/lib/python3.6/site-packages/psutil/_psosx.py\", line 387, in _get_pidtaskinfo\n",
      "    ret = cext.proc_pidtaskinfo_oneshot(self.pid)\n",
      "  File \"/Users/bramvandesande/miniconda3/envs/pyscenic_dev/lib/python3.6/contextlib.py\", line 99, in __exit__\n",
      "    self.gen.throw(type, value, traceback)\n",
      "  File \"/Users/bramvandesande/miniconda3/envs/pyscenic_dev/lib/python3.6/site-packages/psutil/_psosx.py\", line 361, in catch_zombie\n",
      "    raise AccessDenied(proc.pid, proc._name)\n",
      "psutil._exceptions.AccessDenied: psutil.AccessDenied (pid=7680)\n",
      "tornado.application - ERROR - Exception in callback <bound method Nanny.memory_monitor of <Nanny: tcp://127.0.0.1:52909, threads: 1>>\n",
      "Traceback (most recent call last):\n",
      "  File \"/Users/bramvandesande/miniconda3/envs/pyscenic_dev/lib/python3.6/site-packages/psutil/_psosx.py\", line 348, in catch_zombie\n",
      "    yield\n",
      "  File \"/Users/bramvandesande/miniconda3/envs/pyscenic_dev/lib/python3.6/site-packages/psutil/_psosx.py\", line 387, in _get_pidtaskinfo\n",
      "    ret = cext.proc_pidtaskinfo_oneshot(self.pid)\n",
      "ProcessLookupError: [Errno 3] No such process\n",
      "\n",
      "During handling of the above exception, another exception occurred:\n",
      "\n",
      "Traceback (most recent call last):\n",
      "  File \"/Users/bramvandesande/miniconda3/envs/pyscenic_dev/lib/python3.6/site-packages/tornado/ioloop.py\", line 1026, in _run\n",
      "    return self.callback()\n",
      "  File \"/Users/bramvandesande/miniconda3/envs/pyscenic_dev/lib/python3.6/site-packages/distributed/nanny.py\", line 245, in memory_monitor\n",
      "    memory = psutil.Process(self.process.pid).memory_info().rss\n",
      "  File \"/Users/bramvandesande/miniconda3/envs/pyscenic_dev/lib/python3.6/site-packages/psutil/_common.py\", line 337, in wrapper\n",
      "    return fun(self)\n",
      "  File \"/Users/bramvandesande/miniconda3/envs/pyscenic_dev/lib/python3.6/site-packages/psutil/__init__.py\", line 1049, in memory_info\n",
      "    return self._proc.memory_info()\n",
      "  File \"/Users/bramvandesande/miniconda3/envs/pyscenic_dev/lib/python3.6/site-packages/psutil/_psosx.py\", line 330, in wrapper\n",
      "    return fun(self, *args, **kwargs)\n",
      "  File \"/Users/bramvandesande/miniconda3/envs/pyscenic_dev/lib/python3.6/site-packages/psutil/_psosx.py\", line 456, in memory_info\n",
      "    rawtuple = self._get_pidtaskinfo()\n",
      "  File \"/Users/bramvandesande/miniconda3/envs/pyscenic_dev/lib/python3.6/site-packages/psutil/_common.py\", line 337, in wrapper\n",
      "    return fun(self)\n",
      "  File \"/Users/bramvandesande/miniconda3/envs/pyscenic_dev/lib/python3.6/site-packages/psutil/_psosx.py\", line 387, in _get_pidtaskinfo\n",
      "    ret = cext.proc_pidtaskinfo_oneshot(self.pid)\n",
      "  File \"/Users/bramvandesande/miniconda3/envs/pyscenic_dev/lib/python3.6/contextlib.py\", line 99, in __exit__\n",
      "    self.gen.throw(type, value, traceback)\n",
      "  File \"/Users/bramvandesande/miniconda3/envs/pyscenic_dev/lib/python3.6/site-packages/psutil/_psosx.py\", line 361, in catch_zombie\n",
      "    raise AccessDenied(proc.pid, proc._name)\n",
      "psutil._exceptions.AccessDenied: psutil.AccessDenied (pid=7680)\n",
      "tornado.application - ERROR - Exception in callback <bound method Nanny.memory_monitor of <Nanny: tcp://127.0.0.1:52909, threads: 1>>\n",
      "Traceback (most recent call last):\n",
      "  File \"/Users/bramvandesande/miniconda3/envs/pyscenic_dev/lib/python3.6/site-packages/psutil/_psosx.py\", line 348, in catch_zombie\n",
      "    yield\n",
      "  File \"/Users/bramvandesande/miniconda3/envs/pyscenic_dev/lib/python3.6/site-packages/psutil/_psosx.py\", line 387, in _get_pidtaskinfo\n",
      "    ret = cext.proc_pidtaskinfo_oneshot(self.pid)\n",
      "ProcessLookupError: [Errno 3] No such process\n",
      "\n",
      "During handling of the above exception, another exception occurred:\n",
      "\n",
      "Traceback (most recent call last):\n",
      "  File \"/Users/bramvandesande/miniconda3/envs/pyscenic_dev/lib/python3.6/site-packages/tornado/ioloop.py\", line 1026, in _run\n",
      "    return self.callback()\n",
      "  File \"/Users/bramvandesande/miniconda3/envs/pyscenic_dev/lib/python3.6/site-packages/distributed/nanny.py\", line 245, in memory_monitor\n",
      "    memory = psutil.Process(self.process.pid).memory_info().rss\n",
      "  File \"/Users/bramvandesande/miniconda3/envs/pyscenic_dev/lib/python3.6/site-packages/psutil/_common.py\", line 337, in wrapper\n",
      "    return fun(self)\n",
      "  File \"/Users/bramvandesande/miniconda3/envs/pyscenic_dev/lib/python3.6/site-packages/psutil/__init__.py\", line 1049, in memory_info\n",
      "    return self._proc.memory_info()\n",
      "  File \"/Users/bramvandesande/miniconda3/envs/pyscenic_dev/lib/python3.6/site-packages/psutil/_psosx.py\", line 330, in wrapper\n",
      "    return fun(self, *args, **kwargs)\n",
      "  File \"/Users/bramvandesande/miniconda3/envs/pyscenic_dev/lib/python3.6/site-packages/psutil/_psosx.py\", line 456, in memory_info\n",
      "    rawtuple = self._get_pidtaskinfo()\n",
      "  File \"/Users/bramvandesande/miniconda3/envs/pyscenic_dev/lib/python3.6/site-packages/psutil/_common.py\", line 337, in wrapper\n",
      "    return fun(self)\n",
      "  File \"/Users/bramvandesande/miniconda3/envs/pyscenic_dev/lib/python3.6/site-packages/psutil/_psosx.py\", line 387, in _get_pidtaskinfo\n",
      "    ret = cext.proc_pidtaskinfo_oneshot(self.pid)\n",
      "  File \"/Users/bramvandesande/miniconda3/envs/pyscenic_dev/lib/python3.6/contextlib.py\", line 99, in __exit__\n",
      "    self.gen.throw(type, value, traceback)\n",
      "  File \"/Users/bramvandesande/miniconda3/envs/pyscenic_dev/lib/python3.6/site-packages/psutil/_psosx.py\", line 361, in catch_zombie\n",
      "    raise AccessDenied(proc.pid, proc._name)\n",
      "psutil._exceptions.AccessDenied: psutil.AccessDenied (pid=7680)\n",
      "tornado.application - ERROR - Exception in callback <bound method Nanny.memory_monitor of <Nanny: tcp://127.0.0.1:52909, threads: 1>>\n",
      "Traceback (most recent call last):\n",
      "  File \"/Users/bramvandesande/miniconda3/envs/pyscenic_dev/lib/python3.6/site-packages/psutil/_psosx.py\", line 348, in catch_zombie\n",
      "    yield\n",
      "  File \"/Users/bramvandesande/miniconda3/envs/pyscenic_dev/lib/python3.6/site-packages/psutil/_psosx.py\", line 387, in _get_pidtaskinfo\n",
      "    ret = cext.proc_pidtaskinfo_oneshot(self.pid)\n",
      "ProcessLookupError: [Errno 3] No such process\n",
      "\n",
      "During handling of the above exception, another exception occurred:\n",
      "\n",
      "Traceback (most recent call last):\n",
      "  File \"/Users/bramvandesande/miniconda3/envs/pyscenic_dev/lib/python3.6/site-packages/tornado/ioloop.py\", line 1026, in _run\n",
      "    return self.callback()\n",
      "  File \"/Users/bramvandesande/miniconda3/envs/pyscenic_dev/lib/python3.6/site-packages/distributed/nanny.py\", line 245, in memory_monitor\n",
      "    memory = psutil.Process(self.process.pid).memory_info().rss\n",
      "  File \"/Users/bramvandesande/miniconda3/envs/pyscenic_dev/lib/python3.6/site-packages/psutil/_common.py\", line 337, in wrapper\n",
      "    return fun(self)\n",
      "  File \"/Users/bramvandesande/miniconda3/envs/pyscenic_dev/lib/python3.6/site-packages/psutil/__init__.py\", line 1049, in memory_info\n",
      "    return self._proc.memory_info()\n",
      "  File \"/Users/bramvandesande/miniconda3/envs/pyscenic_dev/lib/python3.6/site-packages/psutil/_psosx.py\", line 330, in wrapper\n",
      "    return fun(self, *args, **kwargs)\n",
      "  File \"/Users/bramvandesande/miniconda3/envs/pyscenic_dev/lib/python3.6/site-packages/psutil/_psosx.py\", line 456, in memory_info\n",
      "    rawtuple = self._get_pidtaskinfo()\n",
      "  File \"/Users/bramvandesande/miniconda3/envs/pyscenic_dev/lib/python3.6/site-packages/psutil/_common.py\", line 337, in wrapper\n",
      "    return fun(self)\n",
      "  File \"/Users/bramvandesande/miniconda3/envs/pyscenic_dev/lib/python3.6/site-packages/psutil/_psosx.py\", line 387, in _get_pidtaskinfo\n",
      "    ret = cext.proc_pidtaskinfo_oneshot(self.pid)\n",
      "  File \"/Users/bramvandesande/miniconda3/envs/pyscenic_dev/lib/python3.6/contextlib.py\", line 99, in __exit__\n",
      "    self.gen.throw(type, value, traceback)\n",
      "  File \"/Users/bramvandesande/miniconda3/envs/pyscenic_dev/lib/python3.6/site-packages/psutil/_psosx.py\", line 361, in catch_zombie\n",
      "    raise AccessDenied(proc.pid, proc._name)\n",
      "psutil._exceptions.AccessDenied: psutil.AccessDenied (pid=7680)\n"
     ]
    },
    {
     "name": "stderr",
     "output_type": "stream",
     "text": [
      "tornado.application - ERROR - Exception in callback <bound method Nanny.memory_monitor of <Nanny: tcp://127.0.0.1:52909, threads: 1>>\n",
      "Traceback (most recent call last):\n",
      "  File \"/Users/bramvandesande/miniconda3/envs/pyscenic_dev/lib/python3.6/site-packages/psutil/_psosx.py\", line 348, in catch_zombie\n",
      "    yield\n",
      "  File \"/Users/bramvandesande/miniconda3/envs/pyscenic_dev/lib/python3.6/site-packages/psutil/_psosx.py\", line 387, in _get_pidtaskinfo\n",
      "    ret = cext.proc_pidtaskinfo_oneshot(self.pid)\n",
      "ProcessLookupError: [Errno 3] No such process\n",
      "\n",
      "During handling of the above exception, another exception occurred:\n",
      "\n",
      "Traceback (most recent call last):\n",
      "  File \"/Users/bramvandesande/miniconda3/envs/pyscenic_dev/lib/python3.6/site-packages/tornado/ioloop.py\", line 1026, in _run\n",
      "    return self.callback()\n",
      "  File \"/Users/bramvandesande/miniconda3/envs/pyscenic_dev/lib/python3.6/site-packages/distributed/nanny.py\", line 245, in memory_monitor\n",
      "    memory = psutil.Process(self.process.pid).memory_info().rss\n",
      "  File \"/Users/bramvandesande/miniconda3/envs/pyscenic_dev/lib/python3.6/site-packages/psutil/_common.py\", line 337, in wrapper\n",
      "    return fun(self)\n",
      "  File \"/Users/bramvandesande/miniconda3/envs/pyscenic_dev/lib/python3.6/site-packages/psutil/__init__.py\", line 1049, in memory_info\n",
      "    return self._proc.memory_info()\n",
      "  File \"/Users/bramvandesande/miniconda3/envs/pyscenic_dev/lib/python3.6/site-packages/psutil/_psosx.py\", line 330, in wrapper\n",
      "    return fun(self, *args, **kwargs)\n",
      "  File \"/Users/bramvandesande/miniconda3/envs/pyscenic_dev/lib/python3.6/site-packages/psutil/_psosx.py\", line 456, in memory_info\n",
      "    rawtuple = self._get_pidtaskinfo()\n",
      "  File \"/Users/bramvandesande/miniconda3/envs/pyscenic_dev/lib/python3.6/site-packages/psutil/_common.py\", line 337, in wrapper\n",
      "    return fun(self)\n",
      "  File \"/Users/bramvandesande/miniconda3/envs/pyscenic_dev/lib/python3.6/site-packages/psutil/_psosx.py\", line 387, in _get_pidtaskinfo\n",
      "    ret = cext.proc_pidtaskinfo_oneshot(self.pid)\n",
      "  File \"/Users/bramvandesande/miniconda3/envs/pyscenic_dev/lib/python3.6/contextlib.py\", line 99, in __exit__\n",
      "    self.gen.throw(type, value, traceback)\n",
      "  File \"/Users/bramvandesande/miniconda3/envs/pyscenic_dev/lib/python3.6/site-packages/psutil/_psosx.py\", line 361, in catch_zombie\n",
      "    raise AccessDenied(proc.pid, proc._name)\n",
      "psutil._exceptions.AccessDenied: psutil.AccessDenied (pid=7680)\n"
     ]
    }
   ],
   "source": [
    "regulomes"
   ]
  },
  {
   "cell_type": "code",
   "execution_count": 15,
   "metadata": {},
   "outputs": [],
   "source": [
    "custom_client.close()\n",
    "local_cluster.close()"
   ]
  },
  {
   "cell_type": "code",
   "execution_count": null,
   "metadata": {},
   "outputs": [],
   "source": []
  }
 ],
 "metadata": {
  "kernelspec": {
   "display_name": "Python 3.6.2 (pyscenic_dev)",
   "language": "python",
   "name": "pyscenic_dev"
  },
  "language_info": {
   "codemirror_mode": {
    "name": "ipython",
    "version": 3
   },
   "file_extension": ".py",
   "mimetype": "text/x-python",
   "name": "python",
   "nbconvert_exporter": "python",
   "pygments_lexer": "ipython3",
   "version": "3.6.2"
  }
 },
 "nbformat": 4,
 "nbformat_minor": 2
}
