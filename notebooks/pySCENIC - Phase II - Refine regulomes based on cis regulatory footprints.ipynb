{
 "cells": [
  {
   "cell_type": "markdown",
   "metadata": {},
   "source": [
    "__Author:__ Bram Van de Sande\n",
    "\n",
    "__Date:__ 6 FEB 2018\n",
    "\n",
    "__Outline:__ This notebook clarifies the process by which the co-expression modules derived from GENIE3 can be refined into true regulomes (i.e. excluding indirect targets of transcription factors). Aka \"RcisTarget\"."
   ]
  },
  {
   "cell_type": "code",
   "execution_count": 1,
   "metadata": {},
   "outputs": [
    {
     "data": {
      "text/html": [
       "\n",
       "    <div class=\"bk-root\">\n",
       "        <a href=\"https://bokeh.pydata.org\" target=\"_blank\" class=\"bk-logo bk-logo-small bk-logo-notebook\"></a>\n",
       "        <span id=\"9039d483-cbee-484c-bc70-b5253570e6d4\">Loading BokehJS ...</span>\n",
       "    </div>"
      ]
     },
     "metadata": {},
     "output_type": "display_data"
    },
    {
     "data": {
      "application/javascript": [
       "\n",
       "(function(root) {\n",
       "  function now() {\n",
       "    return new Date();\n",
       "  }\n",
       "\n",
       "  var force = true;\n",
       "\n",
       "  if (typeof (root._bokeh_onload_callbacks) === \"undefined\" || force === true) {\n",
       "    root._bokeh_onload_callbacks = [];\n",
       "    root._bokeh_is_loading = undefined;\n",
       "  }\n",
       "\n",
       "  var JS_MIME_TYPE = 'application/javascript';\n",
       "  var HTML_MIME_TYPE = 'text/html';\n",
       "  var EXEC_MIME_TYPE = 'application/vnd.bokehjs_exec.v0+json';\n",
       "  var CLASS_NAME = 'output_bokeh rendered_html';\n",
       "\n",
       "  /**\n",
       "   * Render data to the DOM node\n",
       "   */\n",
       "  function render(props, node) {\n",
       "    var script = document.createElement(\"script\");\n",
       "    node.appendChild(script);\n",
       "  }\n",
       "\n",
       "  /**\n",
       "   * Handle when an output is cleared or removed\n",
       "   */\n",
       "  function handleClearOutput(event, handle) {\n",
       "    var cell = handle.cell;\n",
       "\n",
       "    var id = cell.output_area._bokeh_element_id;\n",
       "    var server_id = cell.output_area._bokeh_server_id;\n",
       "    // Clean up Bokeh references\n",
       "    if (id !== undefined) {\n",
       "      Bokeh.index[id].model.document.clear();\n",
       "      delete Bokeh.index[id];\n",
       "    }\n",
       "\n",
       "    if (server_id !== undefined) {\n",
       "      // Clean up Bokeh references\n",
       "      var cmd = \"from bokeh.io.state import curstate; print(curstate().uuid_to_server['\" + server_id + \"'].get_sessions()[0].document.roots[0]._id)\";\n",
       "      cell.notebook.kernel.execute(cmd, {\n",
       "        iopub: {\n",
       "          output: function(msg) {\n",
       "            var element_id = msg.content.text.trim();\n",
       "            Bokeh.index[element_id].model.document.clear();\n",
       "            delete Bokeh.index[element_id];\n",
       "          }\n",
       "        }\n",
       "      });\n",
       "      // Destroy server and session\n",
       "      var cmd = \"import bokeh.io.notebook as ion; ion.destroy_server('\" + server_id + \"')\";\n",
       "      cell.notebook.kernel.execute(cmd);\n",
       "    }\n",
       "  }\n",
       "\n",
       "  /**\n",
       "   * Handle when a new output is added\n",
       "   */\n",
       "  function handleAddOutput(event, handle) {\n",
       "    var output_area = handle.output_area;\n",
       "    var output = handle.output;\n",
       "\n",
       "    // limit handleAddOutput to display_data with EXEC_MIME_TYPE content only\n",
       "    if ((output.output_type != \"display_data\") || (!output.data.hasOwnProperty(EXEC_MIME_TYPE))) {\n",
       "      return\n",
       "    }\n",
       "\n",
       "    var toinsert = output_area.element.find(\".\" + CLASS_NAME.split(' ')[0]);\n",
       "\n",
       "    if (output.metadata[EXEC_MIME_TYPE][\"id\"] !== undefined) {\n",
       "      toinsert[0].firstChild.textContent = output.data[JS_MIME_TYPE];\n",
       "      // store reference to embed id on output_area\n",
       "      output_area._bokeh_element_id = output.metadata[EXEC_MIME_TYPE][\"id\"];\n",
       "    }\n",
       "    if (output.metadata[EXEC_MIME_TYPE][\"server_id\"] !== undefined) {\n",
       "      var bk_div = document.createElement(\"div\");\n",
       "      bk_div.innerHTML = output.data[HTML_MIME_TYPE];\n",
       "      var script_attrs = bk_div.children[0].attributes;\n",
       "      for (var i = 0; i < script_attrs.length; i++) {\n",
       "        toinsert[0].firstChild.setAttribute(script_attrs[i].name, script_attrs[i].value);\n",
       "      }\n",
       "      // store reference to server id on output_area\n",
       "      output_area._bokeh_server_id = output.metadata[EXEC_MIME_TYPE][\"server_id\"];\n",
       "    }\n",
       "  }\n",
       "\n",
       "  function register_renderer(events, OutputArea) {\n",
       "\n",
       "    function append_mime(data, metadata, element) {\n",
       "      // create a DOM node to render to\n",
       "      var toinsert = this.create_output_subarea(\n",
       "        metadata,\n",
       "        CLASS_NAME,\n",
       "        EXEC_MIME_TYPE\n",
       "      );\n",
       "      this.keyboard_manager.register_events(toinsert);\n",
       "      // Render to node\n",
       "      var props = {data: data, metadata: metadata[EXEC_MIME_TYPE]};\n",
       "      render(props, toinsert[0]);\n",
       "      element.append(toinsert);\n",
       "      return toinsert\n",
       "    }\n",
       "\n",
       "    /* Handle when an output is cleared or removed */\n",
       "    events.on('clear_output.CodeCell', handleClearOutput);\n",
       "    events.on('delete.Cell', handleClearOutput);\n",
       "\n",
       "    /* Handle when a new output is added */\n",
       "    events.on('output_added.OutputArea', handleAddOutput);\n",
       "\n",
       "    /**\n",
       "     * Register the mime type and append_mime function with output_area\n",
       "     */\n",
       "    OutputArea.prototype.register_mime_type(EXEC_MIME_TYPE, append_mime, {\n",
       "      /* Is output safe? */\n",
       "      safe: true,\n",
       "      /* Index of renderer in `output_area.display_order` */\n",
       "      index: 0\n",
       "    });\n",
       "  }\n",
       "\n",
       "  // register the mime type if in Jupyter Notebook environment and previously unregistered\n",
       "  if (root.Jupyter !== undefined) {\n",
       "    var events = require('base/js/events');\n",
       "    var OutputArea = require('notebook/js/outputarea').OutputArea;\n",
       "\n",
       "    if (OutputArea.prototype.mime_types().indexOf(EXEC_MIME_TYPE) == -1) {\n",
       "      register_renderer(events, OutputArea);\n",
       "    }\n",
       "  }\n",
       "\n",
       "  \n",
       "  if (typeof (root._bokeh_timeout) === \"undefined\" || force === true) {\n",
       "    root._bokeh_timeout = Date.now() + 5000;\n",
       "    root._bokeh_failed_load = false;\n",
       "  }\n",
       "\n",
       "  var NB_LOAD_WARNING = {'data': {'text/html':\n",
       "     \"<div style='background-color: #fdd'>\\n\"+\n",
       "     \"<p>\\n\"+\n",
       "     \"BokehJS does not appear to have successfully loaded. If loading BokehJS from CDN, this \\n\"+\n",
       "     \"may be due to a slow or bad network connection. Possible fixes:\\n\"+\n",
       "     \"</p>\\n\"+\n",
       "     \"<ul>\\n\"+\n",
       "     \"<li>re-rerun `output_notebook()` to attempt to load from CDN again, or</li>\\n\"+\n",
       "     \"<li>use INLINE resources instead, as so:</li>\\n\"+\n",
       "     \"</ul>\\n\"+\n",
       "     \"<code>\\n\"+\n",
       "     \"from bokeh.resources import INLINE\\n\"+\n",
       "     \"output_notebook(resources=INLINE)\\n\"+\n",
       "     \"</code>\\n\"+\n",
       "     \"</div>\"}};\n",
       "\n",
       "  function display_loaded() {\n",
       "    var el = document.getElementById(\"9039d483-cbee-484c-bc70-b5253570e6d4\");\n",
       "    if (el != null) {\n",
       "      el.textContent = \"BokehJS is loading...\";\n",
       "    }\n",
       "    if (root.Bokeh !== undefined) {\n",
       "      if (el != null) {\n",
       "        el.textContent = \"BokehJS \" + root.Bokeh.version + \" successfully loaded.\";\n",
       "      }\n",
       "    } else if (Date.now() < root._bokeh_timeout) {\n",
       "      setTimeout(display_loaded, 100)\n",
       "    }\n",
       "  }\n",
       "\n",
       "\n",
       "  function run_callbacks() {\n",
       "    try {\n",
       "      root._bokeh_onload_callbacks.forEach(function(callback) { callback() });\n",
       "    }\n",
       "    finally {\n",
       "      delete root._bokeh_onload_callbacks\n",
       "    }\n",
       "    console.info(\"Bokeh: all callbacks have finished\");\n",
       "  }\n",
       "\n",
       "  function load_libs(js_urls, callback) {\n",
       "    root._bokeh_onload_callbacks.push(callback);\n",
       "    if (root._bokeh_is_loading > 0) {\n",
       "      console.log(\"Bokeh: BokehJS is being loaded, scheduling callback at\", now());\n",
       "      return null;\n",
       "    }\n",
       "    if (js_urls == null || js_urls.length === 0) {\n",
       "      run_callbacks();\n",
       "      return null;\n",
       "    }\n",
       "    console.log(\"Bokeh: BokehJS not loaded, scheduling load and callback at\", now());\n",
       "    root._bokeh_is_loading = js_urls.length;\n",
       "    for (var i = 0; i < js_urls.length; i++) {\n",
       "      var url = js_urls[i];\n",
       "      var s = document.createElement('script');\n",
       "      s.src = url;\n",
       "      s.async = false;\n",
       "      s.onreadystatechange = s.onload = function() {\n",
       "        root._bokeh_is_loading--;\n",
       "        if (root._bokeh_is_loading === 0) {\n",
       "          console.log(\"Bokeh: all BokehJS libraries loaded\");\n",
       "          run_callbacks()\n",
       "        }\n",
       "      };\n",
       "      s.onerror = function() {\n",
       "        console.warn(\"failed to load library \" + url);\n",
       "      };\n",
       "      console.log(\"Bokeh: injecting script tag for BokehJS library: \", url);\n",
       "      document.getElementsByTagName(\"head\")[0].appendChild(s);\n",
       "    }\n",
       "  };var element = document.getElementById(\"9039d483-cbee-484c-bc70-b5253570e6d4\");\n",
       "  if (element == null) {\n",
       "    console.log(\"Bokeh: ERROR: autoload.js configured with elementid '9039d483-cbee-484c-bc70-b5253570e6d4' but no matching script tag was found. \")\n",
       "    return false;\n",
       "  }\n",
       "\n",
       "  var js_urls = [\"https://cdn.pydata.org/bokeh/release/bokeh-0.12.13.min.js\", \"https://cdn.pydata.org/bokeh/release/bokeh-widgets-0.12.13.min.js\", \"https://cdn.pydata.org/bokeh/release/bokeh-tables-0.12.13.min.js\", \"https://cdn.pydata.org/bokeh/release/bokeh-gl-0.12.13.min.js\"];\n",
       "\n",
       "  var inline_js = [\n",
       "    function(Bokeh) {\n",
       "      Bokeh.set_log_level(\"info\");\n",
       "    },\n",
       "    \n",
       "    function(Bokeh) {\n",
       "      \n",
       "    },\n",
       "    function(Bokeh) {\n",
       "      console.log(\"Bokeh: injecting CSS: https://cdn.pydata.org/bokeh/release/bokeh-0.12.13.min.css\");\n",
       "      Bokeh.embed.inject_css(\"https://cdn.pydata.org/bokeh/release/bokeh-0.12.13.min.css\");\n",
       "      console.log(\"Bokeh: injecting CSS: https://cdn.pydata.org/bokeh/release/bokeh-widgets-0.12.13.min.css\");\n",
       "      Bokeh.embed.inject_css(\"https://cdn.pydata.org/bokeh/release/bokeh-widgets-0.12.13.min.css\");\n",
       "      console.log(\"Bokeh: injecting CSS: https://cdn.pydata.org/bokeh/release/bokeh-tables-0.12.13.min.css\");\n",
       "      Bokeh.embed.inject_css(\"https://cdn.pydata.org/bokeh/release/bokeh-tables-0.12.13.min.css\");\n",
       "    }\n",
       "  ];\n",
       "\n",
       "  function run_inline_js() {\n",
       "    \n",
       "    if ((root.Bokeh !== undefined) || (force === true)) {\n",
       "      for (var i = 0; i < inline_js.length; i++) {\n",
       "        inline_js[i].call(root, root.Bokeh);\n",
       "      }if (force === true) {\n",
       "        display_loaded();\n",
       "      }} else if (Date.now() < root._bokeh_timeout) {\n",
       "      setTimeout(run_inline_js, 100);\n",
       "    } else if (!root._bokeh_failed_load) {\n",
       "      console.log(\"Bokeh: BokehJS failed to load within specified timeout.\");\n",
       "      root._bokeh_failed_load = true;\n",
       "    } else if (force !== true) {\n",
       "      var cell = $(document.getElementById(\"9039d483-cbee-484c-bc70-b5253570e6d4\")).parents('.cell').data().cell;\n",
       "      cell.output_area.append_execute_result(NB_LOAD_WARNING)\n",
       "    }\n",
       "\n",
       "  }\n",
       "\n",
       "  if (root._bokeh_is_loading === 0) {\n",
       "    console.log(\"Bokeh: BokehJS loaded, going straight to plotting\");\n",
       "    run_inline_js();\n",
       "  } else {\n",
       "    load_libs(js_urls, function() {\n",
       "      console.log(\"Bokeh: BokehJS plotting callback run at\", now());\n",
       "      run_inline_js();\n",
       "    });\n",
       "  }\n",
       "}(window));"
      ],
      "application/vnd.bokehjs_load.v0+json": "\n(function(root) {\n  function now() {\n    return new Date();\n  }\n\n  var force = true;\n\n  if (typeof (root._bokeh_onload_callbacks) === \"undefined\" || force === true) {\n    root._bokeh_onload_callbacks = [];\n    root._bokeh_is_loading = undefined;\n  }\n\n  \n\n  \n  if (typeof (root._bokeh_timeout) === \"undefined\" || force === true) {\n    root._bokeh_timeout = Date.now() + 5000;\n    root._bokeh_failed_load = false;\n  }\n\n  var NB_LOAD_WARNING = {'data': {'text/html':\n     \"<div style='background-color: #fdd'>\\n\"+\n     \"<p>\\n\"+\n     \"BokehJS does not appear to have successfully loaded. If loading BokehJS from CDN, this \\n\"+\n     \"may be due to a slow or bad network connection. Possible fixes:\\n\"+\n     \"</p>\\n\"+\n     \"<ul>\\n\"+\n     \"<li>re-rerun `output_notebook()` to attempt to load from CDN again, or</li>\\n\"+\n     \"<li>use INLINE resources instead, as so:</li>\\n\"+\n     \"</ul>\\n\"+\n     \"<code>\\n\"+\n     \"from bokeh.resources import INLINE\\n\"+\n     \"output_notebook(resources=INLINE)\\n\"+\n     \"</code>\\n\"+\n     \"</div>\"}};\n\n  function display_loaded() {\n    var el = document.getElementById(\"9039d483-cbee-484c-bc70-b5253570e6d4\");\n    if (el != null) {\n      el.textContent = \"BokehJS is loading...\";\n    }\n    if (root.Bokeh !== undefined) {\n      if (el != null) {\n        el.textContent = \"BokehJS \" + root.Bokeh.version + \" successfully loaded.\";\n      }\n    } else if (Date.now() < root._bokeh_timeout) {\n      setTimeout(display_loaded, 100)\n    }\n  }\n\n\n  function run_callbacks() {\n    try {\n      root._bokeh_onload_callbacks.forEach(function(callback) { callback() });\n    }\n    finally {\n      delete root._bokeh_onload_callbacks\n    }\n    console.info(\"Bokeh: all callbacks have finished\");\n  }\n\n  function load_libs(js_urls, callback) {\n    root._bokeh_onload_callbacks.push(callback);\n    if (root._bokeh_is_loading > 0) {\n      console.log(\"Bokeh: BokehJS is being loaded, scheduling callback at\", now());\n      return null;\n    }\n    if (js_urls == null || js_urls.length === 0) {\n      run_callbacks();\n      return null;\n    }\n    console.log(\"Bokeh: BokehJS not loaded, scheduling load and callback at\", now());\n    root._bokeh_is_loading = js_urls.length;\n    for (var i = 0; i < js_urls.length; i++) {\n      var url = js_urls[i];\n      var s = document.createElement('script');\n      s.src = url;\n      s.async = false;\n      s.onreadystatechange = s.onload = function() {\n        root._bokeh_is_loading--;\n        if (root._bokeh_is_loading === 0) {\n          console.log(\"Bokeh: all BokehJS libraries loaded\");\n          run_callbacks()\n        }\n      };\n      s.onerror = function() {\n        console.warn(\"failed to load library \" + url);\n      };\n      console.log(\"Bokeh: injecting script tag for BokehJS library: \", url);\n      document.getElementsByTagName(\"head\")[0].appendChild(s);\n    }\n  };var element = document.getElementById(\"9039d483-cbee-484c-bc70-b5253570e6d4\");\n  if (element == null) {\n    console.log(\"Bokeh: ERROR: autoload.js configured with elementid '9039d483-cbee-484c-bc70-b5253570e6d4' but no matching script tag was found. \")\n    return false;\n  }\n\n  var js_urls = [\"https://cdn.pydata.org/bokeh/release/bokeh-0.12.13.min.js\", \"https://cdn.pydata.org/bokeh/release/bokeh-widgets-0.12.13.min.js\", \"https://cdn.pydata.org/bokeh/release/bokeh-tables-0.12.13.min.js\", \"https://cdn.pydata.org/bokeh/release/bokeh-gl-0.12.13.min.js\"];\n\n  var inline_js = [\n    function(Bokeh) {\n      Bokeh.set_log_level(\"info\");\n    },\n    \n    function(Bokeh) {\n      \n    },\n    function(Bokeh) {\n      console.log(\"Bokeh: injecting CSS: https://cdn.pydata.org/bokeh/release/bokeh-0.12.13.min.css\");\n      Bokeh.embed.inject_css(\"https://cdn.pydata.org/bokeh/release/bokeh-0.12.13.min.css\");\n      console.log(\"Bokeh: injecting CSS: https://cdn.pydata.org/bokeh/release/bokeh-widgets-0.12.13.min.css\");\n      Bokeh.embed.inject_css(\"https://cdn.pydata.org/bokeh/release/bokeh-widgets-0.12.13.min.css\");\n      console.log(\"Bokeh: injecting CSS: https://cdn.pydata.org/bokeh/release/bokeh-tables-0.12.13.min.css\");\n      Bokeh.embed.inject_css(\"https://cdn.pydata.org/bokeh/release/bokeh-tables-0.12.13.min.css\");\n    }\n  ];\n\n  function run_inline_js() {\n    \n    if ((root.Bokeh !== undefined) || (force === true)) {\n      for (var i = 0; i < inline_js.length; i++) {\n        inline_js[i].call(root, root.Bokeh);\n      }if (force === true) {\n        display_loaded();\n      }} else if (Date.now() < root._bokeh_timeout) {\n      setTimeout(run_inline_js, 100);\n    } else if (!root._bokeh_failed_load) {\n      console.log(\"Bokeh: BokehJS failed to load within specified timeout.\");\n      root._bokeh_failed_load = true;\n    } else if (force !== true) {\n      var cell = $(document.getElementById(\"9039d483-cbee-484c-bc70-b5253570e6d4\")).parents('.cell').data().cell;\n      cell.output_area.append_execute_result(NB_LOAD_WARNING)\n    }\n\n  }\n\n  if (root._bokeh_is_loading === 0) {\n    console.log(\"Bokeh: BokehJS loaded, going straight to plotting\");\n    run_inline_js();\n  } else {\n    load_libs(js_urls, function() {\n      console.log(\"Bokeh: BokehJS plotting callback run at\", now());\n      run_inline_js();\n    });\n  }\n}(window));"
     },
     "metadata": {},
     "output_type": "display_data"
    }
   ],
   "source": [
    "import os\n",
    "import glob\n",
    "import pickle\n",
    "import numpy as np\n",
    "import pandas as pd\n",
    "import matplotlib.pyplot as plt\n",
    "\n",
    "from pyscenic.rnkdb import FeatherRankingDatabase as RankingDatabase, SQLiteRankingDatabase, MemoryDecorator\n",
    "from pyscenic.genesig import GeneSignature, Regulome\n",
    "from pyscenic.regulome import module2regulome_bincount_impl, derive_regulomes, module2regulome_numba_impl\n",
    "from pyscenic.utils import load_motif_annotations\n",
    "\n",
    "from dask import delayed\n",
    "from dask.dot import dot_graph\n",
    "from dask.multiprocessing import get\n",
    "from dask.diagnostics import Profiler, ResourceProfiler, CacheProfiler\n",
    "from dask.diagnostics import ProgressBar\n",
    "from distributed import LocalCluster, Client\n",
    "from bokeh.io import output_notebook, push_notebook, show\n",
    "output_notebook()\n",
    "from dask.diagnostics import visualize"
   ]
  },
  {
   "cell_type": "code",
   "execution_count": 2,
   "metadata": {},
   "outputs": [],
   "source": [
    "%load_ext snakeviz\n",
    "%load_ext line_profiler"
   ]
  },
  {
   "cell_type": "code",
   "execution_count": 3,
   "metadata": {},
   "outputs": [],
   "source": [
    "DATA_FOLDER=\"/Users/bramvandesande/Projects/lcb/tmp\"\n",
    "RESOURCES_FOLDER=\"/Users/bramvandesande/Projects/lcb/resources\"\n",
    "DATABASE_FOLDER = \"/Users/bramvandesande/Projects/lcb/databases/\"\n",
    "\n",
    "SQLITE_GLOB = os.path.join(DATABASE_FOLDER, \"mm9-*.db\")\n",
    "FEATHER_GLOB = os.path.join(DATABASE_FOLDER, \"mm9-*.feather\")\n",
    "\n",
    "MOTIF_ANNOTATIONS_FNAME = os.path.join(RESOURCES_FOLDER, \"motifs-v9-nr.mgi-m0.001-o0.0.tbl\")\n",
    "\n",
    "NOMENCLATURE = \"MGI\""
   ]
  },
  {
   "cell_type": "markdown",
   "metadata": {},
   "source": [
    "Make databases in feather format are available."
   ]
  },
  {
   "cell_type": "code",
   "execution_count": 4,
   "metadata": {},
   "outputs": [],
   "source": [
    "if False:\n",
    "    def derive_db_name(fname):\n",
    "        return os.path.basename(fname).split(\".\")[0]\n",
    "\n",
    "    from pyscenic.rnkdb import convert2feather\n",
    "    \n",
    "    for fname in glob.glob(SQLITE_GLOB):\n",
    "        convert2feather(fname, DATABASE_FOLDER, derive_db_name(fname), NOMENCLATURE)"
   ]
  },
  {
   "cell_type": "markdown",
   "metadata": {},
   "source": [
    "### Load resources"
   ]
  },
  {
   "cell_type": "markdown",
   "metadata": {},
   "source": [
    "Co-expression modules were derived from GENIE3 output."
   ]
  },
  {
   "cell_type": "code",
   "execution_count": 5,
   "metadata": {},
   "outputs": [],
   "source": [
    "with open(os.path.join(DATA_FOLDER,'modules.pickle'), 'rb') as f:\n",
    "    modules = pickle.load(f)"
   ]
  },
  {
   "cell_type": "code",
   "execution_count": 6,
   "metadata": {},
   "outputs": [
    {
     "data": {
      "text/plain": [
       "5106"
      ]
     },
     "execution_count": 6,
     "metadata": {},
     "output_type": "execute_result"
    }
   ],
   "source": [
    "len(modules)"
   ]
  },
  {
   "cell_type": "markdown",
   "metadata": {},
   "source": [
    "### Load whole genome ranking databases\n",
    "\n",
    "All implementations of the database are loaded for performance testing."
   ]
  },
  {
   "cell_type": "code",
   "execution_count": 7,
   "metadata": {},
   "outputs": [],
   "source": [
    "def name(fname):\n",
    "    return os.path.basename(fname).split(\".\")[0]"
   ]
  },
  {
   "cell_type": "code",
   "execution_count": 8,
   "metadata": {},
   "outputs": [],
   "source": [
    "db_fnames = glob.glob(FEATHER_GLOB)\n",
    "dbs = [RankingDatabase(fname=fname, name=name(fname), nomenclature=\"MGI\") for fname in db_fnames]"
   ]
  },
  {
   "cell_type": "code",
   "execution_count": 9,
   "metadata": {},
   "outputs": [
    {
     "data": {
      "text/plain": [
       "6"
      ]
     },
     "execution_count": 9,
     "metadata": {},
     "output_type": "execute_result"
    }
   ],
   "source": [
    "len(dbs)"
   ]
  },
  {
   "cell_type": "code",
   "execution_count": 10,
   "metadata": {},
   "outputs": [],
   "source": [
    "sqldb_fnames = glob.glob(SQLITE_GLOB)\n",
    "sqldbs = [SQLiteRankingDatabase(fname=fname, name=name(fname), nomenclature=\"MGI\") for fname in sqldb_fnames]"
   ]
  },
  {
   "cell_type": "code",
   "execution_count": 11,
   "metadata": {},
   "outputs": [
    {
     "data": {
      "text/plain": [
       "6"
      ]
     },
     "execution_count": 11,
     "metadata": {},
     "output_type": "execute_result"
    }
   ],
   "source": [
    "len(sqldbs)"
   ]
  },
  {
   "cell_type": "code",
   "execution_count": 12,
   "metadata": {},
   "outputs": [],
   "source": [
    "memdb = MemoryDecorator(dbs[0])"
   ]
  },
  {
   "cell_type": "markdown",
   "metadata": {},
   "source": [
    "### Load motif annotations"
   ]
  },
  {
   "cell_type": "code",
   "execution_count": 13,
   "metadata": {},
   "outputs": [],
   "source": [
    "motif_annotations = load_motif_annotations(MOTIF_ANNOTATIONS_FNAME)"
   ]
  },
  {
   "cell_type": "code",
   "execution_count": 14,
   "metadata": {},
   "outputs": [
    {
     "data": {
      "text/html": [
       "<div>\n",
       "<style scoped>\n",
       "    .dataframe tbody tr th:only-of-type {\n",
       "        vertical-align: middle;\n",
       "    }\n",
       "\n",
       "    .dataframe tbody tr th {\n",
       "        vertical-align: top;\n",
       "    }\n",
       "\n",
       "    .dataframe thead th {\n",
       "        text-align: right;\n",
       "    }\n",
       "</style>\n",
       "<table border=\"1\" class=\"dataframe\">\n",
       "  <thead>\n",
       "    <tr style=\"text-align: right;\">\n",
       "      <th></th>\n",
       "      <th></th>\n",
       "      <th>motif_similarity_qvalue</th>\n",
       "      <th>orthologous_identity</th>\n",
       "      <th>description</th>\n",
       "    </tr>\n",
       "    <tr>\n",
       "      <th>gene_name</th>\n",
       "      <th>#motif_id</th>\n",
       "      <th></th>\n",
       "      <th></th>\n",
       "      <th></th>\n",
       "    </tr>\n",
       "  </thead>\n",
       "  <tbody>\n",
       "    <tr>\n",
       "      <th>Hoxa9</th>\n",
       "      <th>bergman__Abd-B</th>\n",
       "      <td>0.0006</td>\n",
       "      <td>1.000000</td>\n",
       "      <td>gene is annotated for similar motif cisbp__M10...</td>\n",
       "    </tr>\n",
       "    <tr>\n",
       "      <th>Zfp128</th>\n",
       "      <th>bergman__Aef1</th>\n",
       "      <td>0.0000</td>\n",
       "      <td>0.220264</td>\n",
       "      <td>motif is annotated for orthologous gene FBgn00...</td>\n",
       "    </tr>\n",
       "    <tr>\n",
       "      <th>Zfp853</th>\n",
       "      <th>bergman__Cf2</th>\n",
       "      <td>0.0000</td>\n",
       "      <td>0.166667</td>\n",
       "      <td>motif is annotated for orthologous gene FBgn00...</td>\n",
       "    </tr>\n",
       "    <tr>\n",
       "      <th>Nr1h2</th>\n",
       "      <th>bergman__EcR_usp</th>\n",
       "      <td>0.0000</td>\n",
       "      <td>0.378924</td>\n",
       "      <td>gene is orthologous to FBgn0000546 in D. melan...</td>\n",
       "    </tr>\n",
       "    <tr>\n",
       "      <th>Nr1h3</th>\n",
       "      <th>bergman__EcR_usp</th>\n",
       "      <td>0.0000</td>\n",
       "      <td>0.408989</td>\n",
       "      <td>gene is orthologous to FBgn0000546 in D. melan...</td>\n",
       "    </tr>\n",
       "  </tbody>\n",
       "</table>\n",
       "</div>"
      ],
      "text/plain": [
       "                            motif_similarity_qvalue  orthologous_identity  \\\n",
       "gene_name #motif_id                                                         \n",
       "Hoxa9     bergman__Abd-B                     0.0006              1.000000   \n",
       "Zfp128    bergman__Aef1                      0.0000              0.220264   \n",
       "Zfp853    bergman__Cf2                       0.0000              0.166667   \n",
       "Nr1h2     bergman__EcR_usp                   0.0000              0.378924   \n",
       "Nr1h3     bergman__EcR_usp                   0.0000              0.408989   \n",
       "\n",
       "                                                                  description  \n",
       "gene_name #motif_id                                                            \n",
       "Hoxa9     bergman__Abd-B    gene is annotated for similar motif cisbp__M10...  \n",
       "Zfp128    bergman__Aef1     motif is annotated for orthologous gene FBgn00...  \n",
       "Zfp853    bergman__Cf2      motif is annotated for orthologous gene FBgn00...  \n",
       "Nr1h2     bergman__EcR_usp  gene is orthologous to FBgn0000546 in D. melan...  \n",
       "Nr1h3     bergman__EcR_usp  gene is orthologous to FBgn0000546 in D. melan...  "
      ]
     },
     "execution_count": 14,
     "metadata": {},
     "output_type": "execute_result"
    }
   ],
   "source": [
    "motif_annotations.head()"
   ]
  },
  {
   "cell_type": "markdown",
   "metadata": {},
   "source": [
    "### Single-thread pipeline\n",
    "\n",
    "Before scaling it via dask to work on the full combinatorial space of databases x modules."
   ]
  },
  {
   "cell_type": "code",
   "execution_count": 15,
   "metadata": {},
   "outputs": [],
   "source": [
    "module2regulome = module2regulome_bincount_impl"
   ]
  },
  {
   "cell_type": "markdown",
   "metadata": {},
   "source": [
    "#### Feather-based storage implementation"
   ]
  },
  {
   "cell_type": "code",
   "execution_count": 20,
   "metadata": {},
   "outputs": [],
   "source": [
    "%lprun -f module2regulome list((idx, module2regulome(dbs[0], module, motif_annotations)) for idx, module in enumerate(modules[0:25]))"
   ]
  },
  {
   "cell_type": "code",
   "execution_count": 17,
   "metadata": {},
   "outputs": [
    {
     "name": "stdout",
     "output_type": "stream",
     "text": [
      " \n",
      "*** Profile stats marshalled to file '/var/folders/cj/xhw0rd3s7hg5k4p78t4s3hph0000gn/T/tmp7lh2ty5d'. \n"
     ]
    }
   ],
   "source": [
    "%%snakeviz\n",
    "regulomes = list((idx, module2regulome(dbs[0], module, motif_annotations)) for idx, module in enumerate(modules[0:25]))"
   ]
  },
  {
   "cell_type": "markdown",
   "metadata": {},
   "source": [
    "1. General performance is 78s for executing `module2regulome` 25 times.\n",
    "1. 79% of time is spent at `recovery` and 18% at `db.load`."
   ]
  },
  {
   "cell_type": "markdown",
   "metadata": {},
   "source": [
    "#### SQLite-based storage implementation"
   ]
  },
  {
   "cell_type": "code",
   "execution_count": 23,
   "metadata": {},
   "outputs": [],
   "source": [
    "%lprun -f module2regulome list((idx, module2regulome(sqldbs[0], module, motif_annotations)) for idx, module in enumerate(modules[0:25]))"
   ]
  },
  {
   "cell_type": "code",
   "execution_count": 24,
   "metadata": {},
   "outputs": [
    {
     "name": "stdout",
     "output_type": "stream",
     "text": [
      " \n",
      "*** Profile stats marshalled to file '/var/folders/cj/xhw0rd3s7hg5k4p78t4s3hph0000gn/T/tmpl6qd4z5u'. \n"
     ]
    }
   ],
   "source": [
    "%%snakeviz\n",
    "regulomes = list((idx, module2regulome(sqldbs[0], module, motif_annotations)) for idx, module in enumerate(modules[0:25]))"
   ]
  },
  {
   "cell_type": "markdown",
   "metadata": {},
   "source": [
    "1. General performance is 83s for executing `module2regulome` 25 times.\n",
    "1. 42% of time is spent at `recovery` and 56% at `db.load`."
   ]
  },
  {
   "cell_type": "markdown",
   "metadata": {},
   "source": [
    "#### In-memory based implementation"
   ]
  },
  {
   "cell_type": "code",
   "execution_count": 26,
   "metadata": {},
   "outputs": [],
   "source": [
    "%lprun -f module2regulome list((idx, module2regulome(memdbs[0], module, motif_annotations)) for idx, module in enumerate(modules[0:25]))"
   ]
  },
  {
   "cell_type": "code",
   "execution_count": 23,
   "metadata": {},
   "outputs": [
    {
     "name": "stdout",
     "output_type": "stream",
     "text": [
      " \n",
      "*** Profile stats marshalled to file '/var/folders/cj/xhw0rd3s7hg5k4p78t4s3hph0000gn/T/tmpfwp_6eat'. \n"
     ]
    }
   ],
   "source": [
    "%%snakeviz\n",
    "regulomes = list((idx, module2regulome(memdbs[0], module, motif_annotations)) for idx, module in enumerate(modules[0:25]))"
   ]
  },
  {
   "cell_type": "markdown",
   "metadata": {},
   "source": [
    "1. General performance is 78s for executing `module2regulome` 25 times.\n",
    "1. 89% of time is spent at `recovery` and 8.5% at `db.load`."
   ]
  },
  {
   "cell_type": "markdown",
   "metadata": {},
   "source": [
    "#### In-memory based implementation, assess effect of reducing rank_threshold parameter"
   ]
  },
  {
   "cell_type": "code",
   "execution_count": 22,
   "metadata": {},
   "outputs": [],
   "source": [
    "%lprun -f module2regulome list((idx, module2regulome(memdbs[0], module, motif_annotations, auc_threshold=0.01, rank_threshold=750)) for idx, module in enumerate(modules[0:25]))"
   ]
  },
  {
   "cell_type": "markdown",
   "metadata": {},
   "source": [
    "1. General performance is 69s for executing `module2regulome` 25 times.\n",
    "1. 93% of time is spent at `recovery` and 4.4% at `db.load`."
   ]
  },
  {
   "cell_type": "markdown",
   "metadata": {},
   "source": [
    "#### Feather based implementation using R similar approach"
   ]
  },
  {
   "cell_type": "code",
   "execution_count": 20,
   "metadata": {},
   "outputs": [
    {
     "name": "stdout",
     "output_type": "stream",
     "text": [
      " \n",
      "*** Profile stats marshalled to file '/var/folders/cj/xhw0rd3s7hg5k4p78t4s3hph0000gn/T/tmpvme3jr1l'. \n"
     ]
    }
   ],
   "source": [
    "%%snakeviz\n",
    "regulomes = list((idx, module2regulome_numba_impl(dbs[0], module, motif_annotations)) for idx, module in enumerate(modules[0:25]))"
   ]
  },
  {
   "cell_type": "markdown",
   "metadata": {},
   "source": [
    "1. General performance is 49s for executing `module2regulome` 25 times.\n",
    "1. 47% of time is spent at `recovery` and 24% at `db.load`."
   ]
  },
  {
   "cell_type": "markdown",
   "metadata": {},
   "source": [
    "#### Approach combining all potential improvements (in-memory database, auc-only calculation to assess enriched features and numba JIT implementation)."
   ]
  },
  {
   "cell_type": "code",
   "execution_count": 19,
   "metadata": {},
   "outputs": [
    {
     "name": "stdout",
     "output_type": "stream",
     "text": [
      " \n",
      "*** Profile stats marshalled to file '/var/folders/cj/xhw0rd3s7hg5k4p78t4s3hph0000gn/T/tmphxcv1yj4'. \n"
     ]
    }
   ],
   "source": [
    "%%snakeviz\n",
    "regulomes = list((idx, module2regulome_numba_impl(memdb, module, motif_annotations)) for idx, module in enumerate(modules[0:25]))"
   ]
  },
  {
   "cell_type": "markdown",
   "metadata": {},
   "source": [
    "1. General performance is 42s for executing `module2regulome` 25 times.\n",
    "1. 81% of time is spent at `recovery`"
   ]
  },
  {
   "cell_type": "markdown",
   "metadata": {},
   "source": [
    "### Parallelized pipeline"
   ]
  },
  {
   "cell_type": "markdown",
   "metadata": {},
   "source": [
    "#### Python multiprocessing implementation (db-dedicated workers using in memory copy + numba implementation of auc calculation)."
   ]
  },
  {
   "cell_type": "markdown",
   "metadata": {},
   "source": [
    "Loading the database is also part of the overall timing. This will however dwarf when the number of modules increases."
   ]
  },
  {
   "cell_type": "code",
   "execution_count": 15,
   "metadata": {},
   "outputs": [
    {
     "name": "stdout",
     "output_type": "stream",
     "text": [
      "Using 6 workers.\n",
      "Worker for mm9-tss-centered-10kb-10species: database loaded in memory.\n",
      "Worker for mm9-tss-centered-10kb-10species: motif annotations loaded in memory.\n",
      "Worker for mm9-tss-centered-5kb-10species: database loaded in memory.\n",
      "Worker for mm9-500bp-upstream-7species: database loaded in memory.\n",
      "Worker for mm9-tss-centered-5kb-7species: database loaded in memory.\n",
      "Worker for mm9-tss-centered-10kb-7species: database loaded in memory.\n",
      "Worker for mm9-500bp-upstream-10species: database loaded in memory.\n",
      "Worker for mm9-tss-centered-5kb-10species: motif annotations loaded in memory.\n",
      "Worker for mm9-500bp-upstream-10species: motif annotations loaded in memory.\n",
      "Worker for mm9-tss-centered-5kb-7species: motif annotations loaded in memory.\n",
      "Worker for mm9-500bp-upstream-7species: motif annotations loaded in memory.\n",
      "Worker for mm9-tss-centered-10kb-7species: motif annotations loaded in memory.\n",
      "Worker for mm9-500bp-upstream-10species: 6 regulomes created.\n",
      "Worker for mm9-500bp-upstream-7species: 5 regulomes created.\n",
      "Worker for mm9-tss-centered-10kb-10species: 14 regulomes created.\n",
      "Worker for mm9-tss-centered-10kb-10species: Done.\n",
      "Worker for mm9-500bp-upstream-7species: Done.\n",
      "Worker for mm9-500bp-upstream-10species: Done.\n",
      "Worker for mm9-tss-centered-5kb-7species: 12 regulomes created.\n",
      "Worker for mm9-tss-centered-10kb-7species: 13 regulomes created.\n",
      "Worker for mm9-tss-centered-5kb-10species: 14 regulomes created.\n",
      "Worker for mm9-tss-centered-5kb-10species: Done.\n",
      "Worker for mm9-tss-centered-10kb-7species: Done.\n",
      "Worker for mm9-tss-centered-5kb-7species: Done.\n",
      "64\n"
     ]
    },
    {
     "data": {
      "text/plain": [
       "<TimeitResult : 4min 1s ± 0 ns per loop (mean ± std. dev. of 1 run, 1 loop each)>"
      ]
     },
     "execution_count": 15,
     "metadata": {},
     "output_type": "execute_result"
    }
   ],
   "source": [
    "%%timeit -n1 -r1 -o -q\n",
    "regulomes = derive_regulomes(dbs, modules[0:75], MOTIF_ANNOTATIONS_FNAME)\n",
    "print(len(regulomes))"
   ]
  },
  {
   "cell_type": "markdown",
   "metadata": {},
   "source": [
    "#### Dask framework"
   ]
  },
  {
   "cell_type": "code",
   "execution_count": 15,
   "metadata": {},
   "outputs": [
    {
     "name": "stdout",
     "output_type": "stream",
     "text": [
      "[########################################] | 100% Completed |  1min 37.0s\n"
     ]
    }
   ],
   "source": [
    "with ProgressBar():\n",
    "    with Profiler() as prof, ResourceProfiler(dt=0.25) as rprof, CacheProfiler() as cprof:\n",
    "        regulomes = derive_regulomes(dbs[0:2], modules[0:50], MOTIF_ANNOTATIONS_FNAME,\n",
    "                                     client_or_address=\"local\")"
   ]
  },
  {
   "cell_type": "code",
   "execution_count": 16,
   "metadata": {},
   "outputs": [
    {
     "data": {
      "text/plain": [
       "15"
      ]
     },
     "execution_count": 16,
     "metadata": {},
     "output_type": "execute_result"
    }
   ],
   "source": [
    "len(regulomes)"
   ]
  },
  {
   "cell_type": "code",
   "execution_count": 17,
   "metadata": {},
   "outputs": [
    {
     "data": {
      "text/html": [
       "\n",
       "<div class=\"bk-root\">\n",
       "    <div class=\"bk-plotdiv\" id=\"654d46b8-d81c-45e6-8b20-109cc8821119\"></div>\n",
       "</div>"
      ]
     },
     "metadata": {},
     "output_type": "display_data"
    },
    {
     "data": {
      "application/javascript": [
       "(function(root) {\n",
       "  function embed_document(root) {\n",
       "    \n",
       "  var docs_json = {\"475bf76c-b52c-4fba-beb9-f8e2fec819de\":{\"roots\":{\"references\":[{\"attributes\":{},\"id\":\"882cf13b-660e-4ac5-a082-531317e8f5bf\",\"type\":\"LinearScale\"},{\"attributes\":{\"data_source\":{\"id\":\"f80c3e13-12b4-43e0-8060-b1fe09b5c22e\",\"type\":\"ColumnDataSource\"},\"glyph\":{\"id\":\"33aa2cb0-efa0-4369-9fad-df2241c31e1a\",\"type\":\"Line\"},\"hover_glyph\":null,\"muted_glyph\":null,\"nonselection_glyph\":{\"id\":\"72d0fb8e-27be-4bed-a332-890bed655412\",\"type\":\"Line\"},\"selection_glyph\":null,\"view\":{\"id\":\"ebb73a52-16a6-4946-901b-e72fd202958d\",\"type\":\"CDSView\"}},\"id\":\"54223bdc-29d5-4cfa-99c2-b07c4ab7e6c2\",\"type\":\"GlyphRenderer\"},{\"attributes\":{\"children\":[{\"id\":\"8e1e0f59-1820-4fc8-b587-8835f8a72a28\",\"subtype\":\"Figure\",\"type\":\"Plot\"}]},\"id\":\"2976bc72-007f-417b-8dab-4fd20db9e922\",\"type\":\"Row\"},{\"attributes\":{},\"id\":\"5d9077d9-752b-450e-aad2-9f58871e86e1\",\"type\":\"BasicTicker\"},{\"attributes\":{\"callback\":null,\"point_policy\":\"follow_mouse\",\"tooltips\":\"\\n    <div>\\n        <span style=\\\"font-size: 14px; font-weight: bold;\\\">Key:</span>&nbsp;\\n        <span style=\\\"font-size: 10px; font-family: Monaco, monospace;\\\">@key</span>\\n    </div>\\n    <div>\\n        <span style=\\\"font-size: 14px; font-weight: bold;\\\">Task:</span>&nbsp;\\n        <span style=\\\"font-size: 10px; font-family: Monaco, monospace;\\\">@function</span>\\n    </div>\\n    \"},\"id\":\"23666652-54c0-4659-abd6-7494f54dde1c\",\"type\":\"HoverTool\"},{\"attributes\":{\"source\":{\"id\":\"f80c3e13-12b4-43e0-8060-b1fe09b5c22e\",\"type\":\"ColumnDataSource\"}},\"id\":\"ebb73a52-16a6-4946-901b-e72fd202958d\",\"type\":\"CDSView\"},{\"attributes\":{\"axis_label\":\"Time (s)\",\"formatter\":{\"id\":\"9ff4d735-26dd-4714-9652-4b043b7c6b3e\",\"type\":\"BasicTickFormatter\"},\"plot\":{\"id\":\"161998ee-d776-4c5f-91a8-5021c7a3f1e2\",\"subtype\":\"Figure\",\"type\":\"Plot\"},\"ticker\":{\"id\":\"5d9077d9-752b-450e-aad2-9f58871e86e1\",\"type\":\"BasicTicker\"}},\"id\":\"49595218-fd70-4216-86d7-7108d0b54690\",\"type\":\"LinearAxis\"},{\"attributes\":{},\"id\":\"d7eec313-518f-4638-9d2d-332774b5dbd8\",\"type\":\"BasicTicker\"},{\"attributes\":{},\"id\":\"1b5f047d-f902-4056-a84e-f1cd7e62a14c\",\"type\":\"SaveTool\"},{\"attributes\":{},\"id\":\"a5cf9439-282e-4279-84c6-9aa96b250f0b\",\"type\":\"BasicTickFormatter\"},{\"attributes\":{},\"id\":\"d008d660-8f9f-471f-9614-07b620d038ba\",\"type\":\"ResetTool\"},{\"attributes\":{\"dimensions\":\"width\"},\"id\":\"82b24acd-c6b2-4787-be67-6110f1675fdd\",\"type\":\"WheelZoomTool\"},{\"attributes\":{\"tools\":[{\"id\":\"23666652-54c0-4659-abd6-7494f54dde1c\",\"type\":\"HoverTool\"},{\"id\":\"1b5f047d-f902-4056-a84e-f1cd7e62a14c\",\"type\":\"SaveTool\"},{\"id\":\"d008d660-8f9f-471f-9614-07b620d038ba\",\"type\":\"ResetTool\"},{\"id\":\"82b24acd-c6b2-4787-be67-6110f1675fdd\",\"type\":\"WheelZoomTool\"},{\"id\":\"9bbde73b-0213-4be9-bea7-bb02c10c3a76\",\"type\":\"PanTool\"},{\"id\":\"8401a9ca-173a-4882-87d6-a6c98b7fc08a\",\"type\":\"SaveTool\"},{\"id\":\"5fc91f5e-4588-4a6a-b119-b2365f7f7c72\",\"type\":\"ResetTool\"},{\"id\":\"7c3e2f06-d982-4cf0-a0fc-41a4f1956aa9\",\"type\":\"WheelZoomTool\"},{\"id\":\"9dc9ca98-dd13-447b-9e70-63328d203459\",\"type\":\"PanTool\"},{\"id\":\"07fe6af9-3724-47a9-8782-e854afc6b82d\",\"type\":\"HoverTool\"},{\"id\":\"90d7af5f-c13a-4460-b798-e09dc22003d3\",\"type\":\"SaveTool\"},{\"id\":\"33cef681-adb3-42b2-a093-5bc4b6428d20\",\"type\":\"ResetTool\"},{\"id\":\"712af1c3-f356-430c-966d-d92e1d3fe4bf\",\"type\":\"WheelZoomTool\"},{\"id\":\"a1d04155-8704-416c-8081-97003f90706f\",\"type\":\"PanTool\"}]},\"id\":\"161b1168-09ef-44a6-bcc1-5133678b3705\",\"type\":\"ProxyToolbar\"},{\"attributes\":{\"dimensions\":\"width\"},\"id\":\"9bbde73b-0213-4be9-bea7-bb02c10c3a76\",\"type\":\"PanTool\"},{\"attributes\":{\"toolbar\":{\"id\":\"161b1168-09ef-44a6-bcc1-5133678b3705\",\"type\":\"ProxyToolbar\"},\"toolbar_location\":\"above\"},\"id\":\"c5d83594-e2b8-4b0f-bafd-f06973d79256\",\"type\":\"ToolbarBox\"},{\"attributes\":{\"plot\":{\"id\":\"161998ee-d776-4c5f-91a8-5021c7a3f1e2\",\"subtype\":\"Figure\",\"type\":\"Plot\"},\"ticker\":{\"id\":\"5d9077d9-752b-450e-aad2-9f58871e86e1\",\"type\":\"BasicTicker\"}},\"id\":\"d61be88e-7a1f-4f9f-ac80-20f021d4944d\",\"type\":\"Grid\"},{\"attributes\":{\"children\":[{\"id\":\"161998ee-d776-4c5f-91a8-5021c7a3f1e2\",\"subtype\":\"Figure\",\"type\":\"Plot\"}]},\"id\":\"b5414606-e70e-4f23-89b3-1e8a94bc1586\",\"type\":\"Row\"},{\"attributes\":{\"axis_label\":\"Cache Size (count)\",\"formatter\":{\"id\":\"b3a7e2ce-99e7-4326-83a5-da00007a1383\",\"type\":\"BasicTickFormatter\"},\"plot\":{\"id\":\"161998ee-d776-4c5f-91a8-5021c7a3f1e2\",\"subtype\":\"Figure\",\"type\":\"Plot\"},\"ticker\":{\"id\":\"3844e5b5-4c7e-438f-b443-eb7d0c21f2eb\",\"type\":\"BasicTicker\"}},\"id\":\"04202878-73c3-4116-81c1-de220d5cb095\",\"type\":\"LinearAxis\"},{\"attributes\":{},\"id\":\"3844e5b5-4c7e-438f-b443-eb7d0c21f2eb\",\"type\":\"BasicTicker\"},{\"attributes\":{\"children\":[{\"id\":\"c5d83594-e2b8-4b0f-bafd-f06973d79256\",\"type\":\"ToolbarBox\"},{\"id\":\"6b74a7b9-ac45-4051-b684-da7ab994c4d6\",\"type\":\"Column\"}]},\"id\":\"6bbf5409-7fa8-4f9d-8f05-ce77da445e44\",\"type\":\"Column\"},{\"attributes\":{\"dimension\":1,\"plot\":{\"id\":\"161998ee-d776-4c5f-91a8-5021c7a3f1e2\",\"subtype\":\"Figure\",\"type\":\"Plot\"},\"ticker\":{\"id\":\"3844e5b5-4c7e-438f-b443-eb7d0c21f2eb\",\"type\":\"BasicTicker\"}},\"id\":\"f417cbe2-29b5-4b63-b8fc-2c1f458f0dde\",\"type\":\"Grid\"},{\"attributes\":{},\"id\":\"9ff4d735-26dd-4714-9652-4b043b7c6b3e\",\"type\":\"BasicTickFormatter\"},{\"attributes\":{\"callback\":null,\"column_names\":[\"x\",\"y\",\"label\"],\"data\":{\"label\":[\"list([_, _, _, ...])\",\"list([_, _, _, ...])\",\"list([_, _, _, ...])\",\"list([_, _, _, ...])\",\"list([_, _, _, ...])\",\"list([_, _, _, ...])\",\"list([_, _, _, ...])\",\"list([_, _, _, ...])\",\"list([_, _, _, ...])\",\"list([_, _, _, ...])\",\"list([_, _, _, ...])\",\"list([_, _, _, ...])\",\"list([_, _, _, ...])\",\"list([_, _, _, ...])\",\"list([_, _, _, ...])\",\"list([_, _, _, ...])\",\"list([_, _, _, ...])\",\"list([_, _, _, ...])\",\"list([_, _, _, ...])\",\"list([_, _, _, ...])\",\"list([_, _, _, ...])\",\"list([_, _, _, ...])\",\"list([_, _, _, ...])\",\"list([_, _, _, ...])\",\"list([_, _, _, ...])\",\"list([_, _, _, ...])\",\"list([_, _, _, ...])\",\"list([_, _, _, ...])\",\"list([_, _, _, ...])\",\"list([_, _, _, ...])\",\"list([_, _, _, ...])\",\"list([_, _, _, ...])\",\"list([_, _, _, ...])\",\"list([_, _, _, ...])\",\"list([_, _, _, ...])\",\"list([_, _, _, ...])\",\"list([_, _, _, ...])\",\"list([_, _, _, ...])\",\"list([_, _, _, ...])\",\"list([_, _, _, ...])\",\"list([_, _, _, ...])\",\"list([_, _, _, ...])\",\"list([_, _, _, ...])\",\"list([_, _, _, ...])\",\"list([_, _, _, ...])\",\"list([_, _, _, ...])\",\"list([_, _, _, ...])\",\"list([_, _, _, ...])\",\"list([_, _, _, ...])\",\"list([_, _, _, ...])\",\"list([_, _, _, ...])\",\"list([_, _, _, ...])\",\"list([_, _, _, ...])\",\"list([_, _, _, ...])\",\"list([_, _, _, ...])\",\"list([_, _, _, ...])\",\"list([_, _, _, ...])\",\"list([_, _, _, ...])\",\"list([_, _, _, ...])\",\"list([_, _, _, ...])\",\"list([_, _, _, ...])\",\"list([_, _, _, ...])\",\"list([_, _, _, ...])\",\"list([_, _, _, ...])\",\"list([_, _, _, ...])\",\"list([_, _, _, ...])\",\"list([_, _, _, ...])\",\"list([_, _, _, ...])\",\"list([_, _, _, ...])\",\"list([_, _, _, ...])\",\"list([_, _, _, ...])\",\"list([_, _, _, ...])\",\"list([_, _, _, ...])\",\"list([_, _, _, ...])\",\"list([_, _, _, ...])\",\"list([_, _, _, ...])\",\"list([_, _, _, ...])\",\"list([_, _, _, ...])\",\"list([_, _, _, ...])\",\"list([_, _, _, ...])\",\"list([_, _, _, ...])\",\"list([_, _, _, ...])\",\"list([_, _, _, ...])\",\"list([_, _, _, ...])\",\"list([_, _, _, ...])\",\"list([_, _, _, ...])\",\"list([_, _, _, ...])\",\"list([_, _, _, ...])\",\"list([_, _, _, ...])\",\"list([_, _, _, ...])\",\"list([_, _, _, ...])\",\"list([_, _, _, ...])\",\"list([_, _, _, ...])\",\"list([_, _, _, ...])\",\"list([_, _, _, ...])\",\"list([_, _, _, ...])\",\"list([_, _, _, ...])\",\"list([_, _, _, ...])\",\"list([_, _, _, ...])\",\"list([_, _, _, ...])\",\"list([_, _, _, ...])\",\"list([_, _, _, ...])\",\"list([_, _, _, ...])\"],\"x\":[0,6.695645290999892,7.779469045999576,9.683993663000365,11.23687738999979,12.768887154999902,14.328526741999667,15.554580329999226,16.434253354000248,17.219889451998824,18.32917743500002,19.12833961999968,20.01032005900015,20.940023178000047,21.9242737379991,22.83377847599877,23.503773779999392,24.25826613999925,25.05466215999877,25.81529504199898,26.57812943099998,27.356930272999307,27.96480990499913,28.708771673998854,29.614771329999712,30.368380720999994,31.124947451999105,32.062634996998895,32.793545982998694,33.87019745799989,35.06973458799985,36.19399647899991,37.512188044998766,38.781210622999424,39.773134483999456,40.78023149599903,41.41873959999975,42.17567637399952,42.9687327599986,44.179177160998734,45.15597107299982,45.995130461999,46.96519543899922,48.11941890199887,48.79980821999925,49.639523268999255,50.40412906900019,51.11936196199895,52.04832262399941,52.84337958699871,53.48372125300011,54.33418469999924,55.20309214899862,55.85825848999957,56.852575720999084,57.69562519200008,58.45738098899892,59.60401168899989,60.691860257999,61.45903676299895,62.347014986999056,62.99551178799993,63.84195899400038,64.62612643899956,65.56962290800038,66.8964597719987,68.15134356099952,69.33711273399967,70.12033658099972,71.07782290199975,71.86625658699995,72.61286714999915,73.37240972600011,74.15225932799876,74.92140200999893,75.6896728949996,76.54358218099878,77.58358581999892,78.67267733100016,79.95606964099898,81.0335143559987,82.00006897700041,82.8304384359999,83.75781229399945,84.6546873619991,85.3054662630002,86.01964349399896,87.09780475499974,87.92633864500021,88.56126890799897,89.3950418229997,90.17954159699912,91.06307175499933,92.00825186399925,92.0082724519998,92.00828179499877,93.20819950999976,93.42269689400018,93.54473329599932,94.58138521900037,96.82313796999915,96.99693539100008,96.99704104400007],\"y\":[0,0,0,0,0,0,0,0,0,0,0,0,0,0,0,0,0,0,0,0,0,0,0,0,0,0,0,0,0,0,0,0,0,0,0,0,0,0,0,0,0,0,0,0,0,0,0,0,0,0,0,0,0,0,0,0,0,0,0,0,0,0,0,0,0,0,0,0,0,0,0,0,0,0,0,0,0,0,0,0,0,0,0,0,0,0,0,0,0,0,0,0,0,0,0,0,0,0,0,0,0,1,0]}},\"id\":\"f80c3e13-12b4-43e0-8060-b1fe09b5c22e\",\"type\":\"ColumnDataSource\"},{\"attributes\":{\"line_color\":\"#208F8C\",\"line_width\":3,\"x\":{\"field\":\"x\"},\"y\":{\"field\":\"y\"}},\"id\":\"33aa2cb0-efa0-4369-9fad-df2241c31e1a\",\"type\":\"Line\"},{\"attributes\":{\"line_alpha\":0.1,\"line_color\":\"#1f77b4\",\"line_width\":3,\"x\":{\"field\":\"x\"},\"y\":{\"field\":\"y\"}},\"id\":\"ebf049d4-3b1f-458b-9d40-f28261100467\",\"type\":\"Line\"},{\"attributes\":{},\"id\":\"33cef681-adb3-42b2-a093-5bc4b6428d20\",\"type\":\"ResetTool\"},{\"attributes\":{},\"id\":\"90d7af5f-c13a-4460-b798-e09dc22003d3\",\"type\":\"SaveTool\"},{\"attributes\":{\"dimensions\":\"width\"},\"id\":\"9dc9ca98-dd13-447b-9e70-63328d203459\",\"type\":\"PanTool\"},{\"attributes\":{\"dimensions\":\"width\"},\"id\":\"7c3e2f06-d982-4cf0-a0fc-41a4f1956aa9\",\"type\":\"WheelZoomTool\"},{\"attributes\":{\"children\":[{\"id\":\"df9cce96-1271-48cd-ac19-c9fcb354e088\",\"type\":\"Row\"},{\"id\":\"2976bc72-007f-417b-8dab-4fd20db9e922\",\"type\":\"Row\"},{\"id\":\"b5414606-e70e-4f23-89b3-1e8a94bc1586\",\"type\":\"Row\"}]},\"id\":\"6b74a7b9-ac45-4051-b684-da7ab994c4d6\",\"type\":\"Column\"},{\"attributes\":{},\"id\":\"5fc91f5e-4588-4a6a-b119-b2365f7f7c72\",\"type\":\"ResetTool\"},{\"attributes\":{\"callback\":null,\"tooltips\":\"\\n    <div>\\n        <span style=\\\"font-size: 14px; font-weight: bold;\\\">Task:</span>&nbsp;\\n        <span style=\\\"font-size: 10px; font-family: Monaco, monospace;\\\">@label</span>\\n    </div>\\n    \"},\"id\":\"07fe6af9-3724-47a9-8782-e854afc6b82d\",\"type\":\"HoverTool\"},{\"attributes\":{},\"id\":\"8401a9ca-173a-4882-87d6-a6c98b7fc08a\",\"type\":\"SaveTool\"},{\"attributes\":{\"data_source\":{\"id\":\"bf5a90ef-1bcd-478f-b5d4-17896cf4ca93\",\"type\":\"ColumnDataSource\"},\"glyph\":{\"id\":\"9f4667e2-d6a6-4bba-97f9-a5faafa9e476\",\"type\":\"Line\"},\"hover_glyph\":null,\"muted_glyph\":null,\"nonselection_glyph\":{\"id\":\"ebf049d4-3b1f-458b-9d40-f28261100467\",\"type\":\"Line\"},\"selection_glyph\":null,\"view\":{\"id\":\"9fb26edd-73f0-4c6e-875f-c42f7674f970\",\"type\":\"CDSView\"}},\"id\":\"3bdd7548-8076-47a5-8e4a-3585133dd38c\",\"type\":\"GlyphRenderer\"},{\"attributes\":{\"line_color\":\"#440154\",\"line_width\":3,\"x\":{\"field\":\"x\"},\"y\":{\"field\":\"y\"}},\"id\":\"9f4667e2-d6a6-4bba-97f9-a5faafa9e476\",\"type\":\"Line\"},{\"attributes\":{\"dimensions\":\"width\"},\"id\":\"a1d04155-8704-416c-8081-97003f90706f\",\"type\":\"PanTool\"},{\"attributes\":{\"dimension\":1,\"plot\":{\"id\":\"8e1e0f59-1820-4fc8-b587-8835f8a72a28\",\"subtype\":\"Figure\",\"type\":\"Plot\"},\"ticker\":{\"id\":\"c89159f5-5837-4b6a-a502-28840705b7f8\",\"type\":\"BasicTicker\"}},\"id\":\"94827f18-fd9c-476c-96c2-63740ba1215d\",\"type\":\"Grid\"},{\"attributes\":{},\"id\":\"c89159f5-5837-4b6a-a502-28840705b7f8\",\"type\":\"BasicTicker\"},{\"attributes\":{\"axis_label\":\"% CPU\",\"formatter\":{\"id\":\"e3000a8b-812f-467e-99ee-cc6e912fa2d6\",\"type\":\"BasicTickFormatter\"},\"plot\":{\"id\":\"8e1e0f59-1820-4fc8-b587-8835f8a72a28\",\"subtype\":\"Figure\",\"type\":\"Plot\"},\"ticker\":{\"id\":\"c89159f5-5837-4b6a-a502-28840705b7f8\",\"type\":\"BasicTicker\"}},\"id\":\"d1cd34a1-98c8-4329-ba13-28761eba993d\",\"type\":\"LinearAxis\"},{\"attributes\":{},\"id\":\"46fd50e6-922b-413c-9bea-eccbe362274a\",\"type\":\"BasicTicker\"},{\"attributes\":{\"axis_label\":null,\"formatter\":{\"id\":\"90c23701-dc08-441a-b73f-614d92346514\",\"type\":\"BasicTickFormatter\"},\"plot\":{\"id\":\"8e1e0f59-1820-4fc8-b587-8835f8a72a28\",\"subtype\":\"Figure\",\"type\":\"Plot\"},\"ticker\":{\"id\":\"46fd50e6-922b-413c-9bea-eccbe362274a\",\"type\":\"BasicTicker\"}},\"id\":\"a1be1130-fd08-4a7d-ad19-a4ebf3c942e9\",\"type\":\"LinearAxis\"},{\"attributes\":{\"plot\":{\"id\":\"8e1e0f59-1820-4fc8-b587-8835f8a72a28\",\"subtype\":\"Figure\",\"type\":\"Plot\"},\"ticker\":{\"id\":\"46fd50e6-922b-413c-9bea-eccbe362274a\",\"type\":\"BasicTicker\"}},\"id\":\"e5c629a2-dd51-46ef-be38-badabac9f9d4\",\"type\":\"Grid\"},{\"attributes\":{},\"id\":\"bb6af456-34af-4e61-9e78-311d5e3b632a\",\"type\":\"LinearScale\"},{\"attributes\":{\"callback\":null,\"end\":767.9000000000001},\"id\":\"1778f2d0-9d35-45b5-943a-cd747c746a4c\",\"type\":\"Range1d\"},{\"attributes\":{\"active_drag\":\"auto\",\"active_inspect\":\"auto\",\"active_scroll\":\"auto\",\"active_tap\":\"auto\",\"tools\":[{\"id\":\"8401a9ca-173a-4882-87d6-a6c98b7fc08a\",\"type\":\"SaveTool\"},{\"id\":\"5fc91f5e-4588-4a6a-b119-b2365f7f7c72\",\"type\":\"ResetTool\"},{\"id\":\"7c3e2f06-d982-4cf0-a0fc-41a4f1956aa9\",\"type\":\"WheelZoomTool\"},{\"id\":\"9dc9ca98-dd13-447b-9e70-63328d203459\",\"type\":\"PanTool\"}]},\"id\":\"4a505fa6-6956-490f-8c33-ead6ab148378\",\"type\":\"Toolbar\"},{\"attributes\":{\"source\":{\"id\":\"bf5a90ef-1bcd-478f-b5d4-17896cf4ca93\",\"type\":\"ColumnDataSource\"}},\"id\":\"9fb26edd-73f0-4c6e-875f-c42f7674f970\",\"type\":\"CDSView\"},{\"attributes\":{},\"id\":\"c50752bf-ceda-47a6-a0fa-08b82eafc0be\",\"type\":\"LinearScale\"},{\"attributes\":{\"below\":[{\"id\":\"a1be1130-fd08-4a7d-ad19-a4ebf3c942e9\",\"type\":\"LinearAxis\"}],\"extra_y_ranges\":{\"memory\":{\"id\":\"30f2b33e-1ae9-4661-b80b-b00c7f9023bb\",\"type\":\"Range1d\"}},\"left\":[{\"id\":\"d1cd34a1-98c8-4329-ba13-28761eba993d\",\"type\":\"LinearAxis\"}],\"min_border_bottom\":20,\"min_border_left\":75,\"min_border_right\":75,\"min_border_top\":20,\"plot_height\":240,\"plot_width\":800,\"renderers\":[{\"id\":\"a1be1130-fd08-4a7d-ad19-a4ebf3c942e9\",\"type\":\"LinearAxis\"},{\"id\":\"e5c629a2-dd51-46ef-be38-badabac9f9d4\",\"type\":\"Grid\"},{\"id\":\"d1cd34a1-98c8-4329-ba13-28761eba993d\",\"type\":\"LinearAxis\"},{\"id\":\"94827f18-fd9c-476c-96c2-63740ba1215d\",\"type\":\"Grid\"},{\"id\":\"ae53a2ab-d9c2-4e87-9078-75b557d200b7\",\"type\":\"Legend\"},{\"id\":\"a9cc93a2-5b0c-455f-9857-ecce390a9041\",\"type\":\"GlyphRenderer\"},{\"id\":\"17004076-30c7-42c4-a90d-ec7f2933fd5f\",\"type\":\"GlyphRenderer\"},{\"id\":\"56db265d-728d-4469-b741-3344c581e6d1\",\"type\":\"LinearAxis\"}],\"right\":[{\"id\":\"56db265d-728d-4469-b741-3344c581e6d1\",\"type\":\"LinearAxis\"}],\"title\":null,\"toolbar\":{\"id\":\"4a505fa6-6956-490f-8c33-ead6ab148378\",\"type\":\"Toolbar\"},\"toolbar_location\":null,\"x_range\":{\"id\":\"7424a5e6-8d9f-40a3-8d65-21d9c1ccf877\",\"type\":\"Range1d\"},\"x_scale\":{\"id\":\"c50752bf-ceda-47a6-a0fa-08b82eafc0be\",\"type\":\"LinearScale\"},\"y_range\":{\"id\":\"1778f2d0-9d35-45b5-943a-cd747c746a4c\",\"type\":\"Range1d\"},\"y_scale\":{\"id\":\"bb6af456-34af-4e61-9e78-311d5e3b632a\",\"type\":\"LinearScale\"}},\"id\":\"8e1e0f59-1820-4fc8-b587-8835f8a72a28\",\"subtype\":\"Figure\",\"type\":\"Plot\"},{\"attributes\":{},\"id\":\"5de39512-a513-4d38-b3b8-fce52e30075e\",\"type\":\"BasicTickFormatter\"},{\"attributes\":{\"source\":{\"id\":\"05ac24df-b05d-4286-8ef2-9babbba8773f\",\"type\":\"ColumnDataSource\"}},\"id\":\"697cca5c-1134-4745-94da-3a6dc3d3dee7\",\"type\":\"CDSView\"},{\"attributes\":{\"data_source\":{\"id\":\"05ac24df-b05d-4286-8ef2-9babbba8773f\",\"type\":\"ColumnDataSource\"},\"glyph\":{\"id\":\"7ab78892-11f8-41b4-9afe-5bcd5086355f\",\"type\":\"Rect\"},\"hover_glyph\":null,\"muted_glyph\":null,\"nonselection_glyph\":{\"id\":\"dbf0f633-c9e2-4a26-a41b-bb43fd443d15\",\"type\":\"Rect\"},\"selection_glyph\":null,\"view\":{\"id\":\"697cca5c-1134-4745-94da-3a6dc3d3dee7\",\"type\":\"CDSView\"}},\"id\":\"6731d86d-9a9d-4ad1-8336-510b27afcf73\",\"type\":\"GlyphRenderer\"},{\"attributes\":{},\"id\":\"79abb89e-b000-409b-b79b-de3aee6b0ac3\",\"type\":\"CategoricalTickFormatter\"},{\"attributes\":{},\"id\":\"712af1c3-f356-430c-966d-d92e1d3fe4bf\",\"type\":\"WheelZoomTool\"},{\"attributes\":{\"callback\":null},\"id\":\"cf2e0bff-5ad8-4096-a6aa-4aee46e70356\",\"type\":\"DataRange1d\"},{\"attributes\":{},\"id\":\"3ca86de0-785c-4e1d-ba2a-a12e21344d62\",\"type\":\"LinearScale\"},{\"attributes\":{\"below\":[{\"id\":\"49595218-fd70-4216-86d7-7108d0b54690\",\"type\":\"LinearAxis\"}],\"left\":[{\"id\":\"04202878-73c3-4116-81c1-de220d5cb095\",\"type\":\"LinearAxis\"}],\"min_border_left\":75,\"min_border_right\":75,\"min_border_top\":20,\"plot_height\":270,\"plot_width\":800,\"renderers\":[{\"id\":\"49595218-fd70-4216-86d7-7108d0b54690\",\"type\":\"LinearAxis\"},{\"id\":\"d61be88e-7a1f-4f9f-ac80-20f021d4944d\",\"type\":\"Grid\"},{\"id\":\"04202878-73c3-4116-81c1-de220d5cb095\",\"type\":\"LinearAxis\"},{\"id\":\"f417cbe2-29b5-4b63-b8fc-2c1f458f0dde\",\"type\":\"Grid\"},{\"id\":\"3bdd7548-8076-47a5-8e4a-3585133dd38c\",\"type\":\"GlyphRenderer\"},{\"id\":\"54223bdc-29d5-4cfa-99c2-b07c4ab7e6c2\",\"type\":\"GlyphRenderer\"}],\"title\":null,\"toolbar\":{\"id\":\"d3e7a89b-dace-4b47-9ce3-9641ec9ebbdb\",\"type\":\"Toolbar\"},\"toolbar_location\":null,\"x_range\":{\"id\":\"7424a5e6-8d9f-40a3-8d65-21d9c1ccf877\",\"type\":\"Range1d\"},\"x_scale\":{\"id\":\"3ca86de0-785c-4e1d-ba2a-a12e21344d62\",\"type\":\"LinearScale\"},\"y_range\":{\"id\":\"cf2e0bff-5ad8-4096-a6aa-4aee46e70356\",\"type\":\"DataRange1d\"},\"y_scale\":{\"id\":\"882cf13b-660e-4ac5-a082-531317e8f5bf\",\"type\":\"LinearScale\"}},\"id\":\"161998ee-d776-4c5f-91a8-5021c7a3f1e2\",\"subtype\":\"Figure\",\"type\":\"Plot\"},{\"attributes\":{},\"id\":\"b3a7e2ce-99e7-4326-83a5-da00007a1383\",\"type\":\"BasicTickFormatter\"},{\"attributes\":{\"active_drag\":\"auto\",\"active_inspect\":\"auto\",\"active_scroll\":\"auto\",\"active_tap\":\"auto\",\"tools\":[{\"id\":\"07fe6af9-3724-47a9-8782-e854afc6b82d\",\"type\":\"HoverTool\"},{\"id\":\"90d7af5f-c13a-4460-b798-e09dc22003d3\",\"type\":\"SaveTool\"},{\"id\":\"33cef681-adb3-42b2-a093-5bc4b6428d20\",\"type\":\"ResetTool\"},{\"id\":\"712af1c3-f356-430c-966d-d92e1d3fe4bf\",\"type\":\"WheelZoomTool\"},{\"id\":\"a1d04155-8704-416c-8081-97003f90706f\",\"type\":\"PanTool\"}]},\"id\":\"d3e7a89b-dace-4b47-9ce3-9641ec9ebbdb\",\"type\":\"Toolbar\"},{\"attributes\":{\"label\":{\"value\":\"Memory\"},\"renderers\":[{\"id\":\"17004076-30c7-42c4-a90d-ec7f2933fd5f\",\"type\":\"GlyphRenderer\"}]},\"id\":\"2d508f4d-73c2-4c4f-ad5f-71ddcbefb9c4\",\"type\":\"LegendItem\"},{\"attributes\":{\"callback\":null,\"end\":96.99399152100159},\"id\":\"7424a5e6-8d9f-40a3-8d65-21d9c1ccf877\",\"type\":\"Range1d\"},{\"attributes\":{\"line_alpha\":0.1,\"line_color\":\"#1f77b4\",\"line_width\":3,\"x\":{\"field\":\"x\"},\"y\":{\"field\":\"y\"}},\"id\":\"72d0fb8e-27be-4bed-a332-890bed655412\",\"type\":\"Line\"},{\"attributes\":{\"line_alpha\":0.1,\"line_color\":\"#1f77b4\",\"line_width\":4,\"x\":{\"field\":\"x\"},\"y\":{\"field\":\"y\"}},\"id\":\"b52cb2be-72f1-4c82-8080-01a867aae3ce\",\"type\":\"Line\"},{\"attributes\":{\"line_color\":\"#29788E\",\"line_width\":4,\"x\":{\"field\":\"x\"},\"y\":{\"field\":\"y\"}},\"id\":\"447c66af-420e-488c-805a-b961bcb7e1fd\",\"type\":\"Line\"},{\"attributes\":{\"source\":{\"id\":\"c8cb9375-471b-48a8-aa8a-978353e5b73e\",\"type\":\"ColumnDataSource\"}},\"id\":\"9f197873-285b-4b87-8cd6-24353e57d0b7\",\"type\":\"CDSView\"},{\"attributes\":{\"active_drag\":\"auto\",\"active_inspect\":\"auto\",\"active_scroll\":\"auto\",\"active_tap\":\"auto\",\"tools\":[{\"id\":\"23666652-54c0-4659-abd6-7494f54dde1c\",\"type\":\"HoverTool\"},{\"id\":\"1b5f047d-f902-4056-a84e-f1cd7e62a14c\",\"type\":\"SaveTool\"},{\"id\":\"d008d660-8f9f-471f-9614-07b620d038ba\",\"type\":\"ResetTool\"},{\"id\":\"82b24acd-c6b2-4787-be67-6110f1675fdd\",\"type\":\"WheelZoomTool\"},{\"id\":\"9bbde73b-0213-4be9-bea7-bb02c10c3a76\",\"type\":\"PanTool\"}]},\"id\":\"d141f55d-6a2f-46c1-84bb-80287a08684a\",\"type\":\"Toolbar\"},{\"attributes\":{\"data_source\":{\"id\":\"c8cb9375-471b-48a8-aa8a-978353e5b73e\",\"type\":\"ColumnDataSource\"},\"glyph\":{\"id\":\"447c66af-420e-488c-805a-b961bcb7e1fd\",\"type\":\"Line\"},\"hover_glyph\":null,\"muted_glyph\":null,\"nonselection_glyph\":{\"id\":\"b52cb2be-72f1-4c82-8080-01a867aae3ce\",\"type\":\"Line\"},\"selection_glyph\":null,\"view\":{\"id\":\"9f197873-285b-4b87-8cd6-24353e57d0b7\",\"type\":\"CDSView\"},\"y_range_name\":\"memory\"},\"id\":\"17004076-30c7-42c4-a90d-ec7f2933fd5f\",\"type\":\"GlyphRenderer\"},{\"attributes\":{\"callback\":null,\"column_names\":[\"x\",\"y\",\"label\"],\"data\":{\"label\":[\"module2regulome_numba_impl(...)\",\"module2regulome_numba_impl(...)\",\"module2regulome_numba_impl(...)\",\"module2regulome_numba_impl(...)\",\"module2regulome_numba_impl(...)\",\"module2regulome_numba_impl(...)\",\"module2regulome_numba_impl(...)\",\"module2regulome_numba_impl(...)\",\"module2regulome_numba_impl(...)\",\"module2regulome_numba_impl(...)\",\"module2regulome_numba_impl(...)\",\"module2regulome_numba_impl(...)\",\"module2regulome_numba_impl(...)\",\"module2regulome_numba_impl(...)\",\"module2regulome_numba_impl(...)\",\"module2regulome_numba_impl(...)\",\"module2regulome_numba_impl(...)\",\"module2regulome_numba_impl(...)\",\"module2regulome_numba_impl(...)\",\"module2regulome_numba_impl(...)\",\"module2regulome_numba_impl(...)\",\"module2regulome_numba_impl(...)\",\"module2regulome_numba_impl(...)\",\"module2regulome_numba_impl(...)\",\"module2regulome_numba_impl(...)\",\"module2regulome_numba_impl(...)\",\"module2regulome_numba_impl(...)\",\"module2regulome_numba_impl(...)\",\"module2regulome_numba_impl(...)\",\"module2regulome_numba_impl(...)\",\"module2regulome_numba_impl(...)\",\"module2regulome_numba_impl(...)\",\"module2regulome_numba_impl(...)\",\"module2regulome_numba_impl(...)\",\"module2regulome_numba_impl(...)\",\"module2regulome_numba_impl(...)\",\"module2regulome_numba_impl(...)\",\"module2regulome_numba_impl(...)\",\"module2regulome_numba_impl(...)\",\"module2regulome_numba_impl(...)\",\"module2regulome_numba_impl(...)\",\"module2regulome_numba_impl(...)\",\"module2regulome_numba_impl(...)\",\"module2regulome_numba_impl(...)\",\"module2regulome_numba_impl(...)\",\"module2regulome_numba_impl(...)\",\"module2regulome_numba_impl(...)\",\"module2regulome_numba_impl(...)\",\"module2regulome_numba_impl(...)\",\"module2regulome_numba_impl(...)\",\"module2regulome_numba_impl(...)\",\"module2regulome_numba_impl(...)\",\"module2regulome_numba_impl(...)\",\"module2regulome_numba_impl(...)\",\"module2regulome_numba_impl(...)\",\"module2regulome_numba_impl(...)\",\"module2regulome_numba_impl(...)\",\"module2regulome_numba_impl(...)\",\"module2regulome_numba_impl(...)\",\"module2regulome_numba_impl(...)\",\"module2regulome_numba_impl(...)\",\"module2regulome_numba_impl(...)\",\"module2regulome_numba_impl(...)\",\"module2regulome_numba_impl(...)\",\"module2regulome_numba_impl(...)\",\"module2regulome_numba_impl(...)\",\"module2regulome_numba_impl(...)\",\"module2regulome_numba_impl(...)\",\"module2regulome_numba_impl(...)\",\"module2regulome_numba_impl(...)\",\"module2regulome_numba_impl(...)\",\"module2regulome_numba_impl(...)\",\"module2regulome_numba_impl(...)\",\"module2regulome_numba_impl(...)\",\"module2regulome_numba_impl(...)\",\"module2regulome_numba_impl(...)\",\"module2regulome_numba_impl(...)\",\"module2regulome_numba_impl(...)\",\"module2regulome_numba_impl(...)\",\"module2regulome_numba_impl(...)\",\"module2regulome_numba_impl(...)\",\"module2regulome_numba_impl(...)\",\"module2regulome_numba_impl(...)\",\"module2regulome_numba_impl(...)\",\"module2regulome_numba_impl(...)\",\"module2regulome_numba_impl(...)\",\"module2regulome_numba_impl(...)\",\"module2regulome_numba_impl(...)\",\"module2regulome_numba_impl(...)\",\"module2regulome_numba_impl(...)\",\"module2regulome_numba_impl(...)\",\"module2regulome_numba_impl(...)\",\"module2regulome_numba_impl(...)\",\"module2regulome_numba_impl(...)\",\"module2regulome_numba_impl(...)\",\"module2regulome_numba_impl(...)\",\"module2regulome_numba_impl(...)\",\"module2regulome_numba_impl(...)\",\"module2regulome_numba_impl(...)\",\"module2regulome_numba_impl(...)\",\"module2regulome_numba_impl(...)\",\"module2regulome_numba_impl(...)\",\"module2regulome_numba_impl(...)\"],\"x\":[0,6.695645290999892,7.779469045999576,9.683993663000365,11.23687738999979,12.768887154999902,14.328526741999667,15.554580329999226,16.434253354000248,17.219889451998824,18.32917743500002,19.12833961999968,20.01032005900015,20.940023178000047,21.9242737379991,22.83377847599877,23.503773779999392,24.25826613999925,25.05466215999877,25.81529504199898,26.57812943099998,27.356930272999307,27.96480990499913,28.708771673998854,29.614771329999712,30.368380720999994,31.124947451999105,32.062634996998895,32.793545982998694,33.87019745799989,35.06973458799985,36.19399647899991,37.512188044998766,38.781210622999424,39.773134483999456,40.78023149599903,41.41873959999975,42.17567637399952,42.9687327599986,44.179177160998734,45.15597107299982,45.995130461999,46.96519543899922,48.11941890199887,48.79980821999925,49.639523268999255,50.40412906900019,51.11936196199895,52.04832262399941,52.84337958699871,53.48372125300011,54.33418469999924,55.20309214899862,55.85825848999957,56.852575720999084,57.69562519200008,58.45738098899892,59.60401168899989,60.691860257999,61.45903676299895,62.347014986999056,62.99551178799993,63.84195899400038,64.62612643899956,65.56962290800038,66.8964597719987,68.15134356099952,69.33711273399967,70.12033658099972,71.07782290199975,71.86625658699995,72.61286714999915,73.37240972600011,74.15225932799876,74.92140200999893,75.6896728949996,76.54358218099878,77.58358581999892,78.67267733100016,79.95606964099898,81.0335143559987,82.00006897700041,82.8304384359999,83.75781229399945,84.6546873619991,85.3054662630002,86.01964349399896,87.09780475499974,87.92633864500021,88.56126890799897,89.3950418229997,90.17954159699912,91.06307175499933,92.00825186399925,92.0082724519998,92.00828179499877,93.20819950999976,93.42269689400018,93.54473329599932,94.58138521900037,96.82313796999915,96.99693539100008,96.99704104400007],\"y\":[0,1,2,3,4,5,6,7,8,9,10,11,12,13,14,15,16,17,18,19,20,21,22,23,24,25,26,27,28,29,30,31,32,33,34,35,36,37,38,39,40,41,42,43,44,45,46,47,48,49,50,51,52,53,54,55,56,57,58,59,60,61,62,63,64,65,66,67,68,69,70,71,72,73,74,75,76,77,78,79,80,81,82,83,84,85,86,87,88,89,90,91,92,93,94,95,96,97,98,99,100,0,0]}},\"id\":\"bf5a90ef-1bcd-478f-b5d4-17896cf4ca93\",\"type\":\"ColumnDataSource\"},{\"attributes\":{\"below\":[{\"id\":\"fdc3e9ba-07b4-4046-af64-6bbe50720c64\",\"type\":\"LinearAxis\"}],\"left\":[{\"id\":\"58c59a32-a1b9-4d6a-8952-b74ef9a3cf34\",\"type\":\"CategoricalAxis\"}],\"min_border_bottom\":20,\"min_border_left\":75,\"min_border_right\":75,\"plot_height\":270,\"plot_width\":800,\"renderers\":[{\"id\":\"fdc3e9ba-07b4-4046-af64-6bbe50720c64\",\"type\":\"LinearAxis\"},{\"id\":\"a864cc89-843b-48da-82d6-87372f9465a8\",\"type\":\"Grid\"},{\"id\":\"58c59a32-a1b9-4d6a-8952-b74ef9a3cf34\",\"type\":\"CategoricalAxis\"},{\"id\":\"32faf020-9d27-4888-9a23-ee5ecd4ca5aa\",\"type\":\"Grid\"},{\"id\":\"6731d86d-9a9d-4ad1-8336-510b27afcf73\",\"type\":\"GlyphRenderer\"}],\"title\":{\"id\":\"4dcee202-3f95-41bc-b915-ee1073bae73e\",\"type\":\"Title\"},\"toolbar\":{\"id\":\"d141f55d-6a2f-46c1-84bb-80287a08684a\",\"type\":\"Toolbar\"},\"toolbar_location\":null,\"x_range\":{\"id\":\"7424a5e6-8d9f-40a3-8d65-21d9c1ccf877\",\"type\":\"Range1d\"},\"x_scale\":{\"id\":\"387a6845-5a39-433a-a332-07518609da44\",\"type\":\"LinearScale\"},\"y_range\":{\"id\":\"7480b211-b0e0-48e1-8d44-656106a93844\",\"type\":\"FactorRange\"},\"y_scale\":{\"id\":\"13b33b30-304b-4912-bb13-3060eddf4a46\",\"type\":\"CategoricalScale\"}},\"id\":\"11acc395-115c-4039-b474-3843e5c6d1d6\",\"subtype\":\"Figure\",\"type\":\"Plot\"},{\"attributes\":{\"items\":[{\"id\":\"61d35567-3f85-4800-ba13-51c5327a0cf9\",\"type\":\"LegendItem\"},{\"id\":\"2d508f4d-73c2-4c4f-ad5f-71ddcbefb9c4\",\"type\":\"LegendItem\"}],\"plot\":{\"id\":\"8e1e0f59-1820-4fc8-b587-8835f8a72a28\",\"subtype\":\"Figure\",\"type\":\"Plot\"}},\"id\":\"ae53a2ab-d9c2-4e87-9078-75b557d200b7\",\"type\":\"Legend\"},{\"attributes\":{\"plot\":null,\"text\":\"Profile Results\"},\"id\":\"4dcee202-3f95-41bc-b915-ee1073bae73e\",\"type\":\"Title\"},{\"attributes\":{\"axis_label\":\"Memory (MB)\",\"formatter\":{\"id\":\"a5cf9439-282e-4279-84c6-9aa96b250f0b\",\"type\":\"BasicTickFormatter\"},\"plot\":{\"id\":\"8e1e0f59-1820-4fc8-b587-8835f8a72a28\",\"subtype\":\"Figure\",\"type\":\"Plot\"},\"ticker\":{\"id\":\"d7eec313-518f-4638-9d2d-332774b5dbd8\",\"type\":\"BasicTicker\"},\"y_range_name\":\"memory\"},\"id\":\"56db265d-728d-4469-b741-3344c581e6d1\",\"type\":\"LinearAxis\"},{\"attributes\":{\"children\":[{\"id\":\"11acc395-115c-4039-b474-3843e5c6d1d6\",\"subtype\":\"Figure\",\"type\":\"Plot\"}]},\"id\":\"df9cce96-1271-48cd-ac19-c9fcb354e088\",\"type\":\"Row\"},{\"attributes\":{\"label\":{\"value\":\"% CPU\"},\"renderers\":[{\"id\":\"a9cc93a2-5b0c-455f-9857-ecce390a9041\",\"type\":\"GlyphRenderer\"}]},\"id\":\"61d35567-3f85-4800-ba13-51c5327a0cf9\",\"type\":\"LegendItem\"},{\"attributes\":{},\"id\":\"387a6845-5a39-433a-a332-07518609da44\",\"type\":\"LinearScale\"},{\"attributes\":{\"callback\":null,\"end\":9040.719872,\"start\":2580.774912},\"id\":\"30f2b33e-1ae9-4661-b80b-b00c7f9023bb\",\"type\":\"Range1d\"},{\"attributes\":{\"callback\":null,\"factors\":[\"0\",\"1\",\"2\",\"3\",\"4\",\"5\",\"6\",\"7\"]},\"id\":\"7480b211-b0e0-48e1-8d44-656106a93844\",\"type\":\"FactorRange\"},{\"attributes\":{},\"id\":\"90c23701-dc08-441a-b73f-614d92346514\",\"type\":\"BasicTickFormatter\"},{\"attributes\":{},\"id\":\"13b33b30-304b-4912-bb13-3060eddf4a46\",\"type\":\"CategoricalScale\"},{\"attributes\":{},\"id\":\"e3000a8b-812f-467e-99ee-cc6e912fa2d6\",\"type\":\"BasicTickFormatter\"},{\"attributes\":{\"fill_color\":{\"field\":\"color\"},\"height\":{\"units\":\"data\",\"value\":1},\"line_color\":{\"value\":\"gray\"},\"width\":{\"field\":\"width\",\"units\":\"data\"},\"x\":{\"field\":\"x\"},\"y\":{\"field\":\"y\"}},\"id\":\"7ab78892-11f8-41b4-9afe-5bcd5086355f\",\"type\":\"Rect\"},{\"attributes\":{\"source\":{\"id\":\"7530da11-1800-409b-b271-c4f22eb7e242\",\"type\":\"ColumnDataSource\"}},\"id\":\"2943c747-c570-47fc-8ca0-c9134fda9456\",\"type\":\"CDSView\"},{\"attributes\":{\"axis_label\":null,\"axis_line_color\":{\"value\":null},\"formatter\":{\"id\":\"5de39512-a513-4d38-b3b8-fce52e30075e\",\"type\":\"BasicTickFormatter\"},\"major_tick_line_color\":{\"value\":null},\"plot\":{\"id\":\"11acc395-115c-4039-b474-3843e5c6d1d6\",\"subtype\":\"Figure\",\"type\":\"Plot\"},\"ticker\":{\"id\":\"ff9677d6-df72-43df-8444-cf6dcf03e2eb\",\"type\":\"BasicTicker\"}},\"id\":\"fdc3e9ba-07b4-4046-af64-6bbe50720c64\",\"type\":\"LinearAxis\"},{\"attributes\":{\"data_source\":{\"id\":\"7530da11-1800-409b-b271-c4f22eb7e242\",\"type\":\"ColumnDataSource\"},\"glyph\":{\"id\":\"f41383e9-cb43-41c8-81a8-ad751d8f8f66\",\"type\":\"Line\"},\"hover_glyph\":null,\"muted_glyph\":null,\"nonselection_glyph\":{\"id\":\"cc1b5293-e566-4ba4-89eb-872e4a34923b\",\"type\":\"Line\"},\"selection_glyph\":null,\"view\":{\"id\":\"2943c747-c570-47fc-8ca0-c9134fda9456\",\"type\":\"CDSView\"}},\"id\":\"a9cc93a2-5b0c-455f-9857-ecce390a9041\",\"type\":\"GlyphRenderer\"},{\"attributes\":{},\"id\":\"ff9677d6-df72-43df-8444-cf6dcf03e2eb\",\"type\":\"BasicTicker\"},{\"attributes\":{\"line_alpha\":0.1,\"line_color\":\"#1f77b4\",\"line_width\":4,\"x\":{\"field\":\"x\"},\"y\":{\"field\":\"y\"}},\"id\":\"cc1b5293-e566-4ba4-89eb-872e4a34923b\",\"type\":\"Line\"},{\"attributes\":{\"grid_line_color\":{\"value\":null},\"plot\":{\"id\":\"11acc395-115c-4039-b474-3843e5c6d1d6\",\"subtype\":\"Figure\",\"type\":\"Plot\"},\"ticker\":{\"id\":\"ff9677d6-df72-43df-8444-cf6dcf03e2eb\",\"type\":\"BasicTicker\"}},\"id\":\"a864cc89-843b-48da-82d6-87372f9465a8\",\"type\":\"Grid\"},{\"attributes\":{\"line_color\":\"#440154\",\"line_width\":4,\"x\":{\"field\":\"x\"},\"y\":{\"field\":\"y\"}},\"id\":\"f41383e9-cb43-41c8-81a8-ad751d8f8f66\",\"type\":\"Line\"},{\"attributes\":{\"axis_label\":\"Worker ID\",\"axis_line_color\":{\"value\":null},\"formatter\":{\"id\":\"79abb89e-b000-409b-b79b-de3aee6b0ac3\",\"type\":\"CategoricalTickFormatter\"},\"major_tick_line_color\":{\"value\":null},\"plot\":{\"id\":\"11acc395-115c-4039-b474-3843e5c6d1d6\",\"subtype\":\"Figure\",\"type\":\"Plot\"},\"ticker\":{\"id\":\"23cd7403-bbbc-487a-afab-ac6e0159ff38\",\"type\":\"CategoricalTicker\"}},\"id\":\"58c59a32-a1b9-4d6a-8952-b74ef9a3cf34\",\"type\":\"CategoricalAxis\"},{\"attributes\":{\"callback\":null,\"column_names\":[\"x\",\"y\"],\"data\":{\"x\":[0.0,0.25183616499998607,0.5031464120002056,0.7543836730001203,1.0058062610005436,1.2601568000009138,1.511539859999175,1.7629696240001067,2.014262898999732,2.2656973129996913,2.5171535659992514,2.7686158910000813,3.020021029000418,3.271416658999442,3.5229729839993524,3.7745489520002593,4.0261030410001695,4.277028784999857,4.527655608000714,4.778206228000272,5.029825691000951,5.280438088000665,5.5309565940006,5.782515438999326,6.034210182999232,6.287342609999541,6.538730546999432,6.790803265999784,7.041519791999235,7.292371059000288,7.543148328000825,7.793925530999331,8.04560336800023,8.296379430999878,8.548006380000515,8.799492557000121,9.050453304000257,9.30131223799981,9.552938975999496,9.804107891999593,10.056384429999525,10.307431216999248,10.55915516999994,10.810934551000173,11.062784191999526,11.314463836000868,11.566178085000502,11.818045620000703,12.069813509000596,12.32122665099996,12.572444842999175,12.823702538000362,13.07475527799943,13.326578199999858,13.578254399000798,13.82931753900084,14.080995034000807,14.332894823999595,14.58426637500088,14.837477556000522,15.089024889000939,15.340802094999162,15.59159990199987,15.842313470999215,16.093756921000022,16.345037715000217,16.595988320999822,16.84672489299919,17.097557318000327,17.348654051000267,17.60028955999951,17.851664018999145,18.103110702999402,18.35464927099929,18.60619151299943,18.857725522000692,19.108865236999918,19.3594453959995,19.61085698699935,19.862364517999595,20.113225836999845,20.363930793999316,20.615361435000523,20.866037068999503,21.11697130900029,21.368644119000237,21.620056122999813,21.87100656000075,22.122688047000338,22.374236056999507,22.625886690999323,22.87757610799963,23.12922616799915,23.38073891500062,23.632481369000743,23.88396825199925,24.13535721900007,24.386767440999392,24.638159010999516,24.889501585999824,25.1410374040006,25.39203197200004,25.643537636000474,25.895057622999957,26.14620785199986,26.39774376599962,26.649428254000668,26.9002623159995,27.151550603000942,27.402653343000566,27.65423974300029,27.90596869900037,28.157641130999764,28.409294219000003,28.66072569899916,28.911158042999887,29.162565217999145,29.414116641000874,29.665530296000725,29.91707699700055,30.168709044000934,30.42022232400086,30.670988997000677,30.92230695699982,31.17300461800005,31.424671200000375,31.67609149800046,31.92779363599948,32.179430722999314,32.43098604700026,32.68264444499982,32.93416135699954,33.185874225999214,33.43733220099966,33.68853402900095,33.939469090000784,34.19117024499974,34.44277801499993,34.694436797999515,34.94614324599934,35.19774272399991,35.449320646999695,35.70112976599921,35.95295631500085,36.20449256500069,36.456111670999235,36.70808272400063,36.959927240999605,37.21159146500031,37.46341616599966,37.715084047000346,37.96690598200075,38.21873200899972,38.470591171000706,38.722472637000465,38.97411861299952,39.22581138500027,39.47751115599931,39.72930508100035,39.981124755000565,40.23263454900007,40.48441801199988,40.73612723900078,40.987763200999325,41.23932093199983,41.49100473699946,41.742814870000075,41.99428162000004,42.245258774999456,42.4964114760005,42.74782044099993,42.99922078000054,43.24976445200082,43.50122083600036,43.75272131100064,44.00404988599985,44.25451988799978,44.50622510699941,44.75794987200061,45.009701164000944,45.2612661130006,45.51268702299967,45.76430784399963,46.01575759200023,46.2675563899993,46.51930127800006,46.77104814499944,47.02261962800003,47.274255484000605,47.525896822000504,47.777164873999936,48.02872115500031,48.27999379200082,48.53144780299954,48.78321359099937,49.03488573100003,49.286423494999326,49.53723842200088,49.787973095999405,50.03950322899982,50.29104246499992,50.54269643400039,50.794196557999385,51.04589275000035,51.296602754999185,51.548148678999496,51.7997762899995,52.05114283399962,52.30277259899958,52.55339685800027,52.8050062580005,53.056648519999726,53.3080658279996,53.558946527000444,53.81029809999927,54.06172192300073,54.313290578000306,54.564967595999406,54.81642924699918,55.06808976499997,55.31965226600005,55.57096955400084,55.82251113100028,56.07413517200075,56.325911631000054,56.57658725100009,56.82720522300042,57.07888090300003,57.330048424999404,57.58104362400081,57.83235432500078,58.08382260700091,58.33509469400087,58.58548913300001,58.836662058,59.088140705000114,59.339899290000176,59.59159155999987,59.84322641499966,60.0949292589994,60.34670951199951,60.59834028899968,60.84961187999943,61.1005026870007,61.35213840399956,61.60379153299982,61.854672081999524,62.10600577600053,62.357550721000734,62.6090703459995,62.86084947800009,63.11271829799989,63.36439440399954,63.61579460699977,63.867331735000334,64.11893491400042,64.37067688699972,64.62216519300091,64.87389694800004,65.12554572800036,65.37719447299969,65.62895599799958,65.88063987399983,66.13145280500066,66.38308547899942,66.63455759300086,66.88621009300005,67.13785272899986,67.38943106999977,67.64060671600055,67.89246190300037,68.14414256999953,68.39576324500013,68.64765030200033,68.89950560299985,69.15032259299915,69.40243780200035,69.65433615099937,69.90549372200076,70.15735907899943,70.40898187399944,70.66078646099959,70.91127630200026,71.16264740400038,71.41355572800057,71.6652126480003,71.91683829400063,72.16841485700024,72.42022664099932,72.67098981299932,72.92265155600035,73.17404149399954,73.42564812300043,73.67709800299963,73.92764988700037,74.1785263469992,74.43003930799932,74.68071823799983,74.93231125300008,75.18397699799971,75.43545345500024,75.68642829900091,75.93796333099999,76.18910311999934,76.44054478100043,76.69128744800037,76.94271866999952,77.19431023700054,77.44597015200088,77.69762720799918,77.9492565239998,78.20083720799994,78.45237776400063,78.70397121099995,78.95604249400094,79.20763343100043,79.45930998400036,79.71030745999997,79.96174896400044,80.21341885500078,80.46529614700012,80.71703300400077,80.9686121850009,81.22010326199961,81.47100577700076,81.72157616299955,81.97327534299984,82.22512345200084,82.47645656900022,82.72795330400004,82.97963336700013,83.23139134399935,83.48306652499923,83.73484245399959,83.98638955699971,84.23784750900086,84.4895041460004,84.74105516000054,84.99184101799983,85.24246173100073,85.49402181500045,85.74467651600025,85.99534854199919,86.24601941699984,86.49752593499943,86.74905788599972,87.00047018999976,87.25192810999943,87.50254841899914,87.7539512229996,88.00561448799999,88.25728187700042,88.50893717899999,88.75933554100084,89.0107703600006,89.26219868999942,89.51361288299995,89.76455912299934,90.01582947300085,90.26749487500092,90.5191671779994,90.77014651299942,91.02098667300015,91.27242267099973,91.52381333999983,91.77437159600049,92.02544041500005,92.27625948499917,92.5272844530009,92.77806134999992,93.02895841300051,93.28058697199958,93.53225668999949,93.78392942299979,94.03569322600015,94.28740219800056,94.53911991799941,94.79053699699944,95.04194039399954,95.2933465999995,95.54475493300015,95.796158354,96.04663413200069,96.29816660600045,96.5495820340002,96.80103204899933,97.05145770200033,97.30290483600038,97.55428185299934,97.80568654799936,98.05710480000016],\"y\":[2580.774912,2617.401344,2658.684928,2667.864064,2599.653376,2645.106688,2655.322112,2752.479232,2865.217536,3049.435136,3154.522112,3228.16,3662.188544,3729.883136,3759.869952,3942.187008,4015.255552,4067.196928,4165.316608,4289.3312,4413.857792,4875.780096,4879.167488,5087.850496,5131.968512,5728.165888,5612.158976,5840.93696,5796.954112,6096.101376,5572.21888,5725.220864,6115.713024,6646.861824,7131.537408,7402.778624,7760.863232,7795.4048,7824.543744,7858.540544,7878.139904,7786.307584,7868.092416,7790.05952,7812.718592,7800.983552,7933.616128,8217.305088,8161.665024,8305.655808,8537.378816,8703.541248,8877.54752,9040.719872,9033.097216,8948.514816,7889.227776,7842.721792,8240.513024,7274.02496,6920.6016,6161.088512,6272.999424,5939.187712,5810.266112,5752.48384,5869.944832,6198.398976,5898.883072,5729.890304,5411.700736,5726.404608,6095.937536,6237.85984,5935.362048,5943.762944,5954.80576,5960.962048,6336.258048,6352.166912,5910.831104,5807.517696,6143.725568,6074.032128,6056.169472,5717.557248,5844.23424,5899.096064,6211.137536,6375.211008,6284.541952,5669.310464,5954.576384,5826.568192,5475.16416,5530.9312,5785.04704,5839.917056,5427.818496,5790.957568,5894.508544,5758.824448,5768.146944,5758.377984,5752.81152,6123.937792,6184.902656,5606.928384,5501.943808,5490.704384,5492.056064,5507.612672,5525.962752,5348.933632,5559.406592,5353.730048,5451.112448,5671.95648,5531.840512,5545.82016,5560.692736,5758.099456,5750.132736,5816.496128,5982.47424,5507.305472,5892.64896,5691.461632,5705.437184,6171.373568,6097.399808,5939.392512,5772.57472,5880.225792,5830.172672,5866.852352,6023.745536,5997.703168,6136.348672,6767.747072,7210.360832,7301.828608,7331.524608,6847.73376,7017.283584,7341.764608,7285.465088,7210.196992,7198.294016,7636.946944,7873.503232,8184.553472,8436.092928,8434.765824,8125.743104,7795.437568,7676.276736,6893.395968,6762.14784,6826.2912,6787.117056,6825.111552,6673.870848,6850.072576,6149.783552,5532.250112,5344.579584,5498.892288,5522.853888,5505.191936,5921.030144,5827.76832,5695.553536,5889.875968,5894.766592,5918.756864,6029.08672,6350.757888,6412.152832,6538.981376,6753.820672,6868.688896,6829.088768,6226.702336,6487.433216,6341.074944,6423.61344,6173.999104,6473.887744,6328.160256,6351.065088,6355.615744,6702.247936,6687.346688,6104.498176,6073.081856,5829.984256,5896.445952,5905.444864,6112.493568,6319.149056,6373.376,5722.218496,5857.640448,5896.998912,6078.75072,5915.697152,5945.01632,5923.094528,6281.568256,6000.095232,5704.331264,5682.638848,5689.802752,5668.798464,5977.595904,6145.081344,5912.33024,6067.175424,6188.007424,6239.281152,5977.550848,5973.762048,6006.624256,5840.519168,6040.297472,5959.274496,5947.826176,6173.384704,6010.834944,5668.179968,5387.153408,5387.75552,5420.466176,5755.486208,6395.285504,6542.454784,6338.633728,6510.73536,6912.548864,6936.064,6819.332096,6824.157184,6468.07552,6240.755712,5752.786944,5637.59104,5702.660096,5723.045888,5877.276672,5907.23072,5657.47712,5522.751488,5834.776576,5974.925312,5802.5984,6055.05536,6015.520768,5765.840896,5768.11008,5772.046336,5787.947008,5769.670656,6052.642816,6796.726272,7577.726976,7799.853056,7889.801216,7950.901248,8024.367104,8059.478016,8316.960768,8251.621376,8315.666432,8375.1936,8257.601536,7983.333376,8477.474816,7473.238016,6611.378176,6590.889984,5983.817728,5967.417344,5949.468672,6189.71136,6294.798336,6060.437504,6112.84992,6139.379712,6095.630336,5769.859072,5781.614592,5715.222528,5668.339712,5701.197824,5713.539072,5729.132544,5947.666432,5886.009344,5630.64832,6050.34496,5874.507776,5856.555008,6046.5152,6160.887808,5938.29888,6227.6608,6254.137344,5993.275392,5998.727168,6175.813632,6316.027904,6171.455488,6740.361216,7124.865024,7393.964032,7143.124992,7144.644608,7313.629184,7167.684608,7223.095296,7572.762624,7882.858496,7947.763712,7990.378496,7899.254784,7955.546112,8103.821312,7430.606848,7662.882816,7087.890432,6151.184384,6476.197888,5864.566784,5833.936896,5870.604288,5872.259072,5843.771392,5937.729536,5748.002816,5726.867456,5355.208704,5466.755072,5569.060864,5827.878912,5784.08448,6008.991744,6390.759424,6507.638784,6569.193472,6689.005568,6782.058496,6616.911872,6434.742272,5761.82272,6189.645824,6257.659904,6169.194496,6446.6944,6471.622656,6266.888192,6261.194752,6284.914688,6296.94464,6357.450752,6759.440384,6401.048576,6199.99232,6636.60544,6453.518336,6774.693888,7364.780032,7803.305984,8088.788992,8076.652544,8230.240256,7880.617984,7561.54368,7588.43392,7615.664128,7650.009088,7394.87744,7421.059072,7447.53152,7474.663424,6080.626688,6031.454208,6031.4624,6031.470592,6031.495168,5365.436416]}},\"id\":\"c8cb9375-471b-48a8-aa8a-978353e5b73e\",\"type\":\"ColumnDataSource\"},{\"attributes\":{},\"id\":\"23cd7403-bbbc-487a-afab-ac6e0159ff38\",\"type\":\"CategoricalTicker\"},{\"attributes\":{\"callback\":null,\"column_names\":[\"x\",\"y\"],\"data\":{\"x\":[0.0,0.25183616499998607,0.5031464120002056,0.7543836730001203,1.0058062610005436,1.2601568000009138,1.511539859999175,1.7629696240001067,2.014262898999732,2.2656973129996913,2.5171535659992514,2.7686158910000813,3.020021029000418,3.271416658999442,3.5229729839993524,3.7745489520002593,4.0261030410001695,4.277028784999857,4.527655608000714,4.778206228000272,5.029825691000951,5.280438088000665,5.5309565940006,5.782515438999326,6.034210182999232,6.287342609999541,6.538730546999432,6.790803265999784,7.041519791999235,7.292371059000288,7.543148328000825,7.793925530999331,8.04560336800023,8.296379430999878,8.548006380000515,8.799492557000121,9.050453304000257,9.30131223799981,9.552938975999496,9.804107891999593,10.056384429999525,10.307431216999248,10.55915516999994,10.810934551000173,11.062784191999526,11.314463836000868,11.566178085000502,11.818045620000703,12.069813509000596,12.32122665099996,12.572444842999175,12.823702538000362,13.07475527799943,13.326578199999858,13.578254399000798,13.82931753900084,14.080995034000807,14.332894823999595,14.58426637500088,14.837477556000522,15.089024889000939,15.340802094999162,15.59159990199987,15.842313470999215,16.093756921000022,16.345037715000217,16.595988320999822,16.84672489299919,17.097557318000327,17.348654051000267,17.60028955999951,17.851664018999145,18.103110702999402,18.35464927099929,18.60619151299943,18.857725522000692,19.108865236999918,19.3594453959995,19.61085698699935,19.862364517999595,20.113225836999845,20.363930793999316,20.615361435000523,20.866037068999503,21.11697130900029,21.368644119000237,21.620056122999813,21.87100656000075,22.122688047000338,22.374236056999507,22.625886690999323,22.87757610799963,23.12922616799915,23.38073891500062,23.632481369000743,23.88396825199925,24.13535721900007,24.386767440999392,24.638159010999516,24.889501585999824,25.1410374040006,25.39203197200004,25.643537636000474,25.895057622999957,26.14620785199986,26.39774376599962,26.649428254000668,26.9002623159995,27.151550603000942,27.402653343000566,27.65423974300029,27.90596869900037,28.157641130999764,28.409294219000003,28.66072569899916,28.911158042999887,29.162565217999145,29.414116641000874,29.665530296000725,29.91707699700055,30.168709044000934,30.42022232400086,30.670988997000677,30.92230695699982,31.17300461800005,31.424671200000375,31.67609149800046,31.92779363599948,32.179430722999314,32.43098604700026,32.68264444499982,32.93416135699954,33.185874225999214,33.43733220099966,33.68853402900095,33.939469090000784,34.19117024499974,34.44277801499993,34.694436797999515,34.94614324599934,35.19774272399991,35.449320646999695,35.70112976599921,35.95295631500085,36.20449256500069,36.456111670999235,36.70808272400063,36.959927240999605,37.21159146500031,37.46341616599966,37.715084047000346,37.96690598200075,38.21873200899972,38.470591171000706,38.722472637000465,38.97411861299952,39.22581138500027,39.47751115599931,39.72930508100035,39.981124755000565,40.23263454900007,40.48441801199988,40.73612723900078,40.987763200999325,41.23932093199983,41.49100473699946,41.742814870000075,41.99428162000004,42.245258774999456,42.4964114760005,42.74782044099993,42.99922078000054,43.24976445200082,43.50122083600036,43.75272131100064,44.00404988599985,44.25451988799978,44.50622510699941,44.75794987200061,45.009701164000944,45.2612661130006,45.51268702299967,45.76430784399963,46.01575759200023,46.2675563899993,46.51930127800006,46.77104814499944,47.02261962800003,47.274255484000605,47.525896822000504,47.777164873999936,48.02872115500031,48.27999379200082,48.53144780299954,48.78321359099937,49.03488573100003,49.286423494999326,49.53723842200088,49.787973095999405,50.03950322899982,50.29104246499992,50.54269643400039,50.794196557999385,51.04589275000035,51.296602754999185,51.548148678999496,51.7997762899995,52.05114283399962,52.30277259899958,52.55339685800027,52.8050062580005,53.056648519999726,53.3080658279996,53.558946527000444,53.81029809999927,54.06172192300073,54.313290578000306,54.564967595999406,54.81642924699918,55.06808976499997,55.31965226600005,55.57096955400084,55.82251113100028,56.07413517200075,56.325911631000054,56.57658725100009,56.82720522300042,57.07888090300003,57.330048424999404,57.58104362400081,57.83235432500078,58.08382260700091,58.33509469400087,58.58548913300001,58.836662058,59.088140705000114,59.339899290000176,59.59159155999987,59.84322641499966,60.0949292589994,60.34670951199951,60.59834028899968,60.84961187999943,61.1005026870007,61.35213840399956,61.60379153299982,61.854672081999524,62.10600577600053,62.357550721000734,62.6090703459995,62.86084947800009,63.11271829799989,63.36439440399954,63.61579460699977,63.867331735000334,64.11893491400042,64.37067688699972,64.62216519300091,64.87389694800004,65.12554572800036,65.37719447299969,65.62895599799958,65.88063987399983,66.13145280500066,66.38308547899942,66.63455759300086,66.88621009300005,67.13785272899986,67.38943106999977,67.64060671600055,67.89246190300037,68.14414256999953,68.39576324500013,68.64765030200033,68.89950560299985,69.15032259299915,69.40243780200035,69.65433615099937,69.90549372200076,70.15735907899943,70.40898187399944,70.66078646099959,70.91127630200026,71.16264740400038,71.41355572800057,71.6652126480003,71.91683829400063,72.16841485700024,72.42022664099932,72.67098981299932,72.92265155600035,73.17404149399954,73.42564812300043,73.67709800299963,73.92764988700037,74.1785263469992,74.43003930799932,74.68071823799983,74.93231125300008,75.18397699799971,75.43545345500024,75.68642829900091,75.93796333099999,76.18910311999934,76.44054478100043,76.69128744800037,76.94271866999952,77.19431023700054,77.44597015200088,77.69762720799918,77.9492565239998,78.20083720799994,78.45237776400063,78.70397121099995,78.95604249400094,79.20763343100043,79.45930998400036,79.71030745999997,79.96174896400044,80.21341885500078,80.46529614700012,80.71703300400077,80.9686121850009,81.22010326199961,81.47100577700076,81.72157616299955,81.97327534299984,82.22512345200084,82.47645656900022,82.72795330400004,82.97963336700013,83.23139134399935,83.48306652499923,83.73484245399959,83.98638955699971,84.23784750900086,84.4895041460004,84.74105516000054,84.99184101799983,85.24246173100073,85.49402181500045,85.74467651600025,85.99534854199919,86.24601941699984,86.49752593499943,86.74905788599972,87.00047018999976,87.25192810999943,87.50254841899914,87.7539512229996,88.00561448799999,88.25728187700042,88.50893717899999,88.75933554100084,89.0107703600006,89.26219868999942,89.51361288299995,89.76455912299934,90.01582947300085,90.26749487500092,90.5191671779994,90.77014651299942,91.02098667300015,91.27242267099973,91.52381333999983,91.77437159600049,92.02544041500005,92.27625948499917,92.5272844530009,92.77806134999992,93.02895841300051,93.28058697199958,93.53225668999949,93.78392942299979,94.03569322600015,94.28740219800056,94.53911991799941,94.79053699699944,95.04194039399954,95.2933465999995,95.54475493300015,95.796158354,96.04663413200069,96.29816660600045,96.5495820340002,96.80103204899933,97.05145770200033,97.30290483600038,97.55428185299934,97.80568654799936,98.05710480000016],\"y\":[0.0,100.1,99.69999999999999,100.1,97.9,99.9,100.7,101.7,205.2,195.5,212.09999999999997,302.0,300.0,361.99999999999994,401.3,396.09999999999997,464.09999999999997,476.4,348.3,337.59999999999997,430.4,430.4,430.4,513.0,597.0999999999999,602.0,591.7,599.9,699.6999999999999,700.0,615.6,540.9,624.0,639.4000000000001,645.0,702.4,734.0999999999999,743.9000000000001,755.5999999999999,757.9,767.3,767.9000000000001,736.8,700.8000000000001,767.2,763.9999999999999,700.0999999999999,693.0999999999999,691.2,576.4999999999999,629.9,617.0999999999999,628.8000000000001,654.8999999999999,658.4999999999999,643.9,576.4999999999999,642.6999999999999,672.9,692.4,536.9,506.49999999999994,517.0,515.7,487.4,499.20000000000005,487.40000000000003,537.1999999999999,452.49999999999994,387.5,326.0,371.8,378.7,410.99999999999994,495.49999999999994,502.7,495.9,500.00000000000006,546.6,511.7,452.7,446.5,482.6000000000001,487.3,395.3,492.3,503.7,499.8,533.4000000000001,595.1999999999999,521.9,438.59999999999997,438.59999999999997,504.59999999999997,498.29999999999995,405.4,467.79999999999995,400.2,346.99999999999994,387.8,391.3,394.0,503.3,452.20000000000005,401.9,482.6000000000001,496.59999999999997,428.4,472.90000000000003,401.5,398.3,483.90000000000003,448.00000000000006,369.79999999999995,303.3,300.1,337.6,393.99999999999994,403.0,439.2,497.8,502.3,458.8,405.5,397.7,388.8,383.00000000000006,400.7,401.7,477.2,501.8,500.8,435.0,400.3,400.50000000000006,411.0,489.9,500.4,501.90000000000003,502.7,579.4000000000001,601.3,602.8,565.2,404.8,491.90000000000003,497.49999999999994,500.70000000000005,501.3,565.9,601.0,597.9999999999999,602.7,601.1999999999999,621.4999999999999,692.6,697.3999999999999,619.9,522.1,454.4,497.79999999999995,502.1,431.00000000000006,440.79999999999995,503.1,497.99999999999994,341.4,331.3,300.59999999999997,302.2,375.2,396.3,301.5,385.8,402.2,401.90000000000003,470.09999999999997,502.5,502.49999999999994,499.2,501.1000000000001,551.8000000000001,497.0,440.90000000000003,399.59999999999997,440.2,401.50000000000006,398.4,451.3,498.79999999999995,499.90000000000003,498.6,583.4000000000001,599.5,603.8,398.79999999999995,353.90000000000003,396.5,407.9,450.40000000000003,478.59999999999997,399.9,353.59999999999997,391.59999999999997,404.79999999999995,417.2,481.0,400.2,432.4,490.7,449.7,380.4,348.00000000000006,399.1,303.2,339.09999999999997,400.1,400.79999999999995,476.20000000000005,453.5,401.49999999999994,452.6,498.2,402.1,364.8,392.4,403.90000000000003,448.00000000000006,500.8999999999999,501.3,415.40000000000003,375.3,318.59999999999997,302.1,300.2,393.2,399.8,398.8,495.8,499.40000000000003,502.0,499.99999999999994,512.1,591.8000000000001,590.8,444.2,328.7,395.59999999999997,401.99999999999994,405.8,501.19999999999993,419.4,346.09999999999997,368.5,402.20000000000005,402.79999999999995,494.8,500.0,457.0,472.90000000000003,497.40000000000003,400.09999999999997,414.80000000000007,502.90000000000003,484.4,401.5,480.0,499.8,501.59999999999997,502.1000000000001,441.09999999999997,447.1,501.70000000000005,502.8,500.20000000000005,500.09999999999997,551.8,595.3,500.1000000000001,399.90000000000003,397.2,465.00000000000006,399.0,403.40000000000003,467.29999999999995,497.90000000000003,469.2,390.49999999999994,494.30000000000007,471.4,338.9,366.90000000000003,383.8,299.09999999999997,387.8,358.79999999999995,298.09999999999997,377.59999999999997,400.2,373.7,365.29999999999995,402.50000000000006,398.0,409.40000000000003,399.59999999999997,401.5,462.40000000000003,495.20000000000005,420.40000000000003,396.6,490.99999999999994,496.50000000000006,499.7,507.6,601.4000000000001,589.5,520.2,504.6,534.1999999999999,498.80000000000007,504.8,502.3,495.8,561.1,546.5000000000001,450.6,401.2,426.40000000000003,498.7,499.40000000000003,496.30000000000007,428.7,499.59999999999997,436.5,420.99999999999994,494.40000000000003,489.59999999999997,403.3,447.70000000000005,505.40000000000003,341.59999999999997,217.70000000000002,285.09999999999997,298.8,341.0,397.7,402.79999999999995,445.09999999999997,499.8,498.2,503.7,500.90000000000003,419.40000000000003,403.1,368.8,385.0,399.59999999999997,433.8,431.8,400.1000000000001,399.6,498.59999999999997,400.49999999999994,399.2,472.9,493.8999999999999,501.0,441.5,501.20000000000005,497.3,502.8,493.7,502.09999999999997,501.90000000000003,501.9,501.6000000000001,386.0,237.9,201.1,199.79999999999998,204.1,147.0,101.80000000000001,101.30000000000001,101.3,101.7,101.0,101.2,101.4,101.89999999999999,101.39999999999998]}},\"id\":\"7530da11-1800-409b-b271-c4f22eb7e242\",\"type\":\"ColumnDataSource\"},{\"attributes\":{\"dimension\":1,\"grid_line_color\":{\"value\":null},\"plot\":{\"id\":\"11acc395-115c-4039-b474-3843e5c6d1d6\",\"subtype\":\"Figure\",\"type\":\"Plot\"},\"ticker\":{\"id\":\"23cd7403-bbbc-487a-afab-ac6e0159ff38\",\"type\":\"CategoricalTicker\"}},\"id\":\"32faf020-9d27-4888-9a23-ee5ecd4ca5aa\",\"type\":\"Grid\"},{\"attributes\":{\"fill_alpha\":{\"value\":0.1},\"fill_color\":{\"value\":\"#1f77b4\"},\"height\":{\"units\":\"data\",\"value\":1},\"line_alpha\":{\"value\":0.1},\"line_color\":{\"value\":\"#1f77b4\"},\"width\":{\"field\":\"width\",\"units\":\"data\"},\"x\":{\"field\":\"x\"},\"y\":{\"field\":\"y\"}},\"id\":\"dbf0f633-c9e2-4a26-a41b-bb43fd443d15\",\"type\":\"Rect\"},{\"attributes\":{\"callback\":null,\"column_names\":[\"width\",\"x\",\"y\",\"function\",\"color\",\"key\"],\"data\":{\"color\":[\"#440154\",\"#440154\",\"#440154\",\"#440154\",\"#440154\",\"#440154\",\"#440154\",\"#440154\",\"#440154\",\"#440154\",\"#440154\",\"#440154\",\"#440154\",\"#440154\",\"#440154\",\"#440154\",\"#440154\",\"#440154\",\"#440154\",\"#440154\",\"#440154\",\"#440154\",\"#440154\",\"#440154\",\"#440154\",\"#440154\",\"#440154\",\"#440154\",\"#440154\",\"#440154\",\"#440154\",\"#440154\",\"#440154\",\"#440154\",\"#440154\",\"#440154\",\"#440154\",\"#440154\",\"#440154\",\"#440154\",\"#440154\",\"#440154\",\"#440154\",\"#440154\",\"#440154\",\"#440154\",\"#440154\",\"#440154\",\"#440154\",\"#440154\",\"#440154\",\"#440154\",\"#440154\",\"#440154\",\"#440154\",\"#440154\",\"#440154\",\"#440154\",\"#440154\",\"#440154\",\"#440154\",\"#440154\",\"#440154\",\"#440154\",\"#440154\",\"#440154\",\"#440154\",\"#440154\",\"#440154\",\"#440154\",\"#440154\",\"#440154\",\"#440154\",\"#440154\",\"#440154\",\"#440154\",\"#440154\",\"#440154\",\"#440154\",\"#440154\",\"#440154\",\"#440154\",\"#440154\",\"#440154\",\"#440154\",\"#440154\",\"#440154\",\"#440154\",\"#440154\",\"#440154\",\"#440154\",\"#440154\",\"#440154\",\"#440154\",\"#440154\",\"#440154\",\"#440154\",\"#440154\",\"#440154\",\"#440154\",\"#208F8C\"],\"function\":[\"module2regulome_numba_impl(...)\",\"module2regulome_numba_impl(...)\",\"module2regulome_numba_impl(...)\",\"module2regulome_numba_impl(...)\",\"module2regulome_numba_impl(...)\",\"module2regulome_numba_impl(...)\",\"module2regulome_numba_impl(...)\",\"module2regulome_numba_impl(...)\",\"module2regulome_numba_impl(...)\",\"module2regulome_numba_impl(...)\",\"module2regulome_numba_impl(...)\",\"module2regulome_numba_impl(...)\",\"module2regulome_numba_impl(...)\",\"module2regulome_numba_impl(...)\",\"module2regulome_numba_impl(...)\",\"module2regulome_numba_impl(...)\",\"module2regulome_numba_impl(...)\",\"module2regulome_numba_impl(...)\",\"module2regulome_numba_impl(...)\",\"module2regulome_numba_impl(...)\",\"module2regulome_numba_impl(...)\",\"module2regulome_numba_impl(...)\",\"module2regulome_numba_impl(...)\",\"module2regulome_numba_impl(...)\",\"module2regulome_numba_impl(...)\",\"module2regulome_numba_impl(...)\",\"module2regulome_numba_impl(...)\",\"module2regulome_numba_impl(...)\",\"module2regulome_numba_impl(...)\",\"module2regulome_numba_impl(...)\",\"module2regulome_numba_impl(...)\",\"module2regulome_numba_impl(...)\",\"module2regulome_numba_impl(...)\",\"module2regulome_numba_impl(...)\",\"module2regulome_numba_impl(...)\",\"module2regulome_numba_impl(...)\",\"module2regulome_numba_impl(...)\",\"module2regulome_numba_impl(...)\",\"module2regulome_numba_impl(...)\",\"module2regulome_numba_impl(...)\",\"module2regulome_numba_impl(...)\",\"module2regulome_numba_impl(...)\",\"module2regulome_numba_impl(...)\",\"module2regulome_numba_impl(...)\",\"module2regulome_numba_impl(...)\",\"module2regulome_numba_impl(...)\",\"module2regulome_numba_impl(...)\",\"module2regulome_numba_impl(...)\",\"module2regulome_numba_impl(...)\",\"module2regulome_numba_impl(...)\",\"module2regulome_numba_impl(...)\",\"module2regulome_numba_impl(...)\",\"module2regulome_numba_impl(...)\",\"module2regulome_numba_impl(...)\",\"module2regulome_numba_impl(...)\",\"module2regulome_numba_impl(...)\",\"module2regulome_numba_impl(...)\",\"module2regulome_numba_impl(...)\",\"module2regulome_numba_impl(...)\",\"module2regulome_numba_impl(...)\",\"module2regulome_numba_impl(...)\",\"module2regulome_numba_impl(...)\",\"module2regulome_numba_impl(...)\",\"module2regulome_numba_impl(...)\",\"module2regulome_numba_impl(...)\",\"module2regulome_numba_impl(...)\",\"module2regulome_numba_impl(...)\",\"module2regulome_numba_impl(...)\",\"module2regulome_numba_impl(...)\",\"module2regulome_numba_impl(...)\",\"module2regulome_numba_impl(...)\",\"module2regulome_numba_impl(...)\",\"module2regulome_numba_impl(...)\",\"module2regulome_numba_impl(...)\",\"module2regulome_numba_impl(...)\",\"module2regulome_numba_impl(...)\",\"module2regulome_numba_impl(...)\",\"module2regulome_numba_impl(...)\",\"module2regulome_numba_impl(...)\",\"module2regulome_numba_impl(...)\",\"module2regulome_numba_impl(...)\",\"module2regulome_numba_impl(...)\",\"module2regulome_numba_impl(...)\",\"module2regulome_numba_impl(...)\",\"module2regulome_numba_impl(...)\",\"module2regulome_numba_impl(...)\",\"module2regulome_numba_impl(...)\",\"module2regulome_numba_impl(...)\",\"module2regulome_numba_impl(...)\",\"module2regulome_numba_impl(...)\",\"module2regulome_numba_impl(...)\",\"module2regulome_numba_impl(...)\",\"module2regulome_numba_impl(...)\",\"module2regulome_numba_impl(...)\",\"module2regulome_numba_impl(...)\",\"module2regulome_numba_impl(...)\",\"module2regulome_numba_impl(...)\",\"module2regulome_numba_impl(...)\",\"module2regulome_numba_impl(...)\",\"module2regulome_numba_impl(...)\",\"list([_, _, _, ...])\"],\"key\":[\"module2regulome_numba_impl-0184a2b9-b7cf-42a6-aeb9-a7bd308975c8\",\"module2regulome_numba_impl-077efafa-9e90-44bd-86b2-66d17ddc4cc3\",\"module2regulome_numba_impl-07c237d7-cfb2-4a4a-8133-facbbd8f0c72\",\"module2regulome_numba_impl-16399e8c-adf9-487e-ba33-a5bd6ee824bd\",\"module2regulome_numba_impl-167c3213-9897-4718-a2b5-859f71680c08\",\"module2regulome_numba_impl-1770a9dd-121c-4c72-aaa1-635a96916379\",\"module2regulome_numba_impl-1fe056fe-3a06-4e7c-bec0-dbeb3a057ac3\",\"module2regulome_numba_impl-2076e148-9987-450c-a444-036a50b321ab\",\"module2regulome_numba_impl-228360dc-73dc-4a88-af7f-2dd5a89ff641\",\"module2regulome_numba_impl-241180e9-8fda-4605-acba-a029106db70f\",\"module2regulome_numba_impl-25e18b9e-9f02-48da-8a24-4631d520c224\",\"module2regulome_numba_impl-26e20200-2ee1-4382-8e20-1ce9cf9783ea\",\"module2regulome_numba_impl-2c12dc6f-b3c0-47c8-b570-2428258bf07a\",\"module2regulome_numba_impl-2c3650f0-beca-4bb4-9f90-b867a629be5a\",\"module2regulome_numba_impl-2e369895-6284-42a2-8b52-da0bc6b20067\",\"module2regulome_numba_impl-2e8146f9-c414-4dd7-b3ce-692e808d1e59\",\"module2regulome_numba_impl-2ecc7ec6-015f-4d24-9568-f6f839413ada\",\"module2regulome_numba_impl-2f555a6f-a5af-4fb5-817c-428ac597189c\",\"module2regulome_numba_impl-371de676-ffe1-4e67-a641-3f4350a771ab\",\"module2regulome_numba_impl-37a24aa3-40c2-4b4d-92b6-ee17fe7e4ff7\",\"module2regulome_numba_impl-387a39cb-414b-465a-9aae-e4c6456efc9c\",\"module2regulome_numba_impl-391faf42-4fc9-44e4-abcb-2c92ce99e40d\",\"module2regulome_numba_impl-3952fae2-cce9-434b-a88c-a68300d6a7fc\",\"module2regulome_numba_impl-3b097884-3b8a-4d51-a9b5-153c86b6d291\",\"module2regulome_numba_impl-3dbdf240-95ae-4d58-8f6c-6cfba139d1cb\",\"module2regulome_numba_impl-3e32b5f2-a3c0-4452-bd43-c91f9b515382\",\"module2regulome_numba_impl-3f23edd3-4079-48b7-9d43-fafe63b2c674\",\"module2regulome_numba_impl-44b440bb-8ee0-44a3-968b-e0e962023321\",\"module2regulome_numba_impl-4c860dab-bb8c-4972-a20a-99431e584c1e\",\"module2regulome_numba_impl-4cac3ed0-e0f0-4f81-8dc8-ed4bfdeb3332\",\"module2regulome_numba_impl-4e042dd2-2a01-40f9-b3d4-f715d0962f97\",\"module2regulome_numba_impl-4e10b60d-5605-4b70-8833-29f7d4b73a31\",\"module2regulome_numba_impl-4ff3c57a-a143-4d42-8ebe-d758412b45a0\",\"module2regulome_numba_impl-4ff60cff-5cd7-4a7f-9f82-d0c01a55cf86\",\"module2regulome_numba_impl-51a081bf-68b6-4071-8187-e4918532d858\",\"module2regulome_numba_impl-540ec926-353f-4722-97cc-49e13a3d8930\",\"module2regulome_numba_impl-592fed77-6ae7-4efd-97b6-3101c368e3b0\",\"module2regulome_numba_impl-5a3b67ab-5d39-485f-8dbc-6e8b5413f7b7\",\"module2regulome_numba_impl-5ae76fa6-fbb8-49ff-8b31-ac31937355eb\",\"module2regulome_numba_impl-5c827b6c-c506-45c0-a6e9-f8db03530095\",\"module2regulome_numba_impl-609e0616-865e-44dd-8506-7738c03f9423\",\"module2regulome_numba_impl-65222c8c-430e-4fc9-85f9-2d8cc087ad22\",\"module2regulome_numba_impl-6d013127-f2eb-4405-8ffa-bce9efbf91e8\",\"module2regulome_numba_impl-6fe63054-1dd2-4114-ab66-087dc1cf3359\",\"module2regulome_numba_impl-72ac1949-c07e-468c-a2f4-a25b00f3ba52\",\"module2regulome_numba_impl-7604f111-0f58-47da-89e5-ff62d3bb6d4f\",\"module2regulome_numba_impl-77709ba2-08a4-4c93-9b46-061e63b60fc6\",\"module2regulome_numba_impl-7c03955c-7d8a-4f27-b5a1-930cd4c8c28b\",\"module2regulome_numba_impl-7df46f3a-07f4-495f-b25b-68a0f88a0a13\",\"module2regulome_numba_impl-815abcaf-1a14-4e2a-a9b2-e643ed0e32b0\",\"module2regulome_numba_impl-87de4a6e-8b44-48ef-a80f-bc7dbaf95443\",\"module2regulome_numba_impl-8a2cd402-016d-4d06-b653-7fbb4114befb\",\"module2regulome_numba_impl-8a2f12bf-3e63-4985-b51e-dda752b9d9fe\",\"module2regulome_numba_impl-8aa0d40d-119a-4623-aab1-49b40cd1be25\",\"module2regulome_numba_impl-8d91d3c3-46a2-46fd-8e1d-b4538cec915f\",\"module2regulome_numba_impl-9083ae38-8550-44a9-bec1-554d018e3927\",\"module2regulome_numba_impl-956aa71b-522f-4642-96b3-ae4f7b5cc4db\",\"module2regulome_numba_impl-97476f5d-a55e-4999-8bac-fe0ecc0b4314\",\"module2regulome_numba_impl-977b350b-9fb9-40d4-97cc-817fcfb26a5d\",\"module2regulome_numba_impl-980384a8-4050-4e79-997f-2283ef898676\",\"module2regulome_numba_impl-980d0124-f847-48aa-8ee8-55f21e4d7bc6\",\"module2regulome_numba_impl-9cb635d7-ef92-4840-a44c-828a6e0273c3\",\"module2regulome_numba_impl-9df2e722-c0be-4f8a-b330-92c6ad3aff57\",\"module2regulome_numba_impl-9ecbb3eb-6ff6-4549-9092-b6732dff36e1\",\"module2regulome_numba_impl-9f9351f1-1c57-452a-9c5d-c583b5a32ec8\",\"module2regulome_numba_impl-a1f84ed5-3b58-4d27-8634-3683ec8e6b6b\",\"module2regulome_numba_impl-a306fdf9-0ddd-47a5-bf23-06392206fc74\",\"module2regulome_numba_impl-a3feb988-74ea-43a8-9f55-7f3e4a2afa17\",\"module2regulome_numba_impl-a7d4462f-8dd7-4c2d-83c0-f816c0217818\",\"module2regulome_numba_impl-a80ff9fe-a292-4154-8545-67bb6b1f648e\",\"module2regulome_numba_impl-aa595949-1bb8-479a-ab9c-1b9c14e715a2\",\"module2regulome_numba_impl-ab883d74-f4cd-4153-b995-dfb22c27162f\",\"module2regulome_numba_impl-abcedbae-61ec-455c-97eb-22380f750f64\",\"module2regulome_numba_impl-adcf64c1-6c00-4eee-9214-6f673ae0d8bb\",\"module2regulome_numba_impl-af15e3d4-de01-4191-bed9-2aef9408cb9a\",\"module2regulome_numba_impl-b9faa963-cc7d-4ce7-b20e-020368f785b8\",\"module2regulome_numba_impl-bb9fe162-bad8-47ea-a91d-3e4793a90982\",\"module2regulome_numba_impl-bbbdecd2-00cd-4a9d-afda-75f564a61b18\",\"module2regulome_numba_impl-bca46854-591e-4f6a-a26b-b2130394ebf1\",\"module2regulome_numba_impl-bcce85e6-79f9-4f3d-a722-65f2b26ae2da\",\"module2regulome_numba_impl-c3f5bc3d-a838-40e0-8cd2-07c5c5337977\",\"module2regulome_numba_impl-c8d730f7-9770-47c9-b87d-52023f246931\",\"module2regulome_numba_impl-ca90f269-8679-4c0f-8ba5-319eaa020a84\",\"module2regulome_numba_impl-cad7f7d8-03fb-43d5-8420-a9cd0919d778\",\"module2regulome_numba_impl-d0b96adf-9c89-48f8-a6c3-a75d994d4dff\",\"module2regulome_numba_impl-d1654054-55bb-421b-bc2f-3b3fa1722051\",\"module2regulome_numba_impl-d16d067c-e46c-4e50-8648-88c1055bac29\",\"module2regulome_numba_impl-da36238d-1372-494b-b180-9bf84e875d43\",\"module2regulome_numba_impl-def7eb1f-7786-4a25-8355-09f1d03f24ae\",\"module2regulome_numba_impl-df3ac383-f8a3-4d4b-b7e9-1b88b5918ffb\",\"module2regulome_numba_impl-e177ba43-453f-42a8-bf2d-05c98f9c78da\",\"module2regulome_numba_impl-e32c5356-35ad-42d8-b844-f0315b41772a\",\"module2regulome_numba_impl-e924ec72-4ef2-4c4d-8e52-b6534fc3a9b0\",\"module2regulome_numba_impl-e966e37e-2fd5-4384-9b9e-e3170383d481\",\"module2regulome_numba_impl-ea5dd257-99d9-41b4-bc1e-375e9c4a1535\",\"module2regulome_numba_impl-eea71468-cf0a-46e4-b205-16833161dba7\",\"module2regulome_numba_impl-ef55f9d9-75d8-45a2-8168-9317daeb9ac9\",\"module2regulome_numba_impl-f4386e62-6415-4ef0-bc06-3dc025870c92\",\"module2regulome_numba_impl-f68be856-2409-4689-836a-edfead425f91\",\"module2regulome_numba_impl-fb02e409-73d1-4889-a965-13da9d6c8139\",\"list_of_filter-5b3fdb70-f6b3-448d-a6d0-4fbe51690151\"],\"width\":[6.692624789000547,14.923526673999731,6.396984699998939,7.6865380450017255,10.004258015000232,13.572134808000555,11.946909231000973,8.684321796001313,4.5412028540013125,11.348859685000207,8.645173871000225,8.773433323998688,8.17112770699896,8.505239441999947,6.369685157000276,7.069514442999207,7.834766001000389,5.929081173000668,6.686950080000315,6.567803382999045,7.024793488000796,6.784491668000555,4.52315723600077,7.621154520998971,6.110120744999222,4.560103947000243,6.247333987999809,6.215411131999645,6.51324909700088,7.104906267999468,7.485222302999318,11.165454575000695,8.412813141998413,6.387238707000506,10.90609310400032,6.979583629999979,7.548537864999162,7.105934606001028,7.985167323999121,7.643769345000692,7.213912560000608,7.192051308998998,8.019569717000195,6.700672865001252,8.228444620001028,8.15062241600026,5.460336760001155,7.687400979000813,6.053185534001386,7.368982695999875,5.364290974001051,6.40327793600045,7.2130435229992145,5.454124283000056,7.338011485999232,7.555684103999738,4.852243843000906,7.208132907999243,9.50776726300137,6.255937470999925,6.488751594999485,7.773545965001176,5.2998730769995746,7.112234684000214,7.292440691000593,11.920998191999388,10.407214145998296,5.804324026999893,6.341595669000526,6.278371148999213,6.4516909689991735,9.351773013000638,6.475940174999778,7.538335893999829,4.815139246000399,7.463243361000423,5.465753581000172,6.806418415000735,7.343202598000062,11.28227200999936,6.881249119000131,7.0786598100003175,9.615763231000528,7.21422389899999,5.246841012000004,9.888577677000285,7.141715469999326,4.986123149999912,5.926261730999613,8.232627262001188,6.42171990099996,4.740348519999316,6.7027601360005065,5.988625821999449,9.725327173999176,4.081908326999837,4.983456890000525,4.0276605669987475,3.028655111998887,3.518307205000383,0.1738850130004721],\"x\":[3.3463123945002735,8.089777531000436,4.577938064001501,5.837685592501657,7.763718737500312,10.430781762001061,10.457758175500203,9.983326044000933,8.963236170000528,13.450869705500736,14.003550933499355,15.620563068001502,16.85141939750065,18.578118512999936,18.73639111349985,19.965976100500484,21.13423883950054,21.290686150499823,22.468779809001717,23.2911874575002,24.449387021999428,25.313485627000773,25.092324290999386,27.311329934500463,27.310293080499832,27.331679606500984,28.935927836999326,29.68280065500221,30.61053305150199,31.514242367000406,32.448348907500986,35.19446445349968,34.57176528900163,34.315532304501176,37.512647413001105,36.280304072000945,37.64143305049947,38.61966995400144,40.183555831001286,41.33104708150131,42.38513458200032,43.36613014549948,44.78698392549995,44.766046204500526,46.28686649800147,47.0410123340007,46.90631630200005,48.99663971150039,49.01869036400058,50.646653907000655,50.7985367830006,51.99841441100216,53.24301386750085,53.12815685950045,54.78533705100199,55.82313132499985,55.266468199501105,57.08475482200083,59.0850367564999,58.32802871950116,59.09960137750022,60.736314470501384,60.342536121501325,62.01046692100135,63.247200652502215,66.64932925700123,66.65961110600074,65.24614586949974,66.16327682250085,66.97811374150115,67.84893854450092,70.24247771950104,70.13140096950156,71.91748624600223,71.74165120299949,73.8489280294998,73.80766739650062,75.26643405849973,76.2814365840004,79.01051315400036,77.58985177649993,78.45770146900031,80.49454606650033,80.1476630185025,80.20397910199972,83.61394208850106,83.52390862900029,83.52354472700063,84.96016927849996,86.94371991700064,86.96564361250057,87.02182948900008,88.65383445599946,89.01092532700022,91.95743621099973,89.96427474850134,91.04996679200121,91.40584104950176,91.69083916599993,92.81919460149948,96.90704901450226],\"y\":[7,1,8,6,4,2,3,5,7,8,6,7,4,5,1,3,2,6,8,7,4,1,5,3,6,2,8,7,5,4,1,2,6,3,8,7,5,4,1,3,6,7,2,5,4,8,1,3,6,7,5,2,1,4,8,6,3,5,7,2,4,1,3,8,6,5,2,4,3,7,1,8,6,4,3,7,1,2,5,6,3,8,4,1,7,2,5,3,8,7,1,6,4,3,5,8,2,6,1,7,4]}},\"id\":\"05ac24df-b05d-4286-8ef2-9babbba8773f\",\"type\":\"ColumnDataSource\"}],\"root_ids\":[\"6bbf5409-7fa8-4f9d-8f05-ce77da445e44\"]},\"title\":\"Bokeh Application\",\"version\":\"0.12.13\"}};\n",
       "  var render_items = [{\"docid\":\"475bf76c-b52c-4fba-beb9-f8e2fec819de\",\"elementid\":\"654d46b8-d81c-45e6-8b20-109cc8821119\",\"modelid\":\"6bbf5409-7fa8-4f9d-8f05-ce77da445e44\"}];\n",
       "  root.Bokeh.embed.embed_items_notebook(docs_json, render_items);\n",
       "\n",
       "  }\n",
       "  if (root.Bokeh !== undefined) {\n",
       "    embed_document(root);\n",
       "  } else {\n",
       "    var attempts = 0;\n",
       "    var timer = setInterval(function(root) {\n",
       "      if (root.Bokeh !== undefined) {\n",
       "        embed_document(root);\n",
       "        clearInterval(timer);\n",
       "      }\n",
       "      attempts++;\n",
       "      if (attempts > 100) {\n",
       "        console.log(\"Bokeh: ERROR: Unable to run BokehJS code because BokehJS library is missing\")\n",
       "        clearInterval(timer);\n",
       "      }\n",
       "    }, 10, root)\n",
       "  }\n",
       "})(window);"
      ],
      "application/vnd.bokehjs_exec.v0+json": ""
     },
     "metadata": {
      "application/vnd.bokehjs_exec.v0+json": {
       "id": "6bbf5409-7fa8-4f9d-8f05-ce77da445e44"
      }
     },
     "output_type": "display_data"
    },
    {
     "data": {
      "text/html": [
       "<div style=\"display: table;\"><div style=\"display: table-row;\"><div style=\"display: table-cell;\"><b title=\"bokeh.models.layouts.Column\">Column</b>(</div><div style=\"display: table-cell;\">id&nbsp;=&nbsp;'6bbf5409-7fa8-4f9d-8f05-ce77da445e44', <span id=\"cc22227d-a84d-41d4-998c-a5f98acf973f\" style=\"cursor: pointer;\">&hellip;)</span></div></div><div class=\"9fccff47-01b1-434a-96a7-df49ba3c1389\" style=\"display: none;\"><div style=\"display: table-cell;\"></div><div style=\"display: table-cell;\">children&nbsp;=&nbsp;[ToolbarBox(id='c5d83594-e2b8-4b0f-bafd-f06973d79256', ...), Column(id='6b74a7b9-ac45-4051-b684-da7ab994c4d6', ...)],</div></div><div class=\"9fccff47-01b1-434a-96a7-df49ba3c1389\" style=\"display: none;\"><div style=\"display: table-cell;\"></div><div style=\"display: table-cell;\">css_classes&nbsp;=&nbsp;[],</div></div><div class=\"9fccff47-01b1-434a-96a7-df49ba3c1389\" style=\"display: none;\"><div style=\"display: table-cell;\"></div><div style=\"display: table-cell;\">disabled&nbsp;=&nbsp;False,</div></div><div class=\"9fccff47-01b1-434a-96a7-df49ba3c1389\" style=\"display: none;\"><div style=\"display: table-cell;\"></div><div style=\"display: table-cell;\">height&nbsp;=&nbsp;None,</div></div><div class=\"9fccff47-01b1-434a-96a7-df49ba3c1389\" style=\"display: none;\"><div style=\"display: table-cell;\"></div><div style=\"display: table-cell;\">js_event_callbacks&nbsp;=&nbsp;{},</div></div><div class=\"9fccff47-01b1-434a-96a7-df49ba3c1389\" style=\"display: none;\"><div style=\"display: table-cell;\"></div><div style=\"display: table-cell;\">js_property_callbacks&nbsp;=&nbsp;{},</div></div><div class=\"9fccff47-01b1-434a-96a7-df49ba3c1389\" style=\"display: none;\"><div style=\"display: table-cell;\"></div><div style=\"display: table-cell;\">name&nbsp;=&nbsp;None,</div></div><div class=\"9fccff47-01b1-434a-96a7-df49ba3c1389\" style=\"display: none;\"><div style=\"display: table-cell;\"></div><div style=\"display: table-cell;\">sizing_mode&nbsp;=&nbsp;'fixed',</div></div><div class=\"9fccff47-01b1-434a-96a7-df49ba3c1389\" style=\"display: none;\"><div style=\"display: table-cell;\"></div><div style=\"display: table-cell;\">subscribed_events&nbsp;=&nbsp;[],</div></div><div class=\"9fccff47-01b1-434a-96a7-df49ba3c1389\" style=\"display: none;\"><div style=\"display: table-cell;\"></div><div style=\"display: table-cell;\">tags&nbsp;=&nbsp;[],</div></div><div class=\"9fccff47-01b1-434a-96a7-df49ba3c1389\" style=\"display: none;\"><div style=\"display: table-cell;\"></div><div style=\"display: table-cell;\">width&nbsp;=&nbsp;None)</div></div></div>\n",
       "<script>\n",
       "(function() {\n",
       "  var expanded = false;\n",
       "  var ellipsis = document.getElementById(\"cc22227d-a84d-41d4-998c-a5f98acf973f\");\n",
       "  ellipsis.addEventListener(\"click\", function() {\n",
       "    var rows = document.getElementsByClassName(\"9fccff47-01b1-434a-96a7-df49ba3c1389\");\n",
       "    for (var i = 0; i < rows.length; i++) {\n",
       "      var el = rows[i];\n",
       "      el.style.display = expanded ? \"none\" : \"table-row\";\n",
       "    }\n",
       "    ellipsis.innerHTML = expanded ? \"&hellip;)\" : \"&lsaquo;&lsaquo;&lsaquo;\";\n",
       "    expanded = !expanded;\n",
       "  });\n",
       "})();\n",
       "</script>\n"
      ],
      "text/plain": [
       "Column(id='6bbf5409-7fa8-4f9d-8f05-ce77da445e44', ...)"
      ]
     },
     "execution_count": 17,
     "metadata": {},
     "output_type": "execute_result"
    }
   ],
   "source": [
    "visualize([prof, rprof, cprof])"
   ]
  },
  {
   "cell_type": "markdown",
   "metadata": {},
   "source": [
    "#### Dask with custom client\n",
    "\n",
    "BUG: The workers seem to be dying."
   ]
  },
  {
   "cell_type": "code",
   "execution_count": 26,
   "metadata": {},
   "outputs": [],
   "source": [
    "local_cluster = LocalCluster(n_workers=6, \n",
    "                             threads_per_worker=1)\n",
    "\n",
    "custom_client = Client(local_cluster)"
   ]
  },
  {
   "cell_type": "code",
   "execution_count": 27,
   "metadata": {},
   "outputs": [
    {
     "data": {
      "text/html": [
       "<table style=\"border: 2px solid white;\">\n",
       "<tr>\n",
       "<td style=\"vertical-align: top; border: 0px solid white\">\n",
       "<h3>Client</h3>\n",
       "<ul>\n",
       "  <li><b>Scheduler: </b>tcp://127.0.0.1:52900\n",
       "  <li><b>Dashboard: </b><a href='http://127.0.0.1:52901' target='_blank'>http://127.0.0.1:52901</a>\n",
       "</ul>\n",
       "</td>\n",
       "<td style=\"vertical-align: top; border: 0px solid white\">\n",
       "<h3>Cluster</h3>\n",
       "<ul>\n",
       "  <li><b>Workers: </b>6</li>\n",
       "  <li><b>Cores: </b>6</li>\n",
       "  <li><b>Memory: </b>12.88 GB</li>\n",
       "</ul>\n",
       "</td>\n",
       "</tr>\n",
       "</table>"
      ],
      "text/plain": [
       "<Client: scheduler='tcp://127.0.0.1:52900' processes=6 cores=6>"
      ]
     },
     "execution_count": 27,
     "metadata": {},
     "output_type": "execute_result"
    }
   ],
   "source": [
    "custom_client"
   ]
  },
  {
   "cell_type": "code",
   "execution_count": 28,
   "metadata": {},
   "outputs": [],
   "source": [
    "regulomes = derive_regulomes(dbs[0:2],\n",
    "                             modules[0:50],\n",
    "                             MOTIF_ANNOTATIONS_FNAME,\n",
    "                             client_or_address=custom_client)"
   ]
  },
  {
   "cell_type": "code",
   "execution_count": 29,
   "metadata": {},
   "outputs": [
    {
     "data": {
      "text/html": [
       "<b>Future: list_of_filter</b> <font color=\"gray\">status: </font><font color=\"black\">pending</font>, <font color=\"gray\">key: </font>list_of_filter-eed1ba02-754b-4e7d-ac52-ecc116540e2e"
      ],
      "text/plain": [
       "<Future: status: pending, key: list_of_filter-eed1ba02-754b-4e7d-ac52-ecc116540e2e>"
      ]
     },
     "execution_count": 29,
     "metadata": {},
     "output_type": "execute_result"
    },
    {
     "name": "stderr",
     "output_type": "stream",
     "text": [
      "tornado.application - ERROR - Exception in callback <bound method Nanny.memory_monitor of <Nanny: tcp://127.0.0.1:52913, threads: 1>>\n",
      "Traceback (most recent call last):\n",
      "  File \"/Users/bramvandesande/miniconda3/envs/pyscenic_dev/lib/python3.6/site-packages/psutil/_psosx.py\", line 348, in catch_zombie\n",
      "    yield\n",
      "  File \"/Users/bramvandesande/miniconda3/envs/pyscenic_dev/lib/python3.6/site-packages/psutil/_psosx.py\", line 387, in _get_pidtaskinfo\n",
      "    ret = cext.proc_pidtaskinfo_oneshot(self.pid)\n",
      "ProcessLookupError: [Errno 3] No such process\n",
      "\n",
      "During handling of the above exception, another exception occurred:\n",
      "\n",
      "Traceback (most recent call last):\n",
      "  File \"/Users/bramvandesande/miniconda3/envs/pyscenic_dev/lib/python3.6/site-packages/tornado/ioloop.py\", line 1026, in _run\n",
      "    return self.callback()\n",
      "  File \"/Users/bramvandesande/miniconda3/envs/pyscenic_dev/lib/python3.6/site-packages/distributed/nanny.py\", line 245, in memory_monitor\n",
      "    memory = psutil.Process(self.process.pid).memory_info().rss\n",
      "  File \"/Users/bramvandesande/miniconda3/envs/pyscenic_dev/lib/python3.6/site-packages/psutil/_common.py\", line 337, in wrapper\n",
      "    return fun(self)\n",
      "  File \"/Users/bramvandesande/miniconda3/envs/pyscenic_dev/lib/python3.6/site-packages/psutil/__init__.py\", line 1049, in memory_info\n",
      "    return self._proc.memory_info()\n",
      "  File \"/Users/bramvandesande/miniconda3/envs/pyscenic_dev/lib/python3.6/site-packages/psutil/_psosx.py\", line 330, in wrapper\n",
      "    return fun(self, *args, **kwargs)\n",
      "  File \"/Users/bramvandesande/miniconda3/envs/pyscenic_dev/lib/python3.6/site-packages/psutil/_psosx.py\", line 456, in memory_info\n",
      "    rawtuple = self._get_pidtaskinfo()\n",
      "  File \"/Users/bramvandesande/miniconda3/envs/pyscenic_dev/lib/python3.6/site-packages/psutil/_common.py\", line 337, in wrapper\n",
      "    return fun(self)\n",
      "  File \"/Users/bramvandesande/miniconda3/envs/pyscenic_dev/lib/python3.6/site-packages/psutil/_psosx.py\", line 387, in _get_pidtaskinfo\n",
      "    ret = cext.proc_pidtaskinfo_oneshot(self.pid)\n",
      "  File \"/Users/bramvandesande/miniconda3/envs/pyscenic_dev/lib/python3.6/contextlib.py\", line 99, in __exit__\n",
      "    self.gen.throw(type, value, traceback)\n",
      "  File \"/Users/bramvandesande/miniconda3/envs/pyscenic_dev/lib/python3.6/site-packages/psutil/_psosx.py\", line 361, in catch_zombie\n",
      "    raise AccessDenied(proc.pid, proc._name)\n",
      "psutil._exceptions.AccessDenied: psutil.AccessDenied (pid=7683)\n",
      "tornado.application - ERROR - Exception in callback <bound method Nanny.memory_monitor of <Nanny: tcp://127.0.0.1:52913, threads: 1>>\n",
      "Traceback (most recent call last):\n",
      "  File \"/Users/bramvandesande/miniconda3/envs/pyscenic_dev/lib/python3.6/site-packages/psutil/_psosx.py\", line 348, in catch_zombie\n",
      "    yield\n",
      "  File \"/Users/bramvandesande/miniconda3/envs/pyscenic_dev/lib/python3.6/site-packages/psutil/_psosx.py\", line 387, in _get_pidtaskinfo\n",
      "    ret = cext.proc_pidtaskinfo_oneshot(self.pid)\n",
      "ProcessLookupError: [Errno 3] No such process\n",
      "\n",
      "During handling of the above exception, another exception occurred:\n",
      "\n",
      "Traceback (most recent call last):\n",
      "  File \"/Users/bramvandesande/miniconda3/envs/pyscenic_dev/lib/python3.6/site-packages/tornado/ioloop.py\", line 1026, in _run\n",
      "    return self.callback()\n",
      "  File \"/Users/bramvandesande/miniconda3/envs/pyscenic_dev/lib/python3.6/site-packages/distributed/nanny.py\", line 245, in memory_monitor\n",
      "    memory = psutil.Process(self.process.pid).memory_info().rss\n",
      "  File \"/Users/bramvandesande/miniconda3/envs/pyscenic_dev/lib/python3.6/site-packages/psutil/_common.py\", line 337, in wrapper\n",
      "    return fun(self)\n",
      "  File \"/Users/bramvandesande/miniconda3/envs/pyscenic_dev/lib/python3.6/site-packages/psutil/__init__.py\", line 1049, in memory_info\n",
      "    return self._proc.memory_info()\n",
      "  File \"/Users/bramvandesande/miniconda3/envs/pyscenic_dev/lib/python3.6/site-packages/psutil/_psosx.py\", line 330, in wrapper\n",
      "    return fun(self, *args, **kwargs)\n",
      "  File \"/Users/bramvandesande/miniconda3/envs/pyscenic_dev/lib/python3.6/site-packages/psutil/_psosx.py\", line 456, in memory_info\n",
      "    rawtuple = self._get_pidtaskinfo()\n",
      "  File \"/Users/bramvandesande/miniconda3/envs/pyscenic_dev/lib/python3.6/site-packages/psutil/_common.py\", line 337, in wrapper\n",
      "    return fun(self)\n",
      "  File \"/Users/bramvandesande/miniconda3/envs/pyscenic_dev/lib/python3.6/site-packages/psutil/_psosx.py\", line 387, in _get_pidtaskinfo\n",
      "    ret = cext.proc_pidtaskinfo_oneshot(self.pid)\n",
      "  File \"/Users/bramvandesande/miniconda3/envs/pyscenic_dev/lib/python3.6/contextlib.py\", line 99, in __exit__\n",
      "    self.gen.throw(type, value, traceback)\n",
      "  File \"/Users/bramvandesande/miniconda3/envs/pyscenic_dev/lib/python3.6/site-packages/psutil/_psosx.py\", line 361, in catch_zombie\n",
      "    raise AccessDenied(proc.pid, proc._name)\n",
      "psutil._exceptions.AccessDenied: psutil.AccessDenied (pid=7683)\n",
      "tornado.application - ERROR - Exception in callback <bound method Nanny.memory_monitor of <Nanny: tcp://127.0.0.1:52913, threads: 1>>\n",
      "Traceback (most recent call last):\n",
      "  File \"/Users/bramvandesande/miniconda3/envs/pyscenic_dev/lib/python3.6/site-packages/psutil/_psosx.py\", line 348, in catch_zombie\n",
      "    yield\n",
      "  File \"/Users/bramvandesande/miniconda3/envs/pyscenic_dev/lib/python3.6/site-packages/psutil/_psosx.py\", line 387, in _get_pidtaskinfo\n",
      "    ret = cext.proc_pidtaskinfo_oneshot(self.pid)\n",
      "ProcessLookupError: [Errno 3] No such process\n",
      "\n",
      "During handling of the above exception, another exception occurred:\n",
      "\n",
      "Traceback (most recent call last):\n",
      "  File \"/Users/bramvandesande/miniconda3/envs/pyscenic_dev/lib/python3.6/site-packages/tornado/ioloop.py\", line 1026, in _run\n",
      "    return self.callback()\n",
      "  File \"/Users/bramvandesande/miniconda3/envs/pyscenic_dev/lib/python3.6/site-packages/distributed/nanny.py\", line 245, in memory_monitor\n",
      "    memory = psutil.Process(self.process.pid).memory_info().rss\n",
      "  File \"/Users/bramvandesande/miniconda3/envs/pyscenic_dev/lib/python3.6/site-packages/psutil/_common.py\", line 337, in wrapper\n",
      "    return fun(self)\n",
      "  File \"/Users/bramvandesande/miniconda3/envs/pyscenic_dev/lib/python3.6/site-packages/psutil/__init__.py\", line 1049, in memory_info\n",
      "    return self._proc.memory_info()\n",
      "  File \"/Users/bramvandesande/miniconda3/envs/pyscenic_dev/lib/python3.6/site-packages/psutil/_psosx.py\", line 330, in wrapper\n",
      "    return fun(self, *args, **kwargs)\n",
      "  File \"/Users/bramvandesande/miniconda3/envs/pyscenic_dev/lib/python3.6/site-packages/psutil/_psosx.py\", line 456, in memory_info\n",
      "    rawtuple = self._get_pidtaskinfo()\n",
      "  File \"/Users/bramvandesande/miniconda3/envs/pyscenic_dev/lib/python3.6/site-packages/psutil/_common.py\", line 337, in wrapper\n",
      "    return fun(self)\n",
      "  File \"/Users/bramvandesande/miniconda3/envs/pyscenic_dev/lib/python3.6/site-packages/psutil/_psosx.py\", line 387, in _get_pidtaskinfo\n",
      "    ret = cext.proc_pidtaskinfo_oneshot(self.pid)\n",
      "  File \"/Users/bramvandesande/miniconda3/envs/pyscenic_dev/lib/python3.6/contextlib.py\", line 99, in __exit__\n",
      "    self.gen.throw(type, value, traceback)\n",
      "  File \"/Users/bramvandesande/miniconda3/envs/pyscenic_dev/lib/python3.6/site-packages/psutil/_psosx.py\", line 361, in catch_zombie\n",
      "    raise AccessDenied(proc.pid, proc._name)\n",
      "psutil._exceptions.AccessDenied: psutil.AccessDenied (pid=7683)\n",
      "tornado.application - ERROR - Exception in callback <bound method Nanny.memory_monitor of <Nanny: tcp://127.0.0.1:52913, threads: 1>>\n",
      "Traceback (most recent call last):\n",
      "  File \"/Users/bramvandesande/miniconda3/envs/pyscenic_dev/lib/python3.6/site-packages/psutil/_psosx.py\", line 348, in catch_zombie\n",
      "    yield\n",
      "  File \"/Users/bramvandesande/miniconda3/envs/pyscenic_dev/lib/python3.6/site-packages/psutil/_psosx.py\", line 387, in _get_pidtaskinfo\n",
      "    ret = cext.proc_pidtaskinfo_oneshot(self.pid)\n",
      "ProcessLookupError: [Errno 3] No such process\n",
      "\n",
      "During handling of the above exception, another exception occurred:\n",
      "\n",
      "Traceback (most recent call last):\n",
      "  File \"/Users/bramvandesande/miniconda3/envs/pyscenic_dev/lib/python3.6/site-packages/tornado/ioloop.py\", line 1026, in _run\n",
      "    return self.callback()\n",
      "  File \"/Users/bramvandesande/miniconda3/envs/pyscenic_dev/lib/python3.6/site-packages/distributed/nanny.py\", line 245, in memory_monitor\n",
      "    memory = psutil.Process(self.process.pid).memory_info().rss\n",
      "  File \"/Users/bramvandesande/miniconda3/envs/pyscenic_dev/lib/python3.6/site-packages/psutil/_common.py\", line 337, in wrapper\n",
      "    return fun(self)\n",
      "  File \"/Users/bramvandesande/miniconda3/envs/pyscenic_dev/lib/python3.6/site-packages/psutil/__init__.py\", line 1049, in memory_info\n",
      "    return self._proc.memory_info()\n",
      "  File \"/Users/bramvandesande/miniconda3/envs/pyscenic_dev/lib/python3.6/site-packages/psutil/_psosx.py\", line 330, in wrapper\n",
      "    return fun(self, *args, **kwargs)\n",
      "  File \"/Users/bramvandesande/miniconda3/envs/pyscenic_dev/lib/python3.6/site-packages/psutil/_psosx.py\", line 456, in memory_info\n",
      "    rawtuple = self._get_pidtaskinfo()\n",
      "  File \"/Users/bramvandesande/miniconda3/envs/pyscenic_dev/lib/python3.6/site-packages/psutil/_common.py\", line 337, in wrapper\n",
      "    return fun(self)\n",
      "  File \"/Users/bramvandesande/miniconda3/envs/pyscenic_dev/lib/python3.6/site-packages/psutil/_psosx.py\", line 387, in _get_pidtaskinfo\n",
      "    ret = cext.proc_pidtaskinfo_oneshot(self.pid)\n",
      "  File \"/Users/bramvandesande/miniconda3/envs/pyscenic_dev/lib/python3.6/contextlib.py\", line 99, in __exit__\n",
      "    self.gen.throw(type, value, traceback)\n",
      "  File \"/Users/bramvandesande/miniconda3/envs/pyscenic_dev/lib/python3.6/site-packages/psutil/_psosx.py\", line 361, in catch_zombie\n",
      "    raise AccessDenied(proc.pid, proc._name)\n",
      "psutil._exceptions.AccessDenied: psutil.AccessDenied (pid=7683)\n"
     ]
    },
    {
     "name": "stderr",
     "output_type": "stream",
     "text": [
      "tornado.application - ERROR - Exception in callback <bound method Nanny.memory_monitor of <Nanny: tcp://127.0.0.1:52913, threads: 1>>\n",
      "Traceback (most recent call last):\n",
      "  File \"/Users/bramvandesande/miniconda3/envs/pyscenic_dev/lib/python3.6/site-packages/psutil/_psosx.py\", line 348, in catch_zombie\n",
      "    yield\n",
      "  File \"/Users/bramvandesande/miniconda3/envs/pyscenic_dev/lib/python3.6/site-packages/psutil/_psosx.py\", line 387, in _get_pidtaskinfo\n",
      "    ret = cext.proc_pidtaskinfo_oneshot(self.pid)\n",
      "ProcessLookupError: [Errno 3] No such process\n",
      "\n",
      "During handling of the above exception, another exception occurred:\n",
      "\n",
      "Traceback (most recent call last):\n",
      "  File \"/Users/bramvandesande/miniconda3/envs/pyscenic_dev/lib/python3.6/site-packages/tornado/ioloop.py\", line 1026, in _run\n",
      "    return self.callback()\n",
      "  File \"/Users/bramvandesande/miniconda3/envs/pyscenic_dev/lib/python3.6/site-packages/distributed/nanny.py\", line 245, in memory_monitor\n",
      "    memory = psutil.Process(self.process.pid).memory_info().rss\n",
      "  File \"/Users/bramvandesande/miniconda3/envs/pyscenic_dev/lib/python3.6/site-packages/psutil/_common.py\", line 337, in wrapper\n",
      "    return fun(self)\n",
      "  File \"/Users/bramvandesande/miniconda3/envs/pyscenic_dev/lib/python3.6/site-packages/psutil/__init__.py\", line 1049, in memory_info\n",
      "    return self._proc.memory_info()\n",
      "  File \"/Users/bramvandesande/miniconda3/envs/pyscenic_dev/lib/python3.6/site-packages/psutil/_psosx.py\", line 330, in wrapper\n",
      "    return fun(self, *args, **kwargs)\n",
      "  File \"/Users/bramvandesande/miniconda3/envs/pyscenic_dev/lib/python3.6/site-packages/psutil/_psosx.py\", line 456, in memory_info\n",
      "    rawtuple = self._get_pidtaskinfo()\n",
      "  File \"/Users/bramvandesande/miniconda3/envs/pyscenic_dev/lib/python3.6/site-packages/psutil/_common.py\", line 337, in wrapper\n",
      "    return fun(self)\n",
      "  File \"/Users/bramvandesande/miniconda3/envs/pyscenic_dev/lib/python3.6/site-packages/psutil/_psosx.py\", line 387, in _get_pidtaskinfo\n",
      "    ret = cext.proc_pidtaskinfo_oneshot(self.pid)\n",
      "  File \"/Users/bramvandesande/miniconda3/envs/pyscenic_dev/lib/python3.6/contextlib.py\", line 99, in __exit__\n",
      "    self.gen.throw(type, value, traceback)\n",
      "  File \"/Users/bramvandesande/miniconda3/envs/pyscenic_dev/lib/python3.6/site-packages/psutil/_psosx.py\", line 361, in catch_zombie\n",
      "    raise AccessDenied(proc.pid, proc._name)\n",
      "psutil._exceptions.AccessDenied: psutil.AccessDenied (pid=7683)\n",
      "tornado.application - ERROR - Exception in callback <bound method Nanny.memory_monitor of <Nanny: tcp://127.0.0.1:52913, threads: 1>>\n",
      "Traceback (most recent call last):\n",
      "  File \"/Users/bramvandesande/miniconda3/envs/pyscenic_dev/lib/python3.6/site-packages/psutil/_psosx.py\", line 348, in catch_zombie\n",
      "    yield\n",
      "  File \"/Users/bramvandesande/miniconda3/envs/pyscenic_dev/lib/python3.6/site-packages/psutil/_psosx.py\", line 387, in _get_pidtaskinfo\n",
      "    ret = cext.proc_pidtaskinfo_oneshot(self.pid)\n",
      "ProcessLookupError: [Errno 3] No such process\n",
      "\n",
      "During handling of the above exception, another exception occurred:\n",
      "\n",
      "Traceback (most recent call last):\n",
      "  File \"/Users/bramvandesande/miniconda3/envs/pyscenic_dev/lib/python3.6/site-packages/tornado/ioloop.py\", line 1026, in _run\n",
      "    return self.callback()\n",
      "  File \"/Users/bramvandesande/miniconda3/envs/pyscenic_dev/lib/python3.6/site-packages/distributed/nanny.py\", line 245, in memory_monitor\n",
      "    memory = psutil.Process(self.process.pid).memory_info().rss\n",
      "  File \"/Users/bramvandesande/miniconda3/envs/pyscenic_dev/lib/python3.6/site-packages/psutil/_common.py\", line 337, in wrapper\n",
      "    return fun(self)\n",
      "  File \"/Users/bramvandesande/miniconda3/envs/pyscenic_dev/lib/python3.6/site-packages/psutil/__init__.py\", line 1049, in memory_info\n",
      "    return self._proc.memory_info()\n",
      "  File \"/Users/bramvandesande/miniconda3/envs/pyscenic_dev/lib/python3.6/site-packages/psutil/_psosx.py\", line 330, in wrapper\n",
      "    return fun(self, *args, **kwargs)\n",
      "  File \"/Users/bramvandesande/miniconda3/envs/pyscenic_dev/lib/python3.6/site-packages/psutil/_psosx.py\", line 456, in memory_info\n",
      "    rawtuple = self._get_pidtaskinfo()\n",
      "  File \"/Users/bramvandesande/miniconda3/envs/pyscenic_dev/lib/python3.6/site-packages/psutil/_common.py\", line 337, in wrapper\n",
      "    return fun(self)\n",
      "  File \"/Users/bramvandesande/miniconda3/envs/pyscenic_dev/lib/python3.6/site-packages/psutil/_psosx.py\", line 387, in _get_pidtaskinfo\n",
      "    ret = cext.proc_pidtaskinfo_oneshot(self.pid)\n",
      "  File \"/Users/bramvandesande/miniconda3/envs/pyscenic_dev/lib/python3.6/contextlib.py\", line 99, in __exit__\n",
      "    self.gen.throw(type, value, traceback)\n",
      "  File \"/Users/bramvandesande/miniconda3/envs/pyscenic_dev/lib/python3.6/site-packages/psutil/_psosx.py\", line 361, in catch_zombie\n",
      "    raise AccessDenied(proc.pid, proc._name)\n",
      "psutil._exceptions.AccessDenied: psutil.AccessDenied (pid=7683)\n",
      "tornado.application - ERROR - Exception in callback <bound method Nanny.memory_monitor of <Nanny: tcp://127.0.0.1:52996, threads: 1>>\n",
      "Traceback (most recent call last):\n",
      "  File \"/Users/bramvandesande/miniconda3/envs/pyscenic_dev/lib/python3.6/site-packages/psutil/_psosx.py\", line 348, in catch_zombie\n",
      "    yield\n",
      "  File \"/Users/bramvandesande/miniconda3/envs/pyscenic_dev/lib/python3.6/site-packages/psutil/_psosx.py\", line 387, in _get_pidtaskinfo\n",
      "    ret = cext.proc_pidtaskinfo_oneshot(self.pid)\n",
      "ProcessLookupError: [Errno 3] No such process\n",
      "\n",
      "During handling of the above exception, another exception occurred:\n",
      "\n",
      "Traceback (most recent call last):\n",
      "  File \"/Users/bramvandesande/miniconda3/envs/pyscenic_dev/lib/python3.6/site-packages/tornado/ioloop.py\", line 1026, in _run\n",
      "    return self.callback()\n",
      "  File \"/Users/bramvandesande/miniconda3/envs/pyscenic_dev/lib/python3.6/site-packages/distributed/nanny.py\", line 245, in memory_monitor\n",
      "    memory = psutil.Process(self.process.pid).memory_info().rss\n",
      "  File \"/Users/bramvandesande/miniconda3/envs/pyscenic_dev/lib/python3.6/site-packages/psutil/_common.py\", line 337, in wrapper\n",
      "    return fun(self)\n",
      "  File \"/Users/bramvandesande/miniconda3/envs/pyscenic_dev/lib/python3.6/site-packages/psutil/__init__.py\", line 1049, in memory_info\n",
      "    return self._proc.memory_info()\n",
      "  File \"/Users/bramvandesande/miniconda3/envs/pyscenic_dev/lib/python3.6/site-packages/psutil/_psosx.py\", line 330, in wrapper\n",
      "    return fun(self, *args, **kwargs)\n",
      "  File \"/Users/bramvandesande/miniconda3/envs/pyscenic_dev/lib/python3.6/site-packages/psutil/_psosx.py\", line 456, in memory_info\n",
      "    rawtuple = self._get_pidtaskinfo()\n",
      "  File \"/Users/bramvandesande/miniconda3/envs/pyscenic_dev/lib/python3.6/site-packages/psutil/_common.py\", line 337, in wrapper\n",
      "    return fun(self)\n",
      "  File \"/Users/bramvandesande/miniconda3/envs/pyscenic_dev/lib/python3.6/site-packages/psutil/_psosx.py\", line 387, in _get_pidtaskinfo\n",
      "    ret = cext.proc_pidtaskinfo_oneshot(self.pid)\n",
      "  File \"/Users/bramvandesande/miniconda3/envs/pyscenic_dev/lib/python3.6/contextlib.py\", line 99, in __exit__\n",
      "    self.gen.throw(type, value, traceback)\n",
      "  File \"/Users/bramvandesande/miniconda3/envs/pyscenic_dev/lib/python3.6/site-packages/psutil/_psosx.py\", line 361, in catch_zombie\n",
      "    raise AccessDenied(proc.pid, proc._name)\n",
      "psutil._exceptions.AccessDenied: psutil.AccessDenied (pid=7751)\n",
      "tornado.application - ERROR - Exception in callback <bound method Nanny.memory_monitor of <Nanny: tcp://127.0.0.1:52996, threads: 1>>\n",
      "Traceback (most recent call last):\n",
      "  File \"/Users/bramvandesande/miniconda3/envs/pyscenic_dev/lib/python3.6/site-packages/psutil/_psosx.py\", line 348, in catch_zombie\n",
      "    yield\n",
      "  File \"/Users/bramvandesande/miniconda3/envs/pyscenic_dev/lib/python3.6/site-packages/psutil/_psosx.py\", line 387, in _get_pidtaskinfo\n",
      "    ret = cext.proc_pidtaskinfo_oneshot(self.pid)\n",
      "ProcessLookupError: [Errno 3] No such process\n",
      "\n",
      "During handling of the above exception, another exception occurred:\n",
      "\n",
      "Traceback (most recent call last):\n",
      "  File \"/Users/bramvandesande/miniconda3/envs/pyscenic_dev/lib/python3.6/site-packages/tornado/ioloop.py\", line 1026, in _run\n",
      "    return self.callback()\n",
      "  File \"/Users/bramvandesande/miniconda3/envs/pyscenic_dev/lib/python3.6/site-packages/distributed/nanny.py\", line 245, in memory_monitor\n",
      "    memory = psutil.Process(self.process.pid).memory_info().rss\n",
      "  File \"/Users/bramvandesande/miniconda3/envs/pyscenic_dev/lib/python3.6/site-packages/psutil/_common.py\", line 337, in wrapper\n",
      "    return fun(self)\n",
      "  File \"/Users/bramvandesande/miniconda3/envs/pyscenic_dev/lib/python3.6/site-packages/psutil/__init__.py\", line 1049, in memory_info\n",
      "    return self._proc.memory_info()\n",
      "  File \"/Users/bramvandesande/miniconda3/envs/pyscenic_dev/lib/python3.6/site-packages/psutil/_psosx.py\", line 330, in wrapper\n",
      "    return fun(self, *args, **kwargs)\n",
      "  File \"/Users/bramvandesande/miniconda3/envs/pyscenic_dev/lib/python3.6/site-packages/psutil/_psosx.py\", line 456, in memory_info\n",
      "    rawtuple = self._get_pidtaskinfo()\n",
      "  File \"/Users/bramvandesande/miniconda3/envs/pyscenic_dev/lib/python3.6/site-packages/psutil/_common.py\", line 337, in wrapper\n",
      "    return fun(self)\n",
      "  File \"/Users/bramvandesande/miniconda3/envs/pyscenic_dev/lib/python3.6/site-packages/psutil/_psosx.py\", line 387, in _get_pidtaskinfo\n",
      "    ret = cext.proc_pidtaskinfo_oneshot(self.pid)\n",
      "  File \"/Users/bramvandesande/miniconda3/envs/pyscenic_dev/lib/python3.6/contextlib.py\", line 99, in __exit__\n",
      "    self.gen.throw(type, value, traceback)\n",
      "  File \"/Users/bramvandesande/miniconda3/envs/pyscenic_dev/lib/python3.6/site-packages/psutil/_psosx.py\", line 361, in catch_zombie\n",
      "    raise AccessDenied(proc.pid, proc._name)\n",
      "psutil._exceptions.AccessDenied: psutil.AccessDenied (pid=7751)\n"
     ]
    },
    {
     "name": "stderr",
     "output_type": "stream",
     "text": [
      "tornado.application - ERROR - Exception in callback <bound method Nanny.memory_monitor of <Nanny: tcp://127.0.0.1:52996, threads: 1>>\n",
      "Traceback (most recent call last):\n",
      "  File \"/Users/bramvandesande/miniconda3/envs/pyscenic_dev/lib/python3.6/site-packages/psutil/_psosx.py\", line 348, in catch_zombie\n",
      "    yield\n",
      "  File \"/Users/bramvandesande/miniconda3/envs/pyscenic_dev/lib/python3.6/site-packages/psutil/_psosx.py\", line 387, in _get_pidtaskinfo\n",
      "    ret = cext.proc_pidtaskinfo_oneshot(self.pid)\n",
      "ProcessLookupError: [Errno 3] No such process\n",
      "\n",
      "During handling of the above exception, another exception occurred:\n",
      "\n",
      "Traceback (most recent call last):\n",
      "  File \"/Users/bramvandesande/miniconda3/envs/pyscenic_dev/lib/python3.6/site-packages/tornado/ioloop.py\", line 1026, in _run\n",
      "    return self.callback()\n",
      "  File \"/Users/bramvandesande/miniconda3/envs/pyscenic_dev/lib/python3.6/site-packages/distributed/nanny.py\", line 245, in memory_monitor\n",
      "    memory = psutil.Process(self.process.pid).memory_info().rss\n",
      "  File \"/Users/bramvandesande/miniconda3/envs/pyscenic_dev/lib/python3.6/site-packages/psutil/_common.py\", line 337, in wrapper\n",
      "    return fun(self)\n",
      "  File \"/Users/bramvandesande/miniconda3/envs/pyscenic_dev/lib/python3.6/site-packages/psutil/__init__.py\", line 1049, in memory_info\n",
      "    return self._proc.memory_info()\n",
      "  File \"/Users/bramvandesande/miniconda3/envs/pyscenic_dev/lib/python3.6/site-packages/psutil/_psosx.py\", line 330, in wrapper\n",
      "    return fun(self, *args, **kwargs)\n",
      "  File \"/Users/bramvandesande/miniconda3/envs/pyscenic_dev/lib/python3.6/site-packages/psutil/_psosx.py\", line 456, in memory_info\n",
      "    rawtuple = self._get_pidtaskinfo()\n",
      "  File \"/Users/bramvandesande/miniconda3/envs/pyscenic_dev/lib/python3.6/site-packages/psutil/_common.py\", line 337, in wrapper\n",
      "    return fun(self)\n",
      "  File \"/Users/bramvandesande/miniconda3/envs/pyscenic_dev/lib/python3.6/site-packages/psutil/_psosx.py\", line 387, in _get_pidtaskinfo\n",
      "    ret = cext.proc_pidtaskinfo_oneshot(self.pid)\n",
      "  File \"/Users/bramvandesande/miniconda3/envs/pyscenic_dev/lib/python3.6/contextlib.py\", line 99, in __exit__\n",
      "    self.gen.throw(type, value, traceback)\n",
      "  File \"/Users/bramvandesande/miniconda3/envs/pyscenic_dev/lib/python3.6/site-packages/psutil/_psosx.py\", line 361, in catch_zombie\n",
      "    raise AccessDenied(proc.pid, proc._name)\n",
      "psutil._exceptions.AccessDenied: psutil.AccessDenied (pid=7751)\n",
      "tornado.application - ERROR - Exception in callback <bound method Nanny.memory_monitor of <Nanny: tcp://127.0.0.1:52996, threads: 1>>\n",
      "Traceback (most recent call last):\n",
      "  File \"/Users/bramvandesande/miniconda3/envs/pyscenic_dev/lib/python3.6/site-packages/psutil/_psosx.py\", line 348, in catch_zombie\n",
      "    yield\n",
      "  File \"/Users/bramvandesande/miniconda3/envs/pyscenic_dev/lib/python3.6/site-packages/psutil/_psosx.py\", line 387, in _get_pidtaskinfo\n",
      "    ret = cext.proc_pidtaskinfo_oneshot(self.pid)\n",
      "ProcessLookupError: [Errno 3] No such process\n",
      "\n",
      "During handling of the above exception, another exception occurred:\n",
      "\n",
      "Traceback (most recent call last):\n",
      "  File \"/Users/bramvandesande/miniconda3/envs/pyscenic_dev/lib/python3.6/site-packages/tornado/ioloop.py\", line 1026, in _run\n",
      "    return self.callback()\n",
      "  File \"/Users/bramvandesande/miniconda3/envs/pyscenic_dev/lib/python3.6/site-packages/distributed/nanny.py\", line 245, in memory_monitor\n",
      "    memory = psutil.Process(self.process.pid).memory_info().rss\n",
      "  File \"/Users/bramvandesande/miniconda3/envs/pyscenic_dev/lib/python3.6/site-packages/psutil/_common.py\", line 337, in wrapper\n",
      "    return fun(self)\n",
      "  File \"/Users/bramvandesande/miniconda3/envs/pyscenic_dev/lib/python3.6/site-packages/psutil/__init__.py\", line 1049, in memory_info\n",
      "    return self._proc.memory_info()\n",
      "  File \"/Users/bramvandesande/miniconda3/envs/pyscenic_dev/lib/python3.6/site-packages/psutil/_psosx.py\", line 330, in wrapper\n",
      "    return fun(self, *args, **kwargs)\n",
      "  File \"/Users/bramvandesande/miniconda3/envs/pyscenic_dev/lib/python3.6/site-packages/psutil/_psosx.py\", line 456, in memory_info\n",
      "    rawtuple = self._get_pidtaskinfo()\n",
      "  File \"/Users/bramvandesande/miniconda3/envs/pyscenic_dev/lib/python3.6/site-packages/psutil/_common.py\", line 337, in wrapper\n",
      "    return fun(self)\n",
      "  File \"/Users/bramvandesande/miniconda3/envs/pyscenic_dev/lib/python3.6/site-packages/psutil/_psosx.py\", line 387, in _get_pidtaskinfo\n",
      "    ret = cext.proc_pidtaskinfo_oneshot(self.pid)\n",
      "  File \"/Users/bramvandesande/miniconda3/envs/pyscenic_dev/lib/python3.6/contextlib.py\", line 99, in __exit__\n",
      "    self.gen.throw(type, value, traceback)\n",
      "  File \"/Users/bramvandesande/miniconda3/envs/pyscenic_dev/lib/python3.6/site-packages/psutil/_psosx.py\", line 361, in catch_zombie\n",
      "    raise AccessDenied(proc.pid, proc._name)\n",
      "psutil._exceptions.AccessDenied: psutil.AccessDenied (pid=7751)\n",
      "tornado.application - ERROR - Exception in callback <bound method Nanny.memory_monitor of <Nanny: tcp://127.0.0.1:52996, threads: 1>>\n",
      "Traceback (most recent call last):\n",
      "  File \"/Users/bramvandesande/miniconda3/envs/pyscenic_dev/lib/python3.6/site-packages/psutil/_psosx.py\", line 348, in catch_zombie\n",
      "    yield\n",
      "  File \"/Users/bramvandesande/miniconda3/envs/pyscenic_dev/lib/python3.6/site-packages/psutil/_psosx.py\", line 387, in _get_pidtaskinfo\n",
      "    ret = cext.proc_pidtaskinfo_oneshot(self.pid)\n",
      "ProcessLookupError: [Errno 3] No such process\n",
      "\n",
      "During handling of the above exception, another exception occurred:\n",
      "\n",
      "Traceback (most recent call last):\n",
      "  File \"/Users/bramvandesande/miniconda3/envs/pyscenic_dev/lib/python3.6/site-packages/tornado/ioloop.py\", line 1026, in _run\n",
      "    return self.callback()\n",
      "  File \"/Users/bramvandesande/miniconda3/envs/pyscenic_dev/lib/python3.6/site-packages/distributed/nanny.py\", line 245, in memory_monitor\n",
      "    memory = psutil.Process(self.process.pid).memory_info().rss\n",
      "  File \"/Users/bramvandesande/miniconda3/envs/pyscenic_dev/lib/python3.6/site-packages/psutil/_common.py\", line 337, in wrapper\n",
      "    return fun(self)\n",
      "  File \"/Users/bramvandesande/miniconda3/envs/pyscenic_dev/lib/python3.6/site-packages/psutil/__init__.py\", line 1049, in memory_info\n",
      "    return self._proc.memory_info()\n",
      "  File \"/Users/bramvandesande/miniconda3/envs/pyscenic_dev/lib/python3.6/site-packages/psutil/_psosx.py\", line 330, in wrapper\n",
      "    return fun(self, *args, **kwargs)\n",
      "  File \"/Users/bramvandesande/miniconda3/envs/pyscenic_dev/lib/python3.6/site-packages/psutil/_psosx.py\", line 456, in memory_info\n",
      "    rawtuple = self._get_pidtaskinfo()\n",
      "  File \"/Users/bramvandesande/miniconda3/envs/pyscenic_dev/lib/python3.6/site-packages/psutil/_common.py\", line 337, in wrapper\n",
      "    return fun(self)\n",
      "  File \"/Users/bramvandesande/miniconda3/envs/pyscenic_dev/lib/python3.6/site-packages/psutil/_psosx.py\", line 387, in _get_pidtaskinfo\n",
      "    ret = cext.proc_pidtaskinfo_oneshot(self.pid)\n",
      "  File \"/Users/bramvandesande/miniconda3/envs/pyscenic_dev/lib/python3.6/contextlib.py\", line 99, in __exit__\n",
      "    self.gen.throw(type, value, traceback)\n",
      "  File \"/Users/bramvandesande/miniconda3/envs/pyscenic_dev/lib/python3.6/site-packages/psutil/_psosx.py\", line 361, in catch_zombie\n",
      "    raise AccessDenied(proc.pid, proc._name)\n",
      "psutil._exceptions.AccessDenied: psutil.AccessDenied (pid=7751)\n",
      "tornado.application - ERROR - Exception in callback <bound method Nanny.memory_monitor of <Nanny: tcp://127.0.0.1:52996, threads: 1>>\n",
      "Traceback (most recent call last):\n",
      "  File \"/Users/bramvandesande/miniconda3/envs/pyscenic_dev/lib/python3.6/site-packages/psutil/_psosx.py\", line 348, in catch_zombie\n",
      "    yield\n",
      "  File \"/Users/bramvandesande/miniconda3/envs/pyscenic_dev/lib/python3.6/site-packages/psutil/_psosx.py\", line 387, in _get_pidtaskinfo\n",
      "    ret = cext.proc_pidtaskinfo_oneshot(self.pid)\n",
      "ProcessLookupError: [Errno 3] No such process\n",
      "\n",
      "During handling of the above exception, another exception occurred:\n",
      "\n",
      "Traceback (most recent call last):\n",
      "  File \"/Users/bramvandesande/miniconda3/envs/pyscenic_dev/lib/python3.6/site-packages/tornado/ioloop.py\", line 1026, in _run\n",
      "    return self.callback()\n",
      "  File \"/Users/bramvandesande/miniconda3/envs/pyscenic_dev/lib/python3.6/site-packages/distributed/nanny.py\", line 245, in memory_monitor\n",
      "    memory = psutil.Process(self.process.pid).memory_info().rss\n",
      "  File \"/Users/bramvandesande/miniconda3/envs/pyscenic_dev/lib/python3.6/site-packages/psutil/_common.py\", line 337, in wrapper\n",
      "    return fun(self)\n",
      "  File \"/Users/bramvandesande/miniconda3/envs/pyscenic_dev/lib/python3.6/site-packages/psutil/__init__.py\", line 1049, in memory_info\n",
      "    return self._proc.memory_info()\n",
      "  File \"/Users/bramvandesande/miniconda3/envs/pyscenic_dev/lib/python3.6/site-packages/psutil/_psosx.py\", line 330, in wrapper\n",
      "    return fun(self, *args, **kwargs)\n",
      "  File \"/Users/bramvandesande/miniconda3/envs/pyscenic_dev/lib/python3.6/site-packages/psutil/_psosx.py\", line 456, in memory_info\n",
      "    rawtuple = self._get_pidtaskinfo()\n",
      "  File \"/Users/bramvandesande/miniconda3/envs/pyscenic_dev/lib/python3.6/site-packages/psutil/_common.py\", line 337, in wrapper\n",
      "    return fun(self)\n",
      "  File \"/Users/bramvandesande/miniconda3/envs/pyscenic_dev/lib/python3.6/site-packages/psutil/_psosx.py\", line 387, in _get_pidtaskinfo\n",
      "    ret = cext.proc_pidtaskinfo_oneshot(self.pid)\n",
      "  File \"/Users/bramvandesande/miniconda3/envs/pyscenic_dev/lib/python3.6/contextlib.py\", line 99, in __exit__\n",
      "    self.gen.throw(type, value, traceback)\n",
      "  File \"/Users/bramvandesande/miniconda3/envs/pyscenic_dev/lib/python3.6/site-packages/psutil/_psosx.py\", line 361, in catch_zombie\n",
      "    raise AccessDenied(proc.pid, proc._name)\n",
      "psutil._exceptions.AccessDenied: psutil.AccessDenied (pid=7751)\n"
     ]
    },
    {
     "name": "stderr",
     "output_type": "stream",
     "text": [
      "tornado.application - ERROR - Exception in callback <bound method Nanny.memory_monitor of <Nanny: tcp://127.0.0.1:52996, threads: 1>>\n",
      "Traceback (most recent call last):\n",
      "  File \"/Users/bramvandesande/miniconda3/envs/pyscenic_dev/lib/python3.6/site-packages/psutil/_psosx.py\", line 348, in catch_zombie\n",
      "    yield\n",
      "  File \"/Users/bramvandesande/miniconda3/envs/pyscenic_dev/lib/python3.6/site-packages/psutil/_psosx.py\", line 387, in _get_pidtaskinfo\n",
      "    ret = cext.proc_pidtaskinfo_oneshot(self.pid)\n",
      "ProcessLookupError: [Errno 3] No such process\n",
      "\n",
      "During handling of the above exception, another exception occurred:\n",
      "\n",
      "Traceback (most recent call last):\n",
      "  File \"/Users/bramvandesande/miniconda3/envs/pyscenic_dev/lib/python3.6/site-packages/tornado/ioloop.py\", line 1026, in _run\n",
      "    return self.callback()\n",
      "  File \"/Users/bramvandesande/miniconda3/envs/pyscenic_dev/lib/python3.6/site-packages/distributed/nanny.py\", line 245, in memory_monitor\n",
      "    memory = psutil.Process(self.process.pid).memory_info().rss\n",
      "  File \"/Users/bramvandesande/miniconda3/envs/pyscenic_dev/lib/python3.6/site-packages/psutil/_common.py\", line 337, in wrapper\n",
      "    return fun(self)\n",
      "  File \"/Users/bramvandesande/miniconda3/envs/pyscenic_dev/lib/python3.6/site-packages/psutil/__init__.py\", line 1049, in memory_info\n",
      "    return self._proc.memory_info()\n",
      "  File \"/Users/bramvandesande/miniconda3/envs/pyscenic_dev/lib/python3.6/site-packages/psutil/_psosx.py\", line 330, in wrapper\n",
      "    return fun(self, *args, **kwargs)\n",
      "  File \"/Users/bramvandesande/miniconda3/envs/pyscenic_dev/lib/python3.6/site-packages/psutil/_psosx.py\", line 456, in memory_info\n",
      "    rawtuple = self._get_pidtaskinfo()\n",
      "  File \"/Users/bramvandesande/miniconda3/envs/pyscenic_dev/lib/python3.6/site-packages/psutil/_common.py\", line 337, in wrapper\n",
      "    return fun(self)\n",
      "  File \"/Users/bramvandesande/miniconda3/envs/pyscenic_dev/lib/python3.6/site-packages/psutil/_psosx.py\", line 387, in _get_pidtaskinfo\n",
      "    ret = cext.proc_pidtaskinfo_oneshot(self.pid)\n",
      "  File \"/Users/bramvandesande/miniconda3/envs/pyscenic_dev/lib/python3.6/contextlib.py\", line 99, in __exit__\n",
      "    self.gen.throw(type, value, traceback)\n",
      "  File \"/Users/bramvandesande/miniconda3/envs/pyscenic_dev/lib/python3.6/site-packages/psutil/_psosx.py\", line 361, in catch_zombie\n",
      "    raise AccessDenied(proc.pid, proc._name)\n",
      "psutil._exceptions.AccessDenied: psutil.AccessDenied (pid=7751)\n",
      "tornado.application - ERROR - Exception in callback <bound method Nanny.memory_monitor of <Nanny: tcp://127.0.0.1:52996, threads: 1>>\n",
      "Traceback (most recent call last):\n",
      "  File \"/Users/bramvandesande/miniconda3/envs/pyscenic_dev/lib/python3.6/site-packages/psutil/_psosx.py\", line 348, in catch_zombie\n",
      "    yield\n",
      "  File \"/Users/bramvandesande/miniconda3/envs/pyscenic_dev/lib/python3.6/site-packages/psutil/_psosx.py\", line 387, in _get_pidtaskinfo\n",
      "    ret = cext.proc_pidtaskinfo_oneshot(self.pid)\n",
      "ProcessLookupError: [Errno 3] No such process\n",
      "\n",
      "During handling of the above exception, another exception occurred:\n",
      "\n",
      "Traceback (most recent call last):\n",
      "  File \"/Users/bramvandesande/miniconda3/envs/pyscenic_dev/lib/python3.6/site-packages/tornado/ioloop.py\", line 1026, in _run\n",
      "    return self.callback()\n",
      "  File \"/Users/bramvandesande/miniconda3/envs/pyscenic_dev/lib/python3.6/site-packages/distributed/nanny.py\", line 245, in memory_monitor\n",
      "    memory = psutil.Process(self.process.pid).memory_info().rss\n",
      "  File \"/Users/bramvandesande/miniconda3/envs/pyscenic_dev/lib/python3.6/site-packages/psutil/_common.py\", line 337, in wrapper\n",
      "    return fun(self)\n",
      "  File \"/Users/bramvandesande/miniconda3/envs/pyscenic_dev/lib/python3.6/site-packages/psutil/__init__.py\", line 1049, in memory_info\n",
      "    return self._proc.memory_info()\n",
      "  File \"/Users/bramvandesande/miniconda3/envs/pyscenic_dev/lib/python3.6/site-packages/psutil/_psosx.py\", line 330, in wrapper\n",
      "    return fun(self, *args, **kwargs)\n",
      "  File \"/Users/bramvandesande/miniconda3/envs/pyscenic_dev/lib/python3.6/site-packages/psutil/_psosx.py\", line 456, in memory_info\n",
      "    rawtuple = self._get_pidtaskinfo()\n",
      "  File \"/Users/bramvandesande/miniconda3/envs/pyscenic_dev/lib/python3.6/site-packages/psutil/_common.py\", line 337, in wrapper\n",
      "    return fun(self)\n",
      "  File \"/Users/bramvandesande/miniconda3/envs/pyscenic_dev/lib/python3.6/site-packages/psutil/_psosx.py\", line 387, in _get_pidtaskinfo\n",
      "    ret = cext.proc_pidtaskinfo_oneshot(self.pid)\n",
      "  File \"/Users/bramvandesande/miniconda3/envs/pyscenic_dev/lib/python3.6/contextlib.py\", line 99, in __exit__\n",
      "    self.gen.throw(type, value, traceback)\n",
      "  File \"/Users/bramvandesande/miniconda3/envs/pyscenic_dev/lib/python3.6/site-packages/psutil/_psosx.py\", line 361, in catch_zombie\n",
      "    raise AccessDenied(proc.pid, proc._name)\n",
      "psutil._exceptions.AccessDenied: psutil.AccessDenied (pid=7751)\n",
      "tornado.application - ERROR - Exception in callback <bound method Nanny.memory_monitor of <Nanny: tcp://127.0.0.1:52909, threads: 1>>\n",
      "Traceback (most recent call last):\n",
      "  File \"/Users/bramvandesande/miniconda3/envs/pyscenic_dev/lib/python3.6/site-packages/psutil/_psosx.py\", line 348, in catch_zombie\n",
      "    yield\n",
      "  File \"/Users/bramvandesande/miniconda3/envs/pyscenic_dev/lib/python3.6/site-packages/psutil/_psosx.py\", line 387, in _get_pidtaskinfo\n",
      "    ret = cext.proc_pidtaskinfo_oneshot(self.pid)\n",
      "ProcessLookupError: [Errno 3] No such process\n",
      "\n",
      "During handling of the above exception, another exception occurred:\n",
      "\n",
      "Traceback (most recent call last):\n",
      "  File \"/Users/bramvandesande/miniconda3/envs/pyscenic_dev/lib/python3.6/site-packages/tornado/ioloop.py\", line 1026, in _run\n",
      "    return self.callback()\n",
      "  File \"/Users/bramvandesande/miniconda3/envs/pyscenic_dev/lib/python3.6/site-packages/distributed/nanny.py\", line 245, in memory_monitor\n",
      "    memory = psutil.Process(self.process.pid).memory_info().rss\n",
      "  File \"/Users/bramvandesande/miniconda3/envs/pyscenic_dev/lib/python3.6/site-packages/psutil/_common.py\", line 337, in wrapper\n",
      "    return fun(self)\n",
      "  File \"/Users/bramvandesande/miniconda3/envs/pyscenic_dev/lib/python3.6/site-packages/psutil/__init__.py\", line 1049, in memory_info\n",
      "    return self._proc.memory_info()\n",
      "  File \"/Users/bramvandesande/miniconda3/envs/pyscenic_dev/lib/python3.6/site-packages/psutil/_psosx.py\", line 330, in wrapper\n",
      "    return fun(self, *args, **kwargs)\n",
      "  File \"/Users/bramvandesande/miniconda3/envs/pyscenic_dev/lib/python3.6/site-packages/psutil/_psosx.py\", line 456, in memory_info\n",
      "    rawtuple = self._get_pidtaskinfo()\n",
      "  File \"/Users/bramvandesande/miniconda3/envs/pyscenic_dev/lib/python3.6/site-packages/psutil/_common.py\", line 337, in wrapper\n",
      "    return fun(self)\n",
      "  File \"/Users/bramvandesande/miniconda3/envs/pyscenic_dev/lib/python3.6/site-packages/psutil/_psosx.py\", line 387, in _get_pidtaskinfo\n",
      "    ret = cext.proc_pidtaskinfo_oneshot(self.pid)\n",
      "  File \"/Users/bramvandesande/miniconda3/envs/pyscenic_dev/lib/python3.6/contextlib.py\", line 99, in __exit__\n",
      "    self.gen.throw(type, value, traceback)\n",
      "  File \"/Users/bramvandesande/miniconda3/envs/pyscenic_dev/lib/python3.6/site-packages/psutil/_psosx.py\", line 361, in catch_zombie\n",
      "    raise AccessDenied(proc.pid, proc._name)\n",
      "psutil._exceptions.AccessDenied: psutil.AccessDenied (pid=7680)\n",
      "tornado.application - ERROR - Exception in callback <bound method Nanny.memory_monitor of <Nanny: tcp://127.0.0.1:52909, threads: 1>>\n",
      "Traceback (most recent call last):\n",
      "  File \"/Users/bramvandesande/miniconda3/envs/pyscenic_dev/lib/python3.6/site-packages/psutil/_psosx.py\", line 348, in catch_zombie\n",
      "    yield\n",
      "  File \"/Users/bramvandesande/miniconda3/envs/pyscenic_dev/lib/python3.6/site-packages/psutil/_psosx.py\", line 387, in _get_pidtaskinfo\n",
      "    ret = cext.proc_pidtaskinfo_oneshot(self.pid)\n",
      "ProcessLookupError: [Errno 3] No such process\n",
      "\n",
      "During handling of the above exception, another exception occurred:\n",
      "\n",
      "Traceback (most recent call last):\n",
      "  File \"/Users/bramvandesande/miniconda3/envs/pyscenic_dev/lib/python3.6/site-packages/tornado/ioloop.py\", line 1026, in _run\n",
      "    return self.callback()\n",
      "  File \"/Users/bramvandesande/miniconda3/envs/pyscenic_dev/lib/python3.6/site-packages/distributed/nanny.py\", line 245, in memory_monitor\n",
      "    memory = psutil.Process(self.process.pid).memory_info().rss\n",
      "  File \"/Users/bramvandesande/miniconda3/envs/pyscenic_dev/lib/python3.6/site-packages/psutil/_common.py\", line 337, in wrapper\n",
      "    return fun(self)\n",
      "  File \"/Users/bramvandesande/miniconda3/envs/pyscenic_dev/lib/python3.6/site-packages/psutil/__init__.py\", line 1049, in memory_info\n",
      "    return self._proc.memory_info()\n",
      "  File \"/Users/bramvandesande/miniconda3/envs/pyscenic_dev/lib/python3.6/site-packages/psutil/_psosx.py\", line 330, in wrapper\n",
      "    return fun(self, *args, **kwargs)\n",
      "  File \"/Users/bramvandesande/miniconda3/envs/pyscenic_dev/lib/python3.6/site-packages/psutil/_psosx.py\", line 456, in memory_info\n",
      "    rawtuple = self._get_pidtaskinfo()\n",
      "  File \"/Users/bramvandesande/miniconda3/envs/pyscenic_dev/lib/python3.6/site-packages/psutil/_common.py\", line 337, in wrapper\n",
      "    return fun(self)\n",
      "  File \"/Users/bramvandesande/miniconda3/envs/pyscenic_dev/lib/python3.6/site-packages/psutil/_psosx.py\", line 387, in _get_pidtaskinfo\n",
      "    ret = cext.proc_pidtaskinfo_oneshot(self.pid)\n",
      "  File \"/Users/bramvandesande/miniconda3/envs/pyscenic_dev/lib/python3.6/contextlib.py\", line 99, in __exit__\n",
      "    self.gen.throw(type, value, traceback)\n",
      "  File \"/Users/bramvandesande/miniconda3/envs/pyscenic_dev/lib/python3.6/site-packages/psutil/_psosx.py\", line 361, in catch_zombie\n",
      "    raise AccessDenied(proc.pid, proc._name)\n",
      "psutil._exceptions.AccessDenied: psutil.AccessDenied (pid=7680)\n"
     ]
    },
    {
     "name": "stderr",
     "output_type": "stream",
     "text": [
      "tornado.application - ERROR - Exception in callback <bound method Nanny.memory_monitor of <Nanny: tcp://127.0.0.1:52909, threads: 1>>\n",
      "Traceback (most recent call last):\n",
      "  File \"/Users/bramvandesande/miniconda3/envs/pyscenic_dev/lib/python3.6/site-packages/psutil/_psosx.py\", line 348, in catch_zombie\n",
      "    yield\n",
      "  File \"/Users/bramvandesande/miniconda3/envs/pyscenic_dev/lib/python3.6/site-packages/psutil/_psosx.py\", line 387, in _get_pidtaskinfo\n",
      "    ret = cext.proc_pidtaskinfo_oneshot(self.pid)\n",
      "ProcessLookupError: [Errno 3] No such process\n",
      "\n",
      "During handling of the above exception, another exception occurred:\n",
      "\n",
      "Traceback (most recent call last):\n",
      "  File \"/Users/bramvandesande/miniconda3/envs/pyscenic_dev/lib/python3.6/site-packages/tornado/ioloop.py\", line 1026, in _run\n",
      "    return self.callback()\n",
      "  File \"/Users/bramvandesande/miniconda3/envs/pyscenic_dev/lib/python3.6/site-packages/distributed/nanny.py\", line 245, in memory_monitor\n",
      "    memory = psutil.Process(self.process.pid).memory_info().rss\n",
      "  File \"/Users/bramvandesande/miniconda3/envs/pyscenic_dev/lib/python3.6/site-packages/psutil/_common.py\", line 337, in wrapper\n",
      "    return fun(self)\n",
      "  File \"/Users/bramvandesande/miniconda3/envs/pyscenic_dev/lib/python3.6/site-packages/psutil/__init__.py\", line 1049, in memory_info\n",
      "    return self._proc.memory_info()\n",
      "  File \"/Users/bramvandesande/miniconda3/envs/pyscenic_dev/lib/python3.6/site-packages/psutil/_psosx.py\", line 330, in wrapper\n",
      "    return fun(self, *args, **kwargs)\n",
      "  File \"/Users/bramvandesande/miniconda3/envs/pyscenic_dev/lib/python3.6/site-packages/psutil/_psosx.py\", line 456, in memory_info\n",
      "    rawtuple = self._get_pidtaskinfo()\n",
      "  File \"/Users/bramvandesande/miniconda3/envs/pyscenic_dev/lib/python3.6/site-packages/psutil/_common.py\", line 337, in wrapper\n",
      "    return fun(self)\n",
      "  File \"/Users/bramvandesande/miniconda3/envs/pyscenic_dev/lib/python3.6/site-packages/psutil/_psosx.py\", line 387, in _get_pidtaskinfo\n",
      "    ret = cext.proc_pidtaskinfo_oneshot(self.pid)\n",
      "  File \"/Users/bramvandesande/miniconda3/envs/pyscenic_dev/lib/python3.6/contextlib.py\", line 99, in __exit__\n",
      "    self.gen.throw(type, value, traceback)\n",
      "  File \"/Users/bramvandesande/miniconda3/envs/pyscenic_dev/lib/python3.6/site-packages/psutil/_psosx.py\", line 361, in catch_zombie\n",
      "    raise AccessDenied(proc.pid, proc._name)\n",
      "psutil._exceptions.AccessDenied: psutil.AccessDenied (pid=7680)\n",
      "tornado.application - ERROR - Exception in callback <bound method Nanny.memory_monitor of <Nanny: tcp://127.0.0.1:52909, threads: 1>>\n",
      "Traceback (most recent call last):\n",
      "  File \"/Users/bramvandesande/miniconda3/envs/pyscenic_dev/lib/python3.6/site-packages/psutil/_psosx.py\", line 348, in catch_zombie\n",
      "    yield\n",
      "  File \"/Users/bramvandesande/miniconda3/envs/pyscenic_dev/lib/python3.6/site-packages/psutil/_psosx.py\", line 387, in _get_pidtaskinfo\n",
      "    ret = cext.proc_pidtaskinfo_oneshot(self.pid)\n",
      "ProcessLookupError: [Errno 3] No such process\n",
      "\n",
      "During handling of the above exception, another exception occurred:\n",
      "\n",
      "Traceback (most recent call last):\n",
      "  File \"/Users/bramvandesande/miniconda3/envs/pyscenic_dev/lib/python3.6/site-packages/tornado/ioloop.py\", line 1026, in _run\n",
      "    return self.callback()\n",
      "  File \"/Users/bramvandesande/miniconda3/envs/pyscenic_dev/lib/python3.6/site-packages/distributed/nanny.py\", line 245, in memory_monitor\n",
      "    memory = psutil.Process(self.process.pid).memory_info().rss\n",
      "  File \"/Users/bramvandesande/miniconda3/envs/pyscenic_dev/lib/python3.6/site-packages/psutil/_common.py\", line 337, in wrapper\n",
      "    return fun(self)\n",
      "  File \"/Users/bramvandesande/miniconda3/envs/pyscenic_dev/lib/python3.6/site-packages/psutil/__init__.py\", line 1049, in memory_info\n",
      "    return self._proc.memory_info()\n",
      "  File \"/Users/bramvandesande/miniconda3/envs/pyscenic_dev/lib/python3.6/site-packages/psutil/_psosx.py\", line 330, in wrapper\n",
      "    return fun(self, *args, **kwargs)\n",
      "  File \"/Users/bramvandesande/miniconda3/envs/pyscenic_dev/lib/python3.6/site-packages/psutil/_psosx.py\", line 456, in memory_info\n",
      "    rawtuple = self._get_pidtaskinfo()\n",
      "  File \"/Users/bramvandesande/miniconda3/envs/pyscenic_dev/lib/python3.6/site-packages/psutil/_common.py\", line 337, in wrapper\n",
      "    return fun(self)\n",
      "  File \"/Users/bramvandesande/miniconda3/envs/pyscenic_dev/lib/python3.6/site-packages/psutil/_psosx.py\", line 387, in _get_pidtaskinfo\n",
      "    ret = cext.proc_pidtaskinfo_oneshot(self.pid)\n",
      "  File \"/Users/bramvandesande/miniconda3/envs/pyscenic_dev/lib/python3.6/contextlib.py\", line 99, in __exit__\n",
      "    self.gen.throw(type, value, traceback)\n",
      "  File \"/Users/bramvandesande/miniconda3/envs/pyscenic_dev/lib/python3.6/site-packages/psutil/_psosx.py\", line 361, in catch_zombie\n",
      "    raise AccessDenied(proc.pid, proc._name)\n",
      "psutil._exceptions.AccessDenied: psutil.AccessDenied (pid=7680)\n",
      "tornado.application - ERROR - Exception in callback <bound method Nanny.memory_monitor of <Nanny: tcp://127.0.0.1:52909, threads: 1>>\n",
      "Traceback (most recent call last):\n",
      "  File \"/Users/bramvandesande/miniconda3/envs/pyscenic_dev/lib/python3.6/site-packages/psutil/_psosx.py\", line 348, in catch_zombie\n",
      "    yield\n",
      "  File \"/Users/bramvandesande/miniconda3/envs/pyscenic_dev/lib/python3.6/site-packages/psutil/_psosx.py\", line 387, in _get_pidtaskinfo\n",
      "    ret = cext.proc_pidtaskinfo_oneshot(self.pid)\n",
      "ProcessLookupError: [Errno 3] No such process\n",
      "\n",
      "During handling of the above exception, another exception occurred:\n",
      "\n",
      "Traceback (most recent call last):\n",
      "  File \"/Users/bramvandesande/miniconda3/envs/pyscenic_dev/lib/python3.6/site-packages/tornado/ioloop.py\", line 1026, in _run\n",
      "    return self.callback()\n",
      "  File \"/Users/bramvandesande/miniconda3/envs/pyscenic_dev/lib/python3.6/site-packages/distributed/nanny.py\", line 245, in memory_monitor\n",
      "    memory = psutil.Process(self.process.pid).memory_info().rss\n",
      "  File \"/Users/bramvandesande/miniconda3/envs/pyscenic_dev/lib/python3.6/site-packages/psutil/_common.py\", line 337, in wrapper\n",
      "    return fun(self)\n",
      "  File \"/Users/bramvandesande/miniconda3/envs/pyscenic_dev/lib/python3.6/site-packages/psutil/__init__.py\", line 1049, in memory_info\n",
      "    return self._proc.memory_info()\n",
      "  File \"/Users/bramvandesande/miniconda3/envs/pyscenic_dev/lib/python3.6/site-packages/psutil/_psosx.py\", line 330, in wrapper\n",
      "    return fun(self, *args, **kwargs)\n",
      "  File \"/Users/bramvandesande/miniconda3/envs/pyscenic_dev/lib/python3.6/site-packages/psutil/_psosx.py\", line 456, in memory_info\n",
      "    rawtuple = self._get_pidtaskinfo()\n",
      "  File \"/Users/bramvandesande/miniconda3/envs/pyscenic_dev/lib/python3.6/site-packages/psutil/_common.py\", line 337, in wrapper\n",
      "    return fun(self)\n",
      "  File \"/Users/bramvandesande/miniconda3/envs/pyscenic_dev/lib/python3.6/site-packages/psutil/_psosx.py\", line 387, in _get_pidtaskinfo\n",
      "    ret = cext.proc_pidtaskinfo_oneshot(self.pid)\n",
      "  File \"/Users/bramvandesande/miniconda3/envs/pyscenic_dev/lib/python3.6/contextlib.py\", line 99, in __exit__\n",
      "    self.gen.throw(type, value, traceback)\n",
      "  File \"/Users/bramvandesande/miniconda3/envs/pyscenic_dev/lib/python3.6/site-packages/psutil/_psosx.py\", line 361, in catch_zombie\n",
      "    raise AccessDenied(proc.pid, proc._name)\n",
      "psutil._exceptions.AccessDenied: psutil.AccessDenied (pid=7680)\n",
      "tornado.application - ERROR - Exception in callback <bound method Nanny.memory_monitor of <Nanny: tcp://127.0.0.1:52909, threads: 1>>\n",
      "Traceback (most recent call last):\n",
      "  File \"/Users/bramvandesande/miniconda3/envs/pyscenic_dev/lib/python3.6/site-packages/psutil/_psosx.py\", line 348, in catch_zombie\n",
      "    yield\n",
      "  File \"/Users/bramvandesande/miniconda3/envs/pyscenic_dev/lib/python3.6/site-packages/psutil/_psosx.py\", line 387, in _get_pidtaskinfo\n",
      "    ret = cext.proc_pidtaskinfo_oneshot(self.pid)\n",
      "ProcessLookupError: [Errno 3] No such process\n",
      "\n",
      "During handling of the above exception, another exception occurred:\n",
      "\n",
      "Traceback (most recent call last):\n",
      "  File \"/Users/bramvandesande/miniconda3/envs/pyscenic_dev/lib/python3.6/site-packages/tornado/ioloop.py\", line 1026, in _run\n",
      "    return self.callback()\n",
      "  File \"/Users/bramvandesande/miniconda3/envs/pyscenic_dev/lib/python3.6/site-packages/distributed/nanny.py\", line 245, in memory_monitor\n",
      "    memory = psutil.Process(self.process.pid).memory_info().rss\n",
      "  File \"/Users/bramvandesande/miniconda3/envs/pyscenic_dev/lib/python3.6/site-packages/psutil/_common.py\", line 337, in wrapper\n",
      "    return fun(self)\n",
      "  File \"/Users/bramvandesande/miniconda3/envs/pyscenic_dev/lib/python3.6/site-packages/psutil/__init__.py\", line 1049, in memory_info\n",
      "    return self._proc.memory_info()\n",
      "  File \"/Users/bramvandesande/miniconda3/envs/pyscenic_dev/lib/python3.6/site-packages/psutil/_psosx.py\", line 330, in wrapper\n",
      "    return fun(self, *args, **kwargs)\n",
      "  File \"/Users/bramvandesande/miniconda3/envs/pyscenic_dev/lib/python3.6/site-packages/psutil/_psosx.py\", line 456, in memory_info\n",
      "    rawtuple = self._get_pidtaskinfo()\n",
      "  File \"/Users/bramvandesande/miniconda3/envs/pyscenic_dev/lib/python3.6/site-packages/psutil/_common.py\", line 337, in wrapper\n",
      "    return fun(self)\n",
      "  File \"/Users/bramvandesande/miniconda3/envs/pyscenic_dev/lib/python3.6/site-packages/psutil/_psosx.py\", line 387, in _get_pidtaskinfo\n",
      "    ret = cext.proc_pidtaskinfo_oneshot(self.pid)\n",
      "  File \"/Users/bramvandesande/miniconda3/envs/pyscenic_dev/lib/python3.6/contextlib.py\", line 99, in __exit__\n",
      "    self.gen.throw(type, value, traceback)\n",
      "  File \"/Users/bramvandesande/miniconda3/envs/pyscenic_dev/lib/python3.6/site-packages/psutil/_psosx.py\", line 361, in catch_zombie\n",
      "    raise AccessDenied(proc.pid, proc._name)\n",
      "psutil._exceptions.AccessDenied: psutil.AccessDenied (pid=7680)\n"
     ]
    },
    {
     "name": "stderr",
     "output_type": "stream",
     "text": [
      "tornado.application - ERROR - Exception in callback <bound method Nanny.memory_monitor of <Nanny: tcp://127.0.0.1:52909, threads: 1>>\n",
      "Traceback (most recent call last):\n",
      "  File \"/Users/bramvandesande/miniconda3/envs/pyscenic_dev/lib/python3.6/site-packages/psutil/_psosx.py\", line 348, in catch_zombie\n",
      "    yield\n",
      "  File \"/Users/bramvandesande/miniconda3/envs/pyscenic_dev/lib/python3.6/site-packages/psutil/_psosx.py\", line 387, in _get_pidtaskinfo\n",
      "    ret = cext.proc_pidtaskinfo_oneshot(self.pid)\n",
      "ProcessLookupError: [Errno 3] No such process\n",
      "\n",
      "During handling of the above exception, another exception occurred:\n",
      "\n",
      "Traceback (most recent call last):\n",
      "  File \"/Users/bramvandesande/miniconda3/envs/pyscenic_dev/lib/python3.6/site-packages/tornado/ioloop.py\", line 1026, in _run\n",
      "    return self.callback()\n",
      "  File \"/Users/bramvandesande/miniconda3/envs/pyscenic_dev/lib/python3.6/site-packages/distributed/nanny.py\", line 245, in memory_monitor\n",
      "    memory = psutil.Process(self.process.pid).memory_info().rss\n",
      "  File \"/Users/bramvandesande/miniconda3/envs/pyscenic_dev/lib/python3.6/site-packages/psutil/_common.py\", line 337, in wrapper\n",
      "    return fun(self)\n",
      "  File \"/Users/bramvandesande/miniconda3/envs/pyscenic_dev/lib/python3.6/site-packages/psutil/__init__.py\", line 1049, in memory_info\n",
      "    return self._proc.memory_info()\n",
      "  File \"/Users/bramvandesande/miniconda3/envs/pyscenic_dev/lib/python3.6/site-packages/psutil/_psosx.py\", line 330, in wrapper\n",
      "    return fun(self, *args, **kwargs)\n",
      "  File \"/Users/bramvandesande/miniconda3/envs/pyscenic_dev/lib/python3.6/site-packages/psutil/_psosx.py\", line 456, in memory_info\n",
      "    rawtuple = self._get_pidtaskinfo()\n",
      "  File \"/Users/bramvandesande/miniconda3/envs/pyscenic_dev/lib/python3.6/site-packages/psutil/_common.py\", line 337, in wrapper\n",
      "    return fun(self)\n",
      "  File \"/Users/bramvandesande/miniconda3/envs/pyscenic_dev/lib/python3.6/site-packages/psutil/_psosx.py\", line 387, in _get_pidtaskinfo\n",
      "    ret = cext.proc_pidtaskinfo_oneshot(self.pid)\n",
      "  File \"/Users/bramvandesande/miniconda3/envs/pyscenic_dev/lib/python3.6/contextlib.py\", line 99, in __exit__\n",
      "    self.gen.throw(type, value, traceback)\n",
      "  File \"/Users/bramvandesande/miniconda3/envs/pyscenic_dev/lib/python3.6/site-packages/psutil/_psosx.py\", line 361, in catch_zombie\n",
      "    raise AccessDenied(proc.pid, proc._name)\n",
      "psutil._exceptions.AccessDenied: psutil.AccessDenied (pid=7680)\n"
     ]
    }
   ],
   "source": [
    "regulomes"
   ]
  },
  {
   "cell_type": "code",
   "execution_count": 15,
   "metadata": {},
   "outputs": [],
   "source": [
    "custom_client.close()\n",
    "local_cluster.close()"
   ]
  },
  {
   "cell_type": "code",
   "execution_count": null,
   "metadata": {},
   "outputs": [],
   "source": []
  }
 ],
 "metadata": {
  "kernelspec": {
   "display_name": "Python 3.6.2 (pyscenic_dev)",
   "language": "python",
   "name": "pyscenic_dev"
  },
  "language_info": {
   "codemirror_mode": {
    "name": "ipython",
    "version": 3
   },
   "file_extension": ".py",
   "mimetype": "text/x-python",
   "name": "python",
   "nbconvert_exporter": "python",
   "pygments_lexer": "ipython3",
   "version": "3.6.2"
  }
 },
 "nbformat": 4,
 "nbformat_minor": 2
}
