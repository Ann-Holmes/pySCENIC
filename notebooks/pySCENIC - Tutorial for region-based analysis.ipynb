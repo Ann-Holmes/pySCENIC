{
 "cells": [
  {
   "cell_type": "code",
   "execution_count": 1,
   "metadata": {},
   "outputs": [],
   "source": [
    "from pyscenic.regions import RegionRankingDatabase, convert, Delineation, load\n",
    "from pyscenic.genesig import GeneSignature\n",
    "import os"
   ]
  },
  {
   "cell_type": "code",
   "execution_count": 2,
   "metadata": {},
   "outputs": [],
   "source": [
    "DB_FOLDER = '/Users/bramvandesande/Projects/lcb/databases/'\n",
    "HG19_DB = 'hg19-regions-1M-9species.inverted.feather'\n",
    "RESOURCES_FOLDER = '/Users/bramvandesande/Projects/lcb/pyscenic/src/resources/tests'\n",
    "GMT_FNAME = 'c6.all.v6.1.symbols.gmt'"
   ]
  },
  {
   "cell_type": "code",
   "execution_count": 3,
   "metadata": {},
   "outputs": [
    {
     "name": "stdout",
     "output_type": "stream",
     "text": [
      "dm6-5kb-upstream-full-tx-11species.mc8nr.feather\n",
      "dm6_UPSTREAM5KB_FULL_TX_motifRanking.RData\n",
      "hg19-500bp-upstream-10species.mc9nr.feather\n",
      "hg19-500bp-upstream-7species.mc9nr.feather\n",
      "hg19-regions-1M-9species.bed.gz\n",
      "hg19-regions-1M-9species.inverted.feather\n",
      "hg19-regions-1M-9species.inverted.identifiers.txt\n",
      "hg19-regions-220330-9species.extracted.feather\n",
      "hg19-regions-220330-9species.inverted.feather\n",
      "hg19-regions-220330-9species.inverted.identifiers.txt\n",
      "hg19-tss-centered-10kb-10species.mc9nr.feather\n",
      "hg19-tss-centered-10kb-7species.mc9nr.feather\n",
      "hg19-tss-centered-5kb-10species.mc9nr.feather\n",
      "hg19-tss-centered-5kb-7species.mc9nr.feather\n",
      "mm9-500bp-upstream-10species.mc9nr.feather\n",
      "mm9-500bp-upstream-7species.mc9nr.feather\n",
      "mm9-tss-centered-10kb-10species.mc9nr.feather\n",
      "mm9-tss-centered-10kb-7species.mc9nr.feather\n",
      "mm9-tss-centered-5kb-10species.mc9nr.feather\n",
      "mm9-tss-centered-5kb-7species.mc9nr.feather\n"
     ]
    }
   ],
   "source": [
    "!ls {DB_FOLDER}"
   ]
  },
  {
   "cell_type": "code",
   "execution_count": 4,
   "metadata": {},
   "outputs": [],
   "source": [
    "db = RegionRankingDatabase(os.path.join(DB_FOLDER, HG19_DB), name='hg19-1M-regions')"
   ]
  },
  {
   "cell_type": "code",
   "execution_count": 5,
   "metadata": {},
   "outputs": [
    {
     "data": {
      "text/plain": [
       "1223024"
      ]
     },
     "execution_count": 5,
     "metadata": {},
     "output_type": "execute_result"
    }
   ],
   "source": [
    "len(db.regions)"
   ]
  },
  {
   "cell_type": "code",
   "execution_count": 6,
   "metadata": {},
   "outputs": [
    {
     "data": {
      "text/plain": [
       "189"
      ]
     },
     "execution_count": 6,
     "metadata": {},
     "output_type": "execute_result"
    }
   ],
   "source": [
    "signatures = GeneSignature.from_gmt(os.path.join(RESOURCES_FOLDER, GMT_FNAME), 'HGNC', field_separator='\\t', gene_separator='\\t')\n",
    "len(signatures)"
   ]
  },
  {
   "cell_type": "code",
   "execution_count": 9,
   "metadata": {},
   "outputs": [
    {
     "data": {
      "text/plain": [
       "GeneSignature(name='PTEN_DN.V2_UP', nomenclature='regions', gene2weight=<frozendict {'chr13-reg46816': 1.0, 'chr16-reg27868': 1.0, 'chr3-reg29674': 1.0, 'chr19-reg51859': 1.0, 'chr1-reg16770': 1.0, 'chr3-reg111900': 1.0, 'chr19-reg41736': 1.0, 'chr9-reg19738': 1.0, 'chr20-reg27838': 1.0, 'chr12-reg4625': 1.0, 'chr7-reg68086': 1.0, 'chr14-reg23418': 1.0, 'chr2-reg80146': 1.0, 'chr11-reg63829': 1.0, 'chr18-reg40727': 1.0, 'chr6-reg24885': 1.0, 'chr12-reg32353': 1.0, 'chr2-reg24874': 1.0, 'chr5-reg21619': 1.0, 'chr7-reg81899': 1.0, 'chr1-reg10626': 1.0, 'chr15-reg13136': 1.0, 'chr11-reg45094': 1.0, 'chr11-reg83107': 1.0, 'chr4-reg54026': 1.0, 'chr22-reg1859': 1.0, 'chr16-reg53520': 1.0, 'chr18-reg13718': 1.0, 'chr16-reg59456': 1.0, 'chr3-reg80841': 1.0, 'chr3-reg14921': 1.0, 'chr14-reg50521': 1.0, 'chr16-reg27291': 1.0, 'chr2-reg9819': 1.0, 'chr2-reg161406': 1.0, 'chr9-reg83635': 1.0, 'chr7-reg86082': 1.0, 'chr11-reg32543': 1.0, 'chr6-reg109828': 1.0, 'chr1-reg60087': 1.0, 'chr5-reg47323': 1.0, 'chr2-reg105250': 1.0, 'chr4-reg45905': 1.0, 'chr14-reg14166': 1.0, 'chr11-reg5971': 1.0, 'chr18-reg13938': 1.0, 'chr4-reg97760': 1.0, 'chr3-reg120688': 1.0, 'chr1-reg93870': 1.0, 'chr7-reg94938': 1.0, 'chr6-reg45817': 1.0, 'chr12-reg79917': 1.0, 'chr16-reg27298': 1.0, 'chr7-reg97470': 1.0, 'chr11-reg45044': 1.0, 'chr16-reg21125': 1.0, 'chr7-reg65635': 1.0, 'chr11-reg23236': 1.0, 'chr7-reg89932': 1.0, 'chr11-reg70051': 1.0, 'chr12-reg36108': 1.0, 'chr18-reg30389': 1.0, 'chr1-reg97071': 1.0, 'chr12-reg17297': 1.0, 'chr3-reg103935': 1.0, 'chr17-reg49440': 1.0, 'chr4-reg42510': 1.0, 'chr3-reg14907': 1.0, 'chr20-reg46288': 1.0, 'chr4-reg92422': 1.0, 'chr16-reg3999': 1.0, 'chr22-reg18843': 1.0, 'chr14-reg23471': 1.0, 'chr17-reg29452': 1.0, 'chr11-reg25202': 1.0, 'chr9-reg10133': 1.0, 'chr11-reg2136': 1.0, 'chr17-reg7874': 1.0, 'chr4-reg97690': 1.0, 'chr11-reg90298': 1.0, 'chr19-reg36189': 1.0, 'chr22-reg18837': 1.0, 'chr8-reg16535': 1.0, 'chr16-reg59461': 1.0, 'chr9-reg30997': 1.0, 'chr11-reg2123': 1.0, 'chr5-reg24212': 1.0, 'chr8-reg16175': 1.0, 'chr17-reg34680': 1.0, 'chr14-reg17854': 1.0, 'chr18-reg19601': 1.0, 'chr12-reg16969': 1.0, 'chr19-reg41738': 1.0, 'chr21-reg17014': 1.0, 'chr2-reg168522': 1.0, 'chr18-reg19654': 1.0, 'chr14-reg19617': 1.0, 'chr11-reg71812': 1.0, 'chr5-reg22167': 1.0, 'chr14-reg23550': 1.0, 'chr3-reg6822': 1.0, 'chr14-reg51079': 1.0, 'chr9-reg19739': 1.0, 'chr12-reg6127': 1.0, 'chr8-reg16253': 1.0, 'chr17-reg75055': 1.0, 'chr21-reg17020': 1.0, 'chr2-reg11453': 1.0, 'chrY-reg681': 1.0, 'chr10-reg49785': 1.0, 'chr15-reg64193': 1.0, 'chr11-reg51268': 1.0, 'chr12-reg53504': 1.0, 'chr13-reg52252': 1.0, 'chr22-reg13060': 1.0, 'chr3-reg80821': 1.0, 'chr2-reg67224': 1.0, 'chr12-reg13517': 1.0, 'chr1-reg58392': 1.0, 'chr14-reg19841': 1.0, 'chr16-reg78': 1.0, 'chr18-reg19655': 1.0, 'chr12-reg84041': 1.0, 'chr16-reg23620': 1.0, 'chr17-reg34601': 1.0, 'chr12-reg12238': 1.0, 'chr6-reg95864': 1.0, 'chr19-reg9940': 1.0, 'chr11-reg71822': 1.0, 'chrX-reg6497': 1.0, 'chr2-reg22956': 1.0, 'chr9-reg19462': 1.0, 'chr19-reg45463': 1.0, 'chr5-reg22169': 1.0, 'chr6-reg56889': 1.0, 'chr10-reg45375': 1.0, 'chr13-reg52256': 1.0, 'chr22-reg3047': 1.0, 'chr2-reg63201': 1.0, 'chr2-reg19508': 1.0, 'chr15-reg25521': 1.0, 'chr10-reg4846': 1.0, 'chr20-reg19': 1.0, 'chr15-reg25480': 1.0, 'chr1-reg92447': 1.0, 'chr19-reg46157': 1.0, 'chrX-reg40530': 1.0, 'chr9-reg72570': 1.0, 'chr1-reg152449': 1.0}>)"
      ]
     },
     "execution_count": 9,
     "metadata": {},
     "output_type": "execute_result"
    }
   ],
   "source": [
    "convert(signatures[89], db, Delineation.HG19_500BP_UP)"
   ]
  },
  {
   "cell_type": "code",
   "execution_count": null,
   "metadata": {},
   "outputs": [],
   "source": []
  }
 ],
 "metadata": {
  "kernelspec": {
   "display_name": "Python 3.6.4 (pyscenic_dev)",
   "language": "python",
   "name": "pyscenic_dev"
  },
  "language_info": {
   "codemirror_mode": {
    "name": "ipython",
    "version": 3
   },
   "file_extension": ".py",
   "mimetype": "text/x-python",
   "name": "python",
   "nbconvert_exporter": "python",
   "pygments_lexer": "ipython3",
   "version": "3.6.4"
  }
 },
 "nbformat": 4,
 "nbformat_minor": 2
}
