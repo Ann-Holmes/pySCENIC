{
 "cells": [
  {
   "cell_type": "markdown",
   "metadata": {},
   "source": [
    "__Author:__ Bram Van de Sande\n",
    "\n",
    "__Date:__ 15 JAN 2018\n",
    "\n",
    "__Outline:__ "
   ]
  },
  {
   "cell_type": "code",
   "execution_count": 1,
   "metadata": {},
   "outputs": [],
   "source": [
    "import pandas as pd\n",
    "import numpy as np\n",
    "import os\n",
    "\n",
    "from arboretum.algo import grnboost2\n",
    "from arboretum.utils import load_tf_names"
   ]
  },
  {
   "cell_type": "code",
   "execution_count": 2,
   "metadata": {},
   "outputs": [],
   "source": [
    "RESOURCES_FOLDER=\"/Users/bramvandesande/Projects/lcb/resources/sc-experiments/clean/\"\n",
    "DATA_FOLDER=\"/Users/bramvandesande/Projects/lcb/tmp\""
   ]
  },
  {
   "cell_type": "code",
   "execution_count": 3,
   "metadata": {},
   "outputs": [
    {
     "name": "stdout",
     "output_type": "stream",
     "text": [
      "GSE103322.mtx.tsv GSE70630.mtx.tsv  GSE76312.mtx.txt  tfs.txt\r\n",
      "GSE103322.mtx.txt GSE70630.mtx.txt  GSE81861.mtx.txt\r\n",
      "GSE57872.mtx.txt  GSE72056.mtx.txt  GSE89567.mtx.tsv\r\n",
      "GSE69405.mtx.txt  GSE75688.mtx.txt  GSE89567.mtx.txt\r\n"
     ]
    }
   ],
   "source": [
    "!ls {RESOURCES_FOLDER}"
   ]
  },
  {
   "cell_type": "markdown",
   "metadata": {},
   "source": [
    "## Load the expression matrix"
   ]
  },
  {
   "cell_type": "code",
   "execution_count": 4,
   "metadata": {},
   "outputs": [],
   "source": [
    "fname = os.path.join(RESOURCES_FOLDER, \"GSE103322.mtx.tsv\")\n",
    "ex_matrix = pd.read_csv(fname, sep='\\t', index_col=0).T"
   ]
  },
  {
   "cell_type": "code",
   "execution_count": 5,
   "metadata": {},
   "outputs": [
    {
     "data": {
      "text/html": [
       "<div>\n",
       "<style scoped>\n",
       "    .dataframe tbody tr th:only-of-type {\n",
       "        vertical-align: middle;\n",
       "    }\n",
       "\n",
       "    .dataframe tbody tr th {\n",
       "        vertical-align: top;\n",
       "    }\n",
       "\n",
       "    .dataframe thead th {\n",
       "        text-align: right;\n",
       "    }\n",
       "</style>\n",
       "<table border=\"1\" class=\"dataframe\">\n",
       "  <thead>\n",
       "    <tr style=\"text-align: right;\">\n",
       "      <th></th>\n",
       "      <th>SNORD113-9</th>\n",
       "      <th>MAGEB16</th>\n",
       "      <th>SNORA49</th>\n",
       "      <th>MIR26A1</th>\n",
       "      <th>MIR485</th>\n",
       "      <th>MIR3909</th>\n",
       "      <th>TTTY23</th>\n",
       "      <th>MIR519E</th>\n",
       "      <th>C10orf53</th>\n",
       "      <th>MIR3684</th>\n",
       "      <th>...</th>\n",
       "      <th>GAPDH</th>\n",
       "      <th>UBB</th>\n",
       "      <th>FTL</th>\n",
       "      <th>RPL7</th>\n",
       "      <th>MTRNR2L8</th>\n",
       "      <th>FTH1</th>\n",
       "      <th>ACTB</th>\n",
       "      <th>TMSB4X</th>\n",
       "      <th>MTRNR2L2</th>\n",
       "      <th>B2M</th>\n",
       "    </tr>\n",
       "  </thead>\n",
       "  <tbody>\n",
       "    <tr>\n",
       "      <th>HN28_P15_D06_S330_comb</th>\n",
       "      <td>0.0</td>\n",
       "      <td>0.0</td>\n",
       "      <td>0.0</td>\n",
       "      <td>0.0</td>\n",
       "      <td>0.0</td>\n",
       "      <td>0.0</td>\n",
       "      <td>0.0</td>\n",
       "      <td>0.0</td>\n",
       "      <td>0.0</td>\n",
       "      <td>0.0</td>\n",
       "      <td>...</td>\n",
       "      <td>0.945653</td>\n",
       "      <td>0.842134</td>\n",
       "      <td>0.833173</td>\n",
       "      <td>0.824638</td>\n",
       "      <td>1.093898</td>\n",
       "      <td>0.831537</td>\n",
       "      <td>1.072929</td>\n",
       "      <td>0.917554</td>\n",
       "      <td>1.167422</td>\n",
       "      <td>1.061845</td>\n",
       "    </tr>\n",
       "    <tr>\n",
       "      <th>HN28_P6_G05_S173_comb</th>\n",
       "      <td>0.0</td>\n",
       "      <td>0.0</td>\n",
       "      <td>0.0</td>\n",
       "      <td>0.0</td>\n",
       "      <td>0.0</td>\n",
       "      <td>0.0</td>\n",
       "      <td>0.0</td>\n",
       "      <td>0.0</td>\n",
       "      <td>0.0</td>\n",
       "      <td>0.0</td>\n",
       "      <td>...</td>\n",
       "      <td>0.971751</td>\n",
       "      <td>0.862773</td>\n",
       "      <td>0.968909</td>\n",
       "      <td>0.953399</td>\n",
       "      <td>1.124328</td>\n",
       "      <td>0.923339</td>\n",
       "      <td>0.996584</td>\n",
       "      <td>0.954457</td>\n",
       "      <td>1.170053</td>\n",
       "      <td>0.940295</td>\n",
       "    </tr>\n",
       "    <tr>\n",
       "      <th>HN26_P14_D11_S239_comb</th>\n",
       "      <td>0.0</td>\n",
       "      <td>0.0</td>\n",
       "      <td>0.0</td>\n",
       "      <td>0.0</td>\n",
       "      <td>0.0</td>\n",
       "      <td>0.0</td>\n",
       "      <td>0.0</td>\n",
       "      <td>0.0</td>\n",
       "      <td>0.0</td>\n",
       "      <td>0.0</td>\n",
       "      <td>...</td>\n",
       "      <td>1.100170</td>\n",
       "      <td>0.821669</td>\n",
       "      <td>0.956934</td>\n",
       "      <td>0.953593</td>\n",
       "      <td>1.119356</td>\n",
       "      <td>0.952363</td>\n",
       "      <td>0.821784</td>\n",
       "      <td>0.819039</td>\n",
       "      <td>1.194907</td>\n",
       "      <td>0.820894</td>\n",
       "    </tr>\n",
       "    <tr>\n",
       "      <th>HN26_P14_H05_S281_comb</th>\n",
       "      <td>0.0</td>\n",
       "      <td>0.0</td>\n",
       "      <td>0.0</td>\n",
       "      <td>0.0</td>\n",
       "      <td>0.0</td>\n",
       "      <td>0.0</td>\n",
       "      <td>0.0</td>\n",
       "      <td>0.0</td>\n",
       "      <td>0.0</td>\n",
       "      <td>0.0</td>\n",
       "      <td>...</td>\n",
       "      <td>0.705589</td>\n",
       "      <td>0.977141</td>\n",
       "      <td>0.941196</td>\n",
       "      <td>0.881868</td>\n",
       "      <td>1.049143</td>\n",
       "      <td>0.954018</td>\n",
       "      <td>0.916003</td>\n",
       "      <td>0.984108</td>\n",
       "      <td>1.171271</td>\n",
       "      <td>1.080044</td>\n",
       "    </tr>\n",
       "    <tr>\n",
       "      <th>HN26_P25_H09_S189_comb</th>\n",
       "      <td>0.0</td>\n",
       "      <td>0.0</td>\n",
       "      <td>0.0</td>\n",
       "      <td>0.0</td>\n",
       "      <td>0.0</td>\n",
       "      <td>0.0</td>\n",
       "      <td>0.0</td>\n",
       "      <td>0.0</td>\n",
       "      <td>0.0</td>\n",
       "      <td>0.0</td>\n",
       "      <td>...</td>\n",
       "      <td>1.001442</td>\n",
       "      <td>0.850375</td>\n",
       "      <td>0.874529</td>\n",
       "      <td>0.973545</td>\n",
       "      <td>1.156655</td>\n",
       "      <td>0.938911</td>\n",
       "      <td>0.720506</td>\n",
       "      <td>0.857750</td>\n",
       "      <td>1.227803</td>\n",
       "      <td>0.934479</td>\n",
       "    </tr>\n",
       "  </tbody>\n",
       "</table>\n",
       "<p>5 rows × 20684 columns</p>\n",
       "</div>"
      ],
      "text/plain": [
       "                        SNORD113-9  MAGEB16  SNORA49  MIR26A1  MIR485  \\\n",
       "HN28_P15_D06_S330_comb         0.0      0.0      0.0      0.0     0.0   \n",
       "HN28_P6_G05_S173_comb          0.0      0.0      0.0      0.0     0.0   \n",
       "HN26_P14_D11_S239_comb         0.0      0.0      0.0      0.0     0.0   \n",
       "HN26_P14_H05_S281_comb         0.0      0.0      0.0      0.0     0.0   \n",
       "HN26_P25_H09_S189_comb         0.0      0.0      0.0      0.0     0.0   \n",
       "\n",
       "                        MIR3909  TTTY23  MIR519E  C10orf53  MIR3684    ...     \\\n",
       "HN28_P15_D06_S330_comb      0.0     0.0      0.0       0.0      0.0    ...      \n",
       "HN28_P6_G05_S173_comb       0.0     0.0      0.0       0.0      0.0    ...      \n",
       "HN26_P14_D11_S239_comb      0.0     0.0      0.0       0.0      0.0    ...      \n",
       "HN26_P14_H05_S281_comb      0.0     0.0      0.0       0.0      0.0    ...      \n",
       "HN26_P25_H09_S189_comb      0.0     0.0      0.0       0.0      0.0    ...      \n",
       "\n",
       "                           GAPDH       UBB       FTL      RPL7  MTRNR2L8  \\\n",
       "HN28_P15_D06_S330_comb  0.945653  0.842134  0.833173  0.824638  1.093898   \n",
       "HN28_P6_G05_S173_comb   0.971751  0.862773  0.968909  0.953399  1.124328   \n",
       "HN26_P14_D11_S239_comb  1.100170  0.821669  0.956934  0.953593  1.119356   \n",
       "HN26_P14_H05_S281_comb  0.705589  0.977141  0.941196  0.881868  1.049143   \n",
       "HN26_P25_H09_S189_comb  1.001442  0.850375  0.874529  0.973545  1.156655   \n",
       "\n",
       "                            FTH1      ACTB    TMSB4X  MTRNR2L2       B2M  \n",
       "HN28_P15_D06_S330_comb  0.831537  1.072929  0.917554  1.167422  1.061845  \n",
       "HN28_P6_G05_S173_comb   0.923339  0.996584  0.954457  1.170053  0.940295  \n",
       "HN26_P14_D11_S239_comb  0.952363  0.821784  0.819039  1.194907  0.820894  \n",
       "HN26_P14_H05_S281_comb  0.954018  0.916003  0.984108  1.171271  1.080044  \n",
       "HN26_P25_H09_S189_comb  0.938911  0.720506  0.857750  1.227803  0.934479  \n",
       "\n",
       "[5 rows x 20684 columns]"
      ]
     },
     "execution_count": 5,
     "metadata": {},
     "output_type": "execute_result"
    }
   ],
   "source": [
    "ex_matrix.head()"
   ]
  },
  {
   "cell_type": "code",
   "execution_count": 6,
   "metadata": {},
   "outputs": [
    {
     "data": {
      "text/plain": [
       "(5902, 20684)"
      ]
     },
     "execution_count": 6,
     "metadata": {},
     "output_type": "execute_result"
    }
   ],
   "source": [
    "ex_matrix.shape"
   ]
  },
  {
   "cell_type": "markdown",
   "metadata": {},
   "source": [
    "## Derive list of Transcription Factors(TF) for _Homo sapiens_"
   ]
  },
  {
   "cell_type": "code",
   "execution_count": 7,
   "metadata": {},
   "outputs": [],
   "source": [
    "tf_names = load_tf_names(os.path.join(RESOURCES_FOLDER, 'tfs.txt'))"
   ]
  },
  {
   "cell_type": "markdown",
   "metadata": {},
   "source": [
    "## Run GRNBoost to infer co-expression modules\n",
    "\n",
    "The arboretum package is used for this phase of the pipeline. For this notebook only a sample of 1,000 cells is used for the co-expression module inference is used."
   ]
  },
  {
   "cell_type": "code",
   "execution_count": 8,
   "metadata": {},
   "outputs": [],
   "source": [
    "N_SAMPLES = 5902"
   ]
  },
  {
   "cell_type": "code",
   "execution_count": 9,
   "metadata": {},
   "outputs": [
    {
     "name": "stdout",
     "output_type": "stream",
     "text": [
      "preparing dask client\n",
      "parsing input\n",
      "creating dask graph\n",
      "computing dask graph\n",
      "shutting down client and local cluster\n"
     ]
    },
    {
     "name": "stderr",
     "output_type": "stream",
     "text": [
      "tornado.application - ERROR - Exception in callback functools.partial(<function wrap.<locals>.null_wrapper at 0x10e078ae8>, <tornado.concurrent.Future object at 0x104645f98>)\n",
      "Traceback (most recent call last):\n",
      "  File \"/Users/bramvandesande/miniconda3/envs/pyscenic_dev/lib/python3.6/site-packages/tornado/ioloop.py\", line 605, in _run_callback\n",
      "    ret = callback()\n",
      "  File \"/Users/bramvandesande/miniconda3/envs/pyscenic_dev/lib/python3.6/site-packages/tornado/stack_context.py\", line 277, in null_wrapper\n",
      "    return fn(*args, **kwargs)\n",
      "  File \"/Users/bramvandesande/miniconda3/envs/pyscenic_dev/lib/python3.6/site-packages/tornado/ioloop.py\", line 626, in _discard_future_result\n",
      "    future.result()\n",
      "  File \"/Users/bramvandesande/miniconda3/envs/pyscenic_dev/lib/python3.6/site-packages/tornado/concurrent.py\", line 238, in result\n",
      "    raise_exc_info(self._exc_info)\n",
      "  File \"<string>\", line 4, in raise_exc_info\n",
      "  File \"/Users/bramvandesande/miniconda3/envs/pyscenic_dev/lib/python3.6/site-packages/tornado/gen.py\", line 1069, in run\n",
      "    yielded = self.gen.send(value)\n",
      "  File \"/Users/bramvandesande/miniconda3/envs/pyscenic_dev/lib/python3.6/site-packages/distributed/scheduler.py\", line 3458, in reevaluate_occupancy\n",
      "    self._reevaluate_occupancy_worker(w)\n",
      "  File \"/Users/bramvandesande/miniconda3/envs/pyscenic_dev/lib/python3.6/site-packages/distributed/scheduler.py\", line 3480, in _reevaluate_occupancy_worker\n",
      "    comm = self.get_comm_cost(key, worker)\n",
      "  File \"/Users/bramvandesande/miniconda3/envs/pyscenic_dev/lib/python3.6/site-packages/distributed/scheduler.py\", line 2197, in get_comm_cost\n",
      "    self.dependencies[key] - self.has_what[worker])\n",
      "KeyError: 'infer_data-0fb51bd49921ce3a43cd06141a63092b'\n",
      "tornado.application - ERROR - Exception in callback <bound method Nanny.memory_monitor of <Nanny: tcp://127.0.0.1:53807, threads: 1>>\n",
      "Traceback (most recent call last):\n",
      "  File \"/Users/bramvandesande/miniconda3/envs/pyscenic_dev/lib/python3.6/site-packages/tornado/ioloop.py\", line 1026, in _run\n",
      "    return self.callback()\n",
      "  File \"/Users/bramvandesande/miniconda3/envs/pyscenic_dev/lib/python3.6/site-packages/distributed/nanny.py\", line 249, in memory_monitor\n",
      "    self.process.process.terminate()\n",
      "AttributeError: 'NoneType' object has no attribute 'terminate'\n",
      "tornado.application - ERROR - Exception in callback <bound method Nanny.memory_monitor of <Nanny: tcp://127.0.0.1:53817, threads: 1>>\n",
      "Traceback (most recent call last):\n",
      "  File \"/Users/bramvandesande/miniconda3/envs/pyscenic_dev/lib/python3.6/site-packages/tornado/ioloop.py\", line 1026, in _run\n",
      "    return self.callback()\n",
      "  File \"/Users/bramvandesande/miniconda3/envs/pyscenic_dev/lib/python3.6/site-packages/distributed/nanny.py\", line 249, in memory_monitor\n",
      "    self.process.process.terminate()\n",
      "AttributeError: 'NoneType' object has no attribute 'terminate'\n",
      "tornado.application - ERROR - Exception in callback <bound method Nanny.memory_monitor of <Nanny: tcp://127.0.0.1:53803, threads: 1>>\n",
      "Traceback (most recent call last):\n",
      "  File \"/Users/bramvandesande/miniconda3/envs/pyscenic_dev/lib/python3.6/site-packages/tornado/ioloop.py\", line 1026, in _run\n",
      "    return self.callback()\n",
      "  File \"/Users/bramvandesande/miniconda3/envs/pyscenic_dev/lib/python3.6/site-packages/distributed/nanny.py\", line 249, in memory_monitor\n",
      "    self.process.process.terminate()\n",
      "AttributeError: 'NoneType' object has no attribute 'terminate'\n",
      "tornado.application - ERROR - Exception in callback <bound method Nanny.memory_monitor of <Nanny: tcp://127.0.0.1:53808, threads: 1>>\n",
      "Traceback (most recent call last):\n",
      "  File \"/Users/bramvandesande/miniconda3/envs/pyscenic_dev/lib/python3.6/site-packages/tornado/ioloop.py\", line 1026, in _run\n",
      "    return self.callback()\n",
      "  File \"/Users/bramvandesande/miniconda3/envs/pyscenic_dev/lib/python3.6/site-packages/distributed/nanny.py\", line 249, in memory_monitor\n",
      "    self.process.process.terminate()\n",
      "AttributeError: 'NoneType' object has no attribute 'terminate'\n",
      "tornado.application - ERROR - Exception in callback <bound method Nanny.memory_monitor of <Nanny: tcp://127.0.0.1:53820, threads: 1>>\n",
      "Traceback (most recent call last):\n",
      "  File \"/Users/bramvandesande/miniconda3/envs/pyscenic_dev/lib/python3.6/site-packages/tornado/ioloop.py\", line 1026, in _run\n",
      "    return self.callback()\n",
      "  File \"/Users/bramvandesande/miniconda3/envs/pyscenic_dev/lib/python3.6/site-packages/distributed/nanny.py\", line 249, in memory_monitor\n",
      "    self.process.process.terminate()\n",
      "AttributeError: 'NoneType' object has no attribute 'terminate'\n",
      "tornado.application - ERROR - Exception in callback <bound method Nanny.memory_monitor of <Nanny: tcp://127.0.0.1:53813, threads: 1>>\n",
      "Traceback (most recent call last):\n",
      "  File \"/Users/bramvandesande/miniconda3/envs/pyscenic_dev/lib/python3.6/site-packages/tornado/ioloop.py\", line 1026, in _run\n",
      "    return self.callback()\n",
      "  File \"/Users/bramvandesande/miniconda3/envs/pyscenic_dev/lib/python3.6/site-packages/distributed/nanny.py\", line 249, in memory_monitor\n",
      "    self.process.process.terminate()\n",
      "AttributeError: 'NoneType' object has no attribute 'terminate'\n",
      "tornado.application - ERROR - Exception in callback <bound method Nanny.memory_monitor of <Nanny: tcp://127.0.0.1:53811, threads: 1>>\n",
      "Traceback (most recent call last):\n",
      "  File \"/Users/bramvandesande/miniconda3/envs/pyscenic_dev/lib/python3.6/site-packages/tornado/ioloop.py\", line 1026, in _run\n",
      "    return self.callback()\n",
      "  File \"/Users/bramvandesande/miniconda3/envs/pyscenic_dev/lib/python3.6/site-packages/distributed/nanny.py\", line 249, in memory_monitor\n",
      "    self.process.process.terminate()\n",
      "AttributeError: 'NoneType' object has no attribute 'terminate'\n",
      "tornado.application - ERROR - Exception in callback <bound method Nanny.memory_monitor of <Nanny: tcp://127.0.0.1:53801, threads: 1>>\n",
      "Traceback (most recent call last):\n",
      "  File \"/Users/bramvandesande/miniconda3/envs/pyscenic_dev/lib/python3.6/site-packages/tornado/ioloop.py\", line 1026, in _run\n",
      "    return self.callback()\n",
      "  File \"/Users/bramvandesande/miniconda3/envs/pyscenic_dev/lib/python3.6/site-packages/distributed/nanny.py\", line 249, in memory_monitor\n",
      "    self.process.process.terminate()\n",
      "AttributeError: 'NoneType' object has no attribute 'terminate'\n"
     ]
    },
    {
     "name": "stdout",
     "output_type": "stream",
     "text": [
      "finished\n"
     ]
    },
    {
     "ename": "KeyboardInterrupt",
     "evalue": "",
     "output_type": "error",
     "traceback": [
      "\u001b[0;31m---------------------------------------------------------------------------\u001b[0m",
      "\u001b[0;31mKeyboardInterrupt\u001b[0m                         Traceback (most recent call last)",
      "\u001b[0;32m<ipython-input-9-ac7158e65a05>\u001b[0m in \u001b[0;36m<module>\u001b[0;34m()\u001b[0m\n\u001b[1;32m      1\u001b[0m network = grnboost2(expression_data=ex_matrix.sample(n=N_SAMPLES),\n\u001b[0;32m----> 2\u001b[0;31m                     tf_names=tf_names, verbose=True)\n\u001b[0m",
      "\u001b[0;32m~/miniconda3/envs/pyscenic_dev/lib/python3.6/site-packages/arboretum/algo.py\u001b[0m in \u001b[0;36mgrnboost2\u001b[0;34m(expression_data, gene_names, tf_names, client_or_address, limit, seed, verbose)\u001b[0m\n\u001b[1;32m     37\u001b[0m     return diy(expression_data=expression_data, regressor_type='GBM', regressor_kwargs=SGBM_KWARGS,\n\u001b[1;32m     38\u001b[0m                \u001b[0mgene_names\u001b[0m\u001b[0;34m=\u001b[0m\u001b[0mgene_names\u001b[0m\u001b[0;34m,\u001b[0m \u001b[0mtf_names\u001b[0m\u001b[0;34m=\u001b[0m\u001b[0mtf_names\u001b[0m\u001b[0;34m,\u001b[0m \u001b[0mclient_or_address\u001b[0m\u001b[0;34m=\u001b[0m\u001b[0mclient_or_address\u001b[0m\u001b[0;34m,\u001b[0m\u001b[0;34m\u001b[0m\u001b[0m\n\u001b[0;32m---> 39\u001b[0;31m                limit=limit, seed=seed, verbose=verbose)\n\u001b[0m\u001b[1;32m     40\u001b[0m \u001b[0;34m\u001b[0m\u001b[0m\n\u001b[1;32m     41\u001b[0m \u001b[0;34m\u001b[0m\u001b[0m\n",
      "\u001b[0;32m~/miniconda3/envs/pyscenic_dev/lib/python3.6/site-packages/arboretum/algo.py\u001b[0m in \u001b[0;36mdiy\u001b[0;34m(expression_data, regressor_type, regressor_kwargs, gene_names, tf_names, client_or_address, limit, seed, verbose)\u001b[0m\n\u001b[1;32m    127\u001b[0m \u001b[0;34m\u001b[0m\u001b[0m\n\u001b[1;32m    128\u001b[0m         \u001b[0;32mreturn\u001b[0m \u001b[0mclient\u001b[0m\u001b[0;31m \u001b[0m\u001b[0;31m\\\u001b[0m\u001b[0;34m\u001b[0m\u001b[0m\n\u001b[0;32m--> 129\u001b[0;31m             \u001b[0;34m.\u001b[0m\u001b[0mcompute\u001b[0m\u001b[0;34m(\u001b[0m\u001b[0mgraph\u001b[0m\u001b[0;34m,\u001b[0m \u001b[0msync\u001b[0m\u001b[0;34m=\u001b[0m\u001b[0;32mTrue\u001b[0m\u001b[0;34m)\u001b[0m\u001b[0;31m \u001b[0m\u001b[0;31m\\\u001b[0m\u001b[0;34m\u001b[0m\u001b[0m\n\u001b[0m\u001b[1;32m    130\u001b[0m             \u001b[0;34m.\u001b[0m\u001b[0msort_values\u001b[0m\u001b[0;34m(\u001b[0m\u001b[0mby\u001b[0m\u001b[0;34m=\u001b[0m\u001b[0;34m'importance'\u001b[0m\u001b[0;34m,\u001b[0m \u001b[0mascending\u001b[0m\u001b[0;34m=\u001b[0m\u001b[0;32mFalse\u001b[0m\u001b[0;34m)\u001b[0m\u001b[0;34m\u001b[0m\u001b[0m\n\u001b[1;32m    131\u001b[0m \u001b[0;34m\u001b[0m\u001b[0m\n",
      "\u001b[0;32m~/miniconda3/envs/pyscenic_dev/lib/python3.6/site-packages/distributed/client.py\u001b[0m in \u001b[0;36mcompute\u001b[0;34m(self, collections, sync, optimize_graph, workers, allow_other_workers, resources, retries, **kwargs)\u001b[0m\n\u001b[1;32m   2168\u001b[0m \u001b[0;34m\u001b[0m\u001b[0m\n\u001b[1;32m   2169\u001b[0m         \u001b[0;32mif\u001b[0m \u001b[0msync\u001b[0m\u001b[0;34m:\u001b[0m\u001b[0;34m\u001b[0m\u001b[0m\n\u001b[0;32m-> 2170\u001b[0;31m             \u001b[0mresult\u001b[0m \u001b[0;34m=\u001b[0m \u001b[0mself\u001b[0m\u001b[0;34m.\u001b[0m\u001b[0mgather\u001b[0m\u001b[0;34m(\u001b[0m\u001b[0mfutures\u001b[0m\u001b[0;34m)\u001b[0m\u001b[0;34m\u001b[0m\u001b[0m\n\u001b[0m\u001b[1;32m   2171\u001b[0m         \u001b[0;32melse\u001b[0m\u001b[0;34m:\u001b[0m\u001b[0;34m\u001b[0m\u001b[0m\n\u001b[1;32m   2172\u001b[0m             \u001b[0mresult\u001b[0m \u001b[0;34m=\u001b[0m \u001b[0mfutures\u001b[0m\u001b[0;34m\u001b[0m\u001b[0m\n",
      "\u001b[0;32m~/miniconda3/envs/pyscenic_dev/lib/python3.6/site-packages/distributed/client.py\u001b[0m in \u001b[0;36mgather\u001b[0;34m(self, futures, errors, maxsize, direct, asynchronous)\u001b[0m\n\u001b[1;32m   1435\u001b[0m             return self.sync(self._gather, futures, errors=errors,\n\u001b[1;32m   1436\u001b[0m                              \u001b[0mdirect\u001b[0m\u001b[0;34m=\u001b[0m\u001b[0mdirect\u001b[0m\u001b[0;34m,\u001b[0m \u001b[0mlocal_worker\u001b[0m\u001b[0;34m=\u001b[0m\u001b[0mlocal_worker\u001b[0m\u001b[0;34m,\u001b[0m\u001b[0;34m\u001b[0m\u001b[0m\n\u001b[0;32m-> 1437\u001b[0;31m                              asynchronous=asynchronous)\n\u001b[0m\u001b[1;32m   1438\u001b[0m \u001b[0;34m\u001b[0m\u001b[0m\n\u001b[1;32m   1439\u001b[0m     \u001b[0;34m@\u001b[0m\u001b[0mgen\u001b[0m\u001b[0;34m.\u001b[0m\u001b[0mcoroutine\u001b[0m\u001b[0;34m\u001b[0m\u001b[0m\n",
      "\u001b[0;32m~/miniconda3/envs/pyscenic_dev/lib/python3.6/site-packages/distributed/client.py\u001b[0m in \u001b[0;36msync\u001b[0;34m(self, func, *args, **kwargs)\u001b[0m\n\u001b[1;32m    590\u001b[0m             \u001b[0;32mreturn\u001b[0m \u001b[0mfuture\u001b[0m\u001b[0;34m\u001b[0m\u001b[0m\n\u001b[1;32m    591\u001b[0m         \u001b[0;32melse\u001b[0m\u001b[0;34m:\u001b[0m\u001b[0;34m\u001b[0m\u001b[0m\n\u001b[0;32m--> 592\u001b[0;31m             \u001b[0;32mreturn\u001b[0m \u001b[0msync\u001b[0m\u001b[0;34m(\u001b[0m\u001b[0mself\u001b[0m\u001b[0;34m.\u001b[0m\u001b[0mloop\u001b[0m\u001b[0;34m,\u001b[0m \u001b[0mfunc\u001b[0m\u001b[0;34m,\u001b[0m \u001b[0;34m*\u001b[0m\u001b[0margs\u001b[0m\u001b[0;34m,\u001b[0m \u001b[0;34m**\u001b[0m\u001b[0mkwargs\u001b[0m\u001b[0;34m)\u001b[0m\u001b[0;34m\u001b[0m\u001b[0m\n\u001b[0m\u001b[1;32m    593\u001b[0m \u001b[0;34m\u001b[0m\u001b[0m\n\u001b[1;32m    594\u001b[0m     \u001b[0;32mdef\u001b[0m \u001b[0m__repr__\u001b[0m\u001b[0;34m(\u001b[0m\u001b[0mself\u001b[0m\u001b[0;34m)\u001b[0m\u001b[0;34m:\u001b[0m\u001b[0;34m\u001b[0m\u001b[0m\n",
      "\u001b[0;32m~/miniconda3/envs/pyscenic_dev/lib/python3.6/site-packages/distributed/utils.py\u001b[0m in \u001b[0;36msync\u001b[0;34m(loop, func, *args, **kwargs)\u001b[0m\n\u001b[1;32m    250\u001b[0m     \u001b[0;32melse\u001b[0m\u001b[0;34m:\u001b[0m\u001b[0;34m\u001b[0m\u001b[0m\n\u001b[1;32m    251\u001b[0m         \u001b[0;32mwhile\u001b[0m \u001b[0;32mnot\u001b[0m \u001b[0me\u001b[0m\u001b[0;34m.\u001b[0m\u001b[0mis_set\u001b[0m\u001b[0;34m(\u001b[0m\u001b[0;34m)\u001b[0m\u001b[0;34m:\u001b[0m\u001b[0;34m\u001b[0m\u001b[0m\n\u001b[0;32m--> 252\u001b[0;31m             \u001b[0me\u001b[0m\u001b[0;34m.\u001b[0m\u001b[0mwait\u001b[0m\u001b[0;34m(\u001b[0m\u001b[0;36m1000000\u001b[0m\u001b[0;34m)\u001b[0m\u001b[0;34m\u001b[0m\u001b[0m\n\u001b[0m\u001b[1;32m    253\u001b[0m     \u001b[0;32mif\u001b[0m \u001b[0merror\u001b[0m\u001b[0;34m[\u001b[0m\u001b[0;36m0\u001b[0m\u001b[0;34m]\u001b[0m\u001b[0;34m:\u001b[0m\u001b[0;34m\u001b[0m\u001b[0m\n\u001b[1;32m    254\u001b[0m         \u001b[0msix\u001b[0m\u001b[0;34m.\u001b[0m\u001b[0mreraise\u001b[0m\u001b[0;34m(\u001b[0m\u001b[0;34m*\u001b[0m\u001b[0merror\u001b[0m\u001b[0;34m[\u001b[0m\u001b[0;36m0\u001b[0m\u001b[0;34m]\u001b[0m\u001b[0;34m)\u001b[0m\u001b[0;34m\u001b[0m\u001b[0m\n",
      "\u001b[0;32m~/miniconda3/envs/pyscenic_dev/lib/python3.6/threading.py\u001b[0m in \u001b[0;36mwait\u001b[0;34m(self, timeout)\u001b[0m\n\u001b[1;32m    549\u001b[0m             \u001b[0msignaled\u001b[0m \u001b[0;34m=\u001b[0m \u001b[0mself\u001b[0m\u001b[0;34m.\u001b[0m\u001b[0m_flag\u001b[0m\u001b[0;34m\u001b[0m\u001b[0m\n\u001b[1;32m    550\u001b[0m             \u001b[0;32mif\u001b[0m \u001b[0;32mnot\u001b[0m \u001b[0msignaled\u001b[0m\u001b[0;34m:\u001b[0m\u001b[0;34m\u001b[0m\u001b[0m\n\u001b[0;32m--> 551\u001b[0;31m                 \u001b[0msignaled\u001b[0m \u001b[0;34m=\u001b[0m \u001b[0mself\u001b[0m\u001b[0;34m.\u001b[0m\u001b[0m_cond\u001b[0m\u001b[0;34m.\u001b[0m\u001b[0mwait\u001b[0m\u001b[0;34m(\u001b[0m\u001b[0mtimeout\u001b[0m\u001b[0;34m)\u001b[0m\u001b[0;34m\u001b[0m\u001b[0m\n\u001b[0m\u001b[1;32m    552\u001b[0m             \u001b[0;32mreturn\u001b[0m \u001b[0msignaled\u001b[0m\u001b[0;34m\u001b[0m\u001b[0m\n\u001b[1;32m    553\u001b[0m \u001b[0;34m\u001b[0m\u001b[0m\n",
      "\u001b[0;32m~/miniconda3/envs/pyscenic_dev/lib/python3.6/threading.py\u001b[0m in \u001b[0;36mwait\u001b[0;34m(self, timeout)\u001b[0m\n\u001b[1;32m    297\u001b[0m             \u001b[0;32melse\u001b[0m\u001b[0;34m:\u001b[0m\u001b[0;34m\u001b[0m\u001b[0m\n\u001b[1;32m    298\u001b[0m                 \u001b[0;32mif\u001b[0m \u001b[0mtimeout\u001b[0m \u001b[0;34m>\u001b[0m \u001b[0;36m0\u001b[0m\u001b[0;34m:\u001b[0m\u001b[0;34m\u001b[0m\u001b[0m\n\u001b[0;32m--> 299\u001b[0;31m                     \u001b[0mgotit\u001b[0m \u001b[0;34m=\u001b[0m \u001b[0mwaiter\u001b[0m\u001b[0;34m.\u001b[0m\u001b[0macquire\u001b[0m\u001b[0;34m(\u001b[0m\u001b[0;32mTrue\u001b[0m\u001b[0;34m,\u001b[0m \u001b[0mtimeout\u001b[0m\u001b[0;34m)\u001b[0m\u001b[0;34m\u001b[0m\u001b[0m\n\u001b[0m\u001b[1;32m    300\u001b[0m                 \u001b[0;32melse\u001b[0m\u001b[0;34m:\u001b[0m\u001b[0;34m\u001b[0m\u001b[0m\n\u001b[1;32m    301\u001b[0m                     \u001b[0mgotit\u001b[0m \u001b[0;34m=\u001b[0m \u001b[0mwaiter\u001b[0m\u001b[0;34m.\u001b[0m\u001b[0macquire\u001b[0m\u001b[0;34m(\u001b[0m\u001b[0;32mFalse\u001b[0m\u001b[0;34m)\u001b[0m\u001b[0;34m\u001b[0m\u001b[0m\n",
      "\u001b[0;31mKeyboardInterrupt\u001b[0m: "
     ]
    }
   ],
   "source": [
    "network = grnboost2(expression_data=ex_matrix.sample(n=N_SAMPLES),\n",
    "                    tf_names=tf_names, verbose=True)"
   ]
  },
  {
   "cell_type": "code",
   "execution_count": 19,
   "metadata": {},
   "outputs": [
    {
     "data": {
      "text/html": [
       "<div>\n",
       "<style scoped>\n",
       "    .dataframe tbody tr th:only-of-type {\n",
       "        vertical-align: middle;\n",
       "    }\n",
       "\n",
       "    .dataframe tbody tr th {\n",
       "        vertical-align: top;\n",
       "    }\n",
       "\n",
       "    .dataframe thead th {\n",
       "        text-align: right;\n",
       "    }\n",
       "</style>\n",
       "<table border=\"1\" class=\"dataframe\">\n",
       "  <thead>\n",
       "    <tr style=\"text-align: right;\">\n",
       "      <th></th>\n",
       "      <th>TF</th>\n",
       "      <th>target</th>\n",
       "      <th>importance</th>\n",
       "    </tr>\n",
       "  </thead>\n",
       "  <tbody>\n",
       "    <tr>\n",
       "      <th>35</th>\n",
       "      <td>Rpl7</td>\n",
       "      <td>Rpl34-ps1</td>\n",
       "      <td>86.119870</td>\n",
       "    </tr>\n",
       "    <tr>\n",
       "      <th>172</th>\n",
       "      <td>Olig1</td>\n",
       "      <td>Cnp</td>\n",
       "      <td>70.127927</td>\n",
       "    </tr>\n",
       "    <tr>\n",
       "      <th>172</th>\n",
       "      <td>Olig1</td>\n",
       "      <td>Tspan2</td>\n",
       "      <td>69.595029</td>\n",
       "    </tr>\n",
       "    <tr>\n",
       "      <th>155</th>\n",
       "      <td>Neurod6</td>\n",
       "      <td>Hpca</td>\n",
       "      <td>68.236759</td>\n",
       "    </tr>\n",
       "    <tr>\n",
       "      <th>172</th>\n",
       "      <td>Olig1</td>\n",
       "      <td>Cers2</td>\n",
       "      <td>67.195168</td>\n",
       "    </tr>\n",
       "  </tbody>\n",
       "</table>\n",
       "</div>"
      ],
      "text/plain": [
       "          TF     target  importance\n",
       "35      Rpl7  Rpl34-ps1   86.119870\n",
       "172    Olig1        Cnp   70.127927\n",
       "172    Olig1     Tspan2   69.595029\n",
       "155  Neurod6       Hpca   68.236759\n",
       "172    Olig1      Cers2   67.195168"
      ]
     },
     "execution_count": 19,
     "metadata": {},
     "output_type": "execute_result"
    }
   ],
   "source": [
    "network.head()"
   ]
  },
  {
   "cell_type": "code",
   "execution_count": 27,
   "metadata": {},
   "outputs": [
    {
     "data": {
      "text/plain": [
       "4109019"
      ]
     },
     "execution_count": 27,
     "metadata": {},
     "output_type": "execute_result"
    }
   ],
   "source": [
    "len(network)"
   ]
  },
  {
   "cell_type": "code",
   "execution_count": 28,
   "metadata": {},
   "outputs": [],
   "source": [
    "network.to_csv(os.path.join(DATA_FOLDER, \"coexpression-modules.tsv\"), index=False, sep='\\t')"
   ]
  },
  {
   "cell_type": "code",
   "execution_count": null,
   "metadata": {},
   "outputs": [],
   "source": []
  }
 ],
 "metadata": {
  "kernelspec": {
   "display_name": "Python 3.6.2 (pyscenic_dev)",
   "language": "python",
   "name": "pyscenic_dev"
  },
  "language_info": {
   "codemirror_mode": {
    "name": "ipython",
    "version": 3
   },
   "file_extension": ".py",
   "mimetype": "text/x-python",
   "name": "python",
   "nbconvert_exporter": "python",
   "pygments_lexer": "ipython3",
   "version": "3.6.2"
  }
 },
 "nbformat": 4,
 "nbformat_minor": 2
}
