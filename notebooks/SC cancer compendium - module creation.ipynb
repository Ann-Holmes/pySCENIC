{
 "cells": [
  {
   "cell_type": "markdown",
   "metadata": {},
   "source": [
    "__Author:__ Bram Van de Sande\n",
    "\n",
    "__Date:__ 5 MAR 2018\n",
    "\n",
    "__Outline:__ From GRNboost derived adjancency lists to real module."
   ]
  },
  {
   "cell_type": "code",
   "execution_count": 1,
   "metadata": {},
   "outputs": [],
   "source": [
    "import pandas as pd\n",
    "import os\n",
    "import glob\n",
    "from pyscenic.utils import modules_from_genie3, save_to_yaml\n",
    "import pandas as pd"
   ]
  },
  {
   "cell_type": "code",
   "execution_count": 2,
   "metadata": {},
   "outputs": [],
   "source": [
    "RESOURCES_FOLDER = '/Users/bramvandesande/Projects/lcb/resources/sc-experiments/clean'"
   ]
  },
  {
   "cell_type": "code",
   "execution_count": 3,
   "metadata": {},
   "outputs": [
    {
     "name": "stdout",
     "output_type": "stream",
     "text": [
      "/Users/bramvandesande/Projects/lcb/resources/sc-experiments/clean/GSE103322.net.csv\n",
      "/Users/bramvandesande/Projects/lcb/resources/sc-experiments/clean/GSE57872.net.csv\n",
      "/Users/bramvandesande/Projects/lcb/resources/sc-experiments/clean/GSE69405.net.csv\n",
      "/Users/bramvandesande/Projects/lcb/resources/sc-experiments/clean/GSE70630.net.csv\n",
      "/Users/bramvandesande/Projects/lcb/resources/sc-experiments/clean/GSE72056.net.csv\n",
      "/Users/bramvandesande/Projects/lcb/resources/sc-experiments/clean/GSE75688.net.csv\n",
      "/Users/bramvandesande/Projects/lcb/resources/sc-experiments/clean/GSE76312.net.csv\n",
      "/Users/bramvandesande/Projects/lcb/resources/sc-experiments/clean/GSE81861.net.csv\n",
      "/Users/bramvandesande/Projects/lcb/resources/sc-experiments/clean/GSE89567.net.csv\n",
      "/Users/bramvandesande/Projects/lcb/resources/sc-experiments/clean/b_thienpont.net.csv\n"
     ]
    }
   ],
   "source": [
    "!ls {RESOURCES_FOLDER}/*.net.csv"
   ]
  },
  {
   "cell_type": "code",
   "execution_count": 4,
   "metadata": {},
   "outputs": [
    {
     "name": "stdout",
     "output_type": "stream",
     "text": [
      "GSE75688\n",
      "GSE70630\n",
      "GSE89567\n",
      "GSE72056\n",
      "GSE103322\n",
      "        TF   target  importance\n",
      "0  ZNF286B  ZNF286A  210.827991\n",
      "1  ZNF286A  ZNF286B  147.963754\n",
      "2  FOXD4L4  FOXD4L2  136.112253\n",
      "3    GATA2     CPA3  131.044475\n",
      "4    GATA2    TPSB2  126.791052\n",
      "GSE81861\n",
      "          TF     target  importance\n",
      "0    ZNF286A    ZNF286B  163.507377\n",
      "1   GTF2IRD2  GTF2IRD2B  157.193684\n",
      "2    ZNF286B    ZNF286A  148.020450\n",
      "3  GTF2IRD2B   GTF2IRD2  123.149697\n",
      "4       SPIB        CA7  118.932921\n",
      "GSE57872\n",
      "       TF   target  importance\n",
      "0  ZNF471  TMEM212   46.624665\n",
      "1   CTCFL    HMGB1   45.977107\n",
      "2  ZNF471    MORC4   45.868070\n",
      "3  ZNF471   MIPOL1   43.095833\n",
      "4  ZNF471    ABCC9   41.749932\n",
      "b_thienpont\n",
      "      TF  target  importance\n",
      "0  GATA2   LTC4S    0.877992\n",
      "1  GATA2    CPA3    0.803889\n",
      "2  GATA2  TPSAB1    0.679747\n",
      "3  GATA2   HPGDS    0.653688\n",
      "4  GATA2   MS4A2    0.651024\n",
      "GSE76312\n",
      "        TF   target  importance\n",
      "0  ZNF286B  ZNF286A  381.588015\n",
      "1    PA2G4  PA2G4P4  342.374331\n",
      "2  ZNF286A  ZNF286B  289.919756\n",
      "3    FOXO3   FOXO3B  246.050200\n",
      "4    ETV3L     ETV3  204.241441\n",
      "GSE69405\n",
      "       TF target  importance\n",
      "0   HOXA3  DHRS2   53.678614\n",
      "1  ZNF883   CD36   53.672403\n",
      "2  ZNF883  PAGE2   51.536204\n",
      "3   HOXA3   MAEL   45.532417\n",
      "4   HMGN3  SNURF   45.147416\n"
     ]
    }
   ],
   "source": [
    "def name(fname):\n",
    "    return os.path.basename(fname).split('.')[0]\n",
    "\n",
    "for fname in glob.glob(os.path.join(RESOURCES_FOLDER, '*.net.csv')):\n",
    "    print(name(fname))\n",
    "    out_fname = os.path.join(RESOURCES_FOLDER, \"{}.yaml\".format(name(fname)))\n",
    "    if os.path.isfile(out_fname):\n",
    "        continue\n",
    "    df = pd.read_csv(fname)\n",
    "    print(df.head())\n",
    "    modules = list(modules_from_genie3(df, \"MGI\"))\n",
    "    save_to_yaml(modules, out_fname)"
   ]
  },
  {
   "cell_type": "code",
   "execution_count": null,
   "metadata": {},
   "outputs": [],
   "source": []
  }
 ],
 "metadata": {
  "kernelspec": {
   "display_name": "Python 3.6.2 (pyscenic_dev)",
   "language": "python",
   "name": "pyscenic_dev"
  },
  "language_info": {
   "codemirror_mode": {
    "name": "ipython",
    "version": 3
   },
   "file_extension": ".py",
   "mimetype": "text/x-python",
   "name": "python",
   "nbconvert_exporter": "python",
   "pygments_lexer": "ipython3",
   "version": "3.6.2"
  }
 },
 "nbformat": 4,
 "nbformat_minor": 2
}
