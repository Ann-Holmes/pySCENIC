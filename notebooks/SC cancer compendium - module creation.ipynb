{
 "cells": [
  {
   "cell_type": "markdown",
   "metadata": {},
   "source": [
    "__Author:__ Bram Van de Sande\n",
    "\n",
    "__Date:__ 5 MAR 2018\n",
    "\n",
    "__Outline:__ From GRNboost derived adjancency lists to real module."
   ]
  },
  {
   "cell_type": "code",
   "execution_count": 13,
   "metadata": {},
   "outputs": [],
   "source": [
    "import pandas as pd\n",
    "import os\n",
    "import glob\n",
    "from pyscenic.utils import modules_from_genie3, save_to_yaml\n",
    "import pandas as pd"
   ]
  },
  {
   "cell_type": "code",
   "execution_count": 2,
   "metadata": {},
   "outputs": [],
   "source": [
    "RESOURCES_FOLDER = '/Users/bramvandesande/Projects/lcb/resources/sc-experiments/clean'"
   ]
  },
  {
   "cell_type": "code",
   "execution_count": 6,
   "metadata": {},
   "outputs": [
    {
     "name": "stdout",
     "output_type": "stream",
     "text": [
      "/Users/bramvandesande/Projects/lcb/resources/sc-experiments/clean/GSE103322.net.csv\n",
      "/Users/bramvandesande/Projects/lcb/resources/sc-experiments/clean/GSE57872.net.csv\n",
      "/Users/bramvandesande/Projects/lcb/resources/sc-experiments/clean/GSE69405.net.csv\n",
      "/Users/bramvandesande/Projects/lcb/resources/sc-experiments/clean/GSE70630.net.csv\n",
      "/Users/bramvandesande/Projects/lcb/resources/sc-experiments/clean/GSE72056.net.csv\n",
      "/Users/bramvandesande/Projects/lcb/resources/sc-experiments/clean/GSE75688.net.csv\n",
      "/Users/bramvandesande/Projects/lcb/resources/sc-experiments/clean/GSE76312.net.csv\n",
      "/Users/bramvandesande/Projects/lcb/resources/sc-experiments/clean/GSE81861.net.csv\n",
      "/Users/bramvandesande/Projects/lcb/resources/sc-experiments/clean/GSE89567.net.csv\n",
      "/Users/bramvandesande/Projects/lcb/resources/sc-experiments/clean/b_thienpont.net.csv\n"
     ]
    }
   ],
   "source": [
    "!ls {RESOURCES_FOLDER}/*.net.csv"
   ]
  },
  {
   "cell_type": "code",
   "execution_count": null,
   "metadata": {},
   "outputs": [
    {
     "name": "stdout",
     "output_type": "stream",
     "text": [
      "GSE75688\n",
      "       TF   target  importance\n",
      "0   AEBP1   COL5A1   72.777605\n",
      "1   AEBP1    SFRP4   67.293887\n",
      "2   AEBP1  COL12A1   64.527562\n",
      "3  ZNF683     GNLY   59.835221\n",
      "4   AEBP1    POSTN   59.460099\n",
      "GSE70630\n",
      "        TF   target  importance\n",
      "0  FOXD4L4  FOXD4L2  519.605140\n",
      "1  FOXD4L5  FOXD4L2  212.578509\n",
      "2       AR  ATXN8OS  162.429467\n",
      "3     EGR1      FOS  144.259356\n",
      "4      TBP       AR  132.648241\n",
      "GSE89567\n",
      "        TF   target  importance\n",
      "0  FOXD4L4  FOXD4L2  582.109856\n",
      "1  FOXD4L5  FOXD4L2  252.687868\n",
      "2      FOS     EGR1  179.097439\n",
      "3       AR  ATXN8OS  154.007424\n",
      "4       AR  MAB21L1  149.653545\n",
      "GSE72056\n",
      "        TF   target  importance\n",
      "0  FOXD4L4  FOXD4L2  405.024853\n",
      "1  FOXD4L5  FOXD4L2  166.329950\n",
      "2      FOS     FOSB  102.941218\n",
      "3     FOSB      FOS   83.417315\n",
      "4     TCF7     IL7R   83.285472\n",
      "GSE103322\n",
      "        TF   target  importance\n",
      "0  ZNF286B  ZNF286A  210.827991\n",
      "1  ZNF286A  ZNF286B  147.963754\n",
      "2  FOXD4L4  FOXD4L2  136.112253\n",
      "3    GATA2     CPA3  131.044475\n",
      "4    GATA2    TPSB2  126.791052\n"
     ]
    }
   ],
   "source": [
    "def name(fname):\n",
    "    return os.path.basename(fname).split('.')[0]\n",
    "\n",
    "for fname in glob.glob(os.path.join(RESOURCES_FOLDER, '*.net.csv')):\n",
    "    print(name(fname))\n",
    "    out_fname = os.path.join(RESOURCES_FOLDER, \"{}.yaml\".format(name(fname)))\n",
    "    df = pd.read_csv(fname)\n",
    "    print(df.head())\n",
    "    modules = list(modules_from_genie3(df, \"MGI\"))\n",
    "    save_to_yaml(modules, out_fname)"
   ]
  },
  {
   "cell_type": "code",
   "execution_count": null,
   "metadata": {},
   "outputs": [],
   "source": []
  }
 ],
 "metadata": {
  "kernelspec": {
   "display_name": "Python 3.6.2 (pyscenic_dev)",
   "language": "python",
   "name": "pyscenic_dev"
  },
  "language_info": {
   "codemirror_mode": {
    "name": "ipython",
    "version": 3
   },
   "file_extension": ".py",
   "mimetype": "text/x-python",
   "name": "python",
   "nbconvert_exporter": "python",
   "pygments_lexer": "ipython3",
   "version": "3.6.2"
  }
 },
 "nbformat": 4,
 "nbformat_minor": 2
}
