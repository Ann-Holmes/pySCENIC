{
 "cells": [
  {
   "cell_type": "markdown",
   "metadata": {},
   "source": [
    "__Author:__ Bram Van de Sande\n",
    "\n",
    "__Date:__ 31 JAN 2018\n",
    "\n",
    "__Outline:__ In the initial phase of the pySCENIC pipeline the single cell expression profiles are used to infer co-expression modules from.\n",
    "\n",
    "For this notebook 3005 single cell transcriptomes taken from the mouse brain (somatosensory cortex and hippocampal regions) are used as an example.\n",
    "\n",
    "> A. Zeisel, A. B. M͡oz-Manchado, S. Codeluppi, P. Lönnerberg, G. L. Manno, A. Juréus, S. Marques, H. Munguba, L. He, C. Betsholtz, C. Rolny, G. Castelo-Branco, J. Hjerling-Leffler, and S. Linnarsson, “Cell types in the mouse cortex and hippocampus revealed by single-cell RNA-seq,” Science, vol. 347, no. 6226, pp. 1138–1142, Mar. 2015."
   ]
  },
  {
   "cell_type": "code",
   "execution_count": 1,
   "metadata": {},
   "outputs": [],
   "source": [
    "import pandas as pd\n",
    "import numpy as np\n",
    "import os\n",
    "\n",
    "from arboretum.algo import grnboost2\n",
    "from arboretum.utils import load_tf_names"
   ]
  },
  {
   "cell_type": "code",
   "execution_count": 2,
   "metadata": {},
   "outputs": [],
   "source": [
    "RESOURCES_FOLDER=\"/Users/bramvandesande/Projects/lcb/resources\"\n",
    "DATA_FOLDER=\"/Users/bramvandesande/Projects/lcb/tmp\""
   ]
  },
  {
   "cell_type": "markdown",
   "metadata": {},
   "source": [
    "## Load the expression matrix"
   ]
  },
  {
   "cell_type": "markdown",
   "metadata": {},
   "source": [
    "The scRNA-Seq data is downloaded from GEO: https://www.ncbi.nlm.nih.gov/geo/query/acc.cgi?acc=GSE60361 ."
   ]
  },
  {
   "cell_type": "code",
   "execution_count": 3,
   "metadata": {},
   "outputs": [],
   "source": [
    "fname = os.path.join(RESOURCES_FOLDER, \"GSE60361_C1-3005-Expression.txt\")\n",
    "ex_matrix = pd.read_csv(fname, sep='\\t', header=0, index_col=0).T"
   ]
  },
  {
   "cell_type": "code",
   "execution_count": 4,
   "metadata": {},
   "outputs": [
    {
     "data": {
      "text/html": [
       "<div>\n",
       "<style scoped>\n",
       "    .dataframe tbody tr th:only-of-type {\n",
       "        vertical-align: middle;\n",
       "    }\n",
       "\n",
       "    .dataframe tbody tr th {\n",
       "        vertical-align: top;\n",
       "    }\n",
       "\n",
       "    .dataframe thead th {\n",
       "        text-align: right;\n",
       "    }\n",
       "</style>\n",
       "<table border=\"1\" class=\"dataframe\">\n",
       "  <thead>\n",
       "    <tr style=\"text-align: right;\">\n",
       "      <th>cell_id</th>\n",
       "      <th>Tspan12</th>\n",
       "      <th>Tshz1</th>\n",
       "      <th>Fnbp1l</th>\n",
       "      <th>Adamts15</th>\n",
       "      <th>Cldn12</th>\n",
       "      <th>Rxfp1</th>\n",
       "      <th>2310042E22Rik</th>\n",
       "      <th>Sema3c</th>\n",
       "      <th>Jam2</th>\n",
       "      <th>Apbb1ip</th>\n",
       "      <th>...</th>\n",
       "      <th>Gm20826_loc1</th>\n",
       "      <th>Gm20826_loc2</th>\n",
       "      <th>Gm20877_loc2</th>\n",
       "      <th>Gm20877_loc1</th>\n",
       "      <th>Gm20865_loc4</th>\n",
       "      <th>Gm20738_loc4</th>\n",
       "      <th>Gm20738_loc6</th>\n",
       "      <th>Gm21943_loc1</th>\n",
       "      <th>Gm21943_loc3</th>\n",
       "      <th>Gm20738_loc3</th>\n",
       "    </tr>\n",
       "  </thead>\n",
       "  <tbody>\n",
       "    <tr>\n",
       "      <th>1772071015_C02</th>\n",
       "      <td>0</td>\n",
       "      <td>3</td>\n",
       "      <td>3</td>\n",
       "      <td>0</td>\n",
       "      <td>1</td>\n",
       "      <td>0</td>\n",
       "      <td>0</td>\n",
       "      <td>11</td>\n",
       "      <td>1</td>\n",
       "      <td>0</td>\n",
       "      <td>...</td>\n",
       "      <td>0</td>\n",
       "      <td>0</td>\n",
       "      <td>0</td>\n",
       "      <td>0</td>\n",
       "      <td>0</td>\n",
       "      <td>0</td>\n",
       "      <td>0</td>\n",
       "      <td>0</td>\n",
       "      <td>0</td>\n",
       "      <td>0</td>\n",
       "    </tr>\n",
       "    <tr>\n",
       "      <th>1772071017_G12</th>\n",
       "      <td>0</td>\n",
       "      <td>1</td>\n",
       "      <td>1</td>\n",
       "      <td>0</td>\n",
       "      <td>1</td>\n",
       "      <td>0</td>\n",
       "      <td>0</td>\n",
       "      <td>0</td>\n",
       "      <td>0</td>\n",
       "      <td>0</td>\n",
       "      <td>...</td>\n",
       "      <td>0</td>\n",
       "      <td>0</td>\n",
       "      <td>0</td>\n",
       "      <td>0</td>\n",
       "      <td>0</td>\n",
       "      <td>0</td>\n",
       "      <td>0</td>\n",
       "      <td>0</td>\n",
       "      <td>0</td>\n",
       "      <td>0</td>\n",
       "    </tr>\n",
       "    <tr>\n",
       "      <th>1772071017_A05</th>\n",
       "      <td>0</td>\n",
       "      <td>0</td>\n",
       "      <td>6</td>\n",
       "      <td>0</td>\n",
       "      <td>1</td>\n",
       "      <td>0</td>\n",
       "      <td>2</td>\n",
       "      <td>25</td>\n",
       "      <td>1</td>\n",
       "      <td>0</td>\n",
       "      <td>...</td>\n",
       "      <td>0</td>\n",
       "      <td>0</td>\n",
       "      <td>0</td>\n",
       "      <td>0</td>\n",
       "      <td>0</td>\n",
       "      <td>0</td>\n",
       "      <td>0</td>\n",
       "      <td>0</td>\n",
       "      <td>0</td>\n",
       "      <td>0</td>\n",
       "    </tr>\n",
       "    <tr>\n",
       "      <th>1772071014_B06</th>\n",
       "      <td>3</td>\n",
       "      <td>2</td>\n",
       "      <td>4</td>\n",
       "      <td>0</td>\n",
       "      <td>0</td>\n",
       "      <td>0</td>\n",
       "      <td>3</td>\n",
       "      <td>1</td>\n",
       "      <td>0</td>\n",
       "      <td>0</td>\n",
       "      <td>...</td>\n",
       "      <td>0</td>\n",
       "      <td>0</td>\n",
       "      <td>0</td>\n",
       "      <td>0</td>\n",
       "      <td>0</td>\n",
       "      <td>0</td>\n",
       "      <td>0</td>\n",
       "      <td>0</td>\n",
       "      <td>0</td>\n",
       "      <td>0</td>\n",
       "    </tr>\n",
       "    <tr>\n",
       "      <th>1772067065_H06</th>\n",
       "      <td>0</td>\n",
       "      <td>2</td>\n",
       "      <td>1</td>\n",
       "      <td>0</td>\n",
       "      <td>0</td>\n",
       "      <td>0</td>\n",
       "      <td>0</td>\n",
       "      <td>10</td>\n",
       "      <td>0</td>\n",
       "      <td>0</td>\n",
       "      <td>...</td>\n",
       "      <td>0</td>\n",
       "      <td>0</td>\n",
       "      <td>0</td>\n",
       "      <td>0</td>\n",
       "      <td>0</td>\n",
       "      <td>0</td>\n",
       "      <td>0</td>\n",
       "      <td>0</td>\n",
       "      <td>0</td>\n",
       "      <td>0</td>\n",
       "    </tr>\n",
       "  </tbody>\n",
       "</table>\n",
       "<p>5 rows × 19972 columns</p>\n",
       "</div>"
      ],
      "text/plain": [
       "cell_id         Tspan12  Tshz1  Fnbp1l  Adamts15  Cldn12  Rxfp1  \\\n",
       "1772071015_C02        0      3       3         0       1      0   \n",
       "1772071017_G12        0      1       1         0       1      0   \n",
       "1772071017_A05        0      0       6         0       1      0   \n",
       "1772071014_B06        3      2       4         0       0      0   \n",
       "1772067065_H06        0      2       1         0       0      0   \n",
       "\n",
       "cell_id         2310042E22Rik  Sema3c  Jam2  Apbb1ip      ...       \\\n",
       "1772071015_C02              0      11     1        0      ...        \n",
       "1772071017_G12              0       0     0        0      ...        \n",
       "1772071017_A05              2      25     1        0      ...        \n",
       "1772071014_B06              3       1     0        0      ...        \n",
       "1772067065_H06              0      10     0        0      ...        \n",
       "\n",
       "cell_id         Gm20826_loc1  Gm20826_loc2  Gm20877_loc2  Gm20877_loc1  \\\n",
       "1772071015_C02             0             0             0             0   \n",
       "1772071017_G12             0             0             0             0   \n",
       "1772071017_A05             0             0             0             0   \n",
       "1772071014_B06             0             0             0             0   \n",
       "1772067065_H06             0             0             0             0   \n",
       "\n",
       "cell_id         Gm20865_loc4  Gm20738_loc4  Gm20738_loc6  Gm21943_loc1  \\\n",
       "1772071015_C02             0             0             0             0   \n",
       "1772071017_G12             0             0             0             0   \n",
       "1772071017_A05             0             0             0             0   \n",
       "1772071014_B06             0             0             0             0   \n",
       "1772067065_H06             0             0             0             0   \n",
       "\n",
       "cell_id         Gm21943_loc3  Gm20738_loc3  \n",
       "1772071015_C02             0             0  \n",
       "1772071017_G12             0             0  \n",
       "1772071017_A05             0             0  \n",
       "1772071014_B06             0             0  \n",
       "1772067065_H06             0             0  \n",
       "\n",
       "[5 rows x 19972 columns]"
      ]
     },
     "execution_count": 4,
     "metadata": {},
     "output_type": "execute_result"
    }
   ],
   "source": [
    "ex_matrix.head()"
   ]
  },
  {
   "cell_type": "code",
   "execution_count": 5,
   "metadata": {},
   "outputs": [
    {
     "data": {
      "text/plain": [
       "(3005, 19972)"
      ]
     },
     "execution_count": 5,
     "metadata": {},
     "output_type": "execute_result"
    }
   ],
   "source": [
    "ex_matrix.shape"
   ]
  },
  {
   "cell_type": "markdown",
   "metadata": {},
   "source": [
    "## Derive list of Transcription Factors(TF) for _Mus musculus_"
   ]
  },
  {
   "cell_type": "markdown",
   "metadata": {},
   "source": [
    "List of known TFs for Mm was prepared (cf. notebook)."
   ]
  },
  {
   "cell_type": "code",
   "execution_count": 17,
   "metadata": {},
   "outputs": [],
   "source": [
    "tf_names = load_tf_names(os.path.join(RESOURCES_FOLDER, 'mm_tfs.txt'))"
   ]
  },
  {
   "cell_type": "markdown",
   "metadata": {},
   "source": [
    "## Run GRNBoost to infer co-expression modules\n",
    "\n",
    "The arboretum package is used for this phase of the pipeline. For this notebook only a sample of 1,000 cells is used for the co-expression module inference is used."
   ]
  },
  {
   "cell_type": "code",
   "execution_count": 25,
   "metadata": {},
   "outputs": [],
   "source": [
    "N_SAMPLES = 1000"
   ]
  },
  {
   "cell_type": "code",
   "execution_count": 18,
   "metadata": {},
   "outputs": [
    {
     "name": "stdout",
     "output_type": "stream",
     "text": [
      "preparing dask client\n",
      "parsing input\n",
      "creating dask graph\n",
      "computing dask graph\n",
      "shutting down client and local cluster\n",
      "finished\n"
     ]
    }
   ],
   "source": [
    "network = grnboost2(expression_data=ex_matrix.sample(n=N_SAMPLES),\n",
    "                    tf_names=tf_names, verbose=True)"
   ]
  },
  {
   "cell_type": "code",
   "execution_count": 19,
   "metadata": {},
   "outputs": [
    {
     "data": {
      "text/html": [
       "<div>\n",
       "<style scoped>\n",
       "    .dataframe tbody tr th:only-of-type {\n",
       "        vertical-align: middle;\n",
       "    }\n",
       "\n",
       "    .dataframe tbody tr th {\n",
       "        vertical-align: top;\n",
       "    }\n",
       "\n",
       "    .dataframe thead th {\n",
       "        text-align: right;\n",
       "    }\n",
       "</style>\n",
       "<table border=\"1\" class=\"dataframe\">\n",
       "  <thead>\n",
       "    <tr style=\"text-align: right;\">\n",
       "      <th></th>\n",
       "      <th>TF</th>\n",
       "      <th>target</th>\n",
       "      <th>importance</th>\n",
       "    </tr>\n",
       "  </thead>\n",
       "  <tbody>\n",
       "    <tr>\n",
       "      <th>35</th>\n",
       "      <td>Rpl7</td>\n",
       "      <td>Rpl34-ps1</td>\n",
       "      <td>86.119870</td>\n",
       "    </tr>\n",
       "    <tr>\n",
       "      <th>172</th>\n",
       "      <td>Olig1</td>\n",
       "      <td>Cnp</td>\n",
       "      <td>70.127927</td>\n",
       "    </tr>\n",
       "    <tr>\n",
       "      <th>172</th>\n",
       "      <td>Olig1</td>\n",
       "      <td>Tspan2</td>\n",
       "      <td>69.595029</td>\n",
       "    </tr>\n",
       "    <tr>\n",
       "      <th>155</th>\n",
       "      <td>Neurod6</td>\n",
       "      <td>Hpca</td>\n",
       "      <td>68.236759</td>\n",
       "    </tr>\n",
       "    <tr>\n",
       "      <th>172</th>\n",
       "      <td>Olig1</td>\n",
       "      <td>Cers2</td>\n",
       "      <td>67.195168</td>\n",
       "    </tr>\n",
       "  </tbody>\n",
       "</table>\n",
       "</div>"
      ],
      "text/plain": [
       "          TF     target  importance\n",
       "35      Rpl7  Rpl34-ps1   86.119870\n",
       "172    Olig1        Cnp   70.127927\n",
       "172    Olig1     Tspan2   69.595029\n",
       "155  Neurod6       Hpca   68.236759\n",
       "172    Olig1      Cers2   67.195168"
      ]
     },
     "execution_count": 19,
     "metadata": {},
     "output_type": "execute_result"
    }
   ],
   "source": [
    "network.head()"
   ]
  },
  {
   "cell_type": "code",
   "execution_count": 27,
   "metadata": {},
   "outputs": [
    {
     "data": {
      "text/plain": [
       "4109019"
      ]
     },
     "execution_count": 27,
     "metadata": {},
     "output_type": "execute_result"
    }
   ],
   "source": [
    "len(network)"
   ]
  },
  {
   "cell_type": "code",
   "execution_count": 28,
   "metadata": {},
   "outputs": [],
   "source": [
    "network.to_csv(os.path.join(DATA_FOLDER, \"coexpression-modules.tsv\"), index=False, sep='\\t')"
   ]
  },
  {
   "cell_type": "code",
   "execution_count": null,
   "metadata": {},
   "outputs": [],
   "source": []
  }
 ],
 "metadata": {
  "kernelspec": {
   "display_name": "Python 3.6.2 (pyscenic_dev)",
   "language": "python",
   "name": "pyscenic_dev"
  },
  "language_info": {
   "codemirror_mode": {
    "name": "ipython",
    "version": 3
   },
   "file_extension": ".py",
   "mimetype": "text/x-python",
   "name": "python",
   "nbconvert_exporter": "python",
   "pygments_lexer": "ipython3",
   "version": "3.6.2"
  }
 },
 "nbformat": 4,
 "nbformat_minor": 2
}
