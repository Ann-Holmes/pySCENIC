{
 "cells": [
  {
   "cell_type": "code",
   "execution_count": 82,
   "metadata": {},
   "outputs": [],
   "source": [
    "from pyscenic.rnkdb import FeatherRankingDatabase, RankingDatabase\n",
    "from typing import Type\n",
    "import os\n",
    "import numpy as np\n",
    "import pandas as pd\n",
    "from feather.api import write_dataframe, FeatherReader\n",
    "from tqdm import tqdm"
   ]
  },
  {
   "cell_type": "code",
   "execution_count": 75,
   "metadata": {},
   "outputs": [],
   "source": [
    "DB_FOLDER = \"/Users/bramvandesande/Projects/lcb/databases\""
   ]
  },
  {
   "cell_type": "code",
   "execution_count": 76,
   "metadata": {},
   "outputs": [],
   "source": [
    "db = FeatherRankingDatabase(fname=os.path.join(DB_FOLDER, \"hg19-regions-220330-9species.extracted.feather\"),\n",
    "                            name=\"regions\", nomenclature=\"HGNC\")"
   ]
  },
  {
   "cell_type": "code",
   "execution_count": 77,
   "metadata": {},
   "outputs": [
    {
     "data": {
      "text/plain": [
       "220329"
      ]
     },
     "execution_count": 77,
     "metadata": {},
     "output_type": "execute_result"
    }
   ],
   "source": [
    "len(db.genes)"
   ]
  },
  {
   "cell_type": "code",
   "execution_count": 85,
   "metadata": {},
   "outputs": [],
   "source": [
    "IDENTIFIERS_FNAME_EXTENSION = \"identifiers.txt\"\n",
    "INVERTED_DB_DTYPE = np.uint32\n",
    "INDEX_NAME = \"features\""
   ]
  },
  {
   "cell_type": "code",
   "execution_count": 79,
   "metadata": {},
   "outputs": [],
   "source": [
    "def _derive_identifiers_fname(fname):\n",
    "    return '{}.{}'.format(os.path.splitext(fname)[0], IDENTIFIERS_FNAME_EXTENSION)"
   ]
  },
  {
   "cell_type": "code",
   "execution_count": 86,
   "metadata": {},
   "outputs": [],
   "source": [
    "def invert(db: Type[RankingDatabase], fname: str, top_n_identifiers: int = 50000) -> None:\n",
    "    \"\"\"\n",
    "    Create an inverted whole genome rankings database keeping only the top n genes/regions for a feature.\n",
    "\n",
    "    Inverted design: not storing the rankings for all regions in the dataframe but instead store the identifier of the\n",
    "    top n genes/regions in the dataframe introduces an enormous reduction in disk and memory size.\n",
    "\n",
    "    :param db: The rankings database.\n",
    "    :param fname: the filename of the inverted database to be created.\n",
    "    :param top_n_identifiers: The number of genes to keep in the inverted database.\n",
    "    \"\"\"\n",
    "\n",
    "    df_original = db.load_full()\n",
    "    n_features = len(df_original)\n",
    "\n",
    "    index_fname = _derive_identifiers_fname(fname)\n",
    "    assert not os.path.exists(index_fname), \"Database index {0:s} already exists.\".format(index_fname)\n",
    "    identifiers = df_original.columns.values\n",
    "    with open(index_fname, 'w') as f:\n",
    "        f.write('\\n'.join(identifiers))\n",
    "    identifier2idx = {identifier: idx for idx, identifier in enumerate(identifiers)}\n",
    "\n",
    "    inverted_data = np.empty(shape=(n_features, top_n_identifiers), dtype=INVERTED_DB_DTYPE)\n",
    "    df_original.columns = [identifier2idx[identifier] for identifier in df_original.columns]\n",
    "    for idx, (_, row) in tqdm(enumerate(df_original.iterrows())):\n",
    "        inverted_data[idx, :] = np.array(row.sort_values(ascending=True).head(top_n_identifiers).index, dtype=INVERTED_DB_DTYPE)\n",
    "    df = pd.DataFrame(data=inverted_data, index=df_original.index, columns=list(range(top_n_identifiers)))\n",
    "\n",
    "    df.index.name = INDEX_NAME\n",
    "    df.reset_index(inplace=True) # Index is not stored in feather format. https://github.com/wesm/feather/issues/200\n",
    "    write_dataframe(df, fname)"
   ]
  },
  {
   "cell_type": "code",
   "execution_count": 88,
   "metadata": {},
   "outputs": [
    {
     "name": "stderr",
     "output_type": "stream",
     "text": [
      "9713it [09:27, 17.13it/s]\n"
     ]
    }
   ],
   "source": [
    "invert(db, os.path.join(DB_FOLDER, \"hg19-regions-220330-9species.inverted.feather\"))"
   ]
  },
  {
   "cell_type": "code",
   "execution_count": null,
   "metadata": {},
   "outputs": [],
   "source": []
  },
  {
   "cell_type": "code",
   "execution_count": null,
   "metadata": {},
   "outputs": [],
   "source": []
  },
  {
   "cell_type": "code",
   "execution_count": null,
   "metadata": {},
   "outputs": [],
   "source": []
  },
  {
   "cell_type": "code",
   "execution_count": null,
   "metadata": {},
   "outputs": [],
   "source": []
  },
  {
   "cell_type": "code",
   "execution_count": 34,
   "metadata": {},
   "outputs": [
    {
     "data": {
      "text/plain": [
       "14"
      ]
     },
     "execution_count": 34,
     "metadata": {},
     "output_type": "execute_result"
    }
   ],
   "source": [
    "nr_chars = max(map(len,df_.columns))\n",
    "nr_chars"
   ]
  },
  {
   "cell_type": "code",
   "execution_count": 39,
   "metadata": {},
   "outputs": [],
   "source": [
    "import numpy as np\n",
    "import pandas as pd\n",
    "df_ = df.head()\n",
    "nr_chars = max(map(len,df_.columns))\n",
    "TOP_N = 50000\n",
    "n_features = len(df_)\n",
    "inverted_data = np.empty(shape=(n_features, TOP_N), dtype='U{}'.format(nr_chars))\n",
    "for idx, (_, row) in enumerate(df_.iterrows()):\n",
    "    inverted_data[idx, :] = row.sort_values(ascending=True).head(TOP_N).index\n",
    "inverted_df = pd.DataFrame(data=inverted_data, index=df_.index, columns=list(range(TOP_N)))"
   ]
  },
  {
   "cell_type": "code",
   "execution_count": 40,
   "metadata": {},
   "outputs": [
    {
     "data": {
      "text/html": [
       "<div>\n",
       "<style scoped>\n",
       "    .dataframe tbody tr th:only-of-type {\n",
       "        vertical-align: middle;\n",
       "    }\n",
       "\n",
       "    .dataframe tbody tr th {\n",
       "        vertical-align: top;\n",
       "    }\n",
       "\n",
       "    .dataframe thead th {\n",
       "        text-align: right;\n",
       "    }\n",
       "</style>\n",
       "<table border=\"1\" class=\"dataframe\">\n",
       "  <thead>\n",
       "    <tr style=\"text-align: right;\">\n",
       "      <th></th>\n",
       "      <th>0</th>\n",
       "      <th>1</th>\n",
       "      <th>2</th>\n",
       "      <th>3</th>\n",
       "      <th>4</th>\n",
       "      <th>5</th>\n",
       "      <th>6</th>\n",
       "      <th>7</th>\n",
       "      <th>8</th>\n",
       "      <th>9</th>\n",
       "      <th>...</th>\n",
       "      <th>49990</th>\n",
       "      <th>49991</th>\n",
       "      <th>49992</th>\n",
       "      <th>49993</th>\n",
       "      <th>49994</th>\n",
       "      <th>49995</th>\n",
       "      <th>49996</th>\n",
       "      <th>49997</th>\n",
       "      <th>49998</th>\n",
       "      <th>49999</th>\n",
       "    </tr>\n",
       "    <tr>\n",
       "      <th>features</th>\n",
       "      <th></th>\n",
       "      <th></th>\n",
       "      <th></th>\n",
       "      <th></th>\n",
       "      <th></th>\n",
       "      <th></th>\n",
       "      <th></th>\n",
       "      <th></th>\n",
       "      <th></th>\n",
       "      <th></th>\n",
       "      <th></th>\n",
       "      <th></th>\n",
       "      <th></th>\n",
       "      <th></th>\n",
       "      <th></th>\n",
       "      <th></th>\n",
       "      <th></th>\n",
       "      <th></th>\n",
       "      <th></th>\n",
       "      <th></th>\n",
       "      <th></th>\n",
       "    </tr>\n",
       "  </thead>\n",
       "  <tbody>\n",
       "    <tr>\n",
       "      <th>elemento-AAAATGGCG</th>\n",
       "      <td>chrX-reg32698</td>\n",
       "      <td>chr3-reg11533</td>\n",
       "      <td>chr2-reg79638</td>\n",
       "      <td>chr3-reg110064</td>\n",
       "      <td>chr1-reg108107</td>\n",
       "      <td>chr7-reg58012</td>\n",
       "      <td>chr16-reg9028</td>\n",
       "      <td>chr11-reg40102</td>\n",
       "      <td>chr11-reg8174</td>\n",
       "      <td>chr11-reg9500</td>\n",
       "      <td>...</td>\n",
       "      <td>chr8-reg23479</td>\n",
       "      <td>chr16-reg45922</td>\n",
       "      <td>chr19-reg8404</td>\n",
       "      <td>chr12-reg77896</td>\n",
       "      <td>chr1-reg18112</td>\n",
       "      <td>chr1-reg28342</td>\n",
       "      <td>chr12-reg7113</td>\n",
       "      <td>chr5-reg8302</td>\n",
       "      <td>chr16-reg44441</td>\n",
       "      <td>chr17-reg70760</td>\n",
       "    </tr>\n",
       "    <tr>\n",
       "      <th>elemento-AAATCAAT</th>\n",
       "      <td>chr10-reg33634</td>\n",
       "      <td>chr9-reg32450</td>\n",
       "      <td>chr7-reg19391</td>\n",
       "      <td>chr2-reg80602</td>\n",
       "      <td>chr6-reg57419</td>\n",
       "      <td>chr13-reg43061</td>\n",
       "      <td>chr17-reg42372</td>\n",
       "      <td>chr14-reg3151</td>\n",
       "      <td>chr18-reg35521</td>\n",
       "      <td>chr14-reg50228</td>\n",
       "      <td>...</td>\n",
       "      <td>chr12-reg86983</td>\n",
       "      <td>chr7-reg70627</td>\n",
       "      <td>chr11-reg66224</td>\n",
       "      <td>chr22-reg4498</td>\n",
       "      <td>chr11-reg4974</td>\n",
       "      <td>chr15-reg9512</td>\n",
       "      <td>chr1-reg131822</td>\n",
       "      <td>chr7-reg62196</td>\n",
       "      <td>chr2-reg42740</td>\n",
       "      <td>chr17-reg33927</td>\n",
       "    </tr>\n",
       "    <tr>\n",
       "      <th>elemento-AAATGCAAA</th>\n",
       "      <td>chr17-reg60295</td>\n",
       "      <td>chr1-reg165040</td>\n",
       "      <td>chr10-reg66722</td>\n",
       "      <td>chr10-reg34533</td>\n",
       "      <td>chr7-reg2132</td>\n",
       "      <td>chr11-reg81814</td>\n",
       "      <td>chr20-reg16942</td>\n",
       "      <td>chr9-reg57882</td>\n",
       "      <td>chr11-reg91095</td>\n",
       "      <td>chr5-reg91502</td>\n",
       "      <td>...</td>\n",
       "      <td>chr17-reg635</td>\n",
       "      <td>chr1-reg42975</td>\n",
       "      <td>chr8-reg27484</td>\n",
       "      <td>chr11-reg52580</td>\n",
       "      <td>chr1-reg102464</td>\n",
       "      <td>chr11-reg73235</td>\n",
       "      <td>chr15-reg26297</td>\n",
       "      <td>chr5-reg112328</td>\n",
       "      <td>chr1-reg44410</td>\n",
       "      <td>chr21-reg22019</td>\n",
       "    </tr>\n",
       "    <tr>\n",
       "      <th>elemento-AAATTGCA</th>\n",
       "      <td>chr5-reg85184</td>\n",
       "      <td>chr17-reg33458</td>\n",
       "      <td>chr2-reg118522</td>\n",
       "      <td>chr10-reg94934</td>\n",
       "      <td>chr1-reg78218</td>\n",
       "      <td>chr2-reg116500</td>\n",
       "      <td>chr10-reg34533</td>\n",
       "      <td>chrX-reg32938</td>\n",
       "      <td>chrX-reg49548</td>\n",
       "      <td>chr1-reg89950</td>\n",
       "      <td>...</td>\n",
       "      <td>chr8-reg62041</td>\n",
       "      <td>chrX-reg47193</td>\n",
       "      <td>chr5-reg20272</td>\n",
       "      <td>chrX-reg5653</td>\n",
       "      <td>chr18-reg2385</td>\n",
       "      <td>chr19-reg22852</td>\n",
       "      <td>chr1-reg56518</td>\n",
       "      <td>chr9-reg66776</td>\n",
       "      <td>chr4-reg61821</td>\n",
       "      <td>chr14-reg15767</td>\n",
       "    </tr>\n",
       "    <tr>\n",
       "      <th>elemento-AACAGCTG</th>\n",
       "      <td>chr2-reg144559</td>\n",
       "      <td>chr2-reg114576</td>\n",
       "      <td>chr2-reg122253</td>\n",
       "      <td>chr11-reg61192</td>\n",
       "      <td>chr3-reg100749</td>\n",
       "      <td>chr9-reg28130</td>\n",
       "      <td>chr14-reg31649</td>\n",
       "      <td>chr15-reg7899</td>\n",
       "      <td>chr4-reg80579</td>\n",
       "      <td>chr10-reg9206</td>\n",
       "      <td>...</td>\n",
       "      <td>chr14-reg18607</td>\n",
       "      <td>chr20-reg48928</td>\n",
       "      <td>chr11-reg16370</td>\n",
       "      <td>chr14-reg59120</td>\n",
       "      <td>chr22-reg25707</td>\n",
       "      <td>chr20-reg5231</td>\n",
       "      <td>chr1-reg109841</td>\n",
       "      <td>chrX-reg11221</td>\n",
       "      <td>chr3-reg75807</td>\n",
       "      <td>chr2-reg103367</td>\n",
       "    </tr>\n",
       "  </tbody>\n",
       "</table>\n",
       "<p>5 rows × 50000 columns</p>\n",
       "</div>"
      ],
      "text/plain": [
       "                             0               1               2      \\\n",
       "features                                                             \n",
       "elemento-AAAATGGCG   chrX-reg32698   chr3-reg11533   chr2-reg79638   \n",
       "elemento-AAATCAAT   chr10-reg33634   chr9-reg32450   chr7-reg19391   \n",
       "elemento-AAATGCAAA  chr17-reg60295  chr1-reg165040  chr10-reg66722   \n",
       "elemento-AAATTGCA    chr5-reg85184  chr17-reg33458  chr2-reg118522   \n",
       "elemento-AACAGCTG   chr2-reg144559  chr2-reg114576  chr2-reg122253   \n",
       "\n",
       "                             3               4               5      \\\n",
       "features                                                             \n",
       "elemento-AAAATGGCG  chr3-reg110064  chr1-reg108107   chr7-reg58012   \n",
       "elemento-AAATCAAT    chr2-reg80602   chr6-reg57419  chr13-reg43061   \n",
       "elemento-AAATGCAAA  chr10-reg34533    chr7-reg2132  chr11-reg81814   \n",
       "elemento-AAATTGCA   chr10-reg94934   chr1-reg78218  chr2-reg116500   \n",
       "elemento-AACAGCTG   chr11-reg61192  chr3-reg100749   chr9-reg28130   \n",
       "\n",
       "                             6               7               8      \\\n",
       "features                                                             \n",
       "elemento-AAAATGGCG   chr16-reg9028  chr11-reg40102   chr11-reg8174   \n",
       "elemento-AAATCAAT   chr17-reg42372   chr14-reg3151  chr18-reg35521   \n",
       "elemento-AAATGCAAA  chr20-reg16942   chr9-reg57882  chr11-reg91095   \n",
       "elemento-AAATTGCA   chr10-reg34533   chrX-reg32938   chrX-reg49548   \n",
       "elemento-AACAGCTG   chr14-reg31649   chr15-reg7899   chr4-reg80579   \n",
       "\n",
       "                             9           ...                 49990  \\\n",
       "features                                 ...                         \n",
       "elemento-AAAATGGCG   chr11-reg9500       ...         chr8-reg23479   \n",
       "elemento-AAATCAAT   chr14-reg50228       ...        chr12-reg86983   \n",
       "elemento-AAATGCAAA   chr5-reg91502       ...          chr17-reg635   \n",
       "elemento-AAATTGCA    chr1-reg89950       ...         chr8-reg62041   \n",
       "elemento-AACAGCTG    chr10-reg9206       ...        chr14-reg18607   \n",
       "\n",
       "                             49991           49992           49993  \\\n",
       "features                                                             \n",
       "elemento-AAAATGGCG  chr16-reg45922   chr19-reg8404  chr12-reg77896   \n",
       "elemento-AAATCAAT    chr7-reg70627  chr11-reg66224   chr22-reg4498   \n",
       "elemento-AAATGCAAA   chr1-reg42975   chr8-reg27484  chr11-reg52580   \n",
       "elemento-AAATTGCA    chrX-reg47193   chr5-reg20272    chrX-reg5653   \n",
       "elemento-AACAGCTG   chr20-reg48928  chr11-reg16370  chr14-reg59120   \n",
       "\n",
       "                             49994           49995           49996  \\\n",
       "features                                                             \n",
       "elemento-AAAATGGCG   chr1-reg18112   chr1-reg28342   chr12-reg7113   \n",
       "elemento-AAATCAAT    chr11-reg4974   chr15-reg9512  chr1-reg131822   \n",
       "elemento-AAATGCAAA  chr1-reg102464  chr11-reg73235  chr15-reg26297   \n",
       "elemento-AAATTGCA    chr18-reg2385  chr19-reg22852   chr1-reg56518   \n",
       "elemento-AACAGCTG   chr22-reg25707   chr20-reg5231  chr1-reg109841   \n",
       "\n",
       "                             49997           49998           49999  \n",
       "features                                                            \n",
       "elemento-AAAATGGCG    chr5-reg8302  chr16-reg44441  chr17-reg70760  \n",
       "elemento-AAATCAAT    chr7-reg62196   chr2-reg42740  chr17-reg33927  \n",
       "elemento-AAATGCAAA  chr5-reg112328   chr1-reg44410  chr21-reg22019  \n",
       "elemento-AAATTGCA    chr9-reg66776   chr4-reg61821  chr14-reg15767  \n",
       "elemento-AACAGCTG    chrX-reg11221   chr3-reg75807  chr2-reg103367  \n",
       "\n",
       "[5 rows x 50000 columns]"
      ]
     },
     "execution_count": 40,
     "metadata": {},
     "output_type": "execute_result"
    }
   ],
   "source": [
    "inverted_df"
   ]
  },
  {
   "cell_type": "code",
   "execution_count": 41,
   "metadata": {},
   "outputs": [
    {
     "data": {
      "text/plain": [
       "17612575"
      ]
     },
     "execution_count": 41,
     "metadata": {},
     "output_type": "execute_result"
    }
   ],
   "source": [
    "inverted_df.memory_usage(deep=True).sum()"
   ]
  },
  {
   "cell_type": "code",
   "execution_count": null,
   "metadata": {},
   "outputs": [],
   "source": []
  }
 ],
 "metadata": {
  "kernelspec": {
   "display_name": "Python 3.6.4 (pyscenic_dev)",
   "language": "python",
   "name": "pyscenic_dev"
  },
  "language_info": {
   "codemirror_mode": {
    "name": "ipython",
    "version": 3
   },
   "file_extension": ".py",
   "mimetype": "text/x-python",
   "name": "python",
   "nbconvert_exporter": "python",
   "pygments_lexer": "ipython3",
   "version": "3.6.4"
  }
 },
 "nbformat": 4,
 "nbformat_minor": 2
}
