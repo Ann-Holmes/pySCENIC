{
 "cells": [
  {
   "cell_type": "markdown",
   "metadata": {},
   "source": [
    "__Author:__ Bram Van de Sande\n",
    "\n",
    "__Date:__ 8 FEB 2018\n",
    "\n",
    "__Outline:__ Compare the results of the different implementation of the SCENIC pipeline. The example used in the tutorial is used in this comparison (https://github.com/aertslab/SCENIC). "
   ]
  },
  {
   "cell_type": "code",
   "execution_count": 1,
   "metadata": {},
   "outputs": [],
   "source": [
    "import pandas as pd\n",
    "import matplotlib.pyplot as plt\n",
    "%matplotlib inline"
   ]
  },
  {
   "cell_type": "markdown",
   "metadata": {},
   "source": [
    "### Phase Ib: Derive potential regulomes from these co-expression modules\n",
    "\n",
    "#### Check implementation of `modules_from_genie3`\n",
    "\n",
    "Start from the GENIE3 output and check if derived co-expression modules are similar."
   ]
  },
  {
   "cell_type": "code",
   "execution_count": 2,
   "metadata": {},
   "outputs": [],
   "source": [
    "adjacencies = pd.read_csv('/Users/bramvandesande/Projects/lcb/resources/rscenic/1.5_GENIE3_linkList.txt',\n",
    "                          usecols=['TF', 'Target', 'weight'])\n",
    "adjacencies.columns = [\"TF\", \"target\", \"importance\"]"
   ]
  },
  {
   "cell_type": "markdown",
   "metadata": {},
   "source": [
    "Creation of the modules."
   ]
  },
  {
   "cell_type": "code",
   "execution_count": 5,
   "metadata": {},
   "outputs": [],
   "source": [
    "df_modules = adjacencies[adjacencies['importance'] > 0.001]\n",
    "df_modules['method'] = 'w001'\n",
    "\n",
    "df_tmp = adjacencies[adjacencies['importance'] > 0.005].copy()\n",
    "df_tmp['method'] = 'w005'\n",
    "df_modules = df_modules.append(df_tmp)\n",
    "\n",
    "df_tmp = adjacencies.groupby(by='TF').apply(lambda grp: grp.nlargest(50, \"importance\")).copy()\n",
    "df_tmp['method'] = 'top50'\n",
    "df_modules = df_modules.append(df_tmp)\n",
    "\n",
    "df_tmp = adjacencies.groupby(by='target').apply(lambda grp: grp.nlargest(5, \"importance\")).copy()\n",
    "df_tmp['method'] = 'top5perTarget'\n",
    "df_modules = df_modules.append(df_tmp)\n",
    "\n",
    "df_tmp = adjacencies.groupby(by='target').apply(lambda grp: grp.nlargest(10, \"importance\")).copy()\n",
    "df_tmp['method'] = 'top10perTarget'\n",
    "df_modules = df_modules.append(df_tmp)\n",
    "\n",
    "df_tmp = adjacencies.groupby(by='target').apply(lambda grp: grp.nlargest(50, \"importance\")).copy()\n",
    "df_tmp['method'] = 'top50perTarget'\n",
    "df_modules = df_modules.append(df_tmp)\n",
    "df_modules.index = range(len(df_modules))"
   ]
  },
  {
   "cell_type": "code",
   "execution_count": 6,
   "metadata": {},
   "outputs": [
    {
     "data": {
      "text/plain": [
       "4363616"
      ]
     },
     "execution_count": 6,
     "metadata": {},
     "output_type": "execute_result"
    }
   ],
   "source": [
    "len(df_modules)"
   ]
  },
  {
   "cell_type": "code",
   "execution_count": 7,
   "metadata": {},
   "outputs": [
    {
     "data": {
      "text/plain": [
       "w001              3261351\n",
       "top50perTarget     604300\n",
       "w005               266475\n",
       "top10perTarget     120860\n",
       "top5perTarget       60430\n",
       "top50               50200\n",
       "Name: method, dtype: int64"
      ]
     },
     "execution_count": 7,
     "metadata": {},
     "output_type": "execute_result"
    }
   ],
   "source": [
    "df_modules.method.value_counts()"
   ]
  },
  {
   "cell_type": "code",
   "execution_count": 8,
   "metadata": {},
   "outputs": [
    {
     "data": {
      "text/plain": [
       "<matplotlib.axes._subplots.AxesSubplot at 0x10ebf7f60>"
      ]
     },
     "execution_count": 8,
     "metadata": {},
     "output_type": "execute_result"
    },
    {
     "data": {
      "image/png": "[encoded data removed]",
      "text/plain": [
       "<matplotlib.figure.Figure at 0x107535080>"
      ]
     },
     "metadata": {},
     "output_type": "display_data"
    }
   ],
   "source": [
    "df_modules.method.value_counts().plot.barh()"
   ]
  },
  {
   "cell_type": "code",
   "execution_count": 9,
   "metadata": {},
   "outputs": [
    {
     "data": {
      "text/html": [
       "<div>\n",
       "<style scoped>\n",
       "    .dataframe tbody tr th:only-of-type {\n",
       "        vertical-align: middle;\n",
       "    }\n",
       "\n",
       "    .dataframe tbody tr th {\n",
       "        vertical-align: top;\n",
       "    }\n",
       "\n",
       "    .dataframe thead th {\n",
       "        text-align: right;\n",
       "    }\n",
       "</style>\n",
       "<table border=\"1\" class=\"dataframe\">\n",
       "  <thead>\n",
       "    <tr style=\"text-align: right;\">\n",
       "      <th></th>\n",
       "      <th>TF</th>\n",
       "      <th>target</th>\n",
       "      <th>importance</th>\n",
       "      <th>method</th>\n",
       "    </tr>\n",
       "  </thead>\n",
       "  <tbody>\n",
       "  </tbody>\n",
       "</table>\n",
       "</div>"
      ],
      "text/plain": [
       "Empty DataFrame\n",
       "Columns: [TF, target, importance, method]\n",
       "Index: []"
      ]
     },
     "execution_count": 9,
     "metadata": {},
     "output_type": "execute_result"
    }
   ],
   "source": [
    "df_modules[df_modules['TF'] == df_modules['target']]"
   ]
  },
  {
   "cell_type": "markdown",
   "metadata": {},
   "source": [
    "Compare the results with the modules derived by the R pipeline."
   ]
  },
  {
   "cell_type": "code",
   "execution_count": 10,
   "metadata": {},
   "outputs": [],
   "source": [
    "r_modules = pd.read_csv('/Users/bramvandesande/Projects/lcb/resources/rscenic/1.6_tfModules.txt',\n",
    "                          usecols=['Target', 'TF', 'method'])\n",
    "r_modules.columns = ['target', 'TF', 'method']"
   ]
  },
  {
   "cell_type": "code",
   "execution_count": 12,
   "metadata": {},
   "outputs": [
    {
     "data": {
      "text/plain": [
       "4363616"
      ]
     },
     "execution_count": 12,
     "metadata": {},
     "output_type": "execute_result"
    }
   ],
   "source": [
    "len(r_modules)"
   ]
  },
  {
   "cell_type": "code",
   "execution_count": 13,
   "metadata": {},
   "outputs": [
    {
     "data": {
      "text/plain": [
       "w001              3261351\n",
       "top50perTarget     604300\n",
       "w005               266475\n",
       "top10perTarget     120860\n",
       "top5perTarget       60430\n",
       "top50               50200\n",
       "Name: method, dtype: int64"
      ]
     },
     "execution_count": 13,
     "metadata": {},
     "output_type": "execute_result"
    }
   ],
   "source": [
    "r_modules.method.value_counts()"
   ]
  },
  {
   "cell_type": "markdown",
   "metadata": {},
   "source": [
    "Exact comparison."
   ]
  },
  {
   "cell_type": "code",
   "execution_count": 14,
   "metadata": {},
   "outputs": [],
   "source": [
    "COLUMN_NAMES = ['TF', 'target', 'method']\n",
    "df_modules = df_modules[COLUMN_NAMES].sort_values(by=COLUMN_NAMES).reset_index()\n",
    "del df_modules['index']"
   ]
  },
  {
   "cell_type": "code",
   "execution_count": 15,
   "metadata": {},
   "outputs": [],
   "source": [
    "r_modules = r_modules.sort_values(by=COLUMN_NAMES).reset_index()\n",
    "del r_modules['index']\n",
    "r_modules = r_modules[COLUMN_NAMES]"
   ]
  },
  {
   "cell_type": "code",
   "execution_count": 16,
   "metadata": {},
   "outputs": [
    {
     "data": {
      "text/plain": [
       "True"
      ]
     },
     "execution_count": 16,
     "metadata": {},
     "output_type": "execute_result"
    }
   ],
   "source": [
    "r_modules.equals(df_modules)"
   ]
  },
  {
   "cell_type": "markdown",
   "metadata": {},
   "source": [
    "### Phase II: Prune modules for targets with cis regulatory footprints (aka RcisTarget)\n",
    "\n",
    "Testing of RcisTarget should start from exactly the same baseline. Modules for the python pipeline will therefore be created from the link lists with correlation information used in the R scripts."
   ]
  },
  {
   "cell_type": "code",
   "execution_count": 43,
   "metadata": {},
   "outputs": [],
   "source": [
    "from pyscenic.rnkdb import FeatherRankingDatabase as RankingDatabase\n",
    "import os\n",
    "from collections import defaultdict\n",
    "from pyscenic.genesig import Regulome\n",
    "from operator import concat\n",
    "from functools import reduce\n",
    "from pyscenic.regulome import derive_regulomes"
   ]
  },
  {
   "cell_type": "code",
   "execution_count": 44,
   "metadata": {},
   "outputs": [],
   "source": [
    "DATABASE_FOLDER = \"/Users/bramvandesande/Projects/lcb/databases/\"\n",
    "DATABASE_FNAME_500bp = os.path.join(DATABASE_FOLDER, \"mm9-500bp-upstream-10species.mc9nr.feather\")\n",
    "DATABASE_FNAME_10kbp = os.path.join(DATABASE_FOLDER, \"mm9-tss-centered-10kb-10species.mc9nr.feather\")\n",
    "\n",
    "RESOURCES_FOLDER=\"/Users/bramvandesande/Projects/lcb/resources\"\n",
    "MOTIF_ANNOTATIONS_FNAME = os.path.join(RESOURCES_FOLDER, \"motifs-v9-nr.mgi-m0.001-o0.0.tbl\")"
   ]
  },
  {
   "cell_type": "markdown",
   "metadata": {},
   "source": [
    "#### Create modules from R datafile"
   ]
  },
  {
   "cell_type": "code",
   "execution_count": 45,
   "metadata": {},
   "outputs": [
    {
     "data": {
      "text/html": [
       "<div>\n",
       "<style scoped>\n",
       "    .dataframe tbody tr th:only-of-type {\n",
       "        vertical-align: middle;\n",
       "    }\n",
       "\n",
       "    .dataframe tbody tr th {\n",
       "        vertical-align: top;\n",
       "    }\n",
       "\n",
       "    .dataframe thead th {\n",
       "        text-align: right;\n",
       "    }\n",
       "</style>\n",
       "<table border=\"1\" class=\"dataframe\">\n",
       "  <thead>\n",
       "    <tr style=\"text-align: right;\">\n",
       "      <th></th>\n",
       "      <th>Target</th>\n",
       "      <th>TF</th>\n",
       "      <th>method</th>\n",
       "      <th>corr</th>\n",
       "    </tr>\n",
       "  </thead>\n",
       "  <tbody>\n",
       "    <tr>\n",
       "      <th>0</th>\n",
       "      <td>Slc27a3</td>\n",
       "      <td>1810024B03Rik</td>\n",
       "      <td>w001</td>\n",
       "      <td>0</td>\n",
       "    </tr>\n",
       "    <tr>\n",
       "      <th>1</th>\n",
       "      <td>Ankrd39</td>\n",
       "      <td>1810024B03Rik</td>\n",
       "      <td>w001</td>\n",
       "      <td>1</td>\n",
       "    </tr>\n",
       "    <tr>\n",
       "      <th>2</th>\n",
       "      <td>Tbc1d25</td>\n",
       "      <td>1810024B03Rik</td>\n",
       "      <td>w001</td>\n",
       "      <td>0</td>\n",
       "    </tr>\n",
       "    <tr>\n",
       "      <th>3</th>\n",
       "      <td>Mak</td>\n",
       "      <td>1810024B03Rik</td>\n",
       "      <td>w001</td>\n",
       "      <td>1</td>\n",
       "    </tr>\n",
       "    <tr>\n",
       "      <th>4</th>\n",
       "      <td>Tmem86b</td>\n",
       "      <td>1810024B03Rik</td>\n",
       "      <td>w001</td>\n",
       "      <td>1</td>\n",
       "    </tr>\n",
       "  </tbody>\n",
       "</table>\n",
       "</div>"
      ],
      "text/plain": [
       "    Target             TF method  corr\n",
       "0  Slc27a3  1810024B03Rik   w001     0\n",
       "1  Ankrd39  1810024B03Rik   w001     1\n",
       "2  Tbc1d25  1810024B03Rik   w001     0\n",
       "3      Mak  1810024B03Rik   w001     1\n",
       "4  Tmem86b  1810024B03Rik   w001     1"
      ]
     },
     "execution_count": 45,
     "metadata": {},
     "output_type": "execute_result"
    }
   ],
   "source": [
    "r_adjacencies = pd.read_csv('/Users/bramvandesande/Projects/lcb/resources/rscenic/1.7_tfModules_withCorr.txt',\n",
    "                         usecols=['Target', 'TF', 'method', 'corr'])\n",
    "r_adjacencies.head()"
   ]
  },
  {
   "cell_type": "markdown",
   "metadata": {},
   "source": [
    "1. Remove genes in a module that are not part of the database rankings.\n",
    "2. Remove modules with number of genes < 20.\n",
    "3. Add own TF to its own module.\n",
    "4. Only look at TF-target that have an activiting function."
   ]
  },
  {
   "cell_type": "code",
   "execution_count": 46,
   "metadata": {},
   "outputs": [],
   "source": [
    "genes_in_db = RankingDatabase(DATABASE_FNAME_500bp, name=\"500bp\", nomenclature=\"MGI\").geneset\n",
    "r_adjacencies = r_adjacencies[r_adjacencies['corr'] > 0]\n",
    "method2modules = defaultdict(list)\n",
    "for (tf, method), df_grp in r_adjacencies.groupby(by=['TF', 'method']):\n",
    "    targets = set(df_grp['Target'].values)\n",
    "    if len(targets) < 20:\n",
    "        continue\n",
    "    targets.add(tf)\n",
    "    regulome = Regulome(name=\"{} - {}\".format(tf, method), nomenclature=\"MGI\", \n",
    "                        score=0.0, context=frozenset([method]),\n",
    "                        transcription_factor=tf, gene2weights=targets.intersection(geneset))\n",
    "    method2modules[method].append(regulome)"
   ]
  },
  {
   "cell_type": "code",
   "execution_count": 47,
   "metadata": {},
   "outputs": [
    {
     "name": "stdout",
     "output_type": "stream",
     "text": [
      "top50 - 974\n",
      "top50perTarget - 976\n",
      "w001 - 1004\n",
      "w005 - 612\n",
      "top10perTarget - 486\n",
      "top5perTarget - 259\n"
     ]
    }
   ],
   "source": [
    "for method, modules in method2modules.items():\n",
    "    print(method, \"-\", len(modules))"
   ]
  },
  {
   "cell_type": "raw",
   "metadata": {},
   "source": [
    "##  top5perTarget top10perTarget           w005          top50 top50perTarget \n",
    "##            259            486            612            974            976 \n",
    "##           w001 \n",
    "##           1004"
   ]
  },
  {
   "cell_type": "code",
   "execution_count": 48,
   "metadata": {},
   "outputs": [
    {
     "data": {
      "text/plain": [
       "4311"
      ]
     },
     "execution_count": 48,
     "metadata": {},
     "output_type": "execute_result"
    }
   ],
   "source": [
    "modules = reduce(concat, method2modules.values())\n",
    "len(modules)"
   ]
  },
  {
   "cell_type": "markdown",
   "metadata": {},
   "source": [
    "#### Create dataframe with enriched and annotated motifs"
   ]
  },
  {
   "cell_type": "code",
   "execution_count": 49,
   "metadata": {},
   "outputs": [
    {
     "data": {
      "text/plain": [
       "[FeatherRankingDatabase(name=\"500bp\",nomenclature=MGI),\n",
       " FeatherRankingDatabase(name=\"10kbp\",nomenclature=MGI)]"
      ]
     },
     "execution_count": 49,
     "metadata": {},
     "output_type": "execute_result"
    }
   ],
   "source": [
    "rnkdbs = [RankingDatabase(fname, name, \"MGI\") for fname, name in zip([DATABASE_FNAME_500bp, DATABASE_FNAME_10kbp], ['500bp', '10kbp'])]\n",
    "rnkdbs"
   ]
  },
  {
   "cell_type": "code",
   "execution_count": null,
   "metadata": {},
   "outputs": [
    {
     "name": "stdout",
     "output_type": "stream",
     "text": [
      "Using 4 workers.\n",
      "Worker 500bp(1): database loaded in memory.\n",
      "Worker 500bp(2): database loaded in memory.\n",
      "Worker 10kbp(1): database loaded in memory.\n",
      "Worker 10kbp(2): database loaded in memory.\n",
      "Worker 500bp(1): motif annotations loaded in memory.\n",
      "Worker 500bp(2): motif annotations loaded in memory.\n",
      "Worker 10kbp(1): motif annotations loaded in memory.\n",
      "Worker 10kbp(2): motif annotations loaded in memory.\n"
     ]
    }
   ],
   "source": [
    "df = derive_regulomes(rnkdbs, modules, \n",
    "                      MOTIF_ANNOTATIONS_FNAME, \n",
    "                      rank_threshold=5000, auc_threshold=0.01, nes_threshold=3.0,\n",
    "                      output=\"df\", num_workers=4)"
   ]
  },
  {
   "cell_type": "code",
   "execution_count": null,
   "metadata": {},
   "outputs": [],
   "source": [
    "len(df)"
   ]
  },
  {
   "cell_type": "markdown",
   "metadata": {},
   "source": [
    "#### Add leading edge genesets to dataframe"
   ]
  },
  {
   "cell_type": "code",
   "execution_count": null,
   "metadata": {},
   "outputs": [],
   "source": []
  }
 ],
 "metadata": {
  "kernelspec": {
   "display_name": "Python 3.6.2 (pyscenic_dev)",
   "language": "python",
   "name": "pyscenic_dev"
  },
  "language_info": {
   "codemirror_mode": {
    "name": "ipython",
    "version": 3
   },
   "file_extension": ".py",
   "mimetype": "text/x-python",
   "name": "python",
   "nbconvert_exporter": "python",
   "pygments_lexer": "ipython3",
   "version": "3.6.2"
  }
 },
 "nbformat": 4,
 "nbformat_minor": 2
}
