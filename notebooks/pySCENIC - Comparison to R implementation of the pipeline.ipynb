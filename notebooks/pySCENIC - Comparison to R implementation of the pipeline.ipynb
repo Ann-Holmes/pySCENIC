{
 "cells": [
  {
   "cell_type": "markdown",
   "metadata": {},
   "source": [
    "__Author:__ Bram Van de Sande\n",
    "\n",
    "__Date:__ 28 FEB 2018\n",
    "\n",
    "__Outline:__ Compare the results of the different implementation of the SCENIC pipeline. The example used in the tutorial is used in this comparison (https://github.com/aertslab/SCENIC). "
   ]
  },
  {
   "cell_type": "code",
   "execution_count": 1,
   "metadata": {},
   "outputs": [],
   "source": [
    "import pandas as pd\n",
    "import matplotlib.pyplot as plt\n",
    "from pyscenic.utils import save_to_yaml\n",
    "%matplotlib inline"
   ]
  },
  {
   "cell_type": "markdown",
   "metadata": {},
   "source": [
    "### Phase Ib: Derive potential regulomes from these co-expression modules\n",
    "\n",
    "#### Check implementation of `modules_from_genie3`\n",
    "\n",
    "Start from the GENIE3 output and check if derived co-expression modules are similar."
   ]
  },
  {
   "cell_type": "code",
   "execution_count": 2,
   "metadata": {},
   "outputs": [],
   "source": [
    "adjacencies = pd.read_csv('/Users/bramvandesande/Projects/lcb/resources/rscenic/1.5_GENIE3_linkList.txt',\n",
    "                          usecols=['TF', 'Target', 'weight'])\n",
    "adjacencies.columns = [\"TF\", \"target\", \"importance\"]"
   ]
  },
  {
   "cell_type": "markdown",
   "metadata": {},
   "source": [
    "Creation of the modules."
   ]
  },
  {
   "cell_type": "code",
   "execution_count": 3,
   "metadata": {},
   "outputs": [],
   "source": [
    "df_modules = adjacencies[adjacencies['importance'] > 0.001]\n",
    "df_modules['method'] = 'w001'\n",
    "\n",
    "df_tmp = adjacencies[adjacencies['importance'] > 0.005].copy()\n",
    "df_tmp['method'] = 'w005'\n",
    "df_modules = df_modules.append(df_tmp)\n",
    "\n",
    "df_tmp = adjacencies.groupby(by='TF').apply(lambda grp: grp.nlargest(50, \"importance\")).copy()\n",
    "df_tmp['method'] = 'top50'\n",
    "df_modules = df_modules.append(df_tmp)\n",
    "\n",
    "df_tmp = adjacencies.groupby(by='target').apply(lambda grp: grp.nlargest(5, \"importance\")).copy()\n",
    "df_tmp['method'] = 'top5perTarget'\n",
    "df_modules = df_modules.append(df_tmp)\n",
    "\n",
    "df_tmp = adjacencies.groupby(by='target').apply(lambda grp: grp.nlargest(10, \"importance\")).copy()\n",
    "df_tmp['method'] = 'top10perTarget'\n",
    "df_modules = df_modules.append(df_tmp)\n",
    "\n",
    "df_tmp = adjacencies.groupby(by='target').apply(lambda grp: grp.nlargest(50, \"importance\")).copy()\n",
    "df_tmp['method'] = 'top50perTarget'\n",
    "df_modules = df_modules.append(df_tmp)\n",
    "df_modules.index = range(len(df_modules))"
   ]
  },
  {
   "cell_type": "code",
   "execution_count": 4,
   "metadata": {},
   "outputs": [
    {
     "data": {
      "text/plain": [
       "4363616"
      ]
     },
     "execution_count": 4,
     "metadata": {},
     "output_type": "execute_result"
    }
   ],
   "source": [
    "len(df_modules)"
   ]
  },
  {
   "cell_type": "code",
   "execution_count": 5,
   "metadata": {},
   "outputs": [
    {
     "data": {
      "text/plain": [
       "w001              3261351\n",
       "top50perTarget     604300\n",
       "w005               266475\n",
       "top10perTarget     120860\n",
       "top5perTarget       60430\n",
       "top50               50200\n",
       "Name: method, dtype: int64"
      ]
     },
     "execution_count": 5,
     "metadata": {},
     "output_type": "execute_result"
    }
   ],
   "source": [
    "df_modules.method.value_counts()"
   ]
  },
  {
   "cell_type": "code",
   "execution_count": 6,
   "metadata": {},
   "outputs": [
    {
     "data": {
      "text/plain": [
       "<matplotlib.axes._subplots.AxesSubplot at 0x11793cda0>"
      ]
     },
     "execution_count": 6,
     "metadata": {},
     "output_type": "execute_result"
    },
    {
     "data": {
      "image/png": "[encoded data removed]",
      "text/plain": [
       "<matplotlib.figure.Figure at 0x11793ce80>"
      ]
     },
     "metadata": {},
     "output_type": "display_data"
    }
   ],
   "source": [
    "df_modules.method.value_counts().plot.barh()"
   ]
  },
  {
   "cell_type": "code",
   "execution_count": 7,
   "metadata": {},
   "outputs": [
    {
     "data": {
      "text/html": [
       "<div>\n",
       "<style scoped>\n",
       "    .dataframe tbody tr th:only-of-type {\n",
       "        vertical-align: middle;\n",
       "    }\n",
       "\n",
       "    .dataframe tbody tr th {\n",
       "        vertical-align: top;\n",
       "    }\n",
       "\n",
       "    .dataframe thead th {\n",
       "        text-align: right;\n",
       "    }\n",
       "</style>\n",
       "<table border=\"1\" class=\"dataframe\">\n",
       "  <thead>\n",
       "    <tr style=\"text-align: right;\">\n",
       "      <th></th>\n",
       "      <th>TF</th>\n",
       "      <th>target</th>\n",
       "      <th>importance</th>\n",
       "      <th>method</th>\n",
       "    </tr>\n",
       "  </thead>\n",
       "  <tbody>\n",
       "  </tbody>\n",
       "</table>\n",
       "</div>"
      ],
      "text/plain": [
       "Empty DataFrame\n",
       "Columns: [TF, target, importance, method]\n",
       "Index: []"
      ]
     },
     "execution_count": 7,
     "metadata": {},
     "output_type": "execute_result"
    }
   ],
   "source": [
    "df_modules[df_modules['TF'] == df_modules['target']]"
   ]
  },
  {
   "cell_type": "markdown",
   "metadata": {},
   "source": [
    "Compare the results with the modules derived by the R pipeline."
   ]
  },
  {
   "cell_type": "code",
   "execution_count": 8,
   "metadata": {},
   "outputs": [],
   "source": [
    "r_modules = pd.read_csv('/Users/bramvandesande/Projects/lcb/resources/rscenic/1.6_tfModules.txt',\n",
    "                          usecols=['Target', 'TF', 'method'])\n",
    "r_modules.columns = ['target', 'TF', 'method']"
   ]
  },
  {
   "cell_type": "code",
   "execution_count": 9,
   "metadata": {},
   "outputs": [
    {
     "data": {
      "text/plain": [
       "4363616"
      ]
     },
     "execution_count": 9,
     "metadata": {},
     "output_type": "execute_result"
    }
   ],
   "source": [
    "len(r_modules)"
   ]
  },
  {
   "cell_type": "code",
   "execution_count": 10,
   "metadata": {},
   "outputs": [
    {
     "data": {
      "text/plain": [
       "w001              3261351\n",
       "top50perTarget     604300\n",
       "w005               266475\n",
       "top10perTarget     120860\n",
       "top5perTarget       60430\n",
       "top50               50200\n",
       "Name: method, dtype: int64"
      ]
     },
     "execution_count": 10,
     "metadata": {},
     "output_type": "execute_result"
    }
   ],
   "source": [
    "r_modules.method.value_counts()"
   ]
  },
  {
   "cell_type": "markdown",
   "metadata": {},
   "source": [
    "Exact comparison."
   ]
  },
  {
   "cell_type": "code",
   "execution_count": 11,
   "metadata": {},
   "outputs": [],
   "source": [
    "COLUMN_NAMES = ['TF', 'target', 'method']\n",
    "df_modules = df_modules[COLUMN_NAMES].sort_values(by=COLUMN_NAMES).reset_index()\n",
    "del df_modules['index']"
   ]
  },
  {
   "cell_type": "code",
   "execution_count": 12,
   "metadata": {},
   "outputs": [],
   "source": [
    "r_modules = r_modules.sort_values(by=COLUMN_NAMES).reset_index()\n",
    "del r_modules['index']\n",
    "r_modules = r_modules[COLUMN_NAMES]"
   ]
  },
  {
   "cell_type": "code",
   "execution_count": 13,
   "metadata": {},
   "outputs": [
    {
     "data": {
      "text/plain": [
       "True"
      ]
     },
     "execution_count": 13,
     "metadata": {},
     "output_type": "execute_result"
    }
   ],
   "source": [
    "r_modules.equals(df_modules)"
   ]
  },
  {
   "cell_type": "markdown",
   "metadata": {},
   "source": [
    "### Phase II: Prune modules for targets with cis regulatory footprints (aka RcisTarget)\n",
    "\n",
    "Testing of RcisTarget should start from exactly the same baseline. Modules for the python pipeline will therefore be created from the link lists with correlation information used in the R scripts."
   ]
  },
  {
   "cell_type": "code",
   "execution_count": 14,
   "metadata": {},
   "outputs": [],
   "source": [
    "from pyscenic.rnkdb import FeatherRankingDatabase as RankingDatabase\n",
    "import os\n",
    "from collections import defaultdict\n",
    "from pyscenic.genesig import Regulome\n",
    "from operator import concat\n",
    "from functools import reduce\n",
    "from pyscenic.regulome import prune_targets"
   ]
  },
  {
   "cell_type": "code",
   "execution_count": 15,
   "metadata": {},
   "outputs": [],
   "source": [
    "DATABASE_FOLDER = \"/Users/bramvandesande/Projects/lcb/databases/\"\n",
    "DATABASE_FNAME_500bp = os.path.join(DATABASE_FOLDER, \"mm9-500bp-upstream-10species.mc8nr.feather\")\n",
    "DATABASE_FNAME_10kbp = os.path.join(DATABASE_FOLDER, \"mm9-tss-centered-10kb-10species.mc8nr.feather\")\n",
    "\n",
    "RESOURCES_FOLDER=\"/Users/bramvandesande/Projects/lcb/resources\"\n",
    "MOTIF_ANNOTATIONS_FNAME = os.path.join(RESOURCES_FOLDER, \"motifs-v9-nr.mgi-m0.001-o0.0.tbl\")"
   ]
  },
  {
   "cell_type": "markdown",
   "metadata": {},
   "source": [
    "#### Create modules from R datafile"
   ]
  },
  {
   "cell_type": "code",
   "execution_count": 16,
   "metadata": {},
   "outputs": [
    {
     "data": {
      "text/html": [
       "<div>\n",
       "<style scoped>\n",
       "    .dataframe tbody tr th:only-of-type {\n",
       "        vertical-align: middle;\n",
       "    }\n",
       "\n",
       "    .dataframe tbody tr th {\n",
       "        vertical-align: top;\n",
       "    }\n",
       "\n",
       "    .dataframe thead th {\n",
       "        text-align: right;\n",
       "    }\n",
       "</style>\n",
       "<table border=\"1\" class=\"dataframe\">\n",
       "  <thead>\n",
       "    <tr style=\"text-align: right;\">\n",
       "      <th></th>\n",
       "      <th>Target</th>\n",
       "      <th>TF</th>\n",
       "      <th>method</th>\n",
       "      <th>corr</th>\n",
       "    </tr>\n",
       "  </thead>\n",
       "  <tbody>\n",
       "    <tr>\n",
       "      <th>0</th>\n",
       "      <td>Slc27a3</td>\n",
       "      <td>1810024B03Rik</td>\n",
       "      <td>w001</td>\n",
       "      <td>0</td>\n",
       "    </tr>\n",
       "    <tr>\n",
       "      <th>1</th>\n",
       "      <td>Ankrd39</td>\n",
       "      <td>1810024B03Rik</td>\n",
       "      <td>w001</td>\n",
       "      <td>1</td>\n",
       "    </tr>\n",
       "    <tr>\n",
       "      <th>2</th>\n",
       "      <td>Tbc1d25</td>\n",
       "      <td>1810024B03Rik</td>\n",
       "      <td>w001</td>\n",
       "      <td>0</td>\n",
       "    </tr>\n",
       "    <tr>\n",
       "      <th>3</th>\n",
       "      <td>Mak</td>\n",
       "      <td>1810024B03Rik</td>\n",
       "      <td>w001</td>\n",
       "      <td>1</td>\n",
       "    </tr>\n",
       "    <tr>\n",
       "      <th>4</th>\n",
       "      <td>Tmem86b</td>\n",
       "      <td>1810024B03Rik</td>\n",
       "      <td>w001</td>\n",
       "      <td>1</td>\n",
       "    </tr>\n",
       "  </tbody>\n",
       "</table>\n",
       "</div>"
      ],
      "text/plain": [
       "    Target             TF method  corr\n",
       "0  Slc27a3  1810024B03Rik   w001     0\n",
       "1  Ankrd39  1810024B03Rik   w001     1\n",
       "2  Tbc1d25  1810024B03Rik   w001     0\n",
       "3      Mak  1810024B03Rik   w001     1\n",
       "4  Tmem86b  1810024B03Rik   w001     1"
      ]
     },
     "execution_count": 16,
     "metadata": {},
     "output_type": "execute_result"
    }
   ],
   "source": [
    "r_adjacencies = pd.read_csv('/Users/bramvandesande/Projects/lcb/resources/rscenic/1.7_tfModules_withCorr.txt',\n",
    "                         usecols=['Target', 'TF', 'method', 'corr'])\n",
    "r_adjacencies.head()"
   ]
  },
  {
   "cell_type": "markdown",
   "metadata": {},
   "source": [
    "1. Remove genes in a module that are not part of the database rankings.\n",
    "2. Remove modules with number of genes < 20.\n",
    "3. Add own TF to its own module.\n",
    "4. Only look at TF-target that have an activiting function."
   ]
  },
  {
   "cell_type": "code",
   "execution_count": 17,
   "metadata": {},
   "outputs": [],
   "source": [
    "genes_in_db = RankingDatabase(DATABASE_FNAME_500bp, name=\"500bp\", nomenclature=\"MGI\").geneset\n",
    "r_adjacencies = r_adjacencies[r_adjacencies['corr'] > 0]\n",
    "method2modules = defaultdict(list)\n",
    "for (tf, method), df_grp in r_adjacencies.groupby(by=['TF', 'method']):\n",
    "    targets = set(df_grp['Target'].values)\n",
    "    if len(targets) < 20:\n",
    "        continue\n",
    "    targets.add(tf)\n",
    "    regulome = Regulome(name=\"{} - {}\".format(tf, method), nomenclature=\"MGI\", \n",
    "                        score=0.0, context=frozenset([method]),\n",
    "                        transcription_factor=tf, gene2weights=targets.intersection(genes_in_db))\n",
    "    method2modules[method].append(regulome)"
   ]
  },
  {
   "cell_type": "code",
   "execution_count": 18,
   "metadata": {},
   "outputs": [
    {
     "name": "stdout",
     "output_type": "stream",
     "text": [
      "top50 - 974\n",
      "top50perTarget - 976\n",
      "w001 - 1004\n",
      "w005 - 612\n",
      "top10perTarget - 486\n",
      "top5perTarget - 259\n"
     ]
    }
   ],
   "source": [
    "for method, modules in method2modules.items():\n",
    "    print(method, \"-\", len(modules))"
   ]
  },
  {
   "cell_type": "raw",
   "metadata": {},
   "source": [
    "##  top5perTarget top10perTarget           w005          top50 top50perTarget \n",
    "##            259            486            612            974            976 \n",
    "##           w001 \n",
    "##           1004"
   ]
  },
  {
   "cell_type": "code",
   "execution_count": 19,
   "metadata": {},
   "outputs": [
    {
     "data": {
      "text/plain": [
       "4311"
      ]
     },
     "execution_count": 19,
     "metadata": {},
     "output_type": "execute_result"
    }
   ],
   "source": [
    "modules = reduce(concat, method2modules.values())\n",
    "len(modules)"
   ]
  },
  {
   "cell_type": "code",
   "execution_count": 20,
   "metadata": {},
   "outputs": [],
   "source": [
    "save_to_yaml(modules, os.path.join(RESOURCES_FOLDER, \"modules_zeisel_2015.yaml\"))"
   ]
  },
  {
   "cell_type": "markdown",
   "metadata": {},
   "source": [
    "#### Create dataframe with enriched and TF-annotated motifs + leading edges"
   ]
  },
  {
   "cell_type": "code",
   "execution_count": 21,
   "metadata": {},
   "outputs": [
    {
     "data": {
      "text/plain": [
       "[FeatherRankingDatabase(name=\"500bp\",nomenclature=MGI),\n",
       " FeatherRankingDatabase(name=\"10kbp\",nomenclature=MGI)]"
      ]
     },
     "execution_count": 21,
     "metadata": {},
     "output_type": "execute_result"
    }
   ],
   "source": [
    "rnkdbs = [RankingDatabase(fname, name, \"MGI\") for fname, name in zip([DATABASE_FNAME_500bp, DATABASE_FNAME_10kbp], ['500bp', '10kbp'])]\n",
    "rnkdbs"
   ]
  },
  {
   "cell_type": "code",
   "execution_count": 22,
   "metadata": {},
   "outputs": [
    {
     "data": {
      "text/plain": [
       "(20003, 22058)"
      ]
     },
     "execution_count": 22,
     "metadata": {},
     "output_type": "execute_result"
    }
   ],
   "source": [
    "rnkdbs[0].load_full().shape"
   ]
  },
  {
   "cell_type": "code",
   "execution_count": 23,
   "metadata": {},
   "outputs": [],
   "source": [
    "from pyscenic.rnkdb import SQLiteRankingDatabase"
   ]
  },
  {
   "cell_type": "code",
   "execution_count": 24,
   "metadata": {},
   "outputs": [],
   "source": [
    "sqldb = SQLiteRankingDatabase(os.path.join(DATABASE_FOLDER, \"mm9-500bp-upstream-10species.mc8nr.db\"), '500bp', 'MGI')"
   ]
  },
  {
   "cell_type": "code",
   "execution_count": 25,
   "metadata": {},
   "outputs": [
    {
     "data": {
      "text/plain": [
       "(20003, 22058)"
      ]
     },
     "execution_count": 25,
     "metadata": {},
     "output_type": "execute_result"
    }
   ],
   "source": [
    "sqldb.load_full().shape"
   ]
  },
  {
   "cell_type": "code",
   "execution_count": null,
   "metadata": {},
   "outputs": [],
   "source": [
    "df = derive_regulomes(rnkdbs, modules, \n",
    "                      MOTIF_ANNOTATIONS_FNAME, \n",
    "                      rank_threshold=5000, auc_threshold=0.01, nes_threshold=3.0,\n",
    "                      output=\"df\",\n",
    "                      client_or_address=\"custom_multiprocessing\", num_workers=6)"
   ]
  },
  {
   "cell_type": "markdown",
   "metadata": {},
   "source": [
    "__Potential causes of differences:__\n",
    "1. _0-based rankings (python) versus 1-based rankings (R SCENIC version)?_ This has an effect on the interpretation of rank_cutoff. With 0-based the rank_cutoff is included while in 1-based systems this is not the cause. Both are correct calculations but just a difference in interpretation of the parameter. The normalization factor (maxAUC) should be corrected though.\n",
    "```\n",
    "aucThreshold <- round(aucMaxRank)\n",
    "maxAUC <- aucThreshold * nrow(gSetRanks)\n",
    "```\n",
    "(According to this code snippet the maxAUC is calculated to take the aucThreshold into account while this is not the case for the current R implementation of the AUC calculation + 1-based rankings)\n",
    "```\n",
    ".auc <- function(oneRanking, aucThreshold, maxAUC)\n",
    "{\n",
    "  x <- oneRanking\n",
    "  x <- sort(x[x<aucThreshold])\n",
    "\n",
    "  y <- seq_along(x)\n",
    "  sum(diff(c(x, aucThreshold)) * y)/maxAUC\n",
    "}\n",
    "```\n",
    "\n",
    "However: the difference (when comparing ratios - cf. infra) this can introduce is marginal:\n",
    "\n",
    "```\n",
    "-> n-AUC/maxAUC//n-AUC/(maxAUC+1) ~ (n-AUC * (maxAUX+1))/(n-AUC * maxAUC) ~ (maxAUC+1)/maxAUC\n",
    "\n",
    "-> constant for each gene signature.\n",
    "\n",
    "-> maxAUC= nGenes * rank_cutoff (where rank_cutoff ~= 0.01 * 20K ~= 200 \n",
    "-> minimum size of regulome is set at 20.\n",
    "=> maximum difference is e.g. (20 * 200 + 1)/(20 * 200) = 1,00025!\n",
    "```\n",
    "\n",
    "\n",
    "2. _NES threshold (3.0)_. Exactly the same for both pipeline.\n",
    "3. _Digits for truncation of NES and AUC values (3)_. Is available in the R version of the pipeline. This should have no effect on the calculations as this is only used for creating the final results table.\n",
    "4. _Rank threshold (5000)_. Is exactly the same. Can only have an effect on the LE calculation. Has no effect on AUC calculations.\n",
    "5. _AUC fraction (0.01)_. Is used to calculate the rank cutoff. Is the same between both pipelines. However the way the AUC cutoff is calculated in the R implementation was different because it is rounded while in the python implementation it was floored. The difference is corrected __RERUN required__\n",
    "\n",
    "```\n",
    ".AUC.geneSet <- function(geneSet, rankings, aucMaxRank, gSetName=\"\")\n",
    "{\n",
    "  geneSet <- unique(geneSet)\n",
    "  nGenes <- length(geneSet)\n",
    "  geneSet <- geneSet[which(geneSet %in% rownames(rankings))]\n",
    "  missing <- nGenes-length(geneSet)\n",
    "\n",
    "  # gene names are no longer needed\n",
    "  gSetRanks <- rankings[geneSet,]\n",
    "  rm(rankings)\n",
    "\n",
    "  aucThreshold <- round(aucMaxRank)\n",
    "  maxAUC <- aucThreshold * nrow(gSetRanks)\n",
    "\n",
    "  auc <- apply(gSetRanks, 2, .auc, aucThreshold, maxAUC)\n",
    "\n",
    "  c(auc, missing=missing, nGenes=nGenes)\n",
    "}\n",
    "\n",
    "```\n",
    "\n",
    "6. _Minimum orthologous identity and maximum motif similarity FDR_: effect can be assessed in the results table from the python pipeline. But currently the R-based pipeline differentiates only two levels: directly annotated (direct or through orthologous identity) + inferred annotations through motif similarity.\n",
    "7. _Ranking databases (500bp-upstream and 10kp-centered-arount-tss; both 20k features, i.e. version 8)_. Should be the same.\n",
    "__But:__ 20,003 in python (feather) while according to documentation for R version there should be 20,004 features (https://htmlpreview.github.io/?https://github.com/aertslab/SCENIC/blob/master/inst/doc/Step2_Regulons.html).\n",
    "8. _Some gene signatures are removed before NES calculation_: If more than 80% of genes of a signatures are missing. This signature is skipped. This should not affect the AUC calculation at all because AUC is calculated across features for the same signature only. This is now also part of the pySCENIC implementation.\n",
    "\n",
    "```\n",
    "if(all(missingPercent>=.80))\n",
    "    stop(\"Fewer than 20% of the genes in the gene sets\",\n",
    "         \" are included in the rankings.\",\n",
    "         \"Check wether the gene IDs in the 'rankings' and 'geneSets' match.\")\n",
    "\n",
    "  if(any(missingPercent>.80))\n",
    "  {\n",
    "    warning(\"The following gene sets will be excluded from the analysis\",\n",
    "            \"(less than 20% of their genes are available):\\n\",\n",
    "            paste(names(missingPercent)[which(missingPercent >= .80)],\n",
    "                  collapse=\", \"),\n",
    "            immediate.=TRUE)\n",
    "    aucMatrix <- aucMatrix[which(missingPercent < .80),,drop=FALSE]\n",
    "  }\n",
    "```"
   ]
  },
  {
   "cell_type": "code",
   "execution_count": null,
   "metadata": {},
   "outputs": [],
   "source": [
    "len(df)"
   ]
  },
  {
   "cell_type": "code",
   "execution_count": null,
   "metadata": {},
   "outputs": [],
   "source": [
    "df.head()"
   ]
  },
  {
   "cell_type": "markdown",
   "metadata": {},
   "source": [
    "There are far less regulomes when using the python pipeline."
   ]
  },
  {
   "cell_type": "code",
   "execution_count": null,
   "metadata": {},
   "outputs": [],
   "source": [
    "df.index.get_level_values('TF').unique()"
   ]
  },
  {
   "cell_type": "code",
   "execution_count": null,
   "metadata": {},
   "outputs": [],
   "source": [
    "df.index.get_level_values('TF').unique().values"
   ]
  },
  {
   "cell_type": "markdown",
   "metadata": {},
   "source": [
    "Compare the top 5 results documented in the tutorial."
   ]
  },
  {
   "cell_type": "code",
   "execution_count": null,
   "metadata": {},
   "outputs": [],
   "source": [
    "df[df.index.get_level_values('TF') == 'Rfx3'].sort_values(by=('Enrichment', 'NES'), ascending=False)"
   ]
  },
  {
   "cell_type": "markdown",
   "metadata": {},
   "source": [
    "Save to disk."
   ]
  },
  {
   "cell_type": "code",
   "execution_count": null,
   "metadata": {},
   "outputs": [],
   "source": [
    "df.to_csv(os.path.join(RESOURCES_FOLDER, \"regulomes_zeisel_2015.csv\"))"
   ]
  },
  {
   "cell_type": "code",
   "execution_count": 26,
   "metadata": {},
   "outputs": [
    {
     "data": {
      "text/plain": [
       "22013"
      ]
     },
     "execution_count": 26,
     "metadata": {},
     "output_type": "execute_result"
    }
   ],
   "source": [
    "df = pd.read_csv(os.path.join(RESOURCES_FOLDER, \"regulomes_zeisel_2015.csv\"),\n",
    "                 index_col=[0,1], header=[0,1], skipinitialspace=True)\n",
    "len(df)"
   ]
  },
  {
   "cell_type": "markdown",
   "metadata": {},
   "source": [
    "### Compare enriched motifs with results from R pipeline."
   ]
  },
  {
   "cell_type": "markdown",
   "metadata": {},
   "source": [
    "Load R table of enriched motifs and convert it to a comparable format."
   ]
  },
  {
   "cell_type": "code",
   "execution_count": 97,
   "metadata": {},
   "outputs": [
    {
     "data": {
      "text/plain": [
       "11558"
      ]
     },
     "execution_count": 97,
     "metadata": {},
     "output_type": "execute_result"
    }
   ],
   "source": [
    "r_df = pd.read_csv(os.path.join(RESOURCES_FOLDER, \"rscenic/2.4_motifEnrichment_selfMotifs.txt\"))\n",
    "len(r_df)"
   ]
  },
  {
   "cell_type": "code",
   "execution_count": 98,
   "metadata": {},
   "outputs": [
    {
     "data": {
      "text/html": [
       "<div>\n",
       "<style scoped>\n",
       "    .dataframe tbody tr th:only-of-type {\n",
       "        vertical-align: middle;\n",
       "    }\n",
       "\n",
       "    .dataframe tbody tr th {\n",
       "        vertical-align: top;\n",
       "    }\n",
       "\n",
       "    .dataframe thead th {\n",
       "        text-align: right;\n",
       "    }\n",
       "</style>\n",
       "<table border=\"1\" class=\"dataframe\">\n",
       "  <thead>\n",
       "    <tr style=\"text-align: right;\">\n",
       "      <th></th>\n",
       "      <th>Unnamed: 0</th>\n",
       "      <th>motifDb</th>\n",
       "      <th>geneSet</th>\n",
       "      <th>motif</th>\n",
       "      <th>NES</th>\n",
       "      <th>AUC</th>\n",
       "      <th>highlightedTFs</th>\n",
       "      <th>TFinDB</th>\n",
       "      <th>TF_direct</th>\n",
       "      <th>TF_inferred</th>\n",
       "    </tr>\n",
       "  </thead>\n",
       "  <tbody>\n",
       "    <tr>\n",
       "      <th>1</th>\n",
       "      <td>2</td>\n",
       "      <td>500bp</td>\n",
       "      <td>Acaa1b_top50</td>\n",
       "      <td>transfac_pro__M04671</td>\n",
       "      <td>4.28</td>\n",
       "      <td>0.0733</td>\n",
       "      <td>Acaa1b</td>\n",
       "      <td>**</td>\n",
       "      <td>Acaa1a; Acaa1b; Foxf1; Foxf2; Foxg1; Foxh1; Fo...</td>\n",
       "      <td>NaN</td>\n",
       "    </tr>\n",
       "    <tr>\n",
       "      <th>0</th>\n",
       "      <td>1</td>\n",
       "      <td>500bp</td>\n",
       "      <td>Acaa1b_top50</td>\n",
       "      <td>transfac_pro__M01543</td>\n",
       "      <td>4.39</td>\n",
       "      <td>0.0749</td>\n",
       "      <td>Acaa1b</td>\n",
       "      <td>**</td>\n",
       "      <td>Acaa1a; Acaa1b; Foxf1; Foxf2; Foxg1; Foxh1; Fo...</td>\n",
       "      <td>NaN</td>\n",
       "    </tr>\n",
       "    <tr>\n",
       "      <th>2</th>\n",
       "      <td>3</td>\n",
       "      <td>500bp</td>\n",
       "      <td>Ahr_w001</td>\n",
       "      <td>transfac_pro__M00778</td>\n",
       "      <td>3.22</td>\n",
       "      <td>0.0131</td>\n",
       "      <td>Ahr</td>\n",
       "      <td>**</td>\n",
       "      <td>Ahr</td>\n",
       "      <td>NaN</td>\n",
       "    </tr>\n",
       "  </tbody>\n",
       "</table>\n",
       "</div>"
      ],
      "text/plain": [
       "   Unnamed: 0 motifDb       geneSet                 motif   NES     AUC  \\\n",
       "1           2   500bp  Acaa1b_top50  transfac_pro__M04671  4.28  0.0733   \n",
       "0           1   500bp  Acaa1b_top50  transfac_pro__M01543  4.39  0.0749   \n",
       "2           3   500bp      Ahr_w001  transfac_pro__M00778  3.22  0.0131   \n",
       "\n",
       "  highlightedTFs TFinDB                                          TF_direct  \\\n",
       "1         Acaa1b     **  Acaa1a; Acaa1b; Foxf1; Foxf2; Foxg1; Foxh1; Fo...   \n",
       "0         Acaa1b     **  Acaa1a; Acaa1b; Foxf1; Foxf2; Foxg1; Foxh1; Fo...   \n",
       "2            Ahr     **                                                Ahr   \n",
       "\n",
       "  TF_inferred  \n",
       "1         NaN  \n",
       "0         NaN  \n",
       "2         NaN  "
      ]
     },
     "execution_count": 98,
     "metadata": {},
     "output_type": "execute_result"
    }
   ],
   "source": [
    "r_df.sort_values(by='NES', ascending=False).sort_values(by=['highlightedTFs']).head(3)"
   ]
  },
  {
   "cell_type": "code",
   "execution_count": 99,
   "metadata": {},
   "outputs": [
    {
     "data": {
      "text/html": [
       "<div>\n",
       "<style scoped>\n",
       "    .dataframe tbody tr th:only-of-type {\n",
       "        vertical-align: middle;\n",
       "    }\n",
       "\n",
       "    .dataframe tbody tr th {\n",
       "        vertical-align: top;\n",
       "    }\n",
       "\n",
       "    .dataframe thead th {\n",
       "        text-align: right;\n",
       "    }\n",
       "</style>\n",
       "<table border=\"1\" class=\"dataframe\">\n",
       "  <thead>\n",
       "    <tr style=\"text-align: right;\">\n",
       "      <th></th>\n",
       "      <th>DbId</th>\n",
       "      <th>ModuleType</th>\n",
       "      <th>MotifID</th>\n",
       "      <th>TF</th>\n",
       "      <th>AUC</th>\n",
       "      <th>NES</th>\n",
       "    </tr>\n",
       "  </thead>\n",
       "  <tbody>\n",
       "    <tr>\n",
       "      <th>0</th>\n",
       "      <td>500bp</td>\n",
       "      <td>top50</td>\n",
       "      <td>transfac_pro__M01543</td>\n",
       "      <td>Acaa1b</td>\n",
       "      <td>0.0749</td>\n",
       "      <td>4.39</td>\n",
       "    </tr>\n",
       "    <tr>\n",
       "      <th>1</th>\n",
       "      <td>500bp</td>\n",
       "      <td>top50</td>\n",
       "      <td>transfac_pro__M04671</td>\n",
       "      <td>Acaa1b</td>\n",
       "      <td>0.0733</td>\n",
       "      <td>4.28</td>\n",
       "    </tr>\n",
       "    <tr>\n",
       "      <th>2</th>\n",
       "      <td>500bp</td>\n",
       "      <td>w001</td>\n",
       "      <td>transfac_pro__M00778</td>\n",
       "      <td>Ahr</td>\n",
       "      <td>0.0131</td>\n",
       "      <td>3.22</td>\n",
       "    </tr>\n",
       "  </tbody>\n",
       "</table>\n",
       "</div>"
      ],
      "text/plain": [
       "    DbId ModuleType               MotifID      TF     AUC   NES\n",
       "0  500bp      top50  transfac_pro__M01543  Acaa1b  0.0749  4.39\n",
       "1  500bp      top50  transfac_pro__M04671  Acaa1b  0.0733  4.28\n",
       "2  500bp       w001  transfac_pro__M00778     Ahr  0.0131  3.22"
      ]
     },
     "execution_count": 99,
     "metadata": {},
     "output_type": "execute_result"
    }
   ],
   "source": [
    "r_df = r_df.rename(columns={'motifDb': 'DbId', 'geneSet': 'ModuleType', 'motif': 'MotifID', 'highlightedTFs': 'TF'})\n",
    "COLUMNS = ['DbId', 'ModuleType', 'MotifID', 'TF', 'AUC', 'NES']\n",
    "r_df = r_df[COLUMNS]\n",
    "r_df['ModuleType'] = r_df['ModuleType'].apply(lambda s: s.split(\"_\")[1])\n",
    "r_df.head(3)"
   ]
  },
  {
   "cell_type": "markdown",
   "metadata": {},
   "source": [
    "Load python table of enriched motifs and convert it to a comparable format."
   ]
  },
  {
   "cell_type": "code",
   "execution_count": 111,
   "metadata": {},
   "outputs": [
    {
     "data": {
      "text/plain": [
       "22013"
      ]
     },
     "execution_count": 111,
     "metadata": {},
     "output_type": "execute_result"
    }
   ],
   "source": [
    "py_df = pd.read_csv(os.path.join(RESOURCES_FOLDER, \"regulomes_zeisel_2015.csv\"),\n",
    "                 index_col=[0,1], header=[0,1], skipinitialspace=True)\n",
    "len(py_df)"
   ]
  },
  {
   "cell_type": "code",
   "execution_count": 112,
   "metadata": {},
   "outputs": [
    {
     "data": {
      "text/html": [
       "<div>\n",
       "<style scoped>\n",
       "    .dataframe tbody tr th:only-of-type {\n",
       "        vertical-align: middle;\n",
       "    }\n",
       "\n",
       "    .dataframe tbody tr th {\n",
       "        vertical-align: top;\n",
       "    }\n",
       "\n",
       "    .dataframe thead tr th {\n",
       "        text-align: left;\n",
       "    }\n",
       "\n",
       "    .dataframe thead tr:last-of-type th {\n",
       "        text-align: right;\n",
       "    }\n",
       "</style>\n",
       "<table border=\"1\" class=\"dataframe\">\n",
       "  <thead>\n",
       "    <tr>\n",
       "      <th></th>\n",
       "      <th></th>\n",
       "      <th colspan=\"7\" halign=\"left\">Enrichment</th>\n",
       "    </tr>\n",
       "    <tr>\n",
       "      <th></th>\n",
       "      <th></th>\n",
       "      <th>AUC</th>\n",
       "      <th>NES</th>\n",
       "      <th>MotifSimilarityQvalue</th>\n",
       "      <th>OrthologousIdentity</th>\n",
       "      <th>Annotation</th>\n",
       "      <th>Context</th>\n",
       "      <th>TargetGenes</th>\n",
       "    </tr>\n",
       "    <tr>\n",
       "      <th>TF</th>\n",
       "      <th>MotifID</th>\n",
       "      <th></th>\n",
       "      <th></th>\n",
       "      <th></th>\n",
       "      <th></th>\n",
       "      <th></th>\n",
       "      <th></th>\n",
       "      <th></th>\n",
       "    </tr>\n",
       "  </thead>\n",
       "  <tbody>\n",
       "    <tr>\n",
       "      <th rowspan=\"3\" valign=\"top\">Abcf2</th>\n",
       "      <th>hdpi__ABCF2</th>\n",
       "      <td>0.023643</td>\n",
       "      <td>2.691416</td>\n",
       "      <td>0.0</td>\n",
       "      <td>0.982484</td>\n",
       "      <td>gene is orthologous to ENSG00000033050 in H. s...</td>\n",
       "      <td>frozenset({'mm9-tss-centered-10kb-10species', ...</td>\n",
       "      <td>[('Morc2b', 1.0)]</td>\n",
       "    </tr>\n",
       "    <tr>\n",
       "      <th>hdpi__ABCF2</th>\n",
       "      <td>0.024249</td>\n",
       "      <td>2.546799</td>\n",
       "      <td>0.0</td>\n",
       "      <td>0.982484</td>\n",
       "      <td>gene is orthologous to ENSG00000033050 in H. s...</td>\n",
       "      <td>frozenset({'w005', 'mm9-tss-centered-10kb-10sp...</td>\n",
       "      <td>[('Morc2b', 1.0)]</td>\n",
       "    </tr>\n",
       "    <tr>\n",
       "      <th>hdpi__ABCF2</th>\n",
       "      <td>0.021493</td>\n",
       "      <td>2.514265</td>\n",
       "      <td>0.0</td>\n",
       "      <td>0.982484</td>\n",
       "      <td>gene is orthologous to ENSG00000033050 in H. s...</td>\n",
       "      <td>frozenset({'top50', 'mm9-tss-centered-10kb-10s...</td>\n",
       "      <td>[('Morc2b', 1.0)]</td>\n",
       "    </tr>\n",
       "  </tbody>\n",
       "</table>\n",
       "</div>"
      ],
      "text/plain": [
       "                  Enrichment                                  \\\n",
       "                         AUC       NES MotifSimilarityQvalue   \n",
       "TF    MotifID                                                  \n",
       "Abcf2 hdpi__ABCF2   0.023643  2.691416                   0.0   \n",
       "      hdpi__ABCF2   0.024249  2.546799                   0.0   \n",
       "      hdpi__ABCF2   0.021493  2.514265                   0.0   \n",
       "\n",
       "                                       \\\n",
       "                  OrthologousIdentity   \n",
       "TF    MotifID                           \n",
       "Abcf2 hdpi__ABCF2            0.982484   \n",
       "      hdpi__ABCF2            0.982484   \n",
       "      hdpi__ABCF2            0.982484   \n",
       "\n",
       "                                                                      \\\n",
       "                                                          Annotation   \n",
       "TF    MotifID                                                          \n",
       "Abcf2 hdpi__ABCF2  gene is orthologous to ENSG00000033050 in H. s...   \n",
       "      hdpi__ABCF2  gene is orthologous to ENSG00000033050 in H. s...   \n",
       "      hdpi__ABCF2  gene is orthologous to ENSG00000033050 in H. s...   \n",
       "\n",
       "                                                                      \\\n",
       "                                                             Context   \n",
       "TF    MotifID                                                          \n",
       "Abcf2 hdpi__ABCF2  frozenset({'mm9-tss-centered-10kb-10species', ...   \n",
       "      hdpi__ABCF2  frozenset({'w005', 'mm9-tss-centered-10kb-10sp...   \n",
       "      hdpi__ABCF2  frozenset({'top50', 'mm9-tss-centered-10kb-10s...   \n",
       "\n",
       "                                      \n",
       "                         TargetGenes  \n",
       "TF    MotifID                         \n",
       "Abcf2 hdpi__ABCF2  [('Morc2b', 1.0)]  \n",
       "      hdpi__ABCF2  [('Morc2b', 1.0)]  \n",
       "      hdpi__ABCF2  [('Morc2b', 1.0)]  "
      ]
     },
     "execution_count": 112,
     "metadata": {},
     "output_type": "execute_result"
    }
   ],
   "source": [
    "py_df.sort_values(by=[('Enrichment', 'NES')], ascending=False).sort_index(level=0).head(3)"
   ]
  },
  {
   "cell_type": "code",
   "execution_count": 113,
   "metadata": {},
   "outputs": [],
   "source": [
    "py_df.columns = py_df.columns.droplevel(0)\n",
    "py_df = py_df.reset_index()\n",
    "DB_MAP = {\n",
    "    'mm9-500bp-upstream-10species': '500bp',\n",
    "    'mm9-tss-centered-10kb-10species': '10kbp'\n",
    "}\n",
    "def getdb(s):\n",
    "    for elem in eval(s):\n",
    "        if elem in DB_MAP:\n",
    "            return DB_MAP[elem]\n",
    "    raise ValueError\n",
    "def getmodule(s):\n",
    "    for elem in eval(s):\n",
    "        if elem not in DB_MAP:\n",
    "            return elem\n",
    "    raise ValueError\n",
    "py_df['DbId'] = py_df['Context'].apply(getdb)\n",
    "py_df['ModuleType'] = py_df['Context'].apply(getmodule)\n",
    "py_df = py_df[COLUMNS]\n",
    "# Remove elements with NES < 3.0 ! The calculations for the python pipeline had a different NES score for investigating purposes.\n",
    "py_df = py_df[py_df['NES'] >= 3.0]"
   ]
  },
  {
   "cell_type": "code",
   "execution_count": 114,
   "metadata": {},
   "outputs": [
    {
     "data": {
      "text/html": [
       "<div>\n",
       "<style scoped>\n",
       "    .dataframe tbody tr th:only-of-type {\n",
       "        vertical-align: middle;\n",
       "    }\n",
       "\n",
       "    .dataframe tbody tr th {\n",
       "        vertical-align: top;\n",
       "    }\n",
       "\n",
       "    .dataframe thead th {\n",
       "        text-align: right;\n",
       "    }\n",
       "</style>\n",
       "<table border=\"1\" class=\"dataframe\">\n",
       "  <thead>\n",
       "    <tr style=\"text-align: right;\">\n",
       "      <th></th>\n",
       "      <th>DbId</th>\n",
       "      <th>ModuleType</th>\n",
       "      <th>MotifID</th>\n",
       "      <th>TF</th>\n",
       "      <th>AUC</th>\n",
       "      <th>NES</th>\n",
       "    </tr>\n",
       "  </thead>\n",
       "  <tbody>\n",
       "    <tr>\n",
       "      <th>0</th>\n",
       "      <td>500bp</td>\n",
       "      <td>top50</td>\n",
       "      <td>transfac_pro__M01543</td>\n",
       "      <td>Acaa1b</td>\n",
       "      <td>0.076018</td>\n",
       "      <td>4.853421</td>\n",
       "    </tr>\n",
       "    <tr>\n",
       "      <th>1</th>\n",
       "      <td>500bp</td>\n",
       "      <td>top50</td>\n",
       "      <td>transfac_pro__M04671</td>\n",
       "      <td>Acaa1b</td>\n",
       "      <td>0.075656</td>\n",
       "      <td>4.827692</td>\n",
       "    </tr>\n",
       "    <tr>\n",
       "      <th>3</th>\n",
       "      <td>500bp</td>\n",
       "      <td>top50</td>\n",
       "      <td>homer__CCAGGAACAG_AR-halfsite</td>\n",
       "      <td>Ar</td>\n",
       "      <td>0.050405</td>\n",
       "      <td>7.587771</td>\n",
       "    </tr>\n",
       "  </tbody>\n",
       "</table>\n",
       "</div>"
      ],
      "text/plain": [
       "    DbId ModuleType                        MotifID      TF       AUC       NES\n",
       "0  500bp      top50           transfac_pro__M01543  Acaa1b  0.076018  4.853421\n",
       "1  500bp      top50           transfac_pro__M04671  Acaa1b  0.075656  4.827692\n",
       "3  500bp      top50  homer__CCAGGAACAG_AR-halfsite      Ar  0.050405  7.587771"
      ]
     },
     "execution_count": 114,
     "metadata": {},
     "output_type": "execute_result"
    }
   ],
   "source": [
    "py_df.head(3)"
   ]
  },
  {
   "cell_type": "code",
   "execution_count": 115,
   "metadata": {},
   "outputs": [],
   "source": [
    "COMMON=['TF', 'MotifID', 'DbId', 'ModuleType']\n",
    "c_df = pd.merge(r_df, py_df, left_on=COMMON, right_on=COMMON, suffixes=['_R', '_python'])"
   ]
  },
  {
   "cell_type": "markdown",
   "metadata": {},
   "source": [
    "Comparison of AUC values in a scatter plot."
   ]
  },
  {
   "cell_type": "code",
   "execution_count": 116,
   "metadata": {},
   "outputs": [
    {
     "data": {
      "text/plain": [
       "[<matplotlib.lines.Line2D at 0x1528ee240>]"
      ]
     },
     "execution_count": 116,
     "metadata": {},
     "output_type": "execute_result"
    },
    {
     "data": {
      "image/png": "[encoded data removed]",
      "text/plain": [
       "<matplotlib.figure.Figure at 0x1528ee0b8>"
      ]
     },
     "metadata": {},
     "output_type": "display_data"
    }
   ],
   "source": [
    "fig, ax = plt.subplots(figsize=(8,8))\n",
    "c_df.plot.scatter(x='AUC_R', y='AUC_python', grid=True, ax=ax)\n",
    "plt.xlim([0, 0.16])\n",
    "plt.ylim([0, 0.16])\n",
    "import matplotlib.pyplot as plt\n",
    "plt.plot([0, 0.16], [0, 0.16], 'k-')"
   ]
  },
  {
   "cell_type": "code",
   "execution_count": 178,
   "metadata": {},
   "outputs": [
    {
     "data": {
      "text/plain": [
       "<matplotlib.axes._subplots.AxesSubplot at 0x17b376898>"
      ]
     },
     "execution_count": 178,
     "metadata": {},
     "output_type": "execute_result"
    },
    {
     "data": {
      "image/png": "[encoded data removed]",
      "text/plain": [
       "<matplotlib.figure.Figure at 0x16516eb00>"
      ]
     },
     "metadata": {},
     "output_type": "display_data"
    }
   ],
   "source": [
    "(c_df['AUC_R']/c_df['AUC_python']).hist()"
   ]
  },
  {
   "cell_type": "code",
   "execution_count": 183,
   "metadata": {},
   "outputs": [
    {
     "data": {
      "text/plain": [
       "count    8004.000000\n",
       "mean        1.058801\n",
       "std         0.149359\n",
       "min         0.545338\n",
       "25%         0.989066\n",
       "50%         1.042555\n",
       "75%         1.121826\n",
       "max         3.222402\n",
       "dtype: float64"
      ]
     },
     "execution_count": 183,
     "metadata": {},
     "output_type": "execute_result"
    }
   ],
   "source": [
    "(c_df['AUC_R']/c_df['AUC_python']).describe()"
   ]
  },
  {
   "cell_type": "code",
   "execution_count": 182,
   "metadata": {},
   "outputs": [
    {
     "data": {
      "text/html": [
       "<div>\n",
       "<style scoped>\n",
       "    .dataframe tbody tr th:only-of-type {\n",
       "        vertical-align: middle;\n",
       "    }\n",
       "\n",
       "    .dataframe tbody tr th {\n",
       "        vertical-align: top;\n",
       "    }\n",
       "\n",
       "    .dataframe thead th {\n",
       "        text-align: right;\n",
       "    }\n",
       "</style>\n",
       "<table border=\"1\" class=\"dataframe\">\n",
       "  <thead>\n",
       "    <tr style=\"text-align: right;\">\n",
       "      <th></th>\n",
       "      <th>DbId</th>\n",
       "      <th>ModuleType</th>\n",
       "      <th>MotifID</th>\n",
       "      <th>TF</th>\n",
       "      <th>AUC_R</th>\n",
       "      <th>NES_R</th>\n",
       "      <th>AUC_python</th>\n",
       "      <th>NES_python</th>\n",
       "    </tr>\n",
       "  </thead>\n",
       "  <tbody>\n",
       "    <tr>\n",
       "      <th>60</th>\n",
       "      <td>500bp</td>\n",
       "      <td>top50</td>\n",
       "      <td>tfdimers__MD00257</td>\n",
       "      <td>Atf1</td>\n",
       "      <td>0.04330</td>\n",
       "      <td>3.28</td>\n",
       "      <td>0.043282</td>\n",
       "      <td>3.510323</td>\n",
       "    </tr>\n",
       "    <tr>\n",
       "      <th>79</th>\n",
       "      <td>500bp</td>\n",
       "      <td>top50</td>\n",
       "      <td>cisbp__M3090</td>\n",
       "      <td>Atf2</td>\n",
       "      <td>0.05940</td>\n",
       "      <td>5.33</td>\n",
       "      <td>0.059711</td>\n",
       "      <td>5.785257</td>\n",
       "    </tr>\n",
       "    <tr>\n",
       "      <th>81</th>\n",
       "      <td>500bp</td>\n",
       "      <td>top50</td>\n",
       "      <td>cisbp__M5302</td>\n",
       "      <td>Atf2</td>\n",
       "      <td>0.05740</td>\n",
       "      <td>5.13</td>\n",
       "      <td>0.057227</td>\n",
       "      <td>5.517165</td>\n",
       "    </tr>\n",
       "    <tr>\n",
       "      <th>82</th>\n",
       "      <td>500bp</td>\n",
       "      <td>top50</td>\n",
       "      <td>transfac_public__M00178</td>\n",
       "      <td>Atf2</td>\n",
       "      <td>0.05720</td>\n",
       "      <td>5.11</td>\n",
       "      <td>0.057581</td>\n",
       "      <td>5.555463</td>\n",
       "    </tr>\n",
       "    <tr>\n",
       "      <th>88</th>\n",
       "      <td>500bp</td>\n",
       "      <td>top50</td>\n",
       "      <td>transfac_pro__M07686</td>\n",
       "      <td>Atf2</td>\n",
       "      <td>0.05310</td>\n",
       "      <td>4.70</td>\n",
       "      <td>0.052702</td>\n",
       "      <td>5.028854</td>\n",
       "    </tr>\n",
       "    <tr>\n",
       "      <th>91</th>\n",
       "      <td>500bp</td>\n",
       "      <td>top50</td>\n",
       "      <td>transfac_pro__M07668</td>\n",
       "      <td>Atf2</td>\n",
       "      <td>0.05220</td>\n",
       "      <td>4.60</td>\n",
       "      <td>0.052169</td>\n",
       "      <td>4.971406</td>\n",
       "    </tr>\n",
       "    <tr>\n",
       "      <th>94</th>\n",
       "      <td>500bp</td>\n",
       "      <td>top50</td>\n",
       "      <td>transfac_pro__M07666</td>\n",
       "      <td>Atf2</td>\n",
       "      <td>0.05200</td>\n",
       "      <td>4.58</td>\n",
       "      <td>0.052081</td>\n",
       "      <td>4.961831</td>\n",
       "    </tr>\n",
       "    <tr>\n",
       "      <th>101</th>\n",
       "      <td>500bp</td>\n",
       "      <td>top50</td>\n",
       "      <td>cisbp__M6152</td>\n",
       "      <td>Atf2</td>\n",
       "      <td>0.05010</td>\n",
       "      <td>4.40</td>\n",
       "      <td>0.049862</td>\n",
       "      <td>4.722463</td>\n",
       "    </tr>\n",
       "    <tr>\n",
       "      <th>103</th>\n",
       "      <td>500bp</td>\n",
       "      <td>top50</td>\n",
       "      <td>taipale__ATF7_DBD_NNATGACGTCATNN_repr</td>\n",
       "      <td>Atf2</td>\n",
       "      <td>0.04960</td>\n",
       "      <td>4.34</td>\n",
       "      <td>0.049153</td>\n",
       "      <td>4.645865</td>\n",
       "    </tr>\n",
       "    <tr>\n",
       "      <th>124</th>\n",
       "      <td>500bp</td>\n",
       "      <td>top50</td>\n",
       "      <td>transfac_pro__M00917</td>\n",
       "      <td>Atf2</td>\n",
       "      <td>0.04650</td>\n",
       "      <td>4.03</td>\n",
       "      <td>0.046047</td>\n",
       "      <td>4.310750</td>\n",
       "    </tr>\n",
       "    <tr>\n",
       "      <th>137</th>\n",
       "      <td>500bp</td>\n",
       "      <td>top50</td>\n",
       "      <td>transfac_public__M00041</td>\n",
       "      <td>Atf2</td>\n",
       "      <td>0.04290</td>\n",
       "      <td>3.67</td>\n",
       "      <td>0.042498</td>\n",
       "      <td>3.927761</td>\n",
       "    </tr>\n",
       "    <tr>\n",
       "      <th>149</th>\n",
       "      <td>500bp</td>\n",
       "      <td>top50perTarget</td>\n",
       "      <td>taipale__CREB3_full_NNRTGACGTCAYCN</td>\n",
       "      <td>Atf2</td>\n",
       "      <td>0.01760</td>\n",
       "      <td>4.65</td>\n",
       "      <td>0.017723</td>\n",
       "      <td>4.990113</td>\n",
       "    </tr>\n",
       "    <tr>\n",
       "      <th>164</th>\n",
       "      <td>500bp</td>\n",
       "      <td>top50perTarget</td>\n",
       "      <td>transfac_pro__M07686</td>\n",
       "      <td>Atf2</td>\n",
       "      <td>0.01600</td>\n",
       "      <td>3.99</td>\n",
       "      <td>0.016055</td>\n",
       "      <td>4.297979</td>\n",
       "    </tr>\n",
       "    <tr>\n",
       "      <th>167</th>\n",
       "      <td>500bp</td>\n",
       "      <td>top50perTarget</td>\n",
       "      <td>homer__CGGTGACGTCAC_CRE</td>\n",
       "      <td>Atf2</td>\n",
       "      <td>0.01580</td>\n",
       "      <td>3.91</td>\n",
       "      <td>0.015835</td>\n",
       "      <td>4.206873</td>\n",
       "    </tr>\n",
       "    <tr>\n",
       "      <th>171</th>\n",
       "      <td>500bp</td>\n",
       "      <td>top50perTarget</td>\n",
       "      <td>transfac_pro__M07682</td>\n",
       "      <td>Atf2</td>\n",
       "      <td>0.01560</td>\n",
       "      <td>3.84</td>\n",
       "      <td>0.015619</td>\n",
       "      <td>4.117126</td>\n",
       "    </tr>\n",
       "    <tr>\n",
       "      <th>184</th>\n",
       "      <td>500bp</td>\n",
       "      <td>top50perTarget</td>\n",
       "      <td>taipale__JDP2_full_NATGACGTCAYN</td>\n",
       "      <td>Atf2</td>\n",
       "      <td>0.01520</td>\n",
       "      <td>3.68</td>\n",
       "      <td>0.015157</td>\n",
       "      <td>3.925396</td>\n",
       "    </tr>\n",
       "    <tr>\n",
       "      <th>228</th>\n",
       "      <td>500bp</td>\n",
       "      <td>top50perTarget</td>\n",
       "      <td>transfac_pro__M07666</td>\n",
       "      <td>Atf2</td>\n",
       "      <td>0.01420</td>\n",
       "      <td>3.28</td>\n",
       "      <td>0.014318</td>\n",
       "      <td>3.577289</td>\n",
       "    </tr>\n",
       "    <tr>\n",
       "      <th>232</th>\n",
       "      <td>500bp</td>\n",
       "      <td>top50perTarget</td>\n",
       "      <td>cisbp__M4571</td>\n",
       "      <td>Atf2</td>\n",
       "      <td>0.01370</td>\n",
       "      <td>3.06</td>\n",
       "      <td>0.013676</td>\n",
       "      <td>3.310769</td>\n",
       "    </tr>\n",
       "    <tr>\n",
       "      <th>242</th>\n",
       "      <td>500bp</td>\n",
       "      <td>w005</td>\n",
       "      <td>transfac_pro__M07680</td>\n",
       "      <td>Atf2</td>\n",
       "      <td>0.02540</td>\n",
       "      <td>4.37</td>\n",
       "      <td>0.025389</td>\n",
       "      <td>4.732730</td>\n",
       "    </tr>\n",
       "    <tr>\n",
       "      <th>275</th>\n",
       "      <td>500bp</td>\n",
       "      <td>w005</td>\n",
       "      <td>transfac_pro__M00916</td>\n",
       "      <td>Atf2</td>\n",
       "      <td>0.02160</td>\n",
       "      <td>3.45</td>\n",
       "      <td>0.021434</td>\n",
       "      <td>3.727993</td>\n",
       "    </tr>\n",
       "    <tr>\n",
       "      <th>288</th>\n",
       "      <td>500bp</td>\n",
       "      <td>w005</td>\n",
       "      <td>yetfasco__YER045C_8</td>\n",
       "      <td>Atf2</td>\n",
       "      <td>0.02090</td>\n",
       "      <td>3.28</td>\n",
       "      <td>0.020827</td>\n",
       "      <td>3.573661</td>\n",
       "    </tr>\n",
       "    <tr>\n",
       "      <th>294</th>\n",
       "      <td>500bp</td>\n",
       "      <td>top10perTarget</td>\n",
       "      <td>cisbp__M0326</td>\n",
       "      <td>Atf3</td>\n",
       "      <td>0.03470</td>\n",
       "      <td>4.39</td>\n",
       "      <td>0.034366</td>\n",
       "      <td>4.337790</td>\n",
       "    </tr>\n",
       "    <tr>\n",
       "      <th>297</th>\n",
       "      <td>500bp</td>\n",
       "      <td>top50</td>\n",
       "      <td>transfac_pro__M07246</td>\n",
       "      <td>Atf3</td>\n",
       "      <td>0.09850</td>\n",
       "      <td>4.63</td>\n",
       "      <td>0.097738</td>\n",
       "      <td>4.558564</td>\n",
       "    </tr>\n",
       "    <tr>\n",
       "      <th>301</th>\n",
       "      <td>500bp</td>\n",
       "      <td>top50</td>\n",
       "      <td>transfac_pro__M07313</td>\n",
       "      <td>Atf3</td>\n",
       "      <td>0.08800</td>\n",
       "      <td>4.05</td>\n",
       "      <td>0.087692</td>\n",
       "      <td>4.002498</td>\n",
       "    </tr>\n",
       "    <tr>\n",
       "      <th>336</th>\n",
       "      <td>500bp</td>\n",
       "      <td>top50</td>\n",
       "      <td>taipale_tf_pairs__ATF4_CEBPD_NGATGATGCAATNN_CAP</td>\n",
       "      <td>Atf4</td>\n",
       "      <td>0.05930</td>\n",
       "      <td>4.62</td>\n",
       "      <td>0.059548</td>\n",
       "      <td>4.929015</td>\n",
       "    </tr>\n",
       "    <tr>\n",
       "      <th>338</th>\n",
       "      <td>500bp</td>\n",
       "      <td>top50</td>\n",
       "      <td>taipale_tf_pairs__ATF4_TEF_RNMTGATGCAATN_CAP</td>\n",
       "      <td>Atf4</td>\n",
       "      <td>0.05430</td>\n",
       "      <td>4.17</td>\n",
       "      <td>0.054842</td>\n",
       "      <td>4.481583</td>\n",
       "    </tr>\n",
       "    <tr>\n",
       "      <th>340</th>\n",
       "      <td>500bp</td>\n",
       "      <td>top50</td>\n",
       "      <td>taipale__ATF4_DBD_NNATGAYGCAATN</td>\n",
       "      <td>Atf4</td>\n",
       "      <td>0.05220</td>\n",
       "      <td>3.98</td>\n",
       "      <td>0.052489</td>\n",
       "      <td>4.257868</td>\n",
       "    </tr>\n",
       "    <tr>\n",
       "      <th>341</th>\n",
       "      <td>500bp</td>\n",
       "      <td>top50</td>\n",
       "      <td>cisbp__M5292</td>\n",
       "      <td>Atf4</td>\n",
       "      <td>0.05190</td>\n",
       "      <td>3.95</td>\n",
       "      <td>0.052036</td>\n",
       "      <td>4.214845</td>\n",
       "    </tr>\n",
       "    <tr>\n",
       "      <th>343</th>\n",
       "      <td>500bp</td>\n",
       "      <td>top50</td>\n",
       "      <td>taipale_tf_pairs__CEBPG_ATF4_NNATGAYGCAAT_CAP</td>\n",
       "      <td>Atf4</td>\n",
       "      <td>0.05100</td>\n",
       "      <td>3.86</td>\n",
       "      <td>0.050860</td>\n",
       "      <td>4.102987</td>\n",
       "    </tr>\n",
       "    <tr>\n",
       "      <th>344</th>\n",
       "      <td>500bp</td>\n",
       "      <td>top50</td>\n",
       "      <td>cisbp__M5988</td>\n",
       "      <td>Atf4</td>\n",
       "      <td>0.05070</td>\n",
       "      <td>3.84</td>\n",
       "      <td>0.051131</td>\n",
       "      <td>4.128801</td>\n",
       "    </tr>\n",
       "    <tr>\n",
       "      <th>...</th>\n",
       "      <td>...</td>\n",
       "      <td>...</td>\n",
       "      <td>...</td>\n",
       "      <td>...</td>\n",
       "      <td>...</td>\n",
       "      <td>...</td>\n",
       "      <td>...</td>\n",
       "      <td>...</td>\n",
       "    </tr>\n",
       "    <tr>\n",
       "      <th>7437</th>\n",
       "      <td>10kbp</td>\n",
       "      <td>w005</td>\n",
       "      <td>cisbp__M1904</td>\n",
       "      <td>Sox10</td>\n",
       "      <td>0.01770</td>\n",
       "      <td>3.81</td>\n",
       "      <td>0.017813</td>\n",
       "      <td>4.717607</td>\n",
       "    </tr>\n",
       "    <tr>\n",
       "      <th>7472</th>\n",
       "      <td>10kbp</td>\n",
       "      <td>w005</td>\n",
       "      <td>cisbp__M6134</td>\n",
       "      <td>Sox2</td>\n",
       "      <td>0.02650</td>\n",
       "      <td>4.03</td>\n",
       "      <td>0.026525</td>\n",
       "      <td>3.681861</td>\n",
       "    </tr>\n",
       "    <tr>\n",
       "      <th>7485</th>\n",
       "      <td>10kbp</td>\n",
       "      <td>top50perTarget</td>\n",
       "      <td>cisbp__M1904</td>\n",
       "      <td>Sox8</td>\n",
       "      <td>0.01970</td>\n",
       "      <td>4.32</td>\n",
       "      <td>0.019604</td>\n",
       "      <td>5.143728</td>\n",
       "    </tr>\n",
       "    <tr>\n",
       "      <th>7489</th>\n",
       "      <td>10kbp</td>\n",
       "      <td>top50perTarget</td>\n",
       "      <td>transfac_pro__M01923</td>\n",
       "      <td>Sox8</td>\n",
       "      <td>0.01670</td>\n",
       "      <td>3.22</td>\n",
       "      <td>0.016795</td>\n",
       "      <td>3.976150</td>\n",
       "    </tr>\n",
       "    <tr>\n",
       "      <th>7499</th>\n",
       "      <td>10kbp</td>\n",
       "      <td>w001</td>\n",
       "      <td>cisbp__M6471</td>\n",
       "      <td>Sox8</td>\n",
       "      <td>0.01250</td>\n",
       "      <td>4.27</td>\n",
       "      <td>0.012413</td>\n",
       "      <td>4.844077</td>\n",
       "    </tr>\n",
       "    <tr>\n",
       "      <th>7607</th>\n",
       "      <td>10kbp</td>\n",
       "      <td>w001</td>\n",
       "      <td>cisbp__M4515</td>\n",
       "      <td>Srebf2</td>\n",
       "      <td>0.00882</td>\n",
       "      <td>3.20</td>\n",
       "      <td>0.008797</td>\n",
       "      <td>3.555341</td>\n",
       "    </tr>\n",
       "    <tr>\n",
       "      <th>7645</th>\n",
       "      <td>10kbp</td>\n",
       "      <td>top50perTarget</td>\n",
       "      <td>cisbp__M4490</td>\n",
       "      <td>Taf1</td>\n",
       "      <td>0.02310</td>\n",
       "      <td>3.24</td>\n",
       "      <td>0.023181</td>\n",
       "      <td>3.307335</td>\n",
       "    </tr>\n",
       "    <tr>\n",
       "      <th>7655</th>\n",
       "      <td>10kbp</td>\n",
       "      <td>w001</td>\n",
       "      <td>cisbp__M4482</td>\n",
       "      <td>Taf1</td>\n",
       "      <td>0.01040</td>\n",
       "      <td>3.98</td>\n",
       "      <td>0.010365</td>\n",
       "      <td>4.654696</td>\n",
       "    </tr>\n",
       "    <tr>\n",
       "      <th>7656</th>\n",
       "      <td>10kbp</td>\n",
       "      <td>w001</td>\n",
       "      <td>cisbp__M4516</td>\n",
       "      <td>Taf1</td>\n",
       "      <td>0.01030</td>\n",
       "      <td>3.96</td>\n",
       "      <td>0.010343</td>\n",
       "      <td>4.630990</td>\n",
       "    </tr>\n",
       "    <tr>\n",
       "      <th>7658</th>\n",
       "      <td>10kbp</td>\n",
       "      <td>w001</td>\n",
       "      <td>cisbp__M4603</td>\n",
       "      <td>Taf1</td>\n",
       "      <td>0.01030</td>\n",
       "      <td>3.91</td>\n",
       "      <td>0.010321</td>\n",
       "      <td>4.607283</td>\n",
       "    </tr>\n",
       "    <tr>\n",
       "      <th>7680</th>\n",
       "      <td>10kbp</td>\n",
       "      <td>top50perTarget</td>\n",
       "      <td>cisbp__M5478</td>\n",
       "      <td>Tal1</td>\n",
       "      <td>0.02900</td>\n",
       "      <td>3.15</td>\n",
       "      <td>0.029043</td>\n",
       "      <td>3.867349</td>\n",
       "    </tr>\n",
       "    <tr>\n",
       "      <th>7681</th>\n",
       "      <td>10kbp</td>\n",
       "      <td>top50perTarget</td>\n",
       "      <td>taipale__GATA4_DBD_AGATAANN</td>\n",
       "      <td>Tal1</td>\n",
       "      <td>0.02820</td>\n",
       "      <td>3.03</td>\n",
       "      <td>0.028433</td>\n",
       "      <td>3.761178</td>\n",
       "    </tr>\n",
       "    <tr>\n",
       "      <th>7704</th>\n",
       "      <td>10kbp</td>\n",
       "      <td>top50perTarget</td>\n",
       "      <td>cisbp__M6428</td>\n",
       "      <td>Tcf7l1</td>\n",
       "      <td>0.03160</td>\n",
       "      <td>3.23</td>\n",
       "      <td>0.031305</td>\n",
       "      <td>3.778960</td>\n",
       "    </tr>\n",
       "    <tr>\n",
       "      <th>7724</th>\n",
       "      <td>10kbp</td>\n",
       "      <td>top10perTarget</td>\n",
       "      <td>taipale__DBP_full_NRTTACGTAAYN</td>\n",
       "      <td>Tef</td>\n",
       "      <td>0.06120</td>\n",
       "      <td>5.54</td>\n",
       "      <td>0.061810</td>\n",
       "      <td>7.401806</td>\n",
       "    </tr>\n",
       "    <tr>\n",
       "      <th>7725</th>\n",
       "      <td>10kbp</td>\n",
       "      <td>top10perTarget</td>\n",
       "      <td>cisbp__M5338</td>\n",
       "      <td>Tef</td>\n",
       "      <td>0.06120</td>\n",
       "      <td>5.54</td>\n",
       "      <td>0.060995</td>\n",
       "      <td>7.297420</td>\n",
       "    </tr>\n",
       "    <tr>\n",
       "      <th>7729</th>\n",
       "      <td>10kbp</td>\n",
       "      <td>top10perTarget</td>\n",
       "      <td>cisbp__M5337</td>\n",
       "      <td>Tef</td>\n",
       "      <td>0.05900</td>\n",
       "      <td>5.32</td>\n",
       "      <td>0.058824</td>\n",
       "      <td>7.019055</td>\n",
       "    </tr>\n",
       "    <tr>\n",
       "      <th>7732</th>\n",
       "      <td>10kbp</td>\n",
       "      <td>top10perTarget</td>\n",
       "      <td>taipale__Dbp_DBD_NRTTACGTAAYN</td>\n",
       "      <td>Tef</td>\n",
       "      <td>0.05760</td>\n",
       "      <td>5.17</td>\n",
       "      <td>0.057557</td>\n",
       "      <td>6.856675</td>\n",
       "    </tr>\n",
       "    <tr>\n",
       "      <th>7735</th>\n",
       "      <td>10kbp</td>\n",
       "      <td>top10perTarget</td>\n",
       "      <td>taipale__TEF_FL_NRTTACRTAAYN</td>\n",
       "      <td>Tef</td>\n",
       "      <td>0.05520</td>\n",
       "      <td>4.93</td>\n",
       "      <td>0.054842</td>\n",
       "      <td>6.508719</td>\n",
       "    </tr>\n",
       "    <tr>\n",
       "      <th>7739</th>\n",
       "      <td>10kbp</td>\n",
       "      <td>top10perTarget</td>\n",
       "      <td>taipale__HLF_full_NRTTACGTAAYN</td>\n",
       "      <td>Tef</td>\n",
       "      <td>0.05290</td>\n",
       "      <td>4.70</td>\n",
       "      <td>0.052489</td>\n",
       "      <td>6.207157</td>\n",
       "    </tr>\n",
       "    <tr>\n",
       "      <th>7744</th>\n",
       "      <td>10kbp</td>\n",
       "      <td>top10perTarget</td>\n",
       "      <td>swissregulon__hs__ATF2.p2</td>\n",
       "      <td>Tef</td>\n",
       "      <td>0.04840</td>\n",
       "      <td>4.24</td>\n",
       "      <td>0.048507</td>\n",
       "      <td>5.696821</td>\n",
       "    </tr>\n",
       "    <tr>\n",
       "      <th>7754</th>\n",
       "      <td>10kbp</td>\n",
       "      <td>top10perTarget</td>\n",
       "      <td>cisbp__M4353</td>\n",
       "      <td>Tef</td>\n",
       "      <td>0.04480</td>\n",
       "      <td>3.87</td>\n",
       "      <td>0.044615</td>\n",
       "      <td>5.198084</td>\n",
       "    </tr>\n",
       "    <tr>\n",
       "      <th>7759</th>\n",
       "      <td>10kbp</td>\n",
       "      <td>top10perTarget</td>\n",
       "      <td>transfac_pro__M07688</td>\n",
       "      <td>Tef</td>\n",
       "      <td>0.04240</td>\n",
       "      <td>3.63</td>\n",
       "      <td>0.042534</td>\n",
       "      <td>4.931317</td>\n",
       "    </tr>\n",
       "    <tr>\n",
       "      <th>7763</th>\n",
       "      <td>10kbp</td>\n",
       "      <td>top10perTarget</td>\n",
       "      <td>transfac_public__M00228</td>\n",
       "      <td>Tef</td>\n",
       "      <td>0.03920</td>\n",
       "      <td>3.30</td>\n",
       "      <td>0.039457</td>\n",
       "      <td>4.536967</td>\n",
       "    </tr>\n",
       "    <tr>\n",
       "      <th>7780</th>\n",
       "      <td>10kbp</td>\n",
       "      <td>top50</td>\n",
       "      <td>cisbp__M4992</td>\n",
       "      <td>Tef</td>\n",
       "      <td>0.06340</td>\n",
       "      <td>3.96</td>\n",
       "      <td>0.063348</td>\n",
       "      <td>5.260617</td>\n",
       "    </tr>\n",
       "    <tr>\n",
       "      <th>7782</th>\n",
       "      <td>10kbp</td>\n",
       "      <td>top50</td>\n",
       "      <td>taipale__Dbp_DBD_NRTTACGTAAYN</td>\n",
       "      <td>Tef</td>\n",
       "      <td>0.06300</td>\n",
       "      <td>3.92</td>\n",
       "      <td>0.062639</td>\n",
       "      <td>5.192727</td>\n",
       "    </tr>\n",
       "    <tr>\n",
       "      <th>7786</th>\n",
       "      <td>10kbp</td>\n",
       "      <td>top50</td>\n",
       "      <td>transfac_public__M00045</td>\n",
       "      <td>Tef</td>\n",
       "      <td>0.06090</td>\n",
       "      <td>3.76</td>\n",
       "      <td>0.061485</td>\n",
       "      <td>5.082404</td>\n",
       "    </tr>\n",
       "    <tr>\n",
       "      <th>7792</th>\n",
       "      <td>10kbp</td>\n",
       "      <td>top50</td>\n",
       "      <td>taipale__Hlf_DBD_NRTTACGTAAYN</td>\n",
       "      <td>Tef</td>\n",
       "      <td>0.05510</td>\n",
       "      <td>3.31</td>\n",
       "      <td>0.054831</td>\n",
       "      <td>4.445930</td>\n",
       "    </tr>\n",
       "    <tr>\n",
       "      <th>7909</th>\n",
       "      <td>10kbp</td>\n",
       "      <td>w001</td>\n",
       "      <td>transfac_pro__M02044</td>\n",
       "      <td>Yy1</td>\n",
       "      <td>0.01210</td>\n",
       "      <td>3.42</td>\n",
       "      <td>0.012157</td>\n",
       "      <td>4.353712</td>\n",
       "    </tr>\n",
       "    <tr>\n",
       "      <th>7920</th>\n",
       "      <td>10kbp</td>\n",
       "      <td>w001</td>\n",
       "      <td>elemento__AAAATGGCG</td>\n",
       "      <td>Yy1</td>\n",
       "      <td>0.01150</td>\n",
       "      <td>3.01</td>\n",
       "      <td>0.011549</td>\n",
       "      <td>3.889253</td>\n",
       "    </tr>\n",
       "    <tr>\n",
       "      <th>7966</th>\n",
       "      <td>10kbp</td>\n",
       "      <td>top50</td>\n",
       "      <td>factorbook__UA11</td>\n",
       "      <td>Zfp110</td>\n",
       "      <td>0.03340</td>\n",
       "      <td>3.21</td>\n",
       "      <td>0.033350</td>\n",
       "      <td>3.384920</td>\n",
       "    </tr>\n",
       "  </tbody>\n",
       "</table>\n",
       "<p>740 rows × 8 columns</p>\n",
       "</div>"
      ],
      "text/plain": [
       "       DbId      ModuleType                                          MotifID  \\\n",
       "60    500bp           top50                                tfdimers__MD00257   \n",
       "79    500bp           top50                                     cisbp__M3090   \n",
       "81    500bp           top50                                     cisbp__M5302   \n",
       "82    500bp           top50                          transfac_public__M00178   \n",
       "88    500bp           top50                             transfac_pro__M07686   \n",
       "91    500bp           top50                             transfac_pro__M07668   \n",
       "94    500bp           top50                             transfac_pro__M07666   \n",
       "101   500bp           top50                                     cisbp__M6152   \n",
       "103   500bp           top50            taipale__ATF7_DBD_NNATGACGTCATNN_repr   \n",
       "124   500bp           top50                             transfac_pro__M00917   \n",
       "137   500bp           top50                          transfac_public__M00041   \n",
       "149   500bp  top50perTarget               taipale__CREB3_full_NNRTGACGTCAYCN   \n",
       "164   500bp  top50perTarget                             transfac_pro__M07686   \n",
       "167   500bp  top50perTarget                          homer__CGGTGACGTCAC_CRE   \n",
       "171   500bp  top50perTarget                             transfac_pro__M07682   \n",
       "184   500bp  top50perTarget                  taipale__JDP2_full_NATGACGTCAYN   \n",
       "228   500bp  top50perTarget                             transfac_pro__M07666   \n",
       "232   500bp  top50perTarget                                     cisbp__M4571   \n",
       "242   500bp            w005                             transfac_pro__M07680   \n",
       "275   500bp            w005                             transfac_pro__M00916   \n",
       "288   500bp            w005                              yetfasco__YER045C_8   \n",
       "294   500bp  top10perTarget                                     cisbp__M0326   \n",
       "297   500bp           top50                             transfac_pro__M07246   \n",
       "301   500bp           top50                             transfac_pro__M07313   \n",
       "336   500bp           top50  taipale_tf_pairs__ATF4_CEBPD_NGATGATGCAATNN_CAP   \n",
       "338   500bp           top50     taipale_tf_pairs__ATF4_TEF_RNMTGATGCAATN_CAP   \n",
       "340   500bp           top50                  taipale__ATF4_DBD_NNATGAYGCAATN   \n",
       "341   500bp           top50                                     cisbp__M5292   \n",
       "343   500bp           top50    taipale_tf_pairs__CEBPG_ATF4_NNATGAYGCAAT_CAP   \n",
       "344   500bp           top50                                     cisbp__M5988   \n",
       "...     ...             ...                                              ...   \n",
       "7437  10kbp            w005                                     cisbp__M1904   \n",
       "7472  10kbp            w005                                     cisbp__M6134   \n",
       "7485  10kbp  top50perTarget                                     cisbp__M1904   \n",
       "7489  10kbp  top50perTarget                             transfac_pro__M01923   \n",
       "7499  10kbp            w001                                     cisbp__M6471   \n",
       "7607  10kbp            w001                                     cisbp__M4515   \n",
       "7645  10kbp  top50perTarget                                     cisbp__M4490   \n",
       "7655  10kbp            w001                                     cisbp__M4482   \n",
       "7656  10kbp            w001                                     cisbp__M4516   \n",
       "7658  10kbp            w001                                     cisbp__M4603   \n",
       "7680  10kbp  top50perTarget                                     cisbp__M5478   \n",
       "7681  10kbp  top50perTarget                      taipale__GATA4_DBD_AGATAANN   \n",
       "7704  10kbp  top50perTarget                                     cisbp__M6428   \n",
       "7724  10kbp  top10perTarget                   taipale__DBP_full_NRTTACGTAAYN   \n",
       "7725  10kbp  top10perTarget                                     cisbp__M5338   \n",
       "7729  10kbp  top10perTarget                                     cisbp__M5337   \n",
       "7732  10kbp  top10perTarget                    taipale__Dbp_DBD_NRTTACGTAAYN   \n",
       "7735  10kbp  top10perTarget                     taipale__TEF_FL_NRTTACRTAAYN   \n",
       "7739  10kbp  top10perTarget                   taipale__HLF_full_NRTTACGTAAYN   \n",
       "7744  10kbp  top10perTarget                        swissregulon__hs__ATF2.p2   \n",
       "7754  10kbp  top10perTarget                                     cisbp__M4353   \n",
       "7759  10kbp  top10perTarget                             transfac_pro__M07688   \n",
       "7763  10kbp  top10perTarget                          transfac_public__M00228   \n",
       "7780  10kbp           top50                                     cisbp__M4992   \n",
       "7782  10kbp           top50                    taipale__Dbp_DBD_NRTTACGTAAYN   \n",
       "7786  10kbp           top50                          transfac_public__M00045   \n",
       "7792  10kbp           top50                    taipale__Hlf_DBD_NRTTACGTAAYN   \n",
       "7909  10kbp            w001                             transfac_pro__M02044   \n",
       "7920  10kbp            w001                              elemento__AAAATGGCG   \n",
       "7966  10kbp           top50                                 factorbook__UA11   \n",
       "\n",
       "          TF    AUC_R  NES_R  AUC_python  NES_python  \n",
       "60      Atf1  0.04330   3.28    0.043282    3.510323  \n",
       "79      Atf2  0.05940   5.33    0.059711    5.785257  \n",
       "81      Atf2  0.05740   5.13    0.057227    5.517165  \n",
       "82      Atf2  0.05720   5.11    0.057581    5.555463  \n",
       "88      Atf2  0.05310   4.70    0.052702    5.028854  \n",
       "91      Atf2  0.05220   4.60    0.052169    4.971406  \n",
       "94      Atf2  0.05200   4.58    0.052081    4.961831  \n",
       "101     Atf2  0.05010   4.40    0.049862    4.722463  \n",
       "103     Atf2  0.04960   4.34    0.049153    4.645865  \n",
       "124     Atf2  0.04650   4.03    0.046047    4.310750  \n",
       "137     Atf2  0.04290   3.67    0.042498    3.927761  \n",
       "149     Atf2  0.01760   4.65    0.017723    4.990113  \n",
       "164     Atf2  0.01600   3.99    0.016055    4.297979  \n",
       "167     Atf2  0.01580   3.91    0.015835    4.206873  \n",
       "171     Atf2  0.01560   3.84    0.015619    4.117126  \n",
       "184     Atf2  0.01520   3.68    0.015157    3.925396  \n",
       "228     Atf2  0.01420   3.28    0.014318    3.577289  \n",
       "232     Atf2  0.01370   3.06    0.013676    3.310769  \n",
       "242     Atf2  0.02540   4.37    0.025389    4.732730  \n",
       "275     Atf2  0.02160   3.45    0.021434    3.727993  \n",
       "288     Atf2  0.02090   3.28    0.020827    3.573661  \n",
       "294     Atf3  0.03470   4.39    0.034366    4.337790  \n",
       "297     Atf3  0.09850   4.63    0.097738    4.558564  \n",
       "301     Atf3  0.08800   4.05    0.087692    4.002498  \n",
       "336     Atf4  0.05930   4.62    0.059548    4.929015  \n",
       "338     Atf4  0.05430   4.17    0.054842    4.481583  \n",
       "340     Atf4  0.05220   3.98    0.052489    4.257868  \n",
       "341     Atf4  0.05190   3.95    0.052036    4.214845  \n",
       "343     Atf4  0.05100   3.86    0.050860    4.102987  \n",
       "344     Atf4  0.05070   3.84    0.051131    4.128801  \n",
       "...      ...      ...    ...         ...         ...  \n",
       "7437   Sox10  0.01770   3.81    0.017813    4.717607  \n",
       "7472    Sox2  0.02650   4.03    0.026525    3.681861  \n",
       "7485    Sox8  0.01970   4.32    0.019604    5.143728  \n",
       "7489    Sox8  0.01670   3.22    0.016795    3.976150  \n",
       "7499    Sox8  0.01250   4.27    0.012413    4.844077  \n",
       "7607  Srebf2  0.00882   3.20    0.008797    3.555341  \n",
       "7645    Taf1  0.02310   3.24    0.023181    3.307335  \n",
       "7655    Taf1  0.01040   3.98    0.010365    4.654696  \n",
       "7656    Taf1  0.01030   3.96    0.010343    4.630990  \n",
       "7658    Taf1  0.01030   3.91    0.010321    4.607283  \n",
       "7680    Tal1  0.02900   3.15    0.029043    3.867349  \n",
       "7681    Tal1  0.02820   3.03    0.028433    3.761178  \n",
       "7704  Tcf7l1  0.03160   3.23    0.031305    3.778960  \n",
       "7724     Tef  0.06120   5.54    0.061810    7.401806  \n",
       "7725     Tef  0.06120   5.54    0.060995    7.297420  \n",
       "7729     Tef  0.05900   5.32    0.058824    7.019055  \n",
       "7732     Tef  0.05760   5.17    0.057557    6.856675  \n",
       "7735     Tef  0.05520   4.93    0.054842    6.508719  \n",
       "7739     Tef  0.05290   4.70    0.052489    6.207157  \n",
       "7744     Tef  0.04840   4.24    0.048507    5.696821  \n",
       "7754     Tef  0.04480   3.87    0.044615    5.198084  \n",
       "7759     Tef  0.04240   3.63    0.042534    4.931317  \n",
       "7763     Tef  0.03920   3.30    0.039457    4.536967  \n",
       "7780     Tef  0.06340   3.96    0.063348    5.260617  \n",
       "7782     Tef  0.06300   3.92    0.062639    5.192727  \n",
       "7786     Tef  0.06090   3.76    0.061485    5.082404  \n",
       "7792     Tef  0.05510   3.31    0.054831    4.445930  \n",
       "7909     Yy1  0.01210   3.42    0.012157    4.353712  \n",
       "7920     Yy1  0.01150   3.01    0.011549    3.889253  \n",
       "7966  Zfp110  0.03340   3.21    0.033350    3.384920  \n",
       "\n",
       "[740 rows x 8 columns]"
      ]
     },
     "execution_count": 182,
     "metadata": {},
     "output_type": "execute_result"
    }
   ],
   "source": [
    "c_df[((c_df['AUC_R']/c_df['AUC_python']) <= 1.01) & ((c_df['AUC_R']/c_df['AUC_python']) >= 0.99)]"
   ]
  },
  {
   "cell_type": "markdown",
   "metadata": {},
   "source": [
    "Comparison of NES values in a scatter plot."
   ]
  },
  {
   "cell_type": "code",
   "execution_count": 118,
   "metadata": {},
   "outputs": [
    {
     "data": {
      "text/plain": [
       "[<matplotlib.lines.Line2D at 0x1528eefd0>]"
      ]
     },
     "execution_count": 118,
     "metadata": {},
     "output_type": "execute_result"
    },
    {
     "data": {
      "image/png": "[encoded data removed]",
      "text/plain": [
       "<matplotlib.figure.Figure at 0x1528eedd8>"
      ]
     },
     "metadata": {},
     "output_type": "display_data"
    }
   ],
   "source": [
    "fig, ax = plt.subplots(figsize=(8,8))\n",
    "c_df.plot.scatter(x='NES_R', y='NES_python', ax=ax, grid=True)\n",
    "plt.xlim([2.5, 12])\n",
    "plt.ylim([2.5, 12])\n",
    "plt.plot([2.5, 12], [2.5, 12], 'k-')"
   ]
  },
  {
   "cell_type": "markdown",
   "metadata": {},
   "source": [
    "#### Creation of regulomes"
   ]
  },
  {
   "cell_type": "markdown",
   "metadata": {},
   "source": [
    "Create regulomes for python pipeline."
   ]
  },
  {
   "cell_type": "code",
   "execution_count": 119,
   "metadata": {},
   "outputs": [],
   "source": [
    "from pyscenic.regulome import df2regulomes"
   ]
  },
  {
   "cell_type": "code",
   "execution_count": 120,
   "metadata": {},
   "outputs": [],
   "source": [
    "py_df = pd.read_csv(os.path.join(RESOURCES_FOLDER, \"regulomes_zeisel_2015.csv\"),\n",
    "                 index_col=[0,1], header=[0,1], skipinitialspace=True)"
   ]
  },
  {
   "cell_type": "code",
   "execution_count": 121,
   "metadata": {},
   "outputs": [],
   "source": [
    "py_df[('Enrichment', 'TargetGenes')] = list(map(eval, py_df[('Enrichment', 'TargetGenes')]))"
   ]
  },
  {
   "cell_type": "markdown",
   "metadata": {},
   "source": [
    "Remove elements with NES < 3.0 ! The calculations for the python pipeline had a different NES score for investigating purposes."
   ]
  },
  {
   "cell_type": "code",
   "execution_count": 122,
   "metadata": {},
   "outputs": [],
   "source": [
    "py_df = py_df[py_df[('Enrichment', 'NES')] >= 3.0]"
   ]
  },
  {
   "cell_type": "code",
   "execution_count": 123,
   "metadata": {},
   "outputs": [],
   "source": [
    "regulomes = df2regulomes(py_df, \"MGI\")"
   ]
  },
  {
   "cell_type": "code",
   "execution_count": 124,
   "metadata": {},
   "outputs": [
    {
     "data": {
      "text/plain": [
       "400"
      ]
     },
     "execution_count": 124,
     "metadata": {},
     "output_type": "execute_result"
    }
   ],
   "source": [
    "len(regulomes)"
   ]
  },
  {
   "cell_type": "code",
   "execution_count": 125,
   "metadata": {},
   "outputs": [],
   "source": [
    "py_name2targets = {r.transcription_factor: set(r.genes) for r in regulomes}"
   ]
  },
  {
   "cell_type": "code",
   "execution_count": 126,
   "metadata": {},
   "outputs": [
    {
     "data": {
      "text/plain": [
       "400"
      ]
     },
     "execution_count": 126,
     "metadata": {},
     "output_type": "execute_result"
    }
   ],
   "source": [
    "len(py_name2targets)"
   ]
  },
  {
   "cell_type": "markdown",
   "metadata": {},
   "source": [
    "Create regulomes for R pipeline."
   ]
  },
  {
   "cell_type": "code",
   "execution_count": 128,
   "metadata": {},
   "outputs": [],
   "source": [
    "r_incidences = pd.read_csv(os.path.join(RESOURCES_FOLDER, \"rscenic/2.6_regulons_asIncidMat.txt\"), index_col=0)"
   ]
  },
  {
   "cell_type": "code",
   "execution_count": 129,
   "metadata": {},
   "outputs": [
    {
     "data": {
      "text/plain": [
       "(554, 11336)"
      ]
     },
     "execution_count": 129,
     "metadata": {},
     "output_type": "execute_result"
    }
   ],
   "source": [
    "r_incidences.shape"
   ]
  },
  {
   "cell_type": "code",
   "execution_count": 130,
   "metadata": {},
   "outputs": [],
   "source": [
    "from matplotlib_venn import venn2"
   ]
  },
  {
   "cell_type": "code",
   "execution_count": 131,
   "metadata": {},
   "outputs": [],
   "source": [
    "r_extended = set(map(lambda n: n.split('_')[0], filter(lambda n: n.endswith('_extended'), r_incidences.index)))"
   ]
  },
  {
   "cell_type": "code",
   "execution_count": 132,
   "metadata": {},
   "outputs": [],
   "source": [
    "r_not_extended = set(filter(lambda n: not n.endswith('_extended'), r_incidences.index))"
   ]
  },
  {
   "cell_type": "code",
   "execution_count": 133,
   "metadata": {},
   "outputs": [
    {
     "data": {
      "text/plain": [
       "<matplotlib_venn._common.VennDiagram at 0x166a36438>"
      ]
     },
     "execution_count": 133,
     "metadata": {},
     "output_type": "execute_result"
    },
    {
     "data": {
      "image/png": "[encoded data removed]",
      "text/plain": [
       "<matplotlib.figure.Figure at 0x14dade748>"
      ]
     },
     "metadata": {},
     "output_type": "display_data"
    }
   ],
   "source": [
    "from operator import attrgetter\n",
    "r_names = r_extended.union(r_not_extended)\n",
    "py_names = set(map(attrgetter('name'), regulomes))\n",
    "n_intersect = len(r_names.intersection(py_names))\n",
    "venn2(subsets = (len(r_names)-n_intersect, len(py_names)-n_intersect, n_intersect), set_labels=('R', 'Python'))"
   ]
  },
  {
   "cell_type": "markdown",
   "metadata": {},
   "source": [
    "More python regulomes can be explained by the fact that we could have been more resilient with the motif2TF parameters."
   ]
  },
  {
   "cell_type": "code",
   "execution_count": 134,
   "metadata": {},
   "outputs": [],
   "source": [
    "r_name2targets = {tf.split('_')[0]:set(row.index[list(map(bool, row.values))].values)\n",
    "                  for tf, (_, row) in zip(r_incidences.index, r_incidences.iterrows()) if not tf.endswith(\"_extended\")}"
   ]
  },
  {
   "cell_type": "markdown",
   "metadata": {},
   "source": [
    "R version makes a difference between extended and not extended target genes (from derived motifs). In this notebook the regulomes derived from the dataframe take into account both target genes. We take this into account when comparing."
   ]
  },
  {
   "cell_type": "code",
   "execution_count": 135,
   "metadata": {},
   "outputs": [],
   "source": [
    "from cytoolz import merge_with\n",
    "\n",
    "def union(args):\n",
    "    if len(args) == 1:\n",
    "        return args[0]\n",
    "    return args[0].union(args[1])\n",
    "\n",
    "tmp_name2targets = {tf.split('_')[0]:set(row.index[list(map(bool, row.values))].values)\n",
    "                  for tf, (_, row) in zip(r_incidences.index, r_incidences.iterrows()) if tf.endswith(\"_extended\")}\n",
    "r_name2targets_extended = merge_with(union, r_name2targets, tmp_name2targets)"
   ]
  },
  {
   "cell_type": "code",
   "execution_count": 136,
   "metadata": {},
   "outputs": [
    {
     "data": {
      "text/plain": [
       "391"
      ]
     },
     "execution_count": 136,
     "metadata": {},
     "output_type": "execute_result"
    }
   ],
   "source": [
    "len(r_name2targets_extended)"
   ]
  },
  {
   "cell_type": "code",
   "execution_count": 137,
   "metadata": {},
   "outputs": [
    {
     "data": {
      "text/plain": [
       "318"
      ]
     },
     "execution_count": 137,
     "metadata": {},
     "output_type": "execute_result"
    }
   ],
   "source": [
    "len(r_name2targets)"
   ]
  },
  {
   "cell_type": "markdown",
   "metadata": {},
   "source": [
    "Compare actual content of the intersecting regulomes via Jaccard Index."
   ]
  },
  {
   "cell_type": "code",
   "execution_count": 138,
   "metadata": {},
   "outputs": [
    {
     "data": {
      "text/plain": [
       "Text(0.5,1,'Distribution of Jaccard Index')"
      ]
     },
     "execution_count": 138,
     "metadata": {},
     "output_type": "execute_result"
    },
    {
     "data": {
      "image/png": "[encoded data removed]",
      "text/plain": [
       "<matplotlib.figure.Figure at 0x14eb601d0>"
      ]
     },
     "metadata": {},
     "output_type": "display_data"
    }
   ],
   "source": [
    "names = set(r_name2targets_extended.keys()).intersection(set(py_name2targets))\n",
    "n = len(names)\n",
    "def jaccard(s1, s2):\n",
    "    return float(len(s1.intersection(s2)))/len(s1.union(s2))\n",
    "fig, ax = plt.subplots(figsize=(8,8))\n",
    "ji = pd.DataFrame(data={'JI': list(jaccard(r_name2targets_extended[name], py_name2targets[name]) for name in names)},\n",
    "                  index=names)\n",
    "ji.hist(bins=25, ax=ax)\n",
    "plt.xlim([0, 1.0])\n",
    "plt.title('Distribution of Jaccard Index')"
   ]
  },
  {
   "cell_type": "markdown",
   "metadata": {},
   "source": [
    "Scrutinize the regulomes that have a JI of 0.0"
   ]
  },
  {
   "cell_type": "code",
   "execution_count": 142,
   "metadata": {},
   "outputs": [],
   "source": [
    "py_df.columns = py_df.columns.droplevel(0)\n",
    "py_df = py_df.reset_index()\n",
    "DB_MAP = {\n",
    "    'mm9-500bp-upstream-10species': '500bp',\n",
    "    'mm9-tss-centered-10kb-10species': '10kbp'\n",
    "}\n",
    "def getdb(s):\n",
    "    for elem in eval(s):\n",
    "        if elem in DB_MAP:\n",
    "            return DB_MAP[elem]\n",
    "    raise ValueError\n",
    "def getmodule(s):\n",
    "    for elem in eval(s):\n",
    "        if elem not in DB_MAP:\n",
    "            return elem\n",
    "    raise ValueError\n",
    "py_df['DbId'] = py_df['Context'].apply(getdb)\n",
    "py_df['ModuleType'] = py_df['Context'].apply(getmodule)\n",
    "py_df = py_df[COLUMNS]"
   ]
  },
  {
   "cell_type": "code",
   "execution_count": 165,
   "metadata": {},
   "outputs": [
    {
     "data": {
      "text/html": [
       "<div>\n",
       "<style scoped>\n",
       "    .dataframe tbody tr th:only-of-type {\n",
       "        vertical-align: middle;\n",
       "    }\n",
       "\n",
       "    .dataframe tbody tr th {\n",
       "        vertical-align: top;\n",
       "    }\n",
       "\n",
       "    .dataframe thead th {\n",
       "        text-align: right;\n",
       "    }\n",
       "</style>\n",
       "<table border=\"1\" class=\"dataframe\">\n",
       "  <thead>\n",
       "    <tr style=\"text-align: right;\">\n",
       "      <th></th>\n",
       "      <th>JI</th>\n",
       "      <th>NES_python</th>\n",
       "      <th>NES_R</th>\n",
       "      <th>MotifID_python</th>\n",
       "      <th>MotifID_R</th>\n",
       "    </tr>\n",
       "  </thead>\n",
       "  <tbody>\n",
       "    <tr>\n",
       "      <th>Bcl6b</th>\n",
       "      <td>0.019512</td>\n",
       "      <td>5.214115</td>\n",
       "      <td>3.080</td>\n",
       "      <td>3</td>\n",
       "      <td>23</td>\n",
       "    </tr>\n",
       "    <tr>\n",
       "      <th>Crem</th>\n",
       "      <td>0.019663</td>\n",
       "      <td>4.321536</td>\n",
       "      <td>3.510</td>\n",
       "      <td>32</td>\n",
       "      <td>3</td>\n",
       "    </tr>\n",
       "    <tr>\n",
       "      <th>Zfp449</th>\n",
       "      <td>0.020202</td>\n",
       "      <td>6.163822</td>\n",
       "      <td>6.385</td>\n",
       "      <td>2</td>\n",
       "      <td>6</td>\n",
       "    </tr>\n",
       "    <tr>\n",
       "      <th>Klf13</th>\n",
       "      <td>0.020748</td>\n",
       "      <td>3.992778</td>\n",
       "      <td>3.595</td>\n",
       "      <td>19</td>\n",
       "      <td>17</td>\n",
       "    </tr>\n",
       "    <tr>\n",
       "      <th>Gmeb2</th>\n",
       "      <td>0.024024</td>\n",
       "      <td>3.262271</td>\n",
       "      <td>4.660</td>\n",
       "      <td>1</td>\n",
       "      <td>5</td>\n",
       "    </tr>\n",
       "  </tbody>\n",
       "</table>\n",
       "</div>"
      ],
      "text/plain": [
       "              JI  NES_python  NES_R  MotifID_python  MotifID_R\n",
       "Bcl6b   0.019512    5.214115  3.080               3         23\n",
       "Crem    0.019663    4.321536  3.510              32          3\n",
       "Zfp449  0.020202    6.163822  6.385               2          6\n",
       "Klf13   0.020748    3.992778  3.595              19         17\n",
       "Gmeb2   0.024024    3.262271  4.660               1          5"
      ]
     },
     "execution_count": 165,
     "metadata": {},
     "output_type": "execute_result"
    }
   ],
   "source": [
    "c_ji = ji.merge(c_df[['TF', 'NES_python']].groupby(by='TF').mean(), \n",
    "         left_index=True, right_index=True).merge(c_df[['TF', 'NES_R']].groupby(by='TF').mean(),\n",
    "         left_index=True, right_index=True).merge(py_df[['TF', 'MotifID']].groupby(by='TF').count(),\n",
    "         left_index=True, right_index=True).merge(r_df[['TF', 'MotifID']].groupby(by='TF').count(), suffixes=['_python', '_R'],\n",
    "         left_index=True, right_index=True).sort_values(by='JI')\n",
    "c_ji.head(5)"
   ]
  },
  {
   "cell_type": "markdown",
   "metadata": {},
   "source": [
    "Is there a correlation between JI and NES score?"
   ]
  },
  {
   "cell_type": "code",
   "execution_count": 153,
   "metadata": {},
   "outputs": [
    {
     "data": {
      "text/plain": [
       "<matplotlib.axes._subplots.AxesSubplot at 0x179abc240>"
      ]
     },
     "execution_count": 153,
     "metadata": {},
     "output_type": "execute_result"
    },
    {
     "data": {
      "image/png": "[encoded data removed]",
      "text/plain": [
       "<matplotlib.figure.Figure at 0x179abd518>"
      ]
     },
     "metadata": {},
     "output_type": "display_data"
    }
   ],
   "source": [
    "c_ji.plot.scatter(x='JI', y='NES_python')"
   ]
  },
  {
   "cell_type": "markdown",
   "metadata": {},
   "source": [
    "What is the explanation of the extremely low JIs? Disjoint set of enriched motifs between R and python pipeline can only be a reasonable explanation."
   ]
  },
  {
   "cell_type": "code",
   "execution_count": 155,
   "metadata": {},
   "outputs": [
    {
     "data": {
      "text/html": [
       "<div>\n",
       "<style scoped>\n",
       "    .dataframe tbody tr th:only-of-type {\n",
       "        vertical-align: middle;\n",
       "    }\n",
       "\n",
       "    .dataframe tbody tr th {\n",
       "        vertical-align: top;\n",
       "    }\n",
       "\n",
       "    .dataframe thead th {\n",
       "        text-align: right;\n",
       "    }\n",
       "</style>\n",
       "<table border=\"1\" class=\"dataframe\">\n",
       "  <thead>\n",
       "    <tr style=\"text-align: right;\">\n",
       "      <th></th>\n",
       "      <th>DbId</th>\n",
       "      <th>ModuleType</th>\n",
       "      <th>MotifID</th>\n",
       "      <th>TF</th>\n",
       "      <th>AUC</th>\n",
       "      <th>NES</th>\n",
       "    </tr>\n",
       "  </thead>\n",
       "  <tbody>\n",
       "    <tr>\n",
       "      <th>6291</th>\n",
       "      <td>10kbp</td>\n",
       "      <td>top50</td>\n",
       "      <td>taipale__BCL6B_DBD_TGCTTTCTAGGAATTMM_repr</td>\n",
       "      <td>Bcl6b</td>\n",
       "      <td>0.037919</td>\n",
       "      <td>5.207370</td>\n",
       "    </tr>\n",
       "    <tr>\n",
       "      <th>6292</th>\n",
       "      <td>10kbp</td>\n",
       "      <td>top50</td>\n",
       "      <td>c2h2_zfs__M4447</td>\n",
       "      <td>Bcl6b</td>\n",
       "      <td>0.038009</td>\n",
       "      <td>5.220861</td>\n",
       "    </tr>\n",
       "    <tr>\n",
       "      <th>12924</th>\n",
       "      <td>10kbp</td>\n",
       "      <td>top5perTarget</td>\n",
       "      <td>taipale__BCL6B_DBD_TGCTTTCTAGGAATTMM_repr</td>\n",
       "      <td>Bcl6b</td>\n",
       "      <td>0.037462</td>\n",
       "      <td>3.616820</td>\n",
       "    </tr>\n",
       "  </tbody>\n",
       "</table>\n",
       "</div>"
      ],
      "text/plain": [
       "        DbId     ModuleType                                    MotifID     TF  \\\n",
       "6291   10kbp          top50  taipale__BCL6B_DBD_TGCTTTCTAGGAATTMM_repr  Bcl6b   \n",
       "6292   10kbp          top50                            c2h2_zfs__M4447  Bcl6b   \n",
       "12924  10kbp  top5perTarget  taipale__BCL6B_DBD_TGCTTTCTAGGAATTMM_repr  Bcl6b   \n",
       "\n",
       "            AUC       NES  \n",
       "6291   0.037919  5.207370  \n",
       "6292   0.038009  5.220861  \n",
       "12924  0.037462  3.616820  "
      ]
     },
     "execution_count": 155,
     "metadata": {},
     "output_type": "execute_result"
    }
   ],
   "source": [
    "py_df[py_df['TF'] == 'Bcl6b']"
   ]
  },
  {
   "cell_type": "code",
   "execution_count": 156,
   "metadata": {},
   "outputs": [
    {
     "data": {
      "text/html": [
       "<div>\n",
       "<style scoped>\n",
       "    .dataframe tbody tr th:only-of-type {\n",
       "        vertical-align: middle;\n",
       "    }\n",
       "\n",
       "    .dataframe tbody tr th {\n",
       "        vertical-align: top;\n",
       "    }\n",
       "\n",
       "    .dataframe thead th {\n",
       "        text-align: right;\n",
       "    }\n",
       "</style>\n",
       "<table border=\"1\" class=\"dataframe\">\n",
       "  <thead>\n",
       "    <tr style=\"text-align: right;\">\n",
       "      <th></th>\n",
       "      <th>DbId</th>\n",
       "      <th>ModuleType</th>\n",
       "      <th>MotifID</th>\n",
       "      <th>TF</th>\n",
       "      <th>AUC</th>\n",
       "      <th>NES</th>\n",
       "    </tr>\n",
       "  </thead>\n",
       "  <tbody>\n",
       "    <tr>\n",
       "      <th>444</th>\n",
       "      <td>500bp</td>\n",
       "      <td>top10perTarget</td>\n",
       "      <td>cisbp__M1882</td>\n",
       "      <td>Bcl6b</td>\n",
       "      <td>0.0360</td>\n",
       "      <td>4.07</td>\n",
       "    </tr>\n",
       "    <tr>\n",
       "      <th>445</th>\n",
       "      <td>500bp</td>\n",
       "      <td>top10perTarget</td>\n",
       "      <td>jaspar__MA0050.2</td>\n",
       "      <td>Bcl6b</td>\n",
       "      <td>0.0325</td>\n",
       "      <td>3.58</td>\n",
       "    </tr>\n",
       "    <tr>\n",
       "      <th>446</th>\n",
       "      <td>500bp</td>\n",
       "      <td>top10perTarget</td>\n",
       "      <td>transfac_pro__M04788</td>\n",
       "      <td>Bcl6b</td>\n",
       "      <td>0.0298</td>\n",
       "      <td>3.21</td>\n",
       "    </tr>\n",
       "    <tr>\n",
       "      <th>447</th>\n",
       "      <td>500bp</td>\n",
       "      <td>top10perTarget</td>\n",
       "      <td>transfac_pro__M01882</td>\n",
       "      <td>Bcl6b</td>\n",
       "      <td>0.0296</td>\n",
       "      <td>3.18</td>\n",
       "    </tr>\n",
       "    <tr>\n",
       "      <th>448</th>\n",
       "      <td>500bp</td>\n",
       "      <td>top10perTarget</td>\n",
       "      <td>cisbp__M5576</td>\n",
       "      <td>Bcl6b</td>\n",
       "      <td>0.0293</td>\n",
       "      <td>3.14</td>\n",
       "    </tr>\n",
       "    <tr>\n",
       "      <th>449</th>\n",
       "      <td>500bp</td>\n",
       "      <td>top50perTarget</td>\n",
       "      <td>cisbp__M6312</td>\n",
       "      <td>Bcl6b</td>\n",
       "      <td>0.0209</td>\n",
       "      <td>3.60</td>\n",
       "    </tr>\n",
       "    <tr>\n",
       "      <th>450</th>\n",
       "      <td>500bp</td>\n",
       "      <td>top50perTarget</td>\n",
       "      <td>homer__GAAASYGAAASY_IRF2</td>\n",
       "      <td>Bcl6b</td>\n",
       "      <td>0.0205</td>\n",
       "      <td>3.51</td>\n",
       "    </tr>\n",
       "    <tr>\n",
       "      <th>451</th>\n",
       "      <td>500bp</td>\n",
       "      <td>top50perTarget</td>\n",
       "      <td>hocomoco__IRF7_HUMAN.H10MO.C</td>\n",
       "      <td>Bcl6b</td>\n",
       "      <td>0.0205</td>\n",
       "      <td>3.51</td>\n",
       "    </tr>\n",
       "    <tr>\n",
       "      <th>452</th>\n",
       "      <td>500bp</td>\n",
       "      <td>top50perTarget</td>\n",
       "      <td>cisbp__M1882</td>\n",
       "      <td>Bcl6b</td>\n",
       "      <td>0.0194</td>\n",
       "      <td>3.24</td>\n",
       "    </tr>\n",
       "    <tr>\n",
       "      <th>453</th>\n",
       "      <td>500bp</td>\n",
       "      <td>top50perTarget</td>\n",
       "      <td>cisbp__M6308</td>\n",
       "      <td>Bcl6b</td>\n",
       "      <td>0.0187</td>\n",
       "      <td>3.06</td>\n",
       "    </tr>\n",
       "    <tr>\n",
       "      <th>454</th>\n",
       "      <td>500bp</td>\n",
       "      <td>top50perTarget</td>\n",
       "      <td>transfac_pro__M01882</td>\n",
       "      <td>Bcl6b</td>\n",
       "      <td>0.0185</td>\n",
       "      <td>3.03</td>\n",
       "    </tr>\n",
       "    <tr>\n",
       "      <th>455</th>\n",
       "      <td>500bp</td>\n",
       "      <td>top50perTarget</td>\n",
       "      <td>jaspar__MA0050.2</td>\n",
       "      <td>Bcl6b</td>\n",
       "      <td>0.0185</td>\n",
       "      <td>3.01</td>\n",
       "    </tr>\n",
       "    <tr>\n",
       "      <th>456</th>\n",
       "      <td>500bp</td>\n",
       "      <td>w001</td>\n",
       "      <td>cisbp__M5576</td>\n",
       "      <td>Bcl6b</td>\n",
       "      <td>0.0172</td>\n",
       "      <td>3.49</td>\n",
       "    </tr>\n",
       "    <tr>\n",
       "      <th>457</th>\n",
       "      <td>500bp</td>\n",
       "      <td>w001</td>\n",
       "      <td>hocomoco__IRF2_HUMAN.H10MO.C</td>\n",
       "      <td>Bcl6b</td>\n",
       "      <td>0.0160</td>\n",
       "      <td>3.08</td>\n",
       "    </tr>\n",
       "    <tr>\n",
       "      <th>458</th>\n",
       "      <td>500bp</td>\n",
       "      <td>w001</td>\n",
       "      <td>cisbp__M6308</td>\n",
       "      <td>Bcl6b</td>\n",
       "      <td>0.0160</td>\n",
       "      <td>3.07</td>\n",
       "    </tr>\n",
       "    <tr>\n",
       "      <th>459</th>\n",
       "      <td>500bp</td>\n",
       "      <td>w001</td>\n",
       "      <td>taipale__IRF7_DBD_NCGAAANYGAAACY_repr</td>\n",
       "      <td>Bcl6b</td>\n",
       "      <td>0.0159</td>\n",
       "      <td>3.04</td>\n",
       "    </tr>\n",
       "    <tr>\n",
       "      <th>460</th>\n",
       "      <td>500bp</td>\n",
       "      <td>w005</td>\n",
       "      <td>transfac_pro__M01882</td>\n",
       "      <td>Bcl6b</td>\n",
       "      <td>0.0280</td>\n",
       "      <td>4.20</td>\n",
       "    </tr>\n",
       "    <tr>\n",
       "      <th>461</th>\n",
       "      <td>500bp</td>\n",
       "      <td>w005</td>\n",
       "      <td>cisbp__M5576</td>\n",
       "      <td>Bcl6b</td>\n",
       "      <td>0.0242</td>\n",
       "      <td>3.45</td>\n",
       "    </tr>\n",
       "    <tr>\n",
       "      <th>462</th>\n",
       "      <td>500bp</td>\n",
       "      <td>w005</td>\n",
       "      <td>cisbp__M1882</td>\n",
       "      <td>Bcl6b</td>\n",
       "      <td>0.0238</td>\n",
       "      <td>3.39</td>\n",
       "    </tr>\n",
       "    <tr>\n",
       "      <th>463</th>\n",
       "      <td>500bp</td>\n",
       "      <td>w005</td>\n",
       "      <td>hocomoco__IRF2_HUMAN.H10MO.C</td>\n",
       "      <td>Bcl6b</td>\n",
       "      <td>0.0219</td>\n",
       "      <td>3.01</td>\n",
       "    </tr>\n",
       "    <tr>\n",
       "      <th>5489</th>\n",
       "      <td>10kbp</td>\n",
       "      <td>top50</td>\n",
       "      <td>taipale__BCL6B_DBD_TGCTTTCTAGGAATTMM_repr</td>\n",
       "      <td>Bcl6b</td>\n",
       "      <td>0.0385</td>\n",
       "      <td>3.09</td>\n",
       "    </tr>\n",
       "    <tr>\n",
       "      <th>5490</th>\n",
       "      <td>10kbp</td>\n",
       "      <td>top50</td>\n",
       "      <td>c2h2_zfs__M4447</td>\n",
       "      <td>Bcl6b</td>\n",
       "      <td>0.0383</td>\n",
       "      <td>3.07</td>\n",
       "    </tr>\n",
       "    <tr>\n",
       "      <th>5491</th>\n",
       "      <td>10kbp</td>\n",
       "      <td>w005</td>\n",
       "      <td>swissregulon__hs__IRF1_2_7.p3</td>\n",
       "      <td>Bcl6b</td>\n",
       "      <td>0.0263</td>\n",
       "      <td>3.63</td>\n",
       "    </tr>\n",
       "  </tbody>\n",
       "</table>\n",
       "</div>"
      ],
      "text/plain": [
       "       DbId      ModuleType                                    MotifID     TF  \\\n",
       "444   500bp  top10perTarget                               cisbp__M1882  Bcl6b   \n",
       "445   500bp  top10perTarget                           jaspar__MA0050.2  Bcl6b   \n",
       "446   500bp  top10perTarget                       transfac_pro__M04788  Bcl6b   \n",
       "447   500bp  top10perTarget                       transfac_pro__M01882  Bcl6b   \n",
       "448   500bp  top10perTarget                               cisbp__M5576  Bcl6b   \n",
       "449   500bp  top50perTarget                               cisbp__M6312  Bcl6b   \n",
       "450   500bp  top50perTarget                   homer__GAAASYGAAASY_IRF2  Bcl6b   \n",
       "451   500bp  top50perTarget               hocomoco__IRF7_HUMAN.H10MO.C  Bcl6b   \n",
       "452   500bp  top50perTarget                               cisbp__M1882  Bcl6b   \n",
       "453   500bp  top50perTarget                               cisbp__M6308  Bcl6b   \n",
       "454   500bp  top50perTarget                       transfac_pro__M01882  Bcl6b   \n",
       "455   500bp  top50perTarget                           jaspar__MA0050.2  Bcl6b   \n",
       "456   500bp            w001                               cisbp__M5576  Bcl6b   \n",
       "457   500bp            w001               hocomoco__IRF2_HUMAN.H10MO.C  Bcl6b   \n",
       "458   500bp            w001                               cisbp__M6308  Bcl6b   \n",
       "459   500bp            w001      taipale__IRF7_DBD_NCGAAANYGAAACY_repr  Bcl6b   \n",
       "460   500bp            w005                       transfac_pro__M01882  Bcl6b   \n",
       "461   500bp            w005                               cisbp__M5576  Bcl6b   \n",
       "462   500bp            w005                               cisbp__M1882  Bcl6b   \n",
       "463   500bp            w005               hocomoco__IRF2_HUMAN.H10MO.C  Bcl6b   \n",
       "5489  10kbp           top50  taipale__BCL6B_DBD_TGCTTTCTAGGAATTMM_repr  Bcl6b   \n",
       "5490  10kbp           top50                            c2h2_zfs__M4447  Bcl6b   \n",
       "5491  10kbp            w005              swissregulon__hs__IRF1_2_7.p3  Bcl6b   \n",
       "\n",
       "         AUC   NES  \n",
       "444   0.0360  4.07  \n",
       "445   0.0325  3.58  \n",
       "446   0.0298  3.21  \n",
       "447   0.0296  3.18  \n",
       "448   0.0293  3.14  \n",
       "449   0.0209  3.60  \n",
       "450   0.0205  3.51  \n",
       "451   0.0205  3.51  \n",
       "452   0.0194  3.24  \n",
       "453   0.0187  3.06  \n",
       "454   0.0185  3.03  \n",
       "455   0.0185  3.01  \n",
       "456   0.0172  3.49  \n",
       "457   0.0160  3.08  \n",
       "458   0.0160  3.07  \n",
       "459   0.0159  3.04  \n",
       "460   0.0280  4.20  \n",
       "461   0.0242  3.45  \n",
       "462   0.0238  3.39  \n",
       "463   0.0219  3.01  \n",
       "5489  0.0385  3.09  \n",
       "5490  0.0383  3.07  \n",
       "5491  0.0263  3.63  "
      ]
     },
     "execution_count": 156,
     "metadata": {},
     "output_type": "execute_result"
    }
   ],
   "source": [
    "r_df[r_df['TF'] == 'Bcl6b']"
   ]
  },
  {
   "cell_type": "code",
   "execution_count": 168,
   "metadata": {},
   "outputs": [],
   "source": [
    "c_ji['motif_diff'] = (c_ji['MotifID_python'] - c_ji['MotifID_R']).abs()"
   ]
  },
  {
   "cell_type": "code",
   "execution_count": 169,
   "metadata": {},
   "outputs": [
    {
     "data": {
      "text/html": [
       "<div>\n",
       "<style scoped>\n",
       "    .dataframe tbody tr th:only-of-type {\n",
       "        vertical-align: middle;\n",
       "    }\n",
       "\n",
       "    .dataframe tbody tr th {\n",
       "        vertical-align: top;\n",
       "    }\n",
       "\n",
       "    .dataframe thead th {\n",
       "        text-align: right;\n",
       "    }\n",
       "</style>\n",
       "<table border=\"1\" class=\"dataframe\">\n",
       "  <thead>\n",
       "    <tr style=\"text-align: right;\">\n",
       "      <th></th>\n",
       "      <th>JI</th>\n",
       "      <th>NES_python</th>\n",
       "      <th>NES_R</th>\n",
       "      <th>MotifID_python</th>\n",
       "      <th>MotifID_R</th>\n",
       "      <th>motif_diff</th>\n",
       "    </tr>\n",
       "  </thead>\n",
       "  <tbody>\n",
       "    <tr>\n",
       "      <th>Bcl6b</th>\n",
       "      <td>0.019512</td>\n",
       "      <td>5.214115</td>\n",
       "      <td>3.080</td>\n",
       "      <td>3</td>\n",
       "      <td>23</td>\n",
       "      <td>20</td>\n",
       "    </tr>\n",
       "    <tr>\n",
       "      <th>Crem</th>\n",
       "      <td>0.019663</td>\n",
       "      <td>4.321536</td>\n",
       "      <td>3.510</td>\n",
       "      <td>32</td>\n",
       "      <td>3</td>\n",
       "      <td>29</td>\n",
       "    </tr>\n",
       "    <tr>\n",
       "      <th>Zfp449</th>\n",
       "      <td>0.020202</td>\n",
       "      <td>6.163822</td>\n",
       "      <td>6.385</td>\n",
       "      <td>2</td>\n",
       "      <td>6</td>\n",
       "      <td>4</td>\n",
       "    </tr>\n",
       "    <tr>\n",
       "      <th>Klf13</th>\n",
       "      <td>0.020748</td>\n",
       "      <td>3.992778</td>\n",
       "      <td>3.595</td>\n",
       "      <td>19</td>\n",
       "      <td>17</td>\n",
       "      <td>2</td>\n",
       "    </tr>\n",
       "    <tr>\n",
       "      <th>Gmeb2</th>\n",
       "      <td>0.024024</td>\n",
       "      <td>3.262271</td>\n",
       "      <td>4.660</td>\n",
       "      <td>1</td>\n",
       "      <td>5</td>\n",
       "      <td>4</td>\n",
       "    </tr>\n",
       "  </tbody>\n",
       "</table>\n",
       "</div>"
      ],
      "text/plain": [
       "              JI  NES_python  NES_R  MotifID_python  MotifID_R  motif_diff\n",
       "Bcl6b   0.019512    5.214115  3.080               3         23          20\n",
       "Crem    0.019663    4.321536  3.510              32          3          29\n",
       "Zfp449  0.020202    6.163822  6.385               2          6           4\n",
       "Klf13   0.020748    3.992778  3.595              19         17           2\n",
       "Gmeb2   0.024024    3.262271  4.660               1          5           4"
      ]
     },
     "execution_count": 169,
     "metadata": {},
     "output_type": "execute_result"
    }
   ],
   "source": [
    "c_ji.head()"
   ]
  },
  {
   "cell_type": "code",
   "execution_count": 172,
   "metadata": {},
   "outputs": [
    {
     "data": {
      "text/plain": [
       "(0, 50)"
      ]
     },
     "execution_count": 172,
     "metadata": {},
     "output_type": "execute_result"
    },
    {
     "data": {
      "image/png": "[encoded data removed]",
      "text/plain": [
       "<matplotlib.figure.Figure at 0x176898048>"
      ]
     },
     "metadata": {},
     "output_type": "display_data"
    }
   ],
   "source": [
    "fig, ax = plt.subplots(figsize=(8,8))\n",
    "c_ji.plot.scatter(x='JI', y='motif_diff', ax=ax)\n",
    "plt.ylim([0, 50])"
   ]
  },
  {
   "cell_type": "markdown",
   "metadata": {},
   "source": [
    "No real correlation can be explained by the fact that the actual metric to compare with JI is the disjointness of the two feature spaces."
   ]
  },
  {
   "cell_type": "markdown",
   "metadata": {},
   "source": [
    "Look at the enriched motifs for regulomes that have a JI of 1.0."
   ]
  },
  {
   "cell_type": "code",
   "execution_count": 173,
   "metadata": {},
   "outputs": [
    {
     "data": {
      "text/html": [
       "<div>\n",
       "<style scoped>\n",
       "    .dataframe tbody tr th:only-of-type {\n",
       "        vertical-align: middle;\n",
       "    }\n",
       "\n",
       "    .dataframe tbody tr th {\n",
       "        vertical-align: top;\n",
       "    }\n",
       "\n",
       "    .dataframe thead th {\n",
       "        text-align: right;\n",
       "    }\n",
       "</style>\n",
       "<table border=\"1\" class=\"dataframe\">\n",
       "  <thead>\n",
       "    <tr style=\"text-align: right;\">\n",
       "      <th></th>\n",
       "      <th>JI</th>\n",
       "      <th>NES_python</th>\n",
       "      <th>NES_R</th>\n",
       "      <th>MotifID_python</th>\n",
       "      <th>MotifID_R</th>\n",
       "      <th>motif_diff</th>\n",
       "    </tr>\n",
       "  </thead>\n",
       "  <tbody>\n",
       "    <tr>\n",
       "      <th>Foxo6</th>\n",
       "      <td>1.0</td>\n",
       "      <td>3.199249</td>\n",
       "      <td>3.190000</td>\n",
       "      <td>1</td>\n",
       "      <td>1</td>\n",
       "      <td>0</td>\n",
       "    </tr>\n",
       "    <tr>\n",
       "      <th>Rara</th>\n",
       "      <td>1.0</td>\n",
       "      <td>3.630141</td>\n",
       "      <td>3.820000</td>\n",
       "      <td>4</td>\n",
       "      <td>3</td>\n",
       "      <td>1</td>\n",
       "    </tr>\n",
       "    <tr>\n",
       "      <th>Mxd4</th>\n",
       "      <td>1.0</td>\n",
       "      <td>4.597123</td>\n",
       "      <td>3.870000</td>\n",
       "      <td>12</td>\n",
       "      <td>4</td>\n",
       "      <td>8</td>\n",
       "    </tr>\n",
       "    <tr>\n",
       "      <th>Zfp652</th>\n",
       "      <td>1.0</td>\n",
       "      <td>6.387877</td>\n",
       "      <td>5.985000</td>\n",
       "      <td>2</td>\n",
       "      <td>2</td>\n",
       "      <td>0</td>\n",
       "    </tr>\n",
       "    <tr>\n",
       "      <th>Bbx</th>\n",
       "      <td>1.0</td>\n",
       "      <td>3.609076</td>\n",
       "      <td>3.648000</td>\n",
       "      <td>5</td>\n",
       "      <td>5</td>\n",
       "      <td>0</td>\n",
       "    </tr>\n",
       "    <tr>\n",
       "      <th>Polr3a</th>\n",
       "      <td>1.0</td>\n",
       "      <td>3.253137</td>\n",
       "      <td>3.495000</td>\n",
       "      <td>2</td>\n",
       "      <td>2</td>\n",
       "      <td>0</td>\n",
       "    </tr>\n",
       "    <tr>\n",
       "      <th>Zfp382</th>\n",
       "      <td>1.0</td>\n",
       "      <td>5.755805</td>\n",
       "      <td>4.290000</td>\n",
       "      <td>1</td>\n",
       "      <td>1</td>\n",
       "      <td>0</td>\n",
       "    </tr>\n",
       "    <tr>\n",
       "      <th>Dazap1</th>\n",
       "      <td>1.0</td>\n",
       "      <td>5.577406</td>\n",
       "      <td>5.900000</td>\n",
       "      <td>1</td>\n",
       "      <td>2</td>\n",
       "      <td>1</td>\n",
       "    </tr>\n",
       "    <tr>\n",
       "      <th>Scrt1</th>\n",
       "      <td>1.0</td>\n",
       "      <td>4.129229</td>\n",
       "      <td>3.648750</td>\n",
       "      <td>10</td>\n",
       "      <td>8</td>\n",
       "      <td>2</td>\n",
       "    </tr>\n",
       "    <tr>\n",
       "      <th>Rreb1</th>\n",
       "      <td>1.0</td>\n",
       "      <td>4.253669</td>\n",
       "      <td>4.011765</td>\n",
       "      <td>18</td>\n",
       "      <td>23</td>\n",
       "      <td>5</td>\n",
       "    </tr>\n",
       "    <tr>\n",
       "      <th>Zfp180</th>\n",
       "      <td>1.0</td>\n",
       "      <td>3.320290</td>\n",
       "      <td>3.250000</td>\n",
       "      <td>1</td>\n",
       "      <td>1</td>\n",
       "      <td>0</td>\n",
       "    </tr>\n",
       "    <tr>\n",
       "      <th>Zfp64</th>\n",
       "      <td>1.0</td>\n",
       "      <td>3.822872</td>\n",
       "      <td>3.585000</td>\n",
       "      <td>20</td>\n",
       "      <td>2</td>\n",
       "      <td>18</td>\n",
       "    </tr>\n",
       "    <tr>\n",
       "      <th>Acaa1b</th>\n",
       "      <td>1.0</td>\n",
       "      <td>4.840556</td>\n",
       "      <td>4.335000</td>\n",
       "      <td>4</td>\n",
       "      <td>2</td>\n",
       "      <td>2</td>\n",
       "    </tr>\n",
       "    <tr>\n",
       "      <th>Zfp74</th>\n",
       "      <td>1.0</td>\n",
       "      <td>4.710188</td>\n",
       "      <td>3.270000</td>\n",
       "      <td>1</td>\n",
       "      <td>1</td>\n",
       "      <td>0</td>\n",
       "    </tr>\n",
       "    <tr>\n",
       "      <th>Zfp174</th>\n",
       "      <td>1.0</td>\n",
       "      <td>3.480015</td>\n",
       "      <td>3.710000</td>\n",
       "      <td>1</td>\n",
       "      <td>1</td>\n",
       "      <td>0</td>\n",
       "    </tr>\n",
       "    <tr>\n",
       "      <th>Zfp629</th>\n",
       "      <td>1.0</td>\n",
       "      <td>3.947592</td>\n",
       "      <td>4.800000</td>\n",
       "      <td>1</td>\n",
       "      <td>1</td>\n",
       "      <td>0</td>\n",
       "    </tr>\n",
       "    <tr>\n",
       "      <th>Zfp606</th>\n",
       "      <td>1.0</td>\n",
       "      <td>3.071219</td>\n",
       "      <td>3.220000</td>\n",
       "      <td>1</td>\n",
       "      <td>1</td>\n",
       "      <td>0</td>\n",
       "    </tr>\n",
       "    <tr>\n",
       "      <th>D130040H23Rik</th>\n",
       "      <td>1.0</td>\n",
       "      <td>3.068801</td>\n",
       "      <td>3.210000</td>\n",
       "      <td>1</td>\n",
       "      <td>1</td>\n",
       "      <td>0</td>\n",
       "    </tr>\n",
       "    <tr>\n",
       "      <th>Parp1</th>\n",
       "      <td>1.0</td>\n",
       "      <td>3.486778</td>\n",
       "      <td>3.320000</td>\n",
       "      <td>1</td>\n",
       "      <td>1</td>\n",
       "      <td>0</td>\n",
       "    </tr>\n",
       "    <tr>\n",
       "      <th>Smug1</th>\n",
       "      <td>1.0</td>\n",
       "      <td>3.187903</td>\n",
       "      <td>3.270000</td>\n",
       "      <td>1</td>\n",
       "      <td>1</td>\n",
       "      <td>0</td>\n",
       "    </tr>\n",
       "    <tr>\n",
       "      <th>Zbtb3</th>\n",
       "      <td>1.0</td>\n",
       "      <td>4.596088</td>\n",
       "      <td>4.655000</td>\n",
       "      <td>2</td>\n",
       "      <td>2</td>\n",
       "      <td>0</td>\n",
       "    </tr>\n",
       "    <tr>\n",
       "      <th>Zfp575</th>\n",
       "      <td>1.0</td>\n",
       "      <td>3.518366</td>\n",
       "      <td>3.090000</td>\n",
       "      <td>1</td>\n",
       "      <td>1</td>\n",
       "      <td>0</td>\n",
       "    </tr>\n",
       "    <tr>\n",
       "      <th>Sall2</th>\n",
       "      <td>1.0</td>\n",
       "      <td>4.505909</td>\n",
       "      <td>4.390000</td>\n",
       "      <td>2</td>\n",
       "      <td>3</td>\n",
       "      <td>1</td>\n",
       "    </tr>\n",
       "  </tbody>\n",
       "</table>\n",
       "</div>"
      ],
      "text/plain": [
       "                JI  NES_python     NES_R  MotifID_python  MotifID_R  \\\n",
       "Foxo6          1.0    3.199249  3.190000               1          1   \n",
       "Rara           1.0    3.630141  3.820000               4          3   \n",
       "Mxd4           1.0    4.597123  3.870000              12          4   \n",
       "Zfp652         1.0    6.387877  5.985000               2          2   \n",
       "Bbx            1.0    3.609076  3.648000               5          5   \n",
       "Polr3a         1.0    3.253137  3.495000               2          2   \n",
       "Zfp382         1.0    5.755805  4.290000               1          1   \n",
       "Dazap1         1.0    5.577406  5.900000               1          2   \n",
       "Scrt1          1.0    4.129229  3.648750              10          8   \n",
       "Rreb1          1.0    4.253669  4.011765              18         23   \n",
       "Zfp180         1.0    3.320290  3.250000               1          1   \n",
       "Zfp64          1.0    3.822872  3.585000              20          2   \n",
       "Acaa1b         1.0    4.840556  4.335000               4          2   \n",
       "Zfp74          1.0    4.710188  3.270000               1          1   \n",
       "Zfp174         1.0    3.480015  3.710000               1          1   \n",
       "Zfp629         1.0    3.947592  4.800000               1          1   \n",
       "Zfp606         1.0    3.071219  3.220000               1          1   \n",
       "D130040H23Rik  1.0    3.068801  3.210000               1          1   \n",
       "Parp1          1.0    3.486778  3.320000               1          1   \n",
       "Smug1          1.0    3.187903  3.270000               1          1   \n",
       "Zbtb3          1.0    4.596088  4.655000               2          2   \n",
       "Zfp575         1.0    3.518366  3.090000               1          1   \n",
       "Sall2          1.0    4.505909  4.390000               2          3   \n",
       "\n",
       "               motif_diff  \n",
       "Foxo6                   0  \n",
       "Rara                    1  \n",
       "Mxd4                    8  \n",
       "Zfp652                  0  \n",
       "Bbx                     0  \n",
       "Polr3a                  0  \n",
       "Zfp382                  0  \n",
       "Dazap1                  1  \n",
       "Scrt1                   2  \n",
       "Rreb1                   5  \n",
       "Zfp180                  0  \n",
       "Zfp64                  18  \n",
       "Acaa1b                  2  \n",
       "Zfp74                   0  \n",
       "Zfp174                  0  \n",
       "Zfp629                  0  \n",
       "Zfp606                  0  \n",
       "D130040H23Rik           0  \n",
       "Parp1                   0  \n",
       "Smug1                   0  \n",
       "Zbtb3                   0  \n",
       "Zfp575                  0  \n",
       "Sall2                   1  "
      ]
     },
     "execution_count": 173,
     "metadata": {},
     "output_type": "execute_result"
    }
   ],
   "source": [
    "c_ji[c_ji['JI'] == 1.0]"
   ]
  },
  {
   "cell_type": "markdown",
   "metadata": {},
   "source": [
    "Experiment to validate this: create regulomes in python only based on motifs also found in R."
   ]
  },
  {
   "cell_type": "markdown",
   "metadata": {},
   "source": [
    "Does filtering on length of the regulome mitigate the problem? It should."
   ]
  },
  {
   "cell_type": "code",
   "execution_count": null,
   "metadata": {},
   "outputs": [],
   "source": []
  },
  {
   "cell_type": "markdown",
   "metadata": {},
   "source": [
    "__Explanation of differences in LE__:\n",
    "1. The R implementation uses an approx method to calculate the avg + 2 std RCC.\n",
    "2. Different enriched motids are discovered for same TFs. This results in very different target genes."
   ]
  },
  {
   "cell_type": "code",
   "execution_count": 175,
   "metadata": {},
   "outputs": [
    {
     "data": {
      "text/html": [
       "<div>\n",
       "<style scoped>\n",
       "    .dataframe tbody tr th:only-of-type {\n",
       "        vertical-align: middle;\n",
       "    }\n",
       "\n",
       "    .dataframe tbody tr th {\n",
       "        vertical-align: top;\n",
       "    }\n",
       "\n",
       "    .dataframe thead th {\n",
       "        text-align: right;\n",
       "    }\n",
       "</style>\n",
       "<table border=\"1\" class=\"dataframe\">\n",
       "  <thead>\n",
       "    <tr style=\"text-align: right;\">\n",
       "      <th></th>\n",
       "      <th>JI</th>\n",
       "      <th>NES_python</th>\n",
       "      <th>NES_R</th>\n",
       "      <th>MotifID_python</th>\n",
       "      <th>MotifID_R</th>\n",
       "      <th>motif_diff</th>\n",
       "    </tr>\n",
       "  </thead>\n",
       "  <tbody>\n",
       "    <tr>\n",
       "      <th>count</th>\n",
       "      <td>290.000000</td>\n",
       "      <td>290.000000</td>\n",
       "      <td>290.000000</td>\n",
       "      <td>290.000000</td>\n",
       "      <td>290.000000</td>\n",
       "      <td>290.000000</td>\n",
       "    </tr>\n",
       "    <tr>\n",
       "      <th>mean</th>\n",
       "      <td>0.510515</td>\n",
       "      <td>3.923084</td>\n",
       "      <td>3.840111</td>\n",
       "      <td>44.641379</td>\n",
       "      <td>38.758621</td>\n",
       "      <td>11.641379</td>\n",
       "    </tr>\n",
       "    <tr>\n",
       "      <th>std</th>\n",
       "      <td>0.274126</td>\n",
       "      <td>0.672819</td>\n",
       "      <td>0.607853</td>\n",
       "      <td>90.205469</td>\n",
       "      <td>80.234844</td>\n",
       "      <td>23.807526</td>\n",
       "    </tr>\n",
       "    <tr>\n",
       "      <th>min</th>\n",
       "      <td>0.019512</td>\n",
       "      <td>3.000282</td>\n",
       "      <td>3.010000</td>\n",
       "      <td>1.000000</td>\n",
       "      <td>1.000000</td>\n",
       "      <td>0.000000</td>\n",
       "    </tr>\n",
       "    <tr>\n",
       "      <th>25%</th>\n",
       "      <td>0.285714</td>\n",
       "      <td>3.469584</td>\n",
       "      <td>3.419180</td>\n",
       "      <td>4.000000</td>\n",
       "      <td>3.000000</td>\n",
       "      <td>1.000000</td>\n",
       "    </tr>\n",
       "    <tr>\n",
       "      <th>50%</th>\n",
       "      <td>0.502995</td>\n",
       "      <td>3.759976</td>\n",
       "      <td>3.697868</td>\n",
       "      <td>11.000000</td>\n",
       "      <td>9.000000</td>\n",
       "      <td>4.000000</td>\n",
       "    </tr>\n",
       "    <tr>\n",
       "      <th>75%</th>\n",
       "      <td>0.718894</td>\n",
       "      <td>4.170966</td>\n",
       "      <td>4.108500</td>\n",
       "      <td>37.750000</td>\n",
       "      <td>28.750000</td>\n",
       "      <td>11.000000</td>\n",
       "    </tr>\n",
       "    <tr>\n",
       "      <th>max</th>\n",
       "      <td>1.000000</td>\n",
       "      <td>7.587771</td>\n",
       "      <td>7.210000</td>\n",
       "      <td>601.000000</td>\n",
       "      <td>628.000000</td>\n",
       "      <td>255.000000</td>\n",
       "    </tr>\n",
       "  </tbody>\n",
       "</table>\n",
       "</div>"
      ],
      "text/plain": [
       "               JI  NES_python       NES_R  MotifID_python   MotifID_R  \\\n",
       "count  290.000000  290.000000  290.000000      290.000000  290.000000   \n",
       "mean     0.510515    3.923084    3.840111       44.641379   38.758621   \n",
       "std      0.274126    0.672819    0.607853       90.205469   80.234844   \n",
       "min      0.019512    3.000282    3.010000        1.000000    1.000000   \n",
       "25%      0.285714    3.469584    3.419180        4.000000    3.000000   \n",
       "50%      0.502995    3.759976    3.697868       11.000000    9.000000   \n",
       "75%      0.718894    4.170966    4.108500       37.750000   28.750000   \n",
       "max      1.000000    7.587771    7.210000      601.000000  628.000000   \n",
       "\n",
       "       motif_diff  \n",
       "count  290.000000  \n",
       "mean    11.641379  \n",
       "std     23.807526  \n",
       "min      0.000000  \n",
       "25%      1.000000  \n",
       "50%      4.000000  \n",
       "75%     11.000000  \n",
       "max    255.000000  "
      ]
     },
     "execution_count": 175,
     "metadata": {},
     "output_type": "execute_result"
    }
   ],
   "source": [
    "c_ji.describe()"
   ]
  },
  {
   "cell_type": "markdown",
   "metadata": {},
   "source": [
    "__CONCLUSION:__ There is snowball effect: differences in AUC => differences in NES => differences in enriched motifs => differences in target genes.\n",
    "\n",
    "Plan of action:\n",
    "1. Check AUC calculation:\n",
    "\n",
    "1.1. Implementation seems to be OK. Unittests + exact code match.\n",
    "\n",
    "1.2. Input modules are exactly the same, i.e. derived from the R dataset and same statistics.\n",
    "\n",
    "1.3. Is the database the same? "
   ]
  },
  {
   "cell_type": "code",
   "execution_count": null,
   "metadata": {},
   "outputs": [],
   "source": []
  }
 ],
 "metadata": {
  "kernelspec": {
   "display_name": "Python 3.6.2 (pyscenic_dev)",
   "language": "python",
   "name": "pyscenic_dev"
  },
  "language_info": {
   "codemirror_mode": {
    "name": "ipython",
    "version": 3
   },
   "file_extension": ".py",
   "mimetype": "text/x-python",
   "name": "python",
   "nbconvert_exporter": "python",
   "pygments_lexer": "ipython3",
   "version": "3.6.2"
  }
 },
 "nbformat": 4,
 "nbformat_minor": 2
}
