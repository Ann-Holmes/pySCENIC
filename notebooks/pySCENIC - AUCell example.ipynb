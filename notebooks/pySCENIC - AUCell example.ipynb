{
 "cells": [
  {
   "cell_type": "markdown",
   "metadata": {},
   "source": [
    "__Author:__ Bram Van de Sande\n",
    "\n",
    "__Date:__ 8 MAR 2018\n",
    "\n",
    "__Outline:__ Run AUCell on a single gene signature."
   ]
  },
  {
   "cell_type": "code",
   "execution_count": 4,
   "metadata": {},
   "outputs": [],
   "source": [
    "GENE_SIGNATURE_FNAME = 'oxphos_mitocomp2_genes.tsv'\n",
    "EXPRESSION_MTX_FNAME = '' # Gene expression as (cell, gene) - matrix."
   ]
  },
  {
   "cell_type": "code",
   "execution_count": 7,
   "metadata": {},
   "outputs": [
    {
     "data": {
      "text/plain": [
       "GeneSignature(name='oxphos_mitocomp2', nomenclature='FlyBase', gene2weights=<frozendict {'OxPhos_genesig': 1.0, 'ND-13A': 1.0, 'ND-13B': 1.0, 'ND-15': 1.0, 'ND-18': 1.0, 'ND-19': 1.0, 'ND-20': 1.0, 'ND-20L': 1.0, 'ND-23': 1.0, 'ND-24': 1.0, 'ND-24L': 1.0, 'ND-30': 1.0, 'ND-39': 1.0, 'ND-42': 1.0, 'ND-49': 1.0, 'ND-49L': 1.0, 'ND-51': 1.0, 'ND-51L2': 1.0, 'ND-51L1': 1.0, 'ND-75': 1.0, 'ND-B8': 1.0, 'ND-B12': 1.0, 'ND-B14': 1.0, 'ND-B14.5A': 1.0, 'ND-B14.5AL': 1.0, 'ND-B14.5B': 1.0, 'ND-B14.7': 1.0, 'ND-B15': 1.0, 'ND-B16.6': 1.0, 'ND-B17': 1.0, 'ND-B17.2': 1.0, 'ND-B18': 1.0, 'ND-B22': 1.0, 'ND-ACP': 1.0, 'ND-ASHI': 1.0, 'ND-MLRQ': 1.0, 'ND-MNLL': 1.0, 'ND-PDSW': 1.0, 'ND-SGDH': 1.0, 'ND-AGGG': 1.0, 'ND-MWFE': 1.0, 'SdhA': 1.0, 'SdhAL': 1.0, 'SdhB': 1.0, 'SdhBL': 1.0, 'SdhC': 1.0, 'SdhD': 1.0, 'UQCR-6.4': 1.0, 'ox': 1.0, 'UQCR-11': 1.0, 'UQCR-11L': 1.0, 'UQCR-14': 1.0, 'UQCR-14L': 1.0, 'RFeSP': 1.0, 'Cyt-c1': 1.0, 'Cyt-c1L': 1.0, 'UQCR-C1': 1.0, 'UQCR-C2': 1.0, 'UQCR-Q': 1.0, 'COX4': 1.0, 'COX4L': 1.0, 'COX5A': 1.0, 'COX5B': 1.0, 'COX5BL': 1.0, 'levy': 1.0, 'COX6AL': 1.0, 'COX6B': 1.0, 'cype': 1.0, 'COX7A': 1.0, 'COX7AL': 1.0, 'COX7C': 1.0, 'blw': 1.0, 'ATPsynbeta': 1.0, 'ATPsynbetaL': 1.0, 'ATPsyngamma': 1.0, 'ATPsyndelta': 1.0, 'sun': 1.0, 'ATPsynepsilonL': 1.0, 'ATPsynB': 1.0, 'ATPsynD': 1.0, 'ATPsynE': 1.0, 'ATPsynF': 1.0, 'ATPsynG': 1.0, 'ATPsynGL': 1.0, 'ATPsynCF6': 1.0, 'ATPsynCF6L': 1.0, 'ATPsynC': 1.0, 'ATPsynO': 1.0, 'CG10731': 1.0, 'CIA30': 1.0, 'Cyt-c-p': 1.0, 'Cyt-c-d': 1.0, 'CG31648': 1.0, 'CG9065': 1.0, 'CG6404': 1.0, 'wal': 1.0, 'CG7834': 1.0, 'Etf-QO': 1.0, 'CG5037': 1.0, 'Scox': 1.0, 'Surf1': 1.0}>)"
      ]
     },
     "execution_count": 7,
     "metadata": {},
     "output_type": "execute_result"
    }
   ],
   "source": [
    "from pyscenic.genesig import GeneSignature\n",
    "\n",
    "with open(GENE_SIGNATURE_FNAME, 'r') as f:\n",
    "    gs = GeneSignature('oxphos_mitocomp2', 'FlyBase', [line.strip() for line in f])\n",
    "    \n",
    "gs"
   ]
  },
  {
   "cell_type": "code",
   "execution_count": null,
   "metadata": {},
   "outputs": [],
   "source": [
    "import pandas as pd\n",
    "from pyscenic.aucell import create_rankings, enrichment\n",
    "\n",
    "ex_matrix = pd.read_csv(EXPRESSION_MTX_FNAME, sep='\\t', header=0, index_col=0)\n",
    "rnk_mtx = create_rankings(ex_matrix)\n",
    "aucs = enrichment(rnk_mtx, gs, rank_threshold=1200)\n",
    "\n",
    "aucs"
   ]
  },
  {
   "cell_type": "code",
   "execution_count": null,
   "metadata": {},
   "outputs": [],
   "source": []
  }
 ],
 "metadata": {
  "kernelspec": {
   "display_name": "Python 3.6.2 (pyscenic_dev)",
   "language": "python",
   "name": "pyscenic_dev"
  },
  "language_info": {
   "codemirror_mode": {
    "name": "ipython",
    "version": 3
   },
   "file_extension": ".py",
   "mimetype": "text/x-python",
   "name": "python",
   "nbconvert_exporter": "python",
   "pygments_lexer": "ipython3",
   "version": "3.6.2"
  }
 },
 "nbformat": 4,
 "nbformat_minor": 2
}
