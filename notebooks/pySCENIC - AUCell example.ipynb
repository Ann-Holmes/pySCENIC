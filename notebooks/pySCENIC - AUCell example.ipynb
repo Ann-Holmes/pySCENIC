{
 "cells": [
  {
   "cell_type": "markdown",
   "metadata": {},
   "source": [
    "__Author:__ Bram Van de Sande\n",
    "\n",
    "__Date:__ 8 MAR 2018\n",
    "\n",
    "__Outline:__ Run AUCell on a single gene signature."
   ]
  },
  {
   "cell_type": "markdown",
   "metadata": {},
   "source": [
    "## Example 1: One gene signature in a one gene per line format"
   ]
  },
  {
   "cell_type": "code",
   "execution_count": 11,
   "metadata": {},
   "outputs": [],
   "source": [
    "GENE_SIGNATURE_FNAME = 'oxphos_mitocomp2_genes.tsv'\n",
    "EXPRESSION_MTX_FNAME = '' # Gene expression as (cell, gene) - matrix."
   ]
  },
  {
   "cell_type": "code",
   "execution_count": null,
   "metadata": {},
   "outputs": [],
   "source": [
    "from pyscenic.genesig import GeneSignature\n",
    "import os\n",
    "\n",
    "with open(GENE_SIGNATURE_FNAME, 'r') as f:\n",
    "    # Skip first line because it contains the name of the signature\n",
    "    gs = GeneSignature('Gene Signature #1', \n",
    "                       'FlyBase', \n",
    "                       [line.strip() for idx, line in enumerate(f) if idx > 0])"
   ]
  },
  {
   "cell_type": "code",
   "execution_count": null,
   "metadata": {},
   "outputs": [],
   "source": [
    "import pandas as pd\n",
    "from pyscenic.aucell import create_rankings, enrichment\n",
    "\n",
    "ex_matrix = pd.read_csv(EXPRESSION_MTX_FNAME, sep='\\t', header=0, index_col=0)\n",
    "rnk_mtx = create_rankings(ex_matrix)\n",
    "aucs = enrichment(rnk_mtx, gs, rank_threshold=1200)\n",
    "\n",
    "aucs"
   ]
  },
  {
   "cell_type": "markdown",
   "metadata": {},
   "source": [
    "## Example 2: Gene signatures from a GMT gile"
   ]
  },
  {
   "cell_type": "code",
   "execution_count": null,
   "metadata": {},
   "outputs": [],
   "source": [
    "GMT_FNAME = ''\n",
    "EXPRESSION_MTX_FNAME = '' # Gene expression as (cell, gene) - matrix."
   ]
  },
  {
   "cell_type": "code",
   "execution_count": 9,
   "metadata": {},
   "outputs": [],
   "source": [
    "from pyscenic.genesig import GeneSignature\n",
    "\n",
    "signatures = GeneSignature.from_gmt(GMT_FNAME, 'HGNC', field_separator='\\t', gene_separator='\\t')"
   ]
  },
  {
   "cell_type": "code",
   "execution_count": null,
   "metadata": {},
   "outputs": [],
   "source": [
    "from pyscenic.aucell import create_rankings, enrichment\n",
    "import pandas as pd\n",
    "import seaborn as sns\n",
    "\n",
    "ex_matrix = pd.read_csv(EXPRESSION_MTX_FNAME, sep='\\t', header=0, index_col=0)\n",
    "rnk_mtx = create_rankings(ex_matrix)\n",
    "auc_mtx = pd.concat([enrichment(rnk_mtx, signature, rank_threshold=1200) for signature in signatures]).unstack(\"Regulome\")\n",
    "auc_mtx.columns = aucs_mtx.colums.droplevel(0)\n",
    "\n",
    "sns.clustermap(auc_mtx, figsize=(12,12))"
   ]
  }
 ],
 "metadata": {
  "kernelspec": {
   "display_name": "Python 3.6.2 (pyscenic_dev)",
   "language": "python",
   "name": "pyscenic_dev"
  },
  "language_info": {
   "codemirror_mode": {
    "name": "ipython",
    "version": 3
   },
   "file_extension": ".py",
   "mimetype": "text/x-python",
   "name": "python",
   "nbconvert_exporter": "python",
   "pygments_lexer": "ipython3",
   "version": "3.6.2"
  }
 },
 "nbformat": 4,
 "nbformat_minor": 2
}
