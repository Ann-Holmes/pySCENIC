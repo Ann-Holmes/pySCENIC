{
 "cells": [
  {
   "cell_type": "markdown",
   "metadata": {},
   "source": [
    "##### __Author:__ Bram Van de Sande\n",
    "\n",
    "__Date:__ 6 MAR 2018\n",
    "\n",
    "__Outline:__ Tutorial on how to run the full SCENIC pipeline using the python implementation (i.e. pyscenic).\n",
    "\n",
    "For this notebook 3005 single cell transcriptomes taken from the mouse brain (somatosensory cortex and hippocampal regions) are used as an example.\n",
    "\n",
    "> A. Zeisel, A. B. M͡oz-Manchado, S. Codeluppi, P. Lönnerberg, G. L. Manno, A. Juréus, S. Marques, H. Munguba, L. He, C. Betsholtz, C. Rolny, G. Castelo-Branco, J. Hjerling-Leffler, and S. Linnarsson, “Cell types in the mouse cortex and hippocampus revealed by single-cell RNA-seq,” Science, vol. 347, no. 6226, pp. 1138–1142, Mar. 2015."
   ]
  },
  {
   "cell_type": "code",
   "execution_count": 1,
   "metadata": {},
   "outputs": [],
   "source": [
    "import pandas as pd\n",
    "import numpy as np\n",
    "import os, glob\n",
    "\n",
    "from arboretum.utils import load_tf_names\n",
    "from arboretum.algo import grnboost2\n",
    "\n",
    "from pyscenic.rnkdb import FeatherRankingDatabase as RankingDatabase, convert2feather\n",
    "from pyscenic.utils import add_correlation, modules_from_genie3, save_to_yaml\n",
    "from pyscenic.prune import prune2df, prune, df2regulomes\n",
    "from pyscenic.aucell import create_rankings, enrichment\n",
    "\n",
    "import seaborn as sns"
   ]
  },
  {
   "cell_type": "code",
   "execution_count": 2,
   "metadata": {},
   "outputs": [],
   "source": [
    "DATA_FOLDER=\"/Users/bramvandesande/Projects/lcb/tmp\"\n",
    "RESOURCES_FOLDER=\"/Users/bramvandesande/Projects/lcb/resources\"\n",
    "DATABASE_FOLDER = \"/Users/bramvandesande/Projects/lcb/databases/\"\n",
    "\n",
    "SQLITE_GLOB = os.path.join(DATABASE_FOLDER, \"mm9-*.mc9nr.db\")\n",
    "FEATHER_GLOB = os.path.join(DATABASE_FOLDER, \"mm9-*.mc9nr.feather\")\n",
    "\n",
    "MOTIF_ANNOTATIONS_FNAME = os.path.join(RESOURCES_FOLDER, \"motifs-v9-nr.mgi-m0.001-o0.0.tbl\")\n",
    "MM_TFS_FNAME = os.path.join(RESOURCES_FOLDER, 'mm_tfs.txt')\n",
    "SC_EXP_FNAME = os.path.join(RESOURCES_FOLDER, \"GSE60361_C1-3005-Expression.txt\")\n",
    "\n",
    "NOMENCLATURE = \"MGI\"\n",
    "\n",
    "ADJACENCIES_FNAME = os.path.join(DATA_FOLDER, \"adjacencies.tsv\")\n",
    "MODULES_FNAME = os.path.join(DATA_FOLDER, \"modules.yaml\")\n",
    "REGULOMES_FNAME = os.path.join(DATA_FOLDER, \"regulomes.yaml\")"
   ]
  },
  {
   "cell_type": "markdown",
   "metadata": {},
   "source": [
    "# Preliminary work"
   ]
  },
  {
   "cell_type": "markdown",
   "metadata": {},
   "source": [
    "### Load the expression matrix"
   ]
  },
  {
   "cell_type": "markdown",
   "metadata": {},
   "source": [
    "The scRNA-Seq data is downloaded from GEO: https://www.ncbi.nlm.nih.gov/geo/query/acc.cgi?acc=GSE60361 ."
   ]
  },
  {
   "cell_type": "code",
   "execution_count": 3,
   "metadata": {},
   "outputs": [],
   "source": [
    "ex_matrix = pd.read_csv(SC_EXP_FNAME, sep='\\t', header=0, index_col=0)"
   ]
  },
  {
   "cell_type": "markdown",
   "metadata": {},
   "source": [
    "Remove duplicate genes."
   ]
  },
  {
   "cell_type": "code",
   "execution_count": 4,
   "metadata": {},
   "outputs": [],
   "source": [
    "ex_matrix = ex_matrix[~ex_matrix.index.duplicated(keep='first')]"
   ]
  },
  {
   "cell_type": "code",
   "execution_count": 5,
   "metadata": {},
   "outputs": [
    {
     "data": {
      "text/html": [
       "<div>\n",
       "<style scoped>\n",
       "    .dataframe tbody tr th:only-of-type {\n",
       "        vertical-align: middle;\n",
       "    }\n",
       "\n",
       "    .dataframe tbody tr th {\n",
       "        vertical-align: top;\n",
       "    }\n",
       "\n",
       "    .dataframe thead th {\n",
       "        text-align: right;\n",
       "    }\n",
       "</style>\n",
       "<table border=\"1\" class=\"dataframe\">\n",
       "  <thead>\n",
       "    <tr style=\"text-align: right;\">\n",
       "      <th></th>\n",
       "      <th>1772071015_C02</th>\n",
       "      <th>1772071017_G12</th>\n",
       "      <th>1772071017_A05</th>\n",
       "      <th>1772071014_B06</th>\n",
       "      <th>1772067065_H06</th>\n",
       "      <th>1772071017_E02</th>\n",
       "      <th>1772067065_B07</th>\n",
       "      <th>1772067060_B09</th>\n",
       "      <th>1772071014_E04</th>\n",
       "      <th>1772071015_D04</th>\n",
       "      <th>...</th>\n",
       "      <th>1772066110_D12</th>\n",
       "      <th>1772071017_A07</th>\n",
       "      <th>1772063071_G10</th>\n",
       "      <th>1772058148_C03</th>\n",
       "      <th>1772063061_D09</th>\n",
       "      <th>1772067059_B04</th>\n",
       "      <th>1772066097_D04</th>\n",
       "      <th>1772063068_D01</th>\n",
       "      <th>1772066098_A12</th>\n",
       "      <th>1772058148_F03</th>\n",
       "    </tr>\n",
       "    <tr>\n",
       "      <th>cell_id</th>\n",
       "      <th></th>\n",
       "      <th></th>\n",
       "      <th></th>\n",
       "      <th></th>\n",
       "      <th></th>\n",
       "      <th></th>\n",
       "      <th></th>\n",
       "      <th></th>\n",
       "      <th></th>\n",
       "      <th></th>\n",
       "      <th></th>\n",
       "      <th></th>\n",
       "      <th></th>\n",
       "      <th></th>\n",
       "      <th></th>\n",
       "      <th></th>\n",
       "      <th></th>\n",
       "      <th></th>\n",
       "      <th></th>\n",
       "      <th></th>\n",
       "      <th></th>\n",
       "    </tr>\n",
       "  </thead>\n",
       "  <tbody>\n",
       "    <tr>\n",
       "      <th>Tspan12</th>\n",
       "      <td>0</td>\n",
       "      <td>0</td>\n",
       "      <td>0</td>\n",
       "      <td>3</td>\n",
       "      <td>0</td>\n",
       "      <td>0</td>\n",
       "      <td>3</td>\n",
       "      <td>0</td>\n",
       "      <td>0</td>\n",
       "      <td>0</td>\n",
       "      <td>...</td>\n",
       "      <td>0</td>\n",
       "      <td>0</td>\n",
       "      <td>0</td>\n",
       "      <td>0</td>\n",
       "      <td>0</td>\n",
       "      <td>0</td>\n",
       "      <td>0</td>\n",
       "      <td>0</td>\n",
       "      <td>0</td>\n",
       "      <td>1</td>\n",
       "    </tr>\n",
       "    <tr>\n",
       "      <th>Tshz1</th>\n",
       "      <td>3</td>\n",
       "      <td>1</td>\n",
       "      <td>0</td>\n",
       "      <td>2</td>\n",
       "      <td>2</td>\n",
       "      <td>2</td>\n",
       "      <td>2</td>\n",
       "      <td>1</td>\n",
       "      <td>0</td>\n",
       "      <td>2</td>\n",
       "      <td>...</td>\n",
       "      <td>0</td>\n",
       "      <td>0</td>\n",
       "      <td>0</td>\n",
       "      <td>0</td>\n",
       "      <td>0</td>\n",
       "      <td>0</td>\n",
       "      <td>0</td>\n",
       "      <td>0</td>\n",
       "      <td>0</td>\n",
       "      <td>1</td>\n",
       "    </tr>\n",
       "    <tr>\n",
       "      <th>Fnbp1l</th>\n",
       "      <td>3</td>\n",
       "      <td>1</td>\n",
       "      <td>6</td>\n",
       "      <td>4</td>\n",
       "      <td>1</td>\n",
       "      <td>2</td>\n",
       "      <td>1</td>\n",
       "      <td>0</td>\n",
       "      <td>5</td>\n",
       "      <td>2</td>\n",
       "      <td>...</td>\n",
       "      <td>0</td>\n",
       "      <td>0</td>\n",
       "      <td>0</td>\n",
       "      <td>0</td>\n",
       "      <td>0</td>\n",
       "      <td>0</td>\n",
       "      <td>0</td>\n",
       "      <td>0</td>\n",
       "      <td>0</td>\n",
       "      <td>0</td>\n",
       "    </tr>\n",
       "    <tr>\n",
       "      <th>Adamts15</th>\n",
       "      <td>0</td>\n",
       "      <td>0</td>\n",
       "      <td>0</td>\n",
       "      <td>0</td>\n",
       "      <td>0</td>\n",
       "      <td>0</td>\n",
       "      <td>0</td>\n",
       "      <td>0</td>\n",
       "      <td>0</td>\n",
       "      <td>0</td>\n",
       "      <td>...</td>\n",
       "      <td>0</td>\n",
       "      <td>0</td>\n",
       "      <td>0</td>\n",
       "      <td>0</td>\n",
       "      <td>0</td>\n",
       "      <td>0</td>\n",
       "      <td>0</td>\n",
       "      <td>0</td>\n",
       "      <td>0</td>\n",
       "      <td>0</td>\n",
       "    </tr>\n",
       "    <tr>\n",
       "      <th>Cldn12</th>\n",
       "      <td>1</td>\n",
       "      <td>1</td>\n",
       "      <td>1</td>\n",
       "      <td>0</td>\n",
       "      <td>0</td>\n",
       "      <td>0</td>\n",
       "      <td>0</td>\n",
       "      <td>0</td>\n",
       "      <td>2</td>\n",
       "      <td>3</td>\n",
       "      <td>...</td>\n",
       "      <td>0</td>\n",
       "      <td>0</td>\n",
       "      <td>0</td>\n",
       "      <td>0</td>\n",
       "      <td>0</td>\n",
       "      <td>0</td>\n",
       "      <td>0</td>\n",
       "      <td>0</td>\n",
       "      <td>0</td>\n",
       "      <td>0</td>\n",
       "    </tr>\n",
       "  </tbody>\n",
       "</table>\n",
       "<p>5 rows × 3005 columns</p>\n",
       "</div>"
      ],
      "text/plain": [
       "          1772071015_C02  1772071017_G12  1772071017_A05  1772071014_B06  \\\n",
       "cell_id                                                                    \n",
       "Tspan12                0               0               0               3   \n",
       "Tshz1                  3               1               0               2   \n",
       "Fnbp1l                 3               1               6               4   \n",
       "Adamts15               0               0               0               0   \n",
       "Cldn12                 1               1               1               0   \n",
       "\n",
       "          1772067065_H06  1772071017_E02  1772067065_B07  1772067060_B09  \\\n",
       "cell_id                                                                    \n",
       "Tspan12                0               0               3               0   \n",
       "Tshz1                  2               2               2               1   \n",
       "Fnbp1l                 1               2               1               0   \n",
       "Adamts15               0               0               0               0   \n",
       "Cldn12                 0               0               0               0   \n",
       "\n",
       "          1772071014_E04  1772071015_D04       ...        1772066110_D12  \\\n",
       "cell_id                                        ...                         \n",
       "Tspan12                0               0       ...                     0   \n",
       "Tshz1                  0               2       ...                     0   \n",
       "Fnbp1l                 5               2       ...                     0   \n",
       "Adamts15               0               0       ...                     0   \n",
       "Cldn12                 2               3       ...                     0   \n",
       "\n",
       "          1772071017_A07  1772063071_G10  1772058148_C03  1772063061_D09  \\\n",
       "cell_id                                                                    \n",
       "Tspan12                0               0               0               0   \n",
       "Tshz1                  0               0               0               0   \n",
       "Fnbp1l                 0               0               0               0   \n",
       "Adamts15               0               0               0               0   \n",
       "Cldn12                 0               0               0               0   \n",
       "\n",
       "          1772067059_B04  1772066097_D04  1772063068_D01  1772066098_A12  \\\n",
       "cell_id                                                                    \n",
       "Tspan12                0               0               0               0   \n",
       "Tshz1                  0               0               0               0   \n",
       "Fnbp1l                 0               0               0               0   \n",
       "Adamts15               0               0               0               0   \n",
       "Cldn12                 0               0               0               0   \n",
       "\n",
       "          1772058148_F03  \n",
       "cell_id                   \n",
       "Tspan12                1  \n",
       "Tshz1                  1  \n",
       "Fnbp1l                 0  \n",
       "Adamts15               0  \n",
       "Cldn12                 0  \n",
       "\n",
       "[5 rows x 3005 columns]"
      ]
     },
     "execution_count": 5,
     "metadata": {},
     "output_type": "execute_result"
    }
   ],
   "source": [
    "ex_matrix.head()"
   ]
  },
  {
   "cell_type": "code",
   "execution_count": 6,
   "metadata": {},
   "outputs": [
    {
     "data": {
      "text/plain": [
       "(19970, 3005)"
      ]
     },
     "execution_count": 6,
     "metadata": {},
     "output_type": "execute_result"
    }
   ],
   "source": [
    "ex_matrix.shape"
   ]
  },
  {
   "cell_type": "markdown",
   "metadata": {},
   "source": [
    "_Caveat: Either the raw counts can be used, or a `log2(count+1)` transformation can be used._"
   ]
  },
  {
   "cell_type": "markdown",
   "metadata": {},
   "source": [
    "### Derive list of Transcription Factors(TF) for _Mus musculus_"
   ]
  },
  {
   "cell_type": "markdown",
   "metadata": {},
   "source": [
    "List of known TFs for Mm was prepared (cf. notebook)."
   ]
  },
  {
   "cell_type": "code",
   "execution_count": 7,
   "metadata": {},
   "outputs": [],
   "source": [
    "tf_names = load_tf_names(MM_TFS_FNAME)"
   ]
  },
  {
   "cell_type": "markdown",
   "metadata": {},
   "source": [
    "### Load ranking databases\n",
    "\n",
    "Make databases in feather format are available."
   ]
  },
  {
   "cell_type": "code",
   "execution_count": 8,
   "metadata": {},
   "outputs": [],
   "source": [
    "if False:\n",
    "    def derive_db_name(fname):\n",
    "        return os.path.basename(fname).split(\".\")[0]\n",
    "\n",
    "    from pyscenic.rnkdb import convert2feather\n",
    "    \n",
    "    for fname in glob.glob(SQLITE_GLOB):\n",
    "        convert2feather(fname, DATABASE_FOLDER, derive_db_name(fname), NOMENCLATURE)"
   ]
  },
  {
   "cell_type": "code",
   "execution_count": 9,
   "metadata": {},
   "outputs": [],
   "source": [
    "db_fnames = glob.glob(FEATHER_GLOB)\n",
    "def name(fname):\n",
    "    return os.path.basename(fname).split(\".\")[0]\n",
    "dbs = [RankingDatabase(fname=fname, name=name(fname), nomenclature=\"MGI\") for fname in db_fnames]"
   ]
  },
  {
   "cell_type": "code",
   "execution_count": 10,
   "metadata": {},
   "outputs": [
    {
     "data": {
      "text/plain": [
       "[FeatherRankingDatabase(name=\"mm9-tss-centered-10kb-10species\",nomenclature=MGI),\n",
       " FeatherRankingDatabase(name=\"mm9-500bp-upstream-7species\",nomenclature=MGI),\n",
       " FeatherRankingDatabase(name=\"mm9-500bp-upstream-10species\",nomenclature=MGI),\n",
       " FeatherRankingDatabase(name=\"mm9-tss-centered-5kb-10species\",nomenclature=MGI),\n",
       " FeatherRankingDatabase(name=\"mm9-tss-centered-10kb-7species\",nomenclature=MGI),\n",
       " FeatherRankingDatabase(name=\"mm9-tss-centered-5kb-7species\",nomenclature=MGI)]"
      ]
     },
     "execution_count": 10,
     "metadata": {},
     "output_type": "execute_result"
    }
   ],
   "source": [
    "dbs"
   ]
  },
  {
   "cell_type": "markdown",
   "metadata": {},
   "source": [
    "# Phase I: Inference of co-expression modules\n",
    "\n",
    "In the initial phase of the pySCENIC pipeline the single cell expression profiles are used to infer co-expression modules from."
   ]
  },
  {
   "cell_type": "markdown",
   "metadata": {},
   "source": [
    "### Run GRNboost from `arboretum` to infer co-expression modules\n",
    "\n",
    "The arboretum package is used for this phase of the pipeline. For this notebook only a sample of 1,000 cells is used for the co-expression module inference is used."
   ]
  },
  {
   "cell_type": "code",
   "execution_count": 11,
   "metadata": {},
   "outputs": [],
   "source": [
    "N_SAMPLES = 500"
   ]
  },
  {
   "cell_type": "code",
   "execution_count": null,
   "metadata": {},
   "outputs": [
    {
     "name": "stdout",
     "output_type": "stream",
     "text": [
      "preparing dask client\n",
      "parsing input\n",
      "creating dask graph\n",
      "computing dask graph\n"
     ]
    }
   ],
   "source": [
    "adjancencies = grnboost2(expression_data=ex_matrix.T.sample(n=N_SAMPLES, replace=False),\n",
    "                    tf_names=tf_names, verbose=True)"
   ]
  },
  {
   "cell_type": "code",
   "execution_count": 19,
   "metadata": {},
   "outputs": [
    {
     "data": {
      "text/html": [
       "<div>\n",
       "<style scoped>\n",
       "    .dataframe tbody tr th:only-of-type {\n",
       "        vertical-align: middle;\n",
       "    }\n",
       "\n",
       "    .dataframe tbody tr th {\n",
       "        vertical-align: top;\n",
       "    }\n",
       "\n",
       "    .dataframe thead th {\n",
       "        text-align: right;\n",
       "    }\n",
       "</style>\n",
       "<table border=\"1\" class=\"dataframe\">\n",
       "  <thead>\n",
       "    <tr style=\"text-align: right;\">\n",
       "      <th></th>\n",
       "      <th>TF</th>\n",
       "      <th>target</th>\n",
       "      <th>importance</th>\n",
       "    </tr>\n",
       "  </thead>\n",
       "  <tbody>\n",
       "    <tr>\n",
       "      <th>35</th>\n",
       "      <td>Rpl7</td>\n",
       "      <td>Rpl34-ps1</td>\n",
       "      <td>86.119870</td>\n",
       "    </tr>\n",
       "    <tr>\n",
       "      <th>172</th>\n",
       "      <td>Olig1</td>\n",
       "      <td>Cnp</td>\n",
       "      <td>70.127927</td>\n",
       "    </tr>\n",
       "    <tr>\n",
       "      <th>172</th>\n",
       "      <td>Olig1</td>\n",
       "      <td>Tspan2</td>\n",
       "      <td>69.595029</td>\n",
       "    </tr>\n",
       "    <tr>\n",
       "      <th>155</th>\n",
       "      <td>Neurod6</td>\n",
       "      <td>Hpca</td>\n",
       "      <td>68.236759</td>\n",
       "    </tr>\n",
       "    <tr>\n",
       "      <th>172</th>\n",
       "      <td>Olig1</td>\n",
       "      <td>Cers2</td>\n",
       "      <td>67.195168</td>\n",
       "    </tr>\n",
       "  </tbody>\n",
       "</table>\n",
       "</div>"
      ],
      "text/plain": [
       "          TF     target  importance\n",
       "35      Rpl7  Rpl34-ps1   86.119870\n",
       "172    Olig1        Cnp   70.127927\n",
       "172    Olig1     Tspan2   69.595029\n",
       "155  Neurod6       Hpca   68.236759\n",
       "172    Olig1      Cers2   67.195168"
      ]
     },
     "execution_count": 19,
     "metadata": {},
     "output_type": "execute_result"
    }
   ],
   "source": [
    "adjancencies.head()"
   ]
  },
  {
   "cell_type": "code",
   "execution_count": 27,
   "metadata": {},
   "outputs": [
    {
     "data": {
      "text/plain": [
       "4109019"
      ]
     },
     "execution_count": 27,
     "metadata": {},
     "output_type": "execute_result"
    }
   ],
   "source": [
    "len(adjancencies)"
   ]
  },
  {
   "cell_type": "code",
   "execution_count": 28,
   "metadata": {},
   "outputs": [],
   "source": [
    "adjancencies.to_csv(ADJACENCIES_FNAME, index=False, sep='\\t')"
   ]
  },
  {
   "cell_type": "markdown",
   "metadata": {},
   "source": [
    "### Derive potential regulomes from these co-expression modules"
   ]
  },
  {
   "cell_type": "markdown",
   "metadata": {},
   "source": [
    "Relationship between TF and its target, i.e. activator or repressor, is derived using the original expression profiles. The Pearson product-moment correlation coefficient is used to derive this information."
   ]
  },
  {
   "cell_type": "code",
   "execution_count": null,
   "metadata": {},
   "outputs": [],
   "source": [
    "adjancencies = add_correlation(adjancencies, ex_matrix)"
   ]
  },
  {
   "cell_type": "markdown",
   "metadata": {},
   "source": [
    "The first method to create the TF-modules is to select the best targets for each transcription factor:\n",
    "1. Targets with weight > 0.001\n",
    "1. Targets with weight > 0.005\n",
    "\n",
    "The second method is to select the top targets for a given TF:\n",
    "1. Top 50 targets (targets with highest weight)\n",
    "\n",
    "The alternative way to create the TF-modules is to select the best regulators for each gene (this is actually how GENIE3 internally works). Then, these targets can be assigned back to each TF to form the TF-modules. In this way we will create three more gene-sets:\n",
    "1. Targets for which the TF is within its top 5 regulators\n",
    "1. Targets for which the TF is within its top 10 regulators\n",
    "1. Targets for which the TF is within its top 50 regulators"
   ]
  },
  {
   "cell_type": "code",
   "execution_count": null,
   "metadata": {},
   "outputs": [],
   "source": [
    "modules = list(modules_from_genie3(adjacencies[adjacencies['correlation'] > 0.0], NOMENCLATURE))"
   ]
  },
  {
   "cell_type": "markdown",
   "metadata": {},
   "source": [
    "Add the transcription factor to the module."
   ]
  },
  {
   "cell_type": "code",
   "execution_count": null,
   "metadata": {},
   "outputs": [],
   "source": [
    "def add_tf(module):\n",
    "    return module.add(module.transcription_factor)\n",
    "modules = list(map(add_tf, modules))"
   ]
  },
  {
   "cell_type": "markdown",
   "metadata": {},
   "source": [
    "Remove modules that are less than 20 genes."
   ]
  },
  {
   "cell_type": "code",
   "execution_count": null,
   "metadata": {},
   "outputs": [],
   "source": [
    "modules = list(filter(lambda m: len(m) >= 20, modules))"
   ]
  },
  {
   "cell_type": "markdown",
   "metadata": {},
   "source": [
    "_Caveat: in the original SCENIC tutorial the genes that are not part of the whole genome ranking are removed from the signature. For pySCENIC this is not required._"
   ]
  },
  {
   "cell_type": "code",
   "execution_count": null,
   "metadata": {},
   "outputs": [],
   "source": [
    "save_to_yaml(modules, MODULES_FNAME)"
   ]
  },
  {
   "cell_type": "markdown",
   "metadata": {},
   "source": [
    "# Phase II: Prune modules for targets with cis regulatory footprints (aka RcisTarget)"
   ]
  },
  {
   "cell_type": "code",
   "execution_count": null,
   "metadata": {},
   "outputs": [],
   "source": [
    "regulomes = prune(dbs, modules, MOTIF_ANNOTATIONS_FNAME)"
   ]
  },
  {
   "cell_type": "markdown",
   "metadata": {},
   "source": [
    "_Caveat: Inspection of the results is possible via the creation of a dataframe instead of a list of regulomes._"
   ]
  },
  {
   "cell_type": "code",
   "execution_count": null,
   "metadata": {},
   "outputs": [],
   "source": [
    "df = prune2df(dbs, modules, MOTIF_ANNOTATIONS_FNAME)"
   ]
  },
  {
   "cell_type": "code",
   "execution_count": null,
   "metadata": {},
   "outputs": [],
   "source": [
    "regulomes = df2regulomes(df, \"HGNC\")"
   ]
  },
  {
   "cell_type": "markdown",
   "metadata": {},
   "source": [
    "This dataframe can then be converted to regulomes."
   ]
  },
  {
   "cell_type": "code",
   "execution_count": null,
   "metadata": {},
   "outputs": [],
   "source": [
    "save_to_yaml(regulomes, REGULOMES_FNAME)"
   ]
  },
  {
   "cell_type": "markdown",
   "metadata": {},
   "source": [
    "# Phase III: Cellular regulome enrichment matrix (aka AUCell)\n",
    "\n",
    "Characterize the different cells in a single-cell transcriptomics experiment by the enrichment of the regulomes. Enrichment of a regulome is measures as AUC of the recovery curve of the genes that define this regulome."
   ]
  },
  {
   "cell_type": "code",
   "execution_count": null,
   "metadata": {},
   "outputs": [],
   "source": [
    "rnk_mtx = create_rankings(ex_matrix)"
   ]
  },
  {
   "cell_type": "code",
   "execution_count": null,
   "metadata": {},
   "outputs": [],
   "source": [
    "auc_mtx = pd.concat([enrichment(rnk_mtx, regulome) for regulome in regulomes]).unstack(\"Regulome\")"
   ]
  },
  {
   "cell_type": "code",
   "execution_count": null,
   "metadata": {},
   "outputs": [],
   "source": [
    "sns.clustermap(auc_mtx, figsize=(12,12))"
   ]
  },
  {
   "cell_type": "code",
   "execution_count": null,
   "metadata": {},
   "outputs": [],
   "source": []
  }
 ],
 "metadata": {
  "kernelspec": {
   "display_name": "Python 3.6.2 (pyscenic_dev)",
   "language": "python",
   "name": "pyscenic_dev"
  },
  "language_info": {
   "codemirror_mode": {
    "name": "ipython",
    "version": 3
   },
   "file_extension": ".py",
   "mimetype": "text/x-python",
   "name": "python",
   "nbconvert_exporter": "python",
   "pygments_lexer": "ipython3",
   "version": "3.6.2"
  }
 },
 "nbformat": 4,
 "nbformat_minor": 2
}
